{
 "cells": [
  {
   "cell_type": "markdown",
   "metadata": {},
   "source": [
    "# Определение стоимости автомобилей"
   ]
  },
  {
   "cell_type": "markdown",
   "metadata": {},
   "source": [
    "Сервис по продаже автомобилей с пробегом «Не бит, не крашен» разрабатывает приложение для привлечения новых клиентов. В нём можно быстро узнать рыночную стоимость своего автомобиля. В нашем распоряжении исторические данные: технические характеристики, комплектации и цены автомобилей. Необходимо построить модель для определения стоимости. \n",
    "\n",
    "Заказчику важны:\n",
    "\n",
    "- качество предсказания;\n",
    "- скорость предсказания;\n",
    "- время обучения."
   ]
  },
  {
   "cell_type": "markdown",
   "metadata": {},
   "source": [
    "## Подготовка данных"
   ]
  },
  {
   "cell_type": "code",
   "execution_count": 1,
   "metadata": {},
   "outputs": [],
   "source": [
    "import pandas as pd\n",
    "from statistics import mode\n",
    "import time\n",
    "import numpy as np\n",
    "import lightgbm as lgb\n",
    "import warnings \n",
    "warnings.filterwarnings('ignore')\n",
    "\n",
    "from sklearn.model_selection import train_test_split\n",
    "from sklearn.ensemble import RandomForestRegressor\n",
    "from sklearn.tree import DecisionTreeRegressor\n",
    "from sklearn.preprocessing import StandardScaler\n",
    "from sklearn.preprocessing import OrdinalEncoder\n",
    "from sklearn.metrics import mean_squared_error\n",
    "from sklearn.model_selection import GridSearchCV\n",
    "from sklearn.metrics import make_scorer"
   ]
  },
  {
   "cell_type": "code",
   "execution_count": 2,
   "metadata": {},
   "outputs": [],
   "source": [
    "try:\n",
    "    df = pd.read_csv('/Users/pavelfedorov/Portfolio/Project7/autos.csv')\n",
    "except:\n",
    "    df = pd.read_csv('/datasets/autos.csv')"
   ]
  },
  {
   "cell_type": "code",
   "execution_count": 3,
   "metadata": {},
   "outputs": [
    {
     "data": {
      "text/html": [
       "<div>\n",
       "<style scoped>\n",
       "    .dataframe tbody tr th:only-of-type {\n",
       "        vertical-align: middle;\n",
       "    }\n",
       "\n",
       "    .dataframe tbody tr th {\n",
       "        vertical-align: top;\n",
       "    }\n",
       "\n",
       "    .dataframe thead th {\n",
       "        text-align: right;\n",
       "    }\n",
       "</style>\n",
       "<table border=\"1\" class=\"dataframe\">\n",
       "  <thead>\n",
       "    <tr style=\"text-align: right;\">\n",
       "      <th></th>\n",
       "      <th>DateCrawled</th>\n",
       "      <th>Price</th>\n",
       "      <th>VehicleType</th>\n",
       "      <th>RegistrationYear</th>\n",
       "      <th>Gearbox</th>\n",
       "      <th>Power</th>\n",
       "      <th>Model</th>\n",
       "      <th>Kilometer</th>\n",
       "      <th>RegistrationMonth</th>\n",
       "      <th>FuelType</th>\n",
       "      <th>Brand</th>\n",
       "      <th>Repaired</th>\n",
       "      <th>DateCreated</th>\n",
       "      <th>NumberOfPictures</th>\n",
       "      <th>PostalCode</th>\n",
       "      <th>LastSeen</th>\n",
       "    </tr>\n",
       "  </thead>\n",
       "  <tbody>\n",
       "    <tr>\n",
       "      <th>0</th>\n",
       "      <td>2016-03-24 11:52:17</td>\n",
       "      <td>480</td>\n",
       "      <td>NaN</td>\n",
       "      <td>1993</td>\n",
       "      <td>manual</td>\n",
       "      <td>0</td>\n",
       "      <td>golf</td>\n",
       "      <td>150000</td>\n",
       "      <td>0</td>\n",
       "      <td>petrol</td>\n",
       "      <td>volkswagen</td>\n",
       "      <td>NaN</td>\n",
       "      <td>2016-03-24 00:00:00</td>\n",
       "      <td>0</td>\n",
       "      <td>70435</td>\n",
       "      <td>2016-04-07 03:16:57</td>\n",
       "    </tr>\n",
       "    <tr>\n",
       "      <th>1</th>\n",
       "      <td>2016-03-24 10:58:45</td>\n",
       "      <td>18300</td>\n",
       "      <td>coupe</td>\n",
       "      <td>2011</td>\n",
       "      <td>manual</td>\n",
       "      <td>190</td>\n",
       "      <td>NaN</td>\n",
       "      <td>125000</td>\n",
       "      <td>5</td>\n",
       "      <td>gasoline</td>\n",
       "      <td>audi</td>\n",
       "      <td>yes</td>\n",
       "      <td>2016-03-24 00:00:00</td>\n",
       "      <td>0</td>\n",
       "      <td>66954</td>\n",
       "      <td>2016-04-07 01:46:50</td>\n",
       "    </tr>\n",
       "  </tbody>\n",
       "</table>\n",
       "</div>"
      ],
      "text/plain": [
       "           DateCrawled  Price VehicleType  RegistrationYear Gearbox  Power  \\\n",
       "0  2016-03-24 11:52:17    480         NaN              1993  manual      0   \n",
       "1  2016-03-24 10:58:45  18300       coupe              2011  manual    190   \n",
       "\n",
       "  Model  Kilometer  RegistrationMonth  FuelType       Brand Repaired  \\\n",
       "0  golf     150000                  0    petrol  volkswagen      NaN   \n",
       "1   NaN     125000                  5  gasoline        audi      yes   \n",
       "\n",
       "           DateCreated  NumberOfPictures  PostalCode             LastSeen  \n",
       "0  2016-03-24 00:00:00                 0       70435  2016-04-07 03:16:57  \n",
       "1  2016-03-24 00:00:00                 0       66954  2016-04-07 01:46:50  "
      ]
     },
     "execution_count": 3,
     "metadata": {},
     "output_type": "execute_result"
    }
   ],
   "source": [
    "df.head(2)"
   ]
  },
  {
   "cell_type": "code",
   "execution_count": 4,
   "metadata": {},
   "outputs": [
    {
     "name": "stdout",
     "output_type": "stream",
     "text": [
      "<class 'pandas.core.frame.DataFrame'>\n",
      "RangeIndex: 354369 entries, 0 to 354368\n",
      "Data columns (total 16 columns):\n",
      " #   Column             Non-Null Count   Dtype \n",
      "---  ------             --------------   ----- \n",
      " 0   DateCrawled        354369 non-null  object\n",
      " 1   Price              354369 non-null  int64 \n",
      " 2   VehicleType        316879 non-null  object\n",
      " 3   RegistrationYear   354369 non-null  int64 \n",
      " 4   Gearbox            334536 non-null  object\n",
      " 5   Power              354369 non-null  int64 \n",
      " 6   Model              334664 non-null  object\n",
      " 7   Kilometer          354369 non-null  int64 \n",
      " 8   RegistrationMonth  354369 non-null  int64 \n",
      " 9   FuelType           321474 non-null  object\n",
      " 10  Brand              354369 non-null  object\n",
      " 11  Repaired           283215 non-null  object\n",
      " 12  DateCreated        354369 non-null  object\n",
      " 13  NumberOfPictures   354369 non-null  int64 \n",
      " 14  PostalCode         354369 non-null  int64 \n",
      " 15  LastSeen           354369 non-null  object\n",
      "dtypes: int64(7), object(9)\n",
      "memory usage: 43.3+ MB\n"
     ]
    }
   ],
   "source": [
    "df.info()"
   ]
  },
  {
   "cell_type": "markdown",
   "metadata": {},
   "source": [
    "Посмотрим в каких столбцах есть пропуски"
   ]
  },
  {
   "cell_type": "code",
   "execution_count": 5,
   "metadata": {
    "scrolled": true
   },
   "outputs": [
    {
     "data": {
      "text/plain": [
       "Repaired       20.079070\n",
       "VehicleType    10.579368\n",
       "FuelType        9.282697\n",
       "Gearbox         5.596709\n",
       "Model           5.560588\n",
       "DateCrawled     0.000000\n",
       "dtype: float64"
      ]
     },
     "execution_count": 5,
     "metadata": {},
     "output_type": "execute_result"
    }
   ],
   "source": [
    "df.isna().sum().sort_values(ascending = False).head(6)/df.shape[0] * 100"
   ]
  },
  {
   "cell_type": "markdown",
   "metadata": {},
   "source": [
    "Как мы видим пропуски имеются в столбцах VehicleType - 10.58%, Gearbox - 5.6%, Model - 5.56%, FuelType - 9.28%, Repaired - 20.08%. Наибольшее количество пропусков в графе чинилась ли машина или нет (видимо клиенты не хотят отвечать на этот вопрос, более вероятно, что машина чинилась, но также человек мог забыть заполнить эту графу или другие причины незаполнения)\n",
    "\n",
    "С начала избалюсь от аномалий, после вернусь к пропускам."
   ]
  },
  {
   "cell_type": "code",
   "execution_count": 6,
   "metadata": {},
   "outputs": [],
   "source": [
    "df = df[0:10000]"
   ]
  },
  {
   "cell_type": "code",
   "execution_count": 7,
   "metadata": {
    "scrolled": false
   },
   "outputs": [
    {
     "data": {
      "text/plain": [
       "<AxesSubplot:>"
      ]
     },
     "execution_count": 7,
     "metadata": {},
     "output_type": "execute_result"
    },
    {
     "data": {
      "image/png": "[encoded data removed]",
      "text/plain": [
       "<Figure size 936x648 with 1 Axes>"
      ]
     },
     "metadata": {
      "needs_background": "light"
     },
     "output_type": "display_data"
    }
   ],
   "source": [
    "df.boxplot(column = 'RegistrationYear',figsize = (13,9))"
   ]
  },
  {
   "cell_type": "markdown",
   "metadata": {},
   "source": [
    "В дате регистрации авто, есть значения которые точно не соотвествуют данной графе, удалим их и посмотрим еще раз на боксплот"
   ]
  },
  {
   "cell_type": "code",
   "execution_count": 8,
   "metadata": {
    "scrolled": false
   },
   "outputs": [
    {
     "data": {
      "text/plain": [
       "<AxesSubplot:>"
      ]
     },
     "execution_count": 8,
     "metadata": {},
     "output_type": "execute_result"
    },
    {
     "data": {
      "image/png": "[encoded data removed]",
      "text/plain": [
       "<Figure size 936x648 with 1 Axes>"
      ]
     },
     "metadata": {
      "needs_background": "light"
     },
     "output_type": "display_data"
    }
   ],
   "source": [
    "data = df[df['RegistrationYear'] < 2022]\n",
    "data = data[data['RegistrationYear'] > 1960]\n",
    "data.boxplot(column = 'RegistrationYear',figsize = (13,9))"
   ]
  },
  {
   "cell_type": "markdown",
   "metadata": {},
   "source": [
    "Думаю можно оставить временной интервал с 1980 по 2020г"
   ]
  },
  {
   "cell_type": "code",
   "execution_count": 9,
   "metadata": {},
   "outputs": [],
   "source": [
    "data = data[data['RegistrationYear'] < 2016]\n",
    "data = data[data['RegistrationYear'] > 1980]"
   ]
  },
  {
   "cell_type": "code",
   "execution_count": 10,
   "metadata": {
    "scrolled": false
   },
   "outputs": [
    {
     "data": {
      "text/plain": [
       "<AxesSubplot:>"
      ]
     },
     "execution_count": 10,
     "metadata": {},
     "output_type": "execute_result"
    },
    {
     "data": {
      "image/png": "[encoded data removed]",
      "text/plain": [
       "<Figure size 936x648 with 1 Axes>"
      ]
     },
     "metadata": {
      "needs_background": "light"
     },
     "output_type": "display_data"
    }
   ],
   "source": [
    "data.boxplot(column = 'Price',figsize = (13,9))"
   ]
  },
  {
   "cell_type": "code",
   "execution_count": 11,
   "metadata": {},
   "outputs": [],
   "source": [
    "data = data[data['Price'] < 15000]\n",
    "data = data[data['Price'] > 100]"
   ]
  },
  {
   "cell_type": "markdown",
   "metadata": {},
   "source": [
    "Оставим стоимость от 100 EUR до 15000 EUR"
   ]
  },
  {
   "cell_type": "code",
   "execution_count": 12,
   "metadata": {
    "scrolled": false
   },
   "outputs": [
    {
     "data": {
      "text/plain": [
       "<AxesSubplot:>"
      ]
     },
     "execution_count": 12,
     "metadata": {},
     "output_type": "execute_result"
    },
    {
     "data": {
      "image/png": "[encoded data removed]",
      "text/plain": [
       "<Figure size 936x648 with 1 Axes>"
      ]
     },
     "metadata": {
      "needs_background": "light"
     },
     "output_type": "display_data"
    }
   ],
   "source": [
    "data.boxplot(column = 'Kilometer',figsize = (13,9))"
   ]
  },
  {
   "cell_type": "markdown",
   "metadata": {},
   "source": [
    "Пробег в таблице ограничен 150000 возможно у данной графы есть ограничения, все значения выглядт вполне нормально"
   ]
  },
  {
   "cell_type": "code",
   "execution_count": 13,
   "metadata": {},
   "outputs": [],
   "source": [
    "data = data[data['Power'] < 600]"
   ]
  },
  {
   "cell_type": "code",
   "execution_count": 14,
   "metadata": {},
   "outputs": [
    {
     "data": {
      "text/plain": [
       "<AxesSubplot:>"
      ]
     },
     "execution_count": 14,
     "metadata": {},
     "output_type": "execute_result"
    },
    {
     "data": {
      "image/png": "[encoded data removed]",
      "text/plain": [
       "<Figure size 936x648 with 1 Axes>"
      ]
     },
     "metadata": {
      "needs_background": "light"
     },
     "output_type": "display_data"
    }
   ],
   "source": [
    "data.boxplot(column = 'Power',figsize = (13,9))"
   ]
  },
  {
   "cell_type": "code",
   "execution_count": 15,
   "metadata": {},
   "outputs": [],
   "source": [
    "data = data[(data['Power'] >= 50) | (data['Power'] == 0)]"
   ]
  },
  {
   "cell_type": "markdown",
   "metadata": {},
   "source": [
    "Изучим пропуски:"
   ]
  },
  {
   "cell_type": "code",
   "execution_count": 16,
   "metadata": {
    "scrolled": true
   },
   "outputs": [
    {
     "data": {
      "text/plain": [
       "Repaired       14.10\n",
       "FuelType        5.27\n",
       "Model           3.45\n",
       "Gearbox         3.40\n",
       "VehicleType     2.71\n",
       "DateCrawled     0.00\n",
       "dtype: float64"
      ]
     },
     "execution_count": 16,
     "metadata": {},
     "output_type": "execute_result"
    }
   ],
   "source": [
    "data.isna().sum().sort_values(ascending = False).head(6)/df.shape[0] * 100"
   ]
  },
  {
   "cell_type": "markdown",
   "metadata": {},
   "source": [
    "Необходимо заполнить 5 граф с пропусками, как мне кажется самый лушчий вариант заполнения пропусков, это сгрупировать по новой графе \"модель\" + \"год регистрации\" и выбрать самую популярное значение"
   ]
  },
  {
   "cell_type": "code",
   "execution_count": 17,
   "metadata": {
    "scrolled": true
   },
   "outputs": [
    {
     "data": {
      "text/html": [
       "<div>\n",
       "<style scoped>\n",
       "    .dataframe tbody tr th:only-of-type {\n",
       "        vertical-align: middle;\n",
       "    }\n",
       "\n",
       "    .dataframe tbody tr th {\n",
       "        vertical-align: top;\n",
       "    }\n",
       "\n",
       "    .dataframe thead th {\n",
       "        text-align: right;\n",
       "    }\n",
       "</style>\n",
       "<table border=\"1\" class=\"dataframe\">\n",
       "  <thead>\n",
       "    <tr style=\"text-align: right;\">\n",
       "      <th></th>\n",
       "      <th>DateCrawled</th>\n",
       "      <th>Price</th>\n",
       "      <th>VehicleType</th>\n",
       "      <th>RegistrationYear</th>\n",
       "      <th>Gearbox</th>\n",
       "      <th>Power</th>\n",
       "      <th>Model</th>\n",
       "      <th>Kilometer</th>\n",
       "      <th>RegistrationMonth</th>\n",
       "      <th>FuelType</th>\n",
       "      <th>Brand</th>\n",
       "      <th>Repaired</th>\n",
       "      <th>DateCreated</th>\n",
       "      <th>NumberOfPictures</th>\n",
       "      <th>PostalCode</th>\n",
       "      <th>LastSeen</th>\n",
       "    </tr>\n",
       "  </thead>\n",
       "  <tbody>\n",
       "    <tr>\n",
       "      <th>0</th>\n",
       "      <td>2016-03-24 11:52:17</td>\n",
       "      <td>480</td>\n",
       "      <td>NaN</td>\n",
       "      <td>1993</td>\n",
       "      <td>manual</td>\n",
       "      <td>0</td>\n",
       "      <td>golf</td>\n",
       "      <td>150000</td>\n",
       "      <td>0</td>\n",
       "      <td>petrol</td>\n",
       "      <td>volkswagen</td>\n",
       "      <td>NaN</td>\n",
       "      <td>2016-03-24 00:00:00</td>\n",
       "      <td>0</td>\n",
       "      <td>70435</td>\n",
       "      <td>2016-04-07 03:16:57</td>\n",
       "    </tr>\n",
       "    <tr>\n",
       "      <th>2</th>\n",
       "      <td>2016-03-14 12:52:21</td>\n",
       "      <td>9800</td>\n",
       "      <td>suv</td>\n",
       "      <td>2004</td>\n",
       "      <td>auto</td>\n",
       "      <td>163</td>\n",
       "      <td>grand</td>\n",
       "      <td>125000</td>\n",
       "      <td>8</td>\n",
       "      <td>gasoline</td>\n",
       "      <td>jeep</td>\n",
       "      <td>NaN</td>\n",
       "      <td>2016-03-14 00:00:00</td>\n",
       "      <td>0</td>\n",
       "      <td>90480</td>\n",
       "      <td>2016-04-05 12:47:46</td>\n",
       "    </tr>\n",
       "    <tr>\n",
       "      <th>3</th>\n",
       "      <td>2016-03-17 16:54:04</td>\n",
       "      <td>1500</td>\n",
       "      <td>small</td>\n",
       "      <td>2001</td>\n",
       "      <td>manual</td>\n",
       "      <td>75</td>\n",
       "      <td>golf</td>\n",
       "      <td>150000</td>\n",
       "      <td>6</td>\n",
       "      <td>petrol</td>\n",
       "      <td>volkswagen</td>\n",
       "      <td>no</td>\n",
       "      <td>2016-03-17 00:00:00</td>\n",
       "      <td>0</td>\n",
       "      <td>91074</td>\n",
       "      <td>2016-03-17 17:40:17</td>\n",
       "    </tr>\n",
       "    <tr>\n",
       "      <th>4</th>\n",
       "      <td>2016-03-31 17:25:20</td>\n",
       "      <td>3600</td>\n",
       "      <td>small</td>\n",
       "      <td>2008</td>\n",
       "      <td>manual</td>\n",
       "      <td>69</td>\n",
       "      <td>fabia</td>\n",
       "      <td>90000</td>\n",
       "      <td>7</td>\n",
       "      <td>gasoline</td>\n",
       "      <td>skoda</td>\n",
       "      <td>no</td>\n",
       "      <td>2016-03-31 00:00:00</td>\n",
       "      <td>0</td>\n",
       "      <td>60437</td>\n",
       "      <td>2016-04-06 10:17:21</td>\n",
       "    </tr>\n",
       "    <tr>\n",
       "      <th>5</th>\n",
       "      <td>2016-04-04 17:36:23</td>\n",
       "      <td>650</td>\n",
       "      <td>sedan</td>\n",
       "      <td>1995</td>\n",
       "      <td>manual</td>\n",
       "      <td>102</td>\n",
       "      <td>3er</td>\n",
       "      <td>150000</td>\n",
       "      <td>10</td>\n",
       "      <td>petrol</td>\n",
       "      <td>bmw</td>\n",
       "      <td>yes</td>\n",
       "      <td>2016-04-04 00:00:00</td>\n",
       "      <td>0</td>\n",
       "      <td>33775</td>\n",
       "      <td>2016-04-06 19:17:07</td>\n",
       "    </tr>\n",
       "  </tbody>\n",
       "</table>\n",
       "</div>"
      ],
      "text/plain": [
       "           DateCrawled  Price VehicleType  RegistrationYear Gearbox  Power  \\\n",
       "0  2016-03-24 11:52:17    480         NaN              1993  manual      0   \n",
       "2  2016-03-14 12:52:21   9800         suv              2004    auto    163   \n",
       "3  2016-03-17 16:54:04   1500       small              2001  manual     75   \n",
       "4  2016-03-31 17:25:20   3600       small              2008  manual     69   \n",
       "5  2016-04-04 17:36:23    650       sedan              1995  manual    102   \n",
       "\n",
       "   Model  Kilometer  RegistrationMonth  FuelType       Brand Repaired  \\\n",
       "0   golf     150000                  0    petrol  volkswagen      NaN   \n",
       "2  grand     125000                  8  gasoline        jeep      NaN   \n",
       "3   golf     150000                  6    petrol  volkswagen       no   \n",
       "4  fabia      90000                  7  gasoline       skoda       no   \n",
       "5    3er     150000                 10    petrol         bmw      yes   \n",
       "\n",
       "           DateCreated  NumberOfPictures  PostalCode             LastSeen  \n",
       "0  2016-03-24 00:00:00                 0       70435  2016-04-07 03:16:57  \n",
       "2  2016-03-14 00:00:00                 0       90480  2016-04-05 12:47:46  \n",
       "3  2016-03-17 00:00:00                 0       91074  2016-03-17 17:40:17  \n",
       "4  2016-03-31 00:00:00                 0       60437  2016-04-06 10:17:21  \n",
       "5  2016-04-04 00:00:00                 0       33775  2016-04-06 19:17:07  "
      ]
     },
     "execution_count": 17,
     "metadata": {},
     "output_type": "execute_result"
    }
   ],
   "source": [
    "data.head()"
   ]
  },
  {
   "cell_type": "code",
   "execution_count": 18,
   "metadata": {},
   "outputs": [],
   "source": [
    "data['Model'] = data['Model'].fillna('unknown')"
   ]
  },
  {
   "cell_type": "code",
   "execution_count": 19,
   "metadata": {},
   "outputs": [],
   "source": [
    "data['model2'] = data['RegistrationYear'].astype('str')\n",
    "data['model2'] = data['Model'] + data['model2']"
   ]
  },
  {
   "cell_type": "code",
   "execution_count": 20,
   "metadata": {},
   "outputs": [],
   "source": [
    "def fill_na(column):\n",
    "    for i in data['model2'].unique():\n",
    "        try:\n",
    "            data.loc[(data['model2'] == i) & (data[column].isna()), column] = \\\n",
    "            data.loc[(data['model2'] == i) & (data[column]), column].mode()[0]\n",
    "        except:\n",
    "            data.loc[(data['model2'] == i),column] = 'unknown'"
   ]
  },
  {
   "cell_type": "code",
   "execution_count": 21,
   "metadata": {},
   "outputs": [],
   "source": [
    "fill_na('Gearbox')"
   ]
  },
  {
   "cell_type": "code",
   "execution_count": 22,
   "metadata": {},
   "outputs": [],
   "source": [
    "fill_na('FuelType')"
   ]
  },
  {
   "cell_type": "code",
   "execution_count": 23,
   "metadata": {},
   "outputs": [],
   "source": [
    "fill_na('VehicleType')"
   ]
  },
  {
   "cell_type": "code",
   "execution_count": 24,
   "metadata": {},
   "outputs": [],
   "source": [
    "fill_na('Repaired')"
   ]
  },
  {
   "cell_type": "code",
   "execution_count": 25,
   "metadata": {},
   "outputs": [
    {
     "data": {
      "text/plain": [
       "DateCrawled         0.0\n",
       "FuelType            0.0\n",
       "LastSeen            0.0\n",
       "PostalCode          0.0\n",
       "NumberOfPictures    0.0\n",
       "DateCreated         0.0\n",
       "dtype: float64"
      ]
     },
     "execution_count": 25,
     "metadata": {},
     "output_type": "execute_result"
    }
   ],
   "source": [
    "data.isna().sum().sort_values(ascending = False).head(6)/df.shape[0] * 100"
   ]
  },
  {
   "cell_type": "markdown",
   "metadata": {},
   "source": [
    "Все значения заполнены"
   ]
  },
  {
   "cell_type": "code",
   "execution_count": 26,
   "metadata": {},
   "outputs": [
    {
     "data": {
      "text/html": [
       "<div>\n",
       "<style scoped>\n",
       "    .dataframe tbody tr th:only-of-type {\n",
       "        vertical-align: middle;\n",
       "    }\n",
       "\n",
       "    .dataframe tbody tr th {\n",
       "        vertical-align: top;\n",
       "    }\n",
       "\n",
       "    .dataframe thead th {\n",
       "        text-align: right;\n",
       "    }\n",
       "</style>\n",
       "<table border=\"1\" class=\"dataframe\">\n",
       "  <thead>\n",
       "    <tr style=\"text-align: right;\">\n",
       "      <th></th>\n",
       "      <th>DateCrawled</th>\n",
       "      <th>Price</th>\n",
       "      <th>VehicleType</th>\n",
       "      <th>RegistrationYear</th>\n",
       "      <th>Gearbox</th>\n",
       "      <th>Power</th>\n",
       "      <th>Model</th>\n",
       "      <th>Kilometer</th>\n",
       "      <th>RegistrationMonth</th>\n",
       "      <th>FuelType</th>\n",
       "      <th>Brand</th>\n",
       "      <th>Repaired</th>\n",
       "      <th>DateCreated</th>\n",
       "      <th>NumberOfPictures</th>\n",
       "      <th>PostalCode</th>\n",
       "      <th>LastSeen</th>\n",
       "      <th>model2</th>\n",
       "    </tr>\n",
       "  </thead>\n",
       "  <tbody>\n",
       "    <tr>\n",
       "      <th>0</th>\n",
       "      <td>2016-03-24 11:52:17</td>\n",
       "      <td>480</td>\n",
       "      <td>small</td>\n",
       "      <td>1993</td>\n",
       "      <td>manual</td>\n",
       "      <td>0</td>\n",
       "      <td>golf</td>\n",
       "      <td>150000</td>\n",
       "      <td>0</td>\n",
       "      <td>petrol</td>\n",
       "      <td>volkswagen</td>\n",
       "      <td>no</td>\n",
       "      <td>2016-03-24 00:00:00</td>\n",
       "      <td>0</td>\n",
       "      <td>70435</td>\n",
       "      <td>2016-04-07 03:16:57</td>\n",
       "      <td>golf1993</td>\n",
       "    </tr>\n",
       "    <tr>\n",
       "      <th>2</th>\n",
       "      <td>2016-03-14 12:52:21</td>\n",
       "      <td>9800</td>\n",
       "      <td>suv</td>\n",
       "      <td>2004</td>\n",
       "      <td>auto</td>\n",
       "      <td>163</td>\n",
       "      <td>grand</td>\n",
       "      <td>125000</td>\n",
       "      <td>8</td>\n",
       "      <td>gasoline</td>\n",
       "      <td>jeep</td>\n",
       "      <td>yes</td>\n",
       "      <td>2016-03-14 00:00:00</td>\n",
       "      <td>0</td>\n",
       "      <td>90480</td>\n",
       "      <td>2016-04-05 12:47:46</td>\n",
       "      <td>grand2004</td>\n",
       "    </tr>\n",
       "    <tr>\n",
       "      <th>3</th>\n",
       "      <td>2016-03-17 16:54:04</td>\n",
       "      <td>1500</td>\n",
       "      <td>small</td>\n",
       "      <td>2001</td>\n",
       "      <td>manual</td>\n",
       "      <td>75</td>\n",
       "      <td>golf</td>\n",
       "      <td>150000</td>\n",
       "      <td>6</td>\n",
       "      <td>petrol</td>\n",
       "      <td>volkswagen</td>\n",
       "      <td>no</td>\n",
       "      <td>2016-03-17 00:00:00</td>\n",
       "      <td>0</td>\n",
       "      <td>91074</td>\n",
       "      <td>2016-03-17 17:40:17</td>\n",
       "      <td>golf2001</td>\n",
       "    </tr>\n",
       "    <tr>\n",
       "      <th>4</th>\n",
       "      <td>2016-03-31 17:25:20</td>\n",
       "      <td>3600</td>\n",
       "      <td>small</td>\n",
       "      <td>2008</td>\n",
       "      <td>manual</td>\n",
       "      <td>69</td>\n",
       "      <td>fabia</td>\n",
       "      <td>90000</td>\n",
       "      <td>7</td>\n",
       "      <td>gasoline</td>\n",
       "      <td>skoda</td>\n",
       "      <td>no</td>\n",
       "      <td>2016-03-31 00:00:00</td>\n",
       "      <td>0</td>\n",
       "      <td>60437</td>\n",
       "      <td>2016-04-06 10:17:21</td>\n",
       "      <td>fabia2008</td>\n",
       "    </tr>\n",
       "    <tr>\n",
       "      <th>5</th>\n",
       "      <td>2016-04-04 17:36:23</td>\n",
       "      <td>650</td>\n",
       "      <td>sedan</td>\n",
       "      <td>1995</td>\n",
       "      <td>manual</td>\n",
       "      <td>102</td>\n",
       "      <td>3er</td>\n",
       "      <td>150000</td>\n",
       "      <td>10</td>\n",
       "      <td>petrol</td>\n",
       "      <td>bmw</td>\n",
       "      <td>yes</td>\n",
       "      <td>2016-04-04 00:00:00</td>\n",
       "      <td>0</td>\n",
       "      <td>33775</td>\n",
       "      <td>2016-04-06 19:17:07</td>\n",
       "      <td>3er1995</td>\n",
       "    </tr>\n",
       "  </tbody>\n",
       "</table>\n",
       "</div>"
      ],
      "text/plain": [
       "           DateCrawled  Price VehicleType  RegistrationYear Gearbox  Power  \\\n",
       "0  2016-03-24 11:52:17    480       small              1993  manual      0   \n",
       "2  2016-03-14 12:52:21   9800         suv              2004    auto    163   \n",
       "3  2016-03-17 16:54:04   1500       small              2001  manual     75   \n",
       "4  2016-03-31 17:25:20   3600       small              2008  manual     69   \n",
       "5  2016-04-04 17:36:23    650       sedan              1995  manual    102   \n",
       "\n",
       "   Model  Kilometer  RegistrationMonth  FuelType       Brand Repaired  \\\n",
       "0   golf     150000                  0    petrol  volkswagen       no   \n",
       "2  grand     125000                  8  gasoline        jeep      yes   \n",
       "3   golf     150000                  6    petrol  volkswagen       no   \n",
       "4  fabia      90000                  7  gasoline       skoda       no   \n",
       "5    3er     150000                 10    petrol         bmw      yes   \n",
       "\n",
       "           DateCreated  NumberOfPictures  PostalCode             LastSeen  \\\n",
       "0  2016-03-24 00:00:00                 0       70435  2016-04-07 03:16:57   \n",
       "2  2016-03-14 00:00:00                 0       90480  2016-04-05 12:47:46   \n",
       "3  2016-03-17 00:00:00                 0       91074  2016-03-17 17:40:17   \n",
       "4  2016-03-31 00:00:00                 0       60437  2016-04-06 10:17:21   \n",
       "5  2016-04-04 00:00:00                 0       33775  2016-04-06 19:17:07   \n",
       "\n",
       "      model2  \n",
       "0   golf1993  \n",
       "2  grand2004  \n",
       "3   golf2001  \n",
       "4  fabia2008  \n",
       "5    3er1995  "
      ]
     },
     "execution_count": 26,
     "metadata": {},
     "output_type": "execute_result"
    }
   ],
   "source": [
    "data.head()"
   ]
  },
  {
   "cell_type": "markdown",
   "metadata": {},
   "source": [
    "Используем OrdinalEncoder для кодирования графы Model и Model2, для остальных категориальных переменных будем использовать метод OHE"
   ]
  },
  {
   "cell_type": "code",
   "execution_count": 27,
   "metadata": {},
   "outputs": [],
   "source": [
    "encoder = OrdinalEncoder()\n",
    "encoder.fit(data[['Model']])\n",
    "data['Model'] = encoder.transform(data[['Model']])\n",
    "encoder.fit(data[['model2']])\n",
    "data['model2'] = encoder.transform(data[['model2']])"
   ]
  },
  {
   "cell_type": "code",
   "execution_count": 28,
   "metadata": {},
   "outputs": [],
   "source": [
    "categorial = ['VehicleType','Gearbox','Model','FuelType','Brand','Repaired']\n",
    "df = data.copy()\n",
    "tenure_one_hot = pd.get_dummies(df[categorial], drop_first=True)\n",
    "df = df.drop(categorial,axis = 1)\n",
    "df = df.join(tenure_one_hot, how='left')"
   ]
  },
  {
   "cell_type": "code",
   "execution_count": 29,
   "metadata": {},
   "outputs": [],
   "source": [
    "df = df.drop(['DateCrawled','DateCreated','LastSeen'], axis=1)"
   ]
  },
  {
   "cell_type": "code",
   "execution_count": 30,
   "metadata": {},
   "outputs": [],
   "source": [
    "features = df.drop(['Price'],axis=1)\n",
    "target = df['Price']"
   ]
  },
  {
   "cell_type": "code",
   "execution_count": 31,
   "metadata": {
    "scrolled": true
   },
   "outputs": [
    {
     "name": "stdout",
     "output_type": "stream",
     "text": [
      "Признаки обучающей выборки: (4960, 65)\n",
      "Целевой признак обучающей выборки: (4960,)\n",
      "Признаки валидационной выборки: (1653, 65)\n",
      "Целевой признак валидационной выборки: (1653,)\n",
      "Признаки тестовой выборки: (1654, 65)\n",
      "Целевой признак тестовой выборки: (1654,)\n"
     ]
    }
   ],
   "source": [
    "features_train, features_valid_test, target_train, target_valid_test  = train_test_split(features, \n",
    "                                                                                         target, \n",
    "                                                                                         test_size=0.4, \n",
    "                                                                                         random_state=42)\n",
    "features_valid, features_test,target_valid, target_test  = train_test_split(features_valid_test, \n",
    "                                                                           target_valid_test, \n",
    "                                                                           test_size=0.5, \n",
    "                                                                           random_state=42)\n",
    "print('Признаки обучающей выборки:',features_train.shape)  \n",
    "print('Целевой признак обучающей выборки:', target_train.shape)\n",
    "print('Признаки валидационной выборки:',features_valid.shape)  \n",
    "print('Целевой признак валидационной выборки:', target_valid.shape)\n",
    "print('Признаки тестовой выборки:',features_test.shape)  \n",
    "print('Целевой признак тестовой выборки:', target_test.shape)"
   ]
  },
  {
   "cell_type": "markdown",
   "metadata": {},
   "source": [
    "## Обучение моделей"
   ]
  },
  {
   "cell_type": "markdown",
   "metadata": {},
   "source": [
    "Обучим 3 модели, а именно DecisionTreeRegressor, LGBMRegressor и RandomForestRegressor"
   ]
  },
  {
   "cell_type": "code",
   "execution_count": 32,
   "metadata": {},
   "outputs": [
    {
     "name": "stdout",
     "output_type": "stream",
     "text": [
      "RMSE:\n",
      "2202.4996645935694\n",
      "Время:\n",
      "0.05330801010131836\n"
     ]
    }
   ],
   "source": [
    "start = time.time()\n",
    "DTC = DecisionTreeRegressor(random_state=42)\n",
    "DTC.fit(features_train, target_train)\n",
    "predictions_DTC = DTC.predict(features_valid)\n",
    "end = time.time()\n",
    "print('RMSE:')\n",
    "print((mean_squared_error(target_valid, predictions_DTC)**0.5))\n",
    "print('Время:')\n",
    "print(end - start)"
   ]
  },
  {
   "cell_type": "code",
   "execution_count": 33,
   "metadata": {},
   "outputs": [
    {
     "name": "stdout",
     "output_type": "stream",
     "text": [
      "RMSE:\n",
      "1508.7228431552862\n",
      "Время:\n",
      "0.2026667594909668\n"
     ]
    }
   ],
   "source": [
    "start = time.time()\n",
    "clf = lgb.LGBMRegressor(n_jobs=-1)\n",
    "clf.fit(features_train, target_train)\n",
    "predicted = clf.predict(features_valid)\n",
    "end = time.time()\n",
    "print('RMSE:')\n",
    "print((mean_squared_error(target_valid, predicted)**0.5))\n",
    "print('Время:')\n",
    "print(end - start)"
   ]
  },
  {
   "cell_type": "code",
   "execution_count": 34,
   "metadata": {},
   "outputs": [
    {
     "name": "stdout",
     "output_type": "stream",
     "text": [
      "RMSE:\n",
      "1591.2422177334229\n",
      "Время:\n",
      "0.6729753017425537\n"
     ]
    }
   ],
   "source": [
    "start = time.time()\n",
    "RFC = RandomForestRegressor(random_state=42, n_estimators = 100,n_jobs=-1)\n",
    "RFC.fit(features_train, target_train)\n",
    "predictions_RFC = RFC.predict(features_valid)\n",
    "end = time.time()\n",
    "print('RMSE:')\n",
    "print((mean_squared_error(target_valid, predictions_RFC)**0.5))\n",
    "print('Время:')\n",
    "print(end - start)"
   ]
  },
  {
   "cell_type": "code",
   "execution_count": 35,
   "metadata": {},
   "outputs": [],
   "source": [
    "mse = make_scorer(mean_squared_error,greater_is_better=False)"
   ]
  },
  {
   "cell_type": "markdown",
   "metadata": {},
   "source": [
    "Подберем лучшие параметры"
   ]
  },
  {
   "cell_type": "code",
   "execution_count": 36,
   "metadata": {},
   "outputs": [
    {
     "name": "stdout",
     "output_type": "stream",
     "text": [
      "{'learning_rate': 0.1, 'max_depth': 7, 'num_leaves': 90}\n",
      "8.650427103042603\n"
     ]
    }
   ],
   "source": [
    "start = time.time()\n",
    "\n",
    "# Зададим парметры сетки\n",
    "parameters = {'num_leaves':[90, 95],\n",
    "              'max_depth':[7, 9, 10, 12],\n",
    "              'learning_rate':[0.1, 0.2]\n",
    "             }\n",
    "\n",
    "# Определяем модель\n",
    "lgb_model = lgb.LGBMRegressor(n_jobs=-1)\n",
    "clf = GridSearchCV(lgb_model,\n",
    "                 parameters,\n",
    "                 scoring=mse)\n",
    "\n",
    "clf.fit(features_train, target_train)\n",
    "end = time.time()\n",
    "print(clf.best_params_)\n",
    "print(end - start)"
   ]
  },
  {
   "cell_type": "code",
   "execution_count": 37,
   "metadata": {},
   "outputs": [
    {
     "name": "stdout",
     "output_type": "stream",
     "text": [
      "{'max_depth': 10, 'min_samples_leaf': 9, 'n_estimators': 110}\n"
     ]
    }
   ],
   "source": [
    "start = time.time()\n",
    "\n",
    "# Зададим парметры сетки\n",
    "parametrs_RFR = { 'n_estimators': range (80, 111, 10),\n",
    "              'max_depth': range (9,11, 1),\n",
    "              'min_samples_leaf': range (9,11)\n",
    "               }\n",
    "\n",
    "# Определяем модель\n",
    "RFR_model = RandomForestRegressor(n_jobs=-1)\n",
    "clf_RFR = GridSearchCV(RFR_model,\n",
    "                 parametrs_RFR,\n",
    "                 scoring=mse)\n",
    "\n",
    "clf_RFR.fit(features_train, target_train)\n",
    "end = time.time()\n",
    "print(clf_RFR.best_params_)"
   ]
  },
  {
   "cell_type": "code",
   "execution_count": 38,
   "metadata": {},
   "outputs": [
    {
     "name": "stdout",
     "output_type": "stream",
     "text": [
      "{'max_depth': 7, 'min_samples_split': 9}\n"
     ]
    }
   ],
   "source": [
    "start = time.time()\n",
    "\n",
    "# Зададим парметры сетки\n",
    "parametrs_DTR = {'max_depth': range (5,11, 1),\n",
    "              'min_samples_split': range (5,11)\n",
    "               }\n",
    "\n",
    "# Определяем модель\n",
    "DTR_model = DecisionTreeRegressor()\n",
    "clf_DTR = GridSearchCV(DTR_model,\n",
    "                 parametrs_DTR,\n",
    "                 scoring=mse)\n",
    "\n",
    "clf_DTR.fit(features_train, target_train)\n",
    "end = time.time()\n",
    "print(clf_DTR.best_params_)"
   ]
  },
  {
   "cell_type": "markdown",
   "metadata": {},
   "source": [
    "## Анализ моделей"
   ]
  },
  {
   "cell_type": "code",
   "execution_count": 39,
   "metadata": {},
   "outputs": [
    {
     "name": "stdout",
     "output_type": "stream",
     "text": [
      "Время обучения модели:\n",
      "0.11354875564575195\n",
      "RMSE:\n",
      "1523.8132175433086\n",
      "Время предсказания:\n",
      "0.0037848949432373047\n"
     ]
    }
   ],
   "source": [
    "start = time.time()\n",
    "final_model_lgb = lgb_model.set_params(**clf.best_params_)\n",
    "final_model_lgb.fit(features_train, target_train)\n",
    "end = time.time()\n",
    "print('Время обучения модели:')\n",
    "print(end - start)\n",
    "start = time.time()\n",
    "predicted_fmlgb = final_model_lgb.predict(features_valid)\n",
    "end = time.time()\n",
    "print('RMSE:')\n",
    "print((mean_squared_error(target_valid , predicted_fmlgb)**0.5))\n",
    "print('Время предсказания:')\n",
    "print(end - start)"
   ]
  },
  {
   "cell_type": "code",
   "execution_count": 40,
   "metadata": {},
   "outputs": [
    {
     "name": "stdout",
     "output_type": "stream",
     "text": [
      "Время обучения модели:\n",
      "0.287628173828125\n",
      "RMSE:\n",
      "1670.9071451373047\n",
      "Время предсказания:\n",
      "0.015573978424072266\n"
     ]
    }
   ],
   "source": [
    "start = time.time()\n",
    "final_model_RFR = RFR_model.set_params(**clf_RFR.best_params_)\n",
    "final_model_RFR.fit(features_train, target_train)\n",
    "end = time.time()\n",
    "print('Время обучения модели:')\n",
    "print(end - start)\n",
    "start = time.time()\n",
    "predicted_RFR_final = final_model_RFR.predict(features_valid)\n",
    "end = time.time()\n",
    "print('RMSE:')\n",
    "print((mean_squared_error(target_valid , predicted_RFR_final)**0.5))\n",
    "print('Время предсказания:')\n",
    "print(end - start)"
   ]
  },
  {
   "cell_type": "code",
   "execution_count": 41,
   "metadata": {},
   "outputs": [
    {
     "name": "stdout",
     "output_type": "stream",
     "text": [
      "Время обучения модели:\n",
      "0.016942739486694336\n",
      "RMSE:\n",
      "1904.6275827977406\n",
      "Время предсказания:\n",
      "0.0015039443969726562\n"
     ]
    }
   ],
   "source": [
    "start = time.time()\n",
    "final_model_DTR = DTR_model.set_params(**clf_DTR.best_params_)\n",
    "final_model_DTR.fit(features_train, target_train)\n",
    "end = time.time()\n",
    "print('Время обучения модели:')\n",
    "print(end - start)\n",
    "start = time.time()\n",
    "predicted_DTR_final = final_model_DTR.predict(features_valid)\n",
    "end = time.time()\n",
    "print('RMSE:')\n",
    "print((mean_squared_error(target_valid , predicted_DTR_final)**0.5))\n",
    "print('Время предсказания:')\n",
    "print(end - start)"
   ]
  },
  {
   "cell_type": "markdown",
   "metadata": {},
   "source": [
    "В результате самое точное решение дает модель LGBMRegressor, а самое быстрое DecisionTreeRegressor. Результат менее 2500 достигнут на всех моделях. "
   ]
  },
  {
   "cell_type": "markdown",
   "metadata": {},
   "source": [
    "# Тестирование лучшей модели"
   ]
  },
  {
   "cell_type": "code",
   "execution_count": 42,
   "metadata": {},
   "outputs": [
    {
     "name": "stdout",
     "output_type": "stream",
     "text": [
      "RMSE на тесте лучшей модели:\n",
      "1588.6706285836897\n"
     ]
    }
   ],
   "source": [
    "best_model_lgb = lgb_model.set_params(**clf.best_params_)\n",
    "best_model_lgb.fit(features_train, target_train)\n",
    "predicted_best = best_model_lgb.predict(features_test)\n",
    "print('RMSE на тесте лучшей модели:')\n",
    "print((mean_squared_error(target_test , predicted_best)**0.5))"
   ]
  },
  {
   "cell_type": "markdown",
   "metadata": {},
   "source": [
    "## Вывод\n",
    "Самой лучшей моделью для определения стоимости автомобиля стала модель линейной регрессии с гиперпараметрами:  \n",
    "* learning_rate': 0.1\n",
    "* max_depth: 7\n",
    "* num_leaves: 90\n",
    "\n",
    "RMSE на тесте составил 1588.67"
   ]
  },
  {
   "cell_type": "code",
   "execution_count": null,
   "metadata": {},
   "outputs": [],
   "source": []
  }
 ],
 "metadata": {
  "ExecuteTimeLog": [
   {
    "duration": 377,
    "start_time": "2023-02-08T08:27:29.267Z"
   },
   {
    "duration": 58,
    "start_time": "2023-02-08T08:28:10.419Z"
   },
   {
    "duration": 2915,
    "start_time": "2023-02-08T08:28:17.534Z"
   },
   {
    "duration": 19,
    "start_time": "2023-02-08T08:28:31.294Z"
   },
   {
    "duration": 127,
    "start_time": "2023-02-08T08:28:44.118Z"
   },
   {
    "duration": 126,
    "start_time": "2023-02-08T08:28:53.077Z"
   },
   {
    "duration": 116,
    "start_time": "2023-02-08T08:28:57.443Z"
   },
   {
    "duration": 133,
    "start_time": "2023-02-08T08:29:20.162Z"
   },
   {
    "duration": 119,
    "start_time": "2023-02-08T08:29:23.550Z"
   },
   {
    "duration": 118,
    "start_time": "2023-02-08T08:29:33.666Z"
   },
   {
    "duration": 131,
    "start_time": "2023-02-08T08:30:02.995Z"
   },
   {
    "duration": 123,
    "start_time": "2023-02-08T08:30:13.122Z"
   },
   {
    "duration": 46,
    "start_time": "2023-02-08T08:32:43.746Z"
   },
   {
    "duration": 37,
    "start_time": "2023-02-08T08:33:21.788Z"
   },
   {
    "duration": 30,
    "start_time": "2023-02-08T08:33:34.252Z"
   },
   {
    "duration": 306,
    "start_time": "2023-02-08T08:35:31.738Z"
   },
   {
    "duration": 31,
    "start_time": "2023-02-08T08:35:59.585Z"
   },
   {
    "duration": 46,
    "start_time": "2023-02-08T08:36:38.760Z"
   },
   {
    "duration": 57,
    "start_time": "2023-02-08T08:38:03.272Z"
   },
   {
    "duration": 56,
    "start_time": "2023-02-08T08:38:11.994Z"
   },
   {
    "duration": 34,
    "start_time": "2023-02-08T08:38:31.185Z"
   },
   {
    "duration": 46,
    "start_time": "2023-02-08T08:38:52.992Z"
   },
   {
    "duration": 43,
    "start_time": "2023-02-08T08:38:57.266Z"
   },
   {
    "duration": 33,
    "start_time": "2023-02-08T08:43:37.959Z"
   },
   {
    "duration": 32,
    "start_time": "2023-02-08T08:44:19.370Z"
   },
   {
    "duration": 31,
    "start_time": "2023-02-08T08:44:38.236Z"
   },
   {
    "duration": 8,
    "start_time": "2023-02-08T08:45:06.842Z"
   },
   {
    "duration": 9,
    "start_time": "2023-02-08T08:45:19.585Z"
   },
   {
    "duration": 8,
    "start_time": "2023-02-08T08:45:37.353Z"
   },
   {
    "duration": 8,
    "start_time": "2023-02-08T08:45:46.762Z"
   },
   {
    "duration": 9,
    "start_time": "2023-02-08T08:46:08.633Z"
   },
   {
    "duration": 8,
    "start_time": "2023-02-08T08:46:25.606Z"
   },
   {
    "duration": 741,
    "start_time": "2023-02-08T08:47:09.675Z"
   },
   {
    "duration": 422,
    "start_time": "2023-02-08T08:50:13.197Z"
   },
   {
    "duration": 19,
    "start_time": "2023-02-08T08:58:25.021Z"
   },
   {
    "duration": 87,
    "start_time": "2023-02-08T08:58:36.394Z"
   },
   {
    "duration": 55,
    "start_time": "2023-02-08T08:58:46.336Z"
   },
   {
    "duration": 82,
    "start_time": "2023-02-08T09:00:37.417Z"
   },
   {
    "duration": 119,
    "start_time": "2023-02-08T09:00:41.079Z"
   },
   {
    "duration": 115,
    "start_time": "2023-02-08T09:01:06.769Z"
   },
   {
    "duration": 74,
    "start_time": "2023-02-08T09:01:16.269Z"
   },
   {
    "duration": 117,
    "start_time": "2023-02-08T09:01:21.917Z"
   },
   {
    "duration": 120,
    "start_time": "2023-02-08T09:01:28.036Z"
   },
   {
    "duration": 118,
    "start_time": "2023-02-08T09:01:36.829Z"
   },
   {
    "duration": 53,
    "start_time": "2023-02-08T09:03:23.953Z"
   },
   {
    "duration": 47,
    "start_time": "2023-02-08T09:03:30.686Z"
   },
   {
    "duration": 45,
    "start_time": "2023-02-08T09:03:42.580Z"
   },
   {
    "duration": 91,
    "start_time": "2023-02-08T09:03:55.773Z"
   },
   {
    "duration": 257,
    "start_time": "2023-02-08T09:04:04.568Z"
   },
   {
    "duration": 450,
    "start_time": "2023-02-08T09:09:09.049Z"
   },
   {
    "duration": 194,
    "start_time": "2023-02-08T09:11:52.416Z"
   },
   {
    "duration": 78,
    "start_time": "2023-02-08T09:12:20.468Z"
   },
   {
    "duration": 5,
    "start_time": "2023-02-08T09:16:32.293Z"
   },
   {
    "duration": 431,
    "start_time": "2023-02-08T09:16:56.824Z"
   },
   {
    "duration": 411,
    "start_time": "2023-02-08T09:28:12.011Z"
   },
   {
    "duration": 776,
    "start_time": "2023-02-08T09:28:12.424Z"
   },
   {
    "duration": 17,
    "start_time": "2023-02-08T09:28:13.201Z"
   },
   {
    "duration": 159,
    "start_time": "2023-02-08T09:28:13.220Z"
   },
   {
    "duration": 219,
    "start_time": "2023-02-08T09:28:13.381Z"
   },
   {
    "duration": 679,
    "start_time": "2023-02-08T09:28:13.602Z"
   },
   {
    "duration": 588,
    "start_time": "2023-02-08T09:28:14.283Z"
   },
   {
    "duration": 119,
    "start_time": "2023-02-08T09:28:14.873Z"
   },
   {
    "duration": 414,
    "start_time": "2023-02-08T09:28:14.994Z"
   },
   {
    "duration": 193,
    "start_time": "2023-02-08T09:28:15.410Z"
   },
   {
    "duration": 46,
    "start_time": "2023-02-08T09:28:15.604Z"
   },
   {
    "duration": 186,
    "start_time": "2023-02-08T09:29:29.508Z"
   },
   {
    "duration": 424,
    "start_time": "2023-02-08T09:31:20.648Z"
   },
   {
    "duration": 5,
    "start_time": "2023-02-08T09:31:54.969Z"
   },
   {
    "duration": 390,
    "start_time": "2023-02-08T14:45:45.648Z"
   },
   {
    "duration": 3242,
    "start_time": "2023-02-08T14:45:46.040Z"
   },
   {
    "duration": 19,
    "start_time": "2023-02-08T14:45:49.284Z"
   },
   {
    "duration": 149,
    "start_time": "2023-02-08T14:45:49.304Z"
   },
   {
    "duration": 161,
    "start_time": "2023-02-08T14:45:49.454Z"
   },
   {
    "duration": 976,
    "start_time": "2023-02-08T14:45:49.617Z"
   },
   {
    "duration": 641,
    "start_time": "2023-02-08T14:45:50.595Z"
   },
   {
    "duration": 117,
    "start_time": "2023-02-08T14:45:51.238Z"
   },
   {
    "duration": 538,
    "start_time": "2023-02-08T14:45:51.356Z"
   },
   {
    "duration": 537,
    "start_time": "2023-02-08T14:45:51.896Z"
   },
   {
    "duration": 6,
    "start_time": "2023-02-08T14:45:52.435Z"
   },
   {
    "duration": 212,
    "start_time": "2023-02-08T14:45:52.443Z"
   },
   {
    "duration": 52,
    "start_time": "2023-02-08T14:45:52.657Z"
   },
   {
    "duration": 555,
    "start_time": "2023-02-08T14:46:59.732Z"
   },
   {
    "duration": 37,
    "start_time": "2023-02-08T14:47:06.117Z"
   },
   {
    "duration": 116,
    "start_time": "2023-02-08T14:47:12.714Z"
   },
   {
    "duration": 66,
    "start_time": "2023-02-09T16:50:28.837Z"
   },
   {
    "duration": 438,
    "start_time": "2023-02-09T16:50:33.584Z"
   },
   {
    "duration": 3982,
    "start_time": "2023-02-09T16:50:34.024Z"
   },
   {
    "duration": 22,
    "start_time": "2023-02-09T16:50:38.008Z"
   },
   {
    "duration": 287,
    "start_time": "2023-02-09T16:50:38.032Z"
   },
   {
    "duration": 211,
    "start_time": "2023-02-09T16:50:38.321Z"
   },
   {
    "duration": 1241,
    "start_time": "2023-02-09T16:50:38.537Z"
   },
   {
    "duration": 809,
    "start_time": "2023-02-09T16:50:39.784Z"
   },
   {
    "duration": 129,
    "start_time": "2023-02-09T16:50:40.594Z"
   },
   {
    "duration": 645,
    "start_time": "2023-02-09T16:50:40.726Z"
   },
   {
    "duration": 102,
    "start_time": "2023-02-09T16:50:41.373Z"
   },
   {
    "duration": 642,
    "start_time": "2023-02-09T16:50:41.478Z"
   },
   {
    "duration": 210,
    "start_time": "2023-02-09T16:50:42.122Z"
   },
   {
    "duration": 865,
    "start_time": "2023-02-09T17:03:05.067Z"
   },
   {
    "duration": 422261,
    "start_time": "2023-02-09T17:04:16.086Z"
   },
   {
    "duration": 120,
    "start_time": "2023-02-09T17:13:59.884Z"
   },
   {
    "duration": 1745,
    "start_time": "2023-02-09T17:14:07.055Z"
   },
   {
    "duration": 4927,
    "start_time": "2023-02-09T17:14:08.803Z"
   },
   {
    "duration": 40,
    "start_time": "2023-02-09T17:14:13.733Z"
   },
   {
    "duration": 267,
    "start_time": "2023-02-09T17:14:13.781Z"
   },
   {
    "duration": 196,
    "start_time": "2023-02-09T17:14:14.051Z"
   },
   {
    "duration": 981,
    "start_time": "2023-02-09T17:14:14.248Z"
   },
   {
    "duration": 766,
    "start_time": "2023-02-09T17:14:15.231Z"
   },
   {
    "duration": 128,
    "start_time": "2023-02-09T17:14:16.002Z"
   },
   {
    "duration": 692,
    "start_time": "2023-02-09T17:14:16.132Z"
   },
   {
    "duration": 94,
    "start_time": "2023-02-09T17:14:16.826Z"
   },
   {
    "duration": 697,
    "start_time": "2023-02-09T17:14:16.922Z"
   },
   {
    "duration": 190,
    "start_time": "2023-02-09T17:14:17.623Z"
   },
   {
    "duration": 22834,
    "start_time": "2023-02-09T17:14:17.816Z"
   },
   {
    "duration": 3325,
    "start_time": "2023-02-09T17:14:42.171Z"
   },
   {
    "duration": 30,
    "start_time": "2023-02-09T17:14:58.000Z"
   },
   {
    "duration": 1400,
    "start_time": "2023-02-09T17:16:16.915Z"
   },
   {
    "duration": 5179,
    "start_time": "2023-02-09T17:16:18.318Z"
   },
   {
    "duration": 23,
    "start_time": "2023-02-09T17:16:23.507Z"
   },
   {
    "duration": 242,
    "start_time": "2023-02-09T17:16:23.532Z"
   },
   {
    "duration": 207,
    "start_time": "2023-02-09T17:16:23.776Z"
   },
   {
    "duration": 1113,
    "start_time": "2023-02-09T17:16:23.985Z"
   },
   {
    "duration": 849,
    "start_time": "2023-02-09T17:16:25.100Z"
   },
   {
    "duration": 146,
    "start_time": "2023-02-09T17:16:25.954Z"
   },
   {
    "duration": 724,
    "start_time": "2023-02-09T17:16:26.102Z"
   },
   {
    "duration": 142,
    "start_time": "2023-02-09T17:16:26.828Z"
   },
   {
    "duration": 671,
    "start_time": "2023-02-09T17:16:26.973Z"
   },
   {
    "duration": 181,
    "start_time": "2023-02-09T17:16:27.646Z"
   },
   {
    "duration": 3400,
    "start_time": "2023-02-09T17:16:27.850Z"
   },
   {
    "duration": 965805,
    "start_time": "2023-02-09T17:16:31.254Z"
   },
   {
    "duration": 34,
    "start_time": "2023-02-09T17:33:02.671Z"
   },
   {
    "duration": 53,
    "start_time": "2023-02-09T17:40:40.037Z"
   },
   {
    "duration": 1089,
    "start_time": "2023-02-13T10:31:39.574Z"
   },
   {
    "duration": 3164,
    "start_time": "2023-02-13T10:31:40.666Z"
   },
   {
    "duration": 20,
    "start_time": "2023-02-13T10:31:43.832Z"
   },
   {
    "duration": 165,
    "start_time": "2023-02-13T10:31:43.854Z"
   },
   {
    "duration": 145,
    "start_time": "2023-02-13T10:31:44.020Z"
   },
   {
    "duration": 890,
    "start_time": "2023-02-13T10:31:44.167Z"
   },
   {
    "duration": 587,
    "start_time": "2023-02-13T10:31:45.059Z"
   },
   {
    "duration": 118,
    "start_time": "2023-02-13T10:31:45.648Z"
   },
   {
    "duration": 452,
    "start_time": "2023-02-13T10:31:45.768Z"
   },
   {
    "duration": 80,
    "start_time": "2023-02-13T10:31:46.223Z"
   },
   {
    "duration": 439,
    "start_time": "2023-02-13T10:31:46.304Z"
   },
   {
    "duration": 132,
    "start_time": "2023-02-13T10:31:46.744Z"
   },
   {
    "duration": 2377,
    "start_time": "2023-02-13T10:31:46.878Z"
   },
   {
    "duration": 13,
    "start_time": "2023-02-13T10:31:49.257Z"
   },
   {
    "duration": 3,
    "start_time": "2023-02-13T10:45:30.379Z"
   },
   {
    "duration": 1173,
    "start_time": "2023-02-13T10:45:34.961Z"
   },
   {
    "duration": 853,
    "start_time": "2023-02-13T10:45:36.136Z"
   },
   {
    "duration": 34,
    "start_time": "2023-02-13T10:45:36.991Z"
   },
   {
    "duration": 149,
    "start_time": "2023-02-13T10:45:37.027Z"
   },
   {
    "duration": 137,
    "start_time": "2023-02-13T10:45:37.181Z"
   },
   {
    "duration": 693,
    "start_time": "2023-02-13T10:45:37.320Z"
   },
   {
    "duration": 509,
    "start_time": "2023-02-13T10:45:38.015Z"
   },
   {
    "duration": 110,
    "start_time": "2023-02-13T10:45:38.526Z"
   },
   {
    "duration": 463,
    "start_time": "2023-02-13T10:45:38.637Z"
   },
   {
    "duration": 146,
    "start_time": "2023-02-13T10:45:39.108Z"
   },
   {
    "duration": 437,
    "start_time": "2023-02-13T10:45:39.256Z"
   },
   {
    "duration": 133,
    "start_time": "2023-02-13T10:45:39.695Z"
   },
   {
    "duration": 4,
    "start_time": "2023-02-13T10:45:39.830Z"
   },
   {
    "duration": 19,
    "start_time": "2023-02-13T10:45:39.836Z"
   },
   {
    "duration": 126,
    "start_time": "2023-02-13T10:45:39.857Z"
   },
   {
    "duration": 15,
    "start_time": "2023-02-13T10:46:29.700Z"
   },
   {
    "duration": 84,
    "start_time": "2023-02-13T10:46:39.671Z"
   },
   {
    "duration": 9,
    "start_time": "2023-02-13T10:46:47.542Z"
   },
   {
    "duration": 8,
    "start_time": "2023-02-13T10:46:56.155Z"
   },
   {
    "duration": 168,
    "start_time": "2023-02-13T10:47:04.260Z"
   },
   {
    "duration": 10,
    "start_time": "2023-02-13T10:47:21.359Z"
   },
   {
    "duration": 5,
    "start_time": "2023-02-13T10:53:18.803Z"
   },
   {
    "duration": 12,
    "start_time": "2023-02-13T10:53:20.696Z"
   },
   {
    "duration": 12,
    "start_time": "2023-02-13T10:53:36.174Z"
   },
   {
    "duration": 247,
    "start_time": "2023-02-13T10:54:59.870Z"
   },
   {
    "duration": 45,
    "start_time": "2023-02-13T10:55:27.916Z"
   },
   {
    "duration": 45,
    "start_time": "2023-02-13T10:55:50.304Z"
   },
   {
    "duration": 57,
    "start_time": "2023-02-13T10:59:34.464Z"
   },
   {
    "duration": 108,
    "start_time": "2023-02-13T10:59:54.735Z"
   },
   {
    "duration": 13,
    "start_time": "2023-02-13T11:00:03.528Z"
   },
   {
    "duration": 5,
    "start_time": "2023-02-13T11:00:24.471Z"
   },
   {
    "duration": 44,
    "start_time": "2023-02-13T11:01:26.401Z"
   },
   {
    "duration": 13,
    "start_time": "2023-02-13T11:01:30.163Z"
   },
   {
    "duration": 20,
    "start_time": "2023-02-13T11:02:13.340Z"
   },
   {
    "duration": 6,
    "start_time": "2023-02-13T11:02:15.080Z"
   },
   {
    "duration": 211,
    "start_time": "2023-02-13T11:02:27.954Z"
   },
   {
    "duration": 5,
    "start_time": "2023-02-13T11:02:29.089Z"
   },
   {
    "duration": 296,
    "start_time": "2023-02-13T11:02:56.924Z"
   },
   {
    "duration": 4,
    "start_time": "2023-02-13T11:02:57.818Z"
   },
   {
    "duration": 8,
    "start_time": "2023-02-13T11:03:25.961Z"
   },
   {
    "duration": 5,
    "start_time": "2023-02-13T11:03:43.649Z"
   },
   {
    "duration": 144,
    "start_time": "2023-02-13T11:03:56.155Z"
   },
   {
    "duration": 2,
    "start_time": "2023-02-13T11:07:20.319Z"
   },
   {
    "duration": 25,
    "start_time": "2023-02-13T11:09:25.916Z"
   },
   {
    "duration": 75,
    "start_time": "2023-02-13T11:23:33.103Z"
   },
   {
    "duration": 2,
    "start_time": "2023-02-13T11:24:14.776Z"
   },
   {
    "duration": 10,
    "start_time": "2023-02-13T11:24:19.322Z"
   },
   {
    "duration": 33,
    "start_time": "2023-02-13T11:27:23.696Z"
   },
   {
    "duration": 32,
    "start_time": "2023-02-13T11:27:28.665Z"
   },
   {
    "duration": 27,
    "start_time": "2023-02-13T11:27:36.859Z"
   },
   {
    "duration": 29,
    "start_time": "2023-02-13T11:27:43.804Z"
   },
   {
    "duration": 28,
    "start_time": "2023-02-13T11:28:03.528Z"
   },
   {
    "duration": 1087,
    "start_time": "2023-02-13T11:33:37.700Z"
   },
   {
    "duration": 764,
    "start_time": "2023-02-13T11:33:38.789Z"
   },
   {
    "duration": 18,
    "start_time": "2023-02-13T11:33:39.555Z"
   },
   {
    "duration": 156,
    "start_time": "2023-02-13T11:33:39.575Z"
   },
   {
    "duration": 122,
    "start_time": "2023-02-13T11:33:39.732Z"
   },
   {
    "duration": 684,
    "start_time": "2023-02-13T11:33:39.856Z"
   },
   {
    "duration": 537,
    "start_time": "2023-02-13T11:33:40.542Z"
   },
   {
    "duration": 117,
    "start_time": "2023-02-13T11:33:41.080Z"
   },
   {
    "duration": 437,
    "start_time": "2023-02-13T11:33:41.198Z"
   },
   {
    "duration": 99,
    "start_time": "2023-02-13T11:33:41.637Z"
   },
   {
    "duration": 418,
    "start_time": "2023-02-13T11:33:41.737Z"
   },
   {
    "duration": 130,
    "start_time": "2023-02-13T11:33:42.157Z"
   },
   {
    "duration": 13,
    "start_time": "2023-02-13T11:33:42.288Z"
   },
   {
    "duration": 44,
    "start_time": "2023-02-13T11:33:42.305Z"
   },
   {
    "duration": 282,
    "start_time": "2023-02-13T11:33:42.350Z"
   },
   {
    "duration": 7,
    "start_time": "2023-02-13T11:33:42.634Z"
   },
   {
    "duration": 21,
    "start_time": "2023-02-13T11:33:42.642Z"
   },
   {
    "duration": 60,
    "start_time": "2023-02-13T11:33:42.665Z"
   },
   {
    "duration": 121,
    "start_time": "2023-02-13T11:38:39.114Z"
   },
   {
    "duration": 24,
    "start_time": "2023-02-13T11:38:53.120Z"
   },
   {
    "duration": 1024,
    "start_time": "2023-02-13T13:47:09.302Z"
   },
   {
    "duration": 2940,
    "start_time": "2023-02-13T13:47:10.328Z"
   },
   {
    "duration": 19,
    "start_time": "2023-02-13T13:47:13.270Z"
   },
   {
    "duration": 165,
    "start_time": "2023-02-13T13:47:13.291Z"
   },
   {
    "duration": 141,
    "start_time": "2023-02-13T13:47:13.459Z"
   },
   {
    "duration": 969,
    "start_time": "2023-02-13T13:47:13.603Z"
   },
   {
    "duration": 564,
    "start_time": "2023-02-13T13:47:14.575Z"
   },
   {
    "duration": 112,
    "start_time": "2023-02-13T13:47:15.141Z"
   },
   {
    "duration": 421,
    "start_time": "2023-02-13T13:47:15.255Z"
   },
   {
    "duration": 110,
    "start_time": "2023-02-13T13:47:15.677Z"
   },
   {
    "duration": 463,
    "start_time": "2023-02-13T13:47:15.789Z"
   },
   {
    "duration": 113,
    "start_time": "2023-02-13T13:47:16.254Z"
   },
   {
    "duration": 3,
    "start_time": "2023-02-13T13:47:16.369Z"
   },
   {
    "duration": 23,
    "start_time": "2023-02-13T13:47:16.375Z"
   },
   {
    "duration": 253,
    "start_time": "2023-02-13T13:47:16.399Z"
   },
   {
    "duration": 75,
    "start_time": "2023-02-13T13:47:16.654Z"
   },
   {
    "duration": 0,
    "start_time": "2023-02-13T13:47:16.731Z"
   },
   {
    "duration": 105,
    "start_time": "2023-02-13T13:47:29.227Z"
   },
   {
    "duration": 11,
    "start_time": "2023-02-13T13:47:43.101Z"
   },
   {
    "duration": 5,
    "start_time": "2023-02-13T13:47:58.091Z"
   },
   {
    "duration": 318,
    "start_time": "2023-02-13T13:48:06.057Z"
   },
   {
    "duration": 512,
    "start_time": "2023-02-13T13:50:00.297Z"
   },
   {
    "duration": 11,
    "start_time": "2023-02-13T13:56:26.160Z"
   },
   {
    "duration": 332,
    "start_time": "2023-02-13T13:56:50.129Z"
   },
   {
    "duration": 58,
    "start_time": "2023-02-13T14:01:23.205Z"
   },
   {
    "duration": 55,
    "start_time": "2023-02-13T14:01:35.580Z"
   },
   {
    "duration": 49,
    "start_time": "2023-02-13T14:01:44.730Z"
   },
   {
    "duration": 43,
    "start_time": "2023-02-13T14:01:53.314Z"
   },
   {
    "duration": 40,
    "start_time": "2023-02-13T14:01:57.192Z"
   },
   {
    "duration": 4619,
    "start_time": "2023-02-13T14:02:28.090Z"
   },
   {
    "duration": 26,
    "start_time": "2023-02-13T14:06:29.182Z"
   },
   {
    "duration": 4568,
    "start_time": "2023-02-13T14:06:50.034Z"
   },
   {
    "duration": 4640,
    "start_time": "2023-02-13T14:08:33.446Z"
   },
   {
    "duration": 42,
    "start_time": "2023-02-13T14:08:54.678Z"
   },
   {
    "duration": 1396,
    "start_time": "2023-02-13T14:09:07.927Z"
   },
   {
    "duration": 41,
    "start_time": "2023-02-13T14:09:27.071Z"
   },
   {
    "duration": 60,
    "start_time": "2023-02-13T14:09:43.457Z"
   },
   {
    "duration": 39,
    "start_time": "2023-02-13T14:09:49.502Z"
   },
   {
    "duration": 39,
    "start_time": "2023-02-13T14:09:54.237Z"
   },
   {
    "duration": 4652,
    "start_time": "2023-02-13T14:10:01.079Z"
   },
   {
    "duration": 4696,
    "start_time": "2023-02-13T14:13:14.947Z"
   },
   {
    "duration": 4456,
    "start_time": "2023-02-13T14:13:36.839Z"
   },
   {
    "duration": 1227,
    "start_time": "2023-02-13T14:16:34.609Z"
   },
   {
    "duration": 2474,
    "start_time": "2023-02-13T14:16:50.132Z"
   },
   {
    "duration": 133752,
    "start_time": "2023-02-13T14:17:51.750Z"
   },
   {
    "duration": 1187,
    "start_time": "2023-02-19T06:43:29.214Z"
   },
   {
    "duration": 3969,
    "start_time": "2023-02-19T06:43:30.403Z"
   },
   {
    "duration": 22,
    "start_time": "2023-02-19T06:43:34.374Z"
   },
   {
    "duration": 152,
    "start_time": "2023-02-19T06:43:34.398Z"
   },
   {
    "duration": 133,
    "start_time": "2023-02-19T06:43:34.552Z"
   },
   {
    "duration": 903,
    "start_time": "2023-02-19T06:43:34.687Z"
   },
   {
    "duration": 599,
    "start_time": "2023-02-19T06:43:35.592Z"
   },
   {
    "duration": 123,
    "start_time": "2023-02-19T06:43:36.192Z"
   },
   {
    "duration": 482,
    "start_time": "2023-02-19T06:43:36.316Z"
   },
   {
    "duration": 86,
    "start_time": "2023-02-19T06:43:36.800Z"
   },
   {
    "duration": 461,
    "start_time": "2023-02-19T06:43:36.887Z"
   },
   {
    "duration": 131,
    "start_time": "2023-02-19T06:43:37.350Z"
   },
   {
    "duration": 3,
    "start_time": "2023-02-19T06:43:37.483Z"
   },
   {
    "duration": 23,
    "start_time": "2023-02-19T06:43:37.489Z"
   },
   {
    "duration": 281,
    "start_time": "2023-02-19T06:43:37.515Z"
   },
   {
    "duration": 6,
    "start_time": "2023-02-19T06:43:37.798Z"
   },
   {
    "duration": 56,
    "start_time": "2023-02-19T06:43:37.806Z"
   },
   {
    "duration": 37,
    "start_time": "2023-02-19T06:43:37.864Z"
   },
   {
    "duration": 33936,
    "start_time": "2023-02-19T06:43:37.903Z"
   },
   {
    "duration": 0,
    "start_time": "2023-02-19T06:44:11.841Z"
   },
   {
    "duration": 1166,
    "start_time": "2023-02-19T06:46:12.086Z"
   },
   {
    "duration": 863,
    "start_time": "2023-02-19T06:46:13.254Z"
   },
   {
    "duration": 29,
    "start_time": "2023-02-19T06:46:14.119Z"
   },
   {
    "duration": 157,
    "start_time": "2023-02-19T06:46:14.150Z"
   },
   {
    "duration": 140,
    "start_time": "2023-02-19T06:46:14.309Z"
   },
   {
    "duration": 725,
    "start_time": "2023-02-19T06:46:14.451Z"
   },
   {
    "duration": 616,
    "start_time": "2023-02-19T06:46:15.178Z"
   },
   {
    "duration": 119,
    "start_time": "2023-02-19T06:46:15.796Z"
   },
   {
    "duration": 536,
    "start_time": "2023-02-19T06:46:15.917Z"
   },
   {
    "duration": 88,
    "start_time": "2023-02-19T06:46:16.454Z"
   },
   {
    "duration": 481,
    "start_time": "2023-02-19T06:46:16.544Z"
   },
   {
    "duration": 140,
    "start_time": "2023-02-19T06:46:17.028Z"
   },
   {
    "duration": 3,
    "start_time": "2023-02-19T06:46:17.170Z"
   },
   {
    "duration": 25,
    "start_time": "2023-02-19T06:46:17.176Z"
   },
   {
    "duration": 34,
    "start_time": "2023-02-19T06:46:17.203Z"
   },
   {
    "duration": 253,
    "start_time": "2023-02-19T06:46:17.240Z"
   },
   {
    "duration": 7,
    "start_time": "2023-02-19T06:46:17.495Z"
   },
   {
    "duration": 58,
    "start_time": "2023-02-19T06:46:17.503Z"
   },
   {
    "duration": 29,
    "start_time": "2023-02-19T06:46:17.563Z"
   },
   {
    "duration": 69,
    "start_time": "2023-02-19T06:46:17.593Z"
   },
   {
    "duration": 0,
    "start_time": "2023-02-19T06:46:17.664Z"
   },
   {
    "duration": 0,
    "start_time": "2023-02-19T06:46:17.666Z"
   },
   {
    "duration": 133,
    "start_time": "2023-02-19T06:46:27.972Z"
   },
   {
    "duration": 43760,
    "start_time": "2023-02-19T06:47:19.557Z"
   },
   {
    "duration": 1183,
    "start_time": "2023-02-19T06:53:54.519Z"
   },
   {
    "duration": 880,
    "start_time": "2023-02-19T06:53:55.704Z"
   },
   {
    "duration": 21,
    "start_time": "2023-02-19T06:53:56.586Z"
   },
   {
    "duration": 155,
    "start_time": "2023-02-19T06:53:56.610Z"
   },
   {
    "duration": 146,
    "start_time": "2023-02-19T06:53:56.768Z"
   },
   {
    "duration": 773,
    "start_time": "2023-02-19T06:53:56.916Z"
   },
   {
    "duration": 613,
    "start_time": "2023-02-19T06:53:57.690Z"
   },
   {
    "duration": 120,
    "start_time": "2023-02-19T06:53:58.305Z"
   },
   {
    "duration": 521,
    "start_time": "2023-02-19T06:53:58.427Z"
   },
   {
    "duration": 97,
    "start_time": "2023-02-19T06:53:58.950Z"
   },
   {
    "duration": 466,
    "start_time": "2023-02-19T06:53:59.048Z"
   },
   {
    "duration": 130,
    "start_time": "2023-02-19T06:53:59.515Z"
   },
   {
    "duration": 3,
    "start_time": "2023-02-19T06:53:59.646Z"
   },
   {
    "duration": 23,
    "start_time": "2023-02-19T06:53:59.652Z"
   },
   {
    "duration": 27,
    "start_time": "2023-02-19T06:53:59.677Z"
   },
   {
    "duration": 240,
    "start_time": "2023-02-19T06:53:59.706Z"
   },
   {
    "duration": 7,
    "start_time": "2023-02-19T06:53:59.947Z"
   },
   {
    "duration": 55,
    "start_time": "2023-02-19T06:53:59.955Z"
   },
   {
    "duration": 40,
    "start_time": "2023-02-19T06:54:00.012Z"
   },
   {
    "duration": 45867,
    "start_time": "2023-02-19T06:54:00.054Z"
   },
   {
    "duration": 72,
    "start_time": "2023-02-19T06:55:51.614Z"
   },
   {
    "duration": 152,
    "start_time": "2023-02-19T06:56:01.292Z"
   },
   {
    "duration": 24,
    "start_time": "2023-02-19T06:56:53.849Z"
   },
   {
    "duration": 43,
    "start_time": "2023-02-19T06:57:21.445Z"
   },
   {
    "duration": 39,
    "start_time": "2023-02-19T06:57:31.678Z"
   },
   {
    "duration": 22,
    "start_time": "2023-02-19T06:57:49.919Z"
   },
   {
    "duration": 123,
    "start_time": "2023-02-19T06:57:55.584Z"
   },
   {
    "duration": 34,
    "start_time": "2023-02-19T07:00:25.144Z"
   },
   {
    "duration": 22,
    "start_time": "2023-02-19T07:00:28.736Z"
   },
   {
    "duration": 45,
    "start_time": "2023-02-19T07:00:48.827Z"
   },
   {
    "duration": 1367,
    "start_time": "2023-02-19T07:01:01.947Z"
   },
   {
    "duration": 14,
    "start_time": "2023-02-19T07:02:29.020Z"
   },
   {
    "duration": 24,
    "start_time": "2023-02-19T07:02:33.781Z"
   },
   {
    "duration": 11,
    "start_time": "2023-02-19T07:02:52.517Z"
   },
   {
    "duration": 6,
    "start_time": "2023-02-19T07:03:00.184Z"
   },
   {
    "duration": 6,
    "start_time": "2023-02-19T07:03:08.800Z"
   },
   {
    "duration": 37,
    "start_time": "2023-02-19T07:03:12.657Z"
   },
   {
    "duration": 5,
    "start_time": "2023-02-19T07:03:28.171Z"
   },
   {
    "duration": 46,
    "start_time": "2023-02-19T07:03:30.720Z"
   },
   {
    "duration": 61,
    "start_time": "2023-02-19T07:04:12.916Z"
   },
   {
    "duration": 29,
    "start_time": "2023-02-19T07:04:15.487Z"
   },
   {
    "duration": 52,
    "start_time": "2023-02-19T07:04:35.121Z"
   },
   {
    "duration": 25,
    "start_time": "2023-02-19T07:04:37.690Z"
   },
   {
    "duration": 51,
    "start_time": "2023-02-19T07:04:52.513Z"
   },
   {
    "duration": 52243,
    "start_time": "2023-02-19T07:05:23.825Z"
   },
   {
    "duration": 107,
    "start_time": "2023-02-19T07:08:07.617Z"
   },
   {
    "duration": 38,
    "start_time": "2023-02-19T07:08:25.419Z"
   },
   {
    "duration": 25,
    "start_time": "2023-02-19T07:08:45.125Z"
   },
   {
    "duration": 81,
    "start_time": "2023-02-19T07:09:04.975Z"
   },
   {
    "duration": 1464,
    "start_time": "2023-02-19T07:10:21.422Z"
   },
   {
    "duration": 34,
    "start_time": "2023-02-19T07:10:35.150Z"
   },
   {
    "duration": 27,
    "start_time": "2023-02-19T07:11:10.185Z"
   },
   {
    "duration": 23,
    "start_time": "2023-02-19T07:11:15.588Z"
   },
   {
    "duration": 82,
    "start_time": "2023-02-19T07:13:28.723Z"
   },
   {
    "duration": 73,
    "start_time": "2023-02-19T07:13:39.291Z"
   },
   {
    "duration": 4,
    "start_time": "2023-02-19T07:13:53.320Z"
   },
   {
    "duration": 23,
    "start_time": "2023-02-19T07:14:02.077Z"
   },
   {
    "duration": 22,
    "start_time": "2023-02-19T07:14:08.862Z"
   },
   {
    "duration": 1117,
    "start_time": "2023-02-19T07:15:09.855Z"
   },
   {
    "duration": 889,
    "start_time": "2023-02-19T07:15:10.974Z"
   },
   {
    "duration": 22,
    "start_time": "2023-02-19T07:15:11.865Z"
   },
   {
    "duration": 162,
    "start_time": "2023-02-19T07:15:11.889Z"
   },
   {
    "duration": 147,
    "start_time": "2023-02-19T07:15:12.054Z"
   },
   {
    "duration": 1062,
    "start_time": "2023-02-19T07:15:12.203Z"
   },
   {
    "duration": 618,
    "start_time": "2023-02-19T07:15:13.267Z"
   },
   {
    "duration": 127,
    "start_time": "2023-02-19T07:15:13.888Z"
   },
   {
    "duration": 543,
    "start_time": "2023-02-19T07:15:14.018Z"
   },
   {
    "duration": 102,
    "start_time": "2023-02-19T07:15:14.563Z"
   },
   {
    "duration": 478,
    "start_time": "2023-02-19T07:15:14.666Z"
   },
   {
    "duration": 130,
    "start_time": "2023-02-19T07:15:15.146Z"
   },
   {
    "duration": 3,
    "start_time": "2023-02-19T07:15:15.278Z"
   },
   {
    "duration": 20,
    "start_time": "2023-02-19T07:15:15.284Z"
   },
   {
    "duration": 37,
    "start_time": "2023-02-19T07:15:15.305Z"
   },
   {
    "duration": 246,
    "start_time": "2023-02-19T07:15:15.344Z"
   },
   {
    "duration": 6,
    "start_time": "2023-02-19T07:15:15.592Z"
   },
   {
    "duration": 56,
    "start_time": "2023-02-19T07:15:15.600Z"
   },
   {
    "duration": 30,
    "start_time": "2023-02-19T07:15:15.658Z"
   },
   {
    "duration": 44311,
    "start_time": "2023-02-19T07:15:15.690Z"
   },
   {
    "duration": 144,
    "start_time": "2023-02-19T07:16:00.003Z"
   },
   {
    "duration": 25,
    "start_time": "2023-02-19T07:16:00.149Z"
   },
   {
    "duration": 44690,
    "start_time": "2023-02-19T07:16:00.176Z"
   },
   {
    "duration": 30,
    "start_time": "2023-02-19T07:16:44.867Z"
   },
   {
    "duration": 43,
    "start_time": "2023-02-19T07:16:44.899Z"
   },
   {
    "duration": 1409,
    "start_time": "2023-02-19T07:16:44.944Z"
   },
   {
    "duration": 25,
    "start_time": "2023-02-19T07:16:46.355Z"
   },
   {
    "duration": 4,
    "start_time": "2023-02-19T07:20:49.607Z"
   },
   {
    "duration": 1168,
    "start_time": "2023-02-19T07:21:15.600Z"
   },
   {
    "duration": 890,
    "start_time": "2023-02-19T07:21:16.770Z"
   },
   {
    "duration": 25,
    "start_time": "2023-02-19T07:21:17.661Z"
   },
   {
    "duration": 165,
    "start_time": "2023-02-19T07:21:17.688Z"
   },
   {
    "duration": 139,
    "start_time": "2023-02-19T07:21:17.856Z"
   },
   {
    "duration": 774,
    "start_time": "2023-02-19T07:21:17.998Z"
   },
   {
    "duration": 600,
    "start_time": "2023-02-19T07:21:18.773Z"
   },
   {
    "duration": 130,
    "start_time": "2023-02-19T07:21:19.375Z"
   },
   {
    "duration": 513,
    "start_time": "2023-02-19T07:21:19.507Z"
   },
   {
    "duration": 95,
    "start_time": "2023-02-19T07:21:20.022Z"
   },
   {
    "duration": 483,
    "start_time": "2023-02-19T07:21:20.120Z"
   },
   {
    "duration": 139,
    "start_time": "2023-02-19T07:21:20.605Z"
   },
   {
    "duration": 3,
    "start_time": "2023-02-19T07:21:20.747Z"
   },
   {
    "duration": 33,
    "start_time": "2023-02-19T07:21:20.754Z"
   },
   {
    "duration": 38,
    "start_time": "2023-02-19T07:21:20.789Z"
   },
   {
    "duration": 259,
    "start_time": "2023-02-19T07:21:20.828Z"
   },
   {
    "duration": 6,
    "start_time": "2023-02-19T07:21:21.089Z"
   },
   {
    "duration": 85,
    "start_time": "2023-02-19T07:21:21.096Z"
   },
   {
    "duration": 29,
    "start_time": "2023-02-19T07:21:21.183Z"
   },
   {
    "duration": 5,
    "start_time": "2023-02-19T07:21:21.214Z"
   },
   {
    "duration": 43583,
    "start_time": "2023-02-19T07:21:21.239Z"
   },
   {
    "duration": 44168,
    "start_time": "2023-02-19T07:22:04.824Z"
   },
   {
    "duration": 83,
    "start_time": "2023-02-19T07:22:48.994Z"
   },
   {
    "duration": 0,
    "start_time": "2023-02-19T07:22:49.080Z"
   },
   {
    "duration": 0,
    "start_time": "2023-02-19T07:22:49.081Z"
   },
   {
    "duration": 0,
    "start_time": "2023-02-19T07:22:49.083Z"
   },
   {
    "duration": 0,
    "start_time": "2023-02-19T07:22:49.084Z"
   },
   {
    "duration": 0,
    "start_time": "2023-02-19T07:22:49.085Z"
   },
   {
    "duration": 0,
    "start_time": "2023-02-19T07:22:49.086Z"
   },
   {
    "duration": 0,
    "start_time": "2023-02-19T07:22:49.088Z"
   },
   {
    "duration": 45968,
    "start_time": "2023-02-19T07:23:33.865Z"
   },
   {
    "duration": 169,
    "start_time": "2023-02-19T07:24:25.671Z"
   },
   {
    "duration": 1054,
    "start_time": "2023-02-19T07:25:36.689Z"
   },
   {
    "duration": 906,
    "start_time": "2023-02-19T07:25:37.745Z"
   },
   {
    "duration": 20,
    "start_time": "2023-02-19T07:25:38.653Z"
   },
   {
    "duration": 154,
    "start_time": "2023-02-19T07:25:38.675Z"
   },
   {
    "duration": 153,
    "start_time": "2023-02-19T07:25:38.839Z"
   },
   {
    "duration": 785,
    "start_time": "2023-02-19T07:25:38.994Z"
   },
   {
    "duration": 580,
    "start_time": "2023-02-19T07:25:39.780Z"
   },
   {
    "duration": 124,
    "start_time": "2023-02-19T07:25:40.361Z"
   },
   {
    "duration": 575,
    "start_time": "2023-02-19T07:25:40.486Z"
   },
   {
    "duration": 99,
    "start_time": "2023-02-19T07:25:41.063Z"
   },
   {
    "duration": 536,
    "start_time": "2023-02-19T07:25:41.164Z"
   },
   {
    "duration": 121,
    "start_time": "2023-02-19T07:25:41.702Z"
   },
   {
    "duration": 17,
    "start_time": "2023-02-19T07:25:41.825Z"
   },
   {
    "duration": 18,
    "start_time": "2023-02-19T07:25:41.845Z"
   },
   {
    "duration": 34,
    "start_time": "2023-02-19T07:25:41.865Z"
   },
   {
    "duration": 298,
    "start_time": "2023-02-19T07:25:41.902Z"
   },
   {
    "duration": 6,
    "start_time": "2023-02-19T07:25:42.202Z"
   },
   {
    "duration": 60,
    "start_time": "2023-02-19T07:25:42.209Z"
   },
   {
    "duration": 36,
    "start_time": "2023-02-19T07:25:42.271Z"
   },
   {
    "duration": 45303,
    "start_time": "2023-02-19T07:25:42.309Z"
   },
   {
    "duration": 139,
    "start_time": "2023-02-19T07:26:27.614Z"
   },
   {
    "duration": 3,
    "start_time": "2023-02-19T07:26:27.756Z"
   },
   {
    "duration": 45586,
    "start_time": "2023-02-19T07:26:27.761Z"
   },
   {
    "duration": 32,
    "start_time": "2023-02-19T07:27:13.349Z"
   },
   {
    "duration": 5,
    "start_time": "2023-02-19T07:27:13.383Z"
   },
   {
    "duration": 1431,
    "start_time": "2023-02-19T07:27:13.390Z"
   },
   {
    "duration": 3,
    "start_time": "2023-02-19T07:27:14.823Z"
   },
   {
    "duration": 148,
    "start_time": "2023-02-19T07:28:01.892Z"
   },
   {
    "duration": 45211,
    "start_time": "2023-02-19T07:34:24.228Z"
   },
   {
    "duration": 7784,
    "start_time": "2023-02-19T07:35:36.123Z"
   },
   {
    "duration": 176031,
    "start_time": "2023-02-19T07:35:53.238Z"
   },
   {
    "duration": 191,
    "start_time": "2023-02-19T07:39:34.756Z"
   },
   {
    "duration": 1253,
    "start_time": "2023-02-19T07:39:50.447Z"
   },
   {
    "duration": 978,
    "start_time": "2023-02-19T07:39:51.702Z"
   },
   {
    "duration": 23,
    "start_time": "2023-02-19T07:39:52.683Z"
   },
   {
    "duration": 171,
    "start_time": "2023-02-19T07:39:52.708Z"
   },
   {
    "duration": 142,
    "start_time": "2023-02-19T07:39:52.882Z"
   },
   {
    "duration": 792,
    "start_time": "2023-02-19T07:39:53.026Z"
   },
   {
    "duration": 634,
    "start_time": "2023-02-19T07:39:53.820Z"
   },
   {
    "duration": 123,
    "start_time": "2023-02-19T07:39:54.456Z"
   },
   {
    "duration": 528,
    "start_time": "2023-02-19T07:39:54.581Z"
   },
   {
    "duration": 86,
    "start_time": "2023-02-19T07:39:55.111Z"
   },
   {
    "duration": 465,
    "start_time": "2023-02-19T07:39:55.198Z"
   },
   {
    "duration": 135,
    "start_time": "2023-02-19T07:39:55.665Z"
   },
   {
    "duration": 3,
    "start_time": "2023-02-19T07:39:55.802Z"
   },
   {
    "duration": 32,
    "start_time": "2023-02-19T07:39:55.807Z"
   },
   {
    "duration": 23,
    "start_time": "2023-02-19T07:39:55.841Z"
   },
   {
    "duration": 250,
    "start_time": "2023-02-19T07:39:55.866Z"
   },
   {
    "duration": 6,
    "start_time": "2023-02-19T07:39:56.118Z"
   },
   {
    "duration": 56,
    "start_time": "2023-02-19T07:39:56.125Z"
   },
   {
    "duration": 29,
    "start_time": "2023-02-19T07:39:56.182Z"
   },
   {
    "duration": 45145,
    "start_time": "2023-02-19T07:39:56.212Z"
   },
   {
    "duration": 0,
    "start_time": "2023-02-19T07:40:41.358Z"
   },
   {
    "duration": 0,
    "start_time": "2023-02-19T07:40:41.360Z"
   },
   {
    "duration": 0,
    "start_time": "2023-02-19T07:40:41.361Z"
   },
   {
    "duration": 0,
    "start_time": "2023-02-19T07:40:41.362Z"
   },
   {
    "duration": 0,
    "start_time": "2023-02-19T07:40:41.364Z"
   },
   {
    "duration": 0,
    "start_time": "2023-02-19T07:40:41.364Z"
   },
   {
    "duration": 0,
    "start_time": "2023-02-19T07:40:41.366Z"
   },
   {
    "duration": 17,
    "start_time": "2023-02-19T07:45:15.800Z"
   },
   {
    "duration": 1259,
    "start_time": "2023-02-19T07:51:32.157Z"
   },
   {
    "duration": 902,
    "start_time": "2023-02-19T07:51:33.419Z"
   },
   {
    "duration": 24,
    "start_time": "2023-02-19T07:51:34.324Z"
   },
   {
    "duration": 146,
    "start_time": "2023-02-19T07:51:34.350Z"
   },
   {
    "duration": 148,
    "start_time": "2023-02-19T07:51:34.500Z"
   },
   {
    "duration": 799,
    "start_time": "2023-02-19T07:51:34.650Z"
   },
   {
    "duration": 621,
    "start_time": "2023-02-19T07:51:35.451Z"
   },
   {
    "duration": 117,
    "start_time": "2023-02-19T07:51:36.074Z"
   },
   {
    "duration": 531,
    "start_time": "2023-02-19T07:51:36.193Z"
   },
   {
    "duration": 92,
    "start_time": "2023-02-19T07:51:36.726Z"
   },
   {
    "duration": 493,
    "start_time": "2023-02-19T07:51:36.820Z"
   },
   {
    "duration": 142,
    "start_time": "2023-02-19T07:51:37.315Z"
   },
   {
    "duration": 11,
    "start_time": "2023-02-19T07:51:37.459Z"
   },
   {
    "duration": 27,
    "start_time": "2023-02-19T07:51:37.474Z"
   },
   {
    "duration": 35,
    "start_time": "2023-02-19T07:51:37.503Z"
   },
   {
    "duration": 253,
    "start_time": "2023-02-19T07:51:37.540Z"
   },
   {
    "duration": 5,
    "start_time": "2023-02-19T07:51:37.795Z"
   },
   {
    "duration": 64,
    "start_time": "2023-02-19T07:51:37.802Z"
   },
   {
    "duration": 31,
    "start_time": "2023-02-19T07:51:37.868Z"
   },
   {
    "duration": 36,
    "start_time": "2023-02-19T07:51:37.901Z"
   },
   {
    "duration": 1148,
    "start_time": "2023-02-19T07:52:09.831Z"
   },
   {
    "duration": 908,
    "start_time": "2023-02-19T07:52:10.982Z"
   },
   {
    "duration": 25,
    "start_time": "2023-02-19T07:52:11.894Z"
   },
   {
    "duration": 148,
    "start_time": "2023-02-19T07:52:11.937Z"
   },
   {
    "duration": 186,
    "start_time": "2023-02-19T07:52:12.087Z"
   },
   {
    "duration": 937,
    "start_time": "2023-02-19T07:52:12.275Z"
   },
   {
    "duration": 664,
    "start_time": "2023-02-19T07:52:13.214Z"
   },
   {
    "duration": 125,
    "start_time": "2023-02-19T07:52:13.880Z"
   },
   {
    "duration": 547,
    "start_time": "2023-02-19T07:52:14.007Z"
   },
   {
    "duration": 110,
    "start_time": "2023-02-19T07:52:14.557Z"
   },
   {
    "duration": 459,
    "start_time": "2023-02-19T07:52:14.669Z"
   },
   {
    "duration": 128,
    "start_time": "2023-02-19T07:52:15.130Z"
   },
   {
    "duration": 5,
    "start_time": "2023-02-19T07:52:15.261Z"
   },
   {
    "duration": 22,
    "start_time": "2023-02-19T07:52:15.267Z"
   },
   {
    "duration": 38,
    "start_time": "2023-02-19T07:52:15.291Z"
   },
   {
    "duration": 262,
    "start_time": "2023-02-19T07:52:15.332Z"
   },
   {
    "duration": 6,
    "start_time": "2023-02-19T07:52:15.596Z"
   },
   {
    "duration": 71,
    "start_time": "2023-02-19T07:52:15.604Z"
   },
   {
    "duration": 29,
    "start_time": "2023-02-19T07:52:15.677Z"
   },
   {
    "duration": 33,
    "start_time": "2023-02-19T07:52:15.707Z"
   },
   {
    "duration": 71,
    "start_time": "2023-02-19T07:52:15.742Z"
   },
   {
    "duration": 0,
    "start_time": "2023-02-19T07:52:15.814Z"
   },
   {
    "duration": 0,
    "start_time": "2023-02-19T07:52:15.816Z"
   },
   {
    "duration": 0,
    "start_time": "2023-02-19T07:52:15.817Z"
   },
   {
    "duration": 0,
    "start_time": "2023-02-19T07:52:15.819Z"
   },
   {
    "duration": 0,
    "start_time": "2023-02-19T07:52:15.821Z"
   },
   {
    "duration": 0,
    "start_time": "2023-02-19T07:52:15.822Z"
   },
   {
    "duration": 0,
    "start_time": "2023-02-19T07:52:15.824Z"
   },
   {
    "duration": 0,
    "start_time": "2023-02-19T07:52:15.826Z"
   },
   {
    "duration": 90,
    "start_time": "2023-02-19T07:52:30.214Z"
   },
   {
    "duration": 50584,
    "start_time": "2023-02-19T07:52:45.192Z"
   },
   {
    "duration": 138,
    "start_time": "2023-02-19T07:53:43.109Z"
   },
   {
    "duration": 18,
    "start_time": "2023-02-19T07:53:46.975Z"
   },
   {
    "duration": 177528,
    "start_time": "2023-02-19T07:53:49.053Z"
   },
   {
    "duration": 19,
    "start_time": "2023-02-19T07:56:58.337Z"
   },
   {
    "duration": 51,
    "start_time": "2023-02-19T08:04:15.109Z"
   },
   {
    "duration": 1137,
    "start_time": "2023-02-19T08:04:23.536Z"
   },
   {
    "duration": 884,
    "start_time": "2023-02-19T08:04:24.675Z"
   },
   {
    "duration": 22,
    "start_time": "2023-02-19T08:04:25.561Z"
   },
   {
    "duration": 157,
    "start_time": "2023-02-19T08:04:25.586Z"
   },
   {
    "duration": 143,
    "start_time": "2023-02-19T08:04:25.745Z"
   },
   {
    "duration": 743,
    "start_time": "2023-02-19T08:04:25.890Z"
   },
   {
    "duration": 603,
    "start_time": "2023-02-19T08:04:26.637Z"
   },
   {
    "duration": 120,
    "start_time": "2023-02-19T08:04:27.242Z"
   },
   {
    "duration": 505,
    "start_time": "2023-02-19T08:04:27.364Z"
   },
   {
    "duration": 89,
    "start_time": "2023-02-19T08:04:27.872Z"
   },
   {
    "duration": 494,
    "start_time": "2023-02-19T08:04:27.963Z"
   },
   {
    "duration": 120,
    "start_time": "2023-02-19T08:04:28.459Z"
   },
   {
    "duration": 18,
    "start_time": "2023-02-19T08:04:28.581Z"
   },
   {
    "duration": 23,
    "start_time": "2023-02-19T08:04:28.601Z"
   },
   {
    "duration": 30,
    "start_time": "2023-02-19T08:04:28.626Z"
   },
   {
    "duration": 261,
    "start_time": "2023-02-19T08:04:28.658Z"
   },
   {
    "duration": 5,
    "start_time": "2023-02-19T08:04:28.921Z"
   },
   {
    "duration": 46,
    "start_time": "2023-02-19T08:04:28.937Z"
   },
   {
    "duration": 27,
    "start_time": "2023-02-19T08:04:28.985Z"
   },
   {
    "duration": 19,
    "start_time": "2023-02-19T08:04:29.037Z"
   },
   {
    "duration": 45623,
    "start_time": "2023-02-19T08:04:29.060Z"
   },
   {
    "duration": 80,
    "start_time": "2023-02-19T08:05:14.685Z"
   },
   {
    "duration": 0,
    "start_time": "2023-02-19T08:05:14.767Z"
   },
   {
    "duration": 0,
    "start_time": "2023-02-19T08:05:14.769Z"
   },
   {
    "duration": 0,
    "start_time": "2023-02-19T08:05:14.770Z"
   },
   {
    "duration": 0,
    "start_time": "2023-02-19T08:05:14.772Z"
   },
   {
    "duration": 0,
    "start_time": "2023-02-19T08:05:14.773Z"
   },
   {
    "duration": 0,
    "start_time": "2023-02-19T08:05:14.774Z"
   },
   {
    "duration": 0,
    "start_time": "2023-02-19T08:05:14.776Z"
   },
   {
    "duration": 0,
    "start_time": "2023-02-19T08:05:14.777Z"
   },
   {
    "duration": 19,
    "start_time": "2023-02-19T08:08:34.419Z"
   },
   {
    "duration": 172919,
    "start_time": "2023-02-19T08:08:36.522Z"
   },
   {
    "duration": 16,
    "start_time": "2023-02-19T08:12:26.498Z"
   },
   {
    "duration": 334402,
    "start_time": "2023-02-19T08:12:48.942Z"
   },
   {
    "duration": 17,
    "start_time": "2023-02-19T08:23:19.303Z"
   },
   {
    "duration": 4,
    "start_time": "2023-02-19T08:28:39.278Z"
   },
   {
    "duration": 335170,
    "start_time": "2023-02-19T08:28:58.808Z"
   },
   {
    "duration": 194,
    "start_time": "2023-02-19T08:34:57.950Z"
   },
   {
    "duration": 330405,
    "start_time": "2023-02-19T08:35:08.615Z"
   },
   {
    "duration": 147,
    "start_time": "2023-02-19T08:41:18.902Z"
   },
   {
    "duration": 341352,
    "start_time": "2023-02-19T08:41:42.994Z"
   },
   {
    "duration": 72,
    "start_time": "2023-02-19T08:47:24.348Z"
   },
   {
    "duration": 0,
    "start_time": "2023-02-19T08:47:24.422Z"
   },
   {
    "duration": 196,
    "start_time": "2023-02-19T08:48:22.431Z"
   },
   {
    "duration": 76,
    "start_time": "2023-02-19T08:49:25.323Z"
   },
   {
    "duration": 147,
    "start_time": "2023-02-19T08:49:32.396Z"
   },
   {
    "duration": 2180,
    "start_time": "2023-02-19T08:50:25.905Z"
   },
   {
    "duration": 13,
    "start_time": "2023-02-19T08:50:57.821Z"
   },
   {
    "duration": 45,
    "start_time": "2023-02-19T11:09:08.876Z"
   },
   {
    "duration": 31,
    "start_time": "2023-02-19T11:09:26.039Z"
   },
   {
    "duration": 21,
    "start_time": "2023-02-19T11:13:31.544Z"
   },
   {
    "duration": 13,
    "start_time": "2023-02-19T11:13:42.602Z"
   },
   {
    "duration": 20,
    "start_time": "2023-02-19T11:14:10.645Z"
   },
   {
    "duration": 10,
    "start_time": "2023-02-19T11:18:33.610Z"
   },
   {
    "duration": 3,
    "start_time": "2023-02-19T11:19:00.107Z"
   },
   {
    "duration": 38,
    "start_time": "2023-02-19T11:19:05.444Z"
   },
   {
    "duration": 71,
    "start_time": "2023-02-19T11:19:31.279Z"
   },
   {
    "duration": 116,
    "start_time": "2023-02-19T11:41:45.022Z"
   },
   {
    "duration": 72,
    "start_time": "2023-02-19T11:44:52.937Z"
   },
   {
    "duration": 1415,
    "start_time": "2023-02-19T12:43:02.715Z"
   },
   {
    "duration": 3276,
    "start_time": "2023-02-19T12:43:04.132Z"
   },
   {
    "duration": 21,
    "start_time": "2023-02-19T12:43:07.410Z"
   },
   {
    "duration": 154,
    "start_time": "2023-02-19T12:43:07.433Z"
   },
   {
    "duration": 153,
    "start_time": "2023-02-19T12:43:07.590Z"
   },
   {
    "duration": 711,
    "start_time": "2023-02-19T12:43:07.745Z"
   },
   {
    "duration": 638,
    "start_time": "2023-02-19T12:43:08.458Z"
   },
   {
    "duration": 142,
    "start_time": "2023-02-19T12:43:09.098Z"
   },
   {
    "duration": 606,
    "start_time": "2023-02-19T12:43:09.242Z"
   },
   {
    "duration": 92,
    "start_time": "2023-02-19T12:43:09.850Z"
   },
   {
    "duration": 472,
    "start_time": "2023-02-19T12:43:09.944Z"
   },
   {
    "duration": 137,
    "start_time": "2023-02-19T12:43:10.418Z"
   },
   {
    "duration": 23,
    "start_time": "2023-02-19T12:43:10.557Z"
   },
   {
    "duration": 25,
    "start_time": "2023-02-19T12:43:10.584Z"
   },
   {
    "duration": 333,
    "start_time": "2023-02-19T12:43:10.614Z"
   },
   {
    "duration": 7,
    "start_time": "2023-02-19T12:43:10.950Z"
   },
   {
    "duration": 347077,
    "start_time": "2023-02-19T12:43:10.960Z"
   },
   {
    "duration": 1443,
    "start_time": "2023-02-19T12:53:38.544Z"
   },
   {
    "duration": 996,
    "start_time": "2023-02-19T12:53:39.990Z"
   },
   {
    "duration": 24,
    "start_time": "2023-02-19T12:53:40.988Z"
   },
   {
    "duration": 167,
    "start_time": "2023-02-19T12:53:41.014Z"
   },
   {
    "duration": 161,
    "start_time": "2023-02-19T12:53:41.184Z"
   },
   {
    "duration": 699,
    "start_time": "2023-02-19T12:53:41.348Z"
   },
   {
    "duration": 906,
    "start_time": "2023-02-19T12:53:42.049Z"
   },
   {
    "duration": 122,
    "start_time": "2023-02-19T12:53:42.957Z"
   },
   {
    "duration": 651,
    "start_time": "2023-02-19T12:53:43.081Z"
   },
   {
    "duration": 84,
    "start_time": "2023-02-19T12:53:43.737Z"
   },
   {
    "duration": 501,
    "start_time": "2023-02-19T12:53:43.823Z"
   },
   {
    "duration": 128,
    "start_time": "2023-02-19T12:53:44.326Z"
   },
   {
    "duration": 15,
    "start_time": "2023-02-19T12:53:44.456Z"
   },
   {
    "duration": 29,
    "start_time": "2023-02-19T12:53:44.474Z"
   },
   {
    "duration": 290,
    "start_time": "2023-02-19T12:53:44.505Z"
   },
   {
    "duration": 6,
    "start_time": "2023-02-19T12:53:44.797Z"
   },
   {
    "duration": 346226,
    "start_time": "2023-02-19T12:53:44.805Z"
   },
   {
    "duration": 339098,
    "start_time": "2023-02-19T12:59:31.033Z"
   },
   {
    "duration": 325736,
    "start_time": "2023-02-19T13:05:10.133Z"
   },
   {
    "duration": 327552,
    "start_time": "2023-02-19T13:10:35.871Z"
   },
   {
    "duration": 150,
    "start_time": "2023-02-19T13:16:03.425Z"
   },
   {
    "duration": 2279,
    "start_time": "2023-02-19T13:16:03.577Z"
   },
   {
    "duration": 12,
    "start_time": "2023-02-19T13:16:05.858Z"
   },
   {
    "duration": 20,
    "start_time": "2023-02-19T13:16:05.872Z"
   },
   {
    "duration": 75,
    "start_time": "2023-02-19T13:16:05.894Z"
   },
   {
    "duration": 48,
    "start_time": "2023-02-19T13:16:32.329Z"
   },
   {
    "duration": 1538,
    "start_time": "2023-02-19T13:17:15.129Z"
   },
   {
    "duration": 3663,
    "start_time": "2023-02-19T13:17:16.670Z"
   },
   {
    "duration": 32,
    "start_time": "2023-02-19T13:17:20.335Z"
   },
   {
    "duration": 192,
    "start_time": "2023-02-19T13:17:20.369Z"
   },
   {
    "duration": 155,
    "start_time": "2023-02-19T13:17:20.563Z"
   },
   {
    "duration": 725,
    "start_time": "2023-02-19T13:17:20.720Z"
   },
   {
    "duration": 706,
    "start_time": "2023-02-19T13:17:21.447Z"
   },
   {
    "duration": 127,
    "start_time": "2023-02-19T13:17:22.155Z"
   },
   {
    "duration": 679,
    "start_time": "2023-02-19T13:17:22.284Z"
   },
   {
    "duration": 95,
    "start_time": "2023-02-19T13:17:22.965Z"
   },
   {
    "duration": 514,
    "start_time": "2023-02-19T13:17:23.061Z"
   },
   {
    "duration": 145,
    "start_time": "2023-02-19T13:17:23.577Z"
   },
   {
    "duration": 30,
    "start_time": "2023-02-19T13:17:23.724Z"
   },
   {
    "duration": 43,
    "start_time": "2023-02-19T13:17:23.758Z"
   },
   {
    "duration": 287,
    "start_time": "2023-02-19T13:17:23.803Z"
   },
   {
    "duration": 4,
    "start_time": "2023-02-19T13:17:24.092Z"
   },
   {
    "duration": 341071,
    "start_time": "2023-02-19T13:17:24.098Z"
   },
   {
    "duration": 335398,
    "start_time": "2023-02-19T13:23:05.171Z"
   },
   {
    "duration": 327267,
    "start_time": "2023-02-19T13:28:40.571Z"
   },
   {
    "duration": 342501,
    "start_time": "2023-02-19T13:34:07.840Z"
   },
   {
    "duration": 186,
    "start_time": "2023-02-19T13:39:50.342Z"
   },
   {
    "duration": 2481,
    "start_time": "2023-02-19T13:39:50.538Z"
   },
   {
    "duration": 17,
    "start_time": "2023-02-19T13:39:53.021Z"
   },
   {
    "duration": 56,
    "start_time": "2023-02-19T13:39:53.040Z"
   },
   {
    "duration": 101,
    "start_time": "2023-02-19T13:39:53.098Z"
   },
   {
    "duration": 1391,
    "start_time": "2023-02-19T13:42:35.651Z"
   },
   {
    "duration": 12,
    "start_time": "2023-02-19T13:42:48.492Z"
   },
   {
    "duration": 46,
    "start_time": "2023-02-19T13:42:52.101Z"
   },
   {
    "duration": 4,
    "start_time": "2023-02-19T13:43:14.551Z"
   },
   {
    "duration": 1443,
    "start_time": "2023-02-19T13:58:55.836Z"
   },
   {
    "duration": 3267,
    "start_time": "2023-02-19T13:58:57.282Z"
   },
   {
    "duration": 22,
    "start_time": "2023-02-19T13:59:00.551Z"
   },
   {
    "duration": 198,
    "start_time": "2023-02-19T13:59:00.575Z"
   },
   {
    "duration": 178,
    "start_time": "2023-02-19T13:59:00.776Z"
   },
   {
    "duration": 691,
    "start_time": "2023-02-19T13:59:00.956Z"
   },
   {
    "duration": 657,
    "start_time": "2023-02-19T13:59:01.649Z"
   },
   {
    "duration": 129,
    "start_time": "2023-02-19T13:59:02.308Z"
   },
   {
    "duration": 527,
    "start_time": "2023-02-19T13:59:02.440Z"
   },
   {
    "duration": 105,
    "start_time": "2023-02-19T13:59:02.969Z"
   },
   {
    "duration": 528,
    "start_time": "2023-02-19T13:59:03.079Z"
   },
   {
    "duration": 138,
    "start_time": "2023-02-19T13:59:03.610Z"
   },
   {
    "duration": 14,
    "start_time": "2023-02-19T13:59:03.750Z"
   },
   {
    "duration": 27,
    "start_time": "2023-02-19T13:59:03.769Z"
   },
   {
    "duration": 270,
    "start_time": "2023-02-19T13:59:03.797Z"
   },
   {
    "duration": 5,
    "start_time": "2023-02-19T13:59:04.069Z"
   },
   {
    "duration": 341362,
    "start_time": "2023-02-19T13:59:04.076Z"
   },
   {
    "duration": 355740,
    "start_time": "2023-02-19T14:04:45.439Z"
   },
   {
    "duration": 337673,
    "start_time": "2023-02-19T14:10:41.182Z"
   },
   {
    "duration": 354610,
    "start_time": "2023-02-19T14:16:18.857Z"
   },
   {
    "duration": 138,
    "start_time": "2023-02-19T14:22:13.469Z"
   },
   {
    "duration": 3,
    "start_time": "2023-02-19T14:22:13.609Z"
   },
   {
    "duration": 41,
    "start_time": "2023-02-19T14:22:13.615Z"
   },
   {
    "duration": 97,
    "start_time": "2023-02-19T14:22:13.658Z"
   },
   {
    "duration": 92,
    "start_time": "2023-02-19T14:22:13.757Z"
   },
   {
    "duration": 3,
    "start_time": "2023-02-19T14:22:13.851Z"
   },
   {
    "duration": 205,
    "start_time": "2023-02-19T14:22:13.856Z"
   },
   {
    "duration": 7,
    "start_time": "2023-02-19T14:33:24.159Z"
   },
   {
    "duration": 110,
    "start_time": "2023-02-19T15:31:20.944Z"
   },
   {
    "duration": 3,
    "start_time": "2023-02-19T15:31:33.147Z"
   },
   {
    "duration": 4,
    "start_time": "2023-02-19T15:31:52.445Z"
   },
   {
    "duration": 4,
    "start_time": "2023-02-19T15:32:39.457Z"
   },
   {
    "duration": 3,
    "start_time": "2023-02-19T15:34:16.795Z"
   },
   {
    "duration": 1220,
    "start_time": "2023-02-19T15:34:54.747Z"
   },
   {
    "duration": 1160,
    "start_time": "2023-02-19T15:35:59.991Z"
   },
   {
    "duration": 17,
    "start_time": "2023-02-19T15:36:37.611Z"
   },
   {
    "duration": 19,
    "start_time": "2023-02-19T15:37:43.988Z"
   },
   {
    "duration": 82,
    "start_time": "2023-02-19T15:37:45.042Z"
   },
   {
    "duration": 4,
    "start_time": "2023-02-19T15:41:13.909Z"
   },
   {
    "duration": 1806,
    "start_time": "2023-02-19T15:57:18.333Z"
   },
   {
    "duration": 3237,
    "start_time": "2023-02-19T15:57:20.142Z"
   },
   {
    "duration": 23,
    "start_time": "2023-02-19T15:57:23.381Z"
   },
   {
    "duration": 167,
    "start_time": "2023-02-19T15:57:23.406Z"
   },
   {
    "duration": 159,
    "start_time": "2023-02-19T15:57:23.575Z"
   },
   {
    "duration": 736,
    "start_time": "2023-02-19T15:57:23.737Z"
   },
   {
    "duration": 695,
    "start_time": "2023-02-19T15:57:24.475Z"
   },
   {
    "duration": 136,
    "start_time": "2023-02-19T15:57:25.172Z"
   },
   {
    "duration": 551,
    "start_time": "2023-02-19T15:57:25.310Z"
   },
   {
    "duration": 124,
    "start_time": "2023-02-19T15:57:25.863Z"
   },
   {
    "duration": 495,
    "start_time": "2023-02-19T15:57:25.989Z"
   },
   {
    "duration": 137,
    "start_time": "2023-02-19T15:57:26.486Z"
   },
   {
    "duration": 22,
    "start_time": "2023-02-19T15:57:26.625Z"
   },
   {
    "duration": 33,
    "start_time": "2023-02-19T15:57:26.650Z"
   },
   {
    "duration": 260,
    "start_time": "2023-02-19T15:57:26.686Z"
   },
   {
    "duration": 4,
    "start_time": "2023-02-19T15:57:26.948Z"
   },
   {
    "duration": 1454,
    "start_time": "2023-02-19T15:57:37.291Z"
   },
   {
    "duration": 959,
    "start_time": "2023-02-19T15:57:38.752Z"
   },
   {
    "duration": 27,
    "start_time": "2023-02-19T15:57:39.713Z"
   },
   {
    "duration": 159,
    "start_time": "2023-02-19T15:57:39.743Z"
   },
   {
    "duration": 144,
    "start_time": "2023-02-19T15:57:39.904Z"
   },
   {
    "duration": 685,
    "start_time": "2023-02-19T15:57:40.050Z"
   },
   {
    "duration": 628,
    "start_time": "2023-02-19T15:57:40.738Z"
   },
   {
    "duration": 131,
    "start_time": "2023-02-19T15:57:41.368Z"
   },
   {
    "duration": 550,
    "start_time": "2023-02-19T15:57:41.501Z"
   },
   {
    "duration": 94,
    "start_time": "2023-02-19T15:57:42.053Z"
   },
   {
    "duration": 554,
    "start_time": "2023-02-19T15:57:42.149Z"
   },
   {
    "duration": 136,
    "start_time": "2023-02-19T15:57:42.705Z"
   },
   {
    "duration": 15,
    "start_time": "2023-02-19T15:57:42.843Z"
   },
   {
    "duration": 22,
    "start_time": "2023-02-19T15:57:42.867Z"
   },
   {
    "duration": 283,
    "start_time": "2023-02-19T15:57:42.891Z"
   },
   {
    "duration": 4,
    "start_time": "2023-02-19T15:57:43.176Z"
   },
   {
    "duration": 339811,
    "start_time": "2023-02-19T15:57:43.181Z"
   },
   {
    "duration": 336934,
    "start_time": "2023-02-19T16:03:22.994Z"
   },
   {
    "duration": 1295,
    "start_time": "2023-02-19T16:12:16.488Z"
   },
   {
    "duration": 961,
    "start_time": "2023-02-19T16:12:17.785Z"
   },
   {
    "duration": 21,
    "start_time": "2023-02-19T16:12:18.748Z"
   },
   {
    "duration": 149,
    "start_time": "2023-02-19T16:12:18.771Z"
   },
   {
    "duration": 162,
    "start_time": "2023-02-19T16:12:18.923Z"
   },
   {
    "duration": 643,
    "start_time": "2023-02-19T16:12:19.086Z"
   },
   {
    "duration": 7,
    "start_time": "2023-02-19T16:12:19.731Z"
   },
   {
    "duration": 165,
    "start_time": "2023-02-19T16:12:19.740Z"
   },
   {
    "duration": 10,
    "start_time": "2023-02-19T16:12:19.907Z"
   },
   {
    "duration": 182,
    "start_time": "2023-02-19T16:12:19.919Z"
   },
   {
    "duration": 9,
    "start_time": "2023-02-19T16:12:20.103Z"
   },
   {
    "duration": 163,
    "start_time": "2023-02-19T16:12:20.114Z"
   },
   {
    "duration": 14,
    "start_time": "2023-02-19T16:12:20.279Z"
   },
   {
    "duration": 14,
    "start_time": "2023-02-19T16:12:20.296Z"
   },
   {
    "duration": 26,
    "start_time": "2023-02-19T16:12:20.312Z"
   },
   {
    "duration": 19,
    "start_time": "2023-02-19T16:12:20.340Z"
   },
   {
    "duration": 4,
    "start_time": "2023-02-19T16:12:20.361Z"
   },
   {
    "duration": 13626,
    "start_time": "2023-02-19T16:12:20.367Z"
   },
   {
    "duration": 1498,
    "start_time": "2023-02-19T16:12:47.049Z"
   },
   {
    "duration": 943,
    "start_time": "2023-02-19T16:12:48.550Z"
   },
   {
    "duration": 22,
    "start_time": "2023-02-19T16:12:49.495Z"
   },
   {
    "duration": 159,
    "start_time": "2023-02-19T16:12:49.519Z"
   },
   {
    "duration": 146,
    "start_time": "2023-02-19T16:12:49.681Z"
   },
   {
    "duration": 668,
    "start_time": "2023-02-19T16:12:49.828Z"
   },
   {
    "duration": 3,
    "start_time": "2023-02-19T16:12:50.497Z"
   },
   {
    "duration": 176,
    "start_time": "2023-02-19T16:12:50.502Z"
   },
   {
    "duration": 10,
    "start_time": "2023-02-19T16:12:50.679Z"
   },
   {
    "duration": 194,
    "start_time": "2023-02-19T16:12:50.690Z"
   },
   {
    "duration": 10,
    "start_time": "2023-02-19T16:12:50.886Z"
   },
   {
    "duration": 197,
    "start_time": "2023-02-19T16:12:50.898Z"
   },
   {
    "duration": 15,
    "start_time": "2023-02-19T16:12:51.096Z"
   },
   {
    "duration": 33,
    "start_time": "2023-02-19T16:12:51.114Z"
   },
   {
    "duration": 8,
    "start_time": "2023-02-19T16:12:51.149Z"
   },
   {
    "duration": 23,
    "start_time": "2023-02-19T16:12:51.159Z"
   },
   {
    "duration": 14,
    "start_time": "2023-02-19T16:12:51.184Z"
   },
   {
    "duration": 14377,
    "start_time": "2023-02-19T16:12:51.200Z"
   },
   {
    "duration": 14029,
    "start_time": "2023-02-19T16:13:05.580Z"
   },
   {
    "duration": 13695,
    "start_time": "2023-02-19T16:13:19.611Z"
   },
   {
    "duration": 13582,
    "start_time": "2023-02-19T16:13:33.308Z"
   },
   {
    "duration": 14,
    "start_time": "2023-02-19T16:13:46.891Z"
   },
   {
    "duration": 3,
    "start_time": "2023-02-19T16:13:46.906Z"
   },
   {
    "duration": 28,
    "start_time": "2023-02-19T16:13:46.911Z"
   },
   {
    "duration": 13,
    "start_time": "2023-02-19T16:13:46.941Z"
   },
   {
    "duration": 17,
    "start_time": "2023-02-19T16:13:46.956Z"
   },
   {
    "duration": 66,
    "start_time": "2023-02-19T16:13:46.975Z"
   },
   {
    "duration": 5,
    "start_time": "2023-02-19T16:13:47.042Z"
   },
   {
    "duration": 29,
    "start_time": "2023-02-19T16:13:47.049Z"
   },
   {
    "duration": 73,
    "start_time": "2023-02-19T16:13:47.080Z"
   },
   {
    "duration": 0,
    "start_time": "2023-02-19T16:13:47.155Z"
   },
   {
    "duration": 0,
    "start_time": "2023-02-19T16:13:47.156Z"
   },
   {
    "duration": 1287,
    "start_time": "2023-02-19T16:24:07.988Z"
   },
   {
    "duration": 911,
    "start_time": "2023-02-19T16:24:09.277Z"
   },
   {
    "duration": 20,
    "start_time": "2023-02-19T16:24:10.190Z"
   },
   {
    "duration": 179,
    "start_time": "2023-02-19T16:24:10.213Z"
   },
   {
    "duration": 133,
    "start_time": "2023-02-19T16:24:10.394Z"
   },
   {
    "duration": 666,
    "start_time": "2023-02-19T16:24:10.538Z"
   },
   {
    "duration": 3,
    "start_time": "2023-02-19T16:24:11.206Z"
   },
   {
    "duration": 185,
    "start_time": "2023-02-19T16:24:11.210Z"
   },
   {
    "duration": 11,
    "start_time": "2023-02-19T16:24:11.397Z"
   },
   {
    "duration": 201,
    "start_time": "2023-02-19T16:24:11.410Z"
   },
   {
    "duration": 10,
    "start_time": "2023-02-19T16:24:11.613Z"
   },
   {
    "duration": 184,
    "start_time": "2023-02-19T16:24:11.637Z"
   },
   {
    "duration": 20,
    "start_time": "2023-02-19T16:24:11.823Z"
   },
   {
    "duration": 22,
    "start_time": "2023-02-19T16:24:11.846Z"
   },
   {
    "duration": 11,
    "start_time": "2023-02-19T16:24:11.870Z"
   },
   {
    "duration": 22,
    "start_time": "2023-02-19T16:24:11.883Z"
   },
   {
    "duration": 10,
    "start_time": "2023-02-19T16:24:11.908Z"
   },
   {
    "duration": 13842,
    "start_time": "2023-02-19T16:24:11.920Z"
   },
   {
    "duration": 14136,
    "start_time": "2023-02-19T16:24:25.763Z"
   },
   {
    "duration": 13619,
    "start_time": "2023-02-19T16:24:39.901Z"
   },
   {
    "duration": 12943,
    "start_time": "2023-02-19T16:24:53.522Z"
   },
   {
    "duration": 17,
    "start_time": "2023-02-19T16:25:06.467Z"
   },
   {
    "duration": 11,
    "start_time": "2023-02-19T16:25:06.485Z"
   },
   {
    "duration": 30,
    "start_time": "2023-02-19T16:25:06.498Z"
   },
   {
    "duration": 9,
    "start_time": "2023-02-19T16:25:06.530Z"
   },
   {
    "duration": 9,
    "start_time": "2023-02-19T16:25:06.541Z"
   },
   {
    "duration": 61,
    "start_time": "2023-02-19T16:25:06.552Z"
   },
   {
    "duration": 6,
    "start_time": "2023-02-19T16:25:06.615Z"
   },
   {
    "duration": 26,
    "start_time": "2023-02-19T16:25:06.623Z"
   },
   {
    "duration": 1378,
    "start_time": "2023-02-19T16:30:24.229Z"
   },
   {
    "duration": 950,
    "start_time": "2023-02-19T16:30:25.610Z"
   },
   {
    "duration": 28,
    "start_time": "2023-02-19T16:30:26.562Z"
   },
   {
    "duration": 248,
    "start_time": "2023-02-19T16:30:26.592Z"
   },
   {
    "duration": 144,
    "start_time": "2023-02-19T16:30:26.843Z"
   },
   {
    "duration": 761,
    "start_time": "2023-02-19T16:30:26.989Z"
   },
   {
    "duration": 5,
    "start_time": "2023-02-19T16:30:27.752Z"
   },
   {
    "duration": 185,
    "start_time": "2023-02-19T16:30:27.759Z"
   },
   {
    "duration": 10,
    "start_time": "2023-02-19T16:30:27.945Z"
   },
   {
    "duration": 240,
    "start_time": "2023-02-19T16:30:27.957Z"
   },
   {
    "duration": 13,
    "start_time": "2023-02-19T16:30:28.199Z"
   },
   {
    "duration": 212,
    "start_time": "2023-02-19T16:30:28.214Z"
   },
   {
    "duration": 21,
    "start_time": "2023-02-19T16:30:28.428Z"
   },
   {
    "duration": 26,
    "start_time": "2023-02-19T16:30:28.453Z"
   },
   {
    "duration": 10,
    "start_time": "2023-02-19T16:30:28.481Z"
   },
   {
    "duration": 39,
    "start_time": "2023-02-19T16:30:28.493Z"
   },
   {
    "duration": 27,
    "start_time": "2023-02-19T16:30:28.534Z"
   },
   {
    "duration": 13825,
    "start_time": "2023-02-19T16:30:28.563Z"
   },
   {
    "duration": 13606,
    "start_time": "2023-02-19T16:30:42.395Z"
   },
   {
    "duration": 13593,
    "start_time": "2023-02-19T16:30:56.002Z"
   },
   {
    "duration": 14318,
    "start_time": "2023-02-19T16:31:09.597Z"
   },
   {
    "duration": 22,
    "start_time": "2023-02-19T16:31:23.917Z"
   },
   {
    "duration": 3,
    "start_time": "2023-02-19T16:31:23.941Z"
   },
   {
    "duration": 22,
    "start_time": "2023-02-19T16:31:23.945Z"
   },
   {
    "duration": 6,
    "start_time": "2023-02-19T16:31:23.969Z"
   },
   {
    "duration": 11,
    "start_time": "2023-02-19T16:31:23.977Z"
   },
   {
    "duration": 81,
    "start_time": "2023-02-19T16:31:23.990Z"
   },
   {
    "duration": 5,
    "start_time": "2023-02-19T16:31:24.073Z"
   },
   {
    "duration": 18,
    "start_time": "2023-02-19T16:31:24.080Z"
   },
   {
    "duration": 3056,
    "start_time": "2023-02-19T16:32:26.141Z"
   },
   {
    "duration": 1384,
    "start_time": "2023-02-19T16:32:29.200Z"
   },
   {
    "duration": 980,
    "start_time": "2023-02-19T16:32:30.587Z"
   },
   {
    "duration": 21,
    "start_time": "2023-02-19T16:32:31.569Z"
   },
   {
    "duration": 181,
    "start_time": "2023-02-19T16:32:31.591Z"
   },
   {
    "duration": 177,
    "start_time": "2023-02-19T16:32:31.775Z"
   },
   {
    "duration": 728,
    "start_time": "2023-02-19T16:32:31.955Z"
   },
   {
    "duration": 6,
    "start_time": "2023-02-19T16:32:32.685Z"
   },
   {
    "duration": 245,
    "start_time": "2023-02-19T16:32:32.693Z"
   },
   {
    "duration": 10,
    "start_time": "2023-02-19T16:32:32.941Z"
   },
   {
    "duration": 198,
    "start_time": "2023-02-19T16:32:32.953Z"
   },
   {
    "duration": 10,
    "start_time": "2023-02-19T16:32:33.153Z"
   },
   {
    "duration": 196,
    "start_time": "2023-02-19T16:32:33.165Z"
   },
   {
    "duration": 15,
    "start_time": "2023-02-19T16:32:33.362Z"
   },
   {
    "duration": 20,
    "start_time": "2023-02-19T16:32:33.379Z"
   },
   {
    "duration": 17,
    "start_time": "2023-02-19T16:32:33.401Z"
   },
   {
    "duration": 33,
    "start_time": "2023-02-19T16:32:33.420Z"
   },
   {
    "duration": 17,
    "start_time": "2023-02-19T16:32:33.455Z"
   },
   {
    "duration": 14090,
    "start_time": "2023-02-19T16:32:33.474Z"
   },
   {
    "duration": 14237,
    "start_time": "2023-02-19T16:32:47.569Z"
   },
   {
    "duration": 14030,
    "start_time": "2023-02-19T16:33:01.809Z"
   },
   {
    "duration": 14265,
    "start_time": "2023-02-19T16:33:15.841Z"
   },
   {
    "duration": 15,
    "start_time": "2023-02-19T16:33:30.108Z"
   },
   {
    "duration": 20,
    "start_time": "2023-02-19T16:33:30.125Z"
   },
   {
    "duration": 46,
    "start_time": "2023-02-19T16:33:30.147Z"
   },
   {
    "duration": 37,
    "start_time": "2023-02-19T16:33:30.196Z"
   },
   {
    "duration": 54,
    "start_time": "2023-02-19T16:33:30.235Z"
   },
   {
    "duration": 81,
    "start_time": "2023-02-19T16:33:30.294Z"
   },
   {
    "duration": 6,
    "start_time": "2023-02-19T16:33:30.377Z"
   },
   {
    "duration": 71,
    "start_time": "2023-02-19T16:33:30.384Z"
   },
   {
    "duration": 1933715,
    "start_time": "2023-02-19T16:33:30.458Z"
   },
   {
    "duration": 3,
    "start_time": "2023-02-19T17:05:44.175Z"
   },
   {
    "duration": 4,
    "start_time": "2023-02-19T17:53:17.037Z"
   },
   {
    "duration": 2571,
    "start_time": "2023-02-19T17:53:21.875Z"
   },
   {
    "duration": 1479,
    "start_time": "2023-02-19T17:53:24.449Z"
   },
   {
    "duration": 962,
    "start_time": "2023-02-19T17:53:25.930Z"
   },
   {
    "duration": 21,
    "start_time": "2023-02-19T17:53:26.894Z"
   },
   {
    "duration": 162,
    "start_time": "2023-02-19T17:53:26.917Z"
   },
   {
    "duration": 141,
    "start_time": "2023-02-19T17:53:27.082Z"
   },
   {
    "duration": 694,
    "start_time": "2023-02-19T17:53:27.224Z"
   },
   {
    "duration": 4,
    "start_time": "2023-02-19T17:53:27.919Z"
   },
   {
    "duration": 238,
    "start_time": "2023-02-19T17:53:27.924Z"
   },
   {
    "duration": 24,
    "start_time": "2023-02-19T17:53:28.164Z"
   },
   {
    "duration": 211,
    "start_time": "2023-02-19T17:53:28.190Z"
   },
   {
    "duration": 35,
    "start_time": "2023-02-19T17:53:28.404Z"
   },
   {
    "duration": 240,
    "start_time": "2023-02-19T17:53:28.442Z"
   },
   {
    "duration": 27,
    "start_time": "2023-02-19T17:53:28.687Z"
   },
   {
    "duration": 31,
    "start_time": "2023-02-19T17:53:28.716Z"
   },
   {
    "duration": 16,
    "start_time": "2023-02-19T17:53:28.749Z"
   },
   {
    "duration": 51,
    "start_time": "2023-02-19T17:53:28.767Z"
   },
   {
    "duration": 93,
    "start_time": "2023-02-19T17:53:28.820Z"
   },
   {
    "duration": 39980,
    "start_time": "2023-02-19T17:53:28.916Z"
   },
   {
    "duration": 40686,
    "start_time": "2023-02-19T17:54:08.898Z"
   },
   {
    "duration": 41104,
    "start_time": "2023-02-19T17:54:49.586Z"
   },
   {
    "duration": 44578,
    "start_time": "2023-02-19T17:55:30.693Z"
   },
   {
    "duration": 27,
    "start_time": "2023-02-19T17:56:15.273Z"
   },
   {
    "duration": 12,
    "start_time": "2023-02-19T17:56:15.302Z"
   },
   {
    "duration": 39,
    "start_time": "2023-02-19T17:56:15.316Z"
   },
   {
    "duration": 10,
    "start_time": "2023-02-19T17:56:15.358Z"
   },
   {
    "duration": 37,
    "start_time": "2023-02-19T17:56:15.370Z"
   },
   {
    "duration": 187,
    "start_time": "2023-02-19T17:56:15.410Z"
   },
   {
    "duration": 7,
    "start_time": "2023-02-19T17:56:15.599Z"
   },
   {
    "duration": 17,
    "start_time": "2023-02-19T17:56:15.608Z"
   },
   {
    "duration": 9539205,
    "start_time": "2023-02-19T17:56:15.639Z"
   },
   {
    "duration": 3,
    "start_time": "2023-02-19T20:35:14.846Z"
   },
   {
    "duration": 1165,
    "start_time": "2023-02-19T20:43:43.776Z"
   },
   {
    "duration": 841,
    "start_time": "2023-02-19T20:43:44.943Z"
   },
   {
    "duration": 19,
    "start_time": "2023-02-19T20:43:45.785Z"
   },
   {
    "duration": 141,
    "start_time": "2023-02-19T20:43:45.806Z"
   },
   {
    "duration": 133,
    "start_time": "2023-02-19T20:43:45.949Z"
   },
   {
    "duration": 654,
    "start_time": "2023-02-19T20:43:46.084Z"
   },
   {
    "duration": 3,
    "start_time": "2023-02-19T20:43:46.739Z"
   },
   {
    "duration": 171,
    "start_time": "2023-02-19T20:43:46.744Z"
   },
   {
    "duration": 7,
    "start_time": "2023-02-19T20:43:46.916Z"
   },
   {
    "duration": 169,
    "start_time": "2023-02-19T20:43:46.925Z"
   },
   {
    "duration": 7,
    "start_time": "2023-02-19T20:43:47.096Z"
   },
   {
    "duration": 168,
    "start_time": "2023-02-19T20:43:47.104Z"
   },
   {
    "duration": 14,
    "start_time": "2023-02-19T20:43:47.275Z"
   },
   {
    "duration": 26,
    "start_time": "2023-02-19T20:43:47.294Z"
   },
   {
    "duration": 20,
    "start_time": "2023-02-19T20:43:47.321Z"
   },
   {
    "duration": 17,
    "start_time": "2023-02-19T20:43:47.343Z"
   },
   {
    "duration": 16,
    "start_time": "2023-02-19T20:43:47.361Z"
   },
   {
    "duration": 6495,
    "start_time": "2023-02-19T20:43:47.379Z"
   },
   {
    "duration": 6321,
    "start_time": "2023-02-19T20:43:53.875Z"
   },
   {
    "duration": 6204,
    "start_time": "2023-02-19T20:44:00.198Z"
   },
   {
    "duration": 6422,
    "start_time": "2023-02-19T20:44:06.404Z"
   },
   {
    "duration": 16,
    "start_time": "2023-02-19T20:44:12.828Z"
   },
   {
    "duration": 16,
    "start_time": "2023-02-19T20:44:12.846Z"
   },
   {
    "duration": 8,
    "start_time": "2023-02-19T20:44:12.864Z"
   },
   {
    "duration": 12,
    "start_time": "2023-02-19T20:44:12.873Z"
   },
   {
    "duration": 6,
    "start_time": "2023-02-19T20:44:12.886Z"
   },
   {
    "duration": 72,
    "start_time": "2023-02-19T20:44:12.894Z"
   },
   {
    "duration": 33,
    "start_time": "2023-02-19T20:44:12.968Z"
   },
   {
    "duration": 11254,
    "start_time": "2023-02-19T20:44:13.003Z"
   },
   {
    "duration": 1653,
    "start_time": "2023-02-19T20:44:24.259Z"
   },
   {
    "duration": 3,
    "start_time": "2023-02-19T20:44:25.914Z"
   },
   {
    "duration": 402719,
    "start_time": "2023-02-19T20:44:25.919Z"
   },
   {
    "duration": 0,
    "start_time": "2023-02-19T20:51:08.640Z"
   },
   {
    "duration": 0,
    "start_time": "2023-02-19T20:51:08.641Z"
   },
   {
    "duration": 0,
    "start_time": "2023-02-19T20:51:08.642Z"
   },
   {
    "duration": 122911,
    "start_time": "2023-02-19T20:56:04.428Z"
   },
   {
    "duration": 49617,
    "start_time": "2023-02-19T21:07:21.790Z"
   },
   {
    "duration": 12,
    "start_time": "2023-02-19T21:08:11.409Z"
   },
   {
    "duration": 299,
    "start_time": "2023-02-19T21:08:24.469Z"
   },
   {
    "duration": 2158,
    "start_time": "2023-02-19T21:08:34.189Z"
   },
   {
    "duration": 1202,
    "start_time": "2023-02-19T21:09:37.341Z"
   },
   {
    "duration": 679,
    "start_time": "2023-02-19T21:09:39.453Z"
   },
   {
    "duration": 15,
    "start_time": "2023-02-19T21:09:41.476Z"
   },
   {
    "duration": 20,
    "start_time": "2023-02-19T21:10:13.342Z"
   },
   {
    "duration": 1085,
    "start_time": "2023-02-19T21:25:52.458Z"
   },
   {
    "duration": 687,
    "start_time": "2023-02-19T21:25:57.299Z"
   },
   {
    "duration": 762,
    "start_time": "2023-02-19T21:26:17.837Z"
   },
   {
    "duration": 23,
    "start_time": "2023-02-19T21:26:23.389Z"
   },
   {
    "duration": 1196,
    "start_time": "2023-02-19T21:29:39.029Z"
   },
   {
    "duration": 885,
    "start_time": "2023-02-19T21:29:40.227Z"
   },
   {
    "duration": 31,
    "start_time": "2023-02-19T21:29:41.117Z"
   },
   {
    "duration": 148,
    "start_time": "2023-02-19T21:29:41.150Z"
   },
   {
    "duration": 149,
    "start_time": "2023-02-19T21:29:41.300Z"
   },
   {
    "duration": 3,
    "start_time": "2023-02-19T21:29:41.450Z"
   },
   {
    "duration": 340,
    "start_time": "2023-02-19T21:29:41.455Z"
   },
   {
    "duration": 159,
    "start_time": "2023-02-19T21:29:41.797Z"
   },
   {
    "duration": 7,
    "start_time": "2023-02-19T21:29:41.958Z"
   },
   {
    "duration": 168,
    "start_time": "2023-02-19T21:29:41.966Z"
   },
   {
    "duration": 7,
    "start_time": "2023-02-19T21:29:42.138Z"
   },
   {
    "duration": 171,
    "start_time": "2023-02-19T21:29:42.147Z"
   },
   {
    "duration": 22,
    "start_time": "2023-02-19T21:29:42.321Z"
   },
   {
    "duration": 15,
    "start_time": "2023-02-19T21:29:42.345Z"
   },
   {
    "duration": 6,
    "start_time": "2023-02-19T21:29:42.362Z"
   },
   {
    "duration": 16,
    "start_time": "2023-02-19T21:29:42.370Z"
   },
   {
    "duration": 16,
    "start_time": "2023-02-19T21:29:42.388Z"
   },
   {
    "duration": 6244,
    "start_time": "2023-02-19T21:29:42.405Z"
   },
   {
    "duration": 6214,
    "start_time": "2023-02-19T21:29:48.651Z"
   },
   {
    "duration": 6161,
    "start_time": "2023-02-19T21:29:54.866Z"
   },
   {
    "duration": 6252,
    "start_time": "2023-02-19T21:30:01.029Z"
   },
   {
    "duration": 11,
    "start_time": "2023-02-19T21:30:07.283Z"
   },
   {
    "duration": 25,
    "start_time": "2023-02-19T21:30:07.296Z"
   },
   {
    "duration": 16,
    "start_time": "2023-02-19T21:30:07.323Z"
   },
   {
    "duration": 10,
    "start_time": "2023-02-19T21:30:07.341Z"
   },
   {
    "duration": 7,
    "start_time": "2023-02-19T21:30:07.353Z"
   },
   {
    "duration": 41,
    "start_time": "2023-02-19T21:30:07.362Z"
   },
   {
    "duration": 53,
    "start_time": "2023-02-19T21:30:07.405Z"
   },
   {
    "duration": 1083,
    "start_time": "2023-02-19T21:30:07.460Z"
   },
   {
    "duration": 1573,
    "start_time": "2023-02-19T21:30:08.545Z"
   },
   {
    "duration": 2,
    "start_time": "2023-02-19T21:30:10.120Z"
   },
   {
    "duration": 127614,
    "start_time": "2023-02-19T21:30:10.124Z"
   },
   {
    "duration": 51423,
    "start_time": "2023-02-19T21:32:17.740Z"
   },
   {
    "duration": 2085,
    "start_time": "2023-02-19T21:33:09.165Z"
   },
   {
    "duration": 1190,
    "start_time": "2023-02-19T21:33:11.252Z"
   },
   {
    "duration": 735,
    "start_time": "2023-02-19T21:33:12.444Z"
   },
   {
    "duration": 20,
    "start_time": "2023-02-19T21:33:13.180Z"
   },
   {
    "duration": 1413,
    "start_time": "2023-02-22T08:28:08.404Z"
   },
   {
    "duration": 1057,
    "start_time": "2023-02-22T08:28:09.819Z"
   },
   {
    "duration": 20,
    "start_time": "2023-02-22T08:28:10.878Z"
   },
   {
    "duration": 107,
    "start_time": "2023-02-22T08:28:10.899Z"
   },
   {
    "duration": 117,
    "start_time": "2023-02-22T08:28:11.009Z"
   },
   {
    "duration": 10,
    "start_time": "2023-02-22T08:28:11.127Z"
   },
   {
    "duration": 505,
    "start_time": "2023-02-22T08:28:11.139Z"
   },
   {
    "duration": 146,
    "start_time": "2023-02-22T08:28:11.646Z"
   },
   {
    "duration": 8,
    "start_time": "2023-02-22T08:28:11.795Z"
   },
   {
    "duration": 184,
    "start_time": "2023-02-22T08:28:11.805Z"
   },
   {
    "duration": 7,
    "start_time": "2023-02-22T08:28:11.991Z"
   },
   {
    "duration": 149,
    "start_time": "2023-02-22T08:28:11.999Z"
   },
   {
    "duration": 254,
    "start_time": "2023-02-22T08:28:12.151Z"
   },
   {
    "duration": 0,
    "start_time": "2023-02-22T08:28:12.408Z"
   },
   {
    "duration": 0,
    "start_time": "2023-02-22T08:28:12.409Z"
   },
   {
    "duration": 0,
    "start_time": "2023-02-22T08:28:12.410Z"
   },
   {
    "duration": 0,
    "start_time": "2023-02-22T08:28:12.412Z"
   },
   {
    "duration": 0,
    "start_time": "2023-02-22T08:28:12.412Z"
   },
   {
    "duration": 0,
    "start_time": "2023-02-22T08:28:12.414Z"
   },
   {
    "duration": 0,
    "start_time": "2023-02-22T08:28:12.415Z"
   },
   {
    "duration": 1,
    "start_time": "2023-02-22T08:28:12.416Z"
   },
   {
    "duration": 0,
    "start_time": "2023-02-22T08:28:12.418Z"
   },
   {
    "duration": 1,
    "start_time": "2023-02-22T08:28:12.437Z"
   },
   {
    "duration": 0,
    "start_time": "2023-02-22T08:28:12.440Z"
   },
   {
    "duration": 0,
    "start_time": "2023-02-22T08:28:12.441Z"
   },
   {
    "duration": 0,
    "start_time": "2023-02-22T08:28:12.443Z"
   },
   {
    "duration": 0,
    "start_time": "2023-02-22T08:28:12.444Z"
   },
   {
    "duration": 0,
    "start_time": "2023-02-22T08:28:12.446Z"
   },
   {
    "duration": 0,
    "start_time": "2023-02-22T08:28:12.447Z"
   },
   {
    "duration": 0,
    "start_time": "2023-02-22T08:28:12.573Z"
   },
   {
    "duration": 0,
    "start_time": "2023-02-22T08:28:12.574Z"
   },
   {
    "duration": 0,
    "start_time": "2023-02-22T08:28:12.576Z"
   },
   {
    "duration": 0,
    "start_time": "2023-02-22T08:28:12.578Z"
   },
   {
    "duration": 0,
    "start_time": "2023-02-22T08:28:12.579Z"
   },
   {
    "duration": 0,
    "start_time": "2023-02-22T08:28:12.580Z"
   },
   {
    "duration": 0,
    "start_time": "2023-02-22T08:28:12.582Z"
   },
   {
    "duration": 0,
    "start_time": "2023-02-22T08:28:12.583Z"
   },
   {
    "duration": 0,
    "start_time": "2023-02-22T08:28:12.584Z"
   },
   {
    "duration": 0,
    "start_time": "2023-02-22T08:28:12.587Z"
   },
   {
    "duration": 150,
    "start_time": "2023-02-22T08:28:19.842Z"
   },
   {
    "duration": 6,
    "start_time": "2023-02-22T08:28:57.457Z"
   },
   {
    "duration": 166,
    "start_time": "2023-02-22T08:28:58.161Z"
   },
   {
    "duration": 5,
    "start_time": "2023-02-22T08:29:31.234Z"
   },
   {
    "duration": 22,
    "start_time": "2023-02-22T08:29:57.187Z"
   },
   {
    "duration": 22,
    "start_time": "2023-02-22T08:36:50.552Z"
   },
   {
    "duration": 27,
    "start_time": "2023-02-22T08:37:05.575Z"
   },
   {
    "duration": 4,
    "start_time": "2023-02-22T08:41:50.314Z"
   },
   {
    "duration": 28,
    "start_time": "2023-02-22T08:41:58.524Z"
   },
   {
    "duration": 1263,
    "start_time": "2023-02-22T08:46:00.325Z"
   },
   {
    "duration": 900,
    "start_time": "2023-02-22T08:46:01.590Z"
   },
   {
    "duration": 25,
    "start_time": "2023-02-22T08:46:02.492Z"
   },
   {
    "duration": 143,
    "start_time": "2023-02-22T08:46:02.519Z"
   },
   {
    "duration": 186,
    "start_time": "2023-02-22T08:46:02.668Z"
   },
   {
    "duration": 19,
    "start_time": "2023-02-22T08:46:02.855Z"
   },
   {
    "duration": 344,
    "start_time": "2023-02-22T08:46:02.876Z"
   },
   {
    "duration": 152,
    "start_time": "2023-02-22T08:46:03.222Z"
   },
   {
    "duration": 9,
    "start_time": "2023-02-22T08:46:03.376Z"
   },
   {
    "duration": 163,
    "start_time": "2023-02-22T08:46:03.387Z"
   },
   {
    "duration": 8,
    "start_time": "2023-02-22T08:46:03.556Z"
   },
   {
    "duration": 195,
    "start_time": "2023-02-22T08:46:03.566Z"
   },
   {
    "duration": 5,
    "start_time": "2023-02-22T08:46:03.763Z"
   },
   {
    "duration": 132,
    "start_time": "2023-02-22T08:46:03.771Z"
   },
   {
    "duration": 5,
    "start_time": "2023-02-22T08:46:03.904Z"
   },
   {
    "duration": 9,
    "start_time": "2023-02-22T08:46:03.911Z"
   },
   {
    "duration": 21,
    "start_time": "2023-02-22T08:46:03.939Z"
   },
   {
    "duration": 7,
    "start_time": "2023-02-22T08:46:03.962Z"
   },
   {
    "duration": 13,
    "start_time": "2023-02-22T08:46:03.970Z"
   },
   {
    "duration": 6,
    "start_time": "2023-02-22T08:46:03.984Z"
   },
   {
    "duration": 4493,
    "start_time": "2023-02-22T08:46:03.991Z"
   },
   {
    "duration": 4387,
    "start_time": "2023-02-22T08:46:08.487Z"
   },
   {
    "duration": 4687,
    "start_time": "2023-02-22T08:46:12.876Z"
   },
   {
    "duration": 4439,
    "start_time": "2023-02-22T08:46:17.564Z"
   },
   {
    "duration": 13,
    "start_time": "2023-02-22T08:46:22.005Z"
   },
   {
    "duration": 33,
    "start_time": "2023-02-22T08:46:22.020Z"
   },
   {
    "duration": 15,
    "start_time": "2023-02-22T08:46:22.054Z"
   },
   {
    "duration": 13,
    "start_time": "2023-02-22T08:46:22.072Z"
   },
   {
    "duration": 3,
    "start_time": "2023-02-22T08:46:22.088Z"
   },
   {
    "duration": 66,
    "start_time": "2023-02-22T08:46:22.095Z"
   },
   {
    "duration": 36,
    "start_time": "2023-02-22T08:46:22.164Z"
   },
   {
    "duration": 1397,
    "start_time": "2023-02-22T08:46:31.751Z"
   },
   {
    "duration": 853,
    "start_time": "2023-02-22T08:46:33.153Z"
   },
   {
    "duration": 20,
    "start_time": "2023-02-22T08:46:34.007Z"
   },
   {
    "duration": 118,
    "start_time": "2023-02-22T08:46:34.037Z"
   },
   {
    "duration": 107,
    "start_time": "2023-02-22T08:46:34.157Z"
   },
   {
    "duration": 3,
    "start_time": "2023-02-22T08:46:34.267Z"
   },
   {
    "duration": 349,
    "start_time": "2023-02-22T08:46:34.272Z"
   },
   {
    "duration": 156,
    "start_time": "2023-02-22T08:46:34.623Z"
   },
   {
    "duration": 6,
    "start_time": "2023-02-22T08:46:34.781Z"
   },
   {
    "duration": 169,
    "start_time": "2023-02-22T08:46:34.790Z"
   },
   {
    "duration": 8,
    "start_time": "2023-02-22T08:46:34.961Z"
   },
   {
    "duration": 160,
    "start_time": "2023-02-22T08:46:34.971Z"
   },
   {
    "duration": 10,
    "start_time": "2023-02-22T08:46:35.133Z"
   },
   {
    "duration": 133,
    "start_time": "2023-02-22T08:46:35.144Z"
   },
   {
    "duration": 6,
    "start_time": "2023-02-22T08:46:35.278Z"
   },
   {
    "duration": 18,
    "start_time": "2023-02-22T08:46:35.286Z"
   },
   {
    "duration": 19,
    "start_time": "2023-02-22T08:46:35.306Z"
   },
   {
    "duration": 4,
    "start_time": "2023-02-22T08:46:35.337Z"
   },
   {
    "duration": 27,
    "start_time": "2023-02-22T08:46:35.343Z"
   },
   {
    "duration": 9,
    "start_time": "2023-02-22T08:46:35.372Z"
   },
   {
    "duration": 4814,
    "start_time": "2023-02-22T08:46:35.382Z"
   },
   {
    "duration": 4930,
    "start_time": "2023-02-22T08:46:40.197Z"
   },
   {
    "duration": 4761,
    "start_time": "2023-02-22T08:46:45.129Z"
   },
   {
    "duration": 4935,
    "start_time": "2023-02-22T08:46:49.892Z"
   },
   {
    "duration": 19,
    "start_time": "2023-02-22T08:46:54.829Z"
   },
   {
    "duration": 21,
    "start_time": "2023-02-22T08:46:54.850Z"
   },
   {
    "duration": 11,
    "start_time": "2023-02-22T08:46:54.873Z"
   },
   {
    "duration": 11,
    "start_time": "2023-02-22T08:46:54.887Z"
   },
   {
    "duration": 11,
    "start_time": "2023-02-22T08:46:54.900Z"
   },
   {
    "duration": 60,
    "start_time": "2023-02-22T08:46:54.912Z"
   },
   {
    "duration": 31,
    "start_time": "2023-02-22T08:46:54.975Z"
   },
   {
    "duration": 1259,
    "start_time": "2023-02-22T08:47:07.215Z"
   },
   {
    "duration": 794,
    "start_time": "2023-02-22T08:47:08.476Z"
   },
   {
    "duration": 21,
    "start_time": "2023-02-22T08:47:09.271Z"
   },
   {
    "duration": 129,
    "start_time": "2023-02-22T08:47:09.294Z"
   },
   {
    "duration": 122,
    "start_time": "2023-02-22T08:47:09.425Z"
   },
   {
    "duration": 12,
    "start_time": "2023-02-22T08:47:09.548Z"
   },
   {
    "duration": 328,
    "start_time": "2023-02-22T08:47:09.561Z"
   },
   {
    "duration": 151,
    "start_time": "2023-02-22T08:47:09.891Z"
   },
   {
    "duration": 8,
    "start_time": "2023-02-22T08:47:10.043Z"
   },
   {
    "duration": 150,
    "start_time": "2023-02-22T08:47:10.053Z"
   },
   {
    "duration": 8,
    "start_time": "2023-02-22T08:47:10.205Z"
   },
   {
    "duration": 164,
    "start_time": "2023-02-22T08:47:10.215Z"
   },
   {
    "duration": 6,
    "start_time": "2023-02-22T08:47:10.381Z"
   },
   {
    "duration": 163,
    "start_time": "2023-02-22T08:47:10.392Z"
   },
   {
    "duration": 7,
    "start_time": "2023-02-22T08:47:10.556Z"
   },
   {
    "duration": 13,
    "start_time": "2023-02-22T08:47:10.564Z"
   },
   {
    "duration": 20,
    "start_time": "2023-02-22T08:47:10.578Z"
   },
   {
    "duration": 8,
    "start_time": "2023-02-22T08:47:10.599Z"
   },
   {
    "duration": 13,
    "start_time": "2023-02-22T08:47:10.609Z"
   },
   {
    "duration": 35,
    "start_time": "2023-02-22T08:47:10.624Z"
   },
   {
    "duration": 5338,
    "start_time": "2023-02-22T08:47:10.660Z"
   },
   {
    "duration": 4874,
    "start_time": "2023-02-22T08:47:16.000Z"
   },
   {
    "duration": 5137,
    "start_time": "2023-02-22T08:47:20.876Z"
   },
   {
    "duration": 4756,
    "start_time": "2023-02-22T08:47:26.015Z"
   },
   {
    "duration": 9,
    "start_time": "2023-02-22T08:47:30.773Z"
   },
   {
    "duration": 36,
    "start_time": "2023-02-22T08:47:30.784Z"
   },
   {
    "duration": 14,
    "start_time": "2023-02-22T08:47:30.822Z"
   },
   {
    "duration": 27,
    "start_time": "2023-02-22T08:47:30.841Z"
   },
   {
    "duration": 29,
    "start_time": "2023-02-22T08:47:30.869Z"
   },
   {
    "duration": 52,
    "start_time": "2023-02-22T08:47:30.900Z"
   },
   {
    "duration": 30,
    "start_time": "2023-02-22T08:47:30.954Z"
   },
   {
    "duration": 171812,
    "start_time": "2023-02-22T08:47:30.986Z"
   },
   {
    "duration": 0,
    "start_time": "2023-02-22T08:50:22.800Z"
   },
   {
    "duration": 0,
    "start_time": "2023-02-22T08:50:22.801Z"
   },
   {
    "duration": 0,
    "start_time": "2023-02-22T08:50:22.802Z"
   },
   {
    "duration": 0,
    "start_time": "2023-02-22T08:50:22.804Z"
   },
   {
    "duration": 0,
    "start_time": "2023-02-22T08:50:22.807Z"
   },
   {
    "duration": 0,
    "start_time": "2023-02-22T08:50:22.808Z"
   },
   {
    "duration": 0,
    "start_time": "2023-02-22T08:50:22.810Z"
   },
   {
    "duration": 0,
    "start_time": "2023-02-22T08:50:22.811Z"
   },
   {
    "duration": 383729,
    "start_time": "2023-02-22T08:50:25.338Z"
   },
   {
    "duration": 1336,
    "start_time": "2023-02-22T08:58:35.735Z"
   },
   {
    "duration": 2,
    "start_time": "2023-02-22T08:58:37.073Z"
   },
   {
    "duration": 3155933,
    "start_time": "2023-02-22T08:58:38.343Z"
   },
   {
    "duration": 0,
    "start_time": "2023-02-22T09:51:14.279Z"
   },
   {
    "duration": 0,
    "start_time": "2023-02-22T09:51:14.280Z"
   },
   {
    "duration": 0,
    "start_time": "2023-02-22T09:51:14.282Z"
   },
   {
    "duration": 0,
    "start_time": "2023-02-22T09:51:14.283Z"
   },
   {
    "duration": 0,
    "start_time": "2023-02-22T09:51:14.285Z"
   },
   {
    "duration": 1129,
    "start_time": "2023-02-24T07:54:08.545Z"
   },
   {
    "duration": 2846,
    "start_time": "2023-02-24T07:54:09.676Z"
   },
   {
    "duration": 17,
    "start_time": "2023-02-24T07:54:12.523Z"
   },
   {
    "duration": 124,
    "start_time": "2023-02-24T07:54:12.542Z"
   },
   {
    "duration": 116,
    "start_time": "2023-02-24T07:54:12.667Z"
   },
   {
    "duration": 3,
    "start_time": "2023-02-24T07:54:12.784Z"
   },
   {
    "duration": 445,
    "start_time": "2023-02-24T07:54:12.789Z"
   },
   {
    "duration": 138,
    "start_time": "2023-02-24T07:54:13.236Z"
   },
   {
    "duration": 5,
    "start_time": "2023-02-24T07:54:13.375Z"
   },
   {
    "duration": 135,
    "start_time": "2023-02-24T07:54:13.382Z"
   },
   {
    "duration": 5,
    "start_time": "2023-02-24T07:54:13.519Z"
   },
   {
    "duration": 141,
    "start_time": "2023-02-24T07:54:13.525Z"
   },
   {
    "duration": 5,
    "start_time": "2023-02-24T07:54:13.667Z"
   },
   {
    "duration": 125,
    "start_time": "2023-02-24T07:54:13.675Z"
   },
   {
    "duration": 5,
    "start_time": "2023-02-24T07:54:13.801Z"
   },
   {
    "duration": 13,
    "start_time": "2023-02-24T07:54:13.807Z"
   },
   {
    "duration": 27,
    "start_time": "2023-02-24T07:54:13.821Z"
   },
   {
    "duration": 5,
    "start_time": "2023-02-24T07:54:13.849Z"
   },
   {
    "duration": 13,
    "start_time": "2023-02-24T07:54:13.856Z"
   },
   {
    "duration": 5,
    "start_time": "2023-02-24T07:54:13.871Z"
   },
   {
    "duration": 4713,
    "start_time": "2023-02-24T07:54:13.878Z"
   },
   {
    "duration": 4567,
    "start_time": "2023-02-24T07:54:18.593Z"
   },
   {
    "duration": 4610,
    "start_time": "2023-02-24T07:54:23.162Z"
   },
   {
    "duration": 4677,
    "start_time": "2023-02-24T07:54:27.773Z"
   },
   {
    "duration": 10,
    "start_time": "2023-02-24T07:54:32.451Z"
   },
   {
    "duration": 28,
    "start_time": "2023-02-24T07:54:32.462Z"
   },
   {
    "duration": 17,
    "start_time": "2023-02-24T07:54:32.491Z"
   },
   {
    "duration": 16,
    "start_time": "2023-02-24T07:54:32.510Z"
   },
   {
    "duration": 14,
    "start_time": "2023-02-24T07:54:32.528Z"
   },
   {
    "duration": 46,
    "start_time": "2023-02-24T07:54:32.544Z"
   },
   {
    "duration": 28,
    "start_time": "2023-02-24T07:54:32.591Z"
   },
   {
    "duration": 9332,
    "start_time": "2023-02-24T07:54:32.620Z"
   },
   {
    "duration": 1332,
    "start_time": "2023-02-24T07:54:41.953Z"
   },
   {
    "duration": 2,
    "start_time": "2023-02-24T07:54:43.287Z"
   },
   {
    "duration": 358575,
    "start_time": "2023-02-24T07:54:43.291Z"
   },
   {
    "duration": 41892,
    "start_time": "2023-02-24T08:00:41.947Z"
   },
   {
    "duration": 2023,
    "start_time": "2023-02-24T08:01:23.841Z"
   },
   {
    "duration": 17582,
    "start_time": "2023-02-24T08:01:25.866Z"
   },
   {
    "duration": 858,
    "start_time": "2023-02-24T08:01:43.450Z"
   },
   {
    "duration": 17,
    "start_time": "2023-02-24T08:01:44.310Z"
   },
   {
    "duration": 18,
    "start_time": "2023-02-24T08:42:35.651Z"
   },
   {
    "duration": 1865,
    "start_time": "2023-02-24T08:44:52.292Z"
   },
   {
    "duration": 1718,
    "start_time": "2023-02-24T08:54:11.635Z"
   },
   {
    "duration": 119,
    "start_time": "2023-02-24T08:54:30.671Z"
   },
   {
    "duration": 10,
    "start_time": "2023-02-24T08:54:44.609Z"
   },
   {
    "duration": 1490,
    "start_time": "2023-02-24T08:55:00.363Z"
   },
   {
    "duration": 1193,
    "start_time": "2023-02-24T09:01:22.061Z"
   },
   {
    "duration": 811,
    "start_time": "2023-02-24T09:01:23.256Z"
   },
   {
    "duration": 19,
    "start_time": "2023-02-24T09:01:24.069Z"
   },
   {
    "duration": 149,
    "start_time": "2023-02-24T09:01:24.089Z"
   },
   {
    "duration": 141,
    "start_time": "2023-02-24T09:01:24.240Z"
   },
   {
    "duration": 3,
    "start_time": "2023-02-24T09:01:24.382Z"
   },
   {
    "duration": 322,
    "start_time": "2023-02-24T09:01:24.386Z"
   },
   {
    "duration": 162,
    "start_time": "2023-02-24T09:01:24.710Z"
   },
   {
    "duration": 7,
    "start_time": "2023-02-24T09:01:24.874Z"
   },
   {
    "duration": 167,
    "start_time": "2023-02-24T09:01:24.883Z"
   },
   {
    "duration": 8,
    "start_time": "2023-02-24T09:01:25.052Z"
   },
   {
    "duration": 197,
    "start_time": "2023-02-24T09:01:25.062Z"
   },
   {
    "duration": 6,
    "start_time": "2023-02-24T09:01:25.262Z"
   },
   {
    "duration": 176,
    "start_time": "2023-02-24T09:01:25.272Z"
   },
   {
    "duration": 7,
    "start_time": "2023-02-24T09:01:25.450Z"
   },
   {
    "duration": 18,
    "start_time": "2023-02-24T09:01:25.460Z"
   },
   {
    "duration": 18,
    "start_time": "2023-02-24T09:01:25.479Z"
   },
   {
    "duration": 18,
    "start_time": "2023-02-24T09:01:25.499Z"
   },
   {
    "duration": 17,
    "start_time": "2023-02-24T09:01:25.519Z"
   },
   {
    "duration": 7,
    "start_time": "2023-02-24T09:01:25.538Z"
   },
   {
    "duration": 5166,
    "start_time": "2023-02-24T09:01:25.547Z"
   },
   {
    "duration": 5224,
    "start_time": "2023-02-24T09:01:30.715Z"
   },
   {
    "duration": 5035,
    "start_time": "2023-02-24T09:01:35.941Z"
   },
   {
    "duration": 5154,
    "start_time": "2023-02-24T09:01:40.978Z"
   },
   {
    "duration": 19,
    "start_time": "2023-02-24T09:01:46.134Z"
   },
   {
    "duration": 18,
    "start_time": "2023-02-24T09:01:46.154Z"
   },
   {
    "duration": 11,
    "start_time": "2023-02-24T09:01:46.174Z"
   },
   {
    "duration": 11,
    "start_time": "2023-02-24T09:01:46.188Z"
   },
   {
    "duration": 4,
    "start_time": "2023-02-24T09:01:46.201Z"
   },
   {
    "duration": 61,
    "start_time": "2023-02-24T09:01:46.207Z"
   },
   {
    "duration": 31,
    "start_time": "2023-02-24T09:01:46.270Z"
   },
   {
    "duration": 26951,
    "start_time": "2023-02-24T09:01:46.303Z"
   },
   {
    "duration": 1481,
    "start_time": "2023-02-24T09:02:13.256Z"
   },
   {
    "duration": 3,
    "start_time": "2023-02-24T09:02:14.738Z"
   },
   {
    "duration": 149101,
    "start_time": "2023-02-24T09:02:14.748Z"
   },
   {
    "duration": 41040,
    "start_time": "2023-02-24T09:04:43.850Z"
   },
   {
    "duration": 1848,
    "start_time": "2023-02-24T09:05:24.892Z"
   },
   {
    "duration": 1320,
    "start_time": "2023-02-24T09:05:26.742Z"
   },
   {
    "duration": 811,
    "start_time": "2023-02-24T09:05:28.063Z"
   },
   {
    "duration": 15,
    "start_time": "2023-02-24T09:05:28.876Z"
   },
   {
    "duration": 1760,
    "start_time": "2023-02-24T09:05:28.894Z"
   }
  ],
  "kernelspec": {
   "display_name": "Python 3 (ipykernel)",
   "language": "python",
   "name": "python3"
  },
  "language_info": {
   "codemirror_mode": {
    "name": "ipython",
    "version": 3
   },
   "file_extension": ".py",
   "mimetype": "text/x-python",
   "name": "python",
   "nbconvert_exporter": "python",
   "pygments_lexer": "ipython3",
   "version": "3.9.12"
  },
  "toc": {
   "base_numbering": 1,
   "nav_menu": {},
   "number_sections": true,
   "sideBar": true,
   "skip_h1_title": true,
   "title_cell": "Table of Contents",
   "title_sidebar": "Contents",
   "toc_cell": false,
   "toc_position": {},
   "toc_section_display": true,
   "toc_window_display": false
  }
 },
 "nbformat": 4,
 "nbformat_minor": 2
}
