{
 "cells": [
  {
   "cell_type": "markdown",
   "metadata": {
    "toc": true
   },
   "source": [
    "<h1>Содержание<span class=\"tocSkip\"></span></h1>\n",
    "<div class=\"toc\"><ul class=\"toc-item\"><li><span><a href=\"#Подготовка-данных\" data-toc-modified-id=\"Подготовка-данных-1\"><span class=\"toc-item-num\">1&nbsp;&nbsp;</span>Подготовка данных</a></span></li><li><span><a href=\"#Анализ-данных\" data-toc-modified-id=\"Анализ-данных-2\"><span class=\"toc-item-num\">2&nbsp;&nbsp;</span>Анализ данных</a></span></li><li><span><a href=\"#Модель\" data-toc-modified-id=\"Модель-3\"><span class=\"toc-item-num\">3&nbsp;&nbsp;</span>Модель</a></span></li><li><span><a href=\"#Чек-лист-готовности-проекта\" data-toc-modified-id=\"Чек-лист-готовности-проекта-4\"><span class=\"toc-item-num\">4&nbsp;&nbsp;</span>Чек-лист готовности проекта</a></span></li></ul></div>"
   ]
  },
  {
   "cell_type": "markdown",
   "metadata": {},
   "source": [
    "# Восстановление золота из руды"
   ]
  },
  {
   "cell_type": "markdown",
   "metadata": {},
   "source": [
    "Подготовьте прототип модели машинного обучения для «Цифры». Компания разрабатывает решения для эффективной работы промышленных предприятий.\n",
    "\n",
    "Модель должна предсказать коэффициент восстановления золота из золотосодержащей руды. Используйте данные с параметрами добычи и очистки. \n",
    "\n",
    "Модель поможет оптимизировать производство, чтобы не запускать предприятие с убыточными характеристиками.\n",
    "\n",
    "Необходимо:\n",
    "\n",
    "1. Подготовить данные;\n",
    "2. Провести исследовательский анализ данных;\n",
    "3. Построить и обучить модель.\n",
    "\n",
    "Чтобы выполнить проект, обращайтесь к библиотекам *pandas*, *matplotlib* и *sklearn.* Вам поможет их документация."
   ]
  },
  {
   "cell_type": "markdown",
   "metadata": {},
   "source": [
    "## Подготовка данных"
   ]
  },
  {
   "cell_type": "code",
   "execution_count": 1,
   "metadata": {},
   "outputs": [],
   "source": [
    "import pandas as pd\n",
    "import numpy as np\n",
    "import seaborn as sns\n",
    "from matplotlib import pyplot as plt\n",
    "\n",
    "from sklearn.preprocessing import StandardScaler\n",
    "from sklearn.ensemble import RandomForestRegressor\n",
    "from sklearn.metrics import make_scorer\n",
    "from sklearn.model_selection import cross_val_score\n",
    "from sklearn.tree import DecisionTreeRegressor\n",
    "from sklearn.linear_model import LinearRegression\n",
    "from sklearn.dummy import DummyRegressor\n",
    "from sklearn.pipeline import make_pipeline\n",
    "from sklearn.model_selection import GridSearchCV\n",
    "from sklearn.model_selection import RandomizedSearchCV\n",
    "\n",
    "import warnings\n",
    "warnings.filterwarnings(\"ignore\")\n",
    "pd.options.display.max_rows = 90"
   ]
  },
  {
   "cell_type": "markdown",
   "metadata": {},
   "source": [
    "Загрузим исходные данные проекта и изучим их"
   ]
  },
  {
   "cell_type": "code",
   "execution_count": 5,
   "metadata": {},
   "outputs": [],
   "source": [
    "try:\n",
    "    df_full = pd.read_csv('/Users/pavelfedorov/Portfolio/Project6/gold_industry_full.csv', index_col = 'date')\n",
    "    df_test = pd.read_csv('/Users/pavelfedorov/Portfolio/Project6/gold_industry_test.csv', index_col = 'date')\n",
    "    df_train = pd.read_csv('/Users/pavelfedorov/Portfolio/Project6/gold_industry_train.csv', index_col = 'date')\n",
    "except:\n",
    "    df_full = pd.read_csv('/datasets/gold_industry_full.csv', index_col = 'date')\n",
    "    df_test = pd.read_csv('/datasets/gold_industry_test.csv', index_col = 'date')\n",
    "    df_train = pd.read_csv('/datasets/gold_industry_train.csv', index_col = 'date')"
   ]
  },
  {
   "cell_type": "code",
   "execution_count": 6,
   "metadata": {
    "scrolled": true
   },
   "outputs": [
    {
     "data": {
      "text/html": [
       "<div>\n",
       "<style scoped>\n",
       "    .dataframe tbody tr th:only-of-type {\n",
       "        vertical-align: middle;\n",
       "    }\n",
       "\n",
       "    .dataframe tbody tr th {\n",
       "        vertical-align: top;\n",
       "    }\n",
       "\n",
       "    .dataframe thead th {\n",
       "        text-align: right;\n",
       "    }\n",
       "</style>\n",
       "<table border=\"1\" class=\"dataframe\">\n",
       "  <thead>\n",
       "    <tr style=\"text-align: right;\">\n",
       "      <th></th>\n",
       "      <th>rougher.input.feed_au</th>\n",
       "      <th>rougher.input.feed_ag</th>\n",
       "      <th>rougher.input.feed_pb</th>\n",
       "      <th>rougher.input.feed_sol</th>\n",
       "      <th>rougher.input.feed_rate</th>\n",
       "      <th>rougher.input.feed_size</th>\n",
       "      <th>rougher.input.floatbank10_sulfate</th>\n",
       "      <th>rougher.input.floatbank10_xanthate</th>\n",
       "      <th>rougher.state.floatbank10_a_air</th>\n",
       "      <th>rougher.state.floatbank10_a_level</th>\n",
       "      <th>...</th>\n",
       "      <th>secondary_cleaner.output.tail_sol</th>\n",
       "      <th>final.output.concentrate_au</th>\n",
       "      <th>final.output.concentrate_ag</th>\n",
       "      <th>final.output.concentrate_pb</th>\n",
       "      <th>final.output.concentrate_sol</th>\n",
       "      <th>final.output.recovery</th>\n",
       "      <th>final.output.tail_au</th>\n",
       "      <th>final.output.tail_ag</th>\n",
       "      <th>final.output.tail_pb</th>\n",
       "      <th>final.output.tail_sol</th>\n",
       "    </tr>\n",
       "    <tr>\n",
       "      <th>date</th>\n",
       "      <th></th>\n",
       "      <th></th>\n",
       "      <th></th>\n",
       "      <th></th>\n",
       "      <th></th>\n",
       "      <th></th>\n",
       "      <th></th>\n",
       "      <th></th>\n",
       "      <th></th>\n",
       "      <th></th>\n",
       "      <th></th>\n",
       "      <th></th>\n",
       "      <th></th>\n",
       "      <th></th>\n",
       "      <th></th>\n",
       "      <th></th>\n",
       "      <th></th>\n",
       "      <th></th>\n",
       "      <th></th>\n",
       "      <th></th>\n",
       "      <th></th>\n",
       "    </tr>\n",
       "  </thead>\n",
       "  <tbody>\n",
       "    <tr>\n",
       "      <th>2016-01-15 00:00:00</th>\n",
       "      <td>6.486150</td>\n",
       "      <td>6.100378</td>\n",
       "      <td>2.284912</td>\n",
       "      <td>36.808594</td>\n",
       "      <td>523.546326</td>\n",
       "      <td>55.486599</td>\n",
       "      <td>11.986616</td>\n",
       "      <td>6.007990</td>\n",
       "      <td>999.706909</td>\n",
       "      <td>-404.066986</td>\n",
       "      <td>...</td>\n",
       "      <td>8.764648</td>\n",
       "      <td>42.192020</td>\n",
       "      <td>6.055403</td>\n",
       "      <td>9.889648</td>\n",
       "      <td>5.507324</td>\n",
       "      <td>70.541216</td>\n",
       "      <td>2.143149</td>\n",
       "      <td>10.411962</td>\n",
       "      <td>0.895447</td>\n",
       "      <td>16.904297</td>\n",
       "    </tr>\n",
       "    <tr>\n",
       "      <th>2016-01-15 01:00:00</th>\n",
       "      <td>6.478583</td>\n",
       "      <td>6.161113</td>\n",
       "      <td>2.266033</td>\n",
       "      <td>35.753385</td>\n",
       "      <td>525.290581</td>\n",
       "      <td>57.278666</td>\n",
       "      <td>11.971193</td>\n",
       "      <td>6.005766</td>\n",
       "      <td>1000.286398</td>\n",
       "      <td>-400.065196</td>\n",
       "      <td>...</td>\n",
       "      <td>9.001494</td>\n",
       "      <td>42.701629</td>\n",
       "      <td>6.029369</td>\n",
       "      <td>9.968944</td>\n",
       "      <td>5.257781</td>\n",
       "      <td>69.266198</td>\n",
       "      <td>2.224930</td>\n",
       "      <td>10.462676</td>\n",
       "      <td>0.927452</td>\n",
       "      <td>16.634514</td>\n",
       "    </tr>\n",
       "    <tr>\n",
       "      <th>2016-01-15 02:00:00</th>\n",
       "      <td>6.362222</td>\n",
       "      <td>6.116455</td>\n",
       "      <td>2.159622</td>\n",
       "      <td>35.971630</td>\n",
       "      <td>530.026610</td>\n",
       "      <td>57.510649</td>\n",
       "      <td>11.920603</td>\n",
       "      <td>6.197377</td>\n",
       "      <td>999.719565</td>\n",
       "      <td>-400.074028</td>\n",
       "      <td>...</td>\n",
       "      <td>8.842896</td>\n",
       "      <td>42.657501</td>\n",
       "      <td>6.055926</td>\n",
       "      <td>10.213995</td>\n",
       "      <td>5.383759</td>\n",
       "      <td>68.116445</td>\n",
       "      <td>2.257889</td>\n",
       "      <td>10.507046</td>\n",
       "      <td>0.953716</td>\n",
       "      <td>16.208849</td>\n",
       "    </tr>\n",
       "    <tr>\n",
       "      <th>2016-01-15 03:00:00</th>\n",
       "      <td>6.118189</td>\n",
       "      <td>6.043309</td>\n",
       "      <td>2.037807</td>\n",
       "      <td>36.862241</td>\n",
       "      <td>542.590390</td>\n",
       "      <td>57.792734</td>\n",
       "      <td>11.630094</td>\n",
       "      <td>6.203177</td>\n",
       "      <td>999.814770</td>\n",
       "      <td>-400.200179</td>\n",
       "      <td>...</td>\n",
       "      <td>9.122857</td>\n",
       "      <td>42.689819</td>\n",
       "      <td>6.047977</td>\n",
       "      <td>9.977019</td>\n",
       "      <td>4.858634</td>\n",
       "      <td>68.347543</td>\n",
       "      <td>2.146849</td>\n",
       "      <td>10.422762</td>\n",
       "      <td>0.883763</td>\n",
       "      <td>16.532835</td>\n",
       "    </tr>\n",
       "    <tr>\n",
       "      <th>2016-01-15 04:00:00</th>\n",
       "      <td>5.663707</td>\n",
       "      <td>6.060915</td>\n",
       "      <td>1.786875</td>\n",
       "      <td>34.347666</td>\n",
       "      <td>540.531893</td>\n",
       "      <td>56.047189</td>\n",
       "      <td>10.957755</td>\n",
       "      <td>6.198826</td>\n",
       "      <td>999.678690</td>\n",
       "      <td>-399.752729</td>\n",
       "      <td>...</td>\n",
       "      <td>8.871028</td>\n",
       "      <td>42.774141</td>\n",
       "      <td>6.148599</td>\n",
       "      <td>10.142511</td>\n",
       "      <td>4.939416</td>\n",
       "      <td>66.927016</td>\n",
       "      <td>2.055292</td>\n",
       "      <td>10.360302</td>\n",
       "      <td>0.792826</td>\n",
       "      <td>16.525686</td>\n",
       "    </tr>\n",
       "  </tbody>\n",
       "</table>\n",
       "<p>5 rows × 86 columns</p>\n",
       "</div>"
      ],
      "text/plain": [
       "                     rougher.input.feed_au  rougher.input.feed_ag  \\\n",
       "date                                                                \n",
       "2016-01-15 00:00:00               6.486150               6.100378   \n",
       "2016-01-15 01:00:00               6.478583               6.161113   \n",
       "2016-01-15 02:00:00               6.362222               6.116455   \n",
       "2016-01-15 03:00:00               6.118189               6.043309   \n",
       "2016-01-15 04:00:00               5.663707               6.060915   \n",
       "\n",
       "                     rougher.input.feed_pb  rougher.input.feed_sol  \\\n",
       "date                                                                 \n",
       "2016-01-15 00:00:00               2.284912               36.808594   \n",
       "2016-01-15 01:00:00               2.266033               35.753385   \n",
       "2016-01-15 02:00:00               2.159622               35.971630   \n",
       "2016-01-15 03:00:00               2.037807               36.862241   \n",
       "2016-01-15 04:00:00               1.786875               34.347666   \n",
       "\n",
       "                     rougher.input.feed_rate  rougher.input.feed_size  \\\n",
       "date                                                                    \n",
       "2016-01-15 00:00:00               523.546326                55.486599   \n",
       "2016-01-15 01:00:00               525.290581                57.278666   \n",
       "2016-01-15 02:00:00               530.026610                57.510649   \n",
       "2016-01-15 03:00:00               542.590390                57.792734   \n",
       "2016-01-15 04:00:00               540.531893                56.047189   \n",
       "\n",
       "                     rougher.input.floatbank10_sulfate  \\\n",
       "date                                                     \n",
       "2016-01-15 00:00:00                          11.986616   \n",
       "2016-01-15 01:00:00                          11.971193   \n",
       "2016-01-15 02:00:00                          11.920603   \n",
       "2016-01-15 03:00:00                          11.630094   \n",
       "2016-01-15 04:00:00                          10.957755   \n",
       "\n",
       "                     rougher.input.floatbank10_xanthate  \\\n",
       "date                                                      \n",
       "2016-01-15 00:00:00                            6.007990   \n",
       "2016-01-15 01:00:00                            6.005766   \n",
       "2016-01-15 02:00:00                            6.197377   \n",
       "2016-01-15 03:00:00                            6.203177   \n",
       "2016-01-15 04:00:00                            6.198826   \n",
       "\n",
       "                     rougher.state.floatbank10_a_air  \\\n",
       "date                                                   \n",
       "2016-01-15 00:00:00                       999.706909   \n",
       "2016-01-15 01:00:00                      1000.286398   \n",
       "2016-01-15 02:00:00                       999.719565   \n",
       "2016-01-15 03:00:00                       999.814770   \n",
       "2016-01-15 04:00:00                       999.678690   \n",
       "\n",
       "                     rougher.state.floatbank10_a_level  ...  \\\n",
       "date                                                    ...   \n",
       "2016-01-15 00:00:00                        -404.066986  ...   \n",
       "2016-01-15 01:00:00                        -400.065196  ...   \n",
       "2016-01-15 02:00:00                        -400.074028  ...   \n",
       "2016-01-15 03:00:00                        -400.200179  ...   \n",
       "2016-01-15 04:00:00                        -399.752729  ...   \n",
       "\n",
       "                     secondary_cleaner.output.tail_sol  \\\n",
       "date                                                     \n",
       "2016-01-15 00:00:00                           8.764648   \n",
       "2016-01-15 01:00:00                           9.001494   \n",
       "2016-01-15 02:00:00                           8.842896   \n",
       "2016-01-15 03:00:00                           9.122857   \n",
       "2016-01-15 04:00:00                           8.871028   \n",
       "\n",
       "                     final.output.concentrate_au  final.output.concentrate_ag  \\\n",
       "date                                                                            \n",
       "2016-01-15 00:00:00                    42.192020                     6.055403   \n",
       "2016-01-15 01:00:00                    42.701629                     6.029369   \n",
       "2016-01-15 02:00:00                    42.657501                     6.055926   \n",
       "2016-01-15 03:00:00                    42.689819                     6.047977   \n",
       "2016-01-15 04:00:00                    42.774141                     6.148599   \n",
       "\n",
       "                     final.output.concentrate_pb  \\\n",
       "date                                               \n",
       "2016-01-15 00:00:00                     9.889648   \n",
       "2016-01-15 01:00:00                     9.968944   \n",
       "2016-01-15 02:00:00                    10.213995   \n",
       "2016-01-15 03:00:00                     9.977019   \n",
       "2016-01-15 04:00:00                    10.142511   \n",
       "\n",
       "                     final.output.concentrate_sol  final.output.recovery  \\\n",
       "date                                                                       \n",
       "2016-01-15 00:00:00                      5.507324              70.541216   \n",
       "2016-01-15 01:00:00                      5.257781              69.266198   \n",
       "2016-01-15 02:00:00                      5.383759              68.116445   \n",
       "2016-01-15 03:00:00                      4.858634              68.347543   \n",
       "2016-01-15 04:00:00                      4.939416              66.927016   \n",
       "\n",
       "                     final.output.tail_au  final.output.tail_ag  \\\n",
       "date                                                              \n",
       "2016-01-15 00:00:00              2.143149             10.411962   \n",
       "2016-01-15 01:00:00              2.224930             10.462676   \n",
       "2016-01-15 02:00:00              2.257889             10.507046   \n",
       "2016-01-15 03:00:00              2.146849             10.422762   \n",
       "2016-01-15 04:00:00              2.055292             10.360302   \n",
       "\n",
       "                     final.output.tail_pb  final.output.tail_sol  \n",
       "date                                                              \n",
       "2016-01-15 00:00:00              0.895447              16.904297  \n",
       "2016-01-15 01:00:00              0.927452              16.634514  \n",
       "2016-01-15 02:00:00              0.953716              16.208849  \n",
       "2016-01-15 03:00:00              0.883763              16.532835  \n",
       "2016-01-15 04:00:00              0.792826              16.525686  \n",
       "\n",
       "[5 rows x 86 columns]"
      ]
     },
     "execution_count": 6,
     "metadata": {},
     "output_type": "execute_result"
    }
   ],
   "source": [
    "df_full.head()"
   ]
  },
  {
   "cell_type": "code",
   "execution_count": 7,
   "metadata": {
    "scrolled": true
   },
   "outputs": [
    {
     "data": {
      "text/html": [
       "<div>\n",
       "<style scoped>\n",
       "    .dataframe tbody tr th:only-of-type {\n",
       "        vertical-align: middle;\n",
       "    }\n",
       "\n",
       "    .dataframe tbody tr th {\n",
       "        vertical-align: top;\n",
       "    }\n",
       "\n",
       "    .dataframe thead th {\n",
       "        text-align: right;\n",
       "    }\n",
       "</style>\n",
       "<table border=\"1\" class=\"dataframe\">\n",
       "  <thead>\n",
       "    <tr style=\"text-align: right;\">\n",
       "      <th></th>\n",
       "      <th>rougher.input.feed_au</th>\n",
       "      <th>rougher.input.feed_ag</th>\n",
       "      <th>rougher.input.feed_pb</th>\n",
       "      <th>rougher.input.feed_sol</th>\n",
       "      <th>rougher.input.feed_rate</th>\n",
       "      <th>rougher.input.feed_size</th>\n",
       "      <th>rougher.input.floatbank10_sulfate</th>\n",
       "      <th>rougher.input.floatbank10_xanthate</th>\n",
       "      <th>rougher.state.floatbank10_a_air</th>\n",
       "      <th>rougher.state.floatbank10_a_level</th>\n",
       "      <th>...</th>\n",
       "      <th>secondary_cleaner.state.floatbank4_a_air</th>\n",
       "      <th>secondary_cleaner.state.floatbank4_a_level</th>\n",
       "      <th>secondary_cleaner.state.floatbank4_b_air</th>\n",
       "      <th>secondary_cleaner.state.floatbank4_b_level</th>\n",
       "      <th>secondary_cleaner.state.floatbank5_a_air</th>\n",
       "      <th>secondary_cleaner.state.floatbank5_a_level</th>\n",
       "      <th>secondary_cleaner.state.floatbank5_b_air</th>\n",
       "      <th>secondary_cleaner.state.floatbank5_b_level</th>\n",
       "      <th>secondary_cleaner.state.floatbank6_a_air</th>\n",
       "      <th>secondary_cleaner.state.floatbank6_a_level</th>\n",
       "    </tr>\n",
       "    <tr>\n",
       "      <th>date</th>\n",
       "      <th></th>\n",
       "      <th></th>\n",
       "      <th></th>\n",
       "      <th></th>\n",
       "      <th></th>\n",
       "      <th></th>\n",
       "      <th></th>\n",
       "      <th></th>\n",
       "      <th></th>\n",
       "      <th></th>\n",
       "      <th></th>\n",
       "      <th></th>\n",
       "      <th></th>\n",
       "      <th></th>\n",
       "      <th></th>\n",
       "      <th></th>\n",
       "      <th></th>\n",
       "      <th></th>\n",
       "      <th></th>\n",
       "      <th></th>\n",
       "      <th></th>\n",
       "    </tr>\n",
       "  </thead>\n",
       "  <tbody>\n",
       "    <tr>\n",
       "      <th>2017-12-09 14:59:59</th>\n",
       "      <td>4.365491</td>\n",
       "      <td>6.158718</td>\n",
       "      <td>3.875727</td>\n",
       "      <td>39.135119</td>\n",
       "      <td>555.820208</td>\n",
       "      <td>94.544358</td>\n",
       "      <td>6.146982</td>\n",
       "      <td>9.308612</td>\n",
       "      <td>1196.238112</td>\n",
       "      <td>-299.862743</td>\n",
       "      <td>...</td>\n",
       "      <td>23.018622</td>\n",
       "      <td>-500.492702</td>\n",
       "      <td>20.020205</td>\n",
       "      <td>-500.220296</td>\n",
       "      <td>17.963512</td>\n",
       "      <td>-499.939490</td>\n",
       "      <td>12.990306</td>\n",
       "      <td>-500.080993</td>\n",
       "      <td>19.990336</td>\n",
       "      <td>-499.191575</td>\n",
       "    </tr>\n",
       "    <tr>\n",
       "      <th>2017-12-09 15:59:59</th>\n",
       "      <td>4.362781</td>\n",
       "      <td>6.048130</td>\n",
       "      <td>3.902537</td>\n",
       "      <td>39.713906</td>\n",
       "      <td>544.731687</td>\n",
       "      <td>123.742430</td>\n",
       "      <td>6.210119</td>\n",
       "      <td>9.297709</td>\n",
       "      <td>1201.904177</td>\n",
       "      <td>-299.907308</td>\n",
       "      <td>...</td>\n",
       "      <td>23.024963</td>\n",
       "      <td>-501.153409</td>\n",
       "      <td>20.054122</td>\n",
       "      <td>-500.314711</td>\n",
       "      <td>17.979515</td>\n",
       "      <td>-499.272871</td>\n",
       "      <td>12.992404</td>\n",
       "      <td>-499.976268</td>\n",
       "      <td>20.013986</td>\n",
       "      <td>-500.625471</td>\n",
       "    </tr>\n",
       "    <tr>\n",
       "      <th>2017-12-09 16:59:59</th>\n",
       "      <td>5.081681</td>\n",
       "      <td>6.082745</td>\n",
       "      <td>4.564078</td>\n",
       "      <td>37.208683</td>\n",
       "      <td>558.155110</td>\n",
       "      <td>82.610855</td>\n",
       "      <td>7.363824</td>\n",
       "      <td>9.003562</td>\n",
       "      <td>1200.826926</td>\n",
       "      <td>-300.124116</td>\n",
       "      <td>...</td>\n",
       "      <td>22.993827</td>\n",
       "      <td>-501.559663</td>\n",
       "      <td>20.029144</td>\n",
       "      <td>-500.000662</td>\n",
       "      <td>18.012723</td>\n",
       "      <td>-500.024764</td>\n",
       "      <td>13.016445</td>\n",
       "      <td>-500.058432</td>\n",
       "      <td>19.973767</td>\n",
       "      <td>-501.394155</td>\n",
       "    </tr>\n",
       "    <tr>\n",
       "      <th>2017-12-09 17:59:59</th>\n",
       "      <td>5.145949</td>\n",
       "      <td>6.084374</td>\n",
       "      <td>4.768124</td>\n",
       "      <td>36.808874</td>\n",
       "      <td>539.713765</td>\n",
       "      <td>77.984784</td>\n",
       "      <td>6.927072</td>\n",
       "      <td>8.955597</td>\n",
       "      <td>1199.292489</td>\n",
       "      <td>-299.778385</td>\n",
       "      <td>...</td>\n",
       "      <td>23.032807</td>\n",
       "      <td>-501.287889</td>\n",
       "      <td>19.977466</td>\n",
       "      <td>-500.159903</td>\n",
       "      <td>17.980463</td>\n",
       "      <td>-500.504602</td>\n",
       "      <td>12.949071</td>\n",
       "      <td>-500.009937</td>\n",
       "      <td>20.010332</td>\n",
       "      <td>-508.337973</td>\n",
       "    </tr>\n",
       "    <tr>\n",
       "      <th>2017-12-09 18:59:59</th>\n",
       "      <td>5.735249</td>\n",
       "      <td>6.165220</td>\n",
       "      <td>4.512346</td>\n",
       "      <td>37.810642</td>\n",
       "      <td>558.713584</td>\n",
       "      <td>86.434874</td>\n",
       "      <td>7.823471</td>\n",
       "      <td>7.490356</td>\n",
       "      <td>1198.005449</td>\n",
       "      <td>-300.283401</td>\n",
       "      <td>...</td>\n",
       "      <td>23.001911</td>\n",
       "      <td>-499.947838</td>\n",
       "      <td>20.023735</td>\n",
       "      <td>-499.713680</td>\n",
       "      <td>17.990955</td>\n",
       "      <td>-500.334769</td>\n",
       "      <td>13.007523</td>\n",
       "      <td>-499.968459</td>\n",
       "      <td>19.995999</td>\n",
       "      <td>-499.788805</td>\n",
       "    </tr>\n",
       "  </tbody>\n",
       "</table>\n",
       "<p>5 rows × 52 columns</p>\n",
       "</div>"
      ],
      "text/plain": [
       "                     rougher.input.feed_au  rougher.input.feed_ag  \\\n",
       "date                                                                \n",
       "2017-12-09 14:59:59               4.365491               6.158718   \n",
       "2017-12-09 15:59:59               4.362781               6.048130   \n",
       "2017-12-09 16:59:59               5.081681               6.082745   \n",
       "2017-12-09 17:59:59               5.145949               6.084374   \n",
       "2017-12-09 18:59:59               5.735249               6.165220   \n",
       "\n",
       "                     rougher.input.feed_pb  rougher.input.feed_sol  \\\n",
       "date                                                                 \n",
       "2017-12-09 14:59:59               3.875727               39.135119   \n",
       "2017-12-09 15:59:59               3.902537               39.713906   \n",
       "2017-12-09 16:59:59               4.564078               37.208683   \n",
       "2017-12-09 17:59:59               4.768124               36.808874   \n",
       "2017-12-09 18:59:59               4.512346               37.810642   \n",
       "\n",
       "                     rougher.input.feed_rate  rougher.input.feed_size  \\\n",
       "date                                                                    \n",
       "2017-12-09 14:59:59               555.820208                94.544358   \n",
       "2017-12-09 15:59:59               544.731687               123.742430   \n",
       "2017-12-09 16:59:59               558.155110                82.610855   \n",
       "2017-12-09 17:59:59               539.713765                77.984784   \n",
       "2017-12-09 18:59:59               558.713584                86.434874   \n",
       "\n",
       "                     rougher.input.floatbank10_sulfate  \\\n",
       "date                                                     \n",
       "2017-12-09 14:59:59                           6.146982   \n",
       "2017-12-09 15:59:59                           6.210119   \n",
       "2017-12-09 16:59:59                           7.363824   \n",
       "2017-12-09 17:59:59                           6.927072   \n",
       "2017-12-09 18:59:59                           7.823471   \n",
       "\n",
       "                     rougher.input.floatbank10_xanthate  \\\n",
       "date                                                      \n",
       "2017-12-09 14:59:59                            9.308612   \n",
       "2017-12-09 15:59:59                            9.297709   \n",
       "2017-12-09 16:59:59                            9.003562   \n",
       "2017-12-09 17:59:59                            8.955597   \n",
       "2017-12-09 18:59:59                            7.490356   \n",
       "\n",
       "                     rougher.state.floatbank10_a_air  \\\n",
       "date                                                   \n",
       "2017-12-09 14:59:59                      1196.238112   \n",
       "2017-12-09 15:59:59                      1201.904177   \n",
       "2017-12-09 16:59:59                      1200.826926   \n",
       "2017-12-09 17:59:59                      1199.292489   \n",
       "2017-12-09 18:59:59                      1198.005449   \n",
       "\n",
       "                     rougher.state.floatbank10_a_level  ...  \\\n",
       "date                                                    ...   \n",
       "2017-12-09 14:59:59                        -299.862743  ...   \n",
       "2017-12-09 15:59:59                        -299.907308  ...   \n",
       "2017-12-09 16:59:59                        -300.124116  ...   \n",
       "2017-12-09 17:59:59                        -299.778385  ...   \n",
       "2017-12-09 18:59:59                        -300.283401  ...   \n",
       "\n",
       "                     secondary_cleaner.state.floatbank4_a_air  \\\n",
       "date                                                            \n",
       "2017-12-09 14:59:59                                 23.018622   \n",
       "2017-12-09 15:59:59                                 23.024963   \n",
       "2017-12-09 16:59:59                                 22.993827   \n",
       "2017-12-09 17:59:59                                 23.032807   \n",
       "2017-12-09 18:59:59                                 23.001911   \n",
       "\n",
       "                     secondary_cleaner.state.floatbank4_a_level  \\\n",
       "date                                                              \n",
       "2017-12-09 14:59:59                                 -500.492702   \n",
       "2017-12-09 15:59:59                                 -501.153409   \n",
       "2017-12-09 16:59:59                                 -501.559663   \n",
       "2017-12-09 17:59:59                                 -501.287889   \n",
       "2017-12-09 18:59:59                                 -499.947838   \n",
       "\n",
       "                     secondary_cleaner.state.floatbank4_b_air  \\\n",
       "date                                                            \n",
       "2017-12-09 14:59:59                                 20.020205   \n",
       "2017-12-09 15:59:59                                 20.054122   \n",
       "2017-12-09 16:59:59                                 20.029144   \n",
       "2017-12-09 17:59:59                                 19.977466   \n",
       "2017-12-09 18:59:59                                 20.023735   \n",
       "\n",
       "                     secondary_cleaner.state.floatbank4_b_level  \\\n",
       "date                                                              \n",
       "2017-12-09 14:59:59                                 -500.220296   \n",
       "2017-12-09 15:59:59                                 -500.314711   \n",
       "2017-12-09 16:59:59                                 -500.000662   \n",
       "2017-12-09 17:59:59                                 -500.159903   \n",
       "2017-12-09 18:59:59                                 -499.713680   \n",
       "\n",
       "                     secondary_cleaner.state.floatbank5_a_air  \\\n",
       "date                                                            \n",
       "2017-12-09 14:59:59                                 17.963512   \n",
       "2017-12-09 15:59:59                                 17.979515   \n",
       "2017-12-09 16:59:59                                 18.012723   \n",
       "2017-12-09 17:59:59                                 17.980463   \n",
       "2017-12-09 18:59:59                                 17.990955   \n",
       "\n",
       "                     secondary_cleaner.state.floatbank5_a_level  \\\n",
       "date                                                              \n",
       "2017-12-09 14:59:59                                 -499.939490   \n",
       "2017-12-09 15:59:59                                 -499.272871   \n",
       "2017-12-09 16:59:59                                 -500.024764   \n",
       "2017-12-09 17:59:59                                 -500.504602   \n",
       "2017-12-09 18:59:59                                 -500.334769   \n",
       "\n",
       "                     secondary_cleaner.state.floatbank5_b_air  \\\n",
       "date                                                            \n",
       "2017-12-09 14:59:59                                 12.990306   \n",
       "2017-12-09 15:59:59                                 12.992404   \n",
       "2017-12-09 16:59:59                                 13.016445   \n",
       "2017-12-09 17:59:59                                 12.949071   \n",
       "2017-12-09 18:59:59                                 13.007523   \n",
       "\n",
       "                     secondary_cleaner.state.floatbank5_b_level  \\\n",
       "date                                                              \n",
       "2017-12-09 14:59:59                                 -500.080993   \n",
       "2017-12-09 15:59:59                                 -499.976268   \n",
       "2017-12-09 16:59:59                                 -500.058432   \n",
       "2017-12-09 17:59:59                                 -500.009937   \n",
       "2017-12-09 18:59:59                                 -499.968459   \n",
       "\n",
       "                     secondary_cleaner.state.floatbank6_a_air  \\\n",
       "date                                                            \n",
       "2017-12-09 14:59:59                                 19.990336   \n",
       "2017-12-09 15:59:59                                 20.013986   \n",
       "2017-12-09 16:59:59                                 19.973767   \n",
       "2017-12-09 17:59:59                                 20.010332   \n",
       "2017-12-09 18:59:59                                 19.995999   \n",
       "\n",
       "                     secondary_cleaner.state.floatbank6_a_level  \n",
       "date                                                             \n",
       "2017-12-09 14:59:59                                 -499.191575  \n",
       "2017-12-09 15:59:59                                 -500.625471  \n",
       "2017-12-09 16:59:59                                 -501.394155  \n",
       "2017-12-09 17:59:59                                 -508.337973  \n",
       "2017-12-09 18:59:59                                 -499.788805  \n",
       "\n",
       "[5 rows x 52 columns]"
      ]
     },
     "execution_count": 7,
     "metadata": {},
     "output_type": "execute_result"
    }
   ],
   "source": [
    "df_test.head()"
   ]
  },
  {
   "cell_type": "code",
   "execution_count": 8,
   "metadata": {
    "scrolled": true
   },
   "outputs": [
    {
     "data": {
      "text/html": [
       "<div>\n",
       "<style scoped>\n",
       "    .dataframe tbody tr th:only-of-type {\n",
       "        vertical-align: middle;\n",
       "    }\n",
       "\n",
       "    .dataframe tbody tr th {\n",
       "        vertical-align: top;\n",
       "    }\n",
       "\n",
       "    .dataframe thead th {\n",
       "        text-align: right;\n",
       "    }\n",
       "</style>\n",
       "<table border=\"1\" class=\"dataframe\">\n",
       "  <thead>\n",
       "    <tr style=\"text-align: right;\">\n",
       "      <th></th>\n",
       "      <th>rougher.input.feed_au</th>\n",
       "      <th>rougher.input.feed_ag</th>\n",
       "      <th>rougher.input.feed_pb</th>\n",
       "      <th>rougher.input.feed_sol</th>\n",
       "      <th>rougher.input.feed_rate</th>\n",
       "      <th>rougher.input.feed_size</th>\n",
       "      <th>rougher.input.floatbank10_sulfate</th>\n",
       "      <th>rougher.input.floatbank10_xanthate</th>\n",
       "      <th>rougher.state.floatbank10_a_air</th>\n",
       "      <th>rougher.state.floatbank10_a_level</th>\n",
       "      <th>...</th>\n",
       "      <th>secondary_cleaner.output.tail_sol</th>\n",
       "      <th>final.output.concentrate_au</th>\n",
       "      <th>final.output.concentrate_ag</th>\n",
       "      <th>final.output.concentrate_pb</th>\n",
       "      <th>final.output.concentrate_sol</th>\n",
       "      <th>final.output.recovery</th>\n",
       "      <th>final.output.tail_au</th>\n",
       "      <th>final.output.tail_ag</th>\n",
       "      <th>final.output.tail_pb</th>\n",
       "      <th>final.output.tail_sol</th>\n",
       "    </tr>\n",
       "    <tr>\n",
       "      <th>date</th>\n",
       "      <th></th>\n",
       "      <th></th>\n",
       "      <th></th>\n",
       "      <th></th>\n",
       "      <th></th>\n",
       "      <th></th>\n",
       "      <th></th>\n",
       "      <th></th>\n",
       "      <th></th>\n",
       "      <th></th>\n",
       "      <th></th>\n",
       "      <th></th>\n",
       "      <th></th>\n",
       "      <th></th>\n",
       "      <th></th>\n",
       "      <th></th>\n",
       "      <th></th>\n",
       "      <th></th>\n",
       "      <th></th>\n",
       "      <th></th>\n",
       "      <th></th>\n",
       "    </tr>\n",
       "  </thead>\n",
       "  <tbody>\n",
       "    <tr>\n",
       "      <th>2016-01-15 00:00:00</th>\n",
       "      <td>6.486150</td>\n",
       "      <td>6.100378</td>\n",
       "      <td>2.284912</td>\n",
       "      <td>36.808594</td>\n",
       "      <td>523.546326</td>\n",
       "      <td>55.486599</td>\n",
       "      <td>11.986616</td>\n",
       "      <td>6.007990</td>\n",
       "      <td>999.706909</td>\n",
       "      <td>-404.066986</td>\n",
       "      <td>...</td>\n",
       "      <td>8.764648</td>\n",
       "      <td>42.192020</td>\n",
       "      <td>6.055403</td>\n",
       "      <td>9.889648</td>\n",
       "      <td>5.507324</td>\n",
       "      <td>70.541216</td>\n",
       "      <td>2.143149</td>\n",
       "      <td>10.411962</td>\n",
       "      <td>0.895447</td>\n",
       "      <td>16.904297</td>\n",
       "    </tr>\n",
       "    <tr>\n",
       "      <th>2016-01-15 01:00:00</th>\n",
       "      <td>6.478583</td>\n",
       "      <td>6.161113</td>\n",
       "      <td>2.266033</td>\n",
       "      <td>35.753385</td>\n",
       "      <td>525.290581</td>\n",
       "      <td>57.278666</td>\n",
       "      <td>11.971193</td>\n",
       "      <td>6.005766</td>\n",
       "      <td>1000.286398</td>\n",
       "      <td>-400.065196</td>\n",
       "      <td>...</td>\n",
       "      <td>9.001494</td>\n",
       "      <td>42.701629</td>\n",
       "      <td>6.029369</td>\n",
       "      <td>9.968944</td>\n",
       "      <td>5.257781</td>\n",
       "      <td>69.266198</td>\n",
       "      <td>2.224930</td>\n",
       "      <td>10.462676</td>\n",
       "      <td>0.927452</td>\n",
       "      <td>16.634514</td>\n",
       "    </tr>\n",
       "    <tr>\n",
       "      <th>2016-01-15 02:00:00</th>\n",
       "      <td>6.362222</td>\n",
       "      <td>6.116455</td>\n",
       "      <td>2.159622</td>\n",
       "      <td>35.971630</td>\n",
       "      <td>530.026610</td>\n",
       "      <td>57.510649</td>\n",
       "      <td>11.920603</td>\n",
       "      <td>6.197377</td>\n",
       "      <td>999.719565</td>\n",
       "      <td>-400.074028</td>\n",
       "      <td>...</td>\n",
       "      <td>8.842896</td>\n",
       "      <td>42.657501</td>\n",
       "      <td>6.055926</td>\n",
       "      <td>10.213995</td>\n",
       "      <td>5.383759</td>\n",
       "      <td>68.116445</td>\n",
       "      <td>2.257889</td>\n",
       "      <td>10.507046</td>\n",
       "      <td>0.953716</td>\n",
       "      <td>16.208849</td>\n",
       "    </tr>\n",
       "    <tr>\n",
       "      <th>2016-01-15 03:00:00</th>\n",
       "      <td>6.118189</td>\n",
       "      <td>6.043309</td>\n",
       "      <td>2.037807</td>\n",
       "      <td>36.862241</td>\n",
       "      <td>542.590390</td>\n",
       "      <td>57.792734</td>\n",
       "      <td>11.630094</td>\n",
       "      <td>6.203177</td>\n",
       "      <td>999.814770</td>\n",
       "      <td>-400.200179</td>\n",
       "      <td>...</td>\n",
       "      <td>9.122857</td>\n",
       "      <td>42.689819</td>\n",
       "      <td>6.047977</td>\n",
       "      <td>9.977019</td>\n",
       "      <td>4.858634</td>\n",
       "      <td>68.347543</td>\n",
       "      <td>2.146849</td>\n",
       "      <td>10.422762</td>\n",
       "      <td>0.883763</td>\n",
       "      <td>16.532835</td>\n",
       "    </tr>\n",
       "    <tr>\n",
       "      <th>2016-01-15 04:00:00</th>\n",
       "      <td>5.663707</td>\n",
       "      <td>6.060915</td>\n",
       "      <td>1.786875</td>\n",
       "      <td>34.347666</td>\n",
       "      <td>540.531893</td>\n",
       "      <td>56.047189</td>\n",
       "      <td>10.957755</td>\n",
       "      <td>6.198826</td>\n",
       "      <td>999.678690</td>\n",
       "      <td>-399.752729</td>\n",
       "      <td>...</td>\n",
       "      <td>8.871028</td>\n",
       "      <td>42.774141</td>\n",
       "      <td>6.148599</td>\n",
       "      <td>10.142511</td>\n",
       "      <td>4.939416</td>\n",
       "      <td>66.927016</td>\n",
       "      <td>2.055292</td>\n",
       "      <td>10.360302</td>\n",
       "      <td>0.792826</td>\n",
       "      <td>16.525686</td>\n",
       "    </tr>\n",
       "  </tbody>\n",
       "</table>\n",
       "<p>5 rows × 86 columns</p>\n",
       "</div>"
      ],
      "text/plain": [
       "                     rougher.input.feed_au  rougher.input.feed_ag  \\\n",
       "date                                                                \n",
       "2016-01-15 00:00:00               6.486150               6.100378   \n",
       "2016-01-15 01:00:00               6.478583               6.161113   \n",
       "2016-01-15 02:00:00               6.362222               6.116455   \n",
       "2016-01-15 03:00:00               6.118189               6.043309   \n",
       "2016-01-15 04:00:00               5.663707               6.060915   \n",
       "\n",
       "                     rougher.input.feed_pb  rougher.input.feed_sol  \\\n",
       "date                                                                 \n",
       "2016-01-15 00:00:00               2.284912               36.808594   \n",
       "2016-01-15 01:00:00               2.266033               35.753385   \n",
       "2016-01-15 02:00:00               2.159622               35.971630   \n",
       "2016-01-15 03:00:00               2.037807               36.862241   \n",
       "2016-01-15 04:00:00               1.786875               34.347666   \n",
       "\n",
       "                     rougher.input.feed_rate  rougher.input.feed_size  \\\n",
       "date                                                                    \n",
       "2016-01-15 00:00:00               523.546326                55.486599   \n",
       "2016-01-15 01:00:00               525.290581                57.278666   \n",
       "2016-01-15 02:00:00               530.026610                57.510649   \n",
       "2016-01-15 03:00:00               542.590390                57.792734   \n",
       "2016-01-15 04:00:00               540.531893                56.047189   \n",
       "\n",
       "                     rougher.input.floatbank10_sulfate  \\\n",
       "date                                                     \n",
       "2016-01-15 00:00:00                          11.986616   \n",
       "2016-01-15 01:00:00                          11.971193   \n",
       "2016-01-15 02:00:00                          11.920603   \n",
       "2016-01-15 03:00:00                          11.630094   \n",
       "2016-01-15 04:00:00                          10.957755   \n",
       "\n",
       "                     rougher.input.floatbank10_xanthate  \\\n",
       "date                                                      \n",
       "2016-01-15 00:00:00                            6.007990   \n",
       "2016-01-15 01:00:00                            6.005766   \n",
       "2016-01-15 02:00:00                            6.197377   \n",
       "2016-01-15 03:00:00                            6.203177   \n",
       "2016-01-15 04:00:00                            6.198826   \n",
       "\n",
       "                     rougher.state.floatbank10_a_air  \\\n",
       "date                                                   \n",
       "2016-01-15 00:00:00                       999.706909   \n",
       "2016-01-15 01:00:00                      1000.286398   \n",
       "2016-01-15 02:00:00                       999.719565   \n",
       "2016-01-15 03:00:00                       999.814770   \n",
       "2016-01-15 04:00:00                       999.678690   \n",
       "\n",
       "                     rougher.state.floatbank10_a_level  ...  \\\n",
       "date                                                    ...   \n",
       "2016-01-15 00:00:00                        -404.066986  ...   \n",
       "2016-01-15 01:00:00                        -400.065196  ...   \n",
       "2016-01-15 02:00:00                        -400.074028  ...   \n",
       "2016-01-15 03:00:00                        -400.200179  ...   \n",
       "2016-01-15 04:00:00                        -399.752729  ...   \n",
       "\n",
       "                     secondary_cleaner.output.tail_sol  \\\n",
       "date                                                     \n",
       "2016-01-15 00:00:00                           8.764648   \n",
       "2016-01-15 01:00:00                           9.001494   \n",
       "2016-01-15 02:00:00                           8.842896   \n",
       "2016-01-15 03:00:00                           9.122857   \n",
       "2016-01-15 04:00:00                           8.871028   \n",
       "\n",
       "                     final.output.concentrate_au  final.output.concentrate_ag  \\\n",
       "date                                                                            \n",
       "2016-01-15 00:00:00                    42.192020                     6.055403   \n",
       "2016-01-15 01:00:00                    42.701629                     6.029369   \n",
       "2016-01-15 02:00:00                    42.657501                     6.055926   \n",
       "2016-01-15 03:00:00                    42.689819                     6.047977   \n",
       "2016-01-15 04:00:00                    42.774141                     6.148599   \n",
       "\n",
       "                     final.output.concentrate_pb  \\\n",
       "date                                               \n",
       "2016-01-15 00:00:00                     9.889648   \n",
       "2016-01-15 01:00:00                     9.968944   \n",
       "2016-01-15 02:00:00                    10.213995   \n",
       "2016-01-15 03:00:00                     9.977019   \n",
       "2016-01-15 04:00:00                    10.142511   \n",
       "\n",
       "                     final.output.concentrate_sol  final.output.recovery  \\\n",
       "date                                                                       \n",
       "2016-01-15 00:00:00                      5.507324              70.541216   \n",
       "2016-01-15 01:00:00                      5.257781              69.266198   \n",
       "2016-01-15 02:00:00                      5.383759              68.116445   \n",
       "2016-01-15 03:00:00                      4.858634              68.347543   \n",
       "2016-01-15 04:00:00                      4.939416              66.927016   \n",
       "\n",
       "                     final.output.tail_au  final.output.tail_ag  \\\n",
       "date                                                              \n",
       "2016-01-15 00:00:00              2.143149             10.411962   \n",
       "2016-01-15 01:00:00              2.224930             10.462676   \n",
       "2016-01-15 02:00:00              2.257889             10.507046   \n",
       "2016-01-15 03:00:00              2.146849             10.422762   \n",
       "2016-01-15 04:00:00              2.055292             10.360302   \n",
       "\n",
       "                     final.output.tail_pb  final.output.tail_sol  \n",
       "date                                                              \n",
       "2016-01-15 00:00:00              0.895447              16.904297  \n",
       "2016-01-15 01:00:00              0.927452              16.634514  \n",
       "2016-01-15 02:00:00              0.953716              16.208849  \n",
       "2016-01-15 03:00:00              0.883763              16.532835  \n",
       "2016-01-15 04:00:00              0.792826              16.525686  \n",
       "\n",
       "[5 rows x 86 columns]"
      ]
     },
     "execution_count": 8,
     "metadata": {},
     "output_type": "execute_result"
    }
   ],
   "source": [
    "df_train.head()"
   ]
  },
  {
   "cell_type": "code",
   "execution_count": 9,
   "metadata": {
    "scrolled": true
   },
   "outputs": [
    {
     "name": "stdout",
     "output_type": "stream",
     "text": [
      "<class 'pandas.core.frame.DataFrame'>\n",
      "Index: 14579 entries, 2016-01-15 00:00:00 to 2017-12-09 13:59:59\n",
      "Data columns (total 86 columns):\n",
      " #   Column                                              Non-Null Count  Dtype  \n",
      "---  ------                                              --------------  -----  \n",
      " 0   rougher.input.feed_au                               14579 non-null  float64\n",
      " 1   rougher.input.feed_ag                               14579 non-null  float64\n",
      " 2   rougher.input.feed_pb                               14507 non-null  float64\n",
      " 3   rougher.input.feed_sol                              14502 non-null  float64\n",
      " 4   rougher.input.feed_rate                             14572 non-null  float64\n",
      " 5   rougher.input.feed_size                             14478 non-null  float64\n",
      " 6   rougher.input.floatbank10_sulfate                   14548 non-null  float64\n",
      " 7   rougher.input.floatbank10_xanthate                  14572 non-null  float64\n",
      " 8   rougher.state.floatbank10_a_air                     14579 non-null  float64\n",
      " 9   rougher.state.floatbank10_a_level                   14579 non-null  float64\n",
      " 10  rougher.state.floatbank10_b_air                     14579 non-null  float64\n",
      " 11  rougher.state.floatbank10_b_level                   14579 non-null  float64\n",
      " 12  rougher.state.floatbank10_c_air                     14579 non-null  float64\n",
      " 13  rougher.state.floatbank10_c_level                   14579 non-null  float64\n",
      " 14  rougher.state.floatbank10_d_air                     14579 non-null  float64\n",
      " 15  rougher.state.floatbank10_d_level                   14579 non-null  float64\n",
      " 16  rougher.state.floatbank10_e_air                     14150 non-null  float64\n",
      " 17  rougher.state.floatbank10_e_level                   14579 non-null  float64\n",
      " 18  rougher.state.floatbank10_f_air                     14579 non-null  float64\n",
      " 19  rougher.state.floatbank10_f_level                   14579 non-null  float64\n",
      " 20  rougher.input.floatbank11_sulfate                   14543 non-null  float64\n",
      " 21  rougher.input.floatbank11_xanthate                  14172 non-null  float64\n",
      " 22  rougher.calculation.sulfate_to_au_concentrate       14578 non-null  float64\n",
      " 23  rougher.calculation.floatbank10_sulfate_to_au_feed  14578 non-null  float64\n",
      " 24  rougher.calculation.floatbank11_sulfate_to_au_feed  14578 non-null  float64\n",
      " 25  rougher.calculation.au_pb_ratio                     14579 non-null  float64\n",
      " 26  rougher.output.concentrate_au                       14579 non-null  float64\n",
      " 27  rougher.output.concentrate_ag                       14579 non-null  float64\n",
      " 28  rougher.output.concentrate_pb                       14579 non-null  float64\n",
      " 29  rougher.output.concentrate_sol                      14561 non-null  float64\n",
      " 30  rougher.output.recovery                             14579 non-null  float64\n",
      " 31  rougher.output.tail_au                              14579 non-null  float64\n",
      " 32  rougher.output.tail_ag                              14578 non-null  float64\n",
      " 33  rougher.output.tail_pb                              14579 non-null  float64\n",
      " 34  rougher.output.tail_sol                             14579 non-null  float64\n",
      " 35  primary_cleaner.input.sulfate                       14556 non-null  float64\n",
      " 36  primary_cleaner.input.depressant                    14551 non-null  float64\n",
      " 37  primary_cleaner.input.feed_size                     14579 non-null  float64\n",
      " 38  primary_cleaner.input.xanthate                      14518 non-null  float64\n",
      " 39  primary_cleaner.state.floatbank8_a_air              14576 non-null  float64\n",
      " 40  primary_cleaner.state.floatbank8_a_level            14579 non-null  float64\n",
      " 41  primary_cleaner.state.floatbank8_b_air              14576 non-null  float64\n",
      " 42  primary_cleaner.state.floatbank8_b_level            14579 non-null  float64\n",
      " 43  primary_cleaner.state.floatbank8_c_air              14579 non-null  float64\n",
      " 44  primary_cleaner.state.floatbank8_c_level            14579 non-null  float64\n",
      " 45  primary_cleaner.state.floatbank8_d_air              14578 non-null  float64\n",
      " 46  primary_cleaner.state.floatbank8_d_level            14579 non-null  float64\n",
      " 47  primary_cleaner.output.concentrate_au               14579 non-null  float64\n",
      " 48  primary_cleaner.output.concentrate_ag               14579 non-null  float64\n",
      " 49  primary_cleaner.output.concentrate_pb               14491 non-null  float64\n",
      " 50  primary_cleaner.output.concentrate_sol              14314 non-null  float64\n",
      " 51  primary_cleaner.output.tail_au                      14579 non-null  float64\n",
      " 52  primary_cleaner.output.tail_ag                      14575 non-null  float64\n",
      " 53  primary_cleaner.output.tail_pb                      14573 non-null  float64\n",
      " 54  primary_cleaner.output.tail_sol                     14534 non-null  float64\n",
      " 55  secondary_cleaner.state.floatbank2_a_air            14485 non-null  float64\n",
      " 56  secondary_cleaner.state.floatbank2_a_level          14579 non-null  float64\n",
      " 57  secondary_cleaner.state.floatbank2_b_air            14557 non-null  float64\n",
      " 58  secondary_cleaner.state.floatbank2_b_level          14579 non-null  float64\n",
      " 59  secondary_cleaner.state.floatbank3_a_air            14567 non-null  float64\n",
      " 60  secondary_cleaner.state.floatbank3_a_level          14579 non-null  float64\n",
      " 61  secondary_cleaner.state.floatbank3_b_air            14579 non-null  float64\n",
      " 62  secondary_cleaner.state.floatbank3_b_level          14579 non-null  float64\n",
      " 63  secondary_cleaner.state.floatbank4_a_air            14574 non-null  float64\n",
      " 64  secondary_cleaner.state.floatbank4_a_level          14579 non-null  float64\n",
      " 65  secondary_cleaner.state.floatbank4_b_air            14579 non-null  float64\n",
      " 66  secondary_cleaner.state.floatbank4_b_level          14579 non-null  float64\n",
      " 67  secondary_cleaner.state.floatbank5_a_air            14579 non-null  float64\n",
      " 68  secondary_cleaner.state.floatbank5_a_level          14579 non-null  float64\n",
      " 69  secondary_cleaner.state.floatbank5_b_air            14579 non-null  float64\n",
      " 70  secondary_cleaner.state.floatbank5_b_level          14579 non-null  float64\n",
      " 71  secondary_cleaner.state.floatbank6_a_air            14578 non-null  float64\n",
      " 72  secondary_cleaner.state.floatbank6_a_level          14579 non-null  float64\n",
      " 73  secondary_cleaner.output.tail_au                    14579 non-null  float64\n",
      " 74  secondary_cleaner.output.tail_ag                    14578 non-null  float64\n",
      " 75  secondary_cleaner.output.tail_pb                    14575 non-null  float64\n",
      " 76  secondary_cleaner.output.tail_sol                   13659 non-null  float64\n",
      " 77  final.output.concentrate_au                         14579 non-null  float64\n",
      " 78  final.output.concentrate_ag                         14578 non-null  float64\n",
      " 79  final.output.concentrate_pb                         14578 non-null  float64\n",
      " 80  final.output.concentrate_sol                        14387 non-null  float64\n",
      " 81  final.output.recovery                               14579 non-null  float64\n",
      " 82  final.output.tail_au                                14579 non-null  float64\n",
      " 83  final.output.tail_ag                                14578 non-null  float64\n",
      " 84  final.output.tail_pb                                14504 non-null  float64\n",
      " 85  final.output.tail_sol                               14574 non-null  float64\n",
      "dtypes: float64(86)\n",
      "memory usage: 9.7+ MB\n"
     ]
    }
   ],
   "source": [
    "df_train.info()"
   ]
  },
  {
   "cell_type": "code",
   "execution_count": 10,
   "metadata": {
    "scrolled": true
   },
   "outputs": [
    {
     "name": "stdout",
     "output_type": "stream",
     "text": [
      "<class 'pandas.core.frame.DataFrame'>\n",
      "Index: 4860 entries, 2017-12-09 14:59:59 to 2018-08-18 10:59:59\n",
      "Data columns (total 52 columns):\n",
      " #   Column                                      Non-Null Count  Dtype  \n",
      "---  ------                                      --------------  -----  \n",
      " 0   rougher.input.feed_au                       4860 non-null   float64\n",
      " 1   rougher.input.feed_ag                       4860 non-null   float64\n",
      " 2   rougher.input.feed_pb                       4832 non-null   float64\n",
      " 3   rougher.input.feed_sol                      4838 non-null   float64\n",
      " 4   rougher.input.feed_rate                     4856 non-null   float64\n",
      " 5   rougher.input.feed_size                     4816 non-null   float64\n",
      " 6   rougher.input.floatbank10_sulfate           4857 non-null   float64\n",
      " 7   rougher.input.floatbank10_xanthate          4859 non-null   float64\n",
      " 8   rougher.state.floatbank10_a_air             4859 non-null   float64\n",
      " 9   rougher.state.floatbank10_a_level           4859 non-null   float64\n",
      " 10  rougher.state.floatbank10_b_air             4859 non-null   float64\n",
      " 11  rougher.state.floatbank10_b_level           4859 non-null   float64\n",
      " 12  rougher.state.floatbank10_c_air             4859 non-null   float64\n",
      " 13  rougher.state.floatbank10_c_level           4859 non-null   float64\n",
      " 14  rougher.state.floatbank10_d_air             4860 non-null   float64\n",
      " 15  rougher.state.floatbank10_d_level           4860 non-null   float64\n",
      " 16  rougher.state.floatbank10_e_air             4853 non-null   float64\n",
      " 17  rougher.state.floatbank10_e_level           4860 non-null   float64\n",
      " 18  rougher.state.floatbank10_f_air             4860 non-null   float64\n",
      " 19  rougher.state.floatbank10_f_level           4860 non-null   float64\n",
      " 20  rougher.input.floatbank11_sulfate           4852 non-null   float64\n",
      " 21  rougher.input.floatbank11_xanthate          4814 non-null   float64\n",
      " 22  primary_cleaner.input.sulfate               4859 non-null   float64\n",
      " 23  primary_cleaner.input.depressant            4851 non-null   float64\n",
      " 24  primary_cleaner.input.feed_size             4860 non-null   float64\n",
      " 25  primary_cleaner.input.xanthate              4817 non-null   float64\n",
      " 26  primary_cleaner.state.floatbank8_a_air      4859 non-null   float64\n",
      " 27  primary_cleaner.state.floatbank8_a_level    4859 non-null   float64\n",
      " 28  primary_cleaner.state.floatbank8_b_air      4859 non-null   float64\n",
      " 29  primary_cleaner.state.floatbank8_b_level    4859 non-null   float64\n",
      " 30  primary_cleaner.state.floatbank8_c_air      4858 non-null   float64\n",
      " 31  primary_cleaner.state.floatbank8_c_level    4859 non-null   float64\n",
      " 32  primary_cleaner.state.floatbank8_d_air      4858 non-null   float64\n",
      " 33  primary_cleaner.state.floatbank8_d_level    4859 non-null   float64\n",
      " 34  secondary_cleaner.state.floatbank2_a_air    4734 non-null   float64\n",
      " 35  secondary_cleaner.state.floatbank2_a_level  4859 non-null   float64\n",
      " 36  secondary_cleaner.state.floatbank2_b_air    4859 non-null   float64\n",
      " 37  secondary_cleaner.state.floatbank2_b_level  4859 non-null   float64\n",
      " 38  secondary_cleaner.state.floatbank3_a_air    4859 non-null   float64\n",
      " 39  secondary_cleaner.state.floatbank3_a_level  4859 non-null   float64\n",
      " 40  secondary_cleaner.state.floatbank3_b_air    4859 non-null   float64\n",
      " 41  secondary_cleaner.state.floatbank3_b_level  4859 non-null   float64\n",
      " 42  secondary_cleaner.state.floatbank4_a_air    4859 non-null   float64\n",
      " 43  secondary_cleaner.state.floatbank4_a_level  4859 non-null   float64\n",
      " 44  secondary_cleaner.state.floatbank4_b_air    4859 non-null   float64\n",
      " 45  secondary_cleaner.state.floatbank4_b_level  4859 non-null   float64\n",
      " 46  secondary_cleaner.state.floatbank5_a_air    4859 non-null   float64\n",
      " 47  secondary_cleaner.state.floatbank5_a_level  4859 non-null   float64\n",
      " 48  secondary_cleaner.state.floatbank5_b_air    4859 non-null   float64\n",
      " 49  secondary_cleaner.state.floatbank5_b_level  4859 non-null   float64\n",
      " 50  secondary_cleaner.state.floatbank6_a_air    4859 non-null   float64\n",
      " 51  secondary_cleaner.state.floatbank6_a_level  4859 non-null   float64\n",
      "dtypes: float64(52)\n",
      "memory usage: 2.0+ MB\n"
     ]
    }
   ],
   "source": [
    "df_test.info()"
   ]
  },
  {
   "cell_type": "code",
   "execution_count": 11,
   "metadata": {
    "scrolled": true
   },
   "outputs": [
    {
     "name": "stdout",
     "output_type": "stream",
     "text": [
      "<class 'pandas.core.frame.DataFrame'>\n",
      "Index: 19439 entries, 2016-01-15 00:00:00 to 2018-08-18 10:59:59\n",
      "Data columns (total 86 columns):\n",
      " #   Column                                              Non-Null Count  Dtype  \n",
      "---  ------                                              --------------  -----  \n",
      " 0   rougher.input.feed_au                               19439 non-null  float64\n",
      " 1   rougher.input.feed_ag                               19439 non-null  float64\n",
      " 2   rougher.input.feed_pb                               19339 non-null  float64\n",
      " 3   rougher.input.feed_sol                              19340 non-null  float64\n",
      " 4   rougher.input.feed_rate                             19428 non-null  float64\n",
      " 5   rougher.input.feed_size                             19294 non-null  float64\n",
      " 6   rougher.input.floatbank10_sulfate                   19405 non-null  float64\n",
      " 7   rougher.input.floatbank10_xanthate                  19431 non-null  float64\n",
      " 8   rougher.state.floatbank10_a_air                     19438 non-null  float64\n",
      " 9   rougher.state.floatbank10_a_level                   19438 non-null  float64\n",
      " 10  rougher.state.floatbank10_b_air                     19438 non-null  float64\n",
      " 11  rougher.state.floatbank10_b_level                   19438 non-null  float64\n",
      " 12  rougher.state.floatbank10_c_air                     19438 non-null  float64\n",
      " 13  rougher.state.floatbank10_c_level                   19438 non-null  float64\n",
      " 14  rougher.state.floatbank10_d_air                     19439 non-null  float64\n",
      " 15  rougher.state.floatbank10_d_level                   19439 non-null  float64\n",
      " 16  rougher.state.floatbank10_e_air                     19003 non-null  float64\n",
      " 17  rougher.state.floatbank10_e_level                   19439 non-null  float64\n",
      " 18  rougher.state.floatbank10_f_air                     19439 non-null  float64\n",
      " 19  rougher.state.floatbank10_f_level                   19439 non-null  float64\n",
      " 20  rougher.input.floatbank11_sulfate                   19395 non-null  float64\n",
      " 21  rougher.input.floatbank11_xanthate                  18986 non-null  float64\n",
      " 22  rougher.calculation.sulfate_to_au_concentrate       19437 non-null  float64\n",
      " 23  rougher.calculation.floatbank10_sulfate_to_au_feed  19437 non-null  float64\n",
      " 24  rougher.calculation.floatbank11_sulfate_to_au_feed  19437 non-null  float64\n",
      " 25  rougher.calculation.au_pb_ratio                     19439 non-null  float64\n",
      " 26  rougher.output.concentrate_au                       19439 non-null  float64\n",
      " 27  rougher.output.concentrate_ag                       19439 non-null  float64\n",
      " 28  rougher.output.concentrate_pb                       19439 non-null  float64\n",
      " 29  rougher.output.concentrate_sol                      19416 non-null  float64\n",
      " 30  rougher.output.recovery                             19439 non-null  float64\n",
      " 31  rougher.output.tail_au                              19439 non-null  float64\n",
      " 32  rougher.output.tail_ag                              19438 non-null  float64\n",
      " 33  rougher.output.tail_pb                              19439 non-null  float64\n",
      " 34  rougher.output.tail_sol                             19439 non-null  float64\n",
      " 35  primary_cleaner.input.sulfate                       19415 non-null  float64\n",
      " 36  primary_cleaner.input.depressant                    19402 non-null  float64\n",
      " 37  primary_cleaner.input.feed_size                     19439 non-null  float64\n",
      " 38  primary_cleaner.input.xanthate                      19335 non-null  float64\n",
      " 39  primary_cleaner.state.floatbank8_a_air              19435 non-null  float64\n",
      " 40  primary_cleaner.state.floatbank8_a_level            19438 non-null  float64\n",
      " 41  primary_cleaner.state.floatbank8_b_air              19435 non-null  float64\n",
      " 42  primary_cleaner.state.floatbank8_b_level            19438 non-null  float64\n",
      " 43  primary_cleaner.state.floatbank8_c_air              19437 non-null  float64\n",
      " 44  primary_cleaner.state.floatbank8_c_level            19438 non-null  float64\n",
      " 45  primary_cleaner.state.floatbank8_d_air              19436 non-null  float64\n",
      " 46  primary_cleaner.state.floatbank8_d_level            19438 non-null  float64\n",
      " 47  primary_cleaner.output.concentrate_au               19439 non-null  float64\n",
      " 48  primary_cleaner.output.concentrate_ag               19439 non-null  float64\n",
      " 49  primary_cleaner.output.concentrate_pb               19323 non-null  float64\n",
      " 50  primary_cleaner.output.concentrate_sol              19069 non-null  float64\n",
      " 51  primary_cleaner.output.tail_au                      19439 non-null  float64\n",
      " 52  primary_cleaner.output.tail_ag                      19435 non-null  float64\n",
      " 53  primary_cleaner.output.tail_pb                      19418 non-null  float64\n",
      " 54  primary_cleaner.output.tail_sol                     19377 non-null  float64\n",
      " 55  secondary_cleaner.state.floatbank2_a_air            19219 non-null  float64\n",
      " 56  secondary_cleaner.state.floatbank2_a_level          19438 non-null  float64\n",
      " 57  secondary_cleaner.state.floatbank2_b_air            19416 non-null  float64\n",
      " 58  secondary_cleaner.state.floatbank2_b_level          19438 non-null  float64\n",
      " 59  secondary_cleaner.state.floatbank3_a_air            19426 non-null  float64\n",
      " 60  secondary_cleaner.state.floatbank3_a_level          19438 non-null  float64\n",
      " 61  secondary_cleaner.state.floatbank3_b_air            19438 non-null  float64\n",
      " 62  secondary_cleaner.state.floatbank3_b_level          19438 non-null  float64\n",
      " 63  secondary_cleaner.state.floatbank4_a_air            19433 non-null  float64\n",
      " 64  secondary_cleaner.state.floatbank4_a_level          19438 non-null  float64\n",
      " 65  secondary_cleaner.state.floatbank4_b_air            19438 non-null  float64\n",
      " 66  secondary_cleaner.state.floatbank4_b_level          19438 non-null  float64\n",
      " 67  secondary_cleaner.state.floatbank5_a_air            19438 non-null  float64\n",
      " 68  secondary_cleaner.state.floatbank5_a_level          19438 non-null  float64\n",
      " 69  secondary_cleaner.state.floatbank5_b_air            19438 non-null  float64\n",
      " 70  secondary_cleaner.state.floatbank5_b_level          19438 non-null  float64\n",
      " 71  secondary_cleaner.state.floatbank6_a_air            19437 non-null  float64\n",
      " 72  secondary_cleaner.state.floatbank6_a_level          19438 non-null  float64\n",
      " 73  secondary_cleaner.output.tail_au                    19439 non-null  float64\n",
      " 74  secondary_cleaner.output.tail_ag                    19437 non-null  float64\n",
      " 75  secondary_cleaner.output.tail_pb                    19427 non-null  float64\n",
      " 76  secondary_cleaner.output.tail_sol                   17691 non-null  float64\n",
      " 77  final.output.concentrate_au                         19439 non-null  float64\n",
      " 78  final.output.concentrate_ag                         19438 non-null  float64\n",
      " 79  final.output.concentrate_pb                         19438 non-null  float64\n",
      " 80  final.output.concentrate_sol                        19228 non-null  float64\n",
      " 81  final.output.recovery                               19439 non-null  float64\n",
      " 82  final.output.tail_au                                19439 non-null  float64\n",
      " 83  final.output.tail_ag                                19438 non-null  float64\n",
      " 84  final.output.tail_pb                                19338 non-null  float64\n",
      " 85  final.output.tail_sol                               19433 non-null  float64\n",
      "dtypes: float64(86)\n",
      "memory usage: 12.9+ MB\n"
     ]
    }
   ],
   "source": [
    "df_full.info()"
   ]
  },
  {
   "cell_type": "markdown",
   "metadata": {},
   "source": [
    "Мы имеем 85 колонок в полной и обучающей выборке и 51 колонка в тестовой выборке"
   ]
  },
  {
   "cell_type": "markdown",
   "metadata": {},
   "source": [
    "Изучим пропуски и оценим их количество"
   ]
  },
  {
   "cell_type": "code",
   "execution_count": 12,
   "metadata": {},
   "outputs": [
    {
     "data": {
      "text/plain": [
       "secondary_cleaner.output.tail_sol           4.732754\n",
       "rougher.state.floatbank10_e_air             2.206904\n",
       "rougher.input.floatbank11_xanthate          2.093729\n",
       "primary_cleaner.output.concentrate_sol      1.363239\n",
       "final.output.concentrate_sol                0.987705\n",
       "rougher.input.feed_size                     0.519574\n",
       "secondary_cleaner.state.floatbank2_a_air    0.483564\n",
       "primary_cleaner.output.concentrate_pb       0.452698\n",
       "rougher.input.feed_sol                      0.396111\n",
       "final.output.tail_pb                        0.385822\n",
       "dtype: float64"
      ]
     },
     "execution_count": 12,
     "metadata": {},
     "output_type": "execute_result"
    }
   ],
   "source": [
    "df_train.isna().sum().sort_values(ascending = False).head(10)/len(df_full) * 100"
   ]
  },
  {
   "cell_type": "code",
   "execution_count": 13,
   "metadata": {},
   "outputs": [
    {
     "data": {
      "text/plain": [
       "secondary_cleaner.state.floatbank2_a_air    0.648181\n",
       "rougher.input.floatbank11_xanthate          0.236638\n",
       "rougher.input.feed_size                     0.226349\n",
       "primary_cleaner.input.xanthate              0.221205\n",
       "rougher.input.feed_pb                       0.144040\n",
       "dtype: float64"
      ]
     },
     "execution_count": 13,
     "metadata": {},
     "output_type": "execute_result"
    }
   ],
   "source": [
    "df_test.isna().sum().sort_values(ascending = False).head()/len(df_full) * 100"
   ]
  },
  {
   "cell_type": "code",
   "execution_count": 14,
   "metadata": {
    "scrolled": false
   },
   "outputs": [
    {
     "data": {
      "text/plain": [
       "secondary_cleaner.output.tail_sol           8.992232\n",
       "rougher.input.floatbank11_xanthate          2.330367\n",
       "rougher.state.floatbank10_e_air             2.242914\n",
       "primary_cleaner.output.concentrate_sol      1.903390\n",
       "secondary_cleaner.state.floatbank2_a_air    1.131745\n",
       "final.output.concentrate_sol                1.085447\n",
       "rougher.input.feed_size                     0.745923\n",
       "primary_cleaner.output.concentrate_pb       0.596739\n",
       "primary_cleaner.input.xanthate              0.535007\n",
       "final.output.tail_pb                        0.519574\n",
       "dtype: float64"
      ]
     },
     "execution_count": 14,
     "metadata": {},
     "output_type": "execute_result"
    }
   ],
   "source": [
    "df_full.isna().sum().sort_values(ascending = False).head(10)/len(df_full) * 100"
   ]
  },
  {
   "cell_type": "markdown",
   "metadata": {},
   "source": [
    "Так как значения идут по времени, лучший способ заполнить пропуски это использовать предыдущее значение, для этого используем метод fillna"
   ]
  },
  {
   "cell_type": "code",
   "execution_count": 15,
   "metadata": {},
   "outputs": [],
   "source": [
    "df_full = df_full.fillna(method='ffill')\n",
    "df_train = df_train.fillna(method='ffill')\n",
    "df_test = df_test.fillna(method='ffill')"
   ]
  },
  {
   "cell_type": "markdown",
   "metadata": {},
   "source": [
    "Проверим, что эффективность обогащения рассчитана правильно.  Вычислите её на обучающей выборке для признака rougher.output.recovery. Найдем MAE между расчётом и значением признака."
   ]
  },
  {
   "cell_type": "code",
   "execution_count": 16,
   "metadata": {},
   "outputs": [
    {
     "data": {
      "text/plain": [
       "9.83758577644259e-15"
      ]
     },
     "execution_count": 16,
     "metadata": {},
     "output_type": "execute_result"
    }
   ],
   "source": [
    "df_train['calculation_recovery'] = (df_train['rougher.output.concentrate_au'] \n",
    "                        * (df_train['rougher.input.feed_au'] - df_train['rougher.output.tail_au'])\n",
    "                        / (df_train['rougher.input.feed_au'] \n",
    "                        * (df_train['rougher.output.concentrate_au'] \n",
    "                        - df_train['rougher.output.tail_au'])) * 100)\n",
    "\n",
    "df_train['calculation_final_recovery'] = (df_train['final.output.concentrate_au'] \n",
    "                        * (df_train['rougher.input.feed_au'] - df_train['final.output.tail_au'])\n",
    "                        / (df_train['rougher.input.feed_au'] \n",
    "                        * (df_train['final.output.concentrate_au'] \n",
    "                        - df_train['final.output.tail_au'])) * 100)\n",
    "\n",
    "def mae(target, prediction):\n",
    "    error = 0\n",
    "    for i in range(target.shape[0]):\n",
    "        error +=abs(target[i] - prediction[i])\n",
    "    return error / target.shape[0]\n",
    "mae(df_train['rougher.output.recovery'], df_train['calculation_recovery'])"
   ]
  },
  {
   "cell_type": "code",
   "execution_count": 17,
   "metadata": {},
   "outputs": [
    {
     "data": {
      "text/plain": [
       "8.569602032360358e-15"
      ]
     },
     "execution_count": 17,
     "metadata": {},
     "output_type": "execute_result"
    }
   ],
   "source": [
    "mae(df_train['final.output.recovery'], df_train['calculation_final_recovery'])"
   ]
  },
  {
   "cell_type": "markdown",
   "metadata": {},
   "source": [
    "Исходя из полученных данных значения таргета \"rougher.output.recovery\" с очень высокой точностью можно высчитать из других признаков по формуле. Для второго таргета \"final.output.recovery\" также значения можно вычислить по формуле с высокой точностью"
   ]
  },
  {
   "cell_type": "markdown",
   "metadata": {},
   "source": [
    "Проанализируем какие признаки, недоступны в тестовой выборке. Что это за параметры? К какому типу относятся?"
   ]
  },
  {
   "cell_type": "code",
   "execution_count": 18,
   "metadata": {
    "scrolled": true
   },
   "outputs": [
    {
     "name": "stdout",
     "output_type": "stream",
     "text": [
      "0         rougher.calculation.sulfate_to_au_concentrate\n",
      "1     rougher.calculation.floatbank10_sulfate_to_au_...\n",
      "2     rougher.calculation.floatbank11_sulfate_to_au_...\n",
      "3                       rougher.calculation.au_pb_ratio\n",
      "4                         rougher.output.concentrate_au\n",
      "5                         rougher.output.concentrate_ag\n",
      "6                         rougher.output.concentrate_pb\n",
      "7                        rougher.output.concentrate_sol\n",
      "8                               rougher.output.recovery\n",
      "9                                rougher.output.tail_au\n",
      "10                               rougher.output.tail_ag\n",
      "11                               rougher.output.tail_pb\n",
      "12                              rougher.output.tail_sol\n",
      "13                primary_cleaner.output.concentrate_au\n",
      "14                primary_cleaner.output.concentrate_ag\n",
      "15                primary_cleaner.output.concentrate_pb\n",
      "16               primary_cleaner.output.concentrate_sol\n",
      "17                       primary_cleaner.output.tail_au\n",
      "18                       primary_cleaner.output.tail_ag\n",
      "19                       primary_cleaner.output.tail_pb\n",
      "20                      primary_cleaner.output.tail_sol\n",
      "21                     secondary_cleaner.output.tail_au\n",
      "22                     secondary_cleaner.output.tail_ag\n",
      "23                     secondary_cleaner.output.tail_pb\n",
      "24                    secondary_cleaner.output.tail_sol\n",
      "25                          final.output.concentrate_au\n",
      "26                          final.output.concentrate_ag\n",
      "27                          final.output.concentrate_pb\n",
      "28                         final.output.concentrate_sol\n",
      "29                                final.output.recovery\n",
      "30                                 final.output.tail_au\n",
      "31                                 final.output.tail_ag\n",
      "32                                 final.output.tail_pb\n",
      "33                                final.output.tail_sol\n",
      "34                                 calculation_recovery\n",
      "35                           calculation_final_recovery\n",
      "dtype: object\n"
     ]
    }
   ],
   "source": [
    "result = [] \n",
    "for i in range(len(df_train.columns)):\n",
    "    if df_train.columns[i] not in df_test.columns: \n",
    "        result.append(df_train.columns[i]) \n",
    "print(pd.Series(result))"
   ]
  },
  {
   "cell_type": "markdown",
   "metadata": {},
   "source": [
    "Как мы видим в основном в тестовой выборке отсутствуют признаки которые можно получить на выходе (output). Думаю их нельзя использовать при обучении модели"
   ]
  },
  {
   "cell_type": "code",
   "execution_count": 19,
   "metadata": {},
   "outputs": [
    {
     "data": {
      "text/plain": [
       "{'calculation_final_recovery',\n",
       " 'calculation_recovery',\n",
       " 'final.output.concentrate_ag',\n",
       " 'final.output.concentrate_au',\n",
       " 'final.output.concentrate_pb',\n",
       " 'final.output.concentrate_sol',\n",
       " 'final.output.recovery',\n",
       " 'final.output.tail_ag',\n",
       " 'final.output.tail_au',\n",
       " 'final.output.tail_pb',\n",
       " 'final.output.tail_sol',\n",
       " 'primary_cleaner.output.concentrate_ag',\n",
       " 'primary_cleaner.output.concentrate_au',\n",
       " 'primary_cleaner.output.concentrate_pb',\n",
       " 'primary_cleaner.output.concentrate_sol',\n",
       " 'primary_cleaner.output.tail_ag',\n",
       " 'primary_cleaner.output.tail_au',\n",
       " 'primary_cleaner.output.tail_pb',\n",
       " 'primary_cleaner.output.tail_sol',\n",
       " 'rougher.calculation.au_pb_ratio',\n",
       " 'rougher.calculation.floatbank10_sulfate_to_au_feed',\n",
       " 'rougher.calculation.floatbank11_sulfate_to_au_feed',\n",
       " 'rougher.calculation.sulfate_to_au_concentrate',\n",
       " 'rougher.output.concentrate_ag',\n",
       " 'rougher.output.concentrate_au',\n",
       " 'rougher.output.concentrate_pb',\n",
       " 'rougher.output.concentrate_sol',\n",
       " 'rougher.output.recovery',\n",
       " 'rougher.output.tail_ag',\n",
       " 'rougher.output.tail_au',\n",
       " 'rougher.output.tail_pb',\n",
       " 'rougher.output.tail_sol',\n",
       " 'secondary_cleaner.output.tail_ag',\n",
       " 'secondary_cleaner.output.tail_au',\n",
       " 'secondary_cleaner.output.tail_pb',\n",
       " 'secondary_cleaner.output.tail_sol'}"
      ]
     },
     "execution_count": 19,
     "metadata": {},
     "output_type": "execute_result"
    }
   ],
   "source": [
    "set(df_train.columns) - set(df_test.columns)"
   ]
  },
  {
   "cell_type": "markdown",
   "metadata": {},
   "source": [
    "## Анализ данных"
   ]
  },
  {
   "cell_type": "markdown",
   "metadata": {},
   "source": [
    "Посмотрим, как меняется концентрация металлов (Au, Ag, Pb) на различных этапах очистки."
   ]
  },
  {
   "cell_type": "code",
   "execution_count": 20,
   "metadata": {
    "scrolled": false
   },
   "outputs": [
    {
     "data": {
      "image/png": "[encoded data removed]",
      "text/plain": [
       "<Figure size 1008x504 with 1 Axes>"
      ]
     },
     "metadata": {
      "needs_background": "light"
     },
     "output_type": "display_data"
    }
   ],
   "source": [
    "au_concentration = df_train[['rougher.input.feed_au',\n",
    "                 'rougher.output.concentrate_au',\n",
    "                 'primary_cleaner.output.concentrate_au',\n",
    "                 'final.output.concentrate_au']]\n",
    "\n",
    "au_concentration.plot(kind = 'hist', bins=100, alpha=0.6,figsize=(14,7))\n",
    "plt.title('Концентрация золота на разных этапах очистки')\n",
    "\n",
    "plt.show()"
   ]
  },
  {
   "cell_type": "code",
   "execution_count": 21,
   "metadata": {},
   "outputs": [
    {
     "data": {
      "image/png": "[encoded data removed]",
      "text/plain": [
       "<Figure size 1008x504 with 1 Axes>"
      ]
     },
     "metadata": {
      "needs_background": "light"
     },
     "output_type": "display_data"
    }
   ],
   "source": [
    "ag_concentration = df_train[['rougher.input.feed_ag',\n",
    "                 'rougher.output.concentrate_ag',\n",
    "                 'primary_cleaner.output.concentrate_ag',\n",
    "                 'final.output.concentrate_ag']]\n",
    "\n",
    "ag_concentration.plot(kind = 'hist', bins=100, alpha=0.6,figsize=(14,7))\n",
    "plt.title('Концентрация серебра на разных этапах очистки')\n",
    "\n",
    "plt.show()"
   ]
  },
  {
   "cell_type": "code",
   "execution_count": 22,
   "metadata": {
    "scrolled": false
   },
   "outputs": [
    {
     "data": {
      "image/png": "[encoded data removed]",
      "text/plain": [
       "<Figure size 1008x504 with 1 Axes>"
      ]
     },
     "metadata": {
      "needs_background": "light"
     },
     "output_type": "display_data"
    }
   ],
   "source": [
    "pb_concentration = df_train[['rougher.input.feed_pb',\n",
    "                 'rougher.output.concentrate_pb',\n",
    "                 'primary_cleaner.output.concentrate_pb',\n",
    "                 'final.output.concentrate_pb']]\n",
    "\n",
    "pb_concentration.plot(kind = 'hist', bins=100, alpha=0.6,figsize=(14,7))\n",
    "plt.title('Концентрация свинца на разных этапах очистки')\n",
    "\n",
    "plt.show()"
   ]
  },
  {
   "cell_type": "markdown",
   "metadata": {},
   "source": [
    "Концентрация золота увеличивается на каждом этапе очистки. Также хочу отметить, что у всех металов наблюдается пик концентрации рядом с 0, думаю это ошибка измерений, необходимо будет исбавиться от данных значений перед обучением модели"
   ]
  },
  {
   "cell_type": "markdown",
   "metadata": {},
   "source": [
    "Сравним распределения размеров гранул сырья на обучающей и тестовой выборках."
   ]
  },
  {
   "cell_type": "code",
   "execution_count": 23,
   "metadata": {
    "scrolled": false
   },
   "outputs": [
    {
     "data": {
      "image/png": "[encoded data removed]",
      "text/plain": [
       "<Figure size 1008x504 with 1 Axes>"
      ]
     },
     "metadata": {
      "needs_background": "light"
     },
     "output_type": "display_data"
    }
   ],
   "source": [
    "size_train = df_train['rougher.input.feed_size']\n",
    "size_test = df_test['rougher.input.feed_size']\n",
    "\n",
    "size_train.plot(kind = 'hist', bins=100, alpha=0.6,figsize=(14,7), xlim = (0,150))\n",
    "size_test.plot(kind = 'hist', bins=100, alpha=0.6,figsize=(14,7), xlim = (0,150))\n",
    "\n",
    "plt.title('Распределение размеров гранул сырья на обучающей и тестовой выборках')\n",
    "\n",
    "plt.show()"
   ]
  },
  {
   "cell_type": "code",
   "execution_count": 24,
   "metadata": {},
   "outputs": [
    {
     "data": {
      "image/png": "[encoded data removed]",
      "text/plain": [
       "<Figure size 1008x504 with 1 Axes>"
      ]
     },
     "metadata": {},
     "output_type": "display_data"
    }
   ],
   "source": [
    "sns.set(rc={'figure.figsize':(14,7)})\n",
    "\n",
    "sns.kdeplot(df_train['rougher.input.feed_size'])\n",
    "sns.kdeplot(df_test['rougher.input.feed_size'])\n",
    "\n",
    "plt.title('Распределение размеров гранул сырья на обучающей и тестовой выборках')\n",
    "\n",
    "plt.show()"
   ]
  },
  {
   "cell_type": "code",
   "execution_count": 25,
   "metadata": {},
   "outputs": [
    {
     "data": {
      "image/png": "[encoded data removed]",
      "text/plain": [
       "<Figure size 1008x504 with 1 Axes>"
      ]
     },
     "metadata": {},
     "output_type": "display_data"
    }
   ],
   "source": [
    "sns.set(rc={'figure.figsize':(14,7)})\n",
    "\n",
    "sns.kdeplot(df_train['primary_cleaner.input.feed_size'])\n",
    "sns.kdeplot(df_test['primary_cleaner.input.feed_size'])\n",
    "\n",
    "plt.title('Распределение размеров гранул сырья на обучающей и тестовой выборках перед первичной очисткой')\n",
    "\n",
    "plt.show()"
   ]
  },
  {
   "cell_type": "markdown",
   "metadata": {},
   "source": [
    "Основные значения распределение размеров гранул сырья на обучающей и тестовой выборках находятся в одном интервале от 40 до 80"
   ]
  },
  {
   "cell_type": "markdown",
   "metadata": {},
   "source": [
    "Как мы видим распределения изменились после первичной очистки. Изначально гранулы были очень похожи, но после очистки тестовая выборка слегка сместилась относительно обучающей."
   ]
  },
  {
   "cell_type": "markdown",
   "metadata": {},
   "source": [
    "Исследуйем суммарную концентрацию всех веществ на разных стадиях:  в сырье, в черновом и финальном концентратах"
   ]
  },
  {
   "cell_type": "code",
   "execution_count": 26,
   "metadata": {
    "scrolled": false
   },
   "outputs": [
    {
     "data": {
      "image/png": "[encoded data removed]",
      "text/plain": [
       "<Figure size 1008x504 with 1 Axes>"
      ]
     },
     "metadata": {},
     "output_type": "display_data"
    }
   ],
   "source": [
    "total_concentration = pd.Series()\n",
    "\n",
    "df_train['total_rougher_input'] = (\n",
    "                                        df_train['rougher.input.feed_au'] + \n",
    "                                        df_train['rougher.input.feed_ag'] + \n",
    "                                        df_train['rougher.input.feed_pb'] #+\n",
    "                                        #df_train['rougher.output.concentrate_sol']\n",
    ")\n",
    "\n",
    "df_train['total_rougher_output'] = (\n",
    "                                        df_train['rougher.output.concentrate_au'] + \n",
    "                                        df_train['rougher.output.concentrate_ag'] + \n",
    "                                        df_train['rougher.output.concentrate_pb'] #+\n",
    "                                        #df_train['rougher.output.concentrate_sol']\n",
    ")\n",
    "df_train['total_primary_cleaner'] = (\n",
    "                                        df_train['primary_cleaner.output.concentrate_au'] +\n",
    "                                        df_train['primary_cleaner.output.concentrate_ag'] + \n",
    "                                        df_train['primary_cleaner.output.concentrate_pb'] #+\n",
    "                                        #df_train['primary_cleaner.output.concentrate_sol']\n",
    ")\n",
    "df_train['total_final_concentrate'] = (\n",
    "                                        df_train['final.output.concentrate_au'] + \n",
    "                                        df_train['final.output.concentrate_ag'] + \n",
    "                                        df_train['final.output.concentrate_pb'] #+\n",
    "                                        #df_train['final.output.concentrate_sol']\n",
    ")\n",
    "total_concentration = df_train[['total_rougher_input',\n",
    "                                'total_rougher_output',\n",
    "                                'total_primary_cleaner',\n",
    "                                'total_final_concentrate']]\n",
    "total_concentration.plot(kind = 'hist', bins=100, alpha=0.6,figsize=(14,7))\n",
    "plt.title('Cуммарная концентрацию всех веществ на разных стадиях очистки')\n",
    "plt.show()\n"
   ]
  },
  {
   "cell_type": "markdown",
   "metadata": {},
   "source": [
    "Суммарная концентрация растет от этапа к этапу\n"
   ]
  },
  {
   "cell_type": "markdown",
   "metadata": {},
   "source": [
    "Избавимся от концентраций близких к 0 в исходных данных"
   ]
  },
  {
   "cell_type": "code",
   "execution_count": 27,
   "metadata": {},
   "outputs": [],
   "source": [
    "df_train = df_train[df_train['rougher.input.feed_au'] > 1]\n",
    "df_train = df_train[df_train['rougher.input.feed_pb'] > 1]\n",
    "df_train = df_train[df_train['rougher.input.feed_ag'] > 1]"
   ]
  },
  {
   "cell_type": "markdown",
   "metadata": {},
   "source": [
    "## Модель"
   ]
  },
  {
   "cell_type": "markdown",
   "metadata": {},
   "source": [
    "Подготовим признаки и таргеты для модели"
   ]
  },
  {
   "cell_type": "code",
   "execution_count": 28,
   "metadata": {},
   "outputs": [],
   "source": [
    "features_train = df_train[df_test.columns]\n",
    "target_train_rougher = df_train['rougher.output.recovery']\n",
    "target_train_final = df_train['final.output.recovery']"
   ]
  },
  {
   "cell_type": "code",
   "execution_count": 29,
   "metadata": {},
   "outputs": [],
   "source": [
    "features_test = df_test\n",
    "df_merge = df_full[['rougher.output.recovery','final.output.recovery']]\n",
    "target_test_merge = df_test.merge(df_merge, left_index = True, right_index = True, how='left')\n",
    "target_test_rougher = target_test_merge['rougher.output.recovery']\n",
    "target_test_final = target_test_merge['final.output.recovery']"
   ]
  },
  {
   "cell_type": "markdown",
   "metadata": {},
   "source": [
    "Отмаштабируем признаки"
   ]
  },
  {
   "cell_type": "code",
   "execution_count": 31,
   "metadata": {},
   "outputs": [],
   "source": [
    "def scaler(features_train,features_valid):\n",
    "    scaler = StandardScaler() \n",
    "    features_train = pd.DataFrame(scaler.fit_transform(features_train), columns = features_train.columns)\n",
    "    features_valid = pd.DataFrame(scaler.transform(features_valid), columns = features_valid.columns)\n",
    "    return features_train,features_valid"
   ]
  },
  {
   "cell_type": "markdown",
   "metadata": {},
   "source": [
    "Посмотрим важность признаков:"
   ]
  },
  {
   "cell_type": "code",
   "execution_count": 32,
   "metadata": {},
   "outputs": [
    {
     "data": {
      "text/html": [
       "<style>#sk-container-id-1 {color: black;background-color: white;}#sk-container-id-1 pre{padding: 0;}#sk-container-id-1 div.sk-toggleable {background-color: white;}#sk-container-id-1 label.sk-toggleable__label {cursor: pointer;display: block;width: 100%;margin-bottom: 0;padding: 0.3em;box-sizing: border-box;text-align: center;}#sk-container-id-1 label.sk-toggleable__label-arrow:before {content: \"▸\";float: left;margin-right: 0.25em;color: #696969;}#sk-container-id-1 label.sk-toggleable__label-arrow:hover:before {color: black;}#sk-container-id-1 div.sk-estimator:hover label.sk-toggleable__label-arrow:before {color: black;}#sk-container-id-1 div.sk-toggleable__content {max-height: 0;max-width: 0;overflow: hidden;text-align: left;background-color: #f0f8ff;}#sk-container-id-1 div.sk-toggleable__content pre {margin: 0.2em;color: black;border-radius: 0.25em;background-color: #f0f8ff;}#sk-container-id-1 input.sk-toggleable__control:checked~div.sk-toggleable__content {max-height: 200px;max-width: 100%;overflow: auto;}#sk-container-id-1 input.sk-toggleable__control:checked~label.sk-toggleable__label-arrow:before {content: \"▾\";}#sk-container-id-1 div.sk-estimator input.sk-toggleable__control:checked~label.sk-toggleable__label {background-color: #d4ebff;}#sk-container-id-1 div.sk-label input.sk-toggleable__control:checked~label.sk-toggleable__label {background-color: #d4ebff;}#sk-container-id-1 input.sk-hidden--visually {border: 0;clip: rect(1px 1px 1px 1px);clip: rect(1px, 1px, 1px, 1px);height: 1px;margin: -1px;overflow: hidden;padding: 0;position: absolute;width: 1px;}#sk-container-id-1 div.sk-estimator {font-family: monospace;background-color: #f0f8ff;border: 1px dotted black;border-radius: 0.25em;box-sizing: border-box;margin-bottom: 0.5em;}#sk-container-id-1 div.sk-estimator:hover {background-color: #d4ebff;}#sk-container-id-1 div.sk-parallel-item::after {content: \"\";width: 100%;border-bottom: 1px solid gray;flex-grow: 1;}#sk-container-id-1 div.sk-label:hover label.sk-toggleable__label {background-color: #d4ebff;}#sk-container-id-1 div.sk-serial::before {content: \"\";position: absolute;border-left: 1px solid gray;box-sizing: border-box;top: 0;bottom: 0;left: 50%;z-index: 0;}#sk-container-id-1 div.sk-serial {display: flex;flex-direction: column;align-items: center;background-color: white;padding-right: 0.2em;padding-left: 0.2em;position: relative;}#sk-container-id-1 div.sk-item {position: relative;z-index: 1;}#sk-container-id-1 div.sk-parallel {display: flex;align-items: stretch;justify-content: center;background-color: white;position: relative;}#sk-container-id-1 div.sk-item::before, #sk-container-id-1 div.sk-parallel-item::before {content: \"\";position: absolute;border-left: 1px solid gray;box-sizing: border-box;top: 0;bottom: 0;left: 50%;z-index: -1;}#sk-container-id-1 div.sk-parallel-item {display: flex;flex-direction: column;z-index: 1;position: relative;background-color: white;}#sk-container-id-1 div.sk-parallel-item:first-child::after {align-self: flex-end;width: 50%;}#sk-container-id-1 div.sk-parallel-item:last-child::after {align-self: flex-start;width: 50%;}#sk-container-id-1 div.sk-parallel-item:only-child::after {width: 0;}#sk-container-id-1 div.sk-dashed-wrapped {border: 1px dashed gray;margin: 0 0.4em 0.5em 0.4em;box-sizing: border-box;padding-bottom: 0.4em;background-color: white;}#sk-container-id-1 div.sk-label label {font-family: monospace;font-weight: bold;display: inline-block;line-height: 1.2em;}#sk-container-id-1 div.sk-label-container {text-align: center;}#sk-container-id-1 div.sk-container {/* jupyter's `normalize.less` sets `[hidden] { display: none; }` but bootstrap.min.css set `[hidden] { display: none !important; }` so we also need the `!important` here to be able to override the default hidden behavior on the sphinx rendered scikit-learn.org. See: https://github.com/scikit-learn/scikit-learn/issues/21755 */display: inline-block !important;position: relative;}#sk-container-id-1 div.sk-text-repr-fallback {display: none;}</style><div id=\"sk-container-id-1\" class=\"sk-top-container\"><div class=\"sk-text-repr-fallback\"><pre>RandomForestRegressor()</pre><b>In a Jupyter environment, please rerun this cell to show the HTML representation or trust the notebook. <br />On GitHub, the HTML representation is unable to render, please try loading this page with nbviewer.org.</b></div><div class=\"sk-container\" hidden><div class=\"sk-item\"><div class=\"sk-estimator sk-toggleable\"><input class=\"sk-toggleable__control sk-hidden--visually\" id=\"sk-estimator-id-1\" type=\"checkbox\" checked><label for=\"sk-estimator-id-1\" class=\"sk-toggleable__label sk-toggleable__label-arrow\">RandomForestRegressor</label><div class=\"sk-toggleable__content\"><pre>RandomForestRegressor()</pre></div></div></div></div></div>"
      ],
      "text/plain": [
       "RandomForestRegressor()"
      ]
     },
     "execution_count": 32,
     "metadata": {},
     "output_type": "execute_result"
    }
   ],
   "source": [
    "model = RandomForestRegressor()\n",
    "model.fit(features_train,target_train_rougher)\n",
    "model1 = RandomForestRegressor()\n",
    "model1.fit(features_train,target_train_final)"
   ]
  },
  {
   "cell_type": "code",
   "execution_count": 33,
   "metadata": {},
   "outputs": [
    {
     "data": {
      "text/html": [
       "<div>\n",
       "<style scoped>\n",
       "    .dataframe tbody tr th:only-of-type {\n",
       "        vertical-align: middle;\n",
       "    }\n",
       "\n",
       "    .dataframe tbody tr th {\n",
       "        vertical-align: top;\n",
       "    }\n",
       "\n",
       "    .dataframe thead th {\n",
       "        text-align: right;\n",
       "    }\n",
       "</style>\n",
       "<table border=\"1\" class=\"dataframe\">\n",
       "  <thead>\n",
       "    <tr style=\"text-align: right;\">\n",
       "      <th></th>\n",
       "      <th>col_name</th>\n",
       "    </tr>\n",
       "  </thead>\n",
       "  <tbody>\n",
       "    <tr>\n",
       "      <th>primary_cleaner.input.sulfate</th>\n",
       "      <td>0.088865</td>\n",
       "    </tr>\n",
       "    <tr>\n",
       "      <th>rougher.input.floatbank11_sulfate</th>\n",
       "      <td>0.084665</td>\n",
       "    </tr>\n",
       "    <tr>\n",
       "      <th>primary_cleaner.input.depressant</th>\n",
       "      <td>0.063486</td>\n",
       "    </tr>\n",
       "    <tr>\n",
       "      <th>primary_cleaner.input.xanthate</th>\n",
       "      <td>0.061934</td>\n",
       "    </tr>\n",
       "    <tr>\n",
       "      <th>rougher.input.feed_ag</th>\n",
       "      <td>0.036182</td>\n",
       "    </tr>\n",
       "  </tbody>\n",
       "</table>\n",
       "</div>"
      ],
      "text/plain": [
       "                                   col_name\n",
       "primary_cleaner.input.sulfate      0.088865\n",
       "rougher.input.floatbank11_sulfate  0.084665\n",
       "primary_cleaner.input.depressant   0.063486\n",
       "primary_cleaner.input.xanthate     0.061934\n",
       "rougher.input.feed_ag              0.036182"
      ]
     },
     "execution_count": 33,
     "metadata": {},
     "output_type": "execute_result"
    }
   ],
   "source": [
    "plt.rcParams.update({'figure.figsize': (12.0, 18.0)})\n",
    "pd.DataFrame({'col_name': model.feature_importances_}, index=features_train.columns).sort_values(by='col_name', ascending=False).head()\n",
    "#plt.barh(features_train.columns, model.feature_importances_)"
   ]
  },
  {
   "cell_type": "code",
   "execution_count": 34,
   "metadata": {
    "scrolled": true
   },
   "outputs": [
    {
     "data": {
      "text/html": [
       "<div>\n",
       "<style scoped>\n",
       "    .dataframe tbody tr th:only-of-type {\n",
       "        vertical-align: middle;\n",
       "    }\n",
       "\n",
       "    .dataframe tbody tr th {\n",
       "        vertical-align: top;\n",
       "    }\n",
       "\n",
       "    .dataframe thead th {\n",
       "        text-align: right;\n",
       "    }\n",
       "</style>\n",
       "<table border=\"1\" class=\"dataframe\">\n",
       "  <thead>\n",
       "    <tr style=\"text-align: right;\">\n",
       "      <th></th>\n",
       "      <th>col_name</th>\n",
       "    </tr>\n",
       "  </thead>\n",
       "  <tbody>\n",
       "    <tr>\n",
       "      <th>primary_cleaner.input.sulfate</th>\n",
       "      <td>0.172717</td>\n",
       "    </tr>\n",
       "    <tr>\n",
       "      <th>rougher.input.feed_ag</th>\n",
       "      <td>0.079858</td>\n",
       "    </tr>\n",
       "    <tr>\n",
       "      <th>primary_cleaner.input.depressant</th>\n",
       "      <td>0.041831</td>\n",
       "    </tr>\n",
       "    <tr>\n",
       "      <th>rougher.input.floatbank10_xanthate</th>\n",
       "      <td>0.030482</td>\n",
       "    </tr>\n",
       "    <tr>\n",
       "      <th>rougher.input.feed_size</th>\n",
       "      <td>0.027914</td>\n",
       "    </tr>\n",
       "  </tbody>\n",
       "</table>\n",
       "</div>"
      ],
      "text/plain": [
       "                                    col_name\n",
       "primary_cleaner.input.sulfate       0.172717\n",
       "rougher.input.feed_ag               0.079858\n",
       "primary_cleaner.input.depressant    0.041831\n",
       "rougher.input.floatbank10_xanthate  0.030482\n",
       "rougher.input.feed_size             0.027914"
      ]
     },
     "execution_count": 34,
     "metadata": {},
     "output_type": "execute_result"
    }
   ],
   "source": [
    "pd.DataFrame({'col_name': model1.feature_importances_}, index=features_train.columns).sort_values(by='col_name', ascending=False).head()\n",
    "#plt.barh(features_train.columns, model1.feature_importances_)"
   ]
  },
  {
   "cell_type": "code",
   "execution_count": 35,
   "metadata": {},
   "outputs": [],
   "source": [
    "features_train_main = df_train[['rougher.input.floatbank11_sulfate',\n",
    "                               'primary_cleaner.state.floatbank8_b_air',\n",
    "                               'secondary_cleaner.state.floatbank4_a_air',\n",
    "                               'primary_cleaner.input.sulfate',\n",
    "                               'primary_cleaner.input.xanthate',\n",
    "                               'rougher.input.feed_ag',\n",
    "                               'rougher.input.feed_size',\n",
    "                               'primary_cleaner.input.depressant',\n",
    "                               'secondary_cleaner.state.floatbank2_a_air'\n",
    "                              ]]\n",
    "features_test_main = df_test[['rougher.input.floatbank11_sulfate',\n",
    "                               'primary_cleaner.state.floatbank8_b_air',\n",
    "                               'secondary_cleaner.state.floatbank4_a_air',\n",
    "                               'primary_cleaner.input.sulfate',\n",
    "                               'primary_cleaner.input.xanthate',\n",
    "                               'rougher.input.feed_ag',\n",
    "                               'rougher.input.feed_size',\n",
    "                               'primary_cleaner.input.depressant',\n",
    "                               'secondary_cleaner.state.floatbank2_a_air'\n",
    "                              ]]"
   ]
  },
  {
   "cell_type": "markdown",
   "metadata": {},
   "source": [
    "Напишите функцию для вычисления итоговой sMAPE"
   ]
  },
  {
   "cell_type": "code",
   "execution_count": 36,
   "metadata": {},
   "outputs": [],
   "source": [
    "def smape(target,prediction):\n",
    "    result = np.mean(abs(target - prediction) / ((abs(target) + abs(prediction)) / 2)) * 100\n",
    "    return result\n",
    "score_func = make_scorer(smape, greater_is_better=False)"
   ]
  },
  {
   "cell_type": "code",
   "execution_count": 37,
   "metadata": {},
   "outputs": [],
   "source": [
    "def total_smape(rougher,final):\n",
    "    return 0.25 * rougher + 0.75 * final"
   ]
  },
  {
   "cell_type": "markdown",
   "metadata": {},
   "source": [
    "Посмотрим и сравним разные модели"
   ]
  },
  {
   "cell_type": "code",
   "execution_count": 38,
   "metadata": {},
   "outputs": [],
   "source": [
    "def all_models(features_train, target_train):\n",
    "    model_DTR = DecisionTreeRegressor(random_state=42)\n",
    "    pipeline_DTR = make_pipeline(StandardScaler(), model_DTR)\n",
    "    DTR_score = cross_val_score(pipeline_DTR, features_train, target_train, scoring = score_func, cv=5).mean()\n",
    "    \n",
    "    model_RFR = RandomForestRegressor(random_state=42)\n",
    "    pipeline_RFR = make_pipeline(StandardScaler(), model_RFR)\n",
    "    RFR_score = cross_val_score(pipeline_RFR, features_train, target_train, scoring = score_func, cv=5).mean()\n",
    "    \n",
    "    model_LR = LinearRegression()\n",
    "    pipeline_LR = make_pipeline(StandardScaler(), model_LR)\n",
    "    LgR_score = cross_val_score(pipeline_LR, features_train, target_train, scoring = score_func, cv=5).mean()\n",
    "    \n",
    "    model_DR = DummyRegressor(strategy=\"mean\")\n",
    "    pipeline_DR = make_pipeline(StandardScaler(), model_DR)\n",
    "    DR_score = cross_val_score(pipeline_DR, features_train, target_train, scoring = score_func, cv=5).mean()  \n",
    "    \n",
    "    print(\"Дерево решений\", abs(DTR_score))\n",
    "    print(\"Cлучайный лес \", abs(RFR_score))\n",
    "    print(\"Линейная регрессия\", abs(LgR_score))\n",
    "    print(\"Пустышка\", abs(DR_score))"
   ]
  },
  {
   "cell_type": "code",
   "execution_count": 39,
   "metadata": {
    "scrolled": true
   },
   "outputs": [
    {
     "name": "stdout",
     "output_type": "stream",
     "text": [
      "Дерево решений 22.716020610252414\n",
      "Cлучайный лес  16.398281771632384\n",
      "Линейная регрессия 12.39193388036313\n",
      "Пустышка 13.186991486653124\n"
     ]
    }
   ],
   "source": [
    "all_models(features_train_main, target_train_rougher)"
   ]
  },
  {
   "cell_type": "code",
   "execution_count": 40,
   "metadata": {},
   "outputs": [
    {
     "name": "stdout",
     "output_type": "stream",
     "text": [
      "Дерево решений 20.445044729721623\n",
      "Cлучайный лес  11.776263301432634\n",
      "Линейная регрессия 10.20689754814774\n",
      "Пустышка 11.331312027444463\n"
     ]
    }
   ],
   "source": [
    "all_models(features_train_main, target_train_final)"
   ]
  },
  {
   "cell_type": "markdown",
   "metadata": {},
   "source": [
    "Подберем лучшие гиперпараметры для случайного леса:"
   ]
  },
  {
   "cell_type": "code",
   "execution_count": 41,
   "metadata": {},
   "outputs": [],
   "source": [
    "parametrs = { 'n_estimators': range (50, 111, 10),\n",
    "              'max_depth': range (5,11, 1),\n",
    "              'min_samples_leaf': range (5,11)\n",
    "               }"
   ]
  },
  {
   "cell_type": "code",
   "execution_count": 42,
   "metadata": {},
   "outputs": [
    {
     "name": "stdout",
     "output_type": "stream",
     "text": [
      "CPU times: user 2.58 s, sys: 231 ms, total: 2.81 s\n",
      "Wall time: 19.1 s\n"
     ]
    },
    {
     "data": {
      "text/plain": [
       "{'n_estimators': 70, 'min_samples_leaf': 9, 'max_depth': 5}"
      ]
     },
     "execution_count": 42,
     "metadata": {},
     "output_type": "execute_result"
    }
   ],
   "source": [
    "%%time\n",
    "model_RFR = RandomForestRegressor(random_state=42)\n",
    "#pipeline_RFR = make_pipeline(StandardScaler(), model_RFR)\n",
    "grid = RandomizedSearchCV(model_RFR, parametrs,cv=3, scoring=score_func, random_state=42, n_jobs=-1)\n",
    "grid.fit(features_train_main, target_train_rougher)\n",
    "grid.best_params_"
   ]
  },
  {
   "cell_type": "code",
   "execution_count": 43,
   "metadata": {},
   "outputs": [
    {
     "name": "stdout",
     "output_type": "stream",
     "text": [
      "CPU times: user 2.49 s, sys: 67.2 ms, total: 2.56 s\n",
      "Wall time: 16.8 s\n"
     ]
    },
    {
     "data": {
      "text/plain": [
       "{'n_estimators': 70, 'min_samples_leaf': 6, 'max_depth': 5}"
      ]
     },
     "execution_count": 43,
     "metadata": {},
     "output_type": "execute_result"
    }
   ],
   "source": [
    "%%time\n",
    "model_RFR = RandomForestRegressor(random_state=42)\n",
    "#pipeline_RFR = make_pipeline(StandardScaler(), model_RFR)\n",
    "grid = RandomizedSearchCV(model_RFR, parametrs,cv=3, scoring=score_func,  random_state=42, n_jobs=-1)\n",
    "grid.fit(features_train_main, target_train_final)\n",
    "grid.best_params_"
   ]
  },
  {
   "cell_type": "markdown",
   "metadata": {},
   "source": [
    "Подберем лучшие гиперпараметры для дерева решений:"
   ]
  },
  {
   "cell_type": "code",
   "execution_count": 45,
   "metadata": {},
   "outputs": [],
   "source": [
    "parametrs_DTR = { 'min_samples_split': range (5, 10),\n",
    "              'max_depth': range (5,11),\n",
    "              'min_samples_leaf': range (5,11)\n",
    "               }"
   ]
  },
  {
   "cell_type": "code",
   "execution_count": 46,
   "metadata": {},
   "outputs": [
    {
     "name": "stdout",
     "output_type": "stream",
     "text": [
      "CPU times: user 2.37 s, sys: 320 ms, total: 2.69 s\n",
      "Wall time: 5.77 s\n"
     ]
    },
    {
     "data": {
      "text/plain": [
       "{'max_depth': 5, 'min_samples_leaf': 8, 'min_samples_split': 5}"
      ]
     },
     "execution_count": 46,
     "metadata": {},
     "output_type": "execute_result"
    }
   ],
   "source": [
    "%%time\n",
    "model_DTR = DecisionTreeRegressor(random_state=42)\n",
    "#pipeline_RFR = make_pipeline(StandardScaler(), model_RFR)\n",
    "grid = GridSearchCV(model_DTR, parametrs_DTR,cv=3, scoring=score_func, n_jobs=-1)\n",
    "grid.fit(features_train_main, target_train_rougher)\n",
    "grid.best_params_"
   ]
  },
  {
   "cell_type": "code",
   "execution_count": 47,
   "metadata": {
    "scrolled": true
   },
   "outputs": [
    {
     "name": "stdout",
     "output_type": "stream",
     "text": [
      "CPU times: user 1.52 s, sys: 202 ms, total: 1.72 s\n",
      "Wall time: 5.28 s\n"
     ]
    },
    {
     "data": {
      "text/plain": [
       "{'max_depth': 5, 'min_samples_leaf': 9, 'min_samples_split': 5}"
      ]
     },
     "execution_count": 47,
     "metadata": {},
     "output_type": "execute_result"
    }
   ],
   "source": [
    "%%time\n",
    "model_DTR = DecisionTreeRegressor(random_state=42)\n",
    "#pipeline_RFR = make_pipeline(StandardScaler(), model_RFR)\n",
    "grid = GridSearchCV(model_DTR, parametrs_DTR,cv=3, scoring=score_func, n_jobs=-1)\n",
    "grid.fit(features_train_main, target_train_final)\n",
    "grid.best_params_"
   ]
  },
  {
   "cell_type": "markdown",
   "metadata": {},
   "source": [
    "Забьем лучшие гиперпараметры и посмотрим изменилось ли итоговое значение"
   ]
  },
  {
   "cell_type": "code",
   "execution_count": 48,
   "metadata": {},
   "outputs": [
    {
     "name": "stdout",
     "output_type": "stream",
     "text": [
      "Дерево решений 15.048264791668512\n",
      "Cлучайный лес  13.760891118179046\n",
      "Линейная регрессия 12.39193388036313\n",
      "Пустышка 13.186991486653124\n"
     ]
    }
   ],
   "source": [
    "def all_models_rougher(features_train, target_train):\n",
    "    model_DTR = DecisionTreeRegressor(random_state=42,max_depth=5,min_samples_leaf=8,min_samples_split=5)\n",
    "    pipeline_DTR = make_pipeline(StandardScaler(), model_DTR)\n",
    "    DTR_score = cross_val_score(pipeline_DTR, features_train, target_train, scoring = score_func, cv=5).mean()\n",
    "    \n",
    "    model_RFR = RandomForestRegressor(random_state=42, n_estimators =70,max_depth=5, min_samples_leaf = 9)\n",
    "    pipeline_RFR = make_pipeline(StandardScaler(), model_RFR)\n",
    "    RFR_score = cross_val_score(pipeline_RFR, features_train, target_train, scoring = score_func, cv=5).mean()\n",
    "    \n",
    "    model_LR = LinearRegression()\n",
    "    pipeline_LR = make_pipeline(StandardScaler(), model_LR)\n",
    "    LgR_score = cross_val_score(pipeline_LR, features_train, target_train, scoring = score_func, cv=5).mean()\n",
    "    \n",
    "    model_DR = DummyRegressor(strategy=\"mean\")\n",
    "    pipeline_DR = make_pipeline(StandardScaler(), model_DR)\n",
    "    DR_score = cross_val_score(pipeline_DR, features_train, target_train, scoring = score_func, cv=5).mean()  \n",
    "    \n",
    "    print(\"Дерево решений\", abs(DTR_score))\n",
    "    print(\"Cлучайный лес \", abs(RFR_score))\n",
    "    print(\"Линейная регрессия\", abs(LgR_score))\n",
    "    print(\"Пустышка\", abs(DR_score))\n",
    "all_models_rougher(features_train_main, target_train_rougher)"
   ]
  },
  {
   "cell_type": "markdown",
   "metadata": {},
   "source": [
    "Лучшее значение было получено при использовании алгоритма - Линейной регерессии для таргета rougher"
   ]
  },
  {
   "cell_type": "code",
   "execution_count": 49,
   "metadata": {},
   "outputs": [
    {
     "name": "stdout",
     "output_type": "stream",
     "text": [
      "Дерево решений 11.086477648513696\n",
      "Cлучайный лес  10.555406501711945\n",
      "Линейная регрессия 10.20689754814774\n",
      "Пустышка 11.331312027444463\n"
     ]
    }
   ],
   "source": [
    "def all_models_rougher(features_train, target_train):\n",
    "    model_DTR = DecisionTreeRegressor(random_state=42,max_depth=5,min_samples_leaf=7,min_samples_split=5)\n",
    "    pipeline_DTR = make_pipeline(StandardScaler(), model_DTR)\n",
    "    DTR_score = cross_val_score(pipeline_DTR, features_train, target_train, scoring = score_func, cv=5).mean()\n",
    "    \n",
    "    model_RFR = RandomForestRegressor(random_state=42, n_estimators =70,max_depth=5, min_samples_leaf = 9)\n",
    "    pipeline_RFR = make_pipeline(StandardScaler(), model_RFR)\n",
    "    RFR_score = cross_val_score(pipeline_RFR, features_train, target_train, scoring = score_func, cv=5).mean()\n",
    "    \n",
    "    model_LR = LinearRegression()\n",
    "    pipeline_LR = make_pipeline(StandardScaler(), model_LR)\n",
    "    LgR_score = cross_val_score(pipeline_LR, features_train, target_train, scoring = score_func, cv=5).mean()\n",
    "    \n",
    "    model_DR = DummyRegressor(strategy=\"mean\")\n",
    "    pipeline_DR = make_pipeline(StandardScaler(), model_DR)\n",
    "    DR_score = cross_val_score(pipeline_DR, features_train, target_train, scoring = score_func, cv=5).mean()  \n",
    "    \n",
    "    print(\"Дерево решений\", abs(DTR_score))\n",
    "    print(\"Cлучайный лес \", abs(RFR_score))\n",
    "    print(\"Линейная регрессия\", abs(LgR_score))\n",
    "    print(\"Пустышка\", abs(DR_score))\n",
    "all_models_rougher(features_train_main, target_train_final)"
   ]
  },
  {
   "cell_type": "markdown",
   "metadata": {},
   "source": [
    "Лучшее значение было получено при использовании алгоритма - Случайный лес для таргета final"
   ]
  },
  {
   "cell_type": "code",
   "execution_count": 50,
   "metadata": {},
   "outputs": [],
   "source": [
    "def best_model_rougher(features_train, target_train, features_valid, target_valid):\n",
    "    model_RFR = LinearRegression()\n",
    "    pipeline_DTR = make_pipeline(StandardScaler(), model_RFR)\n",
    "    pipeline_DTR.fit(features_train, target_train)\n",
    "    predict_valid = pipeline_DTR.predict(features_valid)\n",
    "    result = smape(target_valid, predict_valid)\n",
    "    return result"
   ]
  },
  {
   "cell_type": "code",
   "execution_count": 51,
   "metadata": {},
   "outputs": [],
   "source": [
    "def best_model_final(features_train, target_train, features_valid, target_valid):\n",
    "    model_RFR = RandomForestRegressor(random_state=42, n_estimators =70,max_depth=5, min_samples_leaf = 9)\n",
    "    pipeline_DTR = make_pipeline(StandardScaler(), model_RFR)\n",
    "    pipeline_DTR.fit(features_train, target_train)\n",
    "    predict_valid = pipeline_DTR.predict(features_valid)\n",
    "    result = smape(target_valid, predict_valid)\n",
    "    return result"
   ]
  },
  {
   "cell_type": "code",
   "execution_count": 52,
   "metadata": {},
   "outputs": [
    {
     "name": "stdout",
     "output_type": "stream",
     "text": [
      "Cимметричное среднее абсолютное процентное отклонение для теста составляет: 7.322780776550041\n"
     ]
    }
   ],
   "source": [
    "rougher = best_model_rougher(features_train_main, target_train_rougher,features_test_main,target_test_rougher)\n",
    "final = best_model_final(features_train_main, target_train_final,features_test_main,target_test_final)\n",
    "test_smape = total_smape(rougher,final)\n",
    "print(\"Cимметричное среднее абсолютное процентное отклонение для теста составляет:\", test_smape)"
   ]
  },
  {
   "cell_type": "markdown",
   "metadata": {},
   "source": [
    "В результате проделанной работы была получена модель которая может предсказать коэффициент восстановления золота из золотосодержащей руды с точностью около 7.3%"
   ]
  },
  {
   "cell_type": "markdown",
   "metadata": {},
   "source": [
    "Вывод:\n",
    "    \n",
    "В ходе проделанной работы был подготовлен прототип модели машинного обучения. Модель предсказывает коэффициент восстановления золота из золотосодержащей руды с точностью на тестовой выборке 7,3%.\n",
    "Также в ходе работы было выполнено: \\\n",
    "    1) Мы проверили, что эффективность обогащения рассчитана правильно, средняя абсолютную разницу между прогнозируемыми значениями составило 9.8e-15 для \"rougher.output.recovery\" и 8.6e-15 для \"final.output.recovery\" \\\n",
    "    2) Мы проанализировали признаки, построили модель на всех признаках, но модель работала очень долго и результат был не такой высокий, как если взять 5 лучих признаков для каждого таргета. Итоговая модель была построена на 9 лучих признаках \\\n",
    "    3) Мы оценили как меняется концентрация металлов (Au, Ag, Pb): \\\n",
    "        а) Контрация золота увеличивается \\\n",
    "        б) Концентрация серебра незначительно меняется в завивисимости от этапа очистки \\\n",
    "        в) Концентрация свинца на первых трех этапах очистки увеличивалось, на четвертом почти не изменилось \\\n",
    "    4) Распределения размеров гранул сырья на обучающей и тестовой выборках очень близки, единственное, что хотелось бы отметить это то, что распределения изменились после первичной очистки. Изначально гранулы были почти одинаковые, но после очистки размеры гранул поменялись. \\\n",
    "    5) Суммарная концентрация веществ растет от этапа к этапу \\\n",
    "    6) В результате для подготовки модели машинного обучения мы использовали Линейную регрессию для первого таргета, и случайный лес для второго таргета "
   ]
  }
 ],
 "metadata": {
  "ExecuteTimeLog": [
   {
    "duration": 401,
    "start_time": "2022-12-29T11:54:58.829Z"
   },
   {
    "duration": 3,
    "start_time": "2022-12-29T11:55:11.896Z"
   },
   {
    "duration": 2389,
    "start_time": "2022-12-29T11:55:30.431Z"
   },
   {
    "duration": 131,
    "start_time": "2022-12-29T11:57:47.127Z"
   },
   {
    "duration": 406,
    "start_time": "2022-12-29T11:57:52.805Z"
   },
   {
    "duration": 95,
    "start_time": "2022-12-29T11:57:53.213Z"
   },
   {
    "duration": 539,
    "start_time": "2022-12-29T11:58:22.655Z"
   },
   {
    "duration": 152,
    "start_time": "2022-12-29T11:58:56.791Z"
   },
   {
    "duration": 1210,
    "start_time": "2022-12-29T11:59:20.205Z"
   },
   {
    "duration": 20,
    "start_time": "2022-12-29T11:59:53.145Z"
   },
   {
    "duration": 16,
    "start_time": "2022-12-29T12:00:29.696Z"
   },
   {
    "duration": 23,
    "start_time": "2022-12-29T12:00:48.147Z"
   },
   {
    "duration": 13,
    "start_time": "2022-12-29T12:01:11.090Z"
   },
   {
    "duration": 10,
    "start_time": "2022-12-29T12:01:20.291Z"
   },
   {
    "duration": 13,
    "start_time": "2022-12-29T12:01:32.158Z"
   },
   {
    "duration": 27,
    "start_time": "2022-12-29T12:01:44.694Z"
   },
   {
    "duration": 6,
    "start_time": "2022-12-29T12:08:21.781Z"
   },
   {
    "duration": 69,
    "start_time": "2022-12-29T12:08:33.414Z"
   },
   {
    "duration": 4,
    "start_time": "2022-12-29T12:12:02.668Z"
   },
   {
    "duration": 12,
    "start_time": "2022-12-29T12:12:29.503Z"
   },
   {
    "duration": 379,
    "start_time": "2022-12-29T13:02:46.642Z"
   },
   {
    "duration": 340,
    "start_time": "2022-12-29T13:02:47.023Z"
   },
   {
    "duration": 93,
    "start_time": "2022-12-29T13:02:47.365Z"
   },
   {
    "duration": 277,
    "start_time": "2022-12-29T13:02:47.461Z"
   },
   {
    "duration": 17,
    "start_time": "2022-12-29T13:02:47.740Z"
   },
   {
    "duration": 12,
    "start_time": "2022-12-29T13:02:47.758Z"
   },
   {
    "duration": 24,
    "start_time": "2022-12-29T13:02:47.772Z"
   },
   {
    "duration": 30,
    "start_time": "2022-12-29T13:02:47.798Z"
   },
   {
    "duration": 7,
    "start_time": "2022-12-29T13:02:47.830Z"
   },
   {
    "duration": 12,
    "start_time": "2022-12-29T13:02:47.840Z"
   },
   {
    "duration": 23,
    "start_time": "2022-12-29T13:02:47.853Z"
   },
   {
    "duration": 5,
    "start_time": "2022-12-29T13:02:47.878Z"
   },
   {
    "duration": 108,
    "start_time": "2022-12-29T13:02:47.885Z"
   },
   {
    "duration": 75,
    "start_time": "2022-12-29T13:02:47.995Z"
   },
   {
    "duration": 14,
    "start_time": "2022-12-29T13:03:27.629Z"
   },
   {
    "duration": 412,
    "start_time": "2022-12-29T13:40:58.614Z"
   },
   {
    "duration": 357,
    "start_time": "2022-12-29T13:40:59.028Z"
   },
   {
    "duration": 88,
    "start_time": "2022-12-29T13:40:59.386Z"
   },
   {
    "duration": 258,
    "start_time": "2022-12-29T13:40:59.476Z"
   },
   {
    "duration": 18,
    "start_time": "2022-12-29T13:40:59.736Z"
   },
   {
    "duration": 13,
    "start_time": "2022-12-29T13:40:59.755Z"
   },
   {
    "duration": 18,
    "start_time": "2022-12-29T13:40:59.769Z"
   },
   {
    "duration": 11,
    "start_time": "2022-12-29T13:40:59.788Z"
   },
   {
    "duration": 10,
    "start_time": "2022-12-29T13:40:59.827Z"
   },
   {
    "duration": 11,
    "start_time": "2022-12-29T13:40:59.839Z"
   },
   {
    "duration": 26,
    "start_time": "2022-12-29T13:40:59.851Z"
   },
   {
    "duration": 5,
    "start_time": "2022-12-29T13:40:59.879Z"
   },
   {
    "duration": 96,
    "start_time": "2022-12-29T13:40:59.886Z"
   },
   {
    "duration": 5,
    "start_time": "2022-12-29T13:41:04.688Z"
   },
   {
    "duration": 71,
    "start_time": "2022-12-29T13:48:08.000Z"
   },
   {
    "duration": 66,
    "start_time": "2022-12-29T13:49:22.030Z"
   },
   {
    "duration": 8,
    "start_time": "2022-12-29T13:49:46.886Z"
   },
   {
    "duration": 4,
    "start_time": "2022-12-29T13:50:58.245Z"
   },
   {
    "duration": 5,
    "start_time": "2022-12-29T13:52:32.213Z"
   },
   {
    "duration": 5,
    "start_time": "2022-12-29T14:34:01.995Z"
   },
   {
    "duration": 6,
    "start_time": "2022-12-29T14:34:14.969Z"
   },
   {
    "duration": 15,
    "start_time": "2022-12-29T14:35:41.475Z"
   },
   {
    "duration": 851,
    "start_time": "2022-12-29T14:40:03.580Z"
   },
   {
    "duration": 41,
    "start_time": "2022-12-29T14:41:22.485Z"
   },
   {
    "duration": 3,
    "start_time": "2022-12-29T14:42:59.809Z"
   },
   {
    "duration": 9,
    "start_time": "2022-12-29T14:43:30.261Z"
   },
   {
    "duration": 64821,
    "start_time": "2022-12-29T14:43:43.499Z"
   },
   {
    "duration": 426,
    "start_time": "2022-12-29T14:47:58.353Z"
   },
   {
    "duration": 67716,
    "start_time": "2022-12-29T14:49:00.377Z"
   },
   {
    "duration": 1439,
    "start_time": "2022-12-29T14:50:45.303Z"
   },
   {
    "duration": 1407,
    "start_time": "2022-12-29T14:50:54.761Z"
   },
   {
    "duration": 1409,
    "start_time": "2022-12-29T14:51:06.406Z"
   },
   {
    "duration": 51,
    "start_time": "2022-12-29T14:51:32.054Z"
   },
   {
    "duration": 1347,
    "start_time": "2022-12-29T14:51:55.128Z"
   },
   {
    "duration": 131346,
    "start_time": "2022-12-29T14:52:58.637Z"
   },
   {
    "duration": 1320,
    "start_time": "2022-12-29T14:55:09.984Z"
   },
   {
    "duration": 1396,
    "start_time": "2022-12-29T14:55:11.306Z"
   },
   {
    "duration": 1451,
    "start_time": "2022-12-29T14:56:12.994Z"
   },
   {
    "duration": 1309,
    "start_time": "2022-12-29T14:56:58.484Z"
   },
   {
    "duration": 1538,
    "start_time": "2022-12-30T06:36:10.468Z"
   },
   {
    "duration": 2303,
    "start_time": "2022-12-30T06:36:12.008Z"
   },
   {
    "duration": 383,
    "start_time": "2022-12-30T06:36:14.313Z"
   },
   {
    "duration": 794,
    "start_time": "2022-12-30T06:36:14.698Z"
   },
   {
    "duration": 18,
    "start_time": "2022-12-30T06:36:15.494Z"
   },
   {
    "duration": 40,
    "start_time": "2022-12-30T06:36:15.514Z"
   },
   {
    "duration": 23,
    "start_time": "2022-12-30T06:36:15.557Z"
   },
   {
    "duration": 13,
    "start_time": "2022-12-30T06:36:15.582Z"
   },
   {
    "duration": 16,
    "start_time": "2022-12-30T06:36:15.597Z"
   },
   {
    "duration": 28,
    "start_time": "2022-12-30T06:36:15.614Z"
   },
   {
    "duration": 35,
    "start_time": "2022-12-30T06:36:15.644Z"
   },
   {
    "duration": 74,
    "start_time": "2022-12-30T06:36:15.682Z"
   },
   {
    "duration": 6,
    "start_time": "2022-12-30T06:36:15.758Z"
   },
   {
    "duration": 29,
    "start_time": "2022-12-30T06:36:15.767Z"
   },
   {
    "duration": 138145,
    "start_time": "2022-12-30T06:36:15.798Z"
   },
   {
    "duration": 1531,
    "start_time": "2022-12-30T06:38:33.945Z"
   },
   {
    "duration": 1514,
    "start_time": "2022-12-30T06:38:35.477Z"
   },
   {
    "duration": 4,
    "start_time": "2022-12-30T06:46:57.816Z"
   },
   {
    "duration": 3,
    "start_time": "2022-12-30T06:47:18.304Z"
   },
   {
    "duration": 1569,
    "start_time": "2022-12-30T07:30:27.955Z"
   },
   {
    "duration": 394,
    "start_time": "2022-12-30T07:30:29.526Z"
   },
   {
    "duration": 96,
    "start_time": "2022-12-30T07:30:29.921Z"
   },
   {
    "duration": 300,
    "start_time": "2022-12-30T07:30:30.019Z"
   },
   {
    "duration": 18,
    "start_time": "2022-12-30T07:30:30.320Z"
   },
   {
    "duration": 13,
    "start_time": "2022-12-30T07:30:30.340Z"
   },
   {
    "duration": 32,
    "start_time": "2022-12-30T07:30:30.355Z"
   },
   {
    "duration": 31,
    "start_time": "2022-12-30T07:30:30.389Z"
   },
   {
    "duration": 8,
    "start_time": "2022-12-30T07:30:30.421Z"
   },
   {
    "duration": 20,
    "start_time": "2022-12-30T07:30:30.431Z"
   },
   {
    "duration": 36,
    "start_time": "2022-12-30T07:30:30.452Z"
   },
   {
    "duration": 86,
    "start_time": "2022-12-30T07:30:30.489Z"
   },
   {
    "duration": 6,
    "start_time": "2022-12-30T07:30:30.577Z"
   },
   {
    "duration": 35,
    "start_time": "2022-12-30T07:30:30.585Z"
   },
   {
    "duration": 140352,
    "start_time": "2022-12-30T07:30:30.621Z"
   },
   {
    "duration": 1364,
    "start_time": "2022-12-30T07:32:50.976Z"
   },
   {
    "duration": 1332,
    "start_time": "2022-12-30T07:32:52.342Z"
   },
   {
    "duration": 2106,
    "start_time": "2022-12-30T07:32:53.676Z"
   },
   {
    "duration": 4,
    "start_time": "2022-12-30T07:32:55.784Z"
   },
   {
    "duration": 106,
    "start_time": "2022-12-30T07:33:34.639Z"
   },
   {
    "duration": 1462,
    "start_time": "2023-01-05T08:04:47.963Z"
   },
   {
    "duration": 1818,
    "start_time": "2023-01-05T08:04:49.427Z"
   },
   {
    "duration": 370,
    "start_time": "2023-01-05T08:04:51.247Z"
   },
   {
    "duration": 836,
    "start_time": "2023-01-05T08:04:51.619Z"
   },
   {
    "duration": 18,
    "start_time": "2023-01-05T08:04:52.458Z"
   },
   {
    "duration": 13,
    "start_time": "2023-01-05T08:04:52.478Z"
   },
   {
    "duration": 24,
    "start_time": "2023-01-05T08:04:52.492Z"
   },
   {
    "duration": 11,
    "start_time": "2023-01-05T08:04:52.518Z"
   },
   {
    "duration": 7,
    "start_time": "2023-01-05T08:04:52.531Z"
   },
   {
    "duration": 13,
    "start_time": "2023-01-05T08:04:52.540Z"
   },
   {
    "duration": 25,
    "start_time": "2023-01-05T08:04:52.555Z"
   },
   {
    "duration": 102,
    "start_time": "2023-01-05T08:04:52.581Z"
   },
   {
    "duration": 5,
    "start_time": "2023-01-05T08:04:52.684Z"
   },
   {
    "duration": 123,
    "start_time": "2023-01-05T08:04:52.692Z"
   },
   {
    "duration": 0,
    "start_time": "2023-01-05T08:04:52.817Z"
   },
   {
    "duration": 0,
    "start_time": "2023-01-05T08:04:52.818Z"
   },
   {
    "duration": 0,
    "start_time": "2023-01-05T08:04:52.819Z"
   },
   {
    "duration": 0,
    "start_time": "2023-01-05T08:04:52.820Z"
   },
   {
    "duration": 0,
    "start_time": "2023-01-05T08:04:52.822Z"
   },
   {
    "duration": 15,
    "start_time": "2023-01-05T08:05:38.553Z"
   },
   {
    "duration": 134099,
    "start_time": "2023-01-05T08:05:39.743Z"
   },
   {
    "duration": 1380,
    "start_time": "2023-01-05T08:07:53.843Z"
   },
   {
    "duration": 1312,
    "start_time": "2023-01-05T08:07:55.225Z"
   },
   {
    "duration": 4,
    "start_time": "2023-01-05T08:07:56.540Z"
   },
   {
    "duration": 11,
    "start_time": "2023-01-05T08:07:56.545Z"
   },
   {
    "duration": 1382,
    "start_time": "2023-01-07T08:40:16.765Z"
   },
   {
    "duration": 1898,
    "start_time": "2023-01-07T08:40:18.149Z"
   },
   {
    "duration": 387,
    "start_time": "2023-01-07T08:40:20.049Z"
   },
   {
    "duration": 845,
    "start_time": "2023-01-07T08:40:20.438Z"
   },
   {
    "duration": 23,
    "start_time": "2023-01-07T08:40:21.286Z"
   },
   {
    "duration": 17,
    "start_time": "2023-01-07T08:40:21.311Z"
   },
   {
    "duration": 22,
    "start_time": "2023-01-07T08:40:21.330Z"
   },
   {
    "duration": 13,
    "start_time": "2023-01-07T08:40:21.353Z"
   },
   {
    "duration": 9,
    "start_time": "2023-01-07T08:40:21.368Z"
   },
   {
    "duration": 43,
    "start_time": "2023-01-07T08:40:21.379Z"
   },
   {
    "duration": 28,
    "start_time": "2023-01-07T08:40:21.424Z"
   },
   {
    "duration": 84,
    "start_time": "2023-01-07T08:40:21.454Z"
   },
   {
    "duration": 5,
    "start_time": "2023-01-07T08:40:21.540Z"
   },
   {
    "duration": 25,
    "start_time": "2023-01-07T08:40:21.548Z"
   },
   {
    "duration": 117,
    "start_time": "2023-01-07T08:40:21.575Z"
   },
   {
    "duration": 0,
    "start_time": "2023-01-07T08:40:21.694Z"
   },
   {
    "duration": 0,
    "start_time": "2023-01-07T08:40:21.696Z"
   },
   {
    "duration": 0,
    "start_time": "2023-01-07T08:40:21.697Z"
   },
   {
    "duration": 0,
    "start_time": "2023-01-07T08:40:21.698Z"
   },
   {
    "duration": 0,
    "start_time": "2023-01-07T08:40:21.699Z"
   },
   {
    "duration": 19,
    "start_time": "2023-01-07T08:41:01.393Z"
   },
   {
    "duration": 5,
    "start_time": "2023-01-07T08:45:50.642Z"
   },
   {
    "duration": 21,
    "start_time": "2023-01-07T08:45:59.882Z"
   },
   {
    "duration": 13,
    "start_time": "2023-01-07T08:47:26.391Z"
   },
   {
    "duration": 1299,
    "start_time": "2023-01-07T08:47:56.652Z"
   },
   {
    "duration": 364,
    "start_time": "2023-01-07T08:47:57.953Z"
   },
   {
    "duration": 89,
    "start_time": "2023-01-07T08:47:58.319Z"
   },
   {
    "duration": 267,
    "start_time": "2023-01-07T08:47:58.412Z"
   },
   {
    "duration": 17,
    "start_time": "2023-01-07T08:47:58.681Z"
   },
   {
    "duration": 23,
    "start_time": "2023-01-07T08:47:58.700Z"
   },
   {
    "duration": 18,
    "start_time": "2023-01-07T08:47:58.724Z"
   },
   {
    "duration": 11,
    "start_time": "2023-01-07T08:47:58.743Z"
   },
   {
    "duration": 7,
    "start_time": "2023-01-07T08:47:58.755Z"
   },
   {
    "duration": 17,
    "start_time": "2023-01-07T08:47:58.764Z"
   },
   {
    "duration": 30,
    "start_time": "2023-01-07T08:47:58.812Z"
   },
   {
    "duration": 87,
    "start_time": "2023-01-07T08:47:58.844Z"
   },
   {
    "duration": 6,
    "start_time": "2023-01-07T08:47:58.932Z"
   },
   {
    "duration": 18,
    "start_time": "2023-01-07T08:47:58.939Z"
   },
   {
    "duration": 6,
    "start_time": "2023-01-07T08:47:58.959Z"
   },
   {
    "duration": 49,
    "start_time": "2023-01-07T08:47:58.967Z"
   },
   {
    "duration": 116,
    "start_time": "2023-01-07T08:47:59.018Z"
   },
   {
    "duration": 0,
    "start_time": "2023-01-07T08:47:59.135Z"
   },
   {
    "duration": 0,
    "start_time": "2023-01-07T08:47:59.137Z"
   },
   {
    "duration": 0,
    "start_time": "2023-01-07T08:47:59.138Z"
   },
   {
    "duration": 0,
    "start_time": "2023-01-07T08:47:59.140Z"
   },
   {
    "duration": 0,
    "start_time": "2023-01-07T08:47:59.142Z"
   },
   {
    "duration": 16,
    "start_time": "2023-01-07T08:48:49.623Z"
   },
   {
    "duration": 14,
    "start_time": "2023-01-07T08:50:02.592Z"
   },
   {
    "duration": 13,
    "start_time": "2023-01-07T09:10:19.372Z"
   },
   {
    "duration": 15,
    "start_time": "2023-01-07T09:10:42.152Z"
   },
   {
    "duration": 10,
    "start_time": "2023-01-07T09:12:39.212Z"
   },
   {
    "duration": 5,
    "start_time": "2023-01-07T09:12:56.632Z"
   },
   {
    "duration": 1343,
    "start_time": "2023-01-07T09:18:16.162Z"
   },
   {
    "duration": 366,
    "start_time": "2023-01-07T09:18:17.507Z"
   },
   {
    "duration": 88,
    "start_time": "2023-01-07T09:18:17.874Z"
   },
   {
    "duration": 287,
    "start_time": "2023-01-07T09:18:17.964Z"
   },
   {
    "duration": 17,
    "start_time": "2023-01-07T09:18:18.253Z"
   },
   {
    "duration": 18,
    "start_time": "2023-01-07T09:18:18.272Z"
   },
   {
    "duration": 37,
    "start_time": "2023-01-07T09:18:18.292Z"
   },
   {
    "duration": 10,
    "start_time": "2023-01-07T09:18:18.331Z"
   },
   {
    "duration": 7,
    "start_time": "2023-01-07T09:18:18.342Z"
   },
   {
    "duration": 14,
    "start_time": "2023-01-07T09:18:18.351Z"
   },
   {
    "duration": 50,
    "start_time": "2023-01-07T09:18:18.366Z"
   },
   {
    "duration": 73,
    "start_time": "2023-01-07T09:18:18.417Z"
   },
   {
    "duration": 5,
    "start_time": "2023-01-07T09:18:18.492Z"
   },
   {
    "duration": 19,
    "start_time": "2023-01-07T09:18:18.514Z"
   },
   {
    "duration": 7,
    "start_time": "2023-01-07T09:18:18.535Z"
   },
   {
    "duration": 25,
    "start_time": "2023-01-07T09:18:18.544Z"
   },
   {
    "duration": 13,
    "start_time": "2023-01-07T09:18:18.570Z"
   },
   {
    "duration": 34,
    "start_time": "2023-01-07T09:18:18.584Z"
   },
   {
    "duration": 22512,
    "start_time": "2023-01-07T09:18:18.619Z"
   },
   {
    "duration": 0,
    "start_time": "2023-01-07T09:18:41.134Z"
   },
   {
    "duration": 0,
    "start_time": "2023-01-07T09:18:41.135Z"
   },
   {
    "duration": 0,
    "start_time": "2023-01-07T09:18:41.136Z"
   },
   {
    "duration": 0,
    "start_time": "2023-01-07T09:18:41.138Z"
   },
   {
    "duration": 381,
    "start_time": "2023-01-07T09:28:38.212Z"
   },
   {
    "duration": 1438,
    "start_time": "2023-01-07T09:29:22.392Z"
   },
   {
    "duration": 412,
    "start_time": "2023-01-07T09:29:23.832Z"
   },
   {
    "duration": 97,
    "start_time": "2023-01-07T09:29:24.246Z"
   },
   {
    "duration": 299,
    "start_time": "2023-01-07T09:29:24.345Z"
   },
   {
    "duration": 17,
    "start_time": "2023-01-07T09:29:24.646Z"
   },
   {
    "duration": 15,
    "start_time": "2023-01-07T09:29:24.665Z"
   },
   {
    "duration": 45,
    "start_time": "2023-01-07T09:29:24.682Z"
   },
   {
    "duration": 10,
    "start_time": "2023-01-07T09:29:24.729Z"
   },
   {
    "duration": 6,
    "start_time": "2023-01-07T09:29:24.741Z"
   },
   {
    "duration": 9,
    "start_time": "2023-01-07T09:29:24.749Z"
   },
   {
    "duration": 23,
    "start_time": "2023-01-07T09:29:24.760Z"
   },
   {
    "duration": 87,
    "start_time": "2023-01-07T09:29:24.784Z"
   },
   {
    "duration": 5,
    "start_time": "2023-01-07T09:29:24.873Z"
   },
   {
    "duration": 148,
    "start_time": "2023-01-07T09:29:24.881Z"
   },
   {
    "duration": 0,
    "start_time": "2023-01-07T09:29:25.031Z"
   },
   {
    "duration": 0,
    "start_time": "2023-01-07T09:29:25.032Z"
   },
   {
    "duration": 0,
    "start_time": "2023-01-07T09:29:25.033Z"
   },
   {
    "duration": 0,
    "start_time": "2023-01-07T09:29:25.035Z"
   },
   {
    "duration": 0,
    "start_time": "2023-01-07T09:29:25.035Z"
   },
   {
    "duration": 0,
    "start_time": "2023-01-07T09:29:25.036Z"
   },
   {
    "duration": 0,
    "start_time": "2023-01-07T09:29:25.038Z"
   },
   {
    "duration": 18,
    "start_time": "2023-01-07T09:29:56.591Z"
   },
   {
    "duration": 10,
    "start_time": "2023-01-07T09:29:58.251Z"
   },
   {
    "duration": 9,
    "start_time": "2023-01-07T09:30:00.061Z"
   },
   {
    "duration": 1410,
    "start_time": "2023-01-07T13:44:10.851Z"
   },
   {
    "duration": 1814,
    "start_time": "2023-01-07T13:44:12.263Z"
   },
   {
    "duration": 366,
    "start_time": "2023-01-07T13:44:14.079Z"
   },
   {
    "duration": 809,
    "start_time": "2023-01-07T13:44:14.446Z"
   },
   {
    "duration": 16,
    "start_time": "2023-01-07T13:44:15.258Z"
   },
   {
    "duration": 10,
    "start_time": "2023-01-07T13:44:15.276Z"
   },
   {
    "duration": 15,
    "start_time": "2023-01-07T13:44:15.288Z"
   },
   {
    "duration": 18,
    "start_time": "2023-01-07T13:44:15.305Z"
   },
   {
    "duration": 7,
    "start_time": "2023-01-07T13:44:15.325Z"
   },
   {
    "duration": 9,
    "start_time": "2023-01-07T13:44:15.333Z"
   },
   {
    "duration": 20,
    "start_time": "2023-01-07T13:44:15.344Z"
   },
   {
    "duration": 78,
    "start_time": "2023-01-07T13:44:15.365Z"
   },
   {
    "duration": 4,
    "start_time": "2023-01-07T13:44:15.445Z"
   },
   {
    "duration": 16,
    "start_time": "2023-01-07T13:44:15.452Z"
   },
   {
    "duration": 128,
    "start_time": "2023-01-07T13:44:15.470Z"
   },
   {
    "duration": 0,
    "start_time": "2023-01-07T13:44:15.599Z"
   },
   {
    "duration": 0,
    "start_time": "2023-01-07T13:44:15.600Z"
   },
   {
    "duration": 0,
    "start_time": "2023-01-07T13:44:15.601Z"
   },
   {
    "duration": 0,
    "start_time": "2023-01-07T13:44:15.602Z"
   },
   {
    "duration": 0,
    "start_time": "2023-01-07T13:44:15.616Z"
   },
   {
    "duration": 9,
    "start_time": "2023-01-07T13:44:49.361Z"
   },
   {
    "duration": 135126,
    "start_time": "2023-01-07T13:44:50.720Z"
   },
   {
    "duration": 1347,
    "start_time": "2023-01-07T13:47:05.848Z"
   },
   {
    "duration": 1284,
    "start_time": "2023-01-07T13:47:07.197Z"
   },
   {
    "duration": 3,
    "start_time": "2023-01-07T13:47:08.483Z"
   },
   {
    "duration": 18,
    "start_time": "2023-01-07T13:47:08.535Z"
   },
   {
    "duration": 1286,
    "start_time": "2023-01-07T13:54:15.992Z"
   },
   {
    "duration": 371,
    "start_time": "2023-01-07T13:54:17.280Z"
   },
   {
    "duration": 91,
    "start_time": "2023-01-07T13:54:17.653Z"
   },
   {
    "duration": 262,
    "start_time": "2023-01-07T13:54:17.746Z"
   },
   {
    "duration": 15,
    "start_time": "2023-01-07T13:54:18.010Z"
   },
   {
    "duration": 10,
    "start_time": "2023-01-07T13:54:18.026Z"
   },
   {
    "duration": 15,
    "start_time": "2023-01-07T13:54:18.038Z"
   },
   {
    "duration": 13,
    "start_time": "2023-01-07T13:54:18.054Z"
   },
   {
    "duration": 12,
    "start_time": "2023-01-07T13:54:18.068Z"
   },
   {
    "duration": 39,
    "start_time": "2023-01-07T13:54:18.082Z"
   },
   {
    "duration": 22,
    "start_time": "2023-01-07T13:54:18.123Z"
   },
   {
    "duration": 48,
    "start_time": "2023-01-07T13:54:18.147Z"
   },
   {
    "duration": 22,
    "start_time": "2023-01-07T13:54:18.196Z"
   },
   {
    "duration": 18,
    "start_time": "2023-01-07T13:54:18.220Z"
   },
   {
    "duration": 9,
    "start_time": "2023-01-07T13:54:18.240Z"
   },
   {
    "duration": 23,
    "start_time": "2023-01-07T13:54:18.250Z"
   },
   {
    "duration": 137457,
    "start_time": "2023-01-07T13:54:18.275Z"
   },
   {
    "duration": 1450,
    "start_time": "2023-01-07T13:56:35.733Z"
   },
   {
    "duration": 1355,
    "start_time": "2023-01-07T13:56:37.185Z"
   },
   {
    "duration": 1371,
    "start_time": "2023-01-08T08:39:25.409Z"
   },
   {
    "duration": 1857,
    "start_time": "2023-01-08T08:39:26.782Z"
   },
   {
    "duration": 382,
    "start_time": "2023-01-08T08:39:28.640Z"
   },
   {
    "duration": 775,
    "start_time": "2023-01-08T08:39:29.024Z"
   },
   {
    "duration": 14,
    "start_time": "2023-01-08T08:39:29.802Z"
   },
   {
    "duration": 9,
    "start_time": "2023-01-08T08:39:29.818Z"
   },
   {
    "duration": 14,
    "start_time": "2023-01-08T08:39:29.828Z"
   },
   {
    "duration": 9,
    "start_time": "2023-01-08T08:39:29.843Z"
   },
   {
    "duration": 6,
    "start_time": "2023-01-08T08:39:29.853Z"
   },
   {
    "duration": 44,
    "start_time": "2023-01-08T08:39:29.861Z"
   },
   {
    "duration": 18,
    "start_time": "2023-01-08T08:39:29.907Z"
   },
   {
    "duration": 47,
    "start_time": "2023-01-08T08:39:29.927Z"
   },
   {
    "duration": 4,
    "start_time": "2023-01-08T08:39:29.976Z"
   },
   {
    "duration": 16,
    "start_time": "2023-01-08T08:39:29.998Z"
   },
   {
    "duration": 24,
    "start_time": "2023-01-08T08:39:30.016Z"
   },
   {
    "duration": 44,
    "start_time": "2023-01-08T08:39:30.042Z"
   },
   {
    "duration": 135725,
    "start_time": "2023-01-08T08:39:30.088Z"
   },
   {
    "duration": 1262,
    "start_time": "2023-01-08T08:41:45.816Z"
   },
   {
    "duration": 1227,
    "start_time": "2023-01-08T08:41:47.080Z"
   },
   {
    "duration": 118,
    "start_time": "2023-01-08T08:42:39.340Z"
   },
   {
    "duration": 1322,
    "start_time": "2023-01-08T08:58:16.069Z"
   },
   {
    "duration": 409,
    "start_time": "2023-01-08T08:58:17.393Z"
   },
   {
    "duration": 105,
    "start_time": "2023-01-08T08:58:17.804Z"
   },
   {
    "duration": 305,
    "start_time": "2023-01-08T08:58:17.912Z"
   },
   {
    "duration": 15,
    "start_time": "2023-01-08T08:58:18.219Z"
   },
   {
    "duration": 10,
    "start_time": "2023-01-08T08:58:18.235Z"
   },
   {
    "duration": 15,
    "start_time": "2023-01-08T08:58:18.246Z"
   },
   {
    "duration": 43,
    "start_time": "2023-01-08T08:58:18.263Z"
   },
   {
    "duration": 10,
    "start_time": "2023-01-08T08:58:18.308Z"
   },
   {
    "duration": 10,
    "start_time": "2023-01-08T08:58:18.319Z"
   },
   {
    "duration": 20,
    "start_time": "2023-01-08T08:58:18.330Z"
   },
   {
    "duration": 68,
    "start_time": "2023-01-08T08:58:18.352Z"
   },
   {
    "duration": 6,
    "start_time": "2023-01-08T08:58:18.421Z"
   },
   {
    "duration": 19,
    "start_time": "2023-01-08T08:58:18.429Z"
   },
   {
    "duration": 9,
    "start_time": "2023-01-08T08:58:18.450Z"
   },
   {
    "duration": 39,
    "start_time": "2023-01-08T08:58:18.461Z"
   },
   {
    "duration": 143680,
    "start_time": "2023-01-08T08:58:18.502Z"
   },
   {
    "duration": 1394,
    "start_time": "2023-01-08T09:00:42.184Z"
   },
   {
    "duration": 1573,
    "start_time": "2023-01-08T09:00:43.580Z"
   },
   {
    "duration": 203,
    "start_time": "2023-01-08T09:00:45.155Z"
   },
   {
    "duration": 194,
    "start_time": "2023-01-08T09:02:03.219Z"
   },
   {
    "duration": 263,
    "start_time": "2023-01-08T09:03:14.078Z"
   },
   {
    "duration": 260,
    "start_time": "2023-01-08T09:06:41.218Z"
   },
   {
    "duration": 243,
    "start_time": "2023-01-08T09:07:26.819Z"
   },
   {
    "duration": 963,
    "start_time": "2023-01-08T09:10:09.679Z"
   },
   {
    "duration": 936,
    "start_time": "2023-01-08T09:10:29.848Z"
   },
   {
    "duration": 262,
    "start_time": "2023-01-08T09:10:49.718Z"
   },
   {
    "duration": 615,
    "start_time": "2023-01-08T09:11:00.459Z"
   },
   {
    "duration": 121,
    "start_time": "2023-01-08T09:13:12.128Z"
   },
   {
    "duration": 865,
    "start_time": "2023-01-08T09:13:19.910Z"
   },
   {
    "duration": 148,
    "start_time": "2023-01-08T09:14:25.111Z"
   },
   {
    "duration": 989,
    "start_time": "2023-01-08T09:14:35.678Z"
   },
   {
    "duration": 169,
    "start_time": "2023-01-08T09:19:54.728Z"
   },
   {
    "duration": 142,
    "start_time": "2023-01-08T09:20:06.005Z"
   },
   {
    "duration": 483,
    "start_time": "2023-01-08T09:20:16.653Z"
   },
   {
    "duration": 465,
    "start_time": "2023-01-08T09:20:52.583Z"
   },
   {
    "duration": 1038,
    "start_time": "2023-01-08T09:21:03.108Z"
   },
   {
    "duration": 974,
    "start_time": "2023-01-08T09:21:18.373Z"
   },
   {
    "duration": 1399,
    "start_time": "2023-01-08T09:59:25.823Z"
   },
   {
    "duration": 508,
    "start_time": "2023-01-08T09:59:27.225Z"
   },
   {
    "duration": 93,
    "start_time": "2023-01-08T09:59:27.735Z"
   },
   {
    "duration": 303,
    "start_time": "2023-01-08T09:59:27.832Z"
   },
   {
    "duration": 15,
    "start_time": "2023-01-08T09:59:28.137Z"
   },
   {
    "duration": 13,
    "start_time": "2023-01-08T09:59:28.153Z"
   },
   {
    "duration": 53,
    "start_time": "2023-01-08T09:59:28.168Z"
   },
   {
    "duration": 22,
    "start_time": "2023-01-08T09:59:28.223Z"
   },
   {
    "duration": 7,
    "start_time": "2023-01-08T09:59:28.247Z"
   },
   {
    "duration": 13,
    "start_time": "2023-01-08T09:59:28.256Z"
   },
   {
    "duration": 42,
    "start_time": "2023-01-08T09:59:28.271Z"
   },
   {
    "duration": 64,
    "start_time": "2023-01-08T09:59:28.318Z"
   },
   {
    "duration": 5,
    "start_time": "2023-01-08T09:59:28.384Z"
   },
   {
    "duration": 34,
    "start_time": "2023-01-08T09:59:28.391Z"
   },
   {
    "duration": 13,
    "start_time": "2023-01-08T09:59:28.427Z"
   },
   {
    "duration": 24,
    "start_time": "2023-01-08T09:59:28.441Z"
   },
   {
    "duration": 152212,
    "start_time": "2023-01-08T09:59:28.467Z"
   },
   {
    "duration": 1433,
    "start_time": "2023-01-08T10:02:00.681Z"
   },
   {
    "duration": 1419,
    "start_time": "2023-01-08T10:02:02.116Z"
   },
   {
    "duration": 852,
    "start_time": "2023-01-08T10:02:03.536Z"
   },
   {
    "duration": 938,
    "start_time": "2023-01-08T10:02:04.398Z"
   },
   {
    "duration": 820,
    "start_time": "2023-01-08T10:02:05.338Z"
   },
   {
    "duration": 113,
    "start_time": "2023-01-08T10:13:29.711Z"
   },
   {
    "duration": 2,
    "start_time": "2023-01-08T10:14:08.536Z"
   },
   {
    "duration": 5,
    "start_time": "2023-01-08T10:14:17.745Z"
   },
   {
    "duration": 9,
    "start_time": "2023-01-08T10:14:46.985Z"
   },
   {
    "duration": 13,
    "start_time": "2023-01-08T10:14:56.685Z"
   },
   {
    "duration": 5,
    "start_time": "2023-01-08T10:15:20.645Z"
   },
   {
    "duration": 3,
    "start_time": "2023-01-08T10:16:41.335Z"
   },
   {
    "duration": 379,
    "start_time": "2023-01-08T10:32:27.505Z"
   },
   {
    "duration": 398,
    "start_time": "2023-01-08T10:34:18.425Z"
   },
   {
    "duration": 340,
    "start_time": "2023-01-08T10:35:02.785Z"
   },
   {
    "duration": 397,
    "start_time": "2023-01-08T10:35:13.054Z"
   },
   {
    "duration": 1479,
    "start_time": "2023-01-08T11:09:47.183Z"
   },
   {
    "duration": 453,
    "start_time": "2023-01-08T11:09:48.664Z"
   },
   {
    "duration": 111,
    "start_time": "2023-01-08T11:09:49.118Z"
   },
   {
    "duration": 322,
    "start_time": "2023-01-08T11:09:49.231Z"
   },
   {
    "duration": 14,
    "start_time": "2023-01-08T11:09:49.554Z"
   },
   {
    "duration": 22,
    "start_time": "2023-01-08T11:09:49.570Z"
   },
   {
    "duration": 49,
    "start_time": "2023-01-08T11:09:49.599Z"
   },
   {
    "duration": 8,
    "start_time": "2023-01-08T11:09:49.650Z"
   },
   {
    "duration": 12,
    "start_time": "2023-01-08T11:09:49.659Z"
   },
   {
    "duration": 13,
    "start_time": "2023-01-08T11:09:49.674Z"
   },
   {
    "duration": 37,
    "start_time": "2023-01-08T11:09:49.688Z"
   },
   {
    "duration": 47,
    "start_time": "2023-01-08T11:09:49.728Z"
   },
   {
    "duration": 6,
    "start_time": "2023-01-08T11:09:49.777Z"
   },
   {
    "duration": 37,
    "start_time": "2023-01-08T11:09:49.784Z"
   },
   {
    "duration": 9,
    "start_time": "2023-01-08T11:09:49.826Z"
   },
   {
    "duration": 23,
    "start_time": "2023-01-08T11:09:49.836Z"
   },
   {
    "duration": 149783,
    "start_time": "2023-01-08T11:09:49.860Z"
   },
   {
    "duration": 1549,
    "start_time": "2023-01-08T11:12:19.645Z"
   },
   {
    "duration": 1580,
    "start_time": "2023-01-08T11:12:21.196Z"
   },
   {
    "duration": 851,
    "start_time": "2023-01-08T11:12:22.778Z"
   },
   {
    "duration": 941,
    "start_time": "2023-01-08T11:12:23.631Z"
   },
   {
    "duration": 909,
    "start_time": "2023-01-08T11:12:24.574Z"
   },
   {
    "duration": 415,
    "start_time": "2023-01-08T11:12:25.485Z"
   },
   {
    "duration": 135,
    "start_time": "2023-01-08T11:12:25.905Z"
   },
   {
    "duration": 1396,
    "start_time": "2023-01-08T11:30:38.002Z"
   },
   {
    "duration": 424,
    "start_time": "2023-01-08T11:30:39.402Z"
   },
   {
    "duration": 96,
    "start_time": "2023-01-08T11:30:39.828Z"
   },
   {
    "duration": 334,
    "start_time": "2023-01-08T11:30:39.926Z"
   },
   {
    "duration": 21,
    "start_time": "2023-01-08T11:30:40.263Z"
   },
   {
    "duration": 22,
    "start_time": "2023-01-08T11:30:40.296Z"
   },
   {
    "duration": 18,
    "start_time": "2023-01-08T11:30:40.319Z"
   },
   {
    "duration": 9,
    "start_time": "2023-01-08T11:30:40.338Z"
   },
   {
    "duration": 6,
    "start_time": "2023-01-08T11:30:40.348Z"
   },
   {
    "duration": 9,
    "start_time": "2023-01-08T11:30:40.355Z"
   },
   {
    "duration": 49,
    "start_time": "2023-01-08T11:30:40.366Z"
   },
   {
    "duration": 55,
    "start_time": "2023-01-08T11:30:40.417Z"
   },
   {
    "duration": 6,
    "start_time": "2023-01-08T11:30:40.474Z"
   },
   {
    "duration": 36,
    "start_time": "2023-01-08T11:30:40.482Z"
   },
   {
    "duration": 14,
    "start_time": "2023-01-08T11:30:40.520Z"
   },
   {
    "duration": 26,
    "start_time": "2023-01-08T11:30:40.536Z"
   },
   {
    "duration": 140562,
    "start_time": "2023-01-08T11:30:40.564Z"
   },
   {
    "duration": 1387,
    "start_time": "2023-01-08T11:33:01.127Z"
   },
   {
    "duration": 1402,
    "start_time": "2023-01-08T11:33:02.515Z"
   },
   {
    "duration": 755,
    "start_time": "2023-01-08T11:33:03.919Z"
   },
   {
    "duration": 905,
    "start_time": "2023-01-08T11:33:04.676Z"
   },
   {
    "duration": 768,
    "start_time": "2023-01-08T11:33:05.582Z"
   },
   {
    "duration": 366,
    "start_time": "2023-01-08T11:33:06.352Z"
   },
   {
    "duration": 5,
    "start_time": "2023-01-08T11:33:06.720Z"
   },
   {
    "duration": 12,
    "start_time": "2023-01-08T11:33:56.210Z"
   },
   {
    "duration": 127,
    "start_time": "2023-01-08T11:34:36.639Z"
   },
   {
    "duration": 5,
    "start_time": "2023-01-08T11:35:37.619Z"
   },
   {
    "duration": 13,
    "start_time": "2023-01-08T11:35:38.639Z"
   },
   {
    "duration": 3,
    "start_time": "2023-01-08T11:38:09.339Z"
   },
   {
    "duration": 3,
    "start_time": "2023-01-08T11:38:20.969Z"
   },
   {
    "duration": 5,
    "start_time": "2023-01-08T11:38:25.779Z"
   },
   {
    "duration": 6,
    "start_time": "2023-01-08T11:39:25.859Z"
   },
   {
    "duration": 6,
    "start_time": "2023-01-08T11:39:37.818Z"
   },
   {
    "duration": 4,
    "start_time": "2023-01-08T11:40:08.169Z"
   },
   {
    "duration": 14,
    "start_time": "2023-01-08T11:40:17.929Z"
   },
   {
    "duration": 9,
    "start_time": "2023-01-08T11:41:39.149Z"
   },
   {
    "duration": 4,
    "start_time": "2023-01-08T11:41:41.328Z"
   },
   {
    "duration": 5,
    "start_time": "2023-01-08T11:41:41.788Z"
   },
   {
    "duration": 10,
    "start_time": "2023-01-08T11:42:02.149Z"
   },
   {
    "duration": 5,
    "start_time": "2023-01-08T11:59:15.390Z"
   },
   {
    "duration": 5,
    "start_time": "2023-01-08T11:59:20.415Z"
   },
   {
    "duration": 746,
    "start_time": "2023-01-08T11:59:45.770Z"
   },
   {
    "duration": 122,
    "start_time": "2023-01-08T11:59:56.671Z"
   },
   {
    "duration": 1308,
    "start_time": "2023-01-08T12:13:19.270Z"
   },
   {
    "duration": 432,
    "start_time": "2023-01-08T12:13:20.580Z"
   },
   {
    "duration": 97,
    "start_time": "2023-01-08T12:13:21.014Z"
   },
   {
    "duration": 274,
    "start_time": "2023-01-08T12:13:21.113Z"
   },
   {
    "duration": 28,
    "start_time": "2023-01-08T12:13:21.389Z"
   },
   {
    "duration": 10,
    "start_time": "2023-01-08T12:13:21.419Z"
   },
   {
    "duration": 14,
    "start_time": "2023-01-08T12:13:21.430Z"
   },
   {
    "duration": 9,
    "start_time": "2023-01-08T12:13:21.445Z"
   },
   {
    "duration": 6,
    "start_time": "2023-01-08T12:13:21.455Z"
   },
   {
    "duration": 9,
    "start_time": "2023-01-08T12:13:21.463Z"
   },
   {
    "duration": 21,
    "start_time": "2023-01-08T12:13:21.501Z"
   },
   {
    "duration": 46,
    "start_time": "2023-01-08T12:13:21.524Z"
   },
   {
    "duration": 5,
    "start_time": "2023-01-08T12:13:21.572Z"
   },
   {
    "duration": 31,
    "start_time": "2023-01-08T12:13:21.579Z"
   },
   {
    "duration": 11,
    "start_time": "2023-01-08T12:13:21.613Z"
   },
   {
    "duration": 23,
    "start_time": "2023-01-08T12:13:21.625Z"
   },
   {
    "duration": 139813,
    "start_time": "2023-01-08T12:13:21.649Z"
   },
   {
    "duration": 1347,
    "start_time": "2023-01-08T12:15:41.463Z"
   },
   {
    "duration": 1414,
    "start_time": "2023-01-08T12:15:42.812Z"
   },
   {
    "duration": 883,
    "start_time": "2023-01-08T12:15:44.228Z"
   },
   {
    "duration": 894,
    "start_time": "2023-01-08T12:15:45.113Z"
   },
   {
    "duration": 734,
    "start_time": "2023-01-08T12:15:46.014Z"
   },
   {
    "duration": 376,
    "start_time": "2023-01-08T12:15:46.749Z"
   },
   {
    "duration": 6,
    "start_time": "2023-01-08T12:15:47.127Z"
   },
   {
    "duration": 16,
    "start_time": "2023-01-08T12:15:47.135Z"
   },
   {
    "duration": 11,
    "start_time": "2023-01-08T12:15:47.153Z"
   },
   {
    "duration": 8,
    "start_time": "2023-01-08T12:15:47.166Z"
   },
   {
    "duration": 114,
    "start_time": "2023-01-08T12:15:47.177Z"
   },
   {
    "duration": 1395,
    "start_time": "2023-01-08T12:50:25.768Z"
   },
   {
    "duration": 422,
    "start_time": "2023-01-08T12:50:27.165Z"
   },
   {
    "duration": 104,
    "start_time": "2023-01-08T12:50:27.588Z"
   },
   {
    "duration": 315,
    "start_time": "2023-01-08T12:50:27.695Z"
   },
   {
    "duration": 23,
    "start_time": "2023-01-08T12:50:28.013Z"
   },
   {
    "duration": 14,
    "start_time": "2023-01-08T12:50:28.038Z"
   },
   {
    "duration": 32,
    "start_time": "2023-01-08T12:50:28.054Z"
   },
   {
    "duration": 17,
    "start_time": "2023-01-08T12:50:28.088Z"
   },
   {
    "duration": 39,
    "start_time": "2023-01-08T12:50:28.107Z"
   },
   {
    "duration": 13,
    "start_time": "2023-01-08T12:50:28.148Z"
   },
   {
    "duration": 23,
    "start_time": "2023-01-08T12:50:28.162Z"
   },
   {
    "duration": 64,
    "start_time": "2023-01-08T12:50:28.186Z"
   },
   {
    "duration": 6,
    "start_time": "2023-01-08T12:50:28.251Z"
   },
   {
    "duration": 23,
    "start_time": "2023-01-08T12:50:28.259Z"
   },
   {
    "duration": 30,
    "start_time": "2023-01-08T12:50:28.284Z"
   },
   {
    "duration": 28,
    "start_time": "2023-01-08T12:50:28.316Z"
   },
   {
    "duration": 145072,
    "start_time": "2023-01-08T12:50:28.345Z"
   },
   {
    "duration": 1432,
    "start_time": "2023-01-08T12:52:53.418Z"
   },
   {
    "duration": 1496,
    "start_time": "2023-01-08T12:52:54.852Z"
   },
   {
    "duration": 742,
    "start_time": "2023-01-08T12:52:56.350Z"
   },
   {
    "duration": 892,
    "start_time": "2023-01-08T12:52:57.097Z"
   },
   {
    "duration": 849,
    "start_time": "2023-01-08T12:52:57.990Z"
   },
   {
    "duration": 400,
    "start_time": "2023-01-08T12:52:58.841Z"
   },
   {
    "duration": 8,
    "start_time": "2023-01-08T12:52:59.243Z"
   },
   {
    "duration": 26,
    "start_time": "2023-01-08T12:52:59.253Z"
   },
   {
    "duration": 20,
    "start_time": "2023-01-08T12:52:59.281Z"
   },
   {
    "duration": 16,
    "start_time": "2023-01-08T12:52:59.303Z"
   },
   {
    "duration": 126,
    "start_time": "2023-01-08T12:52:59.321Z"
   },
   {
    "duration": 6,
    "start_time": "2023-01-08T12:54:27.147Z"
   },
   {
    "duration": 16,
    "start_time": "2023-01-08T12:54:38.895Z"
   },
   {
    "duration": 9,
    "start_time": "2023-01-08T13:05:25.284Z"
   },
   {
    "duration": 8,
    "start_time": "2023-01-08T13:05:33.054Z"
   },
   {
    "duration": 12,
    "start_time": "2023-01-08T13:11:34.107Z"
   },
   {
    "duration": 8,
    "start_time": "2023-01-08T13:11:35.163Z"
   },
   {
    "duration": 119,
    "start_time": "2023-01-08T13:13:06.011Z"
   },
   {
    "duration": 9,
    "start_time": "2023-01-08T13:13:06.952Z"
   },
   {
    "duration": 21,
    "start_time": "2023-01-08T13:13:35.493Z"
   },
   {
    "duration": 11,
    "start_time": "2023-01-08T13:13:52.811Z"
   },
   {
    "duration": 805,
    "start_time": "2023-01-08T13:18:04.007Z"
   },
   {
    "duration": 914,
    "start_time": "2023-01-08T13:42:42.932Z"
   },
   {
    "duration": 653,
    "start_time": "2023-01-08T13:44:54.232Z"
   },
   {
    "duration": 1292,
    "start_time": "2023-01-08T14:45:40.314Z"
   },
   {
    "duration": 435,
    "start_time": "2023-01-08T14:45:41.607Z"
   },
   {
    "duration": 86,
    "start_time": "2023-01-08T14:45:42.043Z"
   },
   {
    "duration": 268,
    "start_time": "2023-01-08T14:45:42.130Z"
   },
   {
    "duration": 14,
    "start_time": "2023-01-08T14:45:42.401Z"
   },
   {
    "duration": 10,
    "start_time": "2023-01-08T14:45:42.416Z"
   },
   {
    "duration": 13,
    "start_time": "2023-01-08T14:45:42.428Z"
   },
   {
    "duration": 8,
    "start_time": "2023-01-08T14:45:42.443Z"
   },
   {
    "duration": 5,
    "start_time": "2023-01-08T14:45:42.452Z"
   },
   {
    "duration": 39,
    "start_time": "2023-01-08T14:45:42.459Z"
   },
   {
    "duration": 19,
    "start_time": "2023-01-08T14:45:42.499Z"
   },
   {
    "duration": 46,
    "start_time": "2023-01-08T14:45:42.520Z"
   },
   {
    "duration": 5,
    "start_time": "2023-01-08T14:45:42.567Z"
   },
   {
    "duration": 762,
    "start_time": "2023-01-08T14:45:42.597Z"
   },
   {
    "duration": 700,
    "start_time": "2023-01-08T14:45:43.360Z"
   },
   {
    "duration": 858,
    "start_time": "2023-01-08T14:45:44.062Z"
   },
   {
    "duration": 338,
    "start_time": "2023-01-08T14:45:44.922Z"
   },
   {
    "duration": 594,
    "start_time": "2023-01-08T14:45:45.262Z"
   },
   {
    "duration": 48,
    "start_time": "2023-01-08T14:45:45.858Z"
   },
   {
    "duration": 0,
    "start_time": "2023-01-08T14:45:45.908Z"
   },
   {
    "duration": 0,
    "start_time": "2023-01-08T14:45:45.909Z"
   },
   {
    "duration": 0,
    "start_time": "2023-01-08T14:45:45.910Z"
   },
   {
    "duration": 0,
    "start_time": "2023-01-08T14:45:45.911Z"
   },
   {
    "duration": 0,
    "start_time": "2023-01-08T14:45:45.913Z"
   },
   {
    "duration": 0,
    "start_time": "2023-01-08T14:45:45.913Z"
   },
   {
    "duration": 159,
    "start_time": "2023-01-08T14:46:04.583Z"
   },
   {
    "duration": 11,
    "start_time": "2023-01-08T14:47:37.973Z"
   },
   {
    "duration": 10,
    "start_time": "2023-01-08T14:47:44.054Z"
   },
   {
    "duration": 1326,
    "start_time": "2023-01-08T15:15:59.852Z"
   },
   {
    "duration": 388,
    "start_time": "2023-01-08T15:16:01.179Z"
   },
   {
    "duration": 92,
    "start_time": "2023-01-08T15:16:01.568Z"
   },
   {
    "duration": 266,
    "start_time": "2023-01-08T15:16:01.662Z"
   },
   {
    "duration": 14,
    "start_time": "2023-01-08T15:16:01.930Z"
   },
   {
    "duration": 16,
    "start_time": "2023-01-08T15:16:01.946Z"
   },
   {
    "duration": 42,
    "start_time": "2023-01-08T15:16:01.964Z"
   },
   {
    "duration": 11,
    "start_time": "2023-01-08T15:16:02.007Z"
   },
   {
    "duration": 20,
    "start_time": "2023-01-08T15:16:02.020Z"
   },
   {
    "duration": 27,
    "start_time": "2023-01-08T15:16:02.041Z"
   },
   {
    "duration": 48,
    "start_time": "2023-01-08T15:16:02.070Z"
   },
   {
    "duration": 49,
    "start_time": "2023-01-08T15:16:02.120Z"
   },
   {
    "duration": 5,
    "start_time": "2023-01-08T15:16:02.171Z"
   },
   {
    "duration": 860,
    "start_time": "2023-01-08T15:16:02.178Z"
   },
   {
    "duration": 792,
    "start_time": "2023-01-08T15:16:03.040Z"
   },
   {
    "duration": 967,
    "start_time": "2023-01-08T15:16:03.834Z"
   },
   {
    "duration": 465,
    "start_time": "2023-01-08T15:16:04.803Z"
   },
   {
    "duration": 634,
    "start_time": "2023-01-08T15:16:05.270Z"
   },
   {
    "duration": 6,
    "start_time": "2023-01-08T15:16:05.906Z"
   },
   {
    "duration": 17,
    "start_time": "2023-01-08T15:16:05.914Z"
   },
   {
    "duration": 19,
    "start_time": "2023-01-08T15:16:05.933Z"
   },
   {
    "duration": 28,
    "start_time": "2023-01-08T15:16:05.954Z"
   },
   {
    "duration": 143991,
    "start_time": "2023-01-08T15:16:05.984Z"
   },
   {
    "duration": 1353,
    "start_time": "2023-01-08T15:18:29.977Z"
   },
   {
    "duration": 1326,
    "start_time": "2023-01-08T15:18:31.332Z"
   },
   {
    "duration": 1311,
    "start_time": "2023-01-08T15:40:41.963Z"
   },
   {
    "duration": 365,
    "start_time": "2023-01-08T15:40:43.276Z"
   },
   {
    "duration": 89,
    "start_time": "2023-01-08T15:40:43.643Z"
   },
   {
    "duration": 264,
    "start_time": "2023-01-08T15:40:43.734Z"
   },
   {
    "duration": 15,
    "start_time": "2023-01-08T15:40:44.001Z"
   },
   {
    "duration": 10,
    "start_time": "2023-01-08T15:40:44.018Z"
   },
   {
    "duration": 18,
    "start_time": "2023-01-08T15:40:44.030Z"
   },
   {
    "duration": 8,
    "start_time": "2023-01-08T15:40:44.050Z"
   },
   {
    "duration": 38,
    "start_time": "2023-01-08T15:40:44.060Z"
   },
   {
    "duration": 21,
    "start_time": "2023-01-08T15:40:44.099Z"
   },
   {
    "duration": 20,
    "start_time": "2023-01-08T15:40:44.122Z"
   },
   {
    "duration": 46,
    "start_time": "2023-01-08T15:40:44.143Z"
   },
   {
    "duration": 4,
    "start_time": "2023-01-08T15:40:44.197Z"
   },
   {
    "duration": 865,
    "start_time": "2023-01-08T15:40:44.203Z"
   },
   {
    "duration": 703,
    "start_time": "2023-01-08T15:40:45.069Z"
   },
   {
    "duration": 791,
    "start_time": "2023-01-08T15:40:45.773Z"
   },
   {
    "duration": 342,
    "start_time": "2023-01-08T15:40:46.566Z"
   },
   {
    "duration": 543,
    "start_time": "2023-01-08T15:40:46.910Z"
   },
   {
    "duration": 4,
    "start_time": "2023-01-08T15:40:47.454Z"
   },
   {
    "duration": 9,
    "start_time": "2023-01-08T15:40:47.460Z"
   },
   {
    "duration": 12,
    "start_time": "2023-01-08T15:40:47.470Z"
   },
   {
    "duration": 29,
    "start_time": "2023-01-08T15:40:47.483Z"
   },
   {
    "duration": 9277,
    "start_time": "2023-01-08T15:40:47.514Z"
   },
   {
    "duration": 0,
    "start_time": "2023-01-08T15:40:56.792Z"
   },
   {
    "duration": 0,
    "start_time": "2023-01-08T15:40:56.794Z"
   },
   {
    "duration": 35,
    "start_time": "2023-01-08T15:40:58.973Z"
   },
   {
    "duration": 206,
    "start_time": "2023-01-08T15:42:19.023Z"
   },
   {
    "duration": 12,
    "start_time": "2023-01-08T15:44:11.153Z"
   },
   {
    "duration": 33,
    "start_time": "2023-01-08T15:44:30.402Z"
   },
   {
    "duration": 28,
    "start_time": "2023-01-08T15:44:42.582Z"
   },
   {
    "duration": 35,
    "start_time": "2023-01-08T15:44:56.783Z"
   },
   {
    "duration": 1351,
    "start_time": "2023-01-08T16:01:19.405Z"
   },
   {
    "duration": 394,
    "start_time": "2023-01-08T16:01:20.758Z"
   },
   {
    "duration": 92,
    "start_time": "2023-01-08T16:01:21.156Z"
   },
   {
    "duration": 267,
    "start_time": "2023-01-08T16:01:21.250Z"
   },
   {
    "duration": 15,
    "start_time": "2023-01-08T16:01:21.519Z"
   },
   {
    "duration": 11,
    "start_time": "2023-01-08T16:01:21.535Z"
   },
   {
    "duration": 15,
    "start_time": "2023-01-08T16:01:21.548Z"
   },
   {
    "duration": 38,
    "start_time": "2023-01-08T16:01:21.564Z"
   },
   {
    "duration": 7,
    "start_time": "2023-01-08T16:01:21.603Z"
   },
   {
    "duration": 9,
    "start_time": "2023-01-08T16:01:21.612Z"
   },
   {
    "duration": 20,
    "start_time": "2023-01-08T16:01:21.623Z"
   },
   {
    "duration": 81,
    "start_time": "2023-01-08T16:01:21.644Z"
   },
   {
    "duration": 4,
    "start_time": "2023-01-08T16:01:21.728Z"
   },
   {
    "duration": 850,
    "start_time": "2023-01-08T16:01:21.733Z"
   },
   {
    "duration": 720,
    "start_time": "2023-01-08T16:01:22.585Z"
   },
   {
    "duration": 831,
    "start_time": "2023-01-08T16:01:23.307Z"
   },
   {
    "duration": 340,
    "start_time": "2023-01-08T16:01:24.140Z"
   },
   {
    "duration": 651,
    "start_time": "2023-01-08T16:01:24.481Z"
   },
   {
    "duration": 26,
    "start_time": "2023-01-08T16:01:25.134Z"
   },
   {
    "duration": 52,
    "start_time": "2023-01-08T16:01:25.161Z"
   },
   {
    "duration": 46,
    "start_time": "2023-01-08T16:01:25.215Z"
   },
   {
    "duration": 0,
    "start_time": "2023-01-08T16:01:25.262Z"
   },
   {
    "duration": 0,
    "start_time": "2023-01-08T16:01:25.263Z"
   },
   {
    "duration": 0,
    "start_time": "2023-01-08T16:01:25.264Z"
   },
   {
    "duration": 0,
    "start_time": "2023-01-08T16:01:25.266Z"
   },
   {
    "duration": 0,
    "start_time": "2023-01-08T16:01:25.267Z"
   },
   {
    "duration": 0,
    "start_time": "2023-01-08T16:01:25.268Z"
   },
   {
    "duration": 1345,
    "start_time": "2023-01-08T16:20:11.254Z"
   },
   {
    "duration": 372,
    "start_time": "2023-01-08T16:20:12.600Z"
   },
   {
    "duration": 94,
    "start_time": "2023-01-08T16:20:12.974Z"
   },
   {
    "duration": 274,
    "start_time": "2023-01-08T16:20:13.070Z"
   },
   {
    "duration": 15,
    "start_time": "2023-01-08T16:20:13.347Z"
   },
   {
    "duration": 13,
    "start_time": "2023-01-08T16:20:13.363Z"
   },
   {
    "duration": 15,
    "start_time": "2023-01-08T16:20:13.398Z"
   },
   {
    "duration": 10,
    "start_time": "2023-01-08T16:20:13.414Z"
   },
   {
    "duration": 6,
    "start_time": "2023-01-08T16:20:13.425Z"
   },
   {
    "duration": 10,
    "start_time": "2023-01-08T16:20:13.432Z"
   },
   {
    "duration": 20,
    "start_time": "2023-01-08T16:20:13.443Z"
   },
   {
    "duration": 55,
    "start_time": "2023-01-08T16:20:13.497Z"
   },
   {
    "duration": 5,
    "start_time": "2023-01-08T16:20:13.553Z"
   },
   {
    "duration": 851,
    "start_time": "2023-01-08T16:20:13.560Z"
   },
   {
    "duration": 823,
    "start_time": "2023-01-08T16:20:14.412Z"
   },
   {
    "duration": 822,
    "start_time": "2023-01-08T16:20:15.236Z"
   },
   {
    "duration": 342,
    "start_time": "2023-01-08T16:20:16.060Z"
   },
   {
    "duration": 548,
    "start_time": "2023-01-08T16:20:16.403Z"
   },
   {
    "duration": 18,
    "start_time": "2023-01-08T16:20:16.953Z"
   },
   {
    "duration": 4,
    "start_time": "2023-01-08T16:20:16.972Z"
   },
   {
    "duration": 24,
    "start_time": "2023-01-08T16:20:16.978Z"
   },
   {
    "duration": 30,
    "start_time": "2023-01-08T16:20:17.004Z"
   },
   {
    "duration": 131526,
    "start_time": "2023-01-08T16:20:17.037Z"
   },
   {
    "duration": 1266,
    "start_time": "2023-01-08T16:22:28.564Z"
   },
   {
    "duration": 1291,
    "start_time": "2023-01-08T16:22:29.832Z"
   },
   {
    "duration": 1333,
    "start_time": "2023-01-08T16:55:18.730Z"
   },
   {
    "duration": 400,
    "start_time": "2023-01-08T16:55:20.066Z"
   },
   {
    "duration": 93,
    "start_time": "2023-01-08T16:55:20.468Z"
   },
   {
    "duration": 300,
    "start_time": "2023-01-08T16:55:20.563Z"
   },
   {
    "duration": 17,
    "start_time": "2023-01-08T16:55:20.866Z"
   },
   {
    "duration": 12,
    "start_time": "2023-01-08T16:55:20.897Z"
   },
   {
    "duration": 18,
    "start_time": "2023-01-08T16:55:20.911Z"
   },
   {
    "duration": 12,
    "start_time": "2023-01-08T16:55:20.931Z"
   },
   {
    "duration": 9,
    "start_time": "2023-01-08T16:55:20.944Z"
   },
   {
    "duration": 46,
    "start_time": "2023-01-08T16:55:20.955Z"
   },
   {
    "duration": 26,
    "start_time": "2023-01-08T16:55:21.003Z"
   },
   {
    "duration": 82,
    "start_time": "2023-01-08T16:55:21.032Z"
   },
   {
    "duration": 5,
    "start_time": "2023-01-08T16:55:21.116Z"
   },
   {
    "duration": 898,
    "start_time": "2023-01-08T16:55:21.124Z"
   },
   {
    "duration": 776,
    "start_time": "2023-01-08T16:55:22.024Z"
   },
   {
    "duration": 924,
    "start_time": "2023-01-08T16:55:22.802Z"
   },
   {
    "duration": 442,
    "start_time": "2023-01-08T16:55:23.728Z"
   },
   {
    "duration": 757,
    "start_time": "2023-01-08T16:55:24.172Z"
   },
   {
    "duration": 20,
    "start_time": "2023-01-08T16:55:24.930Z"
   },
   {
    "duration": 4,
    "start_time": "2023-01-08T16:55:24.952Z"
   },
   {
    "duration": 17,
    "start_time": "2023-01-08T16:55:24.958Z"
   },
   {
    "duration": 39,
    "start_time": "2023-01-08T16:55:24.976Z"
   },
   {
    "duration": 132993,
    "start_time": "2023-01-08T16:55:25.017Z"
   },
   {
    "duration": 1374,
    "start_time": "2023-01-08T16:57:38.012Z"
   },
   {
    "duration": 1301,
    "start_time": "2023-01-08T16:57:39.387Z"
   },
   {
    "duration": 44,
    "start_time": "2023-01-08T16:57:40.697Z"
   },
   {
    "duration": 1347,
    "start_time": "2023-01-08T17:03:04.632Z"
   },
   {
    "duration": 392,
    "start_time": "2023-01-08T17:03:05.980Z"
   },
   {
    "duration": 97,
    "start_time": "2023-01-08T17:03:06.374Z"
   },
   {
    "duration": 287,
    "start_time": "2023-01-08T17:03:06.472Z"
   },
   {
    "duration": 14,
    "start_time": "2023-01-08T17:03:06.761Z"
   },
   {
    "duration": 26,
    "start_time": "2023-01-08T17:03:06.777Z"
   },
   {
    "duration": 15,
    "start_time": "2023-01-08T17:03:06.804Z"
   },
   {
    "duration": 9,
    "start_time": "2023-01-08T17:03:06.820Z"
   },
   {
    "duration": 7,
    "start_time": "2023-01-08T17:03:06.830Z"
   },
   {
    "duration": 8,
    "start_time": "2023-01-08T17:03:06.838Z"
   },
   {
    "duration": 20,
    "start_time": "2023-01-08T17:03:06.847Z"
   },
   {
    "duration": 47,
    "start_time": "2023-01-08T17:03:06.898Z"
   },
   {
    "duration": 5,
    "start_time": "2023-01-08T17:03:06.946Z"
   },
   {
    "duration": 859,
    "start_time": "2023-01-08T17:03:06.954Z"
   },
   {
    "duration": 704,
    "start_time": "2023-01-08T17:03:07.815Z"
   },
   {
    "duration": 799,
    "start_time": "2023-01-08T17:03:08.521Z"
   },
   {
    "duration": 333,
    "start_time": "2023-01-08T17:03:09.322Z"
   },
   {
    "duration": 571,
    "start_time": "2023-01-08T17:03:09.656Z"
   },
   {
    "duration": 19,
    "start_time": "2023-01-08T17:03:10.229Z"
   },
   {
    "duration": 4,
    "start_time": "2023-01-08T17:03:10.249Z"
   },
   {
    "duration": 11,
    "start_time": "2023-01-08T17:03:10.254Z"
   },
   {
    "duration": 36,
    "start_time": "2023-01-08T17:03:10.267Z"
   },
   {
    "duration": 132763,
    "start_time": "2023-01-08T17:03:10.305Z"
   },
   {
    "duration": 1352,
    "start_time": "2023-01-08T17:05:23.070Z"
   },
   {
    "duration": 1439,
    "start_time": "2023-01-08T17:05:24.424Z"
   },
   {
    "duration": 4,
    "start_time": "2023-01-08T17:05:25.864Z"
   },
   {
    "duration": 1343,
    "start_time": "2023-01-08T17:44:54.394Z"
   },
   {
    "duration": 378,
    "start_time": "2023-01-08T17:44:55.739Z"
   },
   {
    "duration": 87,
    "start_time": "2023-01-08T17:44:56.118Z"
   },
   {
    "duration": 257,
    "start_time": "2023-01-08T17:44:56.206Z"
   },
   {
    "duration": 14,
    "start_time": "2023-01-08T17:44:56.466Z"
   },
   {
    "duration": 24,
    "start_time": "2023-01-08T17:44:56.481Z"
   },
   {
    "duration": 15,
    "start_time": "2023-01-08T17:44:56.507Z"
   },
   {
    "duration": 9,
    "start_time": "2023-01-08T17:44:56.524Z"
   },
   {
    "duration": 6,
    "start_time": "2023-01-08T17:44:56.535Z"
   },
   {
    "duration": 8,
    "start_time": "2023-01-08T17:44:56.543Z"
   },
   {
    "duration": 53,
    "start_time": "2023-01-08T17:44:56.552Z"
   },
   {
    "duration": 47,
    "start_time": "2023-01-08T17:44:56.607Z"
   },
   {
    "duration": 4,
    "start_time": "2023-01-08T17:44:56.655Z"
   },
   {
    "duration": 826,
    "start_time": "2023-01-08T17:44:56.661Z"
   },
   {
    "duration": 723,
    "start_time": "2023-01-08T17:44:57.488Z"
   },
   {
    "duration": 788,
    "start_time": "2023-01-08T17:44:58.213Z"
   },
   {
    "duration": 352,
    "start_time": "2023-01-08T17:44:59.003Z"
   },
   {
    "duration": 543,
    "start_time": "2023-01-08T17:44:59.357Z"
   },
   {
    "duration": 19,
    "start_time": "2023-01-08T17:44:59.902Z"
   },
   {
    "duration": 5,
    "start_time": "2023-01-08T17:44:59.922Z"
   },
   {
    "duration": 11,
    "start_time": "2023-01-08T17:44:59.929Z"
   },
   {
    "duration": 34,
    "start_time": "2023-01-08T17:44:59.941Z"
   },
   {
    "duration": 132368,
    "start_time": "2023-01-08T17:44:59.977Z"
   },
   {
    "duration": 1383,
    "start_time": "2023-01-08T17:47:12.347Z"
   },
   {
    "duration": 1538,
    "start_time": "2023-01-08T17:47:13.732Z"
   },
   {
    "duration": 4,
    "start_time": "2023-01-08T17:47:15.272Z"
   },
   {
    "duration": 2,
    "start_time": "2023-01-08T17:47:19.484Z"
   },
   {
    "duration": 1645,
    "start_time": "2023-01-09T06:30:46.915Z"
   },
   {
    "duration": 624,
    "start_time": "2023-01-09T06:30:48.563Z"
   },
   {
    "duration": 158,
    "start_time": "2023-01-09T06:30:49.188Z"
   },
   {
    "duration": 1226,
    "start_time": "2023-01-09T06:30:49.348Z"
   },
   {
    "duration": 17,
    "start_time": "2023-01-09T06:30:50.577Z"
   },
   {
    "duration": 25,
    "start_time": "2023-01-09T06:30:50.596Z"
   },
   {
    "duration": 22,
    "start_time": "2023-01-09T06:30:50.623Z"
   },
   {
    "duration": 12,
    "start_time": "2023-01-09T06:30:50.647Z"
   },
   {
    "duration": 42,
    "start_time": "2023-01-09T06:30:50.661Z"
   },
   {
    "duration": 17,
    "start_time": "2023-01-09T06:30:50.707Z"
   },
   {
    "duration": 49,
    "start_time": "2023-01-09T06:30:50.726Z"
   },
   {
    "duration": 56,
    "start_time": "2023-01-09T06:30:50.777Z"
   },
   {
    "duration": 5,
    "start_time": "2023-01-09T06:30:50.835Z"
   },
   {
    "duration": 900,
    "start_time": "2023-01-09T06:30:50.841Z"
   },
   {
    "duration": 818,
    "start_time": "2023-01-09T06:30:51.743Z"
   },
   {
    "duration": 951,
    "start_time": "2023-01-09T06:30:52.563Z"
   },
   {
    "duration": 403,
    "start_time": "2023-01-09T06:30:53.515Z"
   },
   {
    "duration": 851,
    "start_time": "2023-01-09T06:30:53.920Z"
   },
   {
    "duration": 19,
    "start_time": "2023-01-09T06:30:54.773Z"
   },
   {
    "duration": 38,
    "start_time": "2023-01-09T06:30:54.794Z"
   },
   {
    "duration": 46,
    "start_time": "2023-01-09T06:30:54.833Z"
   },
   {
    "duration": 73,
    "start_time": "2023-01-09T06:30:54.880Z"
   },
   {
    "duration": 149675,
    "start_time": "2023-01-09T06:30:54.955Z"
   },
   {
    "duration": 1463,
    "start_time": "2023-01-09T06:33:24.631Z"
   },
   {
    "duration": 1426,
    "start_time": "2023-01-09T06:33:26.096Z"
   },
   {
    "duration": 13,
    "start_time": "2023-01-09T06:33:27.524Z"
   },
   {
    "duration": 1432,
    "start_time": "2023-01-09T07:21:51.068Z"
   },
   {
    "duration": 392,
    "start_time": "2023-01-09T07:21:52.502Z"
   },
   {
    "duration": 98,
    "start_time": "2023-01-09T07:21:52.896Z"
   },
   {
    "duration": 304,
    "start_time": "2023-01-09T07:21:52.996Z"
   },
   {
    "duration": 18,
    "start_time": "2023-01-09T07:21:53.302Z"
   },
   {
    "duration": 25,
    "start_time": "2023-01-09T07:21:53.322Z"
   },
   {
    "duration": 17,
    "start_time": "2023-01-09T07:21:53.349Z"
   },
   {
    "duration": 10,
    "start_time": "2023-01-09T07:21:53.367Z"
   },
   {
    "duration": 7,
    "start_time": "2023-01-09T07:21:53.378Z"
   },
   {
    "duration": 10,
    "start_time": "2023-01-09T07:21:53.386Z"
   },
   {
    "duration": 59,
    "start_time": "2023-01-09T07:21:53.397Z"
   },
   {
    "duration": 53,
    "start_time": "2023-01-09T07:21:53.457Z"
   },
   {
    "duration": 5,
    "start_time": "2023-01-09T07:21:53.512Z"
   },
   {
    "duration": 948,
    "start_time": "2023-01-09T07:21:53.539Z"
   },
   {
    "duration": 855,
    "start_time": "2023-01-09T07:21:54.489Z"
   },
   {
    "duration": 973,
    "start_time": "2023-01-09T07:21:55.346Z"
   },
   {
    "duration": 408,
    "start_time": "2023-01-09T07:21:56.321Z"
   },
   {
    "duration": 847,
    "start_time": "2023-01-09T07:21:56.731Z"
   },
   {
    "duration": 76,
    "start_time": "2023-01-09T07:21:57.580Z"
   },
   {
    "duration": 6,
    "start_time": "2023-01-09T07:21:57.658Z"
   },
   {
    "duration": 14,
    "start_time": "2023-01-09T07:21:57.666Z"
   },
   {
    "duration": 26,
    "start_time": "2023-01-09T07:21:57.737Z"
   },
   {
    "duration": 153380,
    "start_time": "2023-01-09T07:21:57.765Z"
   },
   {
    "duration": 1524,
    "start_time": "2023-01-09T07:24:31.147Z"
   },
   {
    "duration": 1506,
    "start_time": "2023-01-09T07:24:32.673Z"
   },
   {
    "duration": 3,
    "start_time": "2023-01-09T07:24:34.181Z"
   },
   {
    "duration": 1622,
    "start_time": "2023-01-09T07:55:02.629Z"
   },
   {
    "duration": 443,
    "start_time": "2023-01-09T07:55:04.254Z"
   },
   {
    "duration": 99,
    "start_time": "2023-01-09T07:55:04.698Z"
   },
   {
    "duration": 288,
    "start_time": "2023-01-09T07:55:04.799Z"
   },
   {
    "duration": 16,
    "start_time": "2023-01-09T07:55:05.090Z"
   },
   {
    "duration": 28,
    "start_time": "2023-01-09T07:55:05.109Z"
   },
   {
    "duration": 20,
    "start_time": "2023-01-09T07:55:05.139Z"
   },
   {
    "duration": 13,
    "start_time": "2023-01-09T07:55:05.162Z"
   },
   {
    "duration": 9,
    "start_time": "2023-01-09T07:55:05.177Z"
   },
   {
    "duration": 49,
    "start_time": "2023-01-09T07:55:05.188Z"
   },
   {
    "duration": 22,
    "start_time": "2023-01-09T07:55:05.240Z"
   },
   {
    "duration": 54,
    "start_time": "2023-01-09T07:55:05.264Z"
   },
   {
    "duration": 23,
    "start_time": "2023-01-09T07:55:05.320Z"
   },
   {
    "duration": 1037,
    "start_time": "2023-01-09T07:55:05.347Z"
   },
   {
    "duration": 894,
    "start_time": "2023-01-09T07:55:06.386Z"
   },
   {
    "duration": 982,
    "start_time": "2023-01-09T07:55:07.282Z"
   },
   {
    "duration": 405,
    "start_time": "2023-01-09T07:55:08.265Z"
   },
   {
    "duration": 748,
    "start_time": "2023-01-09T07:55:08.672Z"
   },
   {
    "duration": 28,
    "start_time": "2023-01-09T07:55:09.423Z"
   },
   {
    "duration": 5,
    "start_time": "2023-01-09T07:55:09.453Z"
   },
   {
    "duration": 15,
    "start_time": "2023-01-09T07:55:09.459Z"
   },
   {
    "duration": 49,
    "start_time": "2023-01-09T07:55:09.475Z"
   },
   {
    "duration": 149411,
    "start_time": "2023-01-09T07:55:09.526Z"
   },
   {
    "duration": 1525,
    "start_time": "2023-01-09T07:57:38.941Z"
   },
   {
    "duration": 1498,
    "start_time": "2023-01-09T07:57:40.469Z"
   },
   {
    "duration": 5,
    "start_time": "2023-01-09T07:57:41.969Z"
   },
   {
    "duration": 10,
    "start_time": "2023-01-09T07:57:41.976Z"
   },
   {
    "duration": 4,
    "start_time": "2023-01-09T08:02:05.777Z"
   },
   {
    "duration": 8,
    "start_time": "2023-01-09T08:07:31.311Z"
   },
   {
    "duration": 145303,
    "start_time": "2023-01-09T08:07:58.431Z"
   },
   {
    "duration": 6,
    "start_time": "2023-01-09T08:10:34.546Z"
   },
   {
    "duration": 288533,
    "start_time": "2023-01-09T08:10:34.936Z"
   },
   {
    "duration": 1653,
    "start_time": "2023-01-09T09:33:43.483Z"
   },
   {
    "duration": 568,
    "start_time": "2023-01-09T09:33:45.139Z"
   },
   {
    "duration": 132,
    "start_time": "2023-01-09T09:33:45.708Z"
   },
   {
    "duration": 988,
    "start_time": "2023-01-09T09:33:45.841Z"
   },
   {
    "duration": 16,
    "start_time": "2023-01-09T09:33:46.831Z"
   },
   {
    "duration": 12,
    "start_time": "2023-01-09T09:33:46.849Z"
   },
   {
    "duration": 21,
    "start_time": "2023-01-09T09:33:46.862Z"
   },
   {
    "duration": 32,
    "start_time": "2023-01-09T09:33:46.885Z"
   },
   {
    "duration": 7,
    "start_time": "2023-01-09T09:33:46.919Z"
   },
   {
    "duration": 12,
    "start_time": "2023-01-09T09:33:46.928Z"
   },
   {
    "duration": 23,
    "start_time": "2023-01-09T09:33:46.942Z"
   },
   {
    "duration": 121,
    "start_time": "2023-01-09T09:33:46.968Z"
   },
   {
    "duration": 7,
    "start_time": "2023-01-09T09:33:47.091Z"
   },
   {
    "duration": 951,
    "start_time": "2023-01-09T09:33:47.112Z"
   },
   {
    "duration": 817,
    "start_time": "2023-01-09T09:33:48.064Z"
   },
   {
    "duration": 964,
    "start_time": "2023-01-09T09:33:48.883Z"
   },
   {
    "duration": 408,
    "start_time": "2023-01-09T09:33:49.849Z"
   },
   {
    "duration": 774,
    "start_time": "2023-01-09T09:33:50.259Z"
   },
   {
    "duration": 21,
    "start_time": "2023-01-09T09:33:51.035Z"
   },
   {
    "duration": 6,
    "start_time": "2023-01-09T09:33:51.057Z"
   },
   {
    "duration": 14,
    "start_time": "2023-01-09T09:33:51.065Z"
   },
   {
    "duration": 41,
    "start_time": "2023-01-09T09:33:51.080Z"
   },
   {
    "duration": 136250,
    "start_time": "2023-01-09T09:33:51.122Z"
   },
   {
    "duration": 1343,
    "start_time": "2023-01-09T09:36:07.373Z"
   },
   {
    "duration": 1416,
    "start_time": "2023-01-09T09:36:08.718Z"
   },
   {
    "duration": 3,
    "start_time": "2023-01-09T09:36:10.136Z"
   },
   {
    "duration": 11,
    "start_time": "2023-01-09T09:36:10.141Z"
   },
   {
    "duration": 267356,
    "start_time": "2023-01-09T09:36:10.153Z"
   },
   {
    "duration": 1501,
    "start_time": "2023-01-09T10:25:42.934Z"
   },
   {
    "duration": 356,
    "start_time": "2023-01-09T10:25:44.437Z"
   },
   {
    "duration": 99,
    "start_time": "2023-01-09T10:25:44.795Z"
   },
   {
    "duration": 273,
    "start_time": "2023-01-09T10:25:44.898Z"
   },
   {
    "duration": 16,
    "start_time": "2023-01-09T10:25:45.173Z"
   },
   {
    "duration": 26,
    "start_time": "2023-01-09T10:25:45.190Z"
   },
   {
    "duration": 17,
    "start_time": "2023-01-09T10:25:45.218Z"
   },
   {
    "duration": 9,
    "start_time": "2023-01-09T10:25:45.237Z"
   },
   {
    "duration": 7,
    "start_time": "2023-01-09T10:25:45.247Z"
   },
   {
    "duration": 11,
    "start_time": "2023-01-09T10:25:45.257Z"
   },
   {
    "duration": 57,
    "start_time": "2023-01-09T10:25:45.270Z"
   },
   {
    "duration": 51,
    "start_time": "2023-01-09T10:25:45.328Z"
   },
   {
    "duration": 5,
    "start_time": "2023-01-09T10:25:45.380Z"
   },
   {
    "duration": 949,
    "start_time": "2023-01-09T10:25:45.387Z"
   },
   {
    "duration": 893,
    "start_time": "2023-01-09T10:25:46.337Z"
   },
   {
    "duration": 935,
    "start_time": "2023-01-09T10:25:47.232Z"
   },
   {
    "duration": 400,
    "start_time": "2023-01-09T10:25:48.169Z"
   },
   {
    "duration": 669,
    "start_time": "2023-01-09T10:25:48.571Z"
   },
   {
    "duration": 20,
    "start_time": "2023-01-09T10:25:49.242Z"
   },
   {
    "duration": 6,
    "start_time": "2023-01-09T10:25:49.264Z"
   },
   {
    "duration": 46,
    "start_time": "2023-01-09T10:25:49.272Z"
   },
   {
    "duration": 37,
    "start_time": "2023-01-09T10:25:49.320Z"
   },
   {
    "duration": 136350,
    "start_time": "2023-01-09T10:25:49.359Z"
   },
   {
    "duration": 1435,
    "start_time": "2023-01-09T10:28:05.711Z"
   },
   {
    "duration": 1352,
    "start_time": "2023-01-09T10:28:07.148Z"
   },
   {
    "duration": 11,
    "start_time": "2023-01-09T10:28:08.502Z"
   },
   {
    "duration": 6,
    "start_time": "2023-01-09T10:28:08.515Z"
   },
   {
    "duration": 264292,
    "start_time": "2023-01-09T10:28:08.524Z"
   },
   {
    "duration": 1446,
    "start_time": "2023-01-09T11:03:58.589Z"
   },
   {
    "duration": 359,
    "start_time": "2023-01-09T11:04:00.037Z"
   },
   {
    "duration": 86,
    "start_time": "2023-01-09T11:04:00.398Z"
   },
   {
    "duration": 267,
    "start_time": "2023-01-09T11:04:00.486Z"
   },
   {
    "duration": 17,
    "start_time": "2023-01-09T11:04:00.755Z"
   },
   {
    "duration": 23,
    "start_time": "2023-01-09T11:04:00.774Z"
   },
   {
    "duration": 26,
    "start_time": "2023-01-09T11:04:00.800Z"
   },
   {
    "duration": 10,
    "start_time": "2023-01-09T11:04:00.828Z"
   },
   {
    "duration": 10,
    "start_time": "2023-01-09T11:04:00.840Z"
   },
   {
    "duration": 18,
    "start_time": "2023-01-09T11:04:00.852Z"
   },
   {
    "duration": 42,
    "start_time": "2023-01-09T11:04:00.872Z"
   },
   {
    "duration": 57,
    "start_time": "2023-01-09T11:04:00.916Z"
   },
   {
    "duration": 5,
    "start_time": "2023-01-09T11:04:00.974Z"
   },
   {
    "duration": 956,
    "start_time": "2023-01-09T11:04:00.982Z"
   },
   {
    "duration": 833,
    "start_time": "2023-01-09T11:04:01.940Z"
   },
   {
    "duration": 910,
    "start_time": "2023-01-09T11:04:02.775Z"
   },
   {
    "duration": 414,
    "start_time": "2023-01-09T11:04:03.687Z"
   },
   {
    "duration": 715,
    "start_time": "2023-01-09T11:04:04.103Z"
   },
   {
    "duration": 21,
    "start_time": "2023-01-09T11:04:04.821Z"
   },
   {
    "duration": 6,
    "start_time": "2023-01-09T11:04:04.844Z"
   },
   {
    "duration": 20,
    "start_time": "2023-01-09T11:04:04.851Z"
   },
   {
    "duration": 45,
    "start_time": "2023-01-09T11:04:04.873Z"
   },
   {
    "duration": 22408,
    "start_time": "2023-01-09T11:04:04.920Z"
   },
   {
    "duration": 0,
    "start_time": "2023-01-09T11:04:27.330Z"
   },
   {
    "duration": 0,
    "start_time": "2023-01-09T11:04:27.331Z"
   },
   {
    "duration": 0,
    "start_time": "2023-01-09T11:04:27.335Z"
   },
   {
    "duration": 0,
    "start_time": "2023-01-09T11:04:27.338Z"
   },
   {
    "duration": 0,
    "start_time": "2023-01-09T11:04:27.339Z"
   },
   {
    "duration": 4,
    "start_time": "2023-01-09T11:04:34.397Z"
   },
   {
    "duration": 5,
    "start_time": "2023-01-09T11:05:01.109Z"
   },
   {
    "duration": 267413,
    "start_time": "2023-01-09T11:05:01.400Z"
   },
   {
    "duration": 1463,
    "start_time": "2023-01-09T12:03:36.998Z"
   },
   {
    "duration": 389,
    "start_time": "2023-01-09T12:03:38.463Z"
   },
   {
    "duration": 93,
    "start_time": "2023-01-09T12:03:38.854Z"
   },
   {
    "duration": 282,
    "start_time": "2023-01-09T12:03:38.949Z"
   },
   {
    "duration": 16,
    "start_time": "2023-01-09T12:03:39.233Z"
   },
   {
    "duration": 10,
    "start_time": "2023-01-09T12:03:39.251Z"
   },
   {
    "duration": 26,
    "start_time": "2023-01-09T12:03:39.263Z"
   },
   {
    "duration": 29,
    "start_time": "2023-01-09T12:03:39.291Z"
   },
   {
    "duration": 9,
    "start_time": "2023-01-09T12:03:39.322Z"
   },
   {
    "duration": 18,
    "start_time": "2023-01-09T12:03:39.333Z"
   },
   {
    "duration": 22,
    "start_time": "2023-01-09T12:03:39.353Z"
   },
   {
    "duration": 82,
    "start_time": "2023-01-09T12:03:39.377Z"
   },
   {
    "duration": 5,
    "start_time": "2023-01-09T12:03:39.461Z"
   },
   {
    "duration": 981,
    "start_time": "2023-01-09T12:03:39.469Z"
   },
   {
    "duration": 911,
    "start_time": "2023-01-09T12:03:40.451Z"
   },
   {
    "duration": 992,
    "start_time": "2023-01-09T12:03:41.363Z"
   },
   {
    "duration": 428,
    "start_time": "2023-01-09T12:03:42.356Z"
   },
   {
    "duration": 660,
    "start_time": "2023-01-09T12:03:42.785Z"
   },
   {
    "duration": 20,
    "start_time": "2023-01-09T12:03:43.448Z"
   },
   {
    "duration": 5,
    "start_time": "2023-01-09T12:03:43.470Z"
   },
   {
    "duration": 14,
    "start_time": "2023-01-09T12:03:43.476Z"
   },
   {
    "duration": 39,
    "start_time": "2023-01-09T12:03:43.492Z"
   },
   {
    "duration": 8598,
    "start_time": "2023-01-09T12:03:43.532Z"
   },
   {
    "duration": 0,
    "start_time": "2023-01-09T12:03:52.132Z"
   },
   {
    "duration": 0,
    "start_time": "2023-01-09T12:03:52.133Z"
   },
   {
    "duration": 0,
    "start_time": "2023-01-09T12:03:52.133Z"
   },
   {
    "duration": 0,
    "start_time": "2023-01-09T12:03:52.135Z"
   },
   {
    "duration": 0,
    "start_time": "2023-01-09T12:03:52.136Z"
   },
   {
    "duration": 0,
    "start_time": "2023-01-09T12:03:52.138Z"
   },
   {
    "duration": 60,
    "start_time": "2023-01-09T12:04:08.267Z"
   },
   {
    "duration": 55,
    "start_time": "2023-01-09T12:05:27.097Z"
   },
   {
    "duration": 50,
    "start_time": "2023-01-09T12:06:20.257Z"
   },
   {
    "duration": 54,
    "start_time": "2023-01-09T12:06:38.917Z"
   },
   {
    "duration": 3,
    "start_time": "2023-01-09T12:06:47.187Z"
   },
   {
    "duration": 1440,
    "start_time": "2023-01-09T12:27:23.695Z"
   },
   {
    "duration": 386,
    "start_time": "2023-01-09T12:27:25.137Z"
   },
   {
    "duration": 95,
    "start_time": "2023-01-09T12:27:25.525Z"
   },
   {
    "duration": 272,
    "start_time": "2023-01-09T12:27:25.622Z"
   },
   {
    "duration": 22,
    "start_time": "2023-01-09T12:27:25.896Z"
   },
   {
    "duration": 12,
    "start_time": "2023-01-09T12:27:25.920Z"
   },
   {
    "duration": 17,
    "start_time": "2023-01-09T12:27:25.934Z"
   },
   {
    "duration": 9,
    "start_time": "2023-01-09T12:27:25.953Z"
   },
   {
    "duration": 6,
    "start_time": "2023-01-09T12:27:25.963Z"
   },
   {
    "duration": 45,
    "start_time": "2023-01-09T12:27:25.972Z"
   },
   {
    "duration": 22,
    "start_time": "2023-01-09T12:27:26.019Z"
   },
   {
    "duration": 51,
    "start_time": "2023-01-09T12:27:26.043Z"
   },
   {
    "duration": 20,
    "start_time": "2023-01-09T12:27:26.095Z"
   },
   {
    "duration": 1037,
    "start_time": "2023-01-09T12:27:26.116Z"
   },
   {
    "duration": 837,
    "start_time": "2023-01-09T12:27:27.155Z"
   },
   {
    "duration": 1012,
    "start_time": "2023-01-09T12:27:27.995Z"
   },
   {
    "duration": 422,
    "start_time": "2023-01-09T12:27:29.012Z"
   },
   {
    "duration": 672,
    "start_time": "2023-01-09T12:27:29.436Z"
   },
   {
    "duration": 22,
    "start_time": "2023-01-09T12:27:30.110Z"
   },
   {
    "duration": 61,
    "start_time": "2023-01-09T12:27:30.134Z"
   },
   {
    "duration": 71,
    "start_time": "2023-01-09T12:27:30.198Z"
   },
   {
    "duration": 0,
    "start_time": "2023-01-09T12:27:30.272Z"
   },
   {
    "duration": 0,
    "start_time": "2023-01-09T12:27:30.273Z"
   },
   {
    "duration": 0,
    "start_time": "2023-01-09T12:27:30.274Z"
   },
   {
    "duration": 0,
    "start_time": "2023-01-09T12:27:30.275Z"
   },
   {
    "duration": 0,
    "start_time": "2023-01-09T12:27:30.277Z"
   },
   {
    "duration": 0,
    "start_time": "2023-01-09T12:27:30.278Z"
   },
   {
    "duration": 0,
    "start_time": "2023-01-09T12:27:30.280Z"
   },
   {
    "duration": 0,
    "start_time": "2023-01-09T12:27:30.281Z"
   },
   {
    "duration": 10,
    "start_time": "2023-01-09T12:27:41.985Z"
   },
   {
    "duration": 25,
    "start_time": "2023-01-09T12:27:43.576Z"
   },
   {
    "duration": 3774,
    "start_time": "2023-01-09T12:27:44.396Z"
   },
   {
    "duration": 4,
    "start_time": "2023-01-09T12:27:53.205Z"
   },
   {
    "duration": 5,
    "start_time": "2023-01-09T12:27:54.276Z"
   },
   {
    "duration": 498340,
    "start_time": "2023-01-09T12:27:58.645Z"
   },
   {
    "duration": 499371,
    "start_time": "2023-01-09T12:39:49.156Z"
   },
   {
    "duration": 10,
    "start_time": "2023-01-09T12:48:29.785Z"
   },
   {
    "duration": 169,
    "start_time": "2023-01-09T12:48:39.355Z"
   },
   {
    "duration": 8,
    "start_time": "2023-01-09T12:53:14.545Z"
   },
   {
    "duration": 163181,
    "start_time": "2023-01-09T12:53:15.855Z"
   },
   {
    "duration": 1414,
    "start_time": "2023-01-09T13:22:43.323Z"
   },
   {
    "duration": 399,
    "start_time": "2023-01-09T13:22:44.739Z"
   },
   {
    "duration": 85,
    "start_time": "2023-01-09T13:22:45.140Z"
   },
   {
    "duration": 279,
    "start_time": "2023-01-09T13:22:45.227Z"
   },
   {
    "duration": 17,
    "start_time": "2023-01-09T13:22:45.512Z"
   },
   {
    "duration": 11,
    "start_time": "2023-01-09T13:22:45.531Z"
   },
   {
    "duration": 17,
    "start_time": "2023-01-09T13:22:45.543Z"
   },
   {
    "duration": 10,
    "start_time": "2023-01-09T13:22:45.561Z"
   },
   {
    "duration": 41,
    "start_time": "2023-01-09T13:22:45.573Z"
   },
   {
    "duration": 13,
    "start_time": "2023-01-09T13:22:45.616Z"
   },
   {
    "duration": 21,
    "start_time": "2023-01-09T13:22:45.630Z"
   },
   {
    "duration": 68,
    "start_time": "2023-01-09T13:22:45.653Z"
   },
   {
    "duration": 5,
    "start_time": "2023-01-09T13:22:45.723Z"
   },
   {
    "duration": 1054,
    "start_time": "2023-01-09T13:22:45.733Z"
   },
   {
    "duration": 890,
    "start_time": "2023-01-09T13:22:46.789Z"
   },
   {
    "duration": 973,
    "start_time": "2023-01-09T13:22:47.682Z"
   },
   {
    "duration": 422,
    "start_time": "2023-01-09T13:22:48.657Z"
   },
   {
    "duration": 700,
    "start_time": "2023-01-09T13:22:49.082Z"
   },
   {
    "duration": 28,
    "start_time": "2023-01-09T13:22:49.784Z"
   },
   {
    "duration": 7,
    "start_time": "2023-01-09T13:22:49.814Z"
   },
   {
    "duration": 18,
    "start_time": "2023-01-09T13:22:49.823Z"
   },
   {
    "duration": 28,
    "start_time": "2023-01-09T13:22:49.843Z"
   },
   {
    "duration": 5719,
    "start_time": "2023-01-09T13:22:49.873Z"
   },
   {
    "duration": 0,
    "start_time": "2023-01-09T13:22:55.593Z"
   },
   {
    "duration": 0,
    "start_time": "2023-01-09T13:22:55.595Z"
   },
   {
    "duration": 0,
    "start_time": "2023-01-09T13:22:55.596Z"
   },
   {
    "duration": 0,
    "start_time": "2023-01-09T13:22:55.597Z"
   },
   {
    "duration": 0,
    "start_time": "2023-01-09T13:22:55.598Z"
   },
   {
    "duration": 0,
    "start_time": "2023-01-09T13:22:55.599Z"
   },
   {
    "duration": 0,
    "start_time": "2023-01-09T13:22:55.600Z"
   },
   {
    "duration": 4,
    "start_time": "2023-01-09T13:23:01.383Z"
   },
   {
    "duration": 62,
    "start_time": "2023-01-09T13:23:04.594Z"
   },
   {
    "duration": 6,
    "start_time": "2023-01-09T13:23:08.147Z"
   },
   {
    "duration": 150303,
    "start_time": "2023-01-09T13:23:10.323Z"
   },
   {
    "duration": 4,
    "start_time": "2023-01-09T13:30:39.653Z"
   },
   {
    "duration": 3,
    "start_time": "2023-01-09T13:32:04.973Z"
   },
   {
    "duration": 4,
    "start_time": "2023-01-09T13:32:12.713Z"
   },
   {
    "duration": 1405,
    "start_time": "2023-01-09T14:06:41.656Z"
   },
   {
    "duration": 387,
    "start_time": "2023-01-09T14:06:43.062Z"
   },
   {
    "duration": 96,
    "start_time": "2023-01-09T14:06:43.453Z"
   },
   {
    "duration": 290,
    "start_time": "2023-01-09T14:06:43.552Z"
   },
   {
    "duration": 17,
    "start_time": "2023-01-09T14:06:43.844Z"
   },
   {
    "duration": 21,
    "start_time": "2023-01-09T14:06:43.863Z"
   },
   {
    "duration": 34,
    "start_time": "2023-01-09T14:06:43.886Z"
   },
   {
    "duration": 23,
    "start_time": "2023-01-09T14:06:43.922Z"
   },
   {
    "duration": 31,
    "start_time": "2023-01-09T14:06:43.947Z"
   },
   {
    "duration": 15,
    "start_time": "2023-01-09T14:06:43.980Z"
   },
   {
    "duration": 42,
    "start_time": "2023-01-09T14:06:43.997Z"
   },
   {
    "duration": 54,
    "start_time": "2023-01-09T14:06:44.041Z"
   },
   {
    "duration": 6,
    "start_time": "2023-01-09T14:06:44.099Z"
   },
   {
    "duration": 1005,
    "start_time": "2023-01-09T14:06:44.113Z"
   },
   {
    "duration": 879,
    "start_time": "2023-01-09T14:06:45.120Z"
   },
   {
    "duration": 1004,
    "start_time": "2023-01-09T14:06:46.001Z"
   },
   {
    "duration": 430,
    "start_time": "2023-01-09T14:06:47.012Z"
   },
   {
    "duration": 888,
    "start_time": "2023-01-09T14:06:47.444Z"
   },
   {
    "duration": 21,
    "start_time": "2023-01-09T14:06:48.334Z"
   },
   {
    "duration": 8,
    "start_time": "2023-01-09T14:06:48.356Z"
   },
   {
    "duration": 34,
    "start_time": "2023-01-09T14:06:48.365Z"
   },
   {
    "duration": 39,
    "start_time": "2023-01-09T14:06:48.400Z"
   },
   {
    "duration": 3591,
    "start_time": "2023-01-09T14:06:48.441Z"
   },
   {
    "duration": 0,
    "start_time": "2023-01-09T14:06:52.034Z"
   },
   {
    "duration": 0,
    "start_time": "2023-01-09T14:06:52.035Z"
   },
   {
    "duration": 0,
    "start_time": "2023-01-09T14:06:52.036Z"
   },
   {
    "duration": 0,
    "start_time": "2023-01-09T14:06:52.038Z"
   },
   {
    "duration": 0,
    "start_time": "2023-01-09T14:06:52.039Z"
   },
   {
    "duration": 0,
    "start_time": "2023-01-09T14:06:52.040Z"
   },
   {
    "duration": 0,
    "start_time": "2023-01-09T14:06:52.041Z"
   },
   {
    "duration": 0,
    "start_time": "2023-01-09T14:06:52.042Z"
   },
   {
    "duration": 0,
    "start_time": "2023-01-09T14:06:52.043Z"
   },
   {
    "duration": 4,
    "start_time": "2023-01-09T14:06:58.104Z"
   },
   {
    "duration": 3,
    "start_time": "2023-01-09T14:06:58.465Z"
   },
   {
    "duration": 6,
    "start_time": "2023-01-09T14:06:59.105Z"
   },
   {
    "duration": 4,
    "start_time": "2023-01-09T14:07:03.084Z"
   },
   {
    "duration": 110954,
    "start_time": "2023-01-09T14:07:04.425Z"
   },
   {
    "duration": 4,
    "start_time": "2023-01-09T14:10:14.495Z"
   },
   {
    "duration": 4,
    "start_time": "2023-01-09T14:11:51.929Z"
   },
   {
    "duration": 1522,
    "start_time": "2023-01-09T14:13:17.065Z"
   },
   {
    "duration": 387,
    "start_time": "2023-01-09T14:13:18.589Z"
   },
   {
    "duration": 138,
    "start_time": "2023-01-09T14:13:18.979Z"
   },
   {
    "duration": 304,
    "start_time": "2023-01-09T14:13:19.121Z"
   },
   {
    "duration": 16,
    "start_time": "2023-01-09T14:13:19.427Z"
   },
   {
    "duration": 12,
    "start_time": "2023-01-09T14:13:19.445Z"
   },
   {
    "duration": 18,
    "start_time": "2023-01-09T14:13:19.458Z"
   },
   {
    "duration": 40,
    "start_time": "2023-01-09T14:13:19.478Z"
   },
   {
    "duration": 8,
    "start_time": "2023-01-09T14:13:19.520Z"
   },
   {
    "duration": 13,
    "start_time": "2023-01-09T14:13:19.531Z"
   },
   {
    "duration": 26,
    "start_time": "2023-01-09T14:13:19.545Z"
   },
   {
    "duration": 79,
    "start_time": "2023-01-09T14:13:19.573Z"
   },
   {
    "duration": 6,
    "start_time": "2023-01-09T14:13:19.654Z"
   },
   {
    "duration": 1012,
    "start_time": "2023-01-09T14:13:19.662Z"
   },
   {
    "duration": 853,
    "start_time": "2023-01-09T14:13:20.676Z"
   },
   {
    "duration": 1018,
    "start_time": "2023-01-09T14:13:21.531Z"
   },
   {
    "duration": 545,
    "start_time": "2023-01-09T14:13:22.551Z"
   },
   {
    "duration": 679,
    "start_time": "2023-01-09T14:13:23.098Z"
   },
   {
    "duration": 21,
    "start_time": "2023-01-09T14:13:23.779Z"
   },
   {
    "duration": 14,
    "start_time": "2023-01-09T14:13:23.801Z"
   },
   {
    "duration": 11,
    "start_time": "2023-01-09T14:13:23.817Z"
   },
   {
    "duration": 30,
    "start_time": "2023-01-09T14:13:23.830Z"
   },
   {
    "duration": 1435,
    "start_time": "2023-01-09T14:20:20.649Z"
   },
   {
    "duration": 374,
    "start_time": "2023-01-09T14:20:22.087Z"
   },
   {
    "duration": 85,
    "start_time": "2023-01-09T14:20:22.462Z"
   },
   {
    "duration": 258,
    "start_time": "2023-01-09T14:20:22.549Z"
   },
   {
    "duration": 16,
    "start_time": "2023-01-09T14:20:22.812Z"
   },
   {
    "duration": 12,
    "start_time": "2023-01-09T14:20:22.830Z"
   },
   {
    "duration": 17,
    "start_time": "2023-01-09T14:20:22.844Z"
   },
   {
    "duration": 11,
    "start_time": "2023-01-09T14:20:22.863Z"
   },
   {
    "duration": 42,
    "start_time": "2023-01-09T14:20:22.876Z"
   },
   {
    "duration": 11,
    "start_time": "2023-01-09T14:20:22.921Z"
   },
   {
    "duration": 22,
    "start_time": "2023-01-09T14:20:22.934Z"
   },
   {
    "duration": 80,
    "start_time": "2023-01-09T14:20:22.958Z"
   },
   {
    "duration": 8,
    "start_time": "2023-01-09T14:20:23.040Z"
   },
   {
    "duration": 998,
    "start_time": "2023-01-09T14:20:23.051Z"
   },
   {
    "duration": 914,
    "start_time": "2023-01-09T14:20:24.051Z"
   },
   {
    "duration": 964,
    "start_time": "2023-01-09T14:20:24.967Z"
   },
   {
    "duration": 436,
    "start_time": "2023-01-09T14:20:25.933Z"
   },
   {
    "duration": 817,
    "start_time": "2023-01-09T14:20:26.371Z"
   },
   {
    "duration": 26,
    "start_time": "2023-01-09T14:20:27.190Z"
   },
   {
    "duration": 12,
    "start_time": "2023-01-09T14:20:27.218Z"
   },
   {
    "duration": 24,
    "start_time": "2023-01-09T14:20:27.232Z"
   },
   {
    "duration": 33,
    "start_time": "2023-01-09T14:20:27.258Z"
   },
   {
    "duration": 1369,
    "start_time": "2023-01-09T14:22:17.674Z"
   },
   {
    "duration": 394,
    "start_time": "2023-01-09T14:22:19.046Z"
   },
   {
    "duration": 87,
    "start_time": "2023-01-09T14:22:19.442Z"
   },
   {
    "duration": 273,
    "start_time": "2023-01-09T14:22:19.531Z"
   },
   {
    "duration": 16,
    "start_time": "2023-01-09T14:22:19.806Z"
   },
   {
    "duration": 12,
    "start_time": "2023-01-09T14:22:19.824Z"
   },
   {
    "duration": 16,
    "start_time": "2023-01-09T14:22:19.838Z"
   },
   {
    "duration": 10,
    "start_time": "2023-01-09T14:22:19.855Z"
   },
   {
    "duration": 7,
    "start_time": "2023-01-09T14:22:19.867Z"
   },
   {
    "duration": 11,
    "start_time": "2023-01-09T14:22:19.911Z"
   },
   {
    "duration": 23,
    "start_time": "2023-01-09T14:22:19.924Z"
   },
   {
    "duration": 82,
    "start_time": "2023-01-09T14:22:19.948Z"
   },
   {
    "duration": 5,
    "start_time": "2023-01-09T14:22:20.032Z"
   },
   {
    "duration": 951,
    "start_time": "2023-01-09T14:22:20.040Z"
   },
   {
    "duration": 805,
    "start_time": "2023-01-09T14:22:20.993Z"
   },
   {
    "duration": 985,
    "start_time": "2023-01-09T14:22:21.800Z"
   },
   {
    "duration": 405,
    "start_time": "2023-01-09T14:22:22.787Z"
   },
   {
    "duration": 797,
    "start_time": "2023-01-09T14:22:23.194Z"
   },
   {
    "duration": 27,
    "start_time": "2023-01-09T14:22:23.992Z"
   },
   {
    "duration": 5,
    "start_time": "2023-01-09T14:22:24.021Z"
   },
   {
    "duration": 11,
    "start_time": "2023-01-09T14:22:24.028Z"
   },
   {
    "duration": 29,
    "start_time": "2023-01-09T14:22:24.041Z"
   },
   {
    "duration": 135755,
    "start_time": "2023-01-09T14:22:24.072Z"
   },
   {
    "duration": 1336,
    "start_time": "2023-01-09T14:24:39.828Z"
   },
   {
    "duration": 1293,
    "start_time": "2023-01-09T14:24:41.166Z"
   },
   {
    "duration": 5,
    "start_time": "2023-01-09T14:24:42.461Z"
   },
   {
    "duration": 9,
    "start_time": "2023-01-09T14:24:42.468Z"
   },
   {
    "duration": 7,
    "start_time": "2023-01-09T14:24:42.478Z"
   },
   {
    "duration": 47426,
    "start_time": "2023-01-09T14:24:42.487Z"
   },
   {
    "duration": 0,
    "start_time": "2023-01-09T14:25:29.916Z"
   },
   {
    "duration": 0,
    "start_time": "2023-01-09T14:25:29.917Z"
   },
   {
    "duration": 0,
    "start_time": "2023-01-09T14:25:29.919Z"
   },
   {
    "duration": 0,
    "start_time": "2023-01-09T14:25:29.921Z"
   },
   {
    "duration": 1015,
    "start_time": "2023-01-09T14:25:32.124Z"
   },
   {
    "duration": 990,
    "start_time": "2023-01-09T14:25:42.174Z"
   },
   {
    "duration": 412,
    "start_time": "2023-01-09T14:28:42.173Z"
   },
   {
    "duration": 1055,
    "start_time": "2023-01-09T14:28:54.254Z"
   },
   {
    "duration": 832,
    "start_time": "2023-01-09T14:29:03.454Z"
   },
   {
    "duration": 1100,
    "start_time": "2023-01-09T14:29:11.824Z"
   },
   {
    "duration": 154115,
    "start_time": "2023-01-09T14:36:03.603Z"
   },
   {
    "duration": 153808,
    "start_time": "2023-01-09T14:41:11.113Z"
   },
   {
    "duration": 6,
    "start_time": "2023-01-09T14:43:44.923Z"
   },
   {
    "duration": 99315,
    "start_time": "2023-01-09T14:45:33.173Z"
   },
   {
    "duration": 109389,
    "start_time": "2023-01-09T14:47:26.314Z"
   },
   {
    "duration": 1606,
    "start_time": "2023-01-10T15:12:49.695Z"
   },
   {
    "duration": 1991,
    "start_time": "2023-01-10T15:12:51.303Z"
   },
   {
    "duration": 430,
    "start_time": "2023-01-10T15:12:53.296Z"
   },
   {
    "duration": 424,
    "start_time": "2023-01-10T15:12:53.728Z"
   },
   {
    "duration": 17,
    "start_time": "2023-01-10T15:12:54.154Z"
   },
   {
    "duration": 26,
    "start_time": "2023-01-10T15:12:54.174Z"
   },
   {
    "duration": 21,
    "start_time": "2023-01-10T15:12:54.202Z"
   },
   {
    "duration": 11,
    "start_time": "2023-01-10T15:12:54.225Z"
   },
   {
    "duration": 7,
    "start_time": "2023-01-10T15:12:54.237Z"
   },
   {
    "duration": 12,
    "start_time": "2023-01-10T15:12:54.245Z"
   },
   {
    "duration": 22,
    "start_time": "2023-01-10T15:12:54.259Z"
   },
   {
    "duration": 76,
    "start_time": "2023-01-10T15:12:54.283Z"
   },
   {
    "duration": 5,
    "start_time": "2023-01-10T15:12:54.361Z"
   },
   {
    "duration": 959,
    "start_time": "2023-01-10T15:12:54.369Z"
   },
   {
    "duration": 833,
    "start_time": "2023-01-10T15:12:55.330Z"
   },
   {
    "duration": 1098,
    "start_time": "2023-01-10T15:12:56.165Z"
   },
   {
    "duration": 411,
    "start_time": "2023-01-10T15:12:57.265Z"
   },
   {
    "duration": 770,
    "start_time": "2023-01-10T15:12:57.679Z"
   },
   {
    "duration": 20,
    "start_time": "2023-01-10T15:12:58.451Z"
   },
   {
    "duration": 6,
    "start_time": "2023-01-10T15:12:58.473Z"
   },
   {
    "duration": 31,
    "start_time": "2023-01-10T15:12:58.481Z"
   },
   {
    "duration": 24,
    "start_time": "2023-01-10T15:12:58.515Z"
   },
   {
    "duration": 141173,
    "start_time": "2023-01-10T15:12:58.541Z"
   },
   {
    "duration": 1429,
    "start_time": "2023-01-10T15:15:19.715Z"
   },
   {
    "duration": 1467,
    "start_time": "2023-01-10T15:15:21.146Z"
   },
   {
    "duration": 4,
    "start_time": "2023-01-10T15:15:22.615Z"
   },
   {
    "duration": 8,
    "start_time": "2023-01-10T15:15:22.621Z"
   },
   {
    "duration": 9,
    "start_time": "2023-01-10T15:15:22.630Z"
   },
   {
    "duration": 48,
    "start_time": "2023-01-10T18:28:22.013Z"
   },
   {
    "duration": 1514,
    "start_time": "2023-01-10T18:28:26.396Z"
   },
   {
    "duration": 1903,
    "start_time": "2023-01-10T18:28:27.912Z"
   },
   {
    "duration": 406,
    "start_time": "2023-01-10T18:28:29.816Z"
   },
   {
    "duration": 412,
    "start_time": "2023-01-10T18:28:30.224Z"
   },
   {
    "duration": 17,
    "start_time": "2023-01-10T18:28:30.638Z"
   },
   {
    "duration": 36,
    "start_time": "2023-01-10T18:28:30.657Z"
   },
   {
    "duration": 21,
    "start_time": "2023-01-10T18:28:30.695Z"
   },
   {
    "duration": 20,
    "start_time": "2023-01-10T18:28:30.718Z"
   },
   {
    "duration": 25,
    "start_time": "2023-01-10T18:28:30.739Z"
   },
   {
    "duration": 47,
    "start_time": "2023-01-10T18:28:30.765Z"
   },
   {
    "duration": 50,
    "start_time": "2023-01-10T18:28:30.814Z"
   },
   {
    "duration": 81,
    "start_time": "2023-01-10T18:28:30.866Z"
   },
   {
    "duration": 5,
    "start_time": "2023-01-10T18:28:30.949Z"
   },
   {
    "duration": 929,
    "start_time": "2023-01-10T18:28:30.958Z"
   },
   {
    "duration": 759,
    "start_time": "2023-01-10T18:28:31.889Z"
   },
   {
    "duration": 958,
    "start_time": "2023-01-10T18:28:32.650Z"
   },
   {
    "duration": 432,
    "start_time": "2023-01-10T18:28:33.610Z"
   },
   {
    "duration": 841,
    "start_time": "2023-01-10T18:28:34.044Z"
   },
   {
    "duration": 24,
    "start_time": "2023-01-10T18:28:34.887Z"
   },
   {
    "duration": 6,
    "start_time": "2023-01-10T18:28:34.914Z"
   },
   {
    "duration": 27,
    "start_time": "2023-01-10T18:28:34.922Z"
   },
   {
    "duration": 61,
    "start_time": "2023-01-10T18:28:34.951Z"
   },
   {
    "duration": 4407,
    "start_time": "2023-01-10T18:28:35.015Z"
   },
   {
    "duration": 0,
    "start_time": "2023-01-10T18:28:39.424Z"
   },
   {
    "duration": 0,
    "start_time": "2023-01-10T18:28:39.425Z"
   },
   {
    "duration": 0,
    "start_time": "2023-01-10T18:28:39.426Z"
   },
   {
    "duration": 0,
    "start_time": "2023-01-10T18:28:39.427Z"
   },
   {
    "duration": 0,
    "start_time": "2023-01-10T18:28:39.428Z"
   },
   {
    "duration": 0,
    "start_time": "2023-01-10T18:28:39.429Z"
   },
   {
    "duration": 0,
    "start_time": "2023-01-10T18:28:39.430Z"
   },
   {
    "duration": 0,
    "start_time": "2023-01-10T18:28:39.431Z"
   },
   {
    "duration": 0,
    "start_time": "2023-01-10T18:28:39.432Z"
   },
   {
    "duration": 49,
    "start_time": "2023-01-10T18:29:06.000Z"
   },
   {
    "duration": 387,
    "start_time": "2023-01-10T18:32:10.159Z"
   },
   {
    "duration": 384,
    "start_time": "2023-01-10T18:32:21.068Z"
   },
   {
    "duration": 376,
    "start_time": "2023-01-10T18:32:46.358Z"
   },
   {
    "duration": 368,
    "start_time": "2023-01-10T18:36:19.359Z"
   },
   {
    "duration": 495,
    "start_time": "2023-01-10T18:36:57.969Z"
   },
   {
    "duration": 370,
    "start_time": "2023-01-10T18:37:46.718Z"
   },
   {
    "duration": 426,
    "start_time": "2023-01-10T18:37:58.668Z"
   },
   {
    "duration": 465,
    "start_time": "2023-01-10T18:40:36.019Z"
   },
   {
    "duration": 404,
    "start_time": "2023-01-10T18:40:42.778Z"
   },
   {
    "duration": 484,
    "start_time": "2023-01-10T18:40:57.588Z"
   },
   {
    "duration": 1571,
    "start_time": "2023-01-10T18:50:24.673Z"
   },
   {
    "duration": 382,
    "start_time": "2023-01-10T18:50:26.246Z"
   },
   {
    "duration": 93,
    "start_time": "2023-01-10T18:50:26.629Z"
   },
   {
    "duration": 267,
    "start_time": "2023-01-10T18:50:26.724Z"
   },
   {
    "duration": 15,
    "start_time": "2023-01-10T18:50:26.993Z"
   },
   {
    "duration": 11,
    "start_time": "2023-01-10T18:50:27.009Z"
   },
   {
    "duration": 14,
    "start_time": "2023-01-10T18:50:27.022Z"
   },
   {
    "duration": 9,
    "start_time": "2023-01-10T18:50:27.037Z"
   },
   {
    "duration": 7,
    "start_time": "2023-01-10T18:50:27.076Z"
   },
   {
    "duration": 11,
    "start_time": "2023-01-10T18:50:27.085Z"
   },
   {
    "duration": 20,
    "start_time": "2023-01-10T18:50:27.097Z"
   },
   {
    "duration": 71,
    "start_time": "2023-01-10T18:50:27.119Z"
   },
   {
    "duration": 45,
    "start_time": "2023-01-10T18:50:27.191Z"
   },
   {
    "duration": 8,
    "start_time": "2023-01-10T18:50:27.238Z"
   },
   {
    "duration": 886,
    "start_time": "2023-01-10T18:50:27.248Z"
   },
   {
    "duration": 835,
    "start_time": "2023-01-10T18:50:28.136Z"
   },
   {
    "duration": 954,
    "start_time": "2023-01-10T18:50:28.973Z"
   },
   {
    "duration": 407,
    "start_time": "2023-01-10T18:50:29.929Z"
   },
   {
    "duration": 930,
    "start_time": "2023-01-10T18:50:30.337Z"
   },
   {
    "duration": 414,
    "start_time": "2023-01-10T18:50:31.276Z"
   },
   {
    "duration": 626,
    "start_time": "2023-01-10T18:50:31.692Z"
   },
   {
    "duration": 19,
    "start_time": "2023-01-10T18:50:32.319Z"
   },
   {
    "duration": 16,
    "start_time": "2023-01-10T18:50:32.340Z"
   },
   {
    "duration": 18,
    "start_time": "2023-01-10T18:50:32.358Z"
   },
   {
    "duration": 32,
    "start_time": "2023-01-10T18:50:32.378Z"
   },
   {
    "duration": 5254,
    "start_time": "2023-01-10T18:50:32.412Z"
   },
   {
    "duration": 0,
    "start_time": "2023-01-10T18:50:37.668Z"
   },
   {
    "duration": 0,
    "start_time": "2023-01-10T18:50:37.677Z"
   },
   {
    "duration": 0,
    "start_time": "2023-01-10T18:50:37.678Z"
   },
   {
    "duration": 0,
    "start_time": "2023-01-10T18:50:37.679Z"
   },
   {
    "duration": 0,
    "start_time": "2023-01-10T18:50:37.680Z"
   },
   {
    "duration": 0,
    "start_time": "2023-01-10T18:50:37.681Z"
   },
   {
    "duration": 0,
    "start_time": "2023-01-10T18:50:37.683Z"
   },
   {
    "duration": 0,
    "start_time": "2023-01-10T18:50:37.683Z"
   },
   {
    "duration": 0,
    "start_time": "2023-01-10T18:50:37.684Z"
   },
   {
    "duration": 374,
    "start_time": "2023-01-10T18:51:13.934Z"
   },
   {
    "duration": 987,
    "start_time": "2023-01-10T18:51:27.133Z"
   },
   {
    "duration": 1165,
    "start_time": "2023-01-10T18:51:40.994Z"
   },
   {
    "duration": 393,
    "start_time": "2023-01-10T18:53:15.394Z"
   },
   {
    "duration": 484,
    "start_time": "2023-01-10T18:53:54.794Z"
   },
   {
    "duration": 390,
    "start_time": "2023-01-10T18:54:56.124Z"
   },
   {
    "duration": 452,
    "start_time": "2023-01-10T18:55:12.453Z"
   },
   {
    "duration": 521,
    "start_time": "2023-01-10T18:57:02.233Z"
   },
   {
    "duration": 417,
    "start_time": "2023-01-10T18:57:49.663Z"
   },
   {
    "duration": 503,
    "start_time": "2023-01-10T18:57:59.503Z"
   },
   {
    "duration": 376,
    "start_time": "2023-01-10T18:59:24.317Z"
   },
   {
    "duration": 1416,
    "start_time": "2023-01-10T19:14:04.848Z"
   },
   {
    "duration": 360,
    "start_time": "2023-01-10T19:14:06.266Z"
   },
   {
    "duration": 88,
    "start_time": "2023-01-10T19:14:06.628Z"
   },
   {
    "duration": 259,
    "start_time": "2023-01-10T19:14:06.718Z"
   },
   {
    "duration": 15,
    "start_time": "2023-01-10T19:14:06.979Z"
   },
   {
    "duration": 10,
    "start_time": "2023-01-10T19:14:06.996Z"
   },
   {
    "duration": 14,
    "start_time": "2023-01-10T19:14:07.007Z"
   },
   {
    "duration": 9,
    "start_time": "2023-01-10T19:14:07.022Z"
   },
   {
    "duration": 6,
    "start_time": "2023-01-10T19:14:07.033Z"
   },
   {
    "duration": 40,
    "start_time": "2023-01-10T19:14:07.040Z"
   },
   {
    "duration": 21,
    "start_time": "2023-01-10T19:14:07.082Z"
   },
   {
    "duration": 76,
    "start_time": "2023-01-10T19:14:07.105Z"
   },
   {
    "duration": 51,
    "start_time": "2023-01-10T19:14:07.182Z"
   },
   {
    "duration": 5,
    "start_time": "2023-01-10T19:14:07.236Z"
   },
   {
    "duration": 950,
    "start_time": "2023-01-10T19:14:07.243Z"
   },
   {
    "duration": 839,
    "start_time": "2023-01-10T19:14:08.195Z"
   },
   {
    "duration": 940,
    "start_time": "2023-01-10T19:14:09.036Z"
   },
   {
    "duration": 396,
    "start_time": "2023-01-10T19:14:09.978Z"
   },
   {
    "duration": 435,
    "start_time": "2023-01-10T19:14:10.376Z"
   },
   {
    "duration": 531,
    "start_time": "2023-01-10T19:14:10.812Z"
   },
   {
    "duration": 124,
    "start_time": "2023-01-10T19:14:11.344Z"
   },
   {
    "duration": 0,
    "start_time": "2023-01-10T19:14:11.469Z"
   },
   {
    "duration": 0,
    "start_time": "2023-01-10T19:14:11.470Z"
   },
   {
    "duration": 0,
    "start_time": "2023-01-10T19:14:11.471Z"
   },
   {
    "duration": 0,
    "start_time": "2023-01-10T19:14:11.473Z"
   },
   {
    "duration": 0,
    "start_time": "2023-01-10T19:14:11.474Z"
   },
   {
    "duration": 0,
    "start_time": "2023-01-10T19:14:11.476Z"
   },
   {
    "duration": 0,
    "start_time": "2023-01-10T19:14:11.477Z"
   },
   {
    "duration": 0,
    "start_time": "2023-01-10T19:14:11.478Z"
   },
   {
    "duration": 0,
    "start_time": "2023-01-10T19:14:11.479Z"
   },
   {
    "duration": 0,
    "start_time": "2023-01-10T19:14:11.479Z"
   },
   {
    "duration": 0,
    "start_time": "2023-01-10T19:14:11.480Z"
   },
   {
    "duration": 0,
    "start_time": "2023-01-10T19:14:11.481Z"
   },
   {
    "duration": 0,
    "start_time": "2023-01-10T19:14:11.482Z"
   },
   {
    "duration": 0,
    "start_time": "2023-01-10T19:14:11.483Z"
   },
   {
    "duration": 977,
    "start_time": "2023-01-10T19:14:29.528Z"
   },
   {
    "duration": 883,
    "start_time": "2023-01-10T19:15:28.127Z"
   },
   {
    "duration": 6,
    "start_time": "2023-01-10T19:22:23.107Z"
   },
   {
    "duration": 21,
    "start_time": "2023-01-10T19:23:04.747Z"
   },
   {
    "duration": 5,
    "start_time": "2023-01-10T19:23:09.037Z"
   },
   {
    "duration": 14,
    "start_time": "2023-01-10T19:23:09.547Z"
   },
   {
    "duration": 3,
    "start_time": "2023-01-10T19:23:20.407Z"
   },
   {
    "duration": 3,
    "start_time": "2023-01-10T19:24:35.087Z"
   },
   {
    "duration": 3,
    "start_time": "2023-01-10T19:24:35.858Z"
   },
   {
    "duration": 5,
    "start_time": "2023-01-10T19:28:03.028Z"
   },
   {
    "duration": 160615,
    "start_time": "2023-01-10T19:28:04.747Z"
   },
   {
    "duration": 161751,
    "start_time": "2023-01-10T19:30:53.217Z"
   },
   {
    "duration": 1315,
    "start_time": "2023-01-10T20:01:09.429Z"
   },
   {
    "duration": 394,
    "start_time": "2023-01-10T20:01:10.746Z"
   },
   {
    "duration": 92,
    "start_time": "2023-01-10T20:01:11.142Z"
   },
   {
    "duration": 286,
    "start_time": "2023-01-10T20:01:11.236Z"
   },
   {
    "duration": 15,
    "start_time": "2023-01-10T20:01:11.525Z"
   },
   {
    "duration": 12,
    "start_time": "2023-01-10T20:01:11.542Z"
   },
   {
    "duration": 15,
    "start_time": "2023-01-10T20:01:11.576Z"
   },
   {
    "duration": 9,
    "start_time": "2023-01-10T20:01:11.593Z"
   },
   {
    "duration": 14,
    "start_time": "2023-01-10T20:01:11.604Z"
   },
   {
    "duration": 10,
    "start_time": "2023-01-10T20:01:11.620Z"
   },
   {
    "duration": 46,
    "start_time": "2023-01-10T20:01:11.631Z"
   },
   {
    "duration": 55,
    "start_time": "2023-01-10T20:01:11.678Z"
   },
   {
    "duration": 65,
    "start_time": "2023-01-10T20:01:11.735Z"
   },
   {
    "duration": 5,
    "start_time": "2023-01-10T20:01:11.802Z"
   },
   {
    "duration": 928,
    "start_time": "2023-01-10T20:01:11.809Z"
   },
   {
    "duration": 821,
    "start_time": "2023-01-10T20:01:12.739Z"
   },
   {
    "duration": 963,
    "start_time": "2023-01-10T20:01:13.561Z"
   },
   {
    "duration": 501,
    "start_time": "2023-01-10T20:01:14.526Z"
   },
   {
    "duration": 502,
    "start_time": "2023-01-10T20:01:15.029Z"
   },
   {
    "duration": 508,
    "start_time": "2023-01-10T20:01:15.533Z"
   },
   {
    "duration": 955,
    "start_time": "2023-01-10T20:01:16.043Z"
   },
   {
    "duration": 20,
    "start_time": "2023-01-10T20:01:17.000Z"
   },
   {
    "duration": 6,
    "start_time": "2023-01-10T20:01:17.021Z"
   },
   {
    "duration": 17,
    "start_time": "2023-01-10T20:01:17.028Z"
   },
   {
    "duration": 6,
    "start_time": "2023-01-10T20:01:17.046Z"
   },
   {
    "duration": 138659,
    "start_time": "2023-01-10T20:01:17.053Z"
   },
   {
    "duration": 1472,
    "start_time": "2023-01-10T20:03:35.713Z"
   },
   {
    "duration": 1440,
    "start_time": "2023-01-10T20:03:37.187Z"
   },
   {
    "duration": 5,
    "start_time": "2023-01-10T20:03:38.629Z"
   },
   {
    "duration": 10,
    "start_time": "2023-01-10T20:03:38.635Z"
   },
   {
    "duration": 7,
    "start_time": "2023-01-10T20:03:38.647Z"
   },
   {
    "duration": 99561,
    "start_time": "2023-01-10T20:03:38.656Z"
   },
   {
    "duration": 0,
    "start_time": "2023-01-10T20:05:18.219Z"
   },
   {
    "duration": 0,
    "start_time": "2023-01-10T20:05:18.219Z"
   },
   {
    "duration": 0,
    "start_time": "2023-01-10T20:05:18.220Z"
   },
   {
    "duration": 3,
    "start_time": "2023-01-10T20:06:33.248Z"
   },
   {
    "duration": 4,
    "start_time": "2023-01-10T20:11:53.517Z"
   },
   {
    "duration": 71,
    "start_time": "2023-01-10T20:11:54.903Z"
   },
   {
    "duration": 1126662,
    "start_time": "2023-01-10T20:13:45.458Z"
   },
   {
    "duration": 2,
    "start_time": "2023-01-10T20:32:52.296Z"
   },
   {
    "duration": 3,
    "start_time": "2023-01-10T20:42:27.065Z"
   },
   {
    "duration": 2852,
    "start_time": "2023-01-10T20:42:27.069Z"
   },
   {
    "duration": 3,
    "start_time": "2023-01-10T20:42:31.627Z"
   },
   {
    "duration": 195681,
    "start_time": "2023-01-10T20:42:32.037Z"
   },
   {
    "duration": 162702,
    "start_time": "2023-01-10T20:45:51.017Z"
   },
   {
    "duration": 8,
    "start_time": "2023-01-11T05:51:40.624Z"
   },
   {
    "duration": 1682,
    "start_time": "2023-01-11T05:51:44.194Z"
   },
   {
    "duration": 595,
    "start_time": "2023-01-11T05:51:45.880Z"
   },
   {
    "duration": 170,
    "start_time": "2023-01-11T05:51:46.476Z"
   },
   {
    "duration": 1395,
    "start_time": "2023-01-11T05:51:46.647Z"
   },
   {
    "duration": 16,
    "start_time": "2023-01-11T05:51:48.045Z"
   },
   {
    "duration": 12,
    "start_time": "2023-01-11T05:51:48.064Z"
   },
   {
    "duration": 17,
    "start_time": "2023-01-11T05:51:48.078Z"
   },
   {
    "duration": 51,
    "start_time": "2023-01-11T05:51:48.097Z"
   },
   {
    "duration": 11,
    "start_time": "2023-01-11T05:51:48.150Z"
   },
   {
    "duration": 11,
    "start_time": "2023-01-11T05:51:48.163Z"
   },
   {
    "duration": 26,
    "start_time": "2023-01-11T05:51:48.177Z"
   },
   {
    "duration": 65,
    "start_time": "2023-01-11T05:51:48.225Z"
   },
   {
    "duration": 61,
    "start_time": "2023-01-11T05:51:48.292Z"
   },
   {
    "duration": 5,
    "start_time": "2023-01-11T05:51:48.357Z"
   },
   {
    "duration": 1000,
    "start_time": "2023-01-11T05:51:48.365Z"
   },
   {
    "duration": 819,
    "start_time": "2023-01-11T05:51:49.368Z"
   },
   {
    "duration": 1034,
    "start_time": "2023-01-11T05:51:50.188Z"
   },
   {
    "duration": 451,
    "start_time": "2023-01-11T05:51:51.224Z"
   },
   {
    "duration": 499,
    "start_time": "2023-01-11T05:51:51.677Z"
   },
   {
    "duration": 602,
    "start_time": "2023-01-11T05:51:52.178Z"
   },
   {
    "duration": 930,
    "start_time": "2023-01-11T05:51:52.781Z"
   },
   {
    "duration": 24,
    "start_time": "2023-01-11T05:51:53.713Z"
   },
   {
    "duration": 13,
    "start_time": "2023-01-11T05:51:53.739Z"
   },
   {
    "duration": 27,
    "start_time": "2023-01-11T05:51:53.753Z"
   },
   {
    "duration": 7,
    "start_time": "2023-01-11T05:51:53.781Z"
   },
   {
    "duration": 131692,
    "start_time": "2023-01-11T05:51:53.790Z"
   },
   {
    "duration": 1404,
    "start_time": "2023-01-11T05:54:05.484Z"
   },
   {
    "duration": 1379,
    "start_time": "2023-01-11T05:54:06.890Z"
   },
   {
    "duration": 3,
    "start_time": "2023-01-11T05:54:08.271Z"
   },
   {
    "duration": 8,
    "start_time": "2023-01-11T05:54:08.275Z"
   },
   {
    "duration": 5,
    "start_time": "2023-01-11T05:54:08.285Z"
   },
   {
    "duration": 146907,
    "start_time": "2023-01-11T05:54:08.291Z"
   },
   {
    "duration": 147779,
    "start_time": "2023-01-11T05:56:35.199Z"
   },
   {
    "duration": 3,
    "start_time": "2023-01-11T05:59:02.980Z"
   },
   {
    "duration": 836446,
    "start_time": "2023-01-11T05:59:02.985Z"
   },
   {
    "duration": 4,
    "start_time": "2023-01-11T06:12:59.433Z"
   },
   {
    "duration": 103836,
    "start_time": "2023-01-11T06:12:59.439Z"
   },
   {
    "duration": 873542,
    "start_time": "2023-01-11T06:14:44.213Z"
   },
   {
    "duration": 3,
    "start_time": "2023-01-11T06:56:58.649Z"
   },
   {
    "duration": 120,
    "start_time": "2023-01-11T06:56:59.222Z"
   },
   {
    "duration": 4,
    "start_time": "2023-01-11T06:57:02.058Z"
   },
   {
    "duration": 3,
    "start_time": "2023-01-11T06:57:02.562Z"
   },
   {
    "duration": 15277,
    "start_time": "2023-01-11T06:57:03.282Z"
   },
   {
    "duration": 1515,
    "start_time": "2023-01-11T06:57:24.135Z"
   },
   {
    "duration": 391,
    "start_time": "2023-01-11T06:57:25.652Z"
   },
   {
    "duration": 95,
    "start_time": "2023-01-11T06:57:26.045Z"
   },
   {
    "duration": 262,
    "start_time": "2023-01-11T06:57:26.141Z"
   },
   {
    "duration": 33,
    "start_time": "2023-01-11T06:57:26.405Z"
   },
   {
    "duration": 16,
    "start_time": "2023-01-11T06:57:26.440Z"
   },
   {
    "duration": 41,
    "start_time": "2023-01-11T06:57:26.458Z"
   },
   {
    "duration": 46,
    "start_time": "2023-01-11T06:57:26.501Z"
   },
   {
    "duration": 20,
    "start_time": "2023-01-11T06:57:26.548Z"
   },
   {
    "duration": 42,
    "start_time": "2023-01-11T06:57:26.570Z"
   },
   {
    "duration": 69,
    "start_time": "2023-01-11T06:57:26.614Z"
   },
   {
    "duration": 75,
    "start_time": "2023-01-11T06:57:26.686Z"
   },
   {
    "duration": 69,
    "start_time": "2023-01-11T06:57:26.763Z"
   },
   {
    "duration": 10,
    "start_time": "2023-01-11T06:57:26.837Z"
   },
   {
    "duration": 984,
    "start_time": "2023-01-11T06:57:26.848Z"
   },
   {
    "duration": 827,
    "start_time": "2023-01-11T06:57:27.833Z"
   },
   {
    "duration": 935,
    "start_time": "2023-01-11T06:57:28.662Z"
   },
   {
    "duration": 410,
    "start_time": "2023-01-11T06:57:29.599Z"
   },
   {
    "duration": 452,
    "start_time": "2023-01-11T06:57:30.011Z"
   },
   {
    "duration": 504,
    "start_time": "2023-01-11T06:57:30.464Z"
   },
   {
    "duration": 1074,
    "start_time": "2023-01-11T06:57:30.969Z"
   },
   {
    "duration": 21,
    "start_time": "2023-01-11T06:57:32.044Z"
   },
   {
    "duration": 37,
    "start_time": "2023-01-11T06:57:32.067Z"
   },
   {
    "duration": 60,
    "start_time": "2023-01-11T06:57:32.105Z"
   },
   {
    "duration": 53,
    "start_time": "2023-01-11T06:57:32.166Z"
   },
   {
    "duration": 145033,
    "start_time": "2023-01-11T06:57:32.220Z"
   },
   {
    "duration": 1489,
    "start_time": "2023-01-11T06:59:57.255Z"
   },
   {
    "duration": 1431,
    "start_time": "2023-01-11T06:59:58.745Z"
   },
   {
    "duration": 4,
    "start_time": "2023-01-11T07:00:00.178Z"
   },
   {
    "duration": 23,
    "start_time": "2023-01-11T07:00:00.184Z"
   },
   {
    "duration": 41,
    "start_time": "2023-01-11T07:00:00.209Z"
   },
   {
    "duration": 160952,
    "start_time": "2023-01-11T07:00:00.252Z"
   },
   {
    "duration": 157094,
    "start_time": "2023-01-11T07:02:41.206Z"
   },
   {
    "duration": 0,
    "start_time": "2023-01-11T07:05:18.302Z"
   },
   {
    "duration": 0,
    "start_time": "2023-01-11T07:05:18.303Z"
   },
   {
    "duration": 0,
    "start_time": "2023-01-11T07:05:18.304Z"
   },
   {
    "duration": 0,
    "start_time": "2023-01-11T07:05:18.305Z"
   },
   {
    "duration": 0,
    "start_time": "2023-01-11T07:05:18.306Z"
   },
   {
    "duration": 0,
    "start_time": "2023-01-11T07:05:18.307Z"
   },
   {
    "duration": 3,
    "start_time": "2023-01-11T07:05:35.770Z"
   },
   {
    "duration": 4,
    "start_time": "2023-01-11T07:06:42.750Z"
   },
   {
    "duration": 490606,
    "start_time": "2023-01-11T07:06:53.500Z"
   },
   {
    "duration": 517044,
    "start_time": "2023-01-11T07:19:29.340Z"
   },
   {
    "duration": 602,
    "start_time": "2023-01-11T07:28:06.386Z"
   },
   {
    "duration": 4,
    "start_time": "2023-01-11T07:28:45.974Z"
   },
   {
    "duration": 4,
    "start_time": "2023-01-11T07:28:46.336Z"
   },
   {
    "duration": 45404,
    "start_time": "2023-01-11T07:28:48.194Z"
   },
   {
    "duration": 50,
    "start_time": "2023-01-11T07:34:34.506Z"
   },
   {
    "duration": 42,
    "start_time": "2023-01-11T07:35:06.264Z"
   },
   {
    "duration": 41,
    "start_time": "2023-01-11T07:35:43.731Z"
   },
   {
    "duration": 1503,
    "start_time": "2023-01-11T07:40:31.643Z"
   },
   {
    "duration": 5,
    "start_time": "2023-01-11T07:40:53.015Z"
   },
   {
    "duration": 29185,
    "start_time": "2023-01-11T07:41:31.466Z"
   },
   {
    "duration": 28503,
    "start_time": "2023-01-11T07:42:00.654Z"
   },
   {
    "duration": 3,
    "start_time": "2023-01-11T07:42:47.887Z"
   },
   {
    "duration": 13073,
    "start_time": "2023-01-11T07:42:50.146Z"
   },
   {
    "duration": 79570,
    "start_time": "2023-01-11T07:51:49.614Z"
   },
   {
    "duration": 81000,
    "start_time": "2023-01-11T07:53:09.185Z"
   },
   {
    "duration": 1358,
    "start_time": "2023-01-11T08:06:59.676Z"
   },
   {
    "duration": 401,
    "start_time": "2023-01-11T08:07:01.040Z"
   },
   {
    "duration": 94,
    "start_time": "2023-01-11T08:07:01.445Z"
   },
   {
    "duration": 299,
    "start_time": "2023-01-11T08:07:01.541Z"
   },
   {
    "duration": 17,
    "start_time": "2023-01-11T08:07:01.842Z"
   },
   {
    "duration": 16,
    "start_time": "2023-01-11T08:07:01.861Z"
   },
   {
    "duration": 47,
    "start_time": "2023-01-11T08:07:01.879Z"
   },
   {
    "duration": 11,
    "start_time": "2023-01-11T08:07:01.937Z"
   },
   {
    "duration": 16,
    "start_time": "2023-01-11T08:07:01.950Z"
   },
   {
    "duration": 12,
    "start_time": "2023-01-11T08:07:01.967Z"
   },
   {
    "duration": 21,
    "start_time": "2023-01-11T08:07:01.981Z"
   },
   {
    "duration": 71,
    "start_time": "2023-01-11T08:07:02.004Z"
   },
   {
    "duration": 58,
    "start_time": "2023-01-11T08:07:02.078Z"
   },
   {
    "duration": 8,
    "start_time": "2023-01-11T08:07:02.138Z"
   },
   {
    "duration": 971,
    "start_time": "2023-01-11T08:07:02.147Z"
   },
   {
    "duration": 853,
    "start_time": "2023-01-11T08:07:03.120Z"
   },
   {
    "duration": 1026,
    "start_time": "2023-01-11T08:07:03.974Z"
   },
   {
    "duration": 436,
    "start_time": "2023-01-11T08:07:05.002Z"
   },
   {
    "duration": 449,
    "start_time": "2023-01-11T08:07:05.440Z"
   },
   {
    "duration": 493,
    "start_time": "2023-01-11T08:07:05.892Z"
   },
   {
    "duration": 1049,
    "start_time": "2023-01-11T08:07:06.388Z"
   },
   {
    "duration": 20,
    "start_time": "2023-01-11T08:07:07.439Z"
   },
   {
    "duration": 6,
    "start_time": "2023-01-11T08:07:07.461Z"
   },
   {
    "duration": 14,
    "start_time": "2023-01-11T08:07:07.469Z"
   },
   {
    "duration": 7,
    "start_time": "2023-01-11T08:07:07.485Z"
   },
   {
    "duration": 145483,
    "start_time": "2023-01-11T08:07:07.493Z"
   },
   {
    "duration": 47,
    "start_time": "2023-01-11T08:09:32.978Z"
   },
   {
    "duration": 42,
    "start_time": "2023-01-11T08:09:33.026Z"
   },
   {
    "duration": 4,
    "start_time": "2023-01-11T08:09:33.070Z"
   },
   {
    "duration": 9,
    "start_time": "2023-01-11T08:09:33.075Z"
   },
   {
    "duration": 7,
    "start_time": "2023-01-11T08:09:33.085Z"
   },
   {
    "duration": 165169,
    "start_time": "2023-01-11T08:09:33.094Z"
   },
   {
    "duration": 49968,
    "start_time": "2023-01-11T08:12:18.265Z"
   },
   {
    "duration": 0,
    "start_time": "2023-01-11T08:13:08.235Z"
   },
   {
    "duration": 0,
    "start_time": "2023-01-11T08:13:08.237Z"
   },
   {
    "duration": 0,
    "start_time": "2023-01-11T08:13:08.238Z"
   },
   {
    "duration": 0,
    "start_time": "2023-01-11T08:13:08.239Z"
   },
   {
    "duration": 0,
    "start_time": "2023-01-11T08:13:08.240Z"
   },
   {
    "duration": 0,
    "start_time": "2023-01-11T08:13:08.241Z"
   },
   {
    "duration": 0,
    "start_time": "2023-01-11T08:13:08.242Z"
   },
   {
    "duration": 0,
    "start_time": "2023-01-11T08:13:08.243Z"
   },
   {
    "duration": 5,
    "start_time": "2023-01-11T08:13:11.007Z"
   },
   {
    "duration": 30939,
    "start_time": "2023-01-11T08:13:26.546Z"
   },
   {
    "duration": 31284,
    "start_time": "2023-01-11T08:13:57.487Z"
   },
   {
    "duration": 4,
    "start_time": "2023-01-11T08:21:39.215Z"
   },
   {
    "duration": 4,
    "start_time": "2023-01-11T08:21:40.539Z"
   },
   {
    "duration": 11753,
    "start_time": "2023-01-11T08:21:41.840Z"
   },
   {
    "duration": 6,
    "start_time": "2023-01-11T08:26:16.445Z"
   },
   {
    "duration": 11721,
    "start_time": "2023-01-11T08:26:17.424Z"
   },
   {
    "duration": 11599,
    "start_time": "2023-01-11T08:26:29.146Z"
   },
   {
    "duration": 27,
    "start_time": "2023-01-11T08:28:19.974Z"
   },
   {
    "duration": 1481,
    "start_time": "2023-01-11T08:28:29.736Z"
   },
   {
    "duration": 371,
    "start_time": "2023-01-11T08:28:31.219Z"
   },
   {
    "duration": 100,
    "start_time": "2023-01-11T08:28:31.593Z"
   },
   {
    "duration": 263,
    "start_time": "2023-01-11T08:28:31.695Z"
   },
   {
    "duration": 17,
    "start_time": "2023-01-11T08:28:31.960Z"
   },
   {
    "duration": 28,
    "start_time": "2023-01-11T08:28:31.979Z"
   },
   {
    "duration": 20,
    "start_time": "2023-01-11T08:28:32.009Z"
   },
   {
    "duration": 14,
    "start_time": "2023-01-11T08:28:32.031Z"
   },
   {
    "duration": 18,
    "start_time": "2023-01-11T08:28:32.047Z"
   },
   {
    "duration": 12,
    "start_time": "2023-01-11T08:28:32.067Z"
   },
   {
    "duration": 31,
    "start_time": "2023-01-11T08:28:32.081Z"
   },
   {
    "duration": 55,
    "start_time": "2023-01-11T08:28:32.114Z"
   },
   {
    "duration": 62,
    "start_time": "2023-01-11T08:28:32.171Z"
   },
   {
    "duration": 8,
    "start_time": "2023-01-11T08:28:32.235Z"
   },
   {
    "duration": 948,
    "start_time": "2023-01-11T08:28:32.245Z"
   },
   {
    "duration": 819,
    "start_time": "2023-01-11T08:28:33.194Z"
   },
   {
    "duration": 1015,
    "start_time": "2023-01-11T08:28:34.021Z"
   },
   {
    "duration": 438,
    "start_time": "2023-01-11T08:28:35.038Z"
   },
   {
    "duration": 514,
    "start_time": "2023-01-11T08:28:35.478Z"
   },
   {
    "duration": 484,
    "start_time": "2023-01-11T08:28:35.993Z"
   },
   {
    "duration": 1013,
    "start_time": "2023-01-11T08:28:36.479Z"
   },
   {
    "duration": 28,
    "start_time": "2023-01-11T08:28:37.494Z"
   },
   {
    "duration": 6,
    "start_time": "2023-01-11T08:28:37.524Z"
   },
   {
    "duration": 21,
    "start_time": "2023-01-11T08:28:37.532Z"
   },
   {
    "duration": 16,
    "start_time": "2023-01-11T08:28:37.555Z"
   },
   {
    "duration": 6397,
    "start_time": "2023-01-11T08:28:37.572Z"
   },
   {
    "duration": 0,
    "start_time": "2023-01-11T08:28:43.971Z"
   },
   {
    "duration": 0,
    "start_time": "2023-01-11T08:28:43.972Z"
   },
   {
    "duration": 0,
    "start_time": "2023-01-11T08:28:43.972Z"
   },
   {
    "duration": 0,
    "start_time": "2023-01-11T08:28:43.973Z"
   },
   {
    "duration": 0,
    "start_time": "2023-01-11T08:28:43.974Z"
   },
   {
    "duration": 0,
    "start_time": "2023-01-11T08:28:43.975Z"
   },
   {
    "duration": 0,
    "start_time": "2023-01-11T08:28:43.976Z"
   },
   {
    "duration": 0,
    "start_time": "2023-01-11T08:28:43.977Z"
   },
   {
    "duration": 0,
    "start_time": "2023-01-11T08:28:43.978Z"
   },
   {
    "duration": 0,
    "start_time": "2023-01-11T08:28:43.979Z"
   },
   {
    "duration": 0,
    "start_time": "2023-01-11T08:28:43.980Z"
   },
   {
    "duration": 0,
    "start_time": "2023-01-11T08:28:43.981Z"
   },
   {
    "duration": 0,
    "start_time": "2023-01-11T08:28:43.983Z"
   },
   {
    "duration": 0,
    "start_time": "2023-01-11T08:28:43.984Z"
   },
   {
    "duration": 0,
    "start_time": "2023-01-11T08:28:43.985Z"
   },
   {
    "duration": 0,
    "start_time": "2023-01-11T08:28:43.986Z"
   },
   {
    "duration": 7,
    "start_time": "2023-01-11T08:28:48.755Z"
   },
   {
    "duration": 4,
    "start_time": "2023-01-11T08:28:52.025Z"
   },
   {
    "duration": 4,
    "start_time": "2023-01-11T08:28:52.256Z"
   },
   {
    "duration": 3,
    "start_time": "2023-01-11T08:28:59.195Z"
   },
   {
    "duration": 4,
    "start_time": "2023-01-11T08:28:59.495Z"
   },
   {
    "duration": 28,
    "start_time": "2023-01-11T08:28:59.837Z"
   },
   {
    "duration": 3,
    "start_time": "2023-01-11T08:29:57.655Z"
   },
   {
    "duration": 4,
    "start_time": "2023-01-11T08:29:58.235Z"
   },
   {
    "duration": 3612,
    "start_time": "2023-01-11T08:29:58.846Z"
   },
   {
    "duration": 1546,
    "start_time": "2023-01-11T09:03:31.646Z"
   },
   {
    "duration": 421,
    "start_time": "2023-01-11T09:03:33.195Z"
   },
   {
    "duration": 125,
    "start_time": "2023-01-11T09:03:33.618Z"
   },
   {
    "duration": 312,
    "start_time": "2023-01-11T09:03:33.745Z"
   },
   {
    "duration": 20,
    "start_time": "2023-01-11T09:03:34.060Z"
   },
   {
    "duration": 28,
    "start_time": "2023-01-11T09:03:34.081Z"
   },
   {
    "duration": 33,
    "start_time": "2023-01-11T09:03:34.111Z"
   },
   {
    "duration": 28,
    "start_time": "2023-01-11T09:03:34.146Z"
   },
   {
    "duration": 11,
    "start_time": "2023-01-11T09:03:34.176Z"
   },
   {
    "duration": 19,
    "start_time": "2023-01-11T09:03:34.190Z"
   },
   {
    "duration": 35,
    "start_time": "2023-01-11T09:03:34.211Z"
   },
   {
    "duration": 98,
    "start_time": "2023-01-11T09:03:34.248Z"
   },
   {
    "duration": 96,
    "start_time": "2023-01-11T09:03:34.350Z"
   },
   {
    "duration": 7,
    "start_time": "2023-01-11T09:03:34.454Z"
   },
   {
    "duration": 1224,
    "start_time": "2023-01-11T09:03:34.464Z"
   },
   {
    "duration": 1011,
    "start_time": "2023-01-11T09:03:35.689Z"
   },
   {
    "duration": 1054,
    "start_time": "2023-01-11T09:03:36.702Z"
   },
   {
    "duration": 496,
    "start_time": "2023-01-11T09:03:37.759Z"
   },
   {
    "duration": 494,
    "start_time": "2023-01-11T09:03:38.257Z"
   },
   {
    "duration": 537,
    "start_time": "2023-01-11T09:03:38.752Z"
   },
   {
    "duration": 1111,
    "start_time": "2023-01-11T09:03:39.291Z"
   },
   {
    "duration": 29,
    "start_time": "2023-01-11T09:03:40.404Z"
   },
   {
    "duration": 17,
    "start_time": "2023-01-11T09:03:40.435Z"
   },
   {
    "duration": 22,
    "start_time": "2023-01-11T09:03:40.454Z"
   },
   {
    "duration": 17,
    "start_time": "2023-01-11T09:03:40.478Z"
   },
   {
    "duration": 156704,
    "start_time": "2023-01-11T09:03:40.497Z"
   },
   {
    "duration": 56,
    "start_time": "2023-01-11T09:06:17.203Z"
   },
   {
    "duration": 41,
    "start_time": "2023-01-11T09:06:17.261Z"
   },
   {
    "duration": 23,
    "start_time": "2023-01-11T09:06:17.304Z"
   },
   {
    "duration": 31,
    "start_time": "2023-01-11T09:06:17.329Z"
   },
   {
    "duration": 10,
    "start_time": "2023-01-11T09:06:17.362Z"
   },
   {
    "duration": 8,
    "start_time": "2023-01-11T09:06:17.374Z"
   },
   {
    "duration": 13072,
    "start_time": "2023-01-11T09:06:17.384Z"
   },
   {
    "duration": 12604,
    "start_time": "2023-01-11T09:06:30.458Z"
   },
   {
    "duration": 4,
    "start_time": "2023-01-11T09:06:43.064Z"
   },
   {
    "duration": 498879,
    "start_time": "2023-01-11T09:06:43.070Z"
   },
   {
    "duration": 580224,
    "start_time": "2023-01-11T09:15:01.951Z"
   },
   {
    "duration": 2,
    "start_time": "2023-01-11T09:24:42.177Z"
   },
   {
    "duration": 6,
    "start_time": "2023-01-11T09:24:42.181Z"
   },
   {
    "duration": 7,
    "start_time": "2023-01-11T09:24:42.188Z"
   },
   {
    "duration": 5,
    "start_time": "2023-01-11T09:24:42.199Z"
   },
   {
    "duration": 3795,
    "start_time": "2023-01-11T09:24:42.223Z"
   },
   {
    "duration": 75,
    "start_time": "2023-01-11T09:29:21.702Z"
   },
   {
    "duration": 5,
    "start_time": "2023-01-11T09:29:36.102Z"
   },
   {
    "duration": 5,
    "start_time": "2023-01-11T09:31:50.782Z"
   },
   {
    "duration": 2079,
    "start_time": "2023-01-12T09:00:18.632Z"
   },
   {
    "duration": 604,
    "start_time": "2023-01-12T09:00:20.713Z"
   },
   {
    "duration": 168,
    "start_time": "2023-01-12T09:00:21.319Z"
   },
   {
    "duration": 1408,
    "start_time": "2023-01-12T09:00:21.489Z"
   },
   {
    "duration": 16,
    "start_time": "2023-01-12T09:00:22.899Z"
   },
   {
    "duration": 12,
    "start_time": "2023-01-12T09:00:22.916Z"
   },
   {
    "duration": 18,
    "start_time": "2023-01-12T09:00:22.937Z"
   },
   {
    "duration": 10,
    "start_time": "2023-01-12T09:00:22.957Z"
   },
   {
    "duration": 10,
    "start_time": "2023-01-12T09:00:22.969Z"
   },
   {
    "duration": 10,
    "start_time": "2023-01-12T09:00:22.983Z"
   },
   {
    "duration": 56,
    "start_time": "2023-01-12T09:00:22.995Z"
   },
   {
    "duration": 62,
    "start_time": "2023-01-12T09:00:23.053Z"
   },
   {
    "duration": 64,
    "start_time": "2023-01-12T09:00:23.117Z"
   },
   {
    "duration": 6,
    "start_time": "2023-01-12T09:00:23.183Z"
   },
   {
    "duration": 9,
    "start_time": "2023-01-12T09:00:23.191Z"
   },
   {
    "duration": 990,
    "start_time": "2023-01-12T09:00:23.201Z"
   },
   {
    "duration": 903,
    "start_time": "2023-01-12T09:00:24.193Z"
   },
   {
    "duration": 1005,
    "start_time": "2023-01-12T09:00:25.098Z"
   },
   {
    "duration": 411,
    "start_time": "2023-01-12T09:00:26.105Z"
   },
   {
    "duration": 468,
    "start_time": "2023-01-12T09:00:26.518Z"
   },
   {
    "duration": 519,
    "start_time": "2023-01-12T09:00:26.987Z"
   },
   {
    "duration": 1033,
    "start_time": "2023-01-12T09:00:27.508Z"
   },
   {
    "duration": 21,
    "start_time": "2023-01-12T09:00:28.542Z"
   },
   {
    "duration": 5,
    "start_time": "2023-01-12T09:00:28.565Z"
   },
   {
    "duration": 31,
    "start_time": "2023-01-12T09:00:28.572Z"
   },
   {
    "duration": 11,
    "start_time": "2023-01-12T09:00:28.605Z"
   },
   {
    "duration": 154793,
    "start_time": "2023-01-12T09:00:28.617Z"
   },
   {
    "duration": 52,
    "start_time": "2023-01-12T09:03:03.414Z"
   },
   {
    "duration": 45,
    "start_time": "2023-01-12T09:03:03.468Z"
   },
   {
    "duration": 5,
    "start_time": "2023-01-12T09:03:03.515Z"
   },
   {
    "duration": 24,
    "start_time": "2023-01-12T09:03:03.537Z"
   },
   {
    "duration": 27,
    "start_time": "2023-01-12T09:03:03.563Z"
   },
   {
    "duration": 29,
    "start_time": "2023-01-12T09:03:03.592Z"
   },
   {
    "duration": 13452,
    "start_time": "2023-01-12T09:03:03.623Z"
   },
   {
    "duration": 13113,
    "start_time": "2023-01-12T09:03:17.077Z"
   },
   {
    "duration": 3,
    "start_time": "2023-01-12T09:03:30.192Z"
   },
   {
    "duration": 501285,
    "start_time": "2023-01-12T09:03:30.197Z"
   },
   {
    "duration": 562623,
    "start_time": "2023-01-12T09:11:51.484Z"
   },
   {
    "duration": 3,
    "start_time": "2023-01-12T09:21:14.109Z"
   },
   {
    "duration": 24,
    "start_time": "2023-01-12T09:21:14.114Z"
   },
   {
    "duration": 10,
    "start_time": "2023-01-12T09:21:14.140Z"
   },
   {
    "duration": 12,
    "start_time": "2023-01-12T09:21:14.152Z"
   },
   {
    "duration": 4129,
    "start_time": "2023-01-12T09:21:14.166Z"
   },
   {
    "duration": 50,
    "start_time": "2023-01-12T10:09:20.945Z"
   },
   {
    "duration": 1591,
    "start_time": "2023-01-12T10:09:25.946Z"
   },
   {
    "duration": 1896,
    "start_time": "2023-01-12T10:09:27.539Z"
   },
   {
    "duration": 411,
    "start_time": "2023-01-12T10:09:29.438Z"
   },
   {
    "duration": 441,
    "start_time": "2023-01-12T10:09:29.851Z"
   },
   {
    "duration": 17,
    "start_time": "2023-01-12T10:09:30.294Z"
   },
   {
    "duration": 11,
    "start_time": "2023-01-12T10:09:30.313Z"
   },
   {
    "duration": 33,
    "start_time": "2023-01-12T10:09:30.326Z"
   },
   {
    "duration": 10,
    "start_time": "2023-01-12T10:09:30.361Z"
   },
   {
    "duration": 8,
    "start_time": "2023-01-12T10:09:30.373Z"
   },
   {
    "duration": 23,
    "start_time": "2023-01-12T10:09:30.383Z"
   },
   {
    "duration": 50,
    "start_time": "2023-01-12T10:09:30.412Z"
   },
   {
    "duration": 81,
    "start_time": "2023-01-12T10:09:30.464Z"
   },
   {
    "duration": 54,
    "start_time": "2023-01-12T10:09:30.547Z"
   },
   {
    "duration": 6,
    "start_time": "2023-01-12T10:09:30.614Z"
   },
   {
    "duration": 19,
    "start_time": "2023-01-12T10:09:30.622Z"
   },
   {
    "duration": 999,
    "start_time": "2023-01-12T10:09:30.643Z"
   },
   {
    "duration": 837,
    "start_time": "2023-01-12T10:09:31.644Z"
   },
   {
    "duration": 983,
    "start_time": "2023-01-12T10:09:32.482Z"
   },
   {
    "duration": 433,
    "start_time": "2023-01-12T10:09:33.467Z"
   },
   {
    "duration": 449,
    "start_time": "2023-01-12T10:09:33.902Z"
   },
   {
    "duration": 500,
    "start_time": "2023-01-12T10:09:34.352Z"
   },
   {
    "duration": 1035,
    "start_time": "2023-01-12T10:09:34.854Z"
   },
   {
    "duration": 26,
    "start_time": "2023-01-12T10:09:35.891Z"
   },
   {
    "duration": 5,
    "start_time": "2023-01-12T10:09:35.920Z"
   },
   {
    "duration": 22,
    "start_time": "2023-01-12T10:09:35.926Z"
   },
   {
    "duration": 4,
    "start_time": "2023-01-12T10:09:35.950Z"
   },
   {
    "duration": 137284,
    "start_time": "2023-01-12T10:09:35.955Z"
   },
   {
    "duration": 40,
    "start_time": "2023-01-12T10:11:53.240Z"
   },
   {
    "duration": 53,
    "start_time": "2023-01-12T10:11:53.281Z"
   },
   {
    "duration": 6,
    "start_time": "2023-01-12T10:11:53.335Z"
   },
   {
    "duration": 21,
    "start_time": "2023-01-12T10:11:53.342Z"
   },
   {
    "duration": 8,
    "start_time": "2023-01-12T10:11:53.365Z"
   },
   {
    "duration": 10,
    "start_time": "2023-01-12T10:11:53.375Z"
   },
   {
    "duration": 11862,
    "start_time": "2023-01-12T10:11:53.387Z"
   },
   {
    "duration": 11900,
    "start_time": "2023-01-12T10:12:05.251Z"
   },
   {
    "duration": 3,
    "start_time": "2023-01-12T10:12:17.152Z"
   },
   {
    "duration": 441262,
    "start_time": "2023-01-12T10:12:17.157Z"
   },
   {
    "duration": 123991,
    "start_time": "2023-01-12T10:19:38.420Z"
   },
   {
    "duration": 2,
    "start_time": "2023-01-12T10:21:42.413Z"
   },
   {
    "duration": 11,
    "start_time": "2023-01-12T10:21:42.418Z"
   },
   {
    "duration": 6,
    "start_time": "2023-01-12T10:21:42.434Z"
   },
   {
    "duration": 14,
    "start_time": "2023-01-12T10:21:42.442Z"
   },
   {
    "duration": 3470,
    "start_time": "2023-01-12T10:21:42.458Z"
   },
   {
    "duration": 565228,
    "start_time": "2023-01-12T10:21:50.845Z"
   },
   {
    "duration": 4,
    "start_time": "2023-01-12T10:31:54.074Z"
   },
   {
    "duration": 4,
    "start_time": "2023-01-12T10:31:54.464Z"
   },
   {
    "duration": 3745,
    "start_time": "2023-01-12T10:31:55.434Z"
   },
   {
    "duration": 6,
    "start_time": "2023-01-12T10:33:02.694Z"
   },
   {
    "duration": 12369,
    "start_time": "2023-01-12T10:33:04.679Z"
   },
   {
    "duration": 12105,
    "start_time": "2023-01-12T10:33:17.051Z"
   },
   {
    "duration": 1625,
    "start_time": "2023-01-12T14:18:03.189Z"
   },
   {
    "duration": 540,
    "start_time": "2023-01-12T14:18:04.815Z"
   },
   {
    "duration": 147,
    "start_time": "2023-01-12T14:18:05.357Z"
   },
   {
    "duration": 1100,
    "start_time": "2023-01-12T14:18:05.505Z"
   },
   {
    "duration": 15,
    "start_time": "2023-01-12T14:18:06.607Z"
   },
   {
    "duration": 21,
    "start_time": "2023-01-12T14:18:06.624Z"
   },
   {
    "duration": 19,
    "start_time": "2023-01-12T14:18:06.647Z"
   },
   {
    "duration": 17,
    "start_time": "2023-01-12T14:18:06.668Z"
   },
   {
    "duration": 26,
    "start_time": "2023-01-12T14:18:06.686Z"
   },
   {
    "duration": 17,
    "start_time": "2023-01-12T14:18:06.714Z"
   },
   {
    "duration": 22,
    "start_time": "2023-01-12T14:18:06.732Z"
   },
   {
    "duration": 52,
    "start_time": "2023-01-12T14:18:06.756Z"
   },
   {
    "duration": 55,
    "start_time": "2023-01-12T14:18:06.810Z"
   },
   {
    "duration": 10,
    "start_time": "2023-01-12T14:18:06.868Z"
   },
   {
    "duration": 6,
    "start_time": "2023-01-12T14:18:06.880Z"
   },
   {
    "duration": 875,
    "start_time": "2023-01-12T14:18:06.888Z"
   },
   {
    "duration": 757,
    "start_time": "2023-01-12T14:18:07.764Z"
   },
   {
    "duration": 893,
    "start_time": "2023-01-12T14:18:08.523Z"
   },
   {
    "duration": 384,
    "start_time": "2023-01-12T14:18:09.418Z"
   },
   {
    "duration": 384,
    "start_time": "2023-01-12T14:18:09.803Z"
   },
   {
    "duration": 429,
    "start_time": "2023-01-12T14:18:10.189Z"
   },
   {
    "duration": 936,
    "start_time": "2023-01-12T14:18:10.621Z"
   },
   {
    "duration": 26,
    "start_time": "2023-01-12T14:18:11.558Z"
   },
   {
    "duration": 6,
    "start_time": "2023-01-12T14:18:11.585Z"
   },
   {
    "duration": 20,
    "start_time": "2023-01-12T14:18:11.592Z"
   },
   {
    "duration": 6,
    "start_time": "2023-01-12T14:18:11.614Z"
   },
   {
    "duration": 11771,
    "start_time": "2023-01-12T14:18:11.621Z"
   },
   {
    "duration": 0,
    "start_time": "2023-01-12T14:18:23.394Z"
   },
   {
    "duration": 0,
    "start_time": "2023-01-12T14:18:23.395Z"
   },
   {
    "duration": 0,
    "start_time": "2023-01-12T14:18:23.397Z"
   },
   {
    "duration": 0,
    "start_time": "2023-01-12T14:18:23.398Z"
   },
   {
    "duration": 0,
    "start_time": "2023-01-12T14:18:23.399Z"
   },
   {
    "duration": 0,
    "start_time": "2023-01-12T14:18:23.400Z"
   },
   {
    "duration": 0,
    "start_time": "2023-01-12T14:18:23.401Z"
   },
   {
    "duration": 0,
    "start_time": "2023-01-12T14:18:23.402Z"
   },
   {
    "duration": 0,
    "start_time": "2023-01-12T14:18:23.403Z"
   },
   {
    "duration": 0,
    "start_time": "2023-01-12T14:18:23.404Z"
   },
   {
    "duration": 0,
    "start_time": "2023-01-12T14:18:23.405Z"
   },
   {
    "duration": 0,
    "start_time": "2023-01-12T14:18:23.406Z"
   },
   {
    "duration": 0,
    "start_time": "2023-01-12T14:18:23.407Z"
   },
   {
    "duration": 0,
    "start_time": "2023-01-12T14:18:23.408Z"
   },
   {
    "duration": 0,
    "start_time": "2023-01-12T14:18:23.409Z"
   },
   {
    "duration": 0,
    "start_time": "2023-01-12T14:18:23.410Z"
   },
   {
    "duration": 6,
    "start_time": "2023-01-12T14:18:27.329Z"
   },
   {
    "duration": 4,
    "start_time": "2023-01-12T14:18:31.148Z"
   },
   {
    "duration": 3,
    "start_time": "2023-01-12T14:18:31.398Z"
   },
   {
    "duration": 3,
    "start_time": "2023-01-12T14:19:09.369Z"
   },
   {
    "duration": 31650,
    "start_time": "2023-01-12T14:19:20.838Z"
   },
   {
    "duration": 30862,
    "start_time": "2023-01-12T14:19:52.490Z"
   },
   {
    "duration": 11764,
    "start_time": "2023-01-12T14:21:19.739Z"
   },
   {
    "duration": 10617,
    "start_time": "2023-01-12T14:21:33.890Z"
   },
   {
    "duration": 3,
    "start_time": "2023-01-12T14:22:40.849Z"
   },
   {
    "duration": 84095,
    "start_time": "2023-01-12T14:22:41.499Z"
   },
   {
    "duration": 82955,
    "start_time": "2023-01-12T14:24:05.596Z"
   },
   {
    "duration": 3,
    "start_time": "2023-01-12T14:28:00.278Z"
   },
   {
    "duration": 4,
    "start_time": "2023-01-12T14:28:02.488Z"
   },
   {
    "duration": 2692,
    "start_time": "2023-01-12T14:28:04.278Z"
   },
   {
    "duration": 1373,
    "start_time": "2023-01-12T14:32:29.268Z"
   },
   {
    "duration": 365,
    "start_time": "2023-01-12T14:32:30.643Z"
   },
   {
    "duration": 87,
    "start_time": "2023-01-12T14:32:31.010Z"
   },
   {
    "duration": 257,
    "start_time": "2023-01-12T14:32:31.099Z"
   },
   {
    "duration": 20,
    "start_time": "2023-01-12T14:32:31.358Z"
   },
   {
    "duration": 10,
    "start_time": "2023-01-12T14:32:31.380Z"
   },
   {
    "duration": 24,
    "start_time": "2023-01-12T14:32:31.392Z"
   },
   {
    "duration": 9,
    "start_time": "2023-01-12T14:32:31.419Z"
   },
   {
    "duration": 6,
    "start_time": "2023-01-12T14:32:31.429Z"
   },
   {
    "duration": 14,
    "start_time": "2023-01-12T14:32:31.437Z"
   },
   {
    "duration": 43,
    "start_time": "2023-01-12T14:32:31.453Z"
   },
   {
    "duration": 56,
    "start_time": "2023-01-12T14:32:31.498Z"
   },
   {
    "duration": 54,
    "start_time": "2023-01-12T14:32:31.555Z"
   },
   {
    "duration": 14,
    "start_time": "2023-01-12T14:32:31.611Z"
   },
   {
    "duration": 21,
    "start_time": "2023-01-12T14:32:31.626Z"
   },
   {
    "duration": 864,
    "start_time": "2023-01-12T14:32:31.649Z"
   },
   {
    "duration": 742,
    "start_time": "2023-01-12T14:32:32.515Z"
   },
   {
    "duration": 965,
    "start_time": "2023-01-12T14:32:33.258Z"
   },
   {
    "duration": 380,
    "start_time": "2023-01-12T14:32:34.224Z"
   },
   {
    "duration": 420,
    "start_time": "2023-01-12T14:32:34.606Z"
   },
   {
    "duration": 497,
    "start_time": "2023-01-12T14:32:35.028Z"
   },
   {
    "duration": 919,
    "start_time": "2023-01-12T14:32:35.526Z"
   },
   {
    "duration": 19,
    "start_time": "2023-01-12T14:32:36.447Z"
   },
   {
    "duration": 28,
    "start_time": "2023-01-12T14:32:36.468Z"
   },
   {
    "duration": 31,
    "start_time": "2023-01-12T14:32:36.498Z"
   },
   {
    "duration": 27,
    "start_time": "2023-01-12T14:32:36.531Z"
   },
   {
    "duration": 128546,
    "start_time": "2023-01-12T14:32:36.559Z"
   },
   {
    "duration": 39,
    "start_time": "2023-01-12T14:34:45.109Z"
   },
   {
    "duration": 49,
    "start_time": "2023-01-12T14:34:45.150Z"
   },
   {
    "duration": 5,
    "start_time": "2023-01-12T14:34:45.200Z"
   },
   {
    "duration": 10,
    "start_time": "2023-01-12T14:34:45.207Z"
   },
   {
    "duration": 11,
    "start_time": "2023-01-12T14:34:45.218Z"
   },
   {
    "duration": 7,
    "start_time": "2023-01-12T14:34:45.231Z"
   },
   {
    "duration": 11265,
    "start_time": "2023-01-12T14:34:45.239Z"
   },
   {
    "duration": 10895,
    "start_time": "2023-01-12T14:34:56.505Z"
   },
   {
    "duration": 3,
    "start_time": "2023-01-12T14:35:07.401Z"
   },
   {
    "duration": 83455,
    "start_time": "2023-01-12T14:35:07.406Z"
   },
   {
    "duration": 82130,
    "start_time": "2023-01-12T14:36:30.863Z"
   },
   {
    "duration": 3,
    "start_time": "2023-01-12T14:37:52.994Z"
   },
   {
    "duration": 14,
    "start_time": "2023-01-12T14:37:52.998Z"
   },
   {
    "duration": 9,
    "start_time": "2023-01-12T14:37:53.014Z"
   },
   {
    "duration": 30618,
    "start_time": "2023-01-12T14:37:53.025Z"
   },
   {
    "duration": 30575,
    "start_time": "2023-01-12T14:38:23.644Z"
   },
   {
    "duration": 10586,
    "start_time": "2023-01-12T14:38:54.221Z"
   },
   {
    "duration": 10405,
    "start_time": "2023-01-12T14:39:04.809Z"
   },
   {
    "duration": 64,
    "start_time": "2023-01-12T14:39:15.215Z"
   },
   {
    "duration": 8,
    "start_time": "2023-01-12T14:39:15.281Z"
   },
   {
    "duration": 2568,
    "start_time": "2023-01-12T14:39:15.291Z"
   },
   {
    "duration": 5,
    "start_time": "2023-01-12T14:39:52.528Z"
   },
   {
    "duration": 42575,
    "start_time": "2023-01-12T14:39:53.628Z"
   },
   {
    "duration": 43894,
    "start_time": "2023-01-12T14:40:36.205Z"
   },
   {
    "duration": 1354,
    "start_time": "2023-01-12T14:45:38.518Z"
   },
   {
    "duration": 382,
    "start_time": "2023-01-12T14:45:39.874Z"
   },
   {
    "duration": 102,
    "start_time": "2023-01-12T14:45:40.258Z"
   },
   {
    "duration": 266,
    "start_time": "2023-01-12T14:45:40.362Z"
   },
   {
    "duration": 15,
    "start_time": "2023-01-12T14:45:40.630Z"
   },
   {
    "duration": 12,
    "start_time": "2023-01-12T14:45:40.647Z"
   },
   {
    "duration": 30,
    "start_time": "2023-01-12T14:45:40.660Z"
   },
   {
    "duration": 10,
    "start_time": "2023-01-12T14:45:40.692Z"
   },
   {
    "duration": 7,
    "start_time": "2023-01-12T14:45:40.704Z"
   },
   {
    "duration": 35,
    "start_time": "2023-01-12T14:45:40.712Z"
   },
   {
    "duration": 28,
    "start_time": "2023-01-12T14:45:40.749Z"
   },
   {
    "duration": 50,
    "start_time": "2023-01-12T14:45:40.779Z"
   },
   {
    "duration": 55,
    "start_time": "2023-01-12T14:45:40.831Z"
   },
   {
    "duration": 14,
    "start_time": "2023-01-12T14:45:40.889Z"
   },
   {
    "duration": 11,
    "start_time": "2023-01-12T14:45:40.905Z"
   },
   {
    "duration": 882,
    "start_time": "2023-01-12T14:45:40.918Z"
   },
   {
    "duration": 762,
    "start_time": "2023-01-12T14:45:41.801Z"
   },
   {
    "duration": 907,
    "start_time": "2023-01-12T14:45:42.564Z"
   },
   {
    "duration": 381,
    "start_time": "2023-01-12T14:45:43.472Z"
   },
   {
    "duration": 497,
    "start_time": "2023-01-12T14:45:43.854Z"
   },
   {
    "duration": 477,
    "start_time": "2023-01-12T14:45:44.353Z"
   },
   {
    "duration": 1021,
    "start_time": "2023-01-12T14:45:44.832Z"
   },
   {
    "duration": 26,
    "start_time": "2023-01-12T14:45:45.855Z"
   },
   {
    "duration": 5,
    "start_time": "2023-01-12T14:45:45.883Z"
   },
   {
    "duration": 13,
    "start_time": "2023-01-12T14:45:45.890Z"
   },
   {
    "duration": 8,
    "start_time": "2023-01-12T14:45:45.905Z"
   },
   {
    "duration": 131037,
    "start_time": "2023-01-12T14:45:45.914Z"
   },
   {
    "duration": 58,
    "start_time": "2023-01-12T14:47:56.953Z"
   },
   {
    "duration": 44,
    "start_time": "2023-01-12T14:47:57.013Z"
   },
   {
    "duration": 5,
    "start_time": "2023-01-12T14:47:57.059Z"
   },
   {
    "duration": 7,
    "start_time": "2023-01-12T14:47:57.077Z"
   },
   {
    "duration": 15,
    "start_time": "2023-01-12T14:47:57.087Z"
   },
   {
    "duration": 17,
    "start_time": "2023-01-12T14:47:57.105Z"
   },
   {
    "duration": 42780,
    "start_time": "2023-01-12T14:47:57.124Z"
   },
   {
    "duration": 43797,
    "start_time": "2023-01-12T14:48:39.906Z"
   },
   {
    "duration": 3,
    "start_time": "2023-01-12T14:49:23.705Z"
   },
   {
    "duration": 83338,
    "start_time": "2023-01-12T14:49:23.709Z"
   },
   {
    "duration": 82453,
    "start_time": "2023-01-12T14:50:47.048Z"
   },
   {
    "duration": 3,
    "start_time": "2023-01-12T14:52:09.503Z"
   },
   {
    "duration": 88,
    "start_time": "2023-01-12T14:52:09.507Z"
   },
   {
    "duration": 18,
    "start_time": "2023-01-12T14:52:09.599Z"
   },
   {
    "duration": 30943,
    "start_time": "2023-01-12T14:52:09.618Z"
   },
   {
    "duration": 30798,
    "start_time": "2023-01-12T14:52:40.563Z"
   },
   {
    "duration": 10845,
    "start_time": "2023-01-12T14:53:11.362Z"
   },
   {
    "duration": 11096,
    "start_time": "2023-01-12T14:53:22.208Z"
   },
   {
    "duration": 4,
    "start_time": "2023-01-12T14:53:33.306Z"
   },
   {
    "duration": 17,
    "start_time": "2023-01-12T14:53:33.311Z"
   },
   {
    "duration": 2684,
    "start_time": "2023-01-12T14:53:33.330Z"
   }
  ],
  "kernelspec": {
   "display_name": "Python 3 (ipykernel)",
   "language": "python",
   "name": "python3"
  },
  "language_info": {
   "codemirror_mode": {
    "name": "ipython",
    "version": 3
   },
   "file_extension": ".py",
   "mimetype": "text/x-python",
   "name": "python",
   "nbconvert_exporter": "python",
   "pygments_lexer": "ipython3",
   "version": "3.9.12"
  },
  "toc": {
   "base_numbering": 1,
   "nav_menu": {},
   "number_sections": true,
   "sideBar": true,
   "skip_h1_title": true,
   "title_cell": "Содержание",
   "title_sidebar": "Contents",
   "toc_cell": true,
   "toc_position": {},
   "toc_section_display": true,
   "toc_window_display": false
  }
 },
 "nbformat": 4,
 "nbformat_minor": 2
}
