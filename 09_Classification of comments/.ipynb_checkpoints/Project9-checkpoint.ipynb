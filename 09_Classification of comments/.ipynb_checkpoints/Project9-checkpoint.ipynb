{
 "cells": [
  {
   "cell_type": "markdown",
   "metadata": {},
   "source": [
    "# Проект для «Викишоп»"
   ]
  },
  {
   "cell_type": "markdown",
   "metadata": {},
   "source": [
    "Интернет-магазин «Викишоп» запускает новый сервис. Теперь пользователи могут редактировать и дополнять описания товаров, как в вики-сообществах. То есть клиенты предлагают свои правки и комментируют изменения других. Магазину нужен инструмент, который будет искать токсичные комментарии и отправлять их на модерацию. \n",
    "\n",
    "Обучите модель классифицировать комментарии на позитивные и негативные. В вашем распоряжении набор данных с разметкой о токсичности правок.\n",
    "\n",
    "Постройте модель со значением метрики качества *F1* не меньше 0.75. \n",
    "\n",
    "**Описание данных**\n",
    "\n",
    "Данные находятся в файле `toxic_comments.csv`. Столбец *text* в нём содержит текст комментария, а *toxic* — целевой признак."
   ]
  },
  {
   "cell_type": "markdown",
   "metadata": {},
   "source": [
    "## Подготовка"
   ]
  },
  {
   "cell_type": "code",
   "execution_count": 1,
   "metadata": {},
   "outputs": [],
   "source": [
    "import pandas as pd\n",
    "import nltk\n",
    "import re\n",
    "import lightgbm as lgb\n",
    "from tqdm.notebook import tqdm\n",
    "\n",
    "from nltk.corpus import stopwords as nltk_stopwords\n",
    "from nltk.corpus import wordnet\n",
    "from nltk.stem import WordNetLemmatizer \n",
    "\n",
    "from sklearn.feature_extraction.text import TfidfVectorizer\n",
    "from sklearn.linear_model import LogisticRegression\n",
    "from sklearn.tree import DecisionTreeClassifier\n",
    "from sklearn.ensemble import RandomForestClassifier\n",
    "from sklearn.model_selection import train_test_split\n",
    "from sklearn.metrics import f1_score\n",
    "from sklearn.utils import shuffle\n",
    "from sklearn.model_selection import RandomizedSearchCV\n",
    "from sklearn.metrics import f1_score, make_scorer\n",
    "from sklearn.pipeline import Pipeline"
   ]
  },
  {
   "cell_type": "code",
   "execution_count": 12,
   "metadata": {},
   "outputs": [
    {
     "name": "stderr",
     "output_type": "stream",
     "text": [
      "[nltk_data] Downloading package stopwords to\n",
      "[nltk_data]     /Users/pavelfedorov/nltk_data...\n",
      "[nltk_data]   Package stopwords is already up-to-date!\n",
      "[nltk_data] Downloading package wordnet to\n",
      "[nltk_data]     /Users/pavelfedorov/nltk_data...\n",
      "[nltk_data]   Package wordnet is already up-to-date!\n",
      "[nltk_data] Downloading package averaged_perceptron_tagger to\n",
      "[nltk_data]     /Users/pavelfedorov/nltk_data...\n",
      "[nltk_data]   Package averaged_perceptron_tagger is already up-to-\n",
      "[nltk_data]       date!\n",
      "[nltk_data] Downloading package punkt to\n",
      "[nltk_data]     /Users/pavelfedorov/nltk_data...\n",
      "[nltk_data]   Unzipping tokenizers/punkt.zip.\n"
     ]
    },
    {
     "data": {
      "text/plain": [
       "True"
      ]
     },
     "execution_count": 12,
     "metadata": {},
     "output_type": "execute_result"
    }
   ],
   "source": [
    "nltk.download('stopwords')\n",
    "nltk.download('wordnet')\n",
    "nltk.download('averaged_perceptron_tagger')\n",
    "nltk.download('punkt')"
   ]
  },
  {
   "cell_type": "code",
   "execution_count": 3,
   "metadata": {},
   "outputs": [],
   "source": [
    "try:\n",
    "    df = pd.read_csv('/datasets/toxic_comments.csv')\n",
    "except:\n",
    "    df = pd.read_csv('/Users/pavelfedorov/Portfolio/Project9/toxic_comments.csv')"
   ]
  },
  {
   "cell_type": "code",
   "execution_count": 4,
   "metadata": {},
   "outputs": [
    {
     "data": {
      "text/html": [
       "<div>\n",
       "<style scoped>\n",
       "    .dataframe tbody tr th:only-of-type {\n",
       "        vertical-align: middle;\n",
       "    }\n",
       "\n",
       "    .dataframe tbody tr th {\n",
       "        vertical-align: top;\n",
       "    }\n",
       "\n",
       "    .dataframe thead th {\n",
       "        text-align: right;\n",
       "    }\n",
       "</style>\n",
       "<table border=\"1\" class=\"dataframe\">\n",
       "  <thead>\n",
       "    <tr style=\"text-align: right;\">\n",
       "      <th></th>\n",
       "      <th>Unnamed: 0</th>\n",
       "      <th>text</th>\n",
       "      <th>toxic</th>\n",
       "    </tr>\n",
       "  </thead>\n",
       "  <tbody>\n",
       "    <tr>\n",
       "      <th>0</th>\n",
       "      <td>0</td>\n",
       "      <td>Explanation\\nWhy the edits made under my usern...</td>\n",
       "      <td>0</td>\n",
       "    </tr>\n",
       "    <tr>\n",
       "      <th>1</th>\n",
       "      <td>1</td>\n",
       "      <td>D'aww! He matches this background colour I'm s...</td>\n",
       "      <td>0</td>\n",
       "    </tr>\n",
       "    <tr>\n",
       "      <th>2</th>\n",
       "      <td>2</td>\n",
       "      <td>Hey man, I'm really not trying to edit war. It...</td>\n",
       "      <td>0</td>\n",
       "    </tr>\n",
       "    <tr>\n",
       "      <th>3</th>\n",
       "      <td>3</td>\n",
       "      <td>\"\\nMore\\nI can't make any real suggestions on ...</td>\n",
       "      <td>0</td>\n",
       "    </tr>\n",
       "    <tr>\n",
       "      <th>4</th>\n",
       "      <td>4</td>\n",
       "      <td>You, sir, are my hero. Any chance you remember...</td>\n",
       "      <td>0</td>\n",
       "    </tr>\n",
       "  </tbody>\n",
       "</table>\n",
       "</div>"
      ],
      "text/plain": [
       "   Unnamed: 0                                               text  toxic\n",
       "0           0  Explanation\\nWhy the edits made under my usern...      0\n",
       "1           1  D'aww! He matches this background colour I'm s...      0\n",
       "2           2  Hey man, I'm really not trying to edit war. It...      0\n",
       "3           3  \"\\nMore\\nI can't make any real suggestions on ...      0\n",
       "4           4  You, sir, are my hero. Any chance you remember...      0"
      ]
     },
     "execution_count": 4,
     "metadata": {},
     "output_type": "execute_result"
    }
   ],
   "source": [
    "df.head()"
   ]
  },
  {
   "cell_type": "markdown",
   "metadata": {},
   "source": [
    "Возьмем только часть данных, чтобы не затягивать обработку"
   ]
  },
  {
   "cell_type": "code",
   "execution_count": 5,
   "metadata": {},
   "outputs": [],
   "source": [
    "df = df[0:50000]"
   ]
  },
  {
   "cell_type": "code",
   "execution_count": 6,
   "metadata": {
    "scrolled": true
   },
   "outputs": [
    {
     "name": "stdout",
     "output_type": "stream",
     "text": [
      "<class 'pandas.core.frame.DataFrame'>\n",
      "RangeIndex: 50000 entries, 0 to 49999\n",
      "Data columns (total 3 columns):\n",
      " #   Column      Non-Null Count  Dtype \n",
      "---  ------      --------------  ----- \n",
      " 0   Unnamed: 0  50000 non-null  int64 \n",
      " 1   text        50000 non-null  object\n",
      " 2   toxic       50000 non-null  int64 \n",
      "dtypes: int64(2), object(1)\n",
      "memory usage: 1.1+ MB\n"
     ]
    }
   ],
   "source": [
    "df.info()"
   ]
  },
  {
   "cell_type": "markdown",
   "metadata": {},
   "source": [
    "Напишем код для преобразования текста при помощи модели WordNetLemmatizer"
   ]
  },
  {
   "cell_type": "code",
   "execution_count": 7,
   "metadata": {},
   "outputs": [],
   "source": [
    "def get_wordnet_pos(word):\n",
    "    tag = nltk.pos_tag([word])[0][1][0].upper()\n",
    "    tag_dict = {\"J\": wordnet.ADJ,\n",
    "                \"N\": wordnet.NOUN,\n",
    "                \"V\": wordnet.VERB,\n",
    "                \"R\": wordnet.ADV}\n",
    "    return tag_dict.get(tag, wordnet.NOUN)"
   ]
  },
  {
   "cell_type": "code",
   "execution_count": 8,
   "metadata": {},
   "outputs": [],
   "source": [
    "def clear_text(text):\n",
    "    resub = re.sub(r'[^a-zA-Z]', ' ', text) \n",
    "    return ' '.join(resub.split())"
   ]
  },
  {
   "cell_type": "code",
   "execution_count": 9,
   "metadata": {},
   "outputs": [],
   "source": [
    "def lemmatize(text):\n",
    "    text = text.lower()\n",
    "    lemmatizer = WordNetLemmatizer()\n",
    "    word_list = nltk.word_tokenize(clear_text(text))\n",
    "    return ' '.join([lemmatizer.lemmatize(w, get_wordnet_pos(w)) for w in word_list])"
   ]
  },
  {
   "cell_type": "markdown",
   "metadata": {},
   "source": [
    "Проверим что все работает нормально"
   ]
  },
  {
   "cell_type": "code",
   "execution_count": 10,
   "metadata": {},
   "outputs": [
    {
     "data": {
      "text/plain": [
       "\"Explanation\\nWhy the edits made under my username Hardcore Metallica Fan were reverted? They weren't vandalisms, just closure on some GAs after I voted at New York Dolls FAC. And please don't remove the template from the talk page since I'm retired now.89.205.38.27\""
      ]
     },
     "execution_count": 10,
     "metadata": {},
     "output_type": "execute_result"
    }
   ],
   "source": [
    "df['text'][0]"
   ]
  },
  {
   "cell_type": "code",
   "execution_count": 13,
   "metadata": {},
   "outputs": [
    {
     "data": {
      "text/plain": [
       "'explanation why the edits make under my username hardcore metallica fan be revert they weren t vandalism just closure on some gas after i vote at new york doll fac and please don t remove the template from the talk page since i m retire now'"
      ]
     },
     "execution_count": 13,
     "metadata": {},
     "output_type": "execute_result"
    }
   ],
   "source": [
    "lemmatize(df['text'][0])"
   ]
  },
  {
   "cell_type": "markdown",
   "metadata": {},
   "source": [
    "Запускаем преобразование"
   ]
  },
  {
   "cell_type": "code",
   "execution_count": 14,
   "metadata": {},
   "outputs": [
    {
     "data": {
      "application/vnd.jupyter.widget-view+json": {
       "model_id": "a84d2796916a463d9f3bf3e2e9aa1e39",
       "version_major": 2,
       "version_minor": 0
      },
      "text/plain": [
       "  0%|          | 0/50000 [00:00<?, ?it/s]"
      ]
     },
     "metadata": {},
     "output_type": "display_data"
    }
   ],
   "source": [
    "tqdm.pandas()\n",
    "\n",
    "df['lemma_text'] = df['text'].progress_apply(lemmatize)"
   ]
  },
  {
   "cell_type": "code",
   "execution_count": 15,
   "metadata": {},
   "outputs": [
    {
     "data": {
      "text/html": [
       "<div>\n",
       "<style scoped>\n",
       "    .dataframe tbody tr th:only-of-type {\n",
       "        vertical-align: middle;\n",
       "    }\n",
       "\n",
       "    .dataframe tbody tr th {\n",
       "        vertical-align: top;\n",
       "    }\n",
       "\n",
       "    .dataframe thead th {\n",
       "        text-align: right;\n",
       "    }\n",
       "</style>\n",
       "<table border=\"1\" class=\"dataframe\">\n",
       "  <thead>\n",
       "    <tr style=\"text-align: right;\">\n",
       "      <th></th>\n",
       "      <th>Unnamed: 0</th>\n",
       "      <th>text</th>\n",
       "      <th>toxic</th>\n",
       "      <th>lemma_text</th>\n",
       "    </tr>\n",
       "  </thead>\n",
       "  <tbody>\n",
       "    <tr>\n",
       "      <th>0</th>\n",
       "      <td>0</td>\n",
       "      <td>Explanation\\nWhy the edits made under my usern...</td>\n",
       "      <td>0</td>\n",
       "      <td>explanation why the edits make under my userna...</td>\n",
       "    </tr>\n",
       "    <tr>\n",
       "      <th>1</th>\n",
       "      <td>1</td>\n",
       "      <td>D'aww! He matches this background colour I'm s...</td>\n",
       "      <td>0</td>\n",
       "      <td>d aww he match this background colour i m seem...</td>\n",
       "    </tr>\n",
       "    <tr>\n",
       "      <th>2</th>\n",
       "      <td>2</td>\n",
       "      <td>Hey man, I'm really not trying to edit war. It...</td>\n",
       "      <td>0</td>\n",
       "      <td>hey man i m really not try to edit war it s ju...</td>\n",
       "    </tr>\n",
       "    <tr>\n",
       "      <th>3</th>\n",
       "      <td>3</td>\n",
       "      <td>\"\\nMore\\nI can't make any real suggestions on ...</td>\n",
       "      <td>0</td>\n",
       "      <td>more i can t make any real suggestion on impro...</td>\n",
       "    </tr>\n",
       "    <tr>\n",
       "      <th>4</th>\n",
       "      <td>4</td>\n",
       "      <td>You, sir, are my hero. Any chance you remember...</td>\n",
       "      <td>0</td>\n",
       "      <td>you sir be my hero any chance you remember wha...</td>\n",
       "    </tr>\n",
       "  </tbody>\n",
       "</table>\n",
       "</div>"
      ],
      "text/plain": [
       "   Unnamed: 0                                               text  toxic  \\\n",
       "0           0  Explanation\\nWhy the edits made under my usern...      0   \n",
       "1           1  D'aww! He matches this background colour I'm s...      0   \n",
       "2           2  Hey man, I'm really not trying to edit war. It...      0   \n",
       "3           3  \"\\nMore\\nI can't make any real suggestions on ...      0   \n",
       "4           4  You, sir, are my hero. Any chance you remember...      0   \n",
       "\n",
       "                                          lemma_text  \n",
       "0  explanation why the edits make under my userna...  \n",
       "1  d aww he match this background colour i m seem...  \n",
       "2  hey man i m really not try to edit war it s ju...  \n",
       "3  more i can t make any real suggestion on impro...  \n",
       "4  you sir be my hero any chance you remember wha...  "
      ]
     },
     "execution_count": 15,
     "metadata": {},
     "output_type": "execute_result"
    }
   ],
   "source": [
    "df.head()"
   ]
  },
  {
   "cell_type": "markdown",
   "metadata": {},
   "source": [
    "Создадим фичи и таргет и разделим на обучающую, валидационную и тестовую выборку 8 : 1 : 1"
   ]
  },
  {
   "cell_type": "code",
   "execution_count": 16,
   "metadata": {},
   "outputs": [],
   "source": [
    "features = df['lemma_text']\n",
    "target = df['toxic']"
   ]
  },
  {
   "cell_type": "code",
   "execution_count": 17,
   "metadata": {},
   "outputs": [
    {
     "name": "stdout",
     "output_type": "stream",
     "text": [
      "Признаки обучающей выборки: (40000,)\n",
      "Целевой признак обучающей выборки: (40000,)\n",
      "Признаки валидационной выборки: (5000,)\n",
      "Целевой признак валидационной выборки: (5000,)\n",
      "Признаки тестовой выборки: (5000,)\n",
      "Целевой признак тестовой выборки: (5000,)\n"
     ]
    }
   ],
   "source": [
    "features_train, features_valid_test, target_train, target_valid_test  = train_test_split(features, \n",
    "                                                                                         target, \n",
    "                                                                                         test_size=0.2, \n",
    "                                                                                         random_state=42)\n",
    "features_valid, features_test,target_valid, target_test  = train_test_split(features_valid_test, \n",
    "                                                                           target_valid_test, \n",
    "                                                                           test_size=0.5, \n",
    "                                                                           random_state=42)\n",
    "print('Признаки обучающей выборки:',features_train.shape)  \n",
    "print('Целевой признак обучающей выборки:', target_train.shape)\n",
    "print('Признаки валидационной выборки:',features_valid.shape)  \n",
    "print('Целевой признак валидационной выборки:', target_valid.shape)\n",
    "print('Признаки тестовой выборки:',features_test.shape)  \n",
    "print('Целевой признак тестовой выборки:', target_test.shape)"
   ]
  },
  {
   "cell_type": "markdown",
   "metadata": {},
   "source": [
    "Преобразуем текст в вектора при помощи метода TfidfVectorizer"
   ]
  },
  {
   "cell_type": "code",
   "execution_count": 22,
   "metadata": {},
   "outputs": [],
   "source": [
    "stopwords = set(nltk_stopwords.words('english'))\n",
    "count_tf_idf = TfidfVectorizer(stop_words=list(stopwords))"
   ]
  },
  {
   "cell_type": "code",
   "execution_count": 24,
   "metadata": {},
   "outputs": [],
   "source": [
    "features_train_tf_idf = count_tf_idf.fit_transform(features_train.values)\n",
    "features_valid_tf_idf = count_tf_idf.transform(features_valid.values)\n",
    "features_test_tf_idf = count_tf_idf.transform(features_test.values)"
   ]
  },
  {
   "cell_type": "markdown",
   "metadata": {},
   "source": [
    "## Обучение"
   ]
  },
  {
   "cell_type": "markdown",
   "metadata": {},
   "source": [
    "Обучим 3 модели и подберем параметры на валидационной выборки:\n",
    "\n",
    "* Линейная регрессия\n",
    "* Древо решений\n",
    "* Случайный лес"
   ]
  },
  {
   "cell_type": "code",
   "execution_count": 25,
   "metadata": {},
   "outputs": [
    {
     "name": "stdout",
     "output_type": "stream",
     "text": [
      "F1_LR:\n",
      "0.7570009033423667\n"
     ]
    }
   ],
   "source": [
    "model_LR = LogisticRegression(solver='liblinear', class_weight = 'balanced', C = 10).fit(features_train_tf_idf,target_train)\n",
    "prediction_LR = model_LR.predict(features_valid_tf_idf)\n",
    "print('F1_LR:')\n",
    "print(f1_score(target_valid, prediction_LR))"
   ]
  },
  {
   "cell_type": "code",
   "execution_count": 26,
   "metadata": {},
   "outputs": [
    {
     "name": "stdout",
     "output_type": "stream",
     "text": [
      "F1_DTC:\n",
      "0.6436583261432269\n"
     ]
    }
   ],
   "source": [
    "model_DTC = DecisionTreeClassifier(random_state = 42, class_weight = 'balanced').fit(features_train_tf_idf,target_train)\n",
    "prediction_DTC = model_DTC.predict(features_valid_tf_idf)\n",
    "print('F1_DTC:')\n",
    "print(f1_score(target_valid, prediction_DTC))"
   ]
  },
  {
   "cell_type": "code",
   "execution_count": 27,
   "metadata": {},
   "outputs": [
    {
     "name": "stdout",
     "output_type": "stream",
     "text": [
      "F1_RFC:\n",
      "0.6388888888888888\n"
     ]
    }
   ],
   "source": [
    "model_RFC = RandomForestClassifier(random_state = 42, class_weight = 'balanced').fit(features_train_tf_idf,target_train)\n",
    "prediction_RFC = model_RFC.predict(features_valid_tf_idf)\n",
    "print('F1_RFC:')\n",
    "print(f1_score(target_valid, prediction_RFC))"
   ]
  },
  {
   "cell_type": "code",
   "execution_count": 28,
   "metadata": {},
   "outputs": [],
   "source": [
    "f1 = make_scorer(f1_score)"
   ]
  },
  {
   "cell_type": "code",
   "execution_count": 29,
   "metadata": {},
   "outputs": [
    {
     "name": "stdout",
     "output_type": "stream",
     "text": [
      "{'n_estimators': 100, 'min_samples_leaf': 10, 'max_depth': 19}\n"
     ]
    }
   ],
   "source": [
    "# Зададим парметры сетки\n",
    "parametrs_RFR = { 'n_estimators': range (60, 111, 10),\n",
    "              'max_depth': range (5,20, 1),\n",
    "              'min_samples_leaf': range (5,20)\n",
    "               }\n",
    "\n",
    "# Определяем модель\n",
    "RFR_model = RandomForestClassifier(random_state = 42, class_weight = 'balanced',n_jobs=-1)\n",
    "clf_RFR = RandomizedSearchCV(RFR_model,\n",
    "                 parametrs_RFR,\n",
    "                 scoring= f1,\n",
    "                 random_state = 42)\n",
    "\n",
    "clf_RFR.fit(features_train_tf_idf,target_train)\n",
    "print(clf_RFR.best_params_)"
   ]
  },
  {
   "cell_type": "code",
   "execution_count": 30,
   "metadata": {},
   "outputs": [],
   "source": [
    "pipe_rf = Pipeline([('count_tf_idf',  TfidfVectorizer()),\n",
    "                    ('RFR_model', RandomForestClassifier(random_state=42))])"
   ]
  },
  {
   "cell_type": "code",
   "execution_count": 31,
   "metadata": {},
   "outputs": [
    {
     "name": "stdout",
     "output_type": "stream",
     "text": [
      "{'RFR_model__n_estimators': 90, 'RFR_model__min_samples_leaf': 10, 'RFR_model__max_depth': 15}\n"
     ]
    }
   ],
   "source": [
    "parametrs_pipeline_RFR = { 'RFR_model__n_estimators': range (60, 111, 10),\n",
    "                           'RFR_model__max_depth': range (5,20, 1),\n",
    "                           'RFR_model__min_samples_leaf': range (5,20)\n",
    "                           }\n",
    "\n",
    "rf = RandomizedSearchCV(pipe_rf,\n",
    "            parametrs_pipeline_RFR,\n",
    "            scoring=f1,\n",
    "            cv=3, \n",
    "            n_jobs=-1)\n",
    "rf.fit(features_train,target_train)\n",
    "print(rf.best_params_)"
   ]
  },
  {
   "cell_type": "code",
   "execution_count": 32,
   "metadata": {},
   "outputs": [
    {
     "name": "stdout",
     "output_type": "stream",
     "text": [
      "{'min_samples_split': 15, 'max_depth': 16}\n"
     ]
    }
   ],
   "source": [
    "# Зададим парметры сетки\n",
    "parametrs_DTR = {'max_depth': range (5,20, 1),\n",
    "              'min_samples_split': range (5,20)\n",
    "               }\n",
    "\n",
    "# Определяем модель\n",
    "DTR_model = DecisionTreeClassifier(random_state = 42, class_weight = 'balanced')\n",
    "clf_DTR = RandomizedSearchCV(DTR_model,\n",
    "                 parametrs_DTR,\n",
    "                 scoring=f1,\n",
    "                 random_state = 42)\n",
    "\n",
    "clf_DTR.fit(features_train_tf_idf,target_train)\n",
    "print(clf_DTR.best_params_)"
   ]
  },
  {
   "cell_type": "code",
   "execution_count": 33,
   "metadata": {},
   "outputs": [],
   "source": [
    "pipe_dt = Pipeline([('count_tf_idf',  TfidfVectorizer()),\n",
    "                    ('DTC_model', DecisionTreeClassifier(random_state=42))])"
   ]
  },
  {
   "cell_type": "code",
   "execution_count": 34,
   "metadata": {},
   "outputs": [
    {
     "name": "stdout",
     "output_type": "stream",
     "text": [
      "{'DTC_model__min_samples_split': 9, 'DTC_model__max_depth': 18}\n"
     ]
    }
   ],
   "source": [
    "parametrs_pipeline_DT = { 'DTC_model__max_depth': range (5,20, 1),\n",
    "                           'DTC_model__min_samples_split': range (5,20)\n",
    "                           }\n",
    "\n",
    "dt = RandomizedSearchCV(pipe_dt,\n",
    "            parametrs_pipeline_DT,\n",
    "            scoring=f1,\n",
    "            cv=3, \n",
    "            n_jobs=-1)\n",
    "dt.fit(features_train,target_train)\n",
    "print(dt.best_params_)"
   ]
  },
  {
   "cell_type": "code",
   "execution_count": 35,
   "metadata": {},
   "outputs": [
    {
     "name": "stdout",
     "output_type": "stream",
     "text": [
      "0.41674249317561424\n"
     ]
    }
   ],
   "source": [
    "final_model_RFR = RandomForestClassifier(random_state = 42, \n",
    "                                            class_weight = 'balanced',\n",
    "                                            n_estimators = 80,\n",
    "                                            min_samples_leaf = 17,\n",
    "                                            max_depth = 19)\n",
    "final_model_RFR.fit(features_train_tf_idf,target_train)\n",
    "predicted_RFR_final = final_model_RFR.predict(features_valid_tf_idf)\n",
    "print(f1_score(target_valid , predicted_RFR_final))"
   ]
  },
  {
   "cell_type": "code",
   "execution_count": 36,
   "metadata": {},
   "outputs": [
    {
     "name": "stdout",
     "output_type": "stream",
     "text": [
      "0.6305525460455039\n"
     ]
    }
   ],
   "source": [
    "final_model_DTR = DecisionTreeClassifier(random_state = 42, \n",
    "                                            class_weight = 'balanced',\n",
    "                                            min_samples_split = 7,\n",
    "                                            max_depth = 18)\n",
    "final_model_DTR.fit(features_train_tf_idf,target_train)\n",
    "predicted_DTR_final = final_model_DTR.predict(features_valid_tf_idf)\n",
    "print(f1_score(target_valid , predicted_DTR_final))"
   ]
  },
  {
   "cell_type": "markdown",
   "metadata": {},
   "source": [
    "Линейная регрессия лучше всего себя показала, поэтмоу используем ее на тесте"
   ]
  },
  {
   "cell_type": "code",
   "execution_count": 37,
   "metadata": {},
   "outputs": [
    {
     "name": "stdout",
     "output_type": "stream",
     "text": [
      "F1_LR:\n",
      "0.7532467532467534\n"
     ]
    }
   ],
   "source": [
    "model_test_LR = LogisticRegression(solver='liblinear', class_weight = 'balanced', C = 10).fit(features_train_tf_idf,target_train)\n",
    "prediction_LR = model_test_LR.predict(features_test_tf_idf)\n",
    "print('F1_LR:')\n",
    "print(f1_score(target_test, prediction_LR))"
   ]
  },
  {
   "cell_type": "markdown",
   "metadata": {},
   "source": [
    "## Выводы"
   ]
  },
  {
   "cell_type": "markdown",
   "metadata": {},
   "source": [
    "В рузльатет проделанной работы было достигнуто , при помощи модели Линейной регресси, значение необходимой метрики F1 выше 0.75 на тестовой выборке. Для токонизации текста использовался метод TfidfVectorizer, предварительно текст был преобразован при помощи метода WordNetLemmatizer"
   ]
  },
  {
   "cell_type": "code",
   "execution_count": null,
   "metadata": {},
   "outputs": [],
   "source": []
  }
 ],
 "metadata": {
  "ExecuteTimeLog": [
   {
    "duration": 396,
    "start_time": "2023-03-09T14:05:50.907Z"
   },
   {
    "duration": 2704,
    "start_time": "2023-03-09T14:06:52.189Z"
   },
   {
    "duration": 16,
    "start_time": "2023-03-09T14:06:58.601Z"
   },
   {
    "duration": 8,
    "start_time": "2023-03-09T14:07:16.653Z"
   },
   {
    "duration": 31,
    "start_time": "2023-03-09T14:07:22.710Z"
   },
   {
    "duration": 99,
    "start_time": "2023-03-09T14:08:10.800Z"
   },
   {
    "duration": 927,
    "start_time": "2023-03-09T14:08:17.413Z"
   },
   {
    "duration": 7,
    "start_time": "2023-03-09T14:08:18.860Z"
   },
   {
    "duration": 32,
    "start_time": "2023-03-09T14:08:20.211Z"
   },
   {
    "duration": 1128,
    "start_time": "2023-03-09T14:15:31.401Z"
   },
   {
    "duration": 160,
    "start_time": "2023-03-09T14:16:13.553Z"
   },
   {
    "duration": 4,
    "start_time": "2023-03-09T14:20:49.895Z"
   },
   {
    "duration": 4,
    "start_time": "2023-03-09T14:22:27.311Z"
   },
   {
    "duration": 77,
    "start_time": "2023-03-09T14:25:59.962Z"
   },
   {
    "duration": 17970,
    "start_time": "2023-03-09T14:27:55.464Z"
   },
   {
    "duration": 4,
    "start_time": "2023-03-09T14:31:35.402Z"
   },
   {
    "duration": 47861,
    "start_time": "2023-03-09T14:32:32.434Z"
   },
   {
    "duration": 152,
    "start_time": "2023-03-09T14:36:42.366Z"
   },
   {
    "duration": 410522,
    "start_time": "2023-03-09T14:37:18.673Z"
   },
   {
    "duration": 589504,
    "start_time": "2023-03-09T14:45:13.593Z"
   },
   {
    "duration": 6,
    "start_time": "2023-03-09T14:55:30.300Z"
   },
   {
    "duration": 19,
    "start_time": "2023-03-09T14:55:32.407Z"
   },
   {
    "duration": 24,
    "start_time": "2023-03-09T14:55:36.962Z"
   },
   {
    "duration": 4,
    "start_time": "2023-03-09T14:55:39.471Z"
   },
   {
    "duration": 20,
    "start_time": "2023-03-09T14:55:40.119Z"
   },
   {
    "duration": 2067,
    "start_time": "2023-03-09T14:55:43.266Z"
   },
   {
    "duration": 1538,
    "start_time": "2023-03-09T16:26:28.719Z"
   },
   {
    "duration": 2630,
    "start_time": "2023-03-09T16:26:30.259Z"
   },
   {
    "duration": 17,
    "start_time": "2023-03-09T16:26:32.891Z"
   },
   {
    "duration": 41,
    "start_time": "2023-03-09T16:26:32.910Z"
   },
   {
    "duration": 17,
    "start_time": "2023-03-09T16:26:32.953Z"
   },
   {
    "duration": 213,
    "start_time": "2023-03-09T16:26:32.972Z"
   },
   {
    "duration": 2,
    "start_time": "2023-03-09T16:26:33.187Z"
   },
   {
    "duration": 19,
    "start_time": "2023-03-09T16:26:33.191Z"
   },
   {
    "duration": 1701,
    "start_time": "2023-03-09T16:26:33.211Z"
   },
   {
    "duration": 10960,
    "start_time": "2023-03-09T16:26:34.914Z"
   },
   {
    "duration": 9603,
    "start_time": "2023-03-09T16:26:45.876Z"
   },
   {
    "duration": 29014,
    "start_time": "2023-03-09T16:26:55.481Z"
   },
   {
    "duration": 1487,
    "start_time": "2023-03-09T16:27:43.940Z"
   },
   {
    "duration": 991,
    "start_time": "2023-03-09T16:27:45.429Z"
   },
   {
    "duration": 15,
    "start_time": "2023-03-09T16:27:46.422Z"
   },
   {
    "duration": 3,
    "start_time": "2023-03-09T16:27:46.438Z"
   },
   {
    "duration": 38,
    "start_time": "2023-03-09T16:27:46.443Z"
   },
   {
    "duration": 216,
    "start_time": "2023-03-09T16:27:46.483Z"
   },
   {
    "duration": 3,
    "start_time": "2023-03-09T16:27:46.701Z"
   },
   {
    "duration": 20,
    "start_time": "2023-03-09T16:27:46.705Z"
   },
   {
    "duration": 4355,
    "start_time": "2023-03-09T16:27:46.727Z"
   },
   {
    "duration": 21095,
    "start_time": "2023-03-09T16:27:51.084Z"
   },
   {
    "duration": 40440,
    "start_time": "2023-03-09T16:28:12.181Z"
   },
   {
    "duration": 69757,
    "start_time": "2023-03-09T16:28:52.623Z"
   },
   {
    "duration": 1489,
    "start_time": "2023-03-09T16:30:46.158Z"
   },
   {
    "duration": 1019,
    "start_time": "2023-03-09T16:30:47.649Z"
   },
   {
    "duration": 18,
    "start_time": "2023-03-09T16:30:48.669Z"
   },
   {
    "duration": 3,
    "start_time": "2023-03-09T16:30:48.689Z"
   },
   {
    "duration": 39,
    "start_time": "2023-03-09T16:30:48.695Z"
   },
   {
    "duration": 242,
    "start_time": "2023-03-09T16:30:48.736Z"
   },
   {
    "duration": 3,
    "start_time": "2023-03-09T16:30:48.980Z"
   },
   {
    "duration": 66,
    "start_time": "2023-03-09T16:30:48.985Z"
   },
   {
    "duration": 13368,
    "start_time": "2023-03-09T16:30:49.052Z"
   },
   {
    "duration": 42758,
    "start_time": "2023-03-09T16:31:02.422Z"
   },
   {
    "duration": 1476,
    "start_time": "2023-03-09T16:34:39.478Z"
   },
   {
    "duration": 975,
    "start_time": "2023-03-09T16:34:40.956Z"
   },
   {
    "duration": 15,
    "start_time": "2023-03-09T16:34:41.933Z"
   },
   {
    "duration": 3,
    "start_time": "2023-03-09T16:34:41.950Z"
   },
   {
    "duration": 54,
    "start_time": "2023-03-09T16:34:41.955Z"
   },
   {
    "duration": 205,
    "start_time": "2023-03-09T16:34:42.011Z"
   },
   {
    "duration": 4,
    "start_time": "2023-03-09T16:34:42.218Z"
   },
   {
    "duration": 92,
    "start_time": "2023-03-09T16:34:42.225Z"
   },
   {
    "duration": 13785,
    "start_time": "2023-03-09T16:34:42.319Z"
   },
   {
    "duration": 42479,
    "start_time": "2023-03-09T16:34:56.106Z"
   },
   {
    "duration": 1626,
    "start_time": "2023-03-09T16:40:42.728Z"
   },
   {
    "duration": 0,
    "start_time": "2023-03-09T16:40:44.356Z"
   },
   {
    "duration": 0,
    "start_time": "2023-03-09T16:40:44.358Z"
   },
   {
    "duration": 0,
    "start_time": "2023-03-09T16:40:44.359Z"
   },
   {
    "duration": 0,
    "start_time": "2023-03-09T16:40:44.360Z"
   },
   {
    "duration": 0,
    "start_time": "2023-03-09T16:40:44.362Z"
   },
   {
    "duration": 0,
    "start_time": "2023-03-09T16:40:44.363Z"
   },
   {
    "duration": 0,
    "start_time": "2023-03-09T16:40:44.363Z"
   },
   {
    "duration": 0,
    "start_time": "2023-03-09T16:40:44.364Z"
   },
   {
    "duration": 0,
    "start_time": "2023-03-09T16:40:44.365Z"
   },
   {
    "duration": 0,
    "start_time": "2023-03-09T16:40:44.373Z"
   },
   {
    "duration": 0,
    "start_time": "2023-03-09T16:40:44.374Z"
   },
   {
    "duration": 1474,
    "start_time": "2023-03-09T16:40:59.518Z"
   },
   {
    "duration": 1014,
    "start_time": "2023-03-09T16:41:00.994Z"
   },
   {
    "duration": 14,
    "start_time": "2023-03-09T16:41:02.010Z"
   },
   {
    "duration": 18,
    "start_time": "2023-03-09T16:41:02.026Z"
   },
   {
    "duration": 44,
    "start_time": "2023-03-09T16:41:02.046Z"
   },
   {
    "duration": 126,
    "start_time": "2023-03-09T16:41:02.092Z"
   },
   {
    "duration": 3,
    "start_time": "2023-03-09T16:41:02.220Z"
   },
   {
    "duration": 38,
    "start_time": "2023-03-09T16:41:02.224Z"
   },
   {
    "duration": 4230,
    "start_time": "2023-03-09T16:41:02.264Z"
   },
   {
    "duration": 18981,
    "start_time": "2023-03-09T16:41:06.495Z"
   },
   {
    "duration": 40521,
    "start_time": "2023-03-09T16:41:25.478Z"
   },
   {
    "duration": 0,
    "start_time": "2023-03-09T16:42:06.000Z"
   },
   {
    "duration": 1416,
    "start_time": "2023-03-09T16:46:27.595Z"
   },
   {
    "duration": 984,
    "start_time": "2023-03-09T16:46:29.013Z"
   },
   {
    "duration": 16,
    "start_time": "2023-03-09T16:46:29.999Z"
   },
   {
    "duration": 18,
    "start_time": "2023-03-09T16:46:30.017Z"
   },
   {
    "duration": 54,
    "start_time": "2023-03-09T16:46:30.037Z"
   },
   {
    "duration": 160,
    "start_time": "2023-03-09T16:46:30.093Z"
   },
   {
    "duration": 776,
    "start_time": "2023-03-09T16:46:30.255Z"
   },
   {
    "duration": 85,
    "start_time": "2023-03-09T16:46:31.033Z"
   },
   {
    "duration": 0,
    "start_time": "2023-03-09T16:46:31.119Z"
   },
   {
    "duration": 0,
    "start_time": "2023-03-09T16:46:31.121Z"
   },
   {
    "duration": 0,
    "start_time": "2023-03-09T16:46:31.121Z"
   },
   {
    "duration": 0,
    "start_time": "2023-03-09T16:46:31.122Z"
   },
   {
    "duration": 0,
    "start_time": "2023-03-09T16:46:31.124Z"
   },
   {
    "duration": 126,
    "start_time": "2023-03-09T16:46:41.643Z"
   },
   {
    "duration": 5,
    "start_time": "2023-03-09T16:46:45.292Z"
   },
   {
    "duration": 6,
    "start_time": "2023-03-09T16:48:47.992Z"
   },
   {
    "duration": 3,
    "start_time": "2023-03-09T16:49:06.613Z"
   },
   {
    "duration": 5,
    "start_time": "2023-03-09T16:51:19.443Z"
   },
   {
    "duration": 855,
    "start_time": "2023-03-09T16:54:29.442Z"
   },
   {
    "duration": 856,
    "start_time": "2023-03-09T16:54:36.801Z"
   },
   {
    "duration": 5,
    "start_time": "2023-03-09T16:54:55.543Z"
   },
   {
    "duration": 4,
    "start_time": "2023-03-09T17:03:02.242Z"
   },
   {
    "duration": 22,
    "start_time": "2023-03-09T17:03:20.987Z"
   },
   {
    "duration": 3,
    "start_time": "2023-03-09T17:03:47.683Z"
   },
   {
    "duration": 4,
    "start_time": "2023-03-09T17:03:52.517Z"
   },
   {
    "duration": 10,
    "start_time": "2023-03-09T17:04:24.407Z"
   },
   {
    "duration": 3,
    "start_time": "2023-03-09T17:04:27.437Z"
   },
   {
    "duration": 837,
    "start_time": "2023-03-09T17:04:28.987Z"
   },
   {
    "duration": 883,
    "start_time": "2023-03-09T17:06:29.097Z"
   },
   {
    "duration": 4,
    "start_time": "2023-03-09T17:06:45.627Z"
   },
   {
    "duration": 859,
    "start_time": "2023-03-09T17:06:46.324Z"
   },
   {
    "duration": 4,
    "start_time": "2023-03-09T17:06:51.826Z"
   },
   {
    "duration": 3,
    "start_time": "2023-03-09T17:06:52.297Z"
   },
   {
    "duration": 889,
    "start_time": "2023-03-09T17:06:52.710Z"
   },
   {
    "duration": 5,
    "start_time": "2023-03-09T17:07:01.956Z"
   },
   {
    "duration": 3,
    "start_time": "2023-03-09T17:07:23.317Z"
   },
   {
    "duration": 4,
    "start_time": "2023-03-09T17:07:23.787Z"
   },
   {
    "duration": 946,
    "start_time": "2023-03-09T17:07:24.457Z"
   },
   {
    "duration": 4,
    "start_time": "2023-03-09T17:20:09.072Z"
   },
   {
    "duration": 3,
    "start_time": "2023-03-09T17:20:09.961Z"
   },
   {
    "duration": 6,
    "start_time": "2023-03-09T17:20:10.585Z"
   },
   {
    "duration": 22,
    "start_time": "2023-03-09T17:20:11.553Z"
   },
   {
    "duration": 3,
    "start_time": "2023-03-09T17:20:33.672Z"
   },
   {
    "duration": 5,
    "start_time": "2023-03-09T17:20:40.502Z"
   },
   {
    "duration": 1292,
    "start_time": "2023-03-09T17:20:41.293Z"
   },
   {
    "duration": 11788,
    "start_time": "2023-03-09T17:37:14.550Z"
   },
   {
    "duration": 2755,
    "start_time": "2023-03-09T17:38:03.881Z"
   },
   {
    "duration": 302,
    "start_time": "2023-03-09T17:38:49.720Z"
   },
   {
    "duration": 69,
    "start_time": "2023-03-09T17:40:18.544Z"
   },
   {
    "duration": 88,
    "start_time": "2023-03-09T17:40:36.520Z"
   },
   {
    "duration": 193,
    "start_time": "2023-03-09T17:42:35.932Z"
   },
   {
    "duration": 3,
    "start_time": "2023-03-09T17:42:38.511Z"
   },
   {
    "duration": 3,
    "start_time": "2023-03-09T17:42:39.090Z"
   },
   {
    "duration": 5,
    "start_time": "2023-03-09T17:42:40.000Z"
   },
   {
    "duration": 5,
    "start_time": "2023-03-09T17:42:40.920Z"
   },
   {
    "duration": 3,
    "start_time": "2023-03-09T17:43:23.210Z"
   },
   {
    "duration": 3,
    "start_time": "2023-03-09T17:48:00.190Z"
   },
   {
    "duration": 3,
    "start_time": "2023-03-09T17:48:01.070Z"
   },
   {
    "duration": 4,
    "start_time": "2023-03-09T17:48:01.910Z"
   },
   {
    "duration": 12,
    "start_time": "2023-03-09T17:48:02.680Z"
   },
   {
    "duration": 4,
    "start_time": "2023-03-09T17:49:32.940Z"
   },
   {
    "duration": 4,
    "start_time": "2023-03-09T17:49:37.570Z"
   },
   {
    "duration": 4,
    "start_time": "2023-03-09T17:49:38.070Z"
   },
   {
    "duration": 253,
    "start_time": "2023-03-09T17:59:53.631Z"
   },
   {
    "duration": 27,
    "start_time": "2023-03-09T18:00:27.050Z"
   },
   {
    "duration": 28,
    "start_time": "2023-03-09T18:00:32.411Z"
   },
   {
    "duration": 4,
    "start_time": "2023-03-09T18:01:05.041Z"
   },
   {
    "duration": 4,
    "start_time": "2023-03-09T18:01:05.830Z"
   },
   {
    "duration": 3,
    "start_time": "2023-03-09T18:01:06.671Z"
   },
   {
    "duration": 4,
    "start_time": "2023-03-09T18:01:07.211Z"
   },
   {
    "duration": 21,
    "start_time": "2023-03-09T18:01:16.670Z"
   },
   {
    "duration": 4,
    "start_time": "2023-03-09T18:01:25.865Z"
   },
   {
    "duration": 4,
    "start_time": "2023-03-09T18:01:35.980Z"
   },
   {
    "duration": 5,
    "start_time": "2023-03-09T18:17:29.084Z"
   },
   {
    "duration": 8,
    "start_time": "2023-03-09T18:17:29.091Z"
   },
   {
    "duration": 4,
    "start_time": "2023-03-09T18:17:39.565Z"
   },
   {
    "duration": 3,
    "start_time": "2023-03-09T18:17:48.795Z"
   },
   {
    "duration": 3,
    "start_time": "2023-03-09T18:17:49.685Z"
   },
   {
    "duration": 5,
    "start_time": "2023-03-09T18:17:50.115Z"
   },
   {
    "duration": 3,
    "start_time": "2023-03-09T18:18:34.844Z"
   },
   {
    "duration": 4,
    "start_time": "2023-03-09T18:18:35.835Z"
   },
   {
    "duration": 5,
    "start_time": "2023-03-09T18:18:36.865Z"
   },
   {
    "duration": 7,
    "start_time": "2023-03-09T18:18:37.295Z"
   },
   {
    "duration": 22,
    "start_time": "2023-03-09T18:18:45.065Z"
   },
   {
    "duration": 6,
    "start_time": "2023-03-09T18:18:50.465Z"
   },
   {
    "duration": 4,
    "start_time": "2023-03-09T18:19:03.825Z"
   },
   {
    "duration": 4,
    "start_time": "2023-03-09T18:19:08.475Z"
   },
   {
    "duration": 3,
    "start_time": "2023-03-09T18:20:47.555Z"
   },
   {
    "duration": 27,
    "start_time": "2023-03-09T18:21:09.815Z"
   },
   {
    "duration": 3,
    "start_time": "2023-03-09T18:22:15.915Z"
   },
   {
    "duration": 65,
    "start_time": "2023-03-09T18:23:56.854Z"
   },
   {
    "duration": 4,
    "start_time": "2023-03-09T18:24:15.504Z"
   },
   {
    "duration": 3,
    "start_time": "2023-03-09T18:24:17.385Z"
   },
   {
    "duration": 4,
    "start_time": "2023-03-09T18:24:18.245Z"
   },
   {
    "duration": 62,
    "start_time": "2023-03-09T18:24:19.004Z"
   },
   {
    "duration": 437,
    "start_time": "2023-03-09T18:24:45.845Z"
   },
   {
    "duration": 118,
    "start_time": "2023-03-09T18:24:53.895Z"
   },
   {
    "duration": 11,
    "start_time": "2023-03-09T18:25:02.264Z"
   },
   {
    "duration": 1454,
    "start_time": "2023-03-10T06:20:20.015Z"
   },
   {
    "duration": 514,
    "start_time": "2023-03-10T06:20:21.471Z"
   },
   {
    "duration": 2428,
    "start_time": "2023-03-10T06:20:21.987Z"
   },
   {
    "duration": 10,
    "start_time": "2023-03-10T06:20:24.417Z"
   },
   {
    "duration": 33,
    "start_time": "2023-03-10T06:20:24.430Z"
   },
   {
    "duration": 34,
    "start_time": "2023-03-10T06:20:24.465Z"
   },
   {
    "duration": 171,
    "start_time": "2023-03-10T06:20:24.501Z"
   },
   {
    "duration": 0,
    "start_time": "2023-03-10T06:20:24.674Z"
   },
   {
    "duration": 0,
    "start_time": "2023-03-10T06:20:24.675Z"
   },
   {
    "duration": 0,
    "start_time": "2023-03-10T06:20:24.677Z"
   },
   {
    "duration": 0,
    "start_time": "2023-03-10T06:20:24.678Z"
   },
   {
    "duration": 0,
    "start_time": "2023-03-10T06:20:24.679Z"
   },
   {
    "duration": 0,
    "start_time": "2023-03-10T06:20:24.681Z"
   },
   {
    "duration": 0,
    "start_time": "2023-03-10T06:20:24.683Z"
   },
   {
    "duration": 0,
    "start_time": "2023-03-10T06:20:24.684Z"
   },
   {
    "duration": 0,
    "start_time": "2023-03-10T06:20:24.686Z"
   },
   {
    "duration": 0,
    "start_time": "2023-03-10T06:20:24.687Z"
   },
   {
    "duration": 0,
    "start_time": "2023-03-10T06:20:24.689Z"
   },
   {
    "duration": 3,
    "start_time": "2023-03-10T06:22:13.228Z"
   },
   {
    "duration": 691,
    "start_time": "2023-03-10T06:22:18.957Z"
   },
   {
    "duration": 4,
    "start_time": "2023-03-10T06:23:34.914Z"
   },
   {
    "duration": 3,
    "start_time": "2023-03-10T06:23:35.809Z"
   },
   {
    "duration": 3,
    "start_time": "2023-03-10T06:23:36.784Z"
   },
   {
    "duration": 4,
    "start_time": "2023-03-10T06:23:39.141Z"
   },
   {
    "duration": 1403,
    "start_time": "2023-03-10T06:23:39.859Z"
   },
   {
    "duration": 4,
    "start_time": "2023-03-10T06:24:04.672Z"
   },
   {
    "duration": 5,
    "start_time": "2023-03-10T06:24:05.332Z"
   },
   {
    "duration": 10,
    "start_time": "2023-03-10T06:24:05.770Z"
   },
   {
    "duration": 10,
    "start_time": "2023-03-10T06:24:28.674Z"
   },
   {
    "duration": 3,
    "start_time": "2023-03-10T06:28:03.670Z"
   },
   {
    "duration": 1480,
    "start_time": "2023-03-10T06:28:37.761Z"
   },
   {
    "duration": 152,
    "start_time": "2023-03-10T06:28:39.243Z"
   },
   {
    "duration": 953,
    "start_time": "2023-03-10T06:28:39.397Z"
   },
   {
    "duration": 11,
    "start_time": "2023-03-10T06:28:40.352Z"
   },
   {
    "duration": 4,
    "start_time": "2023-03-10T06:28:40.376Z"
   },
   {
    "duration": 32,
    "start_time": "2023-03-10T06:28:40.382Z"
   },
   {
    "duration": 22,
    "start_time": "2023-03-10T06:28:40.415Z"
   },
   {
    "duration": 683,
    "start_time": "2023-03-10T06:28:40.439Z"
   },
   {
    "duration": 24,
    "start_time": "2023-03-10T06:28:41.124Z"
   },
   {
    "duration": 17,
    "start_time": "2023-03-10T06:28:41.149Z"
   },
   {
    "duration": 15,
    "start_time": "2023-03-10T06:28:41.168Z"
   },
   {
    "duration": 9,
    "start_time": "2023-03-10T06:28:41.184Z"
   },
   {
    "duration": 1479,
    "start_time": "2023-03-10T06:28:41.194Z"
   },
   {
    "duration": 12,
    "start_time": "2023-03-10T06:28:42.678Z"
   },
   {
    "duration": 998,
    "start_time": "2023-03-10T06:28:42.691Z"
   },
   {
    "duration": 3530,
    "start_time": "2023-03-10T06:28:43.692Z"
   },
   {
    "duration": 19054,
    "start_time": "2023-03-10T06:28:47.224Z"
   },
   {
    "duration": 38950,
    "start_time": "2023-03-10T06:29:06.280Z"
   },
   {
    "duration": 81361,
    "start_time": "2023-03-10T06:29:45.232Z"
   },
   {
    "duration": 130,
    "start_time": "2023-03-10T06:31:08.386Z"
   },
   {
    "duration": 6,
    "start_time": "2023-03-10T06:31:36.144Z"
   },
   {
    "duration": 14,
    "start_time": "2023-03-10T06:32:37.144Z"
   },
   {
    "duration": 10,
    "start_time": "2023-03-10T06:32:55.688Z"
   },
   {
    "duration": 1488,
    "start_time": "2023-03-10T06:40:57.276Z"
   },
   {
    "duration": 244,
    "start_time": "2023-03-10T06:40:58.766Z"
   },
   {
    "duration": 948,
    "start_time": "2023-03-10T06:40:59.012Z"
   },
   {
    "duration": 18,
    "start_time": "2023-03-10T06:40:59.962Z"
   },
   {
    "duration": 25,
    "start_time": "2023-03-10T06:40:59.982Z"
   },
   {
    "duration": 36,
    "start_time": "2023-03-10T06:41:00.009Z"
   },
   {
    "duration": 50,
    "start_time": "2023-03-10T06:41:00.047Z"
   },
   {
    "duration": 17,
    "start_time": "2023-03-10T06:41:00.099Z"
   },
   {
    "duration": 11,
    "start_time": "2023-03-10T06:41:00.119Z"
   },
   {
    "duration": 9,
    "start_time": "2023-03-10T06:41:00.132Z"
   },
   {
    "duration": 17,
    "start_time": "2023-03-10T06:41:00.144Z"
   },
   {
    "duration": 1485,
    "start_time": "2023-03-10T06:41:00.163Z"
   },
   {
    "duration": 430957,
    "start_time": "2023-03-10T06:41:01.651Z"
   },
   {
    "duration": 689,
    "start_time": "2023-03-10T06:48:12.611Z"
   },
   {
    "duration": 1058,
    "start_time": "2023-03-10T06:48:13.302Z"
   },
   {
    "duration": 3204,
    "start_time": "2023-03-10T06:48:14.362Z"
   },
   {
    "duration": 20019,
    "start_time": "2023-03-10T06:48:17.568Z"
   },
   {
    "duration": 35649,
    "start_time": "2023-03-10T06:48:37.589Z"
   },
   {
    "duration": 377705,
    "start_time": "2023-03-10T06:49:13.240Z"
   },
   {
    "duration": 11,
    "start_time": "2023-03-10T06:57:39.519Z"
   },
   {
    "duration": 51,
    "start_time": "2023-03-10T06:57:44.957Z"
   },
   {
    "duration": 44749,
    "start_time": "2023-03-10T06:57:49.020Z"
   },
   {
    "duration": 5,
    "start_time": "2023-03-10T06:59:40.727Z"
   },
   {
    "duration": 4,
    "start_time": "2023-03-10T06:59:46.215Z"
   },
   {
    "duration": 5,
    "start_time": "2023-03-10T06:59:57.403Z"
   },
   {
    "duration": 5,
    "start_time": "2023-03-10T07:00:03.922Z"
   },
   {
    "duration": 4827,
    "start_time": "2023-03-10T07:07:26.258Z"
   },
   {
    "duration": 9608,
    "start_time": "2023-03-10T07:08:02.779Z"
   },
   {
    "duration": 51708,
    "start_time": "2023-03-10T07:08:12.391Z"
   },
   {
    "duration": 1391,
    "start_time": "2023-03-10T07:13:55.914Z"
   },
   {
    "duration": 188,
    "start_time": "2023-03-10T07:13:57.307Z"
   },
   {
    "duration": 953,
    "start_time": "2023-03-10T07:13:57.496Z"
   },
   {
    "duration": 10,
    "start_time": "2023-03-10T07:13:58.450Z"
   },
   {
    "duration": 19,
    "start_time": "2023-03-10T07:13:58.462Z"
   },
   {
    "duration": 40,
    "start_time": "2023-03-10T07:13:58.482Z"
   },
   {
    "duration": 6,
    "start_time": "2023-03-10T07:13:58.524Z"
   },
   {
    "duration": 7,
    "start_time": "2023-03-10T07:13:58.532Z"
   },
   {
    "duration": 17,
    "start_time": "2023-03-10T07:13:58.541Z"
   },
   {
    "duration": 35,
    "start_time": "2023-03-10T07:13:58.560Z"
   },
   {
    "duration": 20,
    "start_time": "2023-03-10T07:13:58.597Z"
   },
   {
    "duration": 1560,
    "start_time": "2023-03-10T07:13:58.619Z"
   },
   {
    "duration": 424369,
    "start_time": "2023-03-10T07:14:00.190Z"
   },
   {
    "duration": 665,
    "start_time": "2023-03-10T07:21:04.562Z"
   },
   {
    "duration": 912,
    "start_time": "2023-03-10T07:21:05.229Z"
   },
   {
    "duration": 430,
    "start_time": "2023-03-10T07:21:06.143Z"
   },
   {
    "duration": 87,
    "start_time": "2023-03-10T07:21:06.577Z"
   },
   {
    "duration": 0,
    "start_time": "2023-03-10T07:21:06.666Z"
   },
   {
    "duration": 0,
    "start_time": "2023-03-10T07:21:06.667Z"
   },
   {
    "duration": 0,
    "start_time": "2023-03-10T07:21:06.669Z"
   },
   {
    "duration": 0,
    "start_time": "2023-03-10T07:21:06.670Z"
   },
   {
    "duration": 611,
    "start_time": "2023-03-10T07:22:22.049Z"
   },
   {
    "duration": 5,
    "start_time": "2023-03-10T07:25:50.563Z"
   },
   {
    "duration": 3261,
    "start_time": "2023-03-10T07:27:35.445Z"
   },
   {
    "duration": 32,
    "start_time": "2023-03-10T07:27:42.965Z"
   },
   {
    "duration": 1473,
    "start_time": "2023-03-10T07:29:00.786Z"
   },
   {
    "duration": 276,
    "start_time": "2023-03-10T07:29:02.261Z"
   },
   {
    "duration": 2756,
    "start_time": "2023-03-10T07:29:02.539Z"
   },
   {
    "duration": 11,
    "start_time": "2023-03-10T07:29:05.297Z"
   },
   {
    "duration": 7,
    "start_time": "2023-03-10T07:29:05.310Z"
   },
   {
    "duration": 21,
    "start_time": "2023-03-10T07:29:05.319Z"
   },
   {
    "duration": 6,
    "start_time": "2023-03-10T07:29:05.342Z"
   },
   {
    "duration": 10,
    "start_time": "2023-03-10T07:29:05.350Z"
   },
   {
    "duration": 6,
    "start_time": "2023-03-10T07:29:05.362Z"
   },
   {
    "duration": 17,
    "start_time": "2023-03-10T07:29:05.370Z"
   },
   {
    "duration": 9,
    "start_time": "2023-03-10T07:29:05.389Z"
   },
   {
    "duration": 1583,
    "start_time": "2023-03-10T07:29:05.400Z"
   },
   {
    "duration": 476867,
    "start_time": "2023-03-10T07:29:06.989Z"
   },
   {
    "duration": 706,
    "start_time": "2023-03-10T07:37:03.860Z"
   },
   {
    "duration": 978,
    "start_time": "2023-03-10T07:37:04.568Z"
   },
   {
    "duration": 421,
    "start_time": "2023-03-10T07:37:05.548Z"
   },
   {
    "duration": 118,
    "start_time": "2023-03-10T07:37:05.979Z"
   },
   {
    "duration": 0,
    "start_time": "2023-03-10T07:37:06.100Z"
   },
   {
    "duration": 0,
    "start_time": "2023-03-10T07:37:06.102Z"
   },
   {
    "duration": 0,
    "start_time": "2023-03-10T07:37:06.103Z"
   },
   {
    "duration": 0,
    "start_time": "2023-03-10T07:37:06.105Z"
   },
   {
    "duration": 0,
    "start_time": "2023-03-10T07:37:06.107Z"
   },
   {
    "duration": 6,
    "start_time": "2023-03-10T07:37:11.630Z"
   },
   {
    "duration": 527,
    "start_time": "2023-03-10T07:37:23.391Z"
   },
   {
    "duration": 61,
    "start_time": "2023-03-10T07:39:09.769Z"
   },
   {
    "duration": 68,
    "start_time": "2023-03-10T07:39:10.545Z"
   },
   {
    "duration": 17,
    "start_time": "2023-03-10T07:39:12.426Z"
   },
   {
    "duration": 26,
    "start_time": "2023-03-10T07:39:19.522Z"
   },
   {
    "duration": 5,
    "start_time": "2023-03-10T07:40:00.544Z"
   },
   {
    "duration": 23,
    "start_time": "2023-03-10T07:40:05.429Z"
   },
   {
    "duration": 7,
    "start_time": "2023-03-10T07:40:15.388Z"
   },
   {
    "duration": 17,
    "start_time": "2023-03-10T07:41:00.937Z"
   },
   {
    "duration": 1033,
    "start_time": "2023-03-10T07:43:26.571Z"
   },
   {
    "duration": 6,
    "start_time": "2023-03-10T07:44:14.775Z"
   },
   {
    "duration": 38,
    "start_time": "2023-03-10T07:44:15.401Z"
   },
   {
    "duration": 13,
    "start_time": "2023-03-10T07:44:16.208Z"
   },
   {
    "duration": 149,
    "start_time": "2023-03-10T07:44:17.263Z"
   },
   {
    "duration": 20,
    "start_time": "2023-03-10T07:44:18.524Z"
   },
   {
    "duration": 6512,
    "start_time": "2023-03-10T07:44:19.610Z"
   },
   {
    "duration": 22,
    "start_time": "2023-03-10T07:44:48.174Z"
   },
   {
    "duration": 52,
    "start_time": "2023-03-10T07:44:48.503Z"
   },
   {
    "duration": 20,
    "start_time": "2023-03-10T07:46:12.143Z"
   },
   {
    "duration": 4909,
    "start_time": "2023-03-10T07:46:14.920Z"
   },
   {
    "duration": 5,
    "start_time": "2023-03-10T07:46:23.405Z"
   },
   {
    "duration": 46,
    "start_time": "2023-03-10T07:46:23.971Z"
   },
   {
    "duration": 11,
    "start_time": "2023-03-10T07:46:24.620Z"
   },
   {
    "duration": 27,
    "start_time": "2023-03-10T07:46:25.204Z"
   },
   {
    "duration": 24,
    "start_time": "2023-03-10T07:46:26.098Z"
   },
   {
    "duration": 6908,
    "start_time": "2023-03-10T07:46:26.906Z"
   },
   {
    "duration": 6780,
    "start_time": "2023-03-10T07:46:40.713Z"
   },
   {
    "duration": 15865,
    "start_time": "2023-03-10T07:46:47.503Z"
   },
   {
    "duration": 100435,
    "start_time": "2023-03-10T07:47:03.370Z"
   },
   {
    "duration": 8,
    "start_time": "2023-03-10T07:49:37.605Z"
   },
   {
    "duration": 1541,
    "start_time": "2023-03-10T07:55:42.371Z"
   },
   {
    "duration": 178,
    "start_time": "2023-03-10T07:55:43.915Z"
   },
   {
    "duration": 984,
    "start_time": "2023-03-10T07:55:44.095Z"
   },
   {
    "duration": 16,
    "start_time": "2023-03-10T07:55:45.080Z"
   },
   {
    "duration": 25,
    "start_time": "2023-03-10T07:55:45.099Z"
   },
   {
    "duration": 48,
    "start_time": "2023-03-10T07:55:45.126Z"
   },
   {
    "duration": 33,
    "start_time": "2023-03-10T07:55:45.176Z"
   },
   {
    "duration": 20,
    "start_time": "2023-03-10T07:55:45.211Z"
   },
   {
    "duration": 26,
    "start_time": "2023-03-10T07:55:45.233Z"
   },
   {
    "duration": 10,
    "start_time": "2023-03-10T07:55:45.261Z"
   },
   {
    "duration": 38,
    "start_time": "2023-03-10T07:55:45.273Z"
   },
   {
    "duration": 1599,
    "start_time": "2023-03-10T07:55:45.314Z"
   },
   {
    "duration": 44399,
    "start_time": "2023-03-10T07:55:46.916Z"
   },
   {
    "duration": 9,
    "start_time": "2023-03-10T07:56:31.318Z"
   },
   {
    "duration": 15,
    "start_time": "2023-03-10T07:56:31.329Z"
   },
   {
    "duration": 54,
    "start_time": "2023-03-10T07:56:31.346Z"
   },
   {
    "duration": 36,
    "start_time": "2023-03-10T07:56:31.402Z"
   },
   {
    "duration": 19,
    "start_time": "2023-03-10T07:56:31.439Z"
   },
   {
    "duration": 49,
    "start_time": "2023-03-10T07:56:31.459Z"
   },
   {
    "duration": 612,
    "start_time": "2023-03-10T07:56:31.510Z"
   },
   {
    "duration": 1365,
    "start_time": "2023-03-10T07:56:32.124Z"
   },
   {
    "duration": 427,
    "start_time": "2023-03-10T07:56:33.491Z"
   },
   {
    "duration": 1934,
    "start_time": "2023-03-10T07:56:33.919Z"
   },
   {
    "duration": 378,
    "start_time": "2023-03-10T07:57:45.320Z"
   },
   {
    "duration": 269999,
    "start_time": "2023-03-10T07:59:09.627Z"
   },
   {
    "duration": 3,
    "start_time": "2023-03-10T08:05:55.633Z"
   },
   {
    "duration": 13,
    "start_time": "2023-03-10T08:06:19.092Z"
   },
   {
    "duration": 19116,
    "start_time": "2023-03-10T08:06:30.194Z"
   },
   {
    "duration": 12,
    "start_time": "2023-03-10T08:07:52.297Z"
   },
   {
    "duration": 96,
    "start_time": "2023-03-10T08:08:00.011Z"
   },
   {
    "duration": 6256,
    "start_time": "2023-03-10T08:08:30.953Z"
   },
   {
    "duration": 26570,
    "start_time": "2023-03-10T08:09:05.174Z"
   },
   {
    "duration": 7661,
    "start_time": "2023-03-10T08:09:31.746Z"
   },
   {
    "duration": 31175,
    "start_time": "2023-03-10T08:16:11.762Z"
   },
   {
    "duration": 370,
    "start_time": "2023-03-10T08:17:18.353Z"
   },
   {
    "duration": 165,
    "start_time": "2023-03-10T08:25:34.742Z"
   },
   {
    "duration": 7490,
    "start_time": "2023-03-10T08:25:50.672Z"
   },
   {
    "duration": 8764,
    "start_time": "2023-03-10T08:26:09.509Z"
   },
   {
    "duration": 183,
    "start_time": "2023-03-10T08:26:20.940Z"
   },
   {
    "duration": 420,
    "start_time": "2023-03-10T08:43:04.135Z"
   },
   {
    "duration": 34860,
    "start_time": "2023-03-10T08:43:22.312Z"
   },
   {
    "duration": 1712,
    "start_time": "2023-03-10T08:47:45.689Z"
   },
   {
    "duration": 240,
    "start_time": "2023-03-10T08:47:47.404Z"
   },
   {
    "duration": 1028,
    "start_time": "2023-03-10T08:47:47.646Z"
   },
   {
    "duration": 18,
    "start_time": "2023-03-10T08:47:48.680Z"
   },
   {
    "duration": 9,
    "start_time": "2023-03-10T08:47:48.700Z"
   },
   {
    "duration": 22,
    "start_time": "2023-03-10T08:47:48.712Z"
   },
   {
    "duration": 26,
    "start_time": "2023-03-10T08:47:48.736Z"
   },
   {
    "duration": 23,
    "start_time": "2023-03-10T08:47:48.764Z"
   },
   {
    "duration": 18,
    "start_time": "2023-03-10T08:47:48.794Z"
   },
   {
    "duration": 6,
    "start_time": "2023-03-10T08:47:48.815Z"
   },
   {
    "duration": 18,
    "start_time": "2023-03-10T08:47:48.823Z"
   },
   {
    "duration": 1745,
    "start_time": "2023-03-10T08:47:48.844Z"
   },
   {
    "duration": 49895,
    "start_time": "2023-03-10T08:47:50.595Z"
   },
   {
    "duration": 11,
    "start_time": "2023-03-10T08:48:40.492Z"
   },
   {
    "duration": 8,
    "start_time": "2023-03-10T08:48:40.505Z"
   },
   {
    "duration": 20,
    "start_time": "2023-03-10T08:48:40.515Z"
   },
   {
    "duration": 26,
    "start_time": "2023-03-10T08:48:40.537Z"
   },
   {
    "duration": 35,
    "start_time": "2023-03-10T08:48:40.565Z"
   },
   {
    "duration": 21,
    "start_time": "2023-03-10T08:48:40.602Z"
   },
   {
    "duration": 696,
    "start_time": "2023-03-10T08:48:40.625Z"
   },
   {
    "duration": 1071,
    "start_time": "2023-03-10T08:48:41.323Z"
   },
   {
    "duration": 505,
    "start_time": "2023-03-10T08:48:42.402Z"
   },
   {
    "duration": 2113,
    "start_time": "2023-03-10T08:48:42.909Z"
   },
   {
    "duration": 4,
    "start_time": "2023-03-10T08:48:45.024Z"
   },
   {
    "duration": 36057,
    "start_time": "2023-03-10T08:48:45.030Z"
   },
   {
    "duration": 8307,
    "start_time": "2023-03-10T08:49:21.092Z"
   },
   {
    "duration": 419,
    "start_time": "2023-03-10T08:49:29.401Z"
   },
   {
    "duration": 186,
    "start_time": "2023-03-10T08:49:29.823Z"
   },
   {
    "duration": 1637,
    "start_time": "2023-03-10T08:52:55.660Z"
   },
   {
    "duration": 257,
    "start_time": "2023-03-10T08:52:57.300Z"
   },
   {
    "duration": 992,
    "start_time": "2023-03-10T08:52:57.558Z"
   },
   {
    "duration": 11,
    "start_time": "2023-03-10T08:52:58.552Z"
   },
   {
    "duration": 12,
    "start_time": "2023-03-10T08:52:58.582Z"
   },
   {
    "duration": 22,
    "start_time": "2023-03-10T08:52:58.596Z"
   },
   {
    "duration": 10,
    "start_time": "2023-03-10T08:52:58.620Z"
   },
   {
    "duration": 14,
    "start_time": "2023-03-10T08:52:58.631Z"
   },
   {
    "duration": 6,
    "start_time": "2023-03-10T08:52:58.646Z"
   },
   {
    "duration": 20,
    "start_time": "2023-03-10T08:52:58.654Z"
   },
   {
    "duration": 1576,
    "start_time": "2023-03-10T08:52:58.675Z"
   },
   {
    "duration": 48970,
    "start_time": "2023-03-10T08:53:00.253Z"
   },
   {
    "duration": 9,
    "start_time": "2023-03-10T08:53:49.226Z"
   },
   {
    "duration": 28,
    "start_time": "2023-03-10T08:53:49.239Z"
   },
   {
    "duration": 40,
    "start_time": "2023-03-10T08:53:49.270Z"
   },
   {
    "duration": 29,
    "start_time": "2023-03-10T08:53:49.312Z"
   },
   {
    "duration": 30,
    "start_time": "2023-03-10T08:53:49.343Z"
   },
   {
    "duration": 89,
    "start_time": "2023-03-10T08:53:49.375Z"
   },
   {
    "duration": 55,
    "start_time": "2023-03-10T08:53:49.466Z"
   },
   {
    "duration": 668,
    "start_time": "2023-03-10T08:53:49.523Z"
   },
   {
    "duration": 920,
    "start_time": "2023-03-10T08:53:50.193Z"
   },
   {
    "duration": 444,
    "start_time": "2023-03-10T08:53:51.123Z"
   },
   {
    "duration": 2126,
    "start_time": "2023-03-10T08:53:51.569Z"
   },
   {
    "duration": 3,
    "start_time": "2023-03-10T08:53:53.697Z"
   },
   {
    "duration": 36114,
    "start_time": "2023-03-10T08:53:53.704Z"
   },
   {
    "duration": 9326,
    "start_time": "2023-03-10T08:54:29.821Z"
   },
   {
    "duration": 423,
    "start_time": "2023-03-10T08:54:39.149Z"
   },
   {
    "duration": 199,
    "start_time": "2023-03-10T08:54:39.574Z"
   },
   {
    "duration": 33698,
    "start_time": "2023-03-10T09:07:33.339Z"
   },
   {
    "duration": 390,
    "start_time": "2023-03-10T09:08:38.318Z"
   },
   {
    "duration": 178,
    "start_time": "2023-03-10T09:08:40.851Z"
   },
   {
    "duration": 3,
    "start_time": "2023-03-10T09:12:46.022Z"
   },
   {
    "duration": 30998,
    "start_time": "2023-03-10T09:12:47.906Z"
   },
   {
    "duration": 378,
    "start_time": "2023-03-10T09:13:44.812Z"
   },
   {
    "duration": 161,
    "start_time": "2023-03-10T09:13:45.963Z"
   },
   {
    "duration": 7945,
    "start_time": "2023-03-10T09:13:54.242Z"
   },
   {
    "duration": 185,
    "start_time": "2023-03-10T09:14:05.165Z"
   },
   {
    "duration": 1633,
    "start_time": "2023-03-10T09:14:31.454Z"
   },
   {
    "duration": 167,
    "start_time": "2023-03-10T09:14:33.089Z"
   },
   {
    "duration": 977,
    "start_time": "2023-03-10T09:14:33.258Z"
   },
   {
    "duration": 13,
    "start_time": "2023-03-10T09:14:34.237Z"
   },
   {
    "duration": 51,
    "start_time": "2023-03-10T09:14:34.255Z"
   },
   {
    "duration": 33,
    "start_time": "2023-03-10T09:14:34.309Z"
   },
   {
    "duration": 72,
    "start_time": "2023-03-10T09:14:34.344Z"
   },
   {
    "duration": 30,
    "start_time": "2023-03-10T09:14:34.418Z"
   },
   {
    "duration": 16,
    "start_time": "2023-03-10T09:14:34.450Z"
   },
   {
    "duration": 44,
    "start_time": "2023-03-10T09:14:34.468Z"
   },
   {
    "duration": 1523,
    "start_time": "2023-03-10T09:14:34.514Z"
   },
   {
    "duration": 960,
    "start_time": "2023-03-10T09:14:36.039Z"
   },
   {
    "duration": 0,
    "start_time": "2023-03-10T09:14:37.001Z"
   },
   {
    "duration": 0,
    "start_time": "2023-03-10T09:14:37.003Z"
   },
   {
    "duration": 0,
    "start_time": "2023-03-10T09:14:37.004Z"
   },
   {
    "duration": 0,
    "start_time": "2023-03-10T09:14:37.005Z"
   },
   {
    "duration": 0,
    "start_time": "2023-03-10T09:14:37.006Z"
   },
   {
    "duration": 0,
    "start_time": "2023-03-10T09:14:37.008Z"
   },
   {
    "duration": 0,
    "start_time": "2023-03-10T09:14:37.009Z"
   },
   {
    "duration": 0,
    "start_time": "2023-03-10T09:14:37.010Z"
   },
   {
    "duration": 0,
    "start_time": "2023-03-10T09:14:37.011Z"
   },
   {
    "duration": 0,
    "start_time": "2023-03-10T09:14:37.012Z"
   },
   {
    "duration": 0,
    "start_time": "2023-03-10T09:14:37.013Z"
   },
   {
    "duration": 0,
    "start_time": "2023-03-10T09:14:37.014Z"
   },
   {
    "duration": 0,
    "start_time": "2023-03-10T09:14:37.015Z"
   },
   {
    "duration": 0,
    "start_time": "2023-03-10T09:14:37.017Z"
   },
   {
    "duration": 0,
    "start_time": "2023-03-10T09:14:37.018Z"
   },
   {
    "duration": 0,
    "start_time": "2023-03-10T09:14:37.019Z"
   },
   {
    "duration": 0,
    "start_time": "2023-03-10T09:14:37.020Z"
   },
   {
    "duration": 1523,
    "start_time": "2023-03-10T09:14:45.416Z"
   },
   {
    "duration": 198,
    "start_time": "2023-03-10T09:14:46.941Z"
   },
   {
    "duration": 994,
    "start_time": "2023-03-10T09:14:47.141Z"
   },
   {
    "duration": 10,
    "start_time": "2023-03-10T09:14:48.137Z"
   },
   {
    "duration": 6,
    "start_time": "2023-03-10T09:14:48.149Z"
   },
   {
    "duration": 47,
    "start_time": "2023-03-10T09:14:48.157Z"
   },
   {
    "duration": 3,
    "start_time": "2023-03-10T09:14:48.206Z"
   },
   {
    "duration": 11,
    "start_time": "2023-03-10T09:14:48.211Z"
   },
   {
    "duration": 22,
    "start_time": "2023-03-10T09:14:48.224Z"
   },
   {
    "duration": 15,
    "start_time": "2023-03-10T09:14:48.247Z"
   },
   {
    "duration": 1566,
    "start_time": "2023-03-10T09:14:48.264Z"
   },
   {
    "duration": 1427864,
    "start_time": "2023-03-10T09:14:49.833Z"
   },
   {
    "duration": 9,
    "start_time": "2023-03-10T09:38:37.699Z"
   },
   {
    "duration": 19,
    "start_time": "2023-03-10T09:38:37.711Z"
   },
   {
    "duration": 62,
    "start_time": "2023-03-10T09:38:37.732Z"
   },
   {
    "duration": 34,
    "start_time": "2023-03-10T09:38:37.796Z"
   },
   {
    "duration": 68,
    "start_time": "2023-03-10T09:38:37.832Z"
   },
   {
    "duration": 44,
    "start_time": "2023-03-10T09:38:37.902Z"
   },
   {
    "duration": 4,
    "start_time": "2023-03-10T09:38:37.948Z"
   },
   {
    "duration": 19030,
    "start_time": "2023-03-10T09:38:37.954Z"
   },
   {
    "duration": 16071,
    "start_time": "2023-03-10T09:38:56.986Z"
   },
   {
    "duration": 132636,
    "start_time": "2023-03-10T09:39:13.060Z"
   },
   {
    "duration": 640646,
    "start_time": "2023-03-10T09:41:25.698Z"
   },
   {
    "duration": 0,
    "start_time": "2023-03-10T09:52:06.346Z"
   },
   {
    "duration": 0,
    "start_time": "2023-03-10T09:52:06.348Z"
   },
   {
    "duration": 0,
    "start_time": "2023-03-10T09:52:06.349Z"
   },
   {
    "duration": 0,
    "start_time": "2023-03-10T09:52:06.350Z"
   },
   {
    "duration": 0,
    "start_time": "2023-03-10T09:52:06.351Z"
   },
   {
    "duration": 0,
    "start_time": "2023-03-10T09:52:06.352Z"
   },
   {
    "duration": 1537,
    "start_time": "2023-03-10T09:52:23.929Z"
   },
   {
    "duration": 193,
    "start_time": "2023-03-10T09:52:25.469Z"
   },
   {
    "duration": 970,
    "start_time": "2023-03-10T09:52:25.664Z"
   },
   {
    "duration": 11,
    "start_time": "2023-03-10T09:52:26.636Z"
   },
   {
    "duration": 9,
    "start_time": "2023-03-10T09:52:26.649Z"
   },
   {
    "duration": 46,
    "start_time": "2023-03-10T09:52:26.660Z"
   },
   {
    "duration": 47,
    "start_time": "2023-03-10T09:52:26.708Z"
   },
   {
    "duration": 99,
    "start_time": "2023-03-10T09:52:26.757Z"
   },
   {
    "duration": 17,
    "start_time": "2023-03-10T09:52:26.858Z"
   },
   {
    "duration": 24,
    "start_time": "2023-03-10T09:52:26.878Z"
   },
   {
    "duration": 1560,
    "start_time": "2023-03-10T09:52:26.904Z"
   },
   {
    "duration": 44613,
    "start_time": "2023-03-10T09:52:28.466Z"
   },
   {
    "duration": 10,
    "start_time": "2023-03-10T09:53:13.081Z"
   },
   {
    "duration": 10,
    "start_time": "2023-03-10T09:53:13.094Z"
   },
   {
    "duration": 12,
    "start_time": "2023-03-10T09:53:13.106Z"
   },
   {
    "duration": 44,
    "start_time": "2023-03-10T09:53:13.120Z"
   },
   {
    "duration": 17,
    "start_time": "2023-03-10T09:53:13.167Z"
   },
   {
    "duration": 50,
    "start_time": "2023-03-10T09:53:13.186Z"
   },
   {
    "duration": 32,
    "start_time": "2023-03-10T09:53:13.238Z"
   },
   {
    "duration": 577,
    "start_time": "2023-03-10T09:53:13.272Z"
   },
   {
    "duration": 533,
    "start_time": "2023-03-10T09:53:13.850Z"
   },
   {
    "duration": 470,
    "start_time": "2023-03-10T09:53:14.391Z"
   },
   {
    "duration": 2040,
    "start_time": "2023-03-10T09:53:14.863Z"
   },
   {
    "duration": 4,
    "start_time": "2023-03-10T09:53:16.905Z"
   },
   {
    "duration": 20,
    "start_time": "2023-03-10T09:53:16.911Z"
   },
   {
    "duration": 33022,
    "start_time": "2023-03-10T09:53:16.933Z"
   },
   {
    "duration": 8778,
    "start_time": "2023-03-10T09:53:49.957Z"
   },
   {
    "duration": 411,
    "start_time": "2023-03-10T09:53:58.739Z"
   },
   {
    "duration": 202,
    "start_time": "2023-03-10T09:53:59.152Z"
   },
   {
    "duration": 724,
    "start_time": "2023-03-10T09:58:50.034Z"
   },
   {
    "duration": 1492,
    "start_time": "2023-03-10T09:58:57.092Z"
   },
   {
    "duration": 236,
    "start_time": "2023-03-10T09:58:58.587Z"
   },
   {
    "duration": 943,
    "start_time": "2023-03-10T09:58:58.826Z"
   },
   {
    "duration": 13,
    "start_time": "2023-03-10T09:58:59.771Z"
   },
   {
    "duration": 33,
    "start_time": "2023-03-10T09:58:59.786Z"
   },
   {
    "duration": 26,
    "start_time": "2023-03-10T09:58:59.821Z"
   },
   {
    "duration": 14,
    "start_time": "2023-03-10T09:58:59.849Z"
   },
   {
    "duration": 10,
    "start_time": "2023-03-10T09:58:59.865Z"
   },
   {
    "duration": 18,
    "start_time": "2023-03-10T09:58:59.877Z"
   },
   {
    "duration": 18,
    "start_time": "2023-03-10T09:58:59.897Z"
   },
   {
    "duration": 1450,
    "start_time": "2023-03-10T09:58:59.917Z"
   },
   {
    "duration": 41313,
    "start_time": "2023-03-10T09:59:01.368Z"
   },
   {
    "duration": 10,
    "start_time": "2023-03-10T09:59:42.683Z"
   },
   {
    "duration": 10,
    "start_time": "2023-03-10T09:59:42.697Z"
   },
   {
    "duration": 29,
    "start_time": "2023-03-10T09:59:42.709Z"
   },
   {
    "duration": 133,
    "start_time": "2023-03-10T09:59:42.740Z"
   },
   {
    "duration": 11,
    "start_time": "2023-03-10T09:59:42.875Z"
   },
   {
    "duration": 48,
    "start_time": "2023-03-10T09:59:42.888Z"
   },
   {
    "duration": 10,
    "start_time": "2023-03-10T09:59:42.938Z"
   },
   {
    "duration": 533,
    "start_time": "2023-03-10T09:59:42.950Z"
   },
   {
    "duration": 298,
    "start_time": "2023-03-10T09:59:43.485Z"
   },
   {
    "duration": 431,
    "start_time": "2023-03-10T09:59:43.786Z"
   },
   {
    "duration": 1875,
    "start_time": "2023-03-10T09:59:44.219Z"
   },
   {
    "duration": 3,
    "start_time": "2023-03-10T09:59:46.096Z"
   },
   {
    "duration": 8,
    "start_time": "2023-03-10T09:59:46.101Z"
   },
   {
    "duration": 29236,
    "start_time": "2023-03-10T09:59:46.111Z"
   },
   {
    "duration": 7871,
    "start_time": "2023-03-10T10:00:15.349Z"
   },
   {
    "duration": 336,
    "start_time": "2023-03-10T10:00:23.221Z"
   },
   {
    "duration": 185,
    "start_time": "2023-03-10T10:00:23.559Z"
   },
   {
    "duration": 1393,
    "start_time": "2023-03-10T11:17:45.985Z"
   },
   {
    "duration": 3566,
    "start_time": "2023-03-10T11:17:47.380Z"
   },
   {
    "duration": 3509,
    "start_time": "2023-03-10T11:17:50.948Z"
   },
   {
    "duration": 11,
    "start_time": "2023-03-10T11:17:54.459Z"
   },
   {
    "duration": 3,
    "start_time": "2023-03-10T11:17:54.473Z"
   },
   {
    "duration": 16,
    "start_time": "2023-03-10T11:17:54.478Z"
   },
   {
    "duration": 6,
    "start_time": "2023-03-10T11:17:54.496Z"
   },
   {
    "duration": 5,
    "start_time": "2023-03-10T11:17:54.503Z"
   },
   {
    "duration": 7,
    "start_time": "2023-03-10T11:17:54.510Z"
   },
   {
    "duration": 34,
    "start_time": "2023-03-10T11:17:54.519Z"
   },
   {
    "duration": 1356,
    "start_time": "2023-03-10T11:17:54.555Z"
   },
   {
    "duration": 39328,
    "start_time": "2023-03-10T11:17:55.913Z"
   },
   {
    "duration": 10,
    "start_time": "2023-03-10T11:18:35.253Z"
   },
   {
    "duration": 13,
    "start_time": "2023-03-10T11:18:35.267Z"
   },
   {
    "duration": 20,
    "start_time": "2023-03-10T11:18:35.282Z"
   },
   {
    "duration": 17,
    "start_time": "2023-03-10T11:18:35.304Z"
   },
   {
    "duration": 24,
    "start_time": "2023-03-10T11:18:35.323Z"
   },
   {
    "duration": 13,
    "start_time": "2023-03-10T11:18:35.349Z"
   },
   {
    "duration": 6,
    "start_time": "2023-03-10T11:18:35.364Z"
   },
   {
    "duration": 497,
    "start_time": "2023-03-10T11:18:35.372Z"
   },
   {
    "duration": 494,
    "start_time": "2023-03-10T11:18:35.871Z"
   },
   {
    "duration": 497,
    "start_time": "2023-03-10T11:18:36.367Z"
   },
   {
    "duration": 1658,
    "start_time": "2023-03-10T11:18:36.866Z"
   },
   {
    "duration": 3,
    "start_time": "2023-03-10T11:18:38.526Z"
   },
   {
    "duration": 27988,
    "start_time": "2023-03-10T11:18:38.531Z"
   },
   {
    "duration": 7400,
    "start_time": "2023-03-10T11:19:06.521Z"
   },
   {
    "duration": 398,
    "start_time": "2023-03-10T11:19:13.924Z"
   },
   {
    "duration": 170,
    "start_time": "2023-03-10T11:19:14.324Z"
   },
   {
    "duration": 1689,
    "start_time": "2023-03-10T11:33:29.198Z"
   },
   {
    "duration": 351,
    "start_time": "2023-03-10T11:33:30.890Z"
   },
   {
    "duration": 911,
    "start_time": "2023-03-10T11:33:31.243Z"
   },
   {
    "duration": 11,
    "start_time": "2023-03-10T11:33:32.156Z"
   },
   {
    "duration": 3,
    "start_time": "2023-03-10T11:33:32.170Z"
   },
   {
    "duration": 23,
    "start_time": "2023-03-10T11:33:32.176Z"
   },
   {
    "duration": 5,
    "start_time": "2023-03-10T11:33:32.201Z"
   },
   {
    "duration": 11,
    "start_time": "2023-03-10T11:33:32.208Z"
   },
   {
    "duration": 32,
    "start_time": "2023-03-10T11:33:32.221Z"
   },
   {
    "duration": 6,
    "start_time": "2023-03-10T11:33:32.256Z"
   },
   {
    "duration": 1523,
    "start_time": "2023-03-10T11:33:32.264Z"
   },
   {
    "duration": 381364,
    "start_time": "2023-03-10T11:33:33.789Z"
   },
   {
    "duration": 9,
    "start_time": "2023-03-10T11:39:55.155Z"
   },
   {
    "duration": 4,
    "start_time": "2023-03-10T11:39:55.167Z"
   },
   {
    "duration": 46,
    "start_time": "2023-03-10T11:39:55.172Z"
   },
   {
    "duration": 2,
    "start_time": "2023-03-10T11:39:55.220Z"
   },
   {
    "duration": 5,
    "start_time": "2023-03-10T11:39:55.223Z"
   },
   {
    "duration": 5,
    "start_time": "2023-03-10T11:39:55.230Z"
   },
   {
    "duration": 18,
    "start_time": "2023-03-10T11:39:55.237Z"
   },
   {
    "duration": 3215,
    "start_time": "2023-03-10T11:39:55.256Z"
   },
   {
    "duration": 118,
    "start_time": "2023-03-10T11:39:58.473Z"
   },
   {
    "duration": 0,
    "start_time": "2023-03-10T11:39:58.593Z"
   },
   {
    "duration": 0,
    "start_time": "2023-03-10T11:39:58.594Z"
   },
   {
    "duration": 0,
    "start_time": "2023-03-10T11:39:58.595Z"
   },
   {
    "duration": 0,
    "start_time": "2023-03-10T11:39:58.596Z"
   },
   {
    "duration": 0,
    "start_time": "2023-03-10T11:39:58.597Z"
   },
   {
    "duration": 0,
    "start_time": "2023-03-10T11:39:58.598Z"
   },
   {
    "duration": 0,
    "start_time": "2023-03-10T11:39:58.599Z"
   },
   {
    "duration": 11,
    "start_time": "2023-03-10T11:41:07.368Z"
   },
   {
    "duration": 2925,
    "start_time": "2023-03-10T11:41:32.329Z"
   },
   {
    "duration": 9953,
    "start_time": "2023-03-10T11:41:48.170Z"
   },
   {
    "duration": 49112,
    "start_time": "2023-03-10T11:41:58.125Z"
   },
   {
    "duration": 3,
    "start_time": "2023-03-10T11:43:23.685Z"
   },
   {
    "duration": 12,
    "start_time": "2023-03-10T11:43:24.268Z"
   },
   {
    "duration": 182183,
    "start_time": "2023-03-10T11:43:44.239Z"
   },
   {
    "duration": 93021,
    "start_time": "2023-03-10T11:46:46.424Z"
   },
   {
    "duration": 1306,
    "start_time": "2023-03-10T11:52:06.059Z"
   },
   {
    "duration": 1953,
    "start_time": "2023-03-10T11:52:07.368Z"
   },
   {
    "duration": 1415,
    "start_time": "2023-03-10T11:52:43.594Z"
   },
   {
    "duration": 4585,
    "start_time": "2023-03-10T11:53:32.178Z"
   },
   {
    "duration": 9204,
    "start_time": "2023-03-10T11:55:20.749Z"
   },
   {
    "duration": 8177,
    "start_time": "2023-03-10T11:56:50.477Z"
   },
   {
    "duration": 5050,
    "start_time": "2023-03-10T11:57:10.012Z"
   },
   {
    "duration": 6817,
    "start_time": "2023-03-10T11:57:26.342Z"
   },
   {
    "duration": 18,
    "start_time": "2023-03-10T11:57:45.147Z"
   },
   {
    "duration": 1027,
    "start_time": "2023-03-10T11:57:57.276Z"
   },
   {
    "duration": 3311,
    "start_time": "2023-03-10T11:58:08.251Z"
   },
   {
    "duration": 7,
    "start_time": "2023-03-10T12:02:01.047Z"
   },
   {
    "duration": 16,
    "start_time": "2023-03-10T12:02:01.916Z"
   },
   {
    "duration": 1521,
    "start_time": "2023-03-10T12:02:14.974Z"
   },
   {
    "duration": 319,
    "start_time": "2023-03-10T12:02:16.497Z"
   },
   {
    "duration": 837,
    "start_time": "2023-03-10T12:02:16.817Z"
   },
   {
    "duration": 13,
    "start_time": "2023-03-10T12:02:17.656Z"
   },
   {
    "duration": 3,
    "start_time": "2023-03-10T12:02:17.672Z"
   },
   {
    "duration": 20,
    "start_time": "2023-03-10T12:02:17.677Z"
   },
   {
    "duration": 4,
    "start_time": "2023-03-10T12:02:17.699Z"
   },
   {
    "duration": 8,
    "start_time": "2023-03-10T12:02:17.705Z"
   },
   {
    "duration": 38,
    "start_time": "2023-03-10T12:02:17.715Z"
   },
   {
    "duration": 4,
    "start_time": "2023-03-10T12:02:17.756Z"
   },
   {
    "duration": 1410,
    "start_time": "2023-03-10T12:02:17.762Z"
   },
   {
    "duration": 7657,
    "start_time": "2023-03-10T12:02:19.173Z"
   },
   {
    "duration": 0,
    "start_time": "2023-03-10T12:02:26.833Z"
   },
   {
    "duration": 0,
    "start_time": "2023-03-10T12:02:26.834Z"
   },
   {
    "duration": 0,
    "start_time": "2023-03-10T12:02:26.836Z"
   },
   {
    "duration": 0,
    "start_time": "2023-03-10T12:02:26.837Z"
   },
   {
    "duration": 0,
    "start_time": "2023-03-10T12:02:26.839Z"
   },
   {
    "duration": 0,
    "start_time": "2023-03-10T12:02:26.840Z"
   },
   {
    "duration": 0,
    "start_time": "2023-03-10T12:02:26.841Z"
   },
   {
    "duration": 0,
    "start_time": "2023-03-10T12:02:26.843Z"
   },
   {
    "duration": 0,
    "start_time": "2023-03-10T12:02:26.844Z"
   },
   {
    "duration": 0,
    "start_time": "2023-03-10T12:02:26.845Z"
   },
   {
    "duration": 0,
    "start_time": "2023-03-10T12:02:26.847Z"
   },
   {
    "duration": 0,
    "start_time": "2023-03-10T12:02:26.849Z"
   },
   {
    "duration": 0,
    "start_time": "2023-03-10T12:02:26.850Z"
   },
   {
    "duration": 0,
    "start_time": "2023-03-10T12:02:26.851Z"
   },
   {
    "duration": 0,
    "start_time": "2023-03-10T12:02:26.853Z"
   },
   {
    "duration": 0,
    "start_time": "2023-03-10T12:02:26.854Z"
   },
   {
    "duration": 0,
    "start_time": "2023-03-10T12:02:26.855Z"
   },
   {
    "duration": 1520,
    "start_time": "2023-03-10T12:02:39.131Z"
   },
   {
    "duration": 323,
    "start_time": "2023-03-10T12:02:40.653Z"
   },
   {
    "duration": 817,
    "start_time": "2023-03-10T12:02:40.977Z"
   },
   {
    "duration": 10,
    "start_time": "2023-03-10T12:02:41.796Z"
   },
   {
    "duration": 4,
    "start_time": "2023-03-10T12:02:41.808Z"
   },
   {
    "duration": 17,
    "start_time": "2023-03-10T12:02:41.814Z"
   },
   {
    "duration": 7,
    "start_time": "2023-03-10T12:02:41.832Z"
   },
   {
    "duration": 2,
    "start_time": "2023-03-10T12:02:41.854Z"
   },
   {
    "duration": 8,
    "start_time": "2023-03-10T12:02:41.858Z"
   },
   {
    "duration": 9,
    "start_time": "2023-03-10T12:02:41.867Z"
   },
   {
    "duration": 1393,
    "start_time": "2023-03-10T12:02:41.878Z"
   },
   {
    "duration": 39330,
    "start_time": "2023-03-10T12:02:43.273Z"
   },
   {
    "duration": 10,
    "start_time": "2023-03-10T12:03:22.605Z"
   },
   {
    "duration": 7,
    "start_time": "2023-03-10T12:03:22.617Z"
   },
   {
    "duration": 29,
    "start_time": "2023-03-10T12:03:22.626Z"
   },
   {
    "duration": 3,
    "start_time": "2023-03-10T12:03:22.656Z"
   },
   {
    "duration": 14,
    "start_time": "2023-03-10T12:03:22.661Z"
   },
   {
    "duration": 7,
    "start_time": "2023-03-10T12:03:22.677Z"
   },
   {
    "duration": 6,
    "start_time": "2023-03-10T12:03:22.686Z"
   },
   {
    "duration": 321,
    "start_time": "2023-03-10T12:03:22.693Z"
   },
   {
    "duration": 542,
    "start_time": "2023-03-10T12:03:23.016Z"
   },
   {
    "duration": 496,
    "start_time": "2023-03-10T12:03:23.560Z"
   },
   {
    "duration": 1275,
    "start_time": "2023-03-10T12:03:24.058Z"
   },
   {
    "duration": 3,
    "start_time": "2023-03-10T12:03:25.335Z"
   },
   {
    "duration": 17107,
    "start_time": "2023-03-10T12:03:25.339Z"
   },
   {
    "duration": 5252,
    "start_time": "2023-03-10T12:03:42.448Z"
   },
   {
    "duration": 246,
    "start_time": "2023-03-10T12:03:47.701Z"
   },
   {
    "duration": 152,
    "start_time": "2023-03-10T12:03:47.949Z"
   },
   {
    "duration": 163,
    "start_time": "2023-03-10T12:03:48.103Z"
   },
   {
    "duration": 1469,
    "start_time": "2023-03-10T12:26:59.053Z"
   },
   {
    "duration": 744,
    "start_time": "2023-03-10T12:27:00.524Z"
   },
   {
    "duration": 830,
    "start_time": "2023-03-10T12:27:01.270Z"
   },
   {
    "duration": 11,
    "start_time": "2023-03-10T12:27:02.102Z"
   },
   {
    "duration": 26,
    "start_time": "2023-03-10T12:27:02.114Z"
   },
   {
    "duration": 45,
    "start_time": "2023-03-10T12:27:02.142Z"
   },
   {
    "duration": 27,
    "start_time": "2023-03-10T12:27:02.189Z"
   },
   {
    "duration": 44,
    "start_time": "2023-03-10T12:27:02.217Z"
   },
   {
    "duration": 22,
    "start_time": "2023-03-10T12:27:02.263Z"
   },
   {
    "duration": 33,
    "start_time": "2023-03-10T12:27:02.287Z"
   },
   {
    "duration": 1456,
    "start_time": "2023-03-10T12:27:02.322Z"
   },
   {
    "duration": 38421,
    "start_time": "2023-03-10T12:27:03.780Z"
   },
   {
    "duration": 8,
    "start_time": "2023-03-10T12:27:42.203Z"
   },
   {
    "duration": 4,
    "start_time": "2023-03-10T12:27:42.212Z"
   },
   {
    "duration": 9,
    "start_time": "2023-03-10T12:27:42.217Z"
   },
   {
    "duration": 3,
    "start_time": "2023-03-10T12:27:42.227Z"
   },
   {
    "duration": 2,
    "start_time": "2023-03-10T12:27:42.254Z"
   },
   {
    "duration": 7,
    "start_time": "2023-03-10T12:27:42.258Z"
   },
   {
    "duration": 5,
    "start_time": "2023-03-10T12:27:42.267Z"
   },
   {
    "duration": 336,
    "start_time": "2023-03-10T12:27:42.273Z"
   },
   {
    "duration": 152,
    "start_time": "2023-03-10T12:27:42.611Z"
   },
   {
    "duration": 350,
    "start_time": "2023-03-10T12:27:42.854Z"
   },
   {
    "duration": 1260,
    "start_time": "2023-03-10T12:27:43.206Z"
   },
   {
    "duration": 2,
    "start_time": "2023-03-10T12:27:44.468Z"
   },
   {
    "duration": 16070,
    "start_time": "2023-03-10T12:27:44.472Z"
   },
   {
    "duration": 5294,
    "start_time": "2023-03-10T12:28:00.544Z"
   },
   {
    "duration": 245,
    "start_time": "2023-03-10T12:28:05.839Z"
   },
   {
    "duration": 145,
    "start_time": "2023-03-10T12:28:06.086Z"
   },
   {
    "duration": 222,
    "start_time": "2023-03-10T12:28:06.232Z"
   },
   {
    "duration": 4,
    "start_time": "2023-03-10T12:29:43.770Z"
   },
   {
    "duration": 3,
    "start_time": "2023-03-10T12:29:44.753Z"
   },
   {
    "duration": 10,
    "start_time": "2023-03-10T12:29:45.426Z"
   },
   {
    "duration": 1502,
    "start_time": "2023-03-10T12:29:52.353Z"
   },
   {
    "duration": 299,
    "start_time": "2023-03-10T12:29:53.857Z"
   },
   {
    "duration": 855,
    "start_time": "2023-03-10T12:29:54.160Z"
   },
   {
    "duration": 13,
    "start_time": "2023-03-10T12:29:55.018Z"
   },
   {
    "duration": 3,
    "start_time": "2023-03-10T12:29:55.033Z"
   },
   {
    "duration": 20,
    "start_time": "2023-03-10T12:29:55.038Z"
   },
   {
    "duration": 28,
    "start_time": "2023-03-10T12:29:55.060Z"
   },
   {
    "duration": 11,
    "start_time": "2023-03-10T12:29:55.090Z"
   },
   {
    "duration": 11,
    "start_time": "2023-03-10T12:29:55.102Z"
   },
   {
    "duration": 19,
    "start_time": "2023-03-10T12:29:55.116Z"
   },
   {
    "duration": 1492,
    "start_time": "2023-03-10T12:29:55.136Z"
   },
   {
    "duration": 39605,
    "start_time": "2023-03-10T12:29:56.629Z"
   },
   {
    "duration": 18,
    "start_time": "2023-03-10T12:30:36.236Z"
   },
   {
    "duration": 9,
    "start_time": "2023-03-10T12:30:36.256Z"
   },
   {
    "duration": 19,
    "start_time": "2023-03-10T12:30:36.267Z"
   },
   {
    "duration": 7,
    "start_time": "2023-03-10T12:30:36.288Z"
   },
   {
    "duration": 10,
    "start_time": "2023-03-10T12:30:36.297Z"
   },
   {
    "duration": 26,
    "start_time": "2023-03-10T12:30:36.309Z"
   },
   {
    "duration": 8,
    "start_time": "2023-03-10T12:30:36.337Z"
   },
   {
    "duration": 332,
    "start_time": "2023-03-10T12:30:36.346Z"
   },
   {
    "duration": 182,
    "start_time": "2023-03-10T12:30:36.681Z"
   },
   {
    "duration": 448,
    "start_time": "2023-03-10T12:30:36.864Z"
   },
   {
    "duration": 1256,
    "start_time": "2023-03-10T12:30:37.313Z"
   },
   {
    "duration": 3,
    "start_time": "2023-03-10T12:30:38.572Z"
   },
   {
    "duration": 16463,
    "start_time": "2023-03-10T12:30:38.577Z"
   },
   {
    "duration": 5271,
    "start_time": "2023-03-10T12:30:55.042Z"
   },
   {
    "duration": 275,
    "start_time": "2023-03-10T12:31:00.316Z"
   },
   {
    "duration": 146,
    "start_time": "2023-03-10T12:31:00.595Z"
   },
   {
    "duration": 211,
    "start_time": "2023-03-10T12:31:00.743Z"
   },
   {
    "duration": 1608,
    "start_time": "2023-03-10T12:35:47.710Z"
   },
   {
    "duration": 249,
    "start_time": "2023-03-10T12:35:49.320Z"
   },
   {
    "duration": 963,
    "start_time": "2023-03-10T12:35:49.571Z"
   },
   {
    "duration": 11,
    "start_time": "2023-03-10T12:35:50.536Z"
   },
   {
    "duration": 2,
    "start_time": "2023-03-10T12:35:50.555Z"
   },
   {
    "duration": 29,
    "start_time": "2023-03-10T12:35:50.559Z"
   },
   {
    "duration": 25,
    "start_time": "2023-03-10T12:35:50.589Z"
   },
   {
    "duration": 19,
    "start_time": "2023-03-10T12:35:50.616Z"
   },
   {
    "duration": 10,
    "start_time": "2023-03-10T12:35:50.637Z"
   },
   {
    "duration": 53,
    "start_time": "2023-03-10T12:35:50.649Z"
   },
   {
    "duration": 1518,
    "start_time": "2023-03-10T12:35:50.704Z"
   },
   {
    "duration": 38582,
    "start_time": "2023-03-10T12:35:52.223Z"
   },
   {
    "duration": 8,
    "start_time": "2023-03-10T12:36:30.807Z"
   },
   {
    "duration": 37,
    "start_time": "2023-03-10T12:36:30.818Z"
   },
   {
    "duration": 171,
    "start_time": "2023-03-10T12:36:30.857Z"
   },
   {
    "duration": 0,
    "start_time": "2023-03-10T12:36:31.030Z"
   },
   {
    "duration": 0,
    "start_time": "2023-03-10T12:36:31.031Z"
   },
   {
    "duration": 0,
    "start_time": "2023-03-10T12:36:31.032Z"
   },
   {
    "duration": 0,
    "start_time": "2023-03-10T12:36:31.033Z"
   },
   {
    "duration": 0,
    "start_time": "2023-03-10T12:36:31.035Z"
   },
   {
    "duration": 0,
    "start_time": "2023-03-10T12:36:31.036Z"
   },
   {
    "duration": 0,
    "start_time": "2023-03-10T12:36:31.037Z"
   },
   {
    "duration": 0,
    "start_time": "2023-03-10T12:36:31.038Z"
   },
   {
    "duration": 0,
    "start_time": "2023-03-10T12:36:31.054Z"
   },
   {
    "duration": 0,
    "start_time": "2023-03-10T12:36:31.056Z"
   },
   {
    "duration": 0,
    "start_time": "2023-03-10T12:36:31.057Z"
   },
   {
    "duration": 0,
    "start_time": "2023-03-10T12:36:31.059Z"
   },
   {
    "duration": 0,
    "start_time": "2023-03-10T12:36:31.060Z"
   },
   {
    "duration": 0,
    "start_time": "2023-03-10T12:36:31.061Z"
   },
   {
    "duration": 16,
    "start_time": "2023-03-10T12:37:31.371Z"
   },
   {
    "duration": 5,
    "start_time": "2023-03-10T12:37:36.718Z"
   },
   {
    "duration": 340,
    "start_time": "2023-03-10T12:37:37.073Z"
   },
   {
    "duration": 146,
    "start_time": "2023-03-10T12:37:40.312Z"
   },
   {
    "duration": 229,
    "start_time": "2023-03-10T12:37:42.737Z"
   },
   {
    "duration": 1367,
    "start_time": "2023-03-10T12:37:43.565Z"
   },
   {
    "duration": 4,
    "start_time": "2023-03-10T12:37:47.824Z"
   },
   {
    "duration": 16597,
    "start_time": "2023-03-10T12:37:48.628Z"
   },
   {
    "duration": 5331,
    "start_time": "2023-03-10T12:38:05.228Z"
   },
   {
    "duration": 244,
    "start_time": "2023-03-10T12:38:10.561Z"
   },
   {
    "duration": 142,
    "start_time": "2023-03-10T12:38:10.808Z"
   },
   {
    "duration": 109,
    "start_time": "2023-03-10T12:38:10.954Z"
   },
   {
    "duration": 1471,
    "start_time": "2023-03-10T12:39:45.188Z"
   },
   {
    "duration": 316,
    "start_time": "2023-03-10T12:39:46.661Z"
   },
   {
    "duration": 848,
    "start_time": "2023-03-10T12:39:46.978Z"
   },
   {
    "duration": 10,
    "start_time": "2023-03-10T12:39:47.827Z"
   },
   {
    "duration": 14,
    "start_time": "2023-03-10T12:39:47.840Z"
   },
   {
    "duration": 14,
    "start_time": "2023-03-10T12:39:47.855Z"
   },
   {
    "duration": 9,
    "start_time": "2023-03-10T12:39:47.871Z"
   },
   {
    "duration": 4,
    "start_time": "2023-03-10T12:39:47.881Z"
   },
   {
    "duration": 12,
    "start_time": "2023-03-10T12:39:47.887Z"
   },
   {
    "duration": 7,
    "start_time": "2023-03-10T12:39:47.900Z"
   },
   {
    "duration": 1539,
    "start_time": "2023-03-10T12:39:47.909Z"
   },
   {
    "duration": 38776,
    "start_time": "2023-03-10T12:39:49.452Z"
   },
   {
    "duration": 9,
    "start_time": "2023-03-10T12:40:28.230Z"
   },
   {
    "duration": 15,
    "start_time": "2023-03-10T12:40:28.241Z"
   },
   {
    "duration": 11,
    "start_time": "2023-03-10T12:40:28.258Z"
   },
   {
    "duration": 5,
    "start_time": "2023-03-10T12:40:28.271Z"
   },
   {
    "duration": 3,
    "start_time": "2023-03-10T12:40:28.278Z"
   },
   {
    "duration": 6,
    "start_time": "2023-03-10T12:40:28.283Z"
   },
   {
    "duration": 6,
    "start_time": "2023-03-10T12:40:28.291Z"
   },
   {
    "duration": 386,
    "start_time": "2023-03-10T12:40:28.299Z"
   },
   {
    "duration": 174,
    "start_time": "2023-03-10T12:40:28.686Z"
   },
   {
    "duration": 466,
    "start_time": "2023-03-10T12:40:28.862Z"
   },
   {
    "duration": 1395,
    "start_time": "2023-03-10T12:40:29.330Z"
   },
   {
    "duration": 3,
    "start_time": "2023-03-10T12:40:30.727Z"
   },
   {
    "duration": 16300,
    "start_time": "2023-03-10T12:40:30.732Z"
   },
   {
    "duration": 5527,
    "start_time": "2023-03-10T12:40:47.033Z"
   },
   {
    "duration": 281,
    "start_time": "2023-03-10T12:40:52.563Z"
   },
   {
    "duration": 169,
    "start_time": "2023-03-10T12:40:52.846Z"
   },
   {
    "duration": 337,
    "start_time": "2023-03-10T12:40:53.017Z"
   },
   {
    "duration": 16641,
    "start_time": "2023-03-10T12:41:00.887Z"
   },
   {
    "duration": 5137,
    "start_time": "2023-03-10T12:41:17.530Z"
   },
   {
    "duration": 243,
    "start_time": "2023-03-10T12:41:22.669Z"
   },
   {
    "duration": 140,
    "start_time": "2023-03-10T12:41:22.915Z"
   },
   {
    "duration": 1585,
    "start_time": "2023-03-10T17:30:44.028Z"
   },
   {
    "duration": 2526,
    "start_time": "2023-03-10T17:30:45.616Z"
   },
   {
    "duration": 2379,
    "start_time": "2023-03-10T17:30:48.144Z"
   },
   {
    "duration": 11,
    "start_time": "2023-03-10T17:30:50.525Z"
   },
   {
    "duration": 3,
    "start_time": "2023-03-10T17:30:50.539Z"
   },
   {
    "duration": 21,
    "start_time": "2023-03-10T17:30:50.544Z"
   },
   {
    "duration": 4,
    "start_time": "2023-03-10T17:30:50.567Z"
   },
   {
    "duration": 8,
    "start_time": "2023-03-10T17:30:50.573Z"
   },
   {
    "duration": 7,
    "start_time": "2023-03-10T17:30:50.582Z"
   },
   {
    "duration": 8,
    "start_time": "2023-03-10T17:30:50.591Z"
   },
   {
    "duration": 1469,
    "start_time": "2023-03-10T17:30:50.600Z"
   },
   {
    "duration": 397670,
    "start_time": "2023-03-10T17:30:52.071Z"
   },
   {
    "duration": 31,
    "start_time": "2023-03-10T17:37:29.742Z"
   },
   {
    "duration": 12,
    "start_time": "2023-03-10T17:37:29.776Z"
   },
   {
    "duration": 19,
    "start_time": "2023-03-10T17:37:29.789Z"
   },
   {
    "duration": 3,
    "start_time": "2023-03-10T17:37:29.809Z"
   },
   {
    "duration": 15,
    "start_time": "2023-03-10T17:37:29.813Z"
   },
   {
    "duration": 20,
    "start_time": "2023-03-10T17:37:29.829Z"
   },
   {
    "duration": 22,
    "start_time": "2023-03-10T17:37:29.851Z"
   },
   {
    "duration": 1627,
    "start_time": "2023-03-10T17:37:29.874Z"
   },
   {
    "duration": 0,
    "start_time": "2023-03-10T17:37:31.502Z"
   },
   {
    "duration": 0,
    "start_time": "2023-03-10T17:37:31.503Z"
   },
   {
    "duration": 0,
    "start_time": "2023-03-10T17:37:31.504Z"
   },
   {
    "duration": 0,
    "start_time": "2023-03-10T17:37:31.505Z"
   },
   {
    "duration": 0,
    "start_time": "2023-03-10T17:37:31.506Z"
   },
   {
    "duration": 0,
    "start_time": "2023-03-10T17:37:31.507Z"
   },
   {
    "duration": 0,
    "start_time": "2023-03-10T17:37:31.508Z"
   },
   {
    "duration": 0,
    "start_time": "2023-03-10T17:37:31.509Z"
   },
   {
    "duration": 0,
    "start_time": "2023-03-10T17:37:31.510Z"
   },
   {
    "duration": 0,
    "start_time": "2023-03-10T17:37:31.511Z"
   },
   {
    "duration": 3428,
    "start_time": "2023-03-10T17:37:37.538Z"
   },
   {
    "duration": 8330,
    "start_time": "2023-03-10T17:39:48.128Z"
   },
   {
    "duration": 9425,
    "start_time": "2023-03-10T17:40:33.833Z"
   },
   {
    "duration": 7536,
    "start_time": "2023-03-10T17:40:47.221Z"
   },
   {
    "duration": 9965,
    "start_time": "2023-03-10T17:41:03.192Z"
   },
   {
    "duration": 16806,
    "start_time": "2023-03-10T17:42:27.464Z"
   },
   {
    "duration": 82714,
    "start_time": "2023-03-10T17:42:44.272Z"
   },
   {
    "duration": 3,
    "start_time": "2023-03-10T17:44:11.022Z"
   },
   {
    "duration": 259821,
    "start_time": "2023-03-10T17:44:12.027Z"
   },
   {
    "duration": 159777,
    "start_time": "2023-03-10T17:48:31.850Z"
   },
   {
    "duration": 1594,
    "start_time": "2023-03-10T17:51:11.629Z"
   },
   {
    "duration": 3141,
    "start_time": "2023-03-10T17:51:13.225Z"
   },
   {
    "duration": 12045,
    "start_time": "2023-03-10T17:52:05.025Z"
   },
   {
    "duration": 74,
    "start_time": "2023-03-10T18:17:07.147Z"
   },
   {
    "duration": 4,
    "start_time": "2023-03-10T18:21:47.278Z"
   },
   {
    "duration": 4,
    "start_time": "2023-03-10T18:28:07.144Z"
   },
   {
    "duration": 2,
    "start_time": "2023-03-10T18:29:43.437Z"
   },
   {
    "duration": 272997,
    "start_time": "2023-03-10T18:29:44.074Z"
   },
   {
    "duration": 161393,
    "start_time": "2023-03-10T18:34:17.074Z"
   },
   {
    "duration": 1666,
    "start_time": "2023-03-10T18:36:58.469Z"
   },
   {
    "duration": 3109,
    "start_time": "2023-03-10T18:37:00.137Z"
   },
   {
    "duration": 1324,
    "start_time": "2023-03-10T18:38:53.011Z"
   },
   {
    "duration": 241,
    "start_time": "2023-03-10T18:38:54.337Z"
   },
   {
    "duration": 874,
    "start_time": "2023-03-10T18:38:54.580Z"
   },
   {
    "duration": 11,
    "start_time": "2023-03-10T18:38:55.457Z"
   },
   {
    "duration": 8,
    "start_time": "2023-03-10T18:38:55.471Z"
   },
   {
    "duration": 29,
    "start_time": "2023-03-10T18:38:55.481Z"
   },
   {
    "duration": 21,
    "start_time": "2023-03-10T18:38:55.511Z"
   },
   {
    "duration": 33,
    "start_time": "2023-03-10T18:38:55.537Z"
   },
   {
    "duration": 7,
    "start_time": "2023-03-10T18:38:55.572Z"
   },
   {
    "duration": 16,
    "start_time": "2023-03-10T18:38:55.580Z"
   },
   {
    "duration": 1394,
    "start_time": "2023-03-10T18:38:55.603Z"
   },
   {
    "duration": 413776,
    "start_time": "2023-03-10T18:38:56.999Z"
   },
   {
    "duration": 9,
    "start_time": "2023-03-10T18:45:50.776Z"
   },
   {
    "duration": 5,
    "start_time": "2023-03-10T18:45:50.788Z"
   },
   {
    "duration": 24,
    "start_time": "2023-03-10T18:45:50.795Z"
   },
   {
    "duration": 4,
    "start_time": "2023-03-10T18:45:50.821Z"
   },
   {
    "duration": 3686,
    "start_time": "2023-03-10T18:45:50.828Z"
   },
   {
    "duration": 13442,
    "start_time": "2023-03-10T18:45:54.516Z"
   },
   {
    "duration": 17853,
    "start_time": "2023-03-10T18:46:07.960Z"
   },
   {
    "duration": 88798,
    "start_time": "2023-03-10T18:46:25.815Z"
   },
   {
    "duration": 2,
    "start_time": "2023-03-10T18:47:54.615Z"
   },
   {
    "duration": 288410,
    "start_time": "2023-03-10T18:47:54.619Z"
   },
   {
    "duration": 173889,
    "start_time": "2023-03-10T18:52:43.031Z"
   },
   {
    "duration": 1728,
    "start_time": "2023-03-10T18:55:36.921Z"
   },
   {
    "duration": 2926,
    "start_time": "2023-03-10T18:55:38.650Z"
   },
   {
    "duration": 13890,
    "start_time": "2023-03-10T18:55:41.577Z"
   },
   {
    "duration": 1383,
    "start_time": "2023-03-12T18:15:00.039Z"
   },
   {
    "duration": 1354,
    "start_time": "2023-03-12T18:17:50.230Z"
   },
   {
    "duration": 566,
    "start_time": "2023-03-12T18:17:51.586Z"
   },
   {
    "duration": 1143,
    "start_time": "2023-03-12T18:17:52.154Z"
   },
   {
    "duration": 8,
    "start_time": "2023-03-12T18:17:53.299Z"
   },
   {
    "duration": 15,
    "start_time": "2023-03-12T18:17:53.309Z"
   },
   {
    "duration": 19,
    "start_time": "2023-03-12T18:17:53.325Z"
   },
   {
    "duration": 3,
    "start_time": "2023-03-12T18:17:53.345Z"
   },
   {
    "duration": 6,
    "start_time": "2023-03-12T18:17:53.349Z"
   },
   {
    "duration": 5,
    "start_time": "2023-03-12T18:17:53.356Z"
   },
   {
    "duration": 7,
    "start_time": "2023-03-12T18:17:53.363Z"
   },
   {
    "duration": 1241,
    "start_time": "2023-03-12T18:17:53.372Z"
   },
   {
    "duration": 343745,
    "start_time": "2023-03-12T18:17:54.615Z"
   },
   {
    "duration": 7,
    "start_time": "2023-03-12T18:23:38.362Z"
   },
   {
    "duration": 2,
    "start_time": "2023-03-12T18:23:38.373Z"
   },
   {
    "duration": 22,
    "start_time": "2023-03-12T18:23:38.377Z"
   },
   {
    "duration": 4,
    "start_time": "2023-03-12T18:23:38.400Z"
   },
   {
    "duration": 1905,
    "start_time": "2023-03-12T18:23:38.406Z"
   },
   {
    "duration": 11230,
    "start_time": "2023-03-12T18:23:40.313Z"
   },
   {
    "duration": 14996,
    "start_time": "2023-03-12T18:23:51.634Z"
   },
   {
    "duration": 77803,
    "start_time": "2023-03-12T18:24:06.632Z"
   },
   {
    "duration": 2,
    "start_time": "2023-03-12T18:25:24.437Z"
   },
   {
    "duration": 240985,
    "start_time": "2023-03-12T18:25:24.441Z"
   },
   {
    "duration": 106202,
    "start_time": "2023-03-12T18:29:25.432Z"
   },
   {
    "duration": 0,
    "start_time": "2023-03-12T18:31:11.636Z"
   },
   {
    "duration": 0,
    "start_time": "2023-03-12T18:31:11.637Z"
   },
   {
    "duration": 0,
    "start_time": "2023-03-12T18:31:11.638Z"
   },
   {
    "duration": 1,
    "start_time": "2023-03-12T18:31:11.638Z"
   },
   {
    "duration": 5,
    "start_time": "2023-03-12T18:31:15.157Z"
   },
   {
    "duration": 148098,
    "start_time": "2023-03-12T18:33:30.098Z"
   },
   {
    "duration": 1439,
    "start_time": "2023-03-12T18:35:58.198Z"
   },
   {
    "duration": 2602,
    "start_time": "2023-03-12T18:35:59.639Z"
   },
   {
    "duration": 11397,
    "start_time": "2023-03-12T18:36:02.243Z"
   },
   {
    "duration": 1435,
    "start_time": "2023-03-12T18:43:36.127Z"
   },
   {
    "duration": 183,
    "start_time": "2023-03-12T18:43:37.563Z"
   },
   {
    "duration": 886,
    "start_time": "2023-03-12T18:43:37.748Z"
   },
   {
    "duration": 13,
    "start_time": "2023-03-12T18:43:38.636Z"
   },
   {
    "duration": 24,
    "start_time": "2023-03-12T18:43:38.651Z"
   },
   {
    "duration": 43,
    "start_time": "2023-03-12T18:43:38.676Z"
   },
   {
    "duration": 11,
    "start_time": "2023-03-12T18:43:38.721Z"
   },
   {
    "duration": 37,
    "start_time": "2023-03-12T18:43:38.734Z"
   },
   {
    "duration": 29,
    "start_time": "2023-03-12T18:43:38.773Z"
   },
   {
    "duration": 26,
    "start_time": "2023-03-12T18:43:38.803Z"
   },
   {
    "duration": 1377,
    "start_time": "2023-03-12T18:43:38.830Z"
   },
   {
    "duration": 343484,
    "start_time": "2023-03-12T18:43:40.208Z"
   },
   {
    "duration": 7,
    "start_time": "2023-03-12T18:49:23.693Z"
   },
   {
    "duration": 5,
    "start_time": "2023-03-12T18:49:23.702Z"
   },
   {
    "duration": 33,
    "start_time": "2023-03-12T18:49:23.708Z"
   },
   {
    "duration": 3,
    "start_time": "2023-03-12T18:49:23.743Z"
   },
   {
    "duration": 1901,
    "start_time": "2023-03-12T18:49:23.748Z"
   },
   {
    "duration": 10884,
    "start_time": "2023-03-12T18:49:25.650Z"
   },
   {
    "duration": 15170,
    "start_time": "2023-03-12T18:49:36.536Z"
   },
   {
    "duration": 80353,
    "start_time": "2023-03-12T18:49:51.708Z"
   },
   {
    "duration": 3,
    "start_time": "2023-03-12T18:51:12.063Z"
   },
   {
    "duration": 253165,
    "start_time": "2023-03-12T18:51:12.068Z"
   },
   {
    "duration": 3,
    "start_time": "2023-03-12T18:55:25.235Z"
   },
   {
    "duration": 116,
    "start_time": "2023-03-12T18:55:25.239Z"
   },
   {
    "duration": 0,
    "start_time": "2023-03-12T18:55:25.357Z"
   },
   {
    "duration": 0,
    "start_time": "2023-03-12T18:55:25.358Z"
   },
   {
    "duration": 0,
    "start_time": "2023-03-12T18:55:25.359Z"
   },
   {
    "duration": 0,
    "start_time": "2023-03-12T18:55:25.360Z"
   },
   {
    "duration": 12,
    "start_time": "2023-03-12T18:57:12.287Z"
   },
   {
    "duration": 33,
    "start_time": "2023-03-12T18:57:27.007Z"
   },
   {
    "duration": 4,
    "start_time": "2023-03-12T18:58:42.366Z"
   },
   {
    "duration": 34,
    "start_time": "2023-03-12T18:58:42.758Z"
   },
   {
    "duration": 3,
    "start_time": "2023-03-12T19:06:41.589Z"
   },
   {
    "duration": 32,
    "start_time": "2023-03-12T19:06:42.227Z"
   },
   {
    "duration": 3,
    "start_time": "2023-03-12T19:06:52.747Z"
   },
   {
    "duration": 29,
    "start_time": "2023-03-12T19:06:53.299Z"
   },
   {
    "duration": 3,
    "start_time": "2023-03-12T19:09:24.796Z"
   },
   {
    "duration": 28,
    "start_time": "2023-03-12T19:09:25.334Z"
   },
   {
    "duration": 9,
    "start_time": "2023-03-12T19:09:51.107Z"
   },
   {
    "duration": 4,
    "start_time": "2023-03-12T19:10:04.394Z"
   },
   {
    "duration": 15,
    "start_time": "2023-03-12T19:10:15.636Z"
   },
   {
    "duration": 33,
    "start_time": "2023-03-12T19:10:16.776Z"
   },
   {
    "duration": 10,
    "start_time": "2023-03-12T19:10:38.416Z"
   },
   {
    "duration": 28,
    "start_time": "2023-03-12T19:10:38.883Z"
   },
   {
    "duration": 13,
    "start_time": "2023-03-12T19:11:08.836Z"
   },
   {
    "duration": 4,
    "start_time": "2023-03-12T19:11:16.397Z"
   },
   {
    "duration": 27,
    "start_time": "2023-03-12T19:11:17.007Z"
   },
   {
    "duration": 27,
    "start_time": "2023-03-12T19:16:04.536Z"
   },
   {
    "duration": 84790,
    "start_time": "2023-03-12T19:16:55.636Z"
   },
   {
    "duration": 10,
    "start_time": "2023-03-12T19:19:50.626Z"
   },
   {
    "duration": 3,
    "start_time": "2023-03-12T19:24:05.695Z"
   },
   {
    "duration": 94428,
    "start_time": "2023-03-12T19:25:50.883Z"
   },
   {
    "duration": 10,
    "start_time": "2023-03-12T19:29:07.671Z"
   },
   {
    "duration": 1192,
    "start_time": "2023-03-12T19:29:41.685Z"
   },
   {
    "duration": 3086,
    "start_time": "2023-03-12T19:31:12.478Z"
   },
   {
    "duration": 1438,
    "start_time": "2023-03-12T19:31:36.716Z"
   },
   {
    "duration": 157,
    "start_time": "2023-03-12T19:31:38.156Z"
   },
   {
    "duration": 867,
    "start_time": "2023-03-12T19:31:38.315Z"
   },
   {
    "duration": 9,
    "start_time": "2023-03-12T19:31:39.183Z"
   },
   {
    "duration": 2,
    "start_time": "2023-03-12T19:31:39.194Z"
   },
   {
    "duration": 18,
    "start_time": "2023-03-12T19:31:39.197Z"
   },
   {
    "duration": 17,
    "start_time": "2023-03-12T19:31:39.217Z"
   },
   {
    "duration": 4,
    "start_time": "2023-03-12T19:31:39.236Z"
   },
   {
    "duration": 6,
    "start_time": "2023-03-12T19:31:39.241Z"
   },
   {
    "duration": 7,
    "start_time": "2023-03-12T19:31:39.249Z"
   },
   {
    "duration": 1300,
    "start_time": "2023-03-12T19:31:39.257Z"
   },
   {
    "duration": 341564,
    "start_time": "2023-03-12T19:31:40.559Z"
   },
   {
    "duration": 11,
    "start_time": "2023-03-12T19:37:22.124Z"
   },
   {
    "duration": 3,
    "start_time": "2023-03-12T19:37:22.138Z"
   },
   {
    "duration": 17,
    "start_time": "2023-03-12T19:37:22.142Z"
   },
   {
    "duration": 3,
    "start_time": "2023-03-12T19:37:22.161Z"
   },
   {
    "duration": 1980,
    "start_time": "2023-03-12T19:37:22.165Z"
   },
   {
    "duration": 10888,
    "start_time": "2023-03-12T19:37:24.146Z"
   },
   {
    "duration": 15069,
    "start_time": "2023-03-12T19:37:35.036Z"
   },
   {
    "duration": 77239,
    "start_time": "2023-03-12T19:37:50.107Z"
   },
   {
    "duration": 2,
    "start_time": "2023-03-12T19:39:07.348Z"
   },
   {
    "duration": 242170,
    "start_time": "2023-03-12T19:39:07.352Z"
   },
   {
    "duration": 2,
    "start_time": "2023-03-12T19:43:09.524Z"
   },
   {
    "duration": 81806,
    "start_time": "2023-03-12T19:43:09.533Z"
   },
   {
    "duration": 146760,
    "start_time": "2023-03-12T19:44:31.341Z"
   },
   {
    "duration": 3,
    "start_time": "2023-03-12T19:46:58.103Z"
   },
   {
    "duration": 98281,
    "start_time": "2023-03-12T19:46:58.108Z"
   },
   {
    "duration": 1153,
    "start_time": "2023-03-12T19:48:36.391Z"
   },
   {
    "duration": 3127,
    "start_time": "2023-03-12T19:48:37.546Z"
   },
   {
    "duration": 10464,
    "start_time": "2023-03-12T19:48:40.674Z"
   }
  ],
  "kernelspec": {
   "display_name": "Python 3 (ipykernel)",
   "language": "python",
   "name": "python3"
  },
  "language_info": {
   "codemirror_mode": {
    "name": "ipython",
    "version": 3
   },
   "file_extension": ".py",
   "mimetype": "text/x-python",
   "name": "python",
   "nbconvert_exporter": "python",
   "pygments_lexer": "ipython3",
   "version": "3.9.12"
  },
  "toc": {
   "base_numbering": 1,
   "nav_menu": {},
   "number_sections": true,
   "sideBar": true,
   "skip_h1_title": true,
   "title_cell": "Содержание",
   "title_sidebar": "Contents",
   "toc_cell": true,
   "toc_position": {
    "height": "calc(100% - 180px)",
    "left": "10px",
    "top": "150px",
    "width": "302.391px"
   },
   "toc_section_display": true,
   "toc_window_display": false
  }
 },
 "nbformat": 4,
 "nbformat_minor": 2
}
