{
 "cells": [
  {
   "cell_type": "markdown",
   "metadata": {},
   "source": [
    "# Классификаиция клиентов"
   ]
  },
  {
   "cell_type": "markdown",
   "metadata": {},
   "source": [
    "Из Банка стали уходить клиенты. Каждый месяц. Немного, но заметно. Банковские маркетологи посчитали: сохранять текущих клиентов дешевле, чем привлекать новых.\n",
    "\n",
    "Нужно спрогнозировать, уйдёт клиент из банка в ближайшее время или нет. Вам предоставлены исторические данные о поведении клиентов и расторжении договоров с банком. \n",
    "\n",
    "Постройте модель с предельно большим значением *F1*-меры. \n",
    "\n",
    "Дополнительно измеряйте *AUC-ROC*, сравнивайте её значение с *F1*-мерой.\n",
    "\n",
    "Источник данных: [https://www.kaggle.com/barelydedicated/bank-customer-churn-modeling](https://www.kaggle.com/barelydedicated/bank-customer-churn-modeling)"
   ]
  },
  {
   "cell_type": "markdown",
   "metadata": {},
   "source": [
    "## Подготовка данных"
   ]
  },
  {
   "cell_type": "code",
   "execution_count": 1,
   "metadata": {},
   "outputs": [],
   "source": [
    "import pandas as pd\n",
    "import numpy as np\n",
    "from sklearn.preprocessing import StandardScaler\n",
    "from sklearn.model_selection import train_test_split\n",
    "from sklearn.tree import DecisionTreeClassifier\n",
    "from sklearn.ensemble import RandomForestClassifier\n",
    "from sklearn.linear_model import LogisticRegression\n",
    "from sklearn.metrics import f1_score\n",
    "from sklearn.metrics import roc_auc_score\n",
    "from sklearn.model_selection import RandomizedSearchCV\n",
    "from sklearn.utils import shuffle\n",
    "from sklearn.model_selection import GridSearchCV\n",
    "from sklearn.metrics import roc_curve\n",
    "import matplotlib.pyplot as plt\n",
    "from sklearn.preprocessing import OneHotEncoder\n",
    "from sklearn.feature_selection import mutual_info_classif\n",
    "from random import randrange\n",
    "import warnings \n",
    "warnings.filterwarnings('ignore')\n",
    "from tqdm import tqdm"
   ]
  },
  {
   "cell_type": "code",
   "execution_count": 2,
   "metadata": {},
   "outputs": [],
   "source": [
    "try:\n",
    "    df = pd.read_csv(f'/Users/pavelfedorov/Data_for_projects/Churn.csv') \n",
    "except:\n",
    "    df = pd.read_csv('/datasets/Churn.csv')"
   ]
  },
  {
   "cell_type": "code",
   "execution_count": 3,
   "metadata": {
    "scrolled": true
   },
   "outputs": [
    {
     "data": {
      "text/html": [
       "<div>\n",
       "<style scoped>\n",
       "    .dataframe tbody tr th:only-of-type {\n",
       "        vertical-align: middle;\n",
       "    }\n",
       "\n",
       "    .dataframe tbody tr th {\n",
       "        vertical-align: top;\n",
       "    }\n",
       "\n",
       "    .dataframe thead th {\n",
       "        text-align: right;\n",
       "    }\n",
       "</style>\n",
       "<table border=\"1\" class=\"dataframe\">\n",
       "  <thead>\n",
       "    <tr style=\"text-align: right;\">\n",
       "      <th></th>\n",
       "      <th>RowNumber</th>\n",
       "      <th>CustomerId</th>\n",
       "      <th>Surname</th>\n",
       "      <th>CreditScore</th>\n",
       "      <th>Geography</th>\n",
       "      <th>Gender</th>\n",
       "      <th>Age</th>\n",
       "      <th>Tenure</th>\n",
       "      <th>Balance</th>\n",
       "      <th>NumOfProducts</th>\n",
       "      <th>HasCrCard</th>\n",
       "      <th>IsActiveMember</th>\n",
       "      <th>EstimatedSalary</th>\n",
       "      <th>Exited</th>\n",
       "    </tr>\n",
       "  </thead>\n",
       "  <tbody>\n",
       "    <tr>\n",
       "      <th>0</th>\n",
       "      <td>1</td>\n",
       "      <td>15634602</td>\n",
       "      <td>Hargrave</td>\n",
       "      <td>619</td>\n",
       "      <td>France</td>\n",
       "      <td>Female</td>\n",
       "      <td>42</td>\n",
       "      <td>2.0</td>\n",
       "      <td>0.00</td>\n",
       "      <td>1</td>\n",
       "      <td>1</td>\n",
       "      <td>1</td>\n",
       "      <td>101348.88</td>\n",
       "      <td>1</td>\n",
       "    </tr>\n",
       "    <tr>\n",
       "      <th>1</th>\n",
       "      <td>2</td>\n",
       "      <td>15647311</td>\n",
       "      <td>Hill</td>\n",
       "      <td>608</td>\n",
       "      <td>Spain</td>\n",
       "      <td>Female</td>\n",
       "      <td>41</td>\n",
       "      <td>1.0</td>\n",
       "      <td>83807.86</td>\n",
       "      <td>1</td>\n",
       "      <td>0</td>\n",
       "      <td>1</td>\n",
       "      <td>112542.58</td>\n",
       "      <td>0</td>\n",
       "    </tr>\n",
       "    <tr>\n",
       "      <th>2</th>\n",
       "      <td>3</td>\n",
       "      <td>15619304</td>\n",
       "      <td>Onio</td>\n",
       "      <td>502</td>\n",
       "      <td>France</td>\n",
       "      <td>Female</td>\n",
       "      <td>42</td>\n",
       "      <td>8.0</td>\n",
       "      <td>159660.80</td>\n",
       "      <td>3</td>\n",
       "      <td>1</td>\n",
       "      <td>0</td>\n",
       "      <td>113931.57</td>\n",
       "      <td>1</td>\n",
       "    </tr>\n",
       "    <tr>\n",
       "      <th>3</th>\n",
       "      <td>4</td>\n",
       "      <td>15701354</td>\n",
       "      <td>Boni</td>\n",
       "      <td>699</td>\n",
       "      <td>France</td>\n",
       "      <td>Female</td>\n",
       "      <td>39</td>\n",
       "      <td>1.0</td>\n",
       "      <td>0.00</td>\n",
       "      <td>2</td>\n",
       "      <td>0</td>\n",
       "      <td>0</td>\n",
       "      <td>93826.63</td>\n",
       "      <td>0</td>\n",
       "    </tr>\n",
       "    <tr>\n",
       "      <th>4</th>\n",
       "      <td>5</td>\n",
       "      <td>15737888</td>\n",
       "      <td>Mitchell</td>\n",
       "      <td>850</td>\n",
       "      <td>Spain</td>\n",
       "      <td>Female</td>\n",
       "      <td>43</td>\n",
       "      <td>2.0</td>\n",
       "      <td>125510.82</td>\n",
       "      <td>1</td>\n",
       "      <td>1</td>\n",
       "      <td>1</td>\n",
       "      <td>79084.10</td>\n",
       "      <td>0</td>\n",
       "    </tr>\n",
       "  </tbody>\n",
       "</table>\n",
       "</div>"
      ],
      "text/plain": [
       "   RowNumber  CustomerId   Surname  CreditScore Geography  Gender  Age  \\\n",
       "0          1    15634602  Hargrave          619    France  Female   42   \n",
       "1          2    15647311      Hill          608     Spain  Female   41   \n",
       "2          3    15619304      Onio          502    France  Female   42   \n",
       "3          4    15701354      Boni          699    France  Female   39   \n",
       "4          5    15737888  Mitchell          850     Spain  Female   43   \n",
       "\n",
       "   Tenure    Balance  NumOfProducts  HasCrCard  IsActiveMember  \\\n",
       "0     2.0       0.00              1          1               1   \n",
       "1     1.0   83807.86              1          0               1   \n",
       "2     8.0  159660.80              3          1               0   \n",
       "3     1.0       0.00              2          0               0   \n",
       "4     2.0  125510.82              1          1               1   \n",
       "\n",
       "   EstimatedSalary  Exited  \n",
       "0        101348.88       1  \n",
       "1        112542.58       0  \n",
       "2        113931.57       1  \n",
       "3         93826.63       0  \n",
       "4         79084.10       0  "
      ]
     },
     "execution_count": 3,
     "metadata": {},
     "output_type": "execute_result"
    }
   ],
   "source": [
    "df.head()"
   ]
  },
  {
   "cell_type": "code",
   "execution_count": 4,
   "metadata": {
    "scrolled": true
   },
   "outputs": [
    {
     "data": {
      "text/html": [
       "<div>\n",
       "<style scoped>\n",
       "    .dataframe tbody tr th:only-of-type {\n",
       "        vertical-align: middle;\n",
       "    }\n",
       "\n",
       "    .dataframe tbody tr th {\n",
       "        vertical-align: top;\n",
       "    }\n",
       "\n",
       "    .dataframe thead th {\n",
       "        text-align: right;\n",
       "    }\n",
       "</style>\n",
       "<table border=\"1\" class=\"dataframe\">\n",
       "  <thead>\n",
       "    <tr style=\"text-align: right;\">\n",
       "      <th></th>\n",
       "      <th>RowNumber</th>\n",
       "      <th>CustomerId</th>\n",
       "      <th>Surname</th>\n",
       "      <th>CreditScore</th>\n",
       "      <th>Geography</th>\n",
       "      <th>Gender</th>\n",
       "      <th>Age</th>\n",
       "      <th>Tenure</th>\n",
       "      <th>Balance</th>\n",
       "      <th>NumOfProducts</th>\n",
       "      <th>HasCrCard</th>\n",
       "      <th>IsActiveMember</th>\n",
       "      <th>EstimatedSalary</th>\n",
       "      <th>Exited</th>\n",
       "    </tr>\n",
       "  </thead>\n",
       "  <tbody>\n",
       "    <tr>\n",
       "      <th>9995</th>\n",
       "      <td>9996</td>\n",
       "      <td>15606229</td>\n",
       "      <td>Obijiaku</td>\n",
       "      <td>771</td>\n",
       "      <td>France</td>\n",
       "      <td>Male</td>\n",
       "      <td>39</td>\n",
       "      <td>5.0</td>\n",
       "      <td>0.00</td>\n",
       "      <td>2</td>\n",
       "      <td>1</td>\n",
       "      <td>0</td>\n",
       "      <td>96270.64</td>\n",
       "      <td>0</td>\n",
       "    </tr>\n",
       "    <tr>\n",
       "      <th>9996</th>\n",
       "      <td>9997</td>\n",
       "      <td>15569892</td>\n",
       "      <td>Johnstone</td>\n",
       "      <td>516</td>\n",
       "      <td>France</td>\n",
       "      <td>Male</td>\n",
       "      <td>35</td>\n",
       "      <td>10.0</td>\n",
       "      <td>57369.61</td>\n",
       "      <td>1</td>\n",
       "      <td>1</td>\n",
       "      <td>1</td>\n",
       "      <td>101699.77</td>\n",
       "      <td>0</td>\n",
       "    </tr>\n",
       "    <tr>\n",
       "      <th>9997</th>\n",
       "      <td>9998</td>\n",
       "      <td>15584532</td>\n",
       "      <td>Liu</td>\n",
       "      <td>709</td>\n",
       "      <td>France</td>\n",
       "      <td>Female</td>\n",
       "      <td>36</td>\n",
       "      <td>7.0</td>\n",
       "      <td>0.00</td>\n",
       "      <td>1</td>\n",
       "      <td>0</td>\n",
       "      <td>1</td>\n",
       "      <td>42085.58</td>\n",
       "      <td>1</td>\n",
       "    </tr>\n",
       "    <tr>\n",
       "      <th>9998</th>\n",
       "      <td>9999</td>\n",
       "      <td>15682355</td>\n",
       "      <td>Sabbatini</td>\n",
       "      <td>772</td>\n",
       "      <td>Germany</td>\n",
       "      <td>Male</td>\n",
       "      <td>42</td>\n",
       "      <td>3.0</td>\n",
       "      <td>75075.31</td>\n",
       "      <td>2</td>\n",
       "      <td>1</td>\n",
       "      <td>0</td>\n",
       "      <td>92888.52</td>\n",
       "      <td>1</td>\n",
       "    </tr>\n",
       "    <tr>\n",
       "      <th>9999</th>\n",
       "      <td>10000</td>\n",
       "      <td>15628319</td>\n",
       "      <td>Walker</td>\n",
       "      <td>792</td>\n",
       "      <td>France</td>\n",
       "      <td>Female</td>\n",
       "      <td>28</td>\n",
       "      <td>NaN</td>\n",
       "      <td>130142.79</td>\n",
       "      <td>1</td>\n",
       "      <td>1</td>\n",
       "      <td>0</td>\n",
       "      <td>38190.78</td>\n",
       "      <td>0</td>\n",
       "    </tr>\n",
       "  </tbody>\n",
       "</table>\n",
       "</div>"
      ],
      "text/plain": [
       "      RowNumber  CustomerId    Surname  CreditScore Geography  Gender  Age  \\\n",
       "9995       9996    15606229   Obijiaku          771    France    Male   39   \n",
       "9996       9997    15569892  Johnstone          516    France    Male   35   \n",
       "9997       9998    15584532        Liu          709    France  Female   36   \n",
       "9998       9999    15682355  Sabbatini          772   Germany    Male   42   \n",
       "9999      10000    15628319     Walker          792    France  Female   28   \n",
       "\n",
       "      Tenure    Balance  NumOfProducts  HasCrCard  IsActiveMember  \\\n",
       "9995     5.0       0.00              2          1               0   \n",
       "9996    10.0   57369.61              1          1               1   \n",
       "9997     7.0       0.00              1          0               1   \n",
       "9998     3.0   75075.31              2          1               0   \n",
       "9999     NaN  130142.79              1          1               0   \n",
       "\n",
       "      EstimatedSalary  Exited  \n",
       "9995         96270.64       0  \n",
       "9996        101699.77       0  \n",
       "9997         42085.58       1  \n",
       "9998         92888.52       1  \n",
       "9999         38190.78       0  "
      ]
     },
     "execution_count": 4,
     "metadata": {},
     "output_type": "execute_result"
    }
   ],
   "source": [
    "df.tail()"
   ]
  },
  {
   "cell_type": "code",
   "execution_count": 5,
   "metadata": {
    "scrolled": false
   },
   "outputs": [
    {
     "name": "stdout",
     "output_type": "stream",
     "text": [
      "<class 'pandas.core.frame.DataFrame'>\n",
      "RangeIndex: 10000 entries, 0 to 9999\n",
      "Data columns (total 14 columns):\n",
      " #   Column           Non-Null Count  Dtype  \n",
      "---  ------           --------------  -----  \n",
      " 0   RowNumber        10000 non-null  int64  \n",
      " 1   CustomerId       10000 non-null  int64  \n",
      " 2   Surname          10000 non-null  object \n",
      " 3   CreditScore      10000 non-null  int64  \n",
      " 4   Geography        10000 non-null  object \n",
      " 5   Gender           10000 non-null  object \n",
      " 6   Age              10000 non-null  int64  \n",
      " 7   Tenure           9091 non-null   float64\n",
      " 8   Balance          10000 non-null  float64\n",
      " 9   NumOfProducts    10000 non-null  int64  \n",
      " 10  HasCrCard        10000 non-null  int64  \n",
      " 11  IsActiveMember   10000 non-null  int64  \n",
      " 12  EstimatedSalary  10000 non-null  float64\n",
      " 13  Exited           10000 non-null  int64  \n",
      "dtypes: float64(3), int64(8), object(3)\n",
      "memory usage: 1.1+ MB\n"
     ]
    }
   ],
   "source": [
    "df.info()"
   ]
  },
  {
   "cell_type": "code",
   "execution_count": 6,
   "metadata": {},
   "outputs": [
    {
     "data": {
      "text/html": [
       "<div>\n",
       "<style scoped>\n",
       "    .dataframe tbody tr th:only-of-type {\n",
       "        vertical-align: middle;\n",
       "    }\n",
       "\n",
       "    .dataframe tbody tr th {\n",
       "        vertical-align: top;\n",
       "    }\n",
       "\n",
       "    .dataframe thead th {\n",
       "        text-align: right;\n",
       "    }\n",
       "</style>\n",
       "<table border=\"1\" class=\"dataframe\">\n",
       "  <thead>\n",
       "    <tr style=\"text-align: right;\">\n",
       "      <th></th>\n",
       "      <th>RowNumber</th>\n",
       "      <th>CustomerId</th>\n",
       "      <th>Surname</th>\n",
       "      <th>CreditScore</th>\n",
       "      <th>Geography</th>\n",
       "      <th>Gender</th>\n",
       "      <th>Age</th>\n",
       "      <th>Tenure</th>\n",
       "      <th>Balance</th>\n",
       "      <th>NumOfProducts</th>\n",
       "      <th>HasCrCard</th>\n",
       "      <th>IsActiveMember</th>\n",
       "      <th>EstimatedSalary</th>\n",
       "      <th>Exited</th>\n",
       "    </tr>\n",
       "  </thead>\n",
       "  <tbody>\n",
       "    <tr>\n",
       "      <th>30</th>\n",
       "      <td>31</td>\n",
       "      <td>15589475</td>\n",
       "      <td>Azikiwe</td>\n",
       "      <td>591</td>\n",
       "      <td>Spain</td>\n",
       "      <td>Female</td>\n",
       "      <td>39</td>\n",
       "      <td>NaN</td>\n",
       "      <td>0.00</td>\n",
       "      <td>3</td>\n",
       "      <td>1</td>\n",
       "      <td>0</td>\n",
       "      <td>140469.38</td>\n",
       "      <td>1</td>\n",
       "    </tr>\n",
       "    <tr>\n",
       "      <th>48</th>\n",
       "      <td>49</td>\n",
       "      <td>15766205</td>\n",
       "      <td>Yin</td>\n",
       "      <td>550</td>\n",
       "      <td>Germany</td>\n",
       "      <td>Male</td>\n",
       "      <td>38</td>\n",
       "      <td>NaN</td>\n",
       "      <td>103391.38</td>\n",
       "      <td>1</td>\n",
       "      <td>0</td>\n",
       "      <td>1</td>\n",
       "      <td>90878.13</td>\n",
       "      <td>0</td>\n",
       "    </tr>\n",
       "    <tr>\n",
       "      <th>51</th>\n",
       "      <td>52</td>\n",
       "      <td>15768193</td>\n",
       "      <td>Trevisani</td>\n",
       "      <td>585</td>\n",
       "      <td>Germany</td>\n",
       "      <td>Male</td>\n",
       "      <td>36</td>\n",
       "      <td>NaN</td>\n",
       "      <td>146050.97</td>\n",
       "      <td>2</td>\n",
       "      <td>0</td>\n",
       "      <td>0</td>\n",
       "      <td>86424.57</td>\n",
       "      <td>0</td>\n",
       "    </tr>\n",
       "    <tr>\n",
       "      <th>53</th>\n",
       "      <td>54</td>\n",
       "      <td>15702298</td>\n",
       "      <td>Parkhill</td>\n",
       "      <td>655</td>\n",
       "      <td>Germany</td>\n",
       "      <td>Male</td>\n",
       "      <td>41</td>\n",
       "      <td>NaN</td>\n",
       "      <td>125561.97</td>\n",
       "      <td>1</td>\n",
       "      <td>0</td>\n",
       "      <td>0</td>\n",
       "      <td>164040.94</td>\n",
       "      <td>1</td>\n",
       "    </tr>\n",
       "    <tr>\n",
       "      <th>60</th>\n",
       "      <td>61</td>\n",
       "      <td>15651280</td>\n",
       "      <td>Hunter</td>\n",
       "      <td>742</td>\n",
       "      <td>Germany</td>\n",
       "      <td>Male</td>\n",
       "      <td>35</td>\n",
       "      <td>NaN</td>\n",
       "      <td>136857.00</td>\n",
       "      <td>1</td>\n",
       "      <td>0</td>\n",
       "      <td>0</td>\n",
       "      <td>84509.57</td>\n",
       "      <td>0</td>\n",
       "    </tr>\n",
       "    <tr>\n",
       "      <th>...</th>\n",
       "      <td>...</td>\n",
       "      <td>...</td>\n",
       "      <td>...</td>\n",
       "      <td>...</td>\n",
       "      <td>...</td>\n",
       "      <td>...</td>\n",
       "      <td>...</td>\n",
       "      <td>...</td>\n",
       "      <td>...</td>\n",
       "      <td>...</td>\n",
       "      <td>...</td>\n",
       "      <td>...</td>\n",
       "      <td>...</td>\n",
       "      <td>...</td>\n",
       "    </tr>\n",
       "    <tr>\n",
       "      <th>9944</th>\n",
       "      <td>9945</td>\n",
       "      <td>15703923</td>\n",
       "      <td>Cameron</td>\n",
       "      <td>744</td>\n",
       "      <td>Germany</td>\n",
       "      <td>Male</td>\n",
       "      <td>41</td>\n",
       "      <td>NaN</td>\n",
       "      <td>190409.34</td>\n",
       "      <td>2</td>\n",
       "      <td>1</td>\n",
       "      <td>1</td>\n",
       "      <td>138361.48</td>\n",
       "      <td>0</td>\n",
       "    </tr>\n",
       "    <tr>\n",
       "      <th>9956</th>\n",
       "      <td>9957</td>\n",
       "      <td>15707861</td>\n",
       "      <td>Nucci</td>\n",
       "      <td>520</td>\n",
       "      <td>France</td>\n",
       "      <td>Female</td>\n",
       "      <td>46</td>\n",
       "      <td>NaN</td>\n",
       "      <td>85216.61</td>\n",
       "      <td>1</td>\n",
       "      <td>1</td>\n",
       "      <td>0</td>\n",
       "      <td>117369.52</td>\n",
       "      <td>1</td>\n",
       "    </tr>\n",
       "    <tr>\n",
       "      <th>9964</th>\n",
       "      <td>9965</td>\n",
       "      <td>15642785</td>\n",
       "      <td>Douglas</td>\n",
       "      <td>479</td>\n",
       "      <td>France</td>\n",
       "      <td>Male</td>\n",
       "      <td>34</td>\n",
       "      <td>NaN</td>\n",
       "      <td>117593.48</td>\n",
       "      <td>2</td>\n",
       "      <td>0</td>\n",
       "      <td>0</td>\n",
       "      <td>113308.29</td>\n",
       "      <td>0</td>\n",
       "    </tr>\n",
       "    <tr>\n",
       "      <th>9985</th>\n",
       "      <td>9986</td>\n",
       "      <td>15586914</td>\n",
       "      <td>Nepean</td>\n",
       "      <td>659</td>\n",
       "      <td>France</td>\n",
       "      <td>Male</td>\n",
       "      <td>36</td>\n",
       "      <td>NaN</td>\n",
       "      <td>123841.49</td>\n",
       "      <td>2</td>\n",
       "      <td>1</td>\n",
       "      <td>0</td>\n",
       "      <td>96833.00</td>\n",
       "      <td>0</td>\n",
       "    </tr>\n",
       "    <tr>\n",
       "      <th>9999</th>\n",
       "      <td>10000</td>\n",
       "      <td>15628319</td>\n",
       "      <td>Walker</td>\n",
       "      <td>792</td>\n",
       "      <td>France</td>\n",
       "      <td>Female</td>\n",
       "      <td>28</td>\n",
       "      <td>NaN</td>\n",
       "      <td>130142.79</td>\n",
       "      <td>1</td>\n",
       "      <td>1</td>\n",
       "      <td>0</td>\n",
       "      <td>38190.78</td>\n",
       "      <td>0</td>\n",
       "    </tr>\n",
       "  </tbody>\n",
       "</table>\n",
       "<p>909 rows × 14 columns</p>\n",
       "</div>"
      ],
      "text/plain": [
       "      RowNumber  CustomerId    Surname  CreditScore Geography  Gender  Age  \\\n",
       "30           31    15589475    Azikiwe          591     Spain  Female   39   \n",
       "48           49    15766205        Yin          550   Germany    Male   38   \n",
       "51           52    15768193  Trevisani          585   Germany    Male   36   \n",
       "53           54    15702298   Parkhill          655   Germany    Male   41   \n",
       "60           61    15651280     Hunter          742   Germany    Male   35   \n",
       "...         ...         ...        ...          ...       ...     ...  ...   \n",
       "9944       9945    15703923    Cameron          744   Germany    Male   41   \n",
       "9956       9957    15707861      Nucci          520    France  Female   46   \n",
       "9964       9965    15642785    Douglas          479    France    Male   34   \n",
       "9985       9986    15586914     Nepean          659    France    Male   36   \n",
       "9999      10000    15628319     Walker          792    France  Female   28   \n",
       "\n",
       "      Tenure    Balance  NumOfProducts  HasCrCard  IsActiveMember  \\\n",
       "30       NaN       0.00              3          1               0   \n",
       "48       NaN  103391.38              1          0               1   \n",
       "51       NaN  146050.97              2          0               0   \n",
       "53       NaN  125561.97              1          0               0   \n",
       "60       NaN  136857.00              1          0               0   \n",
       "...      ...        ...            ...        ...             ...   \n",
       "9944     NaN  190409.34              2          1               1   \n",
       "9956     NaN   85216.61              1          1               0   \n",
       "9964     NaN  117593.48              2          0               0   \n",
       "9985     NaN  123841.49              2          1               0   \n",
       "9999     NaN  130142.79              1          1               0   \n",
       "\n",
       "      EstimatedSalary  Exited  \n",
       "30          140469.38       1  \n",
       "48           90878.13       0  \n",
       "51           86424.57       0  \n",
       "53          164040.94       1  \n",
       "60           84509.57       0  \n",
       "...               ...     ...  \n",
       "9944        138361.48       0  \n",
       "9956        117369.52       1  \n",
       "9964        113308.29       0  \n",
       "9985         96833.00       0  \n",
       "9999         38190.78       0  \n",
       "\n",
       "[909 rows x 14 columns]"
      ]
     },
     "execution_count": 6,
     "metadata": {},
     "output_type": "execute_result"
    }
   ],
   "source": [
    "df[df['Tenure'].isna()]"
   ]
  },
  {
   "cell_type": "markdown",
   "metadata": {},
   "source": [
    "Похоже на то, что пропуски характерны для новых клиентов, заполнил пропуски медианой"
   ]
  },
  {
   "cell_type": "code",
   "execution_count": 7,
   "metadata": {
    "scrolled": true
   },
   "outputs": [
    {
     "data": {
      "text/plain": [
       "array([ 2.,  1.,  8.,  7.,  4.,  6.,  3., 10.,  5.,  9.,  0., nan])"
      ]
     },
     "execution_count": 7,
     "metadata": {},
     "output_type": "execute_result"
    }
   ],
   "source": [
    "df['Tenure'].unique()"
   ]
  },
  {
   "cell_type": "code",
   "execution_count": 8,
   "metadata": {},
   "outputs": [],
   "source": [
    "df['Tenure'] = df['Tenure'].fillna(df['Tenure'].median())"
   ]
  },
  {
   "cell_type": "code",
   "execution_count": 9,
   "metadata": {
    "scrolled": false
   },
   "outputs": [
    {
     "data": {
      "text/plain": [
       "10000"
      ]
     },
     "execution_count": 9,
     "metadata": {},
     "output_type": "execute_result"
    }
   ],
   "source": [
    "len(df['CustomerId'].unique())"
   ]
  },
  {
   "cell_type": "code",
   "execution_count": 10,
   "metadata": {},
   "outputs": [
    {
     "data": {
      "text/plain": [
       "10000"
      ]
     },
     "execution_count": 10,
     "metadata": {},
     "output_type": "execute_result"
    }
   ],
   "source": [
    "len(df['RowNumber'].unique())"
   ]
  },
  {
   "cell_type": "code",
   "execution_count": 11,
   "metadata": {},
   "outputs": [
    {
     "data": {
      "text/plain": [
       "2932"
      ]
     },
     "execution_count": 11,
     "metadata": {},
     "output_type": "execute_result"
    }
   ],
   "source": [
    "len(df['Surname'].unique())"
   ]
  },
  {
   "cell_type": "markdown",
   "metadata": {},
   "source": [
    "Столбецы RowNumber и CustomerId являются индексом строки в данных и уникальным идентификатором клиента, они нам не понадобится в моделе. Фамилия клиента нам также не поднадобится, так как фамили могут повторяться у совершенно разных людей"
   ]
  },
  {
   "cell_type": "code",
   "execution_count": 12,
   "metadata": {},
   "outputs": [],
   "source": [
    "df = df.drop(['RowNumber', 'CustomerId', 'Surname'], axis=1)"
   ]
  },
  {
   "cell_type": "code",
   "execution_count": 13,
   "metadata": {
    "scrolled": true
   },
   "outputs": [
    {
     "data": {
      "text/plain": [
       "Index(['CreditScore', 'Geography', 'Gender', 'Age', 'Tenure', 'Balance',\n",
       "       'NumOfProducts', 'HasCrCard', 'IsActiveMember', 'EstimatedSalary',\n",
       "       'Exited'],\n",
       "      dtype='object')"
      ]
     },
     "execution_count": 13,
     "metadata": {},
     "output_type": "execute_result"
    }
   ],
   "source": [
    "df.columns"
   ]
  },
  {
   "cell_type": "markdown",
   "metadata": {},
   "source": [
    "Для построения модели мы будем использовать признаки - 'CreditScore', 'Geography','Gender', 'Age', 'Tenure', 'Balance', 'NumOfProducts', 'HasCrCard', 'IsActiveMember', 'EstimatedSalary', целевой признак 'Exited'"
   ]
  },
  {
   "cell_type": "code",
   "execution_count": 14,
   "metadata": {},
   "outputs": [
    {
     "data": {
      "text/plain": [
       "France     5014\n",
       "Germany    2509\n",
       "Spain      2477\n",
       "Name: Geography, dtype: int64"
      ]
     },
     "execution_count": 14,
     "metadata": {},
     "output_type": "execute_result"
    }
   ],
   "source": [
    "df['Geography'].value_counts()"
   ]
  },
  {
   "cell_type": "code",
   "execution_count": 15,
   "metadata": {},
   "outputs": [
    {
     "data": {
      "text/plain": [
       "Male      5457\n",
       "Female    4543\n",
       "Name: Gender, dtype: int64"
      ]
     },
     "execution_count": 15,
     "metadata": {},
     "output_type": "execute_result"
    }
   ],
   "source": [
    "df['Gender'].value_counts()"
   ]
  },
  {
   "cell_type": "markdown",
   "metadata": {},
   "source": [
    "Используем прямое кодирование для страны проживания и пола"
   ]
  },
  {
   "cell_type": "code",
   "execution_count": 16,
   "metadata": {
    "scrolled": true
   },
   "outputs": [
    {
     "data": {
      "text/html": [
       "<div>\n",
       "<style scoped>\n",
       "    .dataframe tbody tr th:only-of-type {\n",
       "        vertical-align: middle;\n",
       "    }\n",
       "\n",
       "    .dataframe tbody tr th {\n",
       "        vertical-align: top;\n",
       "    }\n",
       "\n",
       "    .dataframe thead th {\n",
       "        text-align: right;\n",
       "    }\n",
       "</style>\n",
       "<table border=\"1\" class=\"dataframe\">\n",
       "  <thead>\n",
       "    <tr style=\"text-align: right;\">\n",
       "      <th></th>\n",
       "      <th>CreditScore</th>\n",
       "      <th>Age</th>\n",
       "      <th>Tenure</th>\n",
       "      <th>Balance</th>\n",
       "      <th>NumOfProducts</th>\n",
       "      <th>HasCrCard</th>\n",
       "      <th>IsActiveMember</th>\n",
       "      <th>EstimatedSalary</th>\n",
       "      <th>Exited</th>\n",
       "    </tr>\n",
       "  </thead>\n",
       "  <tbody>\n",
       "    <tr>\n",
       "      <th>CreditScore</th>\n",
       "      <td>1.000000</td>\n",
       "      <td>-0.003965</td>\n",
       "      <td>-0.000060</td>\n",
       "      <td>0.006268</td>\n",
       "      <td>0.012238</td>\n",
       "      <td>-0.005458</td>\n",
       "      <td>0.025651</td>\n",
       "      <td>-0.001384</td>\n",
       "      <td>-0.027094</td>\n",
       "    </tr>\n",
       "    <tr>\n",
       "      <th>Age</th>\n",
       "      <td>-0.003965</td>\n",
       "      <td>1.000000</td>\n",
       "      <td>-0.012606</td>\n",
       "      <td>0.028308</td>\n",
       "      <td>-0.030680</td>\n",
       "      <td>-0.011721</td>\n",
       "      <td>0.085472</td>\n",
       "      <td>-0.007201</td>\n",
       "      <td>0.285323</td>\n",
       "    </tr>\n",
       "    <tr>\n",
       "      <th>Tenure</th>\n",
       "      <td>-0.000060</td>\n",
       "      <td>-0.012606</td>\n",
       "      <td>1.000000</td>\n",
       "      <td>-0.007535</td>\n",
       "      <td>0.011409</td>\n",
       "      <td>0.025979</td>\n",
       "      <td>-0.030681</td>\n",
       "      <td>0.010049</td>\n",
       "      <td>-0.015989</td>\n",
       "    </tr>\n",
       "    <tr>\n",
       "      <th>Balance</th>\n",
       "      <td>0.006268</td>\n",
       "      <td>0.028308</td>\n",
       "      <td>-0.007535</td>\n",
       "      <td>1.000000</td>\n",
       "      <td>-0.304180</td>\n",
       "      <td>-0.014858</td>\n",
       "      <td>-0.010084</td>\n",
       "      <td>0.012797</td>\n",
       "      <td>0.118533</td>\n",
       "    </tr>\n",
       "    <tr>\n",
       "      <th>NumOfProducts</th>\n",
       "      <td>0.012238</td>\n",
       "      <td>-0.030680</td>\n",
       "      <td>0.011409</td>\n",
       "      <td>-0.304180</td>\n",
       "      <td>1.000000</td>\n",
       "      <td>0.003183</td>\n",
       "      <td>0.009612</td>\n",
       "      <td>0.014204</td>\n",
       "      <td>-0.047820</td>\n",
       "    </tr>\n",
       "    <tr>\n",
       "      <th>HasCrCard</th>\n",
       "      <td>-0.005458</td>\n",
       "      <td>-0.011721</td>\n",
       "      <td>0.025979</td>\n",
       "      <td>-0.014858</td>\n",
       "      <td>0.003183</td>\n",
       "      <td>1.000000</td>\n",
       "      <td>-0.011866</td>\n",
       "      <td>-0.009933</td>\n",
       "      <td>-0.007138</td>\n",
       "    </tr>\n",
       "    <tr>\n",
       "      <th>IsActiveMember</th>\n",
       "      <td>0.025651</td>\n",
       "      <td>0.085472</td>\n",
       "      <td>-0.030681</td>\n",
       "      <td>-0.010084</td>\n",
       "      <td>0.009612</td>\n",
       "      <td>-0.011866</td>\n",
       "      <td>1.000000</td>\n",
       "      <td>-0.011421</td>\n",
       "      <td>-0.156128</td>\n",
       "    </tr>\n",
       "    <tr>\n",
       "      <th>EstimatedSalary</th>\n",
       "      <td>-0.001384</td>\n",
       "      <td>-0.007201</td>\n",
       "      <td>0.010049</td>\n",
       "      <td>0.012797</td>\n",
       "      <td>0.014204</td>\n",
       "      <td>-0.009933</td>\n",
       "      <td>-0.011421</td>\n",
       "      <td>1.000000</td>\n",
       "      <td>0.012097</td>\n",
       "    </tr>\n",
       "    <tr>\n",
       "      <th>Exited</th>\n",
       "      <td>-0.027094</td>\n",
       "      <td>0.285323</td>\n",
       "      <td>-0.015989</td>\n",
       "      <td>0.118533</td>\n",
       "      <td>-0.047820</td>\n",
       "      <td>-0.007138</td>\n",
       "      <td>-0.156128</td>\n",
       "      <td>0.012097</td>\n",
       "      <td>1.000000</td>\n",
       "    </tr>\n",
       "  </tbody>\n",
       "</table>\n",
       "</div>"
      ],
      "text/plain": [
       "                 CreditScore       Age    Tenure   Balance  NumOfProducts  \\\n",
       "CreditScore         1.000000 -0.003965 -0.000060  0.006268       0.012238   \n",
       "Age                -0.003965  1.000000 -0.012606  0.028308      -0.030680   \n",
       "Tenure             -0.000060 -0.012606  1.000000 -0.007535       0.011409   \n",
       "Balance             0.006268  0.028308 -0.007535  1.000000      -0.304180   \n",
       "NumOfProducts       0.012238 -0.030680  0.011409 -0.304180       1.000000   \n",
       "HasCrCard          -0.005458 -0.011721  0.025979 -0.014858       0.003183   \n",
       "IsActiveMember      0.025651  0.085472 -0.030681 -0.010084       0.009612   \n",
       "EstimatedSalary    -0.001384 -0.007201  0.010049  0.012797       0.014204   \n",
       "Exited             -0.027094  0.285323 -0.015989  0.118533      -0.047820   \n",
       "\n",
       "                 HasCrCard  IsActiveMember  EstimatedSalary    Exited  \n",
       "CreditScore      -0.005458        0.025651        -0.001384 -0.027094  \n",
       "Age              -0.011721        0.085472        -0.007201  0.285323  \n",
       "Tenure            0.025979       -0.030681         0.010049 -0.015989  \n",
       "Balance          -0.014858       -0.010084         0.012797  0.118533  \n",
       "NumOfProducts     0.003183        0.009612         0.014204 -0.047820  \n",
       "HasCrCard         1.000000       -0.011866        -0.009933 -0.007138  \n",
       "IsActiveMember   -0.011866        1.000000        -0.011421 -0.156128  \n",
       "EstimatedSalary  -0.009933       -0.011421         1.000000  0.012097  \n",
       "Exited           -0.007138       -0.156128         0.012097  1.000000  "
      ]
     },
     "execution_count": 16,
     "metadata": {},
     "output_type": "execute_result"
    }
   ],
   "source": [
    "df.corr()"
   ]
  },
  {
   "cell_type": "markdown",
   "metadata": {},
   "source": [
    "Нет большой корреляции в фичах (исключаем мультиколлинеарность)"
   ]
  },
  {
   "cell_type": "code",
   "execution_count": 17,
   "metadata": {},
   "outputs": [],
   "source": [
    "target = df['Exited']\n",
    "features = df.drop('Exited', axis=1)"
   ]
  },
  {
   "cell_type": "markdown",
   "metadata": {},
   "source": [
    "В нашем случае нет отдельно выделенной тестовой выборки, поэтому существющие данные мы делим на три выборки:\n",
    "\n",
    "* обучающая 60% для обучения модели\n",
    "* валидационная 20% для выбора лучшего алгоритма и оптимальных параметров\n",
    "* тестовая 20% для финального теста лучшей модели."
   ]
  },
  {
   "cell_type": "code",
   "execution_count": 18,
   "metadata": {},
   "outputs": [
    {
     "name": "stdout",
     "output_type": "stream",
     "text": [
      "Признаки обучающей выборки: (6000, 10)\n",
      "Целевой признак обучающей выборки: (6000,)\n",
      "Признаки валидационной выборки: (2000, 10)\n",
      "Целевой признак валидационной выборки: (2000,)\n",
      "Признаки тестовой выборки: (2000, 10)\n",
      "Целевой признак тестовой выборки: (2000,)\n"
     ]
    }
   ],
   "source": [
    "features_train, features_valid_test, target_train, target_valid_test  = train_test_split(features, \n",
    "                                                                                         target, \n",
    "                                                                                         test_size=0.4, \n",
    "                                                                                         random_state=42,\n",
    "                                                                                         stratify = target)\n",
    "features_valid, features_test,target_valid, target_test  = train_test_split(features_valid_test, \n",
    "                                                                           target_valid_test, \n",
    "                                                                           test_size=0.5, \n",
    "                                                                           random_state=42,\n",
    "                                                                           stratify = target_valid_test\n",
    "                                                                           )\n",
    "print('Признаки обучающей выборки:',features_train.shape)  \n",
    "print('Целевой признак обучающей выборки:', target_train.shape)\n",
    "print('Признаки валидационной выборки:',features_valid.shape)  \n",
    "print('Целевой признак валидационной выборки:', target_valid.shape)\n",
    "print('Признаки тестовой выборки:',features_test.shape)  \n",
    "print('Целевой признак тестовой выборки:', target_test.shape)"
   ]
  },
  {
   "cell_type": "code",
   "execution_count": 19,
   "metadata": {},
   "outputs": [],
   "source": [
    "numerical = ['CreditScore', 'Age', 'Tenure', 'Balance', 'NumOfProducts', 'EstimatedSalary','HasCrCard', 'IsActiveMember']\n",
    "to_dummies = ['Geography','Gender']\n",
    "# Объявляем scaler и OneHotEncoder() для числовых и категориальных переменных соответственно\n",
    "scaler = StandardScaler() \n",
    "ohe = OneHotEncoder(sparse=False, drop = \"first\")"
   ]
  },
  {
   "cell_type": "code",
   "execution_count": 20,
   "metadata": {},
   "outputs": [],
   "source": [
    "def transform_data(data):\n",
    "\n",
    "    data_scaled = scaler.fit_transform(data[numerical])\n",
    "    data_ohe = ohe.fit_transform(data[to_dummies])\n",
    "    # Склеиваем датасет\n",
    "    data_tramsformed = pd.concat([pd.DataFrame(data_scaled, columns=numerical),\n",
    "                                  pd.DataFrame(data_ohe, columns=ohe.get_feature_names_out())], axis=1)\n",
    "    return data_tramsformed"
   ]
  },
  {
   "cell_type": "code",
   "execution_count": 21,
   "metadata": {
    "scrolled": false
   },
   "outputs": [],
   "source": [
    "features_train_transform = transform_data(features_train)"
   ]
  },
  {
   "cell_type": "code",
   "execution_count": 22,
   "metadata": {},
   "outputs": [],
   "source": [
    "def transform_test_data(data):\n",
    "\n",
    "    data_scaled = scaler.transform(data[numerical])\n",
    "    data_ohe = ohe.transform(data[to_dummies])\n",
    "    # Склеиваем датасет\n",
    "    data_tramsformed = pd.concat([pd.DataFrame(data_scaled, columns=numerical),\n",
    "                                  pd.DataFrame(data_ohe, columns=ohe.get_feature_names_out())], axis=1)\n",
    "    return data_tramsformed"
   ]
  },
  {
   "cell_type": "code",
   "execution_count": 23,
   "metadata": {},
   "outputs": [],
   "source": [
    "features_valid_transform = transform_test_data(features_valid)\n",
    "features_test_transform = transform_test_data(features_test)"
   ]
  },
  {
   "cell_type": "code",
   "execution_count": 24,
   "metadata": {},
   "outputs": [
    {
     "data": {
      "text/html": [
       "<div>\n",
       "<style scoped>\n",
       "    .dataframe tbody tr th:only-of-type {\n",
       "        vertical-align: middle;\n",
       "    }\n",
       "\n",
       "    .dataframe tbody tr th {\n",
       "        vertical-align: top;\n",
       "    }\n",
       "\n",
       "    .dataframe thead th {\n",
       "        text-align: right;\n",
       "    }\n",
       "</style>\n",
       "<table border=\"1\" class=\"dataframe\">\n",
       "  <thead>\n",
       "    <tr style=\"text-align: right;\">\n",
       "      <th></th>\n",
       "      <th>CreditScore</th>\n",
       "      <th>Age</th>\n",
       "      <th>Tenure</th>\n",
       "      <th>Balance</th>\n",
       "      <th>NumOfProducts</th>\n",
       "      <th>EstimatedSalary</th>\n",
       "      <th>HasCrCard</th>\n",
       "      <th>IsActiveMember</th>\n",
       "      <th>Geography_Germany</th>\n",
       "      <th>Geography_Spain</th>\n",
       "      <th>Gender_Male</th>\n",
       "    </tr>\n",
       "  </thead>\n",
       "  <tbody>\n",
       "    <tr>\n",
       "      <th>0</th>\n",
       "      <td>-0.620245</td>\n",
       "      <td>-0.087139</td>\n",
       "      <td>-1.089979</td>\n",
       "      <td>1.060025</td>\n",
       "      <td>-0.919109</td>\n",
       "      <td>0.350332</td>\n",
       "      <td>-1.560275</td>\n",
       "      <td>0.967527</td>\n",
       "      <td>0.0</td>\n",
       "      <td>0.0</td>\n",
       "      <td>0.0</td>\n",
       "    </tr>\n",
       "    <tr>\n",
       "      <th>1</th>\n",
       "      <td>0.167842</td>\n",
       "      <td>0.487091</td>\n",
       "      <td>1.086835</td>\n",
       "      <td>0.739283</td>\n",
       "      <td>-0.919109</td>\n",
       "      <td>-0.134610</td>\n",
       "      <td>0.640913</td>\n",
       "      <td>0.967527</td>\n",
       "      <td>0.0</td>\n",
       "      <td>0.0</td>\n",
       "      <td>1.0</td>\n",
       "    </tr>\n",
       "    <tr>\n",
       "      <th>2</th>\n",
       "      <td>0.478929</td>\n",
       "      <td>-0.948485</td>\n",
       "      <td>-1.815583</td>\n",
       "      <td>1.547344</td>\n",
       "      <td>-0.919109</td>\n",
       "      <td>0.736502</td>\n",
       "      <td>-1.560275</td>\n",
       "      <td>-1.033563</td>\n",
       "      <td>1.0</td>\n",
       "      <td>0.0</td>\n",
       "      <td>1.0</td>\n",
       "    </tr>\n",
       "    <tr>\n",
       "      <th>3</th>\n",
       "      <td>1.640319</td>\n",
       "      <td>0.199976</td>\n",
       "      <td>-1.452781</td>\n",
       "      <td>0.056946</td>\n",
       "      <td>0.783996</td>\n",
       "      <td>1.152573</td>\n",
       "      <td>0.640913</td>\n",
       "      <td>-1.033563</td>\n",
       "      <td>1.0</td>\n",
       "      <td>0.0</td>\n",
       "      <td>1.0</td>\n",
       "    </tr>\n",
       "    <tr>\n",
       "      <th>4</th>\n",
       "      <td>2.065472</td>\n",
       "      <td>-0.948485</td>\n",
       "      <td>-1.452781</td>\n",
       "      <td>-1.220584</td>\n",
       "      <td>0.783996</td>\n",
       "      <td>1.715821</td>\n",
       "      <td>0.640913</td>\n",
       "      <td>0.967527</td>\n",
       "      <td>0.0</td>\n",
       "      <td>1.0</td>\n",
       "      <td>0.0</td>\n",
       "    </tr>\n",
       "  </tbody>\n",
       "</table>\n",
       "</div>"
      ],
      "text/plain": [
       "   CreditScore       Age    Tenure   Balance  NumOfProducts  EstimatedSalary  \\\n",
       "0    -0.620245 -0.087139 -1.089979  1.060025      -0.919109         0.350332   \n",
       "1     0.167842  0.487091  1.086835  0.739283      -0.919109        -0.134610   \n",
       "2     0.478929 -0.948485 -1.815583  1.547344      -0.919109         0.736502   \n",
       "3     1.640319  0.199976 -1.452781  0.056946       0.783996         1.152573   \n",
       "4     2.065472 -0.948485 -1.452781 -1.220584       0.783996         1.715821   \n",
       "\n",
       "   HasCrCard  IsActiveMember  Geography_Germany  Geography_Spain  Gender_Male  \n",
       "0  -1.560275        0.967527                0.0              0.0          0.0  \n",
       "1   0.640913        0.967527                0.0              0.0          1.0  \n",
       "2  -1.560275       -1.033563                1.0              0.0          1.0  \n",
       "3   0.640913       -1.033563                1.0              0.0          1.0  \n",
       "4   0.640913        0.967527                0.0              1.0          0.0  "
      ]
     },
     "execution_count": 24,
     "metadata": {},
     "output_type": "execute_result"
    }
   ],
   "source": [
    "features_valid_transform.head()"
   ]
  },
  {
   "cell_type": "markdown",
   "metadata": {},
   "source": [
    "## Исследование задачи"
   ]
  },
  {
   "cell_type": "code",
   "execution_count": 25,
   "metadata": {},
   "outputs": [
    {
     "data": {
      "text/plain": [
       "0    0.7963\n",
       "1    0.2037\n",
       "Name: Exited, dtype: float64"
      ]
     },
     "execution_count": 25,
     "metadata": {},
     "output_type": "execute_result"
    }
   ],
   "source": [
    "df['Exited'].value_counts(normalize = 1)"
   ]
  },
  {
   "cell_type": "markdown",
   "metadata": {},
   "source": [
    "Данные распределены неравномерно, почти в 80% случаев ответы будут стремиться к 0. Можно ожидать, что результаты предсказаний моделей будут склоняться к одному варианту ответов"
   ]
  },
  {
   "cell_type": "code",
   "execution_count": 26,
   "metadata": {},
   "outputs": [],
   "source": [
    "def all_models(features_train, target_train, features_valid, target_valid):\n",
    "    model_DTC = DecisionTreeClassifier(random_state=42)\n",
    "    model_DTC.fit(features_train, target_train)\n",
    "    predictions_DTC = model_DTC.predict(features_valid)\n",
    "    probabilities_DTC = model_DTC.predict_proba(features_valid)\n",
    "    DTC_f1 =  f1_score(target_valid, predictions_DTC)\n",
    "    DTC_roc_auc = roc_auc_score(target_valid, probabilities_DTC[:, 1])\n",
    "    \n",
    "    model_RFC = RandomForestClassifier(random_state=42, n_estimators = 100)\n",
    "    model_RFC.fit(features_train, target_train)\n",
    "    predictions_RFC = model_RFC.predict(features_valid)\n",
    "    probabilities_RFC = model_RFC.predict_proba(features_valid)\n",
    "    RFC_f1 =  f1_score(target_valid, predictions_RFC)\n",
    "    RFC_roc_auc = roc_auc_score(target_valid, probabilities_RFC[:, 1])\n",
    "    \n",
    "    model_LgR = LogisticRegression(solver = 'liblinear')\n",
    "    model_LgR.fit(features_train, target_train)\n",
    "    predictions_LgR = model_LgR.predict(features_valid)\n",
    "    probabilities_LgR = model_LgR.predict_proba(features_valid)\n",
    "    LgR_f1 =  f1_score(target_valid, predictions_LgR)\n",
    "    LgR_roc_auc = roc_auc_score(target_valid, probabilities_LgR[:, 1])\n",
    "    \n",
    "    print(\"Дерево решений, F1 =\", DTC_f1, \"roc_auc =\", DTC_roc_auc)\n",
    "    print(\"Cлучайный лес F1 =\", RFC_f1, \"roc_auc =\", RFC_roc_auc)\n",
    "    print(\"Логистческая регрессия  F1 =\", LgR_f1, \"roc_auc =\", LgR_roc_auc)"
   ]
  },
  {
   "cell_type": "code",
   "execution_count": 27,
   "metadata": {
    "scrolled": false
   },
   "outputs": [
    {
     "name": "stdout",
     "output_type": "stream",
     "text": [
      "Дерево решений, F1 = 0.47719298245614034 roc_auc = 0.6740291909783435\n",
      "Cлучайный лес F1 = 0.5761689291101055 roc_auc = 0.8484462891242552\n",
      "Логистческая регрессия  F1 = 0.3042671614100186 roc_auc = 0.770386719539262\n"
     ]
    }
   ],
   "source": [
    "all_models(features_train_transform, target_train, features_test_transform, target_test)"
   ]
  },
  {
   "cell_type": "markdown",
   "metadata": {},
   "source": [
    "Как мы видим лучше всего себя показал алгоритм - Случайны лес. Попробуем уменьшить дисбаланс классов и увеличить качество модели"
   ]
  },
  {
   "cell_type": "markdown",
   "metadata": {},
   "source": [
    "## Борьба с дисбалансом"
   ]
  },
  {
   "cell_type": "markdown",
   "metadata": {},
   "source": [
    "Увеличим количество значений равных \"1\""
   ]
  },
  {
   "cell_type": "code",
   "execution_count": 28,
   "metadata": {},
   "outputs": [],
   "source": [
    "def upsample(features, target, repeat):\n",
    "    features_zeros = features[target == 0]\n",
    "    features_ones = features[target == 1]\n",
    "    target_zeros = target[target == 0]\n",
    "    target_ones = target[target == 1]\n",
    "\n",
    "    features_upsampled = pd.concat([features_zeros] + [features_ones] * repeat)\n",
    "    target_upsampled = pd.concat([target_zeros] + [target_ones] * repeat)\n",
    "    \n",
    "    features_upsampled, target_upsampled = shuffle(\n",
    "        features_upsampled, target_upsampled, random_state=42)\n",
    "    \n",
    "    return features_upsampled, target_upsampled"
   ]
  },
  {
   "cell_type": "code",
   "execution_count": 29,
   "metadata": {},
   "outputs": [],
   "source": [
    "features_upsampled, target_upsampled = upsample(features_train, target_train, 4)"
   ]
  },
  {
   "cell_type": "code",
   "execution_count": 30,
   "metadata": {
    "scrolled": true
   },
   "outputs": [
    {
     "name": "stdout",
     "output_type": "stream",
     "text": [
      "1    0.50569\n",
      "0    0.49431\n",
      "Name: Exited, dtype: float64\n",
      "(9666,)\n"
     ]
    }
   ],
   "source": [
    "print(target_upsampled.value_counts(normalize = 1))\n",
    "print(target_upsampled.shape)"
   ]
  },
  {
   "cell_type": "code",
   "execution_count": 31,
   "metadata": {},
   "outputs": [],
   "source": [
    "features_transform_upsampled = transform_data(features_upsampled)"
   ]
  },
  {
   "cell_type": "code",
   "execution_count": 32,
   "metadata": {},
   "outputs": [
    {
     "name": "stdout",
     "output_type": "stream",
     "text": [
      "Cлучайный лес F1 = 0.623921085080148 roc_auc = 0.8598638104739383\n"
     ]
    }
   ],
   "source": [
    "model_RFC = RandomForestClassifier(random_state=42, n_estimators = 100)\n",
    "model_RFC.fit(features_transform_upsampled, target_upsampled)\n",
    "predictions_RFC = model_RFC.predict(features_valid_transform)\n",
    "probabilities_RFC = model_RFC.predict_proba(features_valid_transform)\n",
    "RFC_f1 =  f1_score(target_valid, predictions_RFC)\n",
    "RFC_roc_auc = roc_auc_score(target_valid, probabilities_RFC[:, 1])\n",
    "print(\"Cлучайный лес F1 =\", RFC_f1, \"roc_auc =\", RFC_roc_auc)"
   ]
  },
  {
   "cell_type": "markdown",
   "metadata": {},
   "source": [
    "Уменьшим кол-во значений раных \"0\""
   ]
  },
  {
   "cell_type": "code",
   "execution_count": 33,
   "metadata": {},
   "outputs": [],
   "source": [
    "def downsample(features, target, fraction):\n",
    "    features_zeros = features[target == 0]\n",
    "    features_ones = features[target == 1]\n",
    "    target_zeros = target[target == 0]\n",
    "    target_ones = target[target == 1]\n",
    "\n",
    "    features_downsampled = pd.concat(\n",
    "        [features_zeros.sample(frac=fraction, random_state=42)] + [features_ones])\n",
    "    target_downsampled = pd.concat(\n",
    "        [target_zeros.sample(frac=fraction, random_state=42)] + [target_ones])\n",
    "    \n",
    "    features_downsampled, target_downsampled = shuffle(\n",
    "        features_downsampled, target_downsampled, random_state=42)\n",
    "    \n",
    "    return features_downsampled, target_downsampled\n",
    "\n",
    "features_downsampled, target_downsampled = downsample(features_train, target_train, 0.25)"
   ]
  },
  {
   "cell_type": "code",
   "execution_count": 34,
   "metadata": {
    "scrolled": false
   },
   "outputs": [
    {
     "name": "stdout",
     "output_type": "stream",
     "text": [
      "1    0.505795\n",
      "0    0.494205\n",
      "Name: Exited, dtype: float64\n",
      "(2416,)\n"
     ]
    }
   ],
   "source": [
    "print(target_downsampled.value_counts(normalize = 1))\n",
    "print(target_downsampled.shape)"
   ]
  },
  {
   "cell_type": "code",
   "execution_count": 35,
   "metadata": {},
   "outputs": [],
   "source": [
    "features_transform_downsampled = transform_data(features_downsampled)"
   ]
  },
  {
   "cell_type": "code",
   "execution_count": 36,
   "metadata": {},
   "outputs": [
    {
     "name": "stdout",
     "output_type": "stream",
     "text": [
      "Cлучайный лес F1 = 0.5555555555555556 roc_auc = 0.8512068615134496\n"
     ]
    }
   ],
   "source": [
    "model2_RFC = RandomForestClassifier(random_state=42, n_estimators = 100)\n",
    "model2_RFC.fit(features_transform_downsampled, target_downsampled)\n",
    "predictions_RFC = model2_RFC.predict(features_valid_transform)\n",
    "probabilities_RFC = model2_RFC.predict_proba(features_valid_transform)\n",
    "RFC_f1_2 =  f1_score(target_valid, predictions_RFC)\n",
    "RFC_roc_auc_2 = roc_auc_score(target_valid, probabilities_RFC[:, 1])\n",
    "print(\"Cлучайный лес F1 =\", RFC_f1_2, \"roc_auc =\", RFC_roc_auc_2)"
   ]
  },
  {
   "cell_type": "markdown",
   "metadata": {},
   "source": [
    "Мы увеличили показатель F1 и добились необходимого показателя для сдачи проекта в первом случае. Попробуем еще увеличить значение F1 при помощи подбора гиперпараметров. Значения roc_auc при уменьшении выборки оказалось больше, по сравнению с увеличением выборки. Если б этот показатель был целевой, можно было бы использовать уменьшенную выборку в подготовке финальной модели, но мы заинтересованы в наибольшем показателе F1"
   ]
  },
  {
   "cell_type": "code",
   "execution_count": 37,
   "metadata": {},
   "outputs": [],
   "source": [
    "def RFC_test(features_transform_upsampled, target_upsampled, features_valid_transform, target_valid):\n",
    "    best_depth = 0\n",
    "    best_est = 0\n",
    "    best_f1 = 0\n",
    "    best_split = 0\n",
    "    for depth in tqdm(range(15,19)):\n",
    "            for est in range(70,110,10):\n",
    "                for split in range(2,10):\n",
    "                    model_best = RandomForestClassifier(random_state=42,\n",
    "                                                        max_depth=depth,\n",
    "                                                        n_estimators = est,\n",
    "                                                        min_samples_split = split\n",
    "                                                       )\n",
    "                    model_best.fit(features_transform_upsampled, target_upsampled)\n",
    "                    predictions_valid = model_best.predict(features_valid_transform)\n",
    "                    f1 =  f1_score(target_valid, predictions_valid)\n",
    "                    if best_f1 < f1:\n",
    "                        best_f1 = f1\n",
    "                        best_depth = depth\n",
    "                        best_est = est\n",
    "                        best_split = split\n",
    "    print('Глубина:', best_depth)\n",
    "    print('Разделение:', best_split)\n",
    "    print('Точность:',best_f1)\n",
    "    print('Деревья:', best_est)"
   ]
  },
  {
   "cell_type": "code",
   "execution_count": 38,
   "metadata": {},
   "outputs": [
    {
     "name": "stderr",
     "output_type": "stream",
     "text": [
      "100%|█████████████████████████████████████████████| 4/4 [01:24<00:00, 21.12s/it]"
     ]
    },
    {
     "name": "stdout",
     "output_type": "stream",
     "text": [
      "Глубина: 15\n",
      "Разделение: 3\n",
      "Точность: 0.63689776733255\n",
      "Деревья: 70\n"
     ]
    },
    {
     "name": "stderr",
     "output_type": "stream",
     "text": [
      "\n"
     ]
    }
   ],
   "source": [
    "RFC_test(features_transform_upsampled, target_upsampled, features_valid_transform, target_valid)"
   ]
  },
  {
   "cell_type": "code",
   "execution_count": 39,
   "metadata": {},
   "outputs": [
    {
     "name": "stdout",
     "output_type": "stream",
     "text": [
      "Cлучайный лес F1 = 0.63689776733255 roc_auc = 0.8576553108680658\n"
     ]
    }
   ],
   "source": [
    "model_final = RandomForestClassifier(random_state=42,                                                   \n",
    "                                     max_depth=15,                                                    \n",
    "                                     n_estimators = 70,\n",
    "                                     min_samples_split = 3\n",
    "                                  )\n",
    "model_final.fit(features_transform_upsampled, target_upsampled)\n",
    "predictions_RFC = model_final.predict(features_valid_transform)\n",
    "probabilities_RFC = model_final.predict_proba(features_valid_transform)\n",
    "final_f1 =  f1_score(target_valid, predictions_RFC)\n",
    "final_roc_auc = roc_auc_score(target_valid, probabilities_RFC[:, 1])\n",
    "print(\"Cлучайный лес F1 =\", final_f1, \"roc_auc =\", final_roc_auc)"
   ]
  },
  {
   "cell_type": "markdown",
   "metadata": {},
   "source": [
    "Мы получили хорошее значение f1 равное 0.637, что выше значения до побора гиперпараметров. "
   ]
  },
  {
   "cell_type": "markdown",
   "metadata": {},
   "source": [
    "## Тестирование модели"
   ]
  },
  {
   "cell_type": "code",
   "execution_count": 40,
   "metadata": {
    "scrolled": true
   },
   "outputs": [
    {
     "name": "stdout",
     "output_type": "stream",
     "text": [
      "Cлучайный лес F1 = 0.6014492753623188 roc_auc = 0.8398035940408823\n"
     ]
    }
   ],
   "source": [
    "predictions_test = model_final.predict(features_test_transform)\n",
    "probabilities_RFC = model_final.predict_proba(features_test_transform)\n",
    "test_f1 =  f1_score(target_test, predictions_test)\n",
    "test_roc_auc = roc_auc_score(target_test, probabilities_RFC[:, 1])\n",
    "print(\"Cлучайный лес F1 =\", test_f1, \"roc_auc =\", test_roc_auc)"
   ]
  },
  {
   "cell_type": "markdown",
   "metadata": {},
   "source": [
    "<b>Вывод </b>\n",
    "\n",
    "В результате проделанной работы мы построили модель со значением F1-меры - 0,601 на тестовой выборке. Ее можно использовать для прогнозирования, уйдёт клиент из банка в ближайшее время или нет. Порог 0.59 был достигнут.\n"
   ]
  },
  {
   "cell_type": "code",
   "execution_count": 41,
   "metadata": {},
   "outputs": [
    {
     "data": {
      "image/png": "[encoded data removed]",
      "text/plain": [
       "<Figure size 1080x432 with 1 Axes>"
      ]
     },
     "metadata": {
      "needs_background": "light"
     },
     "output_type": "display_data"
    }
   ],
   "source": [
    "importance = mutual_info_classif(features_train_transform, target_train)\n",
    "feature_importance = pd.DataFrame(importance, features_train_transform.columns)\n",
    "feature_importance.plot(kind='bar', color = 'teal',figsize = (15,6))\n",
    "plt.show()"
   ]
  },
  {
   "cell_type": "code",
   "execution_count": null,
   "metadata": {},
   "outputs": [],
   "source": []
  }
 ],
 "metadata": {
  "ExecuteTimeLog": [
   {
    "duration": 400,
    "start_time": "2022-12-06T09:22:10.323Z"
   },
   {
    "duration": 94,
    "start_time": "2022-12-06T09:23:47.832Z"
   },
   {
    "duration": 20,
    "start_time": "2022-12-06T09:24:05.409Z"
   },
   {
    "duration": 8,
    "start_time": "2022-12-06T09:25:24.208Z"
   },
   {
    "duration": 18,
    "start_time": "2022-12-06T09:25:36.194Z"
   },
   {
    "duration": 14,
    "start_time": "2022-12-06T09:26:04.497Z"
   },
   {
    "duration": 4,
    "start_time": "2022-12-06T09:29:22.931Z"
   },
   {
    "duration": 72,
    "start_time": "2022-12-06T09:29:30.099Z"
   },
   {
    "duration": 4,
    "start_time": "2022-12-06T09:29:38.649Z"
   },
   {
    "duration": 6,
    "start_time": "2022-12-06T09:29:44.053Z"
   },
   {
    "duration": 6,
    "start_time": "2022-12-06T09:33:40.620Z"
   },
   {
    "duration": 4,
    "start_time": "2022-12-06T09:33:44.169Z"
   },
   {
    "duration": 432,
    "start_time": "2022-12-06T10:59:48.989Z"
   },
   {
    "duration": 164,
    "start_time": "2022-12-06T10:59:49.424Z"
   },
   {
    "duration": 26,
    "start_time": "2022-12-06T10:59:49.591Z"
   },
   {
    "duration": 20,
    "start_time": "2022-12-06T10:59:49.619Z"
   },
   {
    "duration": 17,
    "start_time": "2022-12-06T10:59:49.641Z"
   },
   {
    "duration": 5,
    "start_time": "2022-12-06T10:59:49.660Z"
   },
   {
    "duration": 9,
    "start_time": "2022-12-06T10:59:49.667Z"
   },
   {
    "duration": 78,
    "start_time": "2022-12-06T11:00:04.797Z"
   },
   {
    "duration": 14,
    "start_time": "2022-12-06T11:00:37.313Z"
   },
   {
    "duration": 8,
    "start_time": "2022-12-06T11:01:09.329Z"
   },
   {
    "duration": 6,
    "start_time": "2022-12-06T11:01:31.413Z"
   },
   {
    "duration": 74,
    "start_time": "2022-12-06T11:04:50.055Z"
   },
   {
    "duration": 472,
    "start_time": "2022-12-06T11:05:18.710Z"
   },
   {
    "duration": 40,
    "start_time": "2022-12-06T11:05:19.184Z"
   },
   {
    "duration": 22,
    "start_time": "2022-12-06T11:05:19.225Z"
   },
   {
    "duration": 14,
    "start_time": "2022-12-06T11:05:19.250Z"
   },
   {
    "duration": 18,
    "start_time": "2022-12-06T11:05:19.266Z"
   },
   {
    "duration": 5,
    "start_time": "2022-12-06T11:05:19.285Z"
   },
   {
    "duration": 4,
    "start_time": "2022-12-06T11:05:19.292Z"
   },
   {
    "duration": 7,
    "start_time": "2022-12-06T11:05:19.298Z"
   },
   {
    "duration": 10,
    "start_time": "2022-12-06T11:05:19.338Z"
   },
   {
    "duration": 25,
    "start_time": "2022-12-06T11:05:19.350Z"
   },
   {
    "duration": 15,
    "start_time": "2022-12-06T11:05:47.731Z"
   },
   {
    "duration": 704,
    "start_time": "2022-12-06T11:08:47.560Z"
   },
   {
    "duration": 21,
    "start_time": "2022-12-06T11:13:56.101Z"
   },
   {
    "duration": 17,
    "start_time": "2022-12-06T11:14:19.280Z"
   },
   {
    "duration": 30,
    "start_time": "2022-12-06T11:16:07.108Z"
   },
   {
    "duration": 6,
    "start_time": "2022-12-06T11:16:20.569Z"
   },
   {
    "duration": 100,
    "start_time": "2022-12-06T11:16:46.114Z"
   },
   {
    "duration": 469,
    "start_time": "2022-12-06T11:17:00.108Z"
   },
   {
    "duration": 57469,
    "start_time": "2022-12-06T11:17:05.021Z"
   },
   {
    "duration": 82,
    "start_time": "2022-12-06T11:21:03.718Z"
   },
   {
    "duration": 23,
    "start_time": "2022-12-06T11:23:34.871Z"
   },
   {
    "duration": 21,
    "start_time": "2022-12-06T11:23:54.730Z"
   },
   {
    "duration": 10,
    "start_time": "2022-12-06T11:23:59.715Z"
   },
   {
    "duration": 6,
    "start_time": "2022-12-06T11:29:03.205Z"
   },
   {
    "duration": 208,
    "start_time": "2022-12-06T11:30:53.554Z"
   },
   {
    "duration": 5,
    "start_time": "2022-12-06T11:31:05.090Z"
   },
   {
    "duration": 30,
    "start_time": "2022-12-06T11:31:19.524Z"
   },
   {
    "duration": 6,
    "start_time": "2022-12-06T11:32:15.765Z"
   },
   {
    "duration": 9,
    "start_time": "2022-12-06T11:32:26.231Z"
   },
   {
    "duration": 22,
    "start_time": "2022-12-06T11:32:39.351Z"
   },
   {
    "duration": 4,
    "start_time": "2022-12-06T11:34:15.307Z"
   },
   {
    "duration": 7,
    "start_time": "2022-12-06T11:34:28.353Z"
   },
   {
    "duration": 18,
    "start_time": "2022-12-06T11:34:45.810Z"
   },
   {
    "duration": 9,
    "start_time": "2022-12-06T11:35:33.827Z"
   },
   {
    "duration": 5,
    "start_time": "2022-12-06T11:36:14.185Z"
   },
   {
    "duration": 4,
    "start_time": "2022-12-06T11:38:32.902Z"
   },
   {
    "duration": 21,
    "start_time": "2022-12-06T11:38:33.558Z"
   },
   {
    "duration": 1133,
    "start_time": "2022-12-06T11:38:41.084Z"
   },
   {
    "duration": 53,
    "start_time": "2022-12-06T11:38:42.220Z"
   },
   {
    "duration": 20,
    "start_time": "2022-12-06T11:38:42.275Z"
   },
   {
    "duration": 13,
    "start_time": "2022-12-06T11:38:42.296Z"
   },
   {
    "duration": 15,
    "start_time": "2022-12-06T11:38:42.311Z"
   },
   {
    "duration": 47,
    "start_time": "2022-12-06T11:38:42.327Z"
   },
   {
    "duration": 4,
    "start_time": "2022-12-06T11:38:42.376Z"
   },
   {
    "duration": 10,
    "start_time": "2022-12-06T11:38:42.381Z"
   },
   {
    "duration": 7,
    "start_time": "2022-12-06T11:38:42.393Z"
   },
   {
    "duration": 10,
    "start_time": "2022-12-06T11:38:42.402Z"
   },
   {
    "duration": 41,
    "start_time": "2022-12-06T11:38:42.414Z"
   },
   {
    "duration": 5,
    "start_time": "2022-12-06T11:38:42.456Z"
   },
   {
    "duration": 12,
    "start_time": "2022-12-06T11:38:42.462Z"
   },
   {
    "duration": 8,
    "start_time": "2022-12-06T11:38:42.477Z"
   },
   {
    "duration": 22,
    "start_time": "2022-12-06T11:38:42.487Z"
   },
   {
    "duration": 53,
    "start_time": "2022-12-06T11:38:42.511Z"
   },
   {
    "duration": 13,
    "start_time": "2022-12-06T11:38:42.566Z"
   },
   {
    "duration": 5,
    "start_time": "2022-12-06T11:38:42.582Z"
   },
   {
    "duration": 6,
    "start_time": "2022-12-06T11:38:42.589Z"
   },
   {
    "duration": 859,
    "start_time": "2022-12-06T11:38:42.597Z"
   },
   {
    "duration": 1169,
    "start_time": "2022-12-06T12:11:33.301Z"
   },
   {
    "duration": 40,
    "start_time": "2022-12-06T12:11:34.472Z"
   },
   {
    "duration": 28,
    "start_time": "2022-12-06T12:11:34.513Z"
   },
   {
    "duration": 19,
    "start_time": "2022-12-06T12:11:34.543Z"
   },
   {
    "duration": 35,
    "start_time": "2022-12-06T12:11:34.564Z"
   },
   {
    "duration": 22,
    "start_time": "2022-12-06T12:11:34.601Z"
   },
   {
    "duration": 11,
    "start_time": "2022-12-06T12:11:34.624Z"
   },
   {
    "duration": 10,
    "start_time": "2022-12-06T12:11:34.637Z"
   },
   {
    "duration": 5,
    "start_time": "2022-12-06T12:11:34.650Z"
   },
   {
    "duration": 17,
    "start_time": "2022-12-06T12:11:34.657Z"
   },
   {
    "duration": 32,
    "start_time": "2022-12-06T12:11:34.676Z"
   },
   {
    "duration": 5,
    "start_time": "2022-12-06T12:11:34.709Z"
   },
   {
    "duration": 23,
    "start_time": "2022-12-06T12:11:34.715Z"
   },
   {
    "duration": 24,
    "start_time": "2022-12-06T12:11:34.741Z"
   },
   {
    "duration": 32,
    "start_time": "2022-12-06T12:11:34.767Z"
   },
   {
    "duration": 21,
    "start_time": "2022-12-06T12:11:34.800Z"
   },
   {
    "duration": 11,
    "start_time": "2022-12-06T12:11:34.823Z"
   },
   {
    "duration": 7,
    "start_time": "2022-12-06T12:11:34.836Z"
   },
   {
    "duration": 5,
    "start_time": "2022-12-06T12:11:34.845Z"
   },
   {
    "duration": 891,
    "start_time": "2022-12-06T12:11:34.852Z"
   },
   {
    "duration": 6,
    "start_time": "2022-12-06T12:17:27.729Z"
   },
   {
    "duration": 132,
    "start_time": "2022-12-06T12:17:28.211Z"
   },
   {
    "duration": 4,
    "start_time": "2022-12-06T12:17:53.439Z"
   },
   {
    "duration": 5,
    "start_time": "2022-12-06T12:17:58.626Z"
   },
   {
    "duration": 763,
    "start_time": "2022-12-06T12:17:59.082Z"
   },
   {
    "duration": 4,
    "start_time": "2022-12-06T12:25:24.682Z"
   },
   {
    "duration": 19,
    "start_time": "2022-12-06T12:25:34.759Z"
   },
   {
    "duration": 3,
    "start_time": "2022-12-06T12:25:53.272Z"
   },
   {
    "duration": 3,
    "start_time": "2022-12-06T12:25:59.269Z"
   },
   {
    "duration": 10,
    "start_time": "2022-12-06T12:25:59.586Z"
   },
   {
    "duration": 360,
    "start_time": "2022-12-06T12:27:24.110Z"
   },
   {
    "duration": 6,
    "start_time": "2022-12-06T12:27:38.003Z"
   },
   {
    "duration": 21,
    "start_time": "2022-12-06T12:27:49.745Z"
   },
   {
    "duration": 6,
    "start_time": "2022-12-06T12:29:31.329Z"
   },
   {
    "duration": 1003,
    "start_time": "2022-12-06T12:31:54.335Z"
   },
   {
    "duration": 5,
    "start_time": "2022-12-06T12:37:40.145Z"
   },
   {
    "duration": 2,
    "start_time": "2022-12-06T12:38:16.467Z"
   },
   {
    "duration": 17,
    "start_time": "2022-12-06T12:40:08.315Z"
   },
   {
    "duration": 948681,
    "start_time": "2022-12-06T12:40:29.857Z"
   },
   {
    "duration": 3,
    "start_time": "2022-12-06T12:56:39.122Z"
   },
   {
    "duration": 3,
    "start_time": "2022-12-06T12:59:52.359Z"
   },
   {
    "duration": 353673,
    "start_time": "2022-12-06T12:59:53.004Z"
   },
   {
    "duration": 5,
    "start_time": "2022-12-06T13:05:56.684Z"
   },
   {
    "duration": 108,
    "start_time": "2022-12-06T13:07:58.987Z"
   },
   {
    "duration": 13,
    "start_time": "2022-12-06T13:10:44.442Z"
   },
   {
    "duration": 16,
    "start_time": "2022-12-06T13:11:28.245Z"
   },
   {
    "duration": 670,
    "start_time": "2022-12-06T13:12:41.012Z"
   },
   {
    "duration": 52,
    "start_time": "2022-12-06T13:12:46.238Z"
   },
   {
    "duration": 4,
    "start_time": "2022-12-06T13:13:39.228Z"
   },
   {
    "duration": 417383,
    "start_time": "2022-12-06T13:13:40.146Z"
   },
   {
    "duration": 5,
    "start_time": "2022-12-06T13:22:22.788Z"
   },
   {
    "duration": 516,
    "start_time": "2022-12-06T13:22:42.882Z"
   },
   {
    "duration": 36,
    "start_time": "2022-12-06T13:22:46.680Z"
   },
   {
    "duration": 771,
    "start_time": "2022-12-06T13:24:41.647Z"
   },
   {
    "duration": 44,
    "start_time": "2022-12-06T13:24:47.763Z"
   },
   {
    "duration": 3,
    "start_time": "2022-12-06T13:25:50.477Z"
   },
   {
    "duration": 16,
    "start_time": "2022-12-06T13:25:51.928Z"
   },
   {
    "duration": 33465,
    "start_time": "2022-12-06T13:26:30.165Z"
   },
   {
    "duration": 405184,
    "start_time": "2022-12-06T13:27:18.242Z"
   },
   {
    "duration": 4,
    "start_time": "2022-12-06T13:41:41.908Z"
   },
   {
    "duration": 3,
    "start_time": "2022-12-06T13:44:13.324Z"
   },
   {
    "duration": 63497,
    "start_time": "2022-12-06T13:44:13.806Z"
   },
   {
    "duration": 3,
    "start_time": "2022-12-06T13:45:33.495Z"
   },
   {
    "duration": 538,
    "start_time": "2022-12-06T13:45:53.525Z"
   },
   {
    "duration": 756,
    "start_time": "2022-12-06T13:45:59.820Z"
   },
   {
    "duration": 64444,
    "start_time": "2022-12-06T13:46:51.899Z"
   },
   {
    "duration": 5,
    "start_time": "2022-12-06T13:47:56.344Z"
   },
   {
    "duration": 63487,
    "start_time": "2022-12-06T13:48:45.851Z"
   },
   {
    "duration": 3,
    "start_time": "2022-12-06T13:49:54.210Z"
   },
   {
    "duration": 3,
    "start_time": "2022-12-06T13:50:08.267Z"
   },
   {
    "duration": 63051,
    "start_time": "2022-12-06T13:50:11.445Z"
   },
   {
    "duration": 4,
    "start_time": "2022-12-06T13:51:14.498Z"
   },
   {
    "duration": 523,
    "start_time": "2022-12-06T13:52:40.982Z"
   },
   {
    "duration": 747,
    "start_time": "2022-12-06T13:52:45.398Z"
   },
   {
    "duration": 558,
    "start_time": "2022-12-06T13:53:14.780Z"
   },
   {
    "duration": 37,
    "start_time": "2022-12-06T13:53:20.253Z"
   },
   {
    "duration": 4,
    "start_time": "2022-12-06T13:54:49.444Z"
   },
   {
    "duration": 1092432,
    "start_time": "2022-12-06T13:54:50.724Z"
   },
   {
    "duration": 3,
    "start_time": "2022-12-06T14:13:16.062Z"
   },
   {
    "duration": 434510,
    "start_time": "2022-12-06T14:13:16.547Z"
   },
   {
    "duration": 3,
    "start_time": "2022-12-06T14:20:31.059Z"
   },
   {
    "duration": 83,
    "start_time": "2022-12-06T14:22:06.893Z"
   },
   {
    "duration": 537,
    "start_time": "2022-12-06T14:22:40.484Z"
   },
   {
    "duration": 36,
    "start_time": "2022-12-06T14:22:45.678Z"
   },
   {
    "duration": 11,
    "start_time": "2022-12-06T14:28:20.534Z"
   },
   {
    "duration": 42,
    "start_time": "2022-12-06T14:30:45.875Z"
   },
   {
    "duration": 3,
    "start_time": "2022-12-06T14:31:05.630Z"
   },
   {
    "duration": 43,
    "start_time": "2022-12-06T14:31:14.680Z"
   },
   {
    "duration": 4,
    "start_time": "2022-12-06T14:31:35.978Z"
   },
   {
    "duration": 149,
    "start_time": "2022-12-06T14:31:45.375Z"
   },
   {
    "duration": 564,
    "start_time": "2022-12-06T14:38:27.211Z"
   },
   {
    "duration": 166,
    "start_time": "2022-12-06T14:40:31.330Z"
   },
   {
    "duration": 178,
    "start_time": "2022-12-06T14:42:14.157Z"
   },
   {
    "duration": 41,
    "start_time": "2022-12-06T14:42:44.619Z"
   },
   {
    "duration": 1491,
    "start_time": "2022-12-06T14:42:50.861Z"
   },
   {
    "duration": 40,
    "start_time": "2022-12-06T14:42:52.355Z"
   },
   {
    "duration": 18,
    "start_time": "2022-12-06T14:42:52.396Z"
   },
   {
    "duration": 15,
    "start_time": "2022-12-06T14:42:52.415Z"
   },
   {
    "duration": 20,
    "start_time": "2022-12-06T14:42:52.433Z"
   },
   {
    "duration": 22,
    "start_time": "2022-12-06T14:42:52.455Z"
   },
   {
    "duration": 6,
    "start_time": "2022-12-06T14:42:52.479Z"
   },
   {
    "duration": 6,
    "start_time": "2022-12-06T14:42:52.487Z"
   },
   {
    "duration": 6,
    "start_time": "2022-12-06T14:42:52.494Z"
   },
   {
    "duration": 8,
    "start_time": "2022-12-06T14:42:52.502Z"
   },
   {
    "duration": 50,
    "start_time": "2022-12-06T14:42:52.512Z"
   },
   {
    "duration": 5,
    "start_time": "2022-12-06T14:42:52.564Z"
   },
   {
    "duration": 8,
    "start_time": "2022-12-06T14:42:52.571Z"
   },
   {
    "duration": 7,
    "start_time": "2022-12-06T14:42:52.582Z"
   },
   {
    "duration": 47,
    "start_time": "2022-12-06T14:42:52.591Z"
   },
   {
    "duration": 28,
    "start_time": "2022-12-06T14:42:52.640Z"
   },
   {
    "duration": 10,
    "start_time": "2022-12-06T14:42:52.669Z"
   },
   {
    "duration": 6,
    "start_time": "2022-12-06T14:42:52.680Z"
   },
   {
    "duration": 6,
    "start_time": "2022-12-06T14:42:52.687Z"
   },
   {
    "duration": 860,
    "start_time": "2022-12-06T14:42:52.694Z"
   },
   {
    "duration": 7,
    "start_time": "2022-12-06T14:42:53.638Z"
   },
   {
    "duration": 23,
    "start_time": "2022-12-06T14:42:53.646Z"
   },
   {
    "duration": 5,
    "start_time": "2022-12-06T14:42:53.671Z"
   },
   {
    "duration": 1113,
    "start_time": "2022-12-06T14:42:53.677Z"
   },
   {
    "duration": 3,
    "start_time": "2022-12-06T14:42:54.792Z"
   },
   {
    "duration": 10,
    "start_time": "2022-12-06T14:42:54.796Z"
   },
   {
    "duration": 12,
    "start_time": "2022-12-06T14:42:54.808Z"
   },
   {
    "duration": 594,
    "start_time": "2022-12-06T14:42:54.822Z"
   },
   {
    "duration": 174,
    "start_time": "2022-12-06T14:42:55.418Z"
   },
   {
    "duration": 55,
    "start_time": "2022-12-06T14:42:55.594Z"
   },
   {
    "duration": 1409,
    "start_time": "2022-12-07T04:48:32.952Z"
   },
   {
    "duration": 101,
    "start_time": "2022-12-07T04:48:34.363Z"
   },
   {
    "duration": 16,
    "start_time": "2022-12-07T04:48:34.465Z"
   },
   {
    "duration": 12,
    "start_time": "2022-12-07T04:48:34.483Z"
   },
   {
    "duration": 24,
    "start_time": "2022-12-07T04:48:34.497Z"
   },
   {
    "duration": 23,
    "start_time": "2022-12-07T04:48:34.523Z"
   },
   {
    "duration": 4,
    "start_time": "2022-12-07T04:48:34.548Z"
   },
   {
    "duration": 9,
    "start_time": "2022-12-07T04:48:34.554Z"
   },
   {
    "duration": 15,
    "start_time": "2022-12-07T04:48:34.565Z"
   },
   {
    "duration": 12,
    "start_time": "2022-12-07T04:48:34.582Z"
   },
   {
    "duration": 26,
    "start_time": "2022-12-07T04:48:34.596Z"
   },
   {
    "duration": 4,
    "start_time": "2022-12-07T04:48:34.623Z"
   },
   {
    "duration": 10,
    "start_time": "2022-12-07T04:48:34.628Z"
   },
   {
    "duration": 9,
    "start_time": "2022-12-07T04:48:34.639Z"
   },
   {
    "duration": 16,
    "start_time": "2022-12-07T04:48:34.649Z"
   },
   {
    "duration": 17,
    "start_time": "2022-12-07T04:48:34.666Z"
   },
   {
    "duration": 9,
    "start_time": "2022-12-07T04:48:34.698Z"
   },
   {
    "duration": 6,
    "start_time": "2022-12-07T04:48:34.708Z"
   },
   {
    "duration": 6,
    "start_time": "2022-12-07T04:48:34.715Z"
   },
   {
    "duration": 698,
    "start_time": "2022-12-07T04:48:34.723Z"
   },
   {
    "duration": 77,
    "start_time": "2022-12-07T04:48:35.422Z"
   },
   {
    "duration": 113,
    "start_time": "2022-12-07T04:48:35.501Z"
   },
   {
    "duration": 6,
    "start_time": "2022-12-07T04:48:35.616Z"
   },
   {
    "duration": 847,
    "start_time": "2022-12-07T04:48:35.623Z"
   },
   {
    "duration": 3,
    "start_time": "2022-12-07T04:48:36.472Z"
   },
   {
    "duration": 5,
    "start_time": "2022-12-07T04:48:36.476Z"
   },
   {
    "duration": 13,
    "start_time": "2022-12-07T04:48:36.483Z"
   },
   {
    "duration": 458,
    "start_time": "2022-12-07T04:48:36.498Z"
   },
   {
    "duration": 141,
    "start_time": "2022-12-07T04:48:36.958Z"
   },
   {
    "duration": 33,
    "start_time": "2022-12-07T04:48:37.100Z"
   },
   {
    "duration": 1452,
    "start_time": "2022-12-07T11:36:31.511Z"
   },
   {
    "duration": 93,
    "start_time": "2022-12-07T11:36:32.966Z"
   },
   {
    "duration": 16,
    "start_time": "2022-12-07T11:36:33.061Z"
   },
   {
    "duration": 12,
    "start_time": "2022-12-07T11:36:33.079Z"
   },
   {
    "duration": 13,
    "start_time": "2022-12-07T11:36:33.094Z"
   },
   {
    "duration": 20,
    "start_time": "2022-12-07T11:36:33.109Z"
   },
   {
    "duration": 4,
    "start_time": "2022-12-07T11:36:33.131Z"
   },
   {
    "duration": 6,
    "start_time": "2022-12-07T11:36:33.137Z"
   },
   {
    "duration": 36,
    "start_time": "2022-12-07T11:36:33.145Z"
   },
   {
    "duration": 7,
    "start_time": "2022-12-07T11:36:33.183Z"
   },
   {
    "duration": 6,
    "start_time": "2022-12-07T11:36:33.191Z"
   },
   {
    "duration": 10,
    "start_time": "2022-12-07T11:36:33.199Z"
   },
   {
    "duration": 8,
    "start_time": "2022-12-07T11:36:33.211Z"
   },
   {
    "duration": 9,
    "start_time": "2022-12-07T11:36:33.222Z"
   },
   {
    "duration": 15,
    "start_time": "2022-12-07T11:36:33.233Z"
   },
   {
    "duration": 41,
    "start_time": "2022-12-07T11:36:33.250Z"
   },
   {
    "duration": 9,
    "start_time": "2022-12-07T11:36:33.293Z"
   },
   {
    "duration": 7,
    "start_time": "2022-12-07T11:36:33.304Z"
   },
   {
    "duration": 6,
    "start_time": "2022-12-07T11:36:33.312Z"
   },
   {
    "duration": 764,
    "start_time": "2022-12-07T11:36:33.320Z"
   },
   {
    "duration": 92,
    "start_time": "2022-12-07T11:36:34.086Z"
   },
   {
    "duration": 106,
    "start_time": "2022-12-07T11:36:34.180Z"
   },
   {
    "duration": 5,
    "start_time": "2022-12-07T11:36:34.288Z"
   },
   {
    "duration": 975,
    "start_time": "2022-12-07T11:36:34.304Z"
   },
   {
    "duration": 3,
    "start_time": "2022-12-07T11:36:35.280Z"
   },
   {
    "duration": 9,
    "start_time": "2022-12-07T11:36:35.285Z"
   },
   {
    "duration": 9,
    "start_time": "2022-12-07T11:36:35.296Z"
   },
   {
    "duration": 552,
    "start_time": "2022-12-07T11:36:35.307Z"
   },
   {
    "duration": 179,
    "start_time": "2022-12-07T11:36:35.861Z"
   },
   {
    "duration": 43,
    "start_time": "2022-12-07T11:36:36.042Z"
   },
   {
    "duration": 22,
    "start_time": "2022-12-07T11:39:16.923Z"
   },
   {
    "duration": 21,
    "start_time": "2022-12-07T11:41:36.076Z"
   },
   {
    "duration": 4,
    "start_time": "2022-12-07T11:41:39.564Z"
   },
   {
    "duration": 12,
    "start_time": "2022-12-07T11:50:50.402Z"
   },
   {
    "duration": 6,
    "start_time": "2022-12-07T11:51:07.062Z"
   },
   {
    "duration": 393,
    "start_time": "2022-12-07T11:52:33.157Z"
   },
   {
    "duration": 1403,
    "start_time": "2022-12-07T12:10:22.470Z"
   },
   {
    "duration": 44,
    "start_time": "2022-12-07T12:10:23.876Z"
   },
   {
    "duration": 34,
    "start_time": "2022-12-07T12:10:23.922Z"
   },
   {
    "duration": 22,
    "start_time": "2022-12-07T12:10:23.958Z"
   },
   {
    "duration": 42,
    "start_time": "2022-12-07T12:10:23.983Z"
   },
   {
    "duration": 38,
    "start_time": "2022-12-07T12:10:24.027Z"
   },
   {
    "duration": 15,
    "start_time": "2022-12-07T12:10:24.067Z"
   },
   {
    "duration": 26,
    "start_time": "2022-12-07T12:10:24.084Z"
   },
   {
    "duration": 13,
    "start_time": "2022-12-07T12:10:24.112Z"
   },
   {
    "duration": 19,
    "start_time": "2022-12-07T12:10:24.126Z"
   },
   {
    "duration": 18,
    "start_time": "2022-12-07T12:10:24.147Z"
   },
   {
    "duration": 11,
    "start_time": "2022-12-07T12:10:24.167Z"
   },
   {
    "duration": 10,
    "start_time": "2022-12-07T12:10:24.180Z"
   },
   {
    "duration": 11,
    "start_time": "2022-12-07T12:10:24.194Z"
   },
   {
    "duration": 20,
    "start_time": "2022-12-07T12:10:24.207Z"
   },
   {
    "duration": 35,
    "start_time": "2022-12-07T12:10:24.228Z"
   },
   {
    "duration": 6,
    "start_time": "2022-12-07T12:10:24.265Z"
   },
   {
    "duration": 27,
    "start_time": "2022-12-07T12:10:24.278Z"
   },
   {
    "duration": 11,
    "start_time": "2022-12-07T12:10:24.307Z"
   },
   {
    "duration": 9,
    "start_time": "2022-12-07T12:10:24.319Z"
   },
   {
    "duration": 6,
    "start_time": "2022-12-07T12:10:24.330Z"
   },
   {
    "duration": 845,
    "start_time": "2022-12-07T12:10:24.337Z"
   },
   {
    "duration": 5,
    "start_time": "2022-12-07T12:10:25.184Z"
   },
   {
    "duration": 19,
    "start_time": "2022-12-07T12:10:25.280Z"
   },
   {
    "duration": 6,
    "start_time": "2022-12-07T12:10:25.301Z"
   },
   {
    "duration": 1085,
    "start_time": "2022-12-07T12:10:25.309Z"
   },
   {
    "duration": 12,
    "start_time": "2022-12-07T12:10:26.396Z"
   },
   {
    "duration": 9,
    "start_time": "2022-12-07T12:10:26.409Z"
   },
   {
    "duration": 405,
    "start_time": "2022-12-07T12:10:26.420Z"
   },
   {
    "duration": 3,
    "start_time": "2022-12-07T12:10:26.827Z"
   },
   {
    "duration": 10,
    "start_time": "2022-12-07T12:10:26.832Z"
   },
   {
    "duration": 7,
    "start_time": "2022-12-07T12:10:26.845Z"
   },
   {
    "duration": 651,
    "start_time": "2022-12-07T12:10:26.854Z"
   },
   {
    "duration": 81,
    "start_time": "2022-12-07T12:10:27.507Z"
   },
   {
    "duration": 1795,
    "start_time": "2022-12-07T19:32:44.824Z"
   },
   {
    "duration": 428,
    "start_time": "2022-12-07T19:32:46.621Z"
   },
   {
    "duration": 32,
    "start_time": "2022-12-07T19:32:47.051Z"
   },
   {
    "duration": 27,
    "start_time": "2022-12-07T19:32:47.090Z"
   },
   {
    "duration": 20,
    "start_time": "2022-12-07T19:32:47.120Z"
   },
   {
    "duration": 23,
    "start_time": "2022-12-07T19:32:47.142Z"
   },
   {
    "duration": 4,
    "start_time": "2022-12-07T19:32:47.168Z"
   },
   {
    "duration": 30,
    "start_time": "2022-12-07T19:32:47.173Z"
   },
   {
    "duration": 7,
    "start_time": "2022-12-07T19:32:47.204Z"
   },
   {
    "duration": 7,
    "start_time": "2022-12-07T19:32:47.213Z"
   },
   {
    "duration": 8,
    "start_time": "2022-12-07T19:32:47.221Z"
   },
   {
    "duration": 7,
    "start_time": "2022-12-07T19:32:47.230Z"
   },
   {
    "duration": 10,
    "start_time": "2022-12-07T19:32:47.238Z"
   },
   {
    "duration": 7,
    "start_time": "2022-12-07T19:32:47.251Z"
   },
   {
    "duration": 14,
    "start_time": "2022-12-07T19:32:47.259Z"
   },
   {
    "duration": 32,
    "start_time": "2022-12-07T19:32:47.274Z"
   },
   {
    "duration": 5,
    "start_time": "2022-12-07T19:32:47.308Z"
   },
   {
    "duration": 27,
    "start_time": "2022-12-07T19:32:47.314Z"
   },
   {
    "duration": 13,
    "start_time": "2022-12-07T19:32:47.342Z"
   },
   {
    "duration": 27,
    "start_time": "2022-12-07T19:32:47.356Z"
   },
   {
    "duration": 18,
    "start_time": "2022-12-07T19:32:47.384Z"
   },
   {
    "duration": 156,
    "start_time": "2022-12-07T19:32:47.403Z"
   },
   {
    "duration": 0,
    "start_time": "2022-12-07T19:32:47.561Z"
   },
   {
    "duration": 0,
    "start_time": "2022-12-07T19:32:47.562Z"
   },
   {
    "duration": 0,
    "start_time": "2022-12-07T19:32:47.563Z"
   },
   {
    "duration": 0,
    "start_time": "2022-12-07T19:32:47.565Z"
   },
   {
    "duration": 0,
    "start_time": "2022-12-07T19:32:47.566Z"
   },
   {
    "duration": 0,
    "start_time": "2022-12-07T19:32:47.567Z"
   },
   {
    "duration": 0,
    "start_time": "2022-12-07T19:32:47.581Z"
   },
   {
    "duration": 0,
    "start_time": "2022-12-07T19:32:47.582Z"
   },
   {
    "duration": 0,
    "start_time": "2022-12-07T19:32:47.582Z"
   },
   {
    "duration": 0,
    "start_time": "2022-12-07T19:32:47.583Z"
   },
   {
    "duration": 0,
    "start_time": "2022-12-07T19:32:47.584Z"
   },
   {
    "duration": 0,
    "start_time": "2022-12-07T19:32:47.584Z"
   },
   {
    "duration": 5,
    "start_time": "2022-12-07T19:38:12.103Z"
   },
   {
    "duration": 44,
    "start_time": "2022-12-07T19:38:16.453Z"
   },
   {
    "duration": 8,
    "start_time": "2022-12-07T19:38:45.489Z"
   },
   {
    "duration": 796,
    "start_time": "2022-12-07T19:38:48.314Z"
   },
   {
    "duration": 3,
    "start_time": "2022-12-08T07:00:57.621Z"
   },
   {
    "duration": 1536,
    "start_time": "2022-12-08T07:02:01.118Z"
   },
   {
    "duration": 185,
    "start_time": "2022-12-08T07:02:02.656Z"
   },
   {
    "duration": 19,
    "start_time": "2022-12-08T07:02:02.842Z"
   },
   {
    "duration": 25,
    "start_time": "2022-12-08T07:02:02.863Z"
   },
   {
    "duration": 53,
    "start_time": "2022-12-08T07:02:02.890Z"
   },
   {
    "duration": 37,
    "start_time": "2022-12-08T07:02:02.945Z"
   },
   {
    "duration": 31,
    "start_time": "2022-12-08T07:02:02.984Z"
   },
   {
    "duration": 38,
    "start_time": "2022-12-08T07:02:03.017Z"
   },
   {
    "duration": 27,
    "start_time": "2022-12-08T07:02:03.057Z"
   },
   {
    "duration": 44,
    "start_time": "2022-12-08T07:02:03.086Z"
   },
   {
    "duration": 35,
    "start_time": "2022-12-08T07:02:03.132Z"
   },
   {
    "duration": 35,
    "start_time": "2022-12-08T07:02:03.169Z"
   },
   {
    "duration": 20,
    "start_time": "2022-12-08T07:02:03.206Z"
   },
   {
    "duration": 34,
    "start_time": "2022-12-08T07:02:03.229Z"
   },
   {
    "duration": 45,
    "start_time": "2022-12-08T07:02:03.264Z"
   },
   {
    "duration": 40,
    "start_time": "2022-12-08T07:02:03.311Z"
   },
   {
    "duration": 33,
    "start_time": "2022-12-08T07:02:03.353Z"
   },
   {
    "duration": 15,
    "start_time": "2022-12-08T07:02:03.387Z"
   },
   {
    "duration": 38,
    "start_time": "2022-12-08T07:02:03.404Z"
   },
   {
    "duration": 23,
    "start_time": "2022-12-08T07:02:03.444Z"
   },
   {
    "duration": 35,
    "start_time": "2022-12-08T07:02:03.468Z"
   },
   {
    "duration": 44,
    "start_time": "2022-12-08T07:02:03.505Z"
   },
   {
    "duration": 833,
    "start_time": "2022-12-08T07:02:03.551Z"
   },
   {
    "duration": 93,
    "start_time": "2022-12-08T07:02:04.386Z"
   },
   {
    "duration": 103,
    "start_time": "2022-12-08T07:02:04.480Z"
   },
   {
    "duration": 31,
    "start_time": "2022-12-08T07:02:04.584Z"
   },
   {
    "duration": 903,
    "start_time": "2022-12-08T07:02:04.616Z"
   },
   {
    "duration": 11,
    "start_time": "2022-12-08T07:02:05.521Z"
   },
   {
    "duration": 9,
    "start_time": "2022-12-08T07:02:05.533Z"
   },
   {
    "duration": 371,
    "start_time": "2022-12-08T07:02:05.543Z"
   },
   {
    "duration": 3,
    "start_time": "2022-12-08T07:02:05.916Z"
   },
   {
    "duration": 6,
    "start_time": "2022-12-08T07:02:05.920Z"
   },
   {
    "duration": 19,
    "start_time": "2022-12-08T07:02:05.927Z"
   },
   {
    "duration": 504,
    "start_time": "2022-12-08T07:02:05.948Z"
   },
   {
    "duration": 45,
    "start_time": "2022-12-08T07:02:06.454Z"
   },
   {
    "duration": 3,
    "start_time": "2022-12-08T07:06:23.813Z"
   },
   {
    "duration": 31,
    "start_time": "2022-12-08T07:07:54.290Z"
   },
   {
    "duration": 6,
    "start_time": "2022-12-08T07:44:34.378Z"
   },
   {
    "duration": 161,
    "start_time": "2022-12-08T07:47:10.086Z"
   },
   {
    "duration": 5,
    "start_time": "2022-12-08T07:47:37.626Z"
   },
   {
    "duration": 10,
    "start_time": "2022-12-08T07:48:04.209Z"
   },
   {
    "duration": 15,
    "start_time": "2022-12-08T07:48:09.369Z"
   },
   {
    "duration": 5,
    "start_time": "2022-12-08T07:49:26.769Z"
   },
   {
    "duration": 15,
    "start_time": "2022-12-08T07:49:33.427Z"
   },
   {
    "duration": 7,
    "start_time": "2022-12-08T07:49:59.615Z"
   },
   {
    "duration": 7,
    "start_time": "2022-12-08T07:50:38.608Z"
   },
   {
    "duration": 9,
    "start_time": "2022-12-08T07:51:56.603Z"
   },
   {
    "duration": 61,
    "start_time": "2022-12-08T07:52:18.199Z"
   },
   {
    "duration": 1472,
    "start_time": "2022-12-08T07:52:31.614Z"
   },
   {
    "duration": 48,
    "start_time": "2022-12-08T07:52:33.090Z"
   },
   {
    "duration": 23,
    "start_time": "2022-12-08T07:52:33.140Z"
   },
   {
    "duration": 25,
    "start_time": "2022-12-08T07:52:33.165Z"
   },
   {
    "duration": 38,
    "start_time": "2022-12-08T07:52:33.193Z"
   },
   {
    "duration": 25,
    "start_time": "2022-12-08T07:52:33.233Z"
   },
   {
    "duration": 4,
    "start_time": "2022-12-08T07:52:33.260Z"
   },
   {
    "duration": 21,
    "start_time": "2022-12-08T07:52:33.266Z"
   },
   {
    "duration": 1704,
    "start_time": "2022-12-08T07:54:00.607Z"
   },
   {
    "duration": 40,
    "start_time": "2022-12-08T07:54:02.313Z"
   },
   {
    "duration": 21,
    "start_time": "2022-12-08T07:54:02.355Z"
   },
   {
    "duration": 27,
    "start_time": "2022-12-08T07:54:02.379Z"
   },
   {
    "duration": 34,
    "start_time": "2022-12-08T07:54:02.410Z"
   },
   {
    "duration": 52,
    "start_time": "2022-12-08T07:54:02.446Z"
   },
   {
    "duration": 32,
    "start_time": "2022-12-08T07:54:02.500Z"
   },
   {
    "duration": 34,
    "start_time": "2022-12-08T07:54:02.534Z"
   },
   {
    "duration": 57,
    "start_time": "2022-12-08T07:54:02.570Z"
   },
   {
    "duration": 15,
    "start_time": "2022-12-08T07:54:02.630Z"
   },
   {
    "duration": 60,
    "start_time": "2022-12-08T07:54:02.648Z"
   },
   {
    "duration": 22,
    "start_time": "2022-12-08T07:54:02.710Z"
   },
   {
    "duration": 20,
    "start_time": "2022-12-08T07:54:02.735Z"
   },
   {
    "duration": 24,
    "start_time": "2022-12-08T07:54:02.758Z"
   },
   {
    "duration": 54,
    "start_time": "2022-12-08T07:54:02.784Z"
   },
   {
    "duration": 27,
    "start_time": "2022-12-08T07:54:02.841Z"
   },
   {
    "duration": 54,
    "start_time": "2022-12-08T07:54:02.870Z"
   },
   {
    "duration": 134,
    "start_time": "2022-12-08T07:54:02.926Z"
   },
   {
    "duration": 0,
    "start_time": "2022-12-08T07:54:03.062Z"
   },
   {
    "duration": 0,
    "start_time": "2022-12-08T07:54:03.064Z"
   },
   {
    "duration": 0,
    "start_time": "2022-12-08T07:54:03.065Z"
   },
   {
    "duration": 0,
    "start_time": "2022-12-08T07:54:03.067Z"
   },
   {
    "duration": 0,
    "start_time": "2022-12-08T07:54:03.068Z"
   },
   {
    "duration": 0,
    "start_time": "2022-12-08T07:54:03.077Z"
   },
   {
    "duration": 0,
    "start_time": "2022-12-08T07:54:03.079Z"
   },
   {
    "duration": 0,
    "start_time": "2022-12-08T07:54:03.080Z"
   },
   {
    "duration": 0,
    "start_time": "2022-12-08T07:54:03.082Z"
   },
   {
    "duration": 0,
    "start_time": "2022-12-08T07:54:03.084Z"
   },
   {
    "duration": 0,
    "start_time": "2022-12-08T07:54:03.085Z"
   },
   {
    "duration": 0,
    "start_time": "2022-12-08T07:54:03.087Z"
   },
   {
    "duration": 0,
    "start_time": "2022-12-08T07:54:03.088Z"
   },
   {
    "duration": 0,
    "start_time": "2022-12-08T07:54:03.090Z"
   },
   {
    "duration": 0,
    "start_time": "2022-12-08T07:54:03.091Z"
   },
   {
    "duration": 0,
    "start_time": "2022-12-08T07:54:03.092Z"
   },
   {
    "duration": 0,
    "start_time": "2022-12-08T07:54:03.093Z"
   },
   {
    "duration": 0,
    "start_time": "2022-12-08T07:54:03.094Z"
   },
   {
    "duration": 0,
    "start_time": "2022-12-08T07:54:03.095Z"
   },
   {
    "duration": 1498,
    "start_time": "2022-12-08T07:54:26.125Z"
   },
   {
    "duration": 50,
    "start_time": "2022-12-08T07:54:27.625Z"
   },
   {
    "duration": 26,
    "start_time": "2022-12-08T07:54:27.677Z"
   },
   {
    "duration": 20,
    "start_time": "2022-12-08T07:54:27.705Z"
   },
   {
    "duration": 17,
    "start_time": "2022-12-08T07:54:27.728Z"
   },
   {
    "duration": 40,
    "start_time": "2022-12-08T07:54:27.747Z"
   },
   {
    "duration": 4,
    "start_time": "2022-12-08T07:54:27.789Z"
   },
   {
    "duration": 30,
    "start_time": "2022-12-08T07:54:27.795Z"
   },
   {
    "duration": 7,
    "start_time": "2022-12-08T07:54:27.827Z"
   },
   {
    "duration": 13,
    "start_time": "2022-12-08T07:54:27.836Z"
   },
   {
    "duration": 17,
    "start_time": "2022-12-08T07:54:27.851Z"
   },
   {
    "duration": 6,
    "start_time": "2022-12-08T07:54:27.870Z"
   },
   {
    "duration": 30,
    "start_time": "2022-12-08T07:54:27.878Z"
   },
   {
    "duration": 13,
    "start_time": "2022-12-08T07:54:27.911Z"
   },
   {
    "duration": 15,
    "start_time": "2022-12-08T07:54:27.926Z"
   },
   {
    "duration": 5,
    "start_time": "2022-12-08T07:54:27.943Z"
   },
   {
    "duration": 27,
    "start_time": "2022-12-08T07:54:27.950Z"
   },
   {
    "duration": 138,
    "start_time": "2022-12-08T07:54:27.979Z"
   },
   {
    "duration": 0,
    "start_time": "2022-12-08T07:54:28.119Z"
   },
   {
    "duration": 0,
    "start_time": "2022-12-08T07:54:28.120Z"
   },
   {
    "duration": 0,
    "start_time": "2022-12-08T07:54:28.121Z"
   },
   {
    "duration": 0,
    "start_time": "2022-12-08T07:54:28.123Z"
   },
   {
    "duration": 0,
    "start_time": "2022-12-08T07:54:28.124Z"
   },
   {
    "duration": 0,
    "start_time": "2022-12-08T07:54:28.125Z"
   },
   {
    "duration": 0,
    "start_time": "2022-12-08T07:54:28.126Z"
   },
   {
    "duration": 0,
    "start_time": "2022-12-08T07:54:28.128Z"
   },
   {
    "duration": 0,
    "start_time": "2022-12-08T07:54:28.129Z"
   },
   {
    "duration": 0,
    "start_time": "2022-12-08T07:54:28.130Z"
   },
   {
    "duration": 0,
    "start_time": "2022-12-08T07:54:28.131Z"
   },
   {
    "duration": 0,
    "start_time": "2022-12-08T07:54:28.133Z"
   },
   {
    "duration": 0,
    "start_time": "2022-12-08T07:54:28.134Z"
   },
   {
    "duration": 0,
    "start_time": "2022-12-08T07:54:28.136Z"
   },
   {
    "duration": 0,
    "start_time": "2022-12-08T07:54:28.137Z"
   },
   {
    "duration": 0,
    "start_time": "2022-12-08T07:54:28.138Z"
   },
   {
    "duration": 0,
    "start_time": "2022-12-08T07:54:28.139Z"
   },
   {
    "duration": 0,
    "start_time": "2022-12-08T07:54:28.141Z"
   },
   {
    "duration": 0,
    "start_time": "2022-12-08T07:54:28.142Z"
   },
   {
    "duration": 5,
    "start_time": "2022-12-08T07:54:39.500Z"
   },
   {
    "duration": 16,
    "start_time": "2022-12-08T07:54:45.483Z"
   },
   {
    "duration": 10,
    "start_time": "2022-12-08T07:54:48.045Z"
   },
   {
    "duration": 33,
    "start_time": "2022-12-08T07:54:51.022Z"
   },
   {
    "duration": 18,
    "start_time": "2022-12-08T07:55:07.057Z"
   },
   {
    "duration": 14,
    "start_time": "2022-12-08T07:55:54.309Z"
   },
   {
    "duration": 55,
    "start_time": "2022-12-08T07:55:55.373Z"
   },
   {
    "duration": 20,
    "start_time": "2022-12-08T07:55:58.918Z"
   },
   {
    "duration": 25,
    "start_time": "2022-12-08T07:57:30.438Z"
   },
   {
    "duration": 14,
    "start_time": "2022-12-08T07:57:32.366Z"
   },
   {
    "duration": 1933,
    "start_time": "2022-12-08T09:00:50.712Z"
   },
   {
    "duration": 48,
    "start_time": "2022-12-08T09:00:52.649Z"
   },
   {
    "duration": 24,
    "start_time": "2022-12-08T09:00:52.700Z"
   },
   {
    "duration": 22,
    "start_time": "2022-12-08T09:00:52.727Z"
   },
   {
    "duration": 42,
    "start_time": "2022-12-08T09:00:52.751Z"
   },
   {
    "duration": 31,
    "start_time": "2022-12-08T09:00:52.796Z"
   },
   {
    "duration": 4,
    "start_time": "2022-12-08T09:00:52.829Z"
   },
   {
    "duration": 20,
    "start_time": "2022-12-08T09:00:52.835Z"
   },
   {
    "duration": 26,
    "start_time": "2022-12-08T09:00:52.857Z"
   },
   {
    "duration": 12,
    "start_time": "2022-12-08T09:00:52.887Z"
   },
   {
    "duration": 15,
    "start_time": "2022-12-08T09:00:52.902Z"
   },
   {
    "duration": 25,
    "start_time": "2022-12-08T09:00:52.919Z"
   },
   {
    "duration": 13,
    "start_time": "2022-12-08T09:00:52.946Z"
   },
   {
    "duration": 62,
    "start_time": "2022-12-08T09:00:52.960Z"
   },
   {
    "duration": 18,
    "start_time": "2022-12-08T09:00:53.025Z"
   },
   {
    "duration": 13,
    "start_time": "2022-12-08T09:00:53.046Z"
   },
   {
    "duration": 34,
    "start_time": "2022-12-08T09:00:53.061Z"
   },
   {
    "duration": 6,
    "start_time": "2022-12-08T09:00:53.097Z"
   },
   {
    "duration": 14,
    "start_time": "2022-12-08T09:00:53.105Z"
   },
   {
    "duration": 21,
    "start_time": "2022-12-08T09:00:53.122Z"
   },
   {
    "duration": 8,
    "start_time": "2022-12-08T09:00:53.146Z"
   },
   {
    "duration": 193,
    "start_time": "2022-12-08T09:00:53.158Z"
   },
   {
    "duration": 0,
    "start_time": "2022-12-08T09:00:53.355Z"
   },
   {
    "duration": 0,
    "start_time": "2022-12-08T09:00:53.356Z"
   },
   {
    "duration": 0,
    "start_time": "2022-12-08T09:00:53.357Z"
   },
   {
    "duration": 0,
    "start_time": "2022-12-08T09:00:53.360Z"
   },
   {
    "duration": 0,
    "start_time": "2022-12-08T09:00:53.361Z"
   },
   {
    "duration": 0,
    "start_time": "2022-12-08T09:00:53.362Z"
   },
   {
    "duration": 0,
    "start_time": "2022-12-08T09:00:53.364Z"
   },
   {
    "duration": 0,
    "start_time": "2022-12-08T09:00:53.365Z"
   },
   {
    "duration": 0,
    "start_time": "2022-12-08T09:00:53.367Z"
   },
   {
    "duration": 0,
    "start_time": "2022-12-08T09:00:53.368Z"
   },
   {
    "duration": 0,
    "start_time": "2022-12-08T09:00:53.369Z"
   },
   {
    "duration": 0,
    "start_time": "2022-12-08T09:00:53.370Z"
   },
   {
    "duration": 0,
    "start_time": "2022-12-08T09:00:53.372Z"
   },
   {
    "duration": 0,
    "start_time": "2022-12-08T09:00:53.373Z"
   },
   {
    "duration": 0,
    "start_time": "2022-12-08T09:00:53.374Z"
   },
   {
    "duration": 0,
    "start_time": "2022-12-08T09:00:53.375Z"
   },
   {
    "duration": 0,
    "start_time": "2022-12-08T09:00:53.376Z"
   },
   {
    "duration": 119,
    "start_time": "2022-12-08T09:02:11.647Z"
   },
   {
    "duration": 6,
    "start_time": "2022-12-08T09:02:16.992Z"
   },
   {
    "duration": 154,
    "start_time": "2022-12-08T09:04:32.893Z"
   },
   {
    "duration": 5,
    "start_time": "2022-12-08T09:04:49.347Z"
   },
   {
    "duration": 4,
    "start_time": "2022-12-08T09:07:17.918Z"
   },
   {
    "duration": 136,
    "start_time": "2022-12-08T09:07:38.753Z"
   },
   {
    "duration": 139,
    "start_time": "2022-12-08T09:08:26.087Z"
   },
   {
    "duration": 32,
    "start_time": "2022-12-08T09:08:26.380Z"
   },
   {
    "duration": 4,
    "start_time": "2022-12-08T09:09:30.514Z"
   },
   {
    "duration": 5,
    "start_time": "2022-12-08T09:09:40.340Z"
   },
   {
    "duration": 34,
    "start_time": "2022-12-08T09:09:41.454Z"
   },
   {
    "duration": 4,
    "start_time": "2022-12-08T09:18:48.132Z"
   },
   {
    "duration": 33,
    "start_time": "2022-12-08T09:19:26.656Z"
   },
   {
    "duration": 5,
    "start_time": "2022-12-08T09:34:43.225Z"
   },
   {
    "duration": 12,
    "start_time": "2022-12-08T09:34:43.946Z"
   },
   {
    "duration": 39,
    "start_time": "2022-12-08T09:34:55.399Z"
   },
   {
    "duration": 17,
    "start_time": "2022-12-08T09:35:34.461Z"
   },
   {
    "duration": 39,
    "start_time": "2022-12-08T09:36:03.009Z"
   },
   {
    "duration": 15,
    "start_time": "2022-12-08T09:38:38.515Z"
   },
   {
    "duration": 26,
    "start_time": "2022-12-08T09:39:13.493Z"
   },
   {
    "duration": 7,
    "start_time": "2022-12-08T09:43:07.419Z"
   },
   {
    "duration": 13,
    "start_time": "2022-12-08T09:43:37.862Z"
   },
   {
    "duration": 7,
    "start_time": "2022-12-08T09:44:02.095Z"
   },
   {
    "duration": 8,
    "start_time": "2022-12-08T09:44:32.233Z"
   },
   {
    "duration": 811,
    "start_time": "2022-12-08T09:44:35.370Z"
   },
   {
    "duration": 4,
    "start_time": "2022-12-08T09:48:13.625Z"
   },
   {
    "duration": 19,
    "start_time": "2022-12-08T09:48:16.384Z"
   },
   {
    "duration": 7,
    "start_time": "2022-12-08T09:48:17.571Z"
   },
   {
    "duration": 30,
    "start_time": "2022-12-08T09:48:20.243Z"
   },
   {
    "duration": 27,
    "start_time": "2022-12-08T09:48:55.377Z"
   },
   {
    "duration": 13,
    "start_time": "2022-12-08T09:52:39.084Z"
   },
   {
    "duration": 15,
    "start_time": "2022-12-08T09:52:47.279Z"
   },
   {
    "duration": 6,
    "start_time": "2022-12-08T09:53:33.622Z"
   },
   {
    "duration": 6,
    "start_time": "2022-12-08T09:54:31.952Z"
   },
   {
    "duration": 1524,
    "start_time": "2022-12-08T09:56:13.579Z"
   },
   {
    "duration": 42,
    "start_time": "2022-12-08T09:56:15.106Z"
   },
   {
    "duration": 17,
    "start_time": "2022-12-08T09:56:15.150Z"
   },
   {
    "duration": 18,
    "start_time": "2022-12-08T09:56:15.169Z"
   },
   {
    "duration": 19,
    "start_time": "2022-12-08T09:56:15.190Z"
   },
   {
    "duration": 21,
    "start_time": "2022-12-08T09:56:15.211Z"
   },
   {
    "duration": 2,
    "start_time": "2022-12-08T09:56:15.234Z"
   },
   {
    "duration": 14,
    "start_time": "2022-12-08T09:56:15.238Z"
   },
   {
    "duration": 26,
    "start_time": "2022-12-08T09:56:15.254Z"
   },
   {
    "duration": 4,
    "start_time": "2022-12-08T09:56:15.282Z"
   },
   {
    "duration": 7,
    "start_time": "2022-12-08T09:56:15.288Z"
   },
   {
    "duration": 5,
    "start_time": "2022-12-08T09:56:15.297Z"
   },
   {
    "duration": 22,
    "start_time": "2022-12-08T09:56:15.305Z"
   },
   {
    "duration": 10,
    "start_time": "2022-12-08T09:56:15.331Z"
   },
   {
    "duration": 37,
    "start_time": "2022-12-08T09:56:15.343Z"
   },
   {
    "duration": 13,
    "start_time": "2022-12-08T09:56:15.382Z"
   },
   {
    "duration": 34,
    "start_time": "2022-12-08T09:56:15.397Z"
   },
   {
    "duration": 5,
    "start_time": "2022-12-08T09:56:15.433Z"
   },
   {
    "duration": 14,
    "start_time": "2022-12-08T09:56:15.440Z"
   },
   {
    "duration": 24,
    "start_time": "2022-12-08T09:56:15.456Z"
   },
   {
    "duration": 4,
    "start_time": "2022-12-08T09:56:15.482Z"
   },
   {
    "duration": 16,
    "start_time": "2022-12-08T09:56:15.488Z"
   },
   {
    "duration": 33,
    "start_time": "2022-12-08T09:56:15.506Z"
   },
   {
    "duration": 15,
    "start_time": "2022-12-08T09:56:15.541Z"
   },
   {
    "duration": 22,
    "start_time": "2022-12-08T09:56:15.558Z"
   },
   {
    "duration": 10,
    "start_time": "2022-12-08T09:56:15.581Z"
   },
   {
    "duration": 7,
    "start_time": "2022-12-08T09:56:15.592Z"
   },
   {
    "duration": 793,
    "start_time": "2022-12-08T09:56:15.601Z"
   },
   {
    "duration": 91,
    "start_time": "2022-12-08T09:56:16.396Z"
   },
   {
    "duration": 207,
    "start_time": "2022-12-08T09:56:16.489Z"
   },
   {
    "duration": 0,
    "start_time": "2022-12-08T09:56:16.699Z"
   },
   {
    "duration": 0,
    "start_time": "2022-12-08T09:56:16.701Z"
   },
   {
    "duration": 0,
    "start_time": "2022-12-08T09:56:16.703Z"
   },
   {
    "duration": 0,
    "start_time": "2022-12-08T09:56:16.704Z"
   },
   {
    "duration": 0,
    "start_time": "2022-12-08T09:56:16.706Z"
   },
   {
    "duration": 0,
    "start_time": "2022-12-08T09:56:16.707Z"
   },
   {
    "duration": 0,
    "start_time": "2022-12-08T09:56:16.709Z"
   },
   {
    "duration": 0,
    "start_time": "2022-12-08T09:56:16.710Z"
   },
   {
    "duration": 0,
    "start_time": "2022-12-08T09:56:16.712Z"
   },
   {
    "duration": 0,
    "start_time": "2022-12-08T09:56:16.714Z"
   },
   {
    "duration": 4,
    "start_time": "2022-12-08T09:58:23.523Z"
   },
   {
    "duration": 4,
    "start_time": "2022-12-08T09:58:24.288Z"
   },
   {
    "duration": 28,
    "start_time": "2022-12-08T09:58:25.289Z"
   },
   {
    "duration": 15,
    "start_time": "2022-12-08T09:58:25.885Z"
   },
   {
    "duration": 4,
    "start_time": "2022-12-08T09:59:03.560Z"
   },
   {
    "duration": 5,
    "start_time": "2022-12-08T09:59:04.102Z"
   },
   {
    "duration": 28,
    "start_time": "2022-12-08T09:59:04.718Z"
   },
   {
    "duration": 14,
    "start_time": "2022-12-08T09:59:05.632Z"
   },
   {
    "duration": 4,
    "start_time": "2022-12-08T09:59:30.334Z"
   },
   {
    "duration": 4,
    "start_time": "2022-12-08T09:59:30.722Z"
   },
   {
    "duration": 228,
    "start_time": "2022-12-08T09:59:31.296Z"
   },
   {
    "duration": 3,
    "start_time": "2022-12-08T09:59:40.983Z"
   },
   {
    "duration": 9,
    "start_time": "2022-12-08T09:59:41.302Z"
   },
   {
    "duration": 47,
    "start_time": "2022-12-08T09:59:41.771Z"
   },
   {
    "duration": 1435,
    "start_time": "2022-12-08T10:03:56.540Z"
   },
   {
    "duration": 43,
    "start_time": "2022-12-08T10:03:57.979Z"
   },
   {
    "duration": 22,
    "start_time": "2022-12-08T10:03:58.024Z"
   },
   {
    "duration": 13,
    "start_time": "2022-12-08T10:03:58.048Z"
   },
   {
    "duration": 21,
    "start_time": "2022-12-08T10:03:58.063Z"
   },
   {
    "duration": 21,
    "start_time": "2022-12-08T10:03:58.086Z"
   },
   {
    "duration": 11,
    "start_time": "2022-12-08T10:03:58.109Z"
   },
   {
    "duration": 15,
    "start_time": "2022-12-08T10:03:58.122Z"
   },
   {
    "duration": 7,
    "start_time": "2022-12-08T10:03:58.140Z"
   },
   {
    "duration": 9,
    "start_time": "2022-12-08T10:03:58.150Z"
   },
   {
    "duration": 9,
    "start_time": "2022-12-08T10:03:58.177Z"
   },
   {
    "duration": 21,
    "start_time": "2022-12-08T10:03:58.188Z"
   },
   {
    "duration": 8,
    "start_time": "2022-12-08T10:03:58.212Z"
   },
   {
    "duration": 9,
    "start_time": "2022-12-08T10:03:58.223Z"
   },
   {
    "duration": 16,
    "start_time": "2022-12-08T10:03:58.234Z"
   },
   {
    "duration": 9,
    "start_time": "2022-12-08T10:03:58.252Z"
   },
   {
    "duration": 41,
    "start_time": "2022-12-08T10:03:58.263Z"
   },
   {
    "duration": 6,
    "start_time": "2022-12-08T10:03:58.306Z"
   },
   {
    "duration": 13,
    "start_time": "2022-12-08T10:03:58.314Z"
   },
   {
    "duration": 20,
    "start_time": "2022-12-08T10:03:58.329Z"
   },
   {
    "duration": 6,
    "start_time": "2022-12-08T10:03:58.351Z"
   },
   {
    "duration": 10,
    "start_time": "2022-12-08T10:03:58.359Z"
   },
   {
    "duration": 40,
    "start_time": "2022-12-08T10:03:58.379Z"
   },
   {
    "duration": 13,
    "start_time": "2022-12-08T10:03:58.421Z"
   },
   {
    "duration": 11,
    "start_time": "2022-12-08T10:03:58.435Z"
   },
   {
    "duration": 14,
    "start_time": "2022-12-08T10:03:58.449Z"
   },
   {
    "duration": 14,
    "start_time": "2022-12-08T10:03:58.464Z"
   },
   {
    "duration": 903,
    "start_time": "2022-12-08T10:03:58.482Z"
   },
   {
    "duration": 4,
    "start_time": "2022-12-08T10:03:59.388Z"
   },
   {
    "duration": 27,
    "start_time": "2022-12-08T10:03:59.479Z"
   },
   {
    "duration": 6,
    "start_time": "2022-12-08T10:03:59.508Z"
   },
   {
    "duration": 136,
    "start_time": "2022-12-08T10:03:59.515Z"
   },
   {
    "duration": 0,
    "start_time": "2022-12-08T10:03:59.653Z"
   },
   {
    "duration": 0,
    "start_time": "2022-12-08T10:03:59.655Z"
   },
   {
    "duration": 0,
    "start_time": "2022-12-08T10:03:59.656Z"
   },
   {
    "duration": 0,
    "start_time": "2022-12-08T10:03:59.659Z"
   },
   {
    "duration": 0,
    "start_time": "2022-12-08T10:03:59.660Z"
   },
   {
    "duration": 0,
    "start_time": "2022-12-08T10:03:59.678Z"
   },
   {
    "duration": 0,
    "start_time": "2022-12-08T10:03:59.680Z"
   },
   {
    "duration": 0,
    "start_time": "2022-12-08T10:03:59.682Z"
   },
   {
    "duration": 12,
    "start_time": "2022-12-08T10:05:35.957Z"
   },
   {
    "duration": 25,
    "start_time": "2022-12-08T10:07:04.772Z"
   },
   {
    "duration": 18,
    "start_time": "2022-12-08T10:07:34.424Z"
   },
   {
    "duration": 17,
    "start_time": "2022-12-08T10:08:06.223Z"
   },
   {
    "duration": 1065,
    "start_time": "2022-12-08T10:08:07.038Z"
   },
   {
    "duration": 41,
    "start_time": "2022-12-08T10:08:28.871Z"
   },
   {
    "duration": 958,
    "start_time": "2022-12-08T10:09:14.060Z"
   },
   {
    "duration": 18,
    "start_time": "2022-12-08T10:09:44.797Z"
   },
   {
    "duration": 5,
    "start_time": "2022-12-08T10:09:53.197Z"
   },
   {
    "duration": 13,
    "start_time": "2022-12-08T10:10:39.928Z"
   },
   {
    "duration": 398,
    "start_time": "2022-12-08T10:11:08.939Z"
   },
   {
    "duration": 4,
    "start_time": "2022-12-08T10:13:06.311Z"
   },
   {
    "duration": 4,
    "start_time": "2022-12-08T10:24:17.508Z"
   },
   {
    "duration": 3,
    "start_time": "2022-12-08T10:26:18.569Z"
   },
   {
    "duration": 10029,
    "start_time": "2022-12-08T10:33:09.723Z"
   },
   {
    "duration": 6,
    "start_time": "2022-12-08T10:37:50.778Z"
   },
   {
    "duration": 7356,
    "start_time": "2022-12-08T10:38:01.941Z"
   },
   {
    "duration": 7478,
    "start_time": "2022-12-08T10:38:21.095Z"
   },
   {
    "duration": 982,
    "start_time": "2022-12-08T10:43:05.924Z"
   },
   {
    "duration": 1077,
    "start_time": "2022-12-08T10:43:15.412Z"
   },
   {
    "duration": 1128,
    "start_time": "2022-12-08T10:44:59.812Z"
   },
   {
    "duration": 448,
    "start_time": "2022-12-08T10:46:35.600Z"
   },
   {
    "duration": 441,
    "start_time": "2022-12-08T10:47:43.294Z"
   },
   {
    "duration": 319,
    "start_time": "2022-12-08T10:49:10.006Z"
   },
   {
    "duration": 515,
    "start_time": "2022-12-08T10:49:29.605Z"
   },
   {
    "duration": 326,
    "start_time": "2022-12-08T10:49:34.792Z"
   },
   {
    "duration": 335,
    "start_time": "2022-12-08T10:49:42.882Z"
   },
   {
    "duration": 321,
    "start_time": "2022-12-08T10:49:50.743Z"
   },
   {
    "duration": 9962,
    "start_time": "2022-12-08T10:53:17.305Z"
   },
   {
    "duration": 159,
    "start_time": "2022-12-08T10:53:45.262Z"
   },
   {
    "duration": 430,
    "start_time": "2022-12-08T10:53:52.203Z"
   },
   {
    "duration": 1505,
    "start_time": "2022-12-08T10:54:03.102Z"
   },
   {
    "duration": 43,
    "start_time": "2022-12-08T10:54:04.610Z"
   },
   {
    "duration": 20,
    "start_time": "2022-12-08T10:54:04.655Z"
   },
   {
    "duration": 79,
    "start_time": "2022-12-08T10:54:04.677Z"
   },
   {
    "duration": 29,
    "start_time": "2022-12-08T10:54:04.758Z"
   },
   {
    "duration": 66,
    "start_time": "2022-12-08T10:54:04.788Z"
   },
   {
    "duration": 42,
    "start_time": "2022-12-08T10:54:04.856Z"
   },
   {
    "duration": 39,
    "start_time": "2022-12-08T10:54:04.900Z"
   },
   {
    "duration": 35,
    "start_time": "2022-12-08T10:54:04.943Z"
   },
   {
    "duration": 49,
    "start_time": "2022-12-08T10:54:04.980Z"
   },
   {
    "duration": 55,
    "start_time": "2022-12-08T10:54:05.032Z"
   },
   {
    "duration": 32,
    "start_time": "2022-12-08T10:54:05.089Z"
   },
   {
    "duration": 43,
    "start_time": "2022-12-08T10:54:05.123Z"
   },
   {
    "duration": 29,
    "start_time": "2022-12-08T10:54:05.170Z"
   },
   {
    "duration": 35,
    "start_time": "2022-12-08T10:54:05.200Z"
   },
   {
    "duration": 31,
    "start_time": "2022-12-08T10:54:05.237Z"
   },
   {
    "duration": 69,
    "start_time": "2022-12-08T10:54:05.270Z"
   },
   {
    "duration": 55,
    "start_time": "2022-12-08T10:54:05.341Z"
   },
   {
    "duration": 31,
    "start_time": "2022-12-08T10:54:05.398Z"
   },
   {
    "duration": 50,
    "start_time": "2022-12-08T10:54:05.431Z"
   },
   {
    "duration": 21,
    "start_time": "2022-12-08T10:54:05.483Z"
   },
   {
    "duration": 27,
    "start_time": "2022-12-08T10:54:05.506Z"
   },
   {
    "duration": 73,
    "start_time": "2022-12-08T10:54:05.536Z"
   },
   {
    "duration": 18,
    "start_time": "2022-12-08T10:54:05.611Z"
   },
   {
    "duration": 34,
    "start_time": "2022-12-08T10:54:05.631Z"
   },
   {
    "duration": 25,
    "start_time": "2022-12-08T10:54:05.667Z"
   },
   {
    "duration": 68,
    "start_time": "2022-12-08T10:54:05.693Z"
   },
   {
    "duration": 1027,
    "start_time": "2022-12-08T10:54:05.763Z"
   },
   {
    "duration": 9,
    "start_time": "2022-12-08T10:54:06.792Z"
   },
   {
    "duration": 183,
    "start_time": "2022-12-08T10:54:06.802Z"
   },
   {
    "duration": 68,
    "start_time": "2022-12-08T10:54:06.987Z"
   },
   {
    "duration": 80,
    "start_time": "2022-12-08T10:54:07.057Z"
   },
   {
    "duration": 1150,
    "start_time": "2022-12-08T10:54:07.140Z"
   },
   {
    "duration": 18,
    "start_time": "2022-12-08T10:54:08.296Z"
   },
   {
    "duration": 20,
    "start_time": "2022-12-08T10:54:08.316Z"
   },
   {
    "duration": 81,
    "start_time": "2022-12-08T10:54:08.338Z"
   },
   {
    "duration": 476,
    "start_time": "2022-12-08T10:54:08.421Z"
   },
   {
    "duration": 4,
    "start_time": "2022-12-08T10:54:08.902Z"
   },
   {
    "duration": 27,
    "start_time": "2022-12-08T10:54:08.908Z"
   },
   {
    "duration": 8817,
    "start_time": "2022-12-08T10:54:08.937Z"
   },
   {
    "duration": 5,
    "start_time": "2022-12-08T10:54:17.759Z"
   },
   {
    "duration": 491,
    "start_time": "2022-12-08T10:54:17.768Z"
   },
   {
    "duration": 137,
    "start_time": "2022-12-08T10:54:18.261Z"
   },
   {
    "duration": 1228,
    "start_time": "2022-12-08T10:55:44.028Z"
   },
   {
    "duration": 3,
    "start_time": "2022-12-08T10:56:10.605Z"
   },
   {
    "duration": 5,
    "start_time": "2022-12-08T10:56:23.813Z"
   },
   {
    "duration": 3734,
    "start_time": "2022-12-08T10:56:26.401Z"
   },
   {
    "duration": 7720,
    "start_time": "2022-12-08T10:57:15.626Z"
   },
   {
    "duration": 5258,
    "start_time": "2022-12-08T10:58:05.360Z"
   },
   {
    "duration": 3,
    "start_time": "2022-12-08T10:58:18.398Z"
   },
   {
    "duration": 8395,
    "start_time": "2022-12-08T10:58:20.499Z"
   },
   {
    "duration": 4,
    "start_time": "2022-12-08T10:58:42.397Z"
   },
   {
    "duration": 21307,
    "start_time": "2022-12-08T10:58:45.200Z"
   },
   {
    "duration": 5,
    "start_time": "2022-12-08T10:59:24.165Z"
   },
   {
    "duration": 21106,
    "start_time": "2022-12-08T10:59:26.658Z"
   },
   {
    "duration": 651,
    "start_time": "2022-12-08T11:00:25.100Z"
   },
   {
    "duration": 281539,
    "start_time": "2022-12-08T11:07:05.822Z"
   },
   {
    "duration": 794,
    "start_time": "2022-12-08T11:12:19.610Z"
   },
   {
    "duration": 886,
    "start_time": "2022-12-08T11:12:31.162Z"
   },
   {
    "duration": 1051,
    "start_time": "2022-12-08T11:12:38.354Z"
   },
   {
    "duration": 114,
    "start_time": "2022-12-08T11:14:19.678Z"
   },
   {
    "duration": 775,
    "start_time": "2022-12-08T11:15:03.715Z"
   },
   {
    "duration": 77,
    "start_time": "2022-12-08T11:15:09.613Z"
   },
   {
    "duration": 7,
    "start_time": "2022-12-08T11:15:41.104Z"
   },
   {
    "duration": 1532,
    "start_time": "2022-12-08T11:15:50.455Z"
   },
   {
    "duration": 52,
    "start_time": "2022-12-08T11:15:51.993Z"
   },
   {
    "duration": 25,
    "start_time": "2022-12-08T11:15:52.048Z"
   },
   {
    "duration": 35,
    "start_time": "2022-12-08T11:15:52.076Z"
   },
   {
    "duration": 20,
    "start_time": "2022-12-08T11:15:52.114Z"
   },
   {
    "duration": 54,
    "start_time": "2022-12-08T11:15:52.136Z"
   },
   {
    "duration": 25,
    "start_time": "2022-12-08T11:15:52.193Z"
   },
   {
    "duration": 27,
    "start_time": "2022-12-08T11:15:52.220Z"
   },
   {
    "duration": 33,
    "start_time": "2022-12-08T11:15:52.250Z"
   },
   {
    "duration": 36,
    "start_time": "2022-12-08T11:15:52.285Z"
   },
   {
    "duration": 10,
    "start_time": "2022-12-08T11:15:52.323Z"
   },
   {
    "duration": 15,
    "start_time": "2022-12-08T11:15:52.335Z"
   },
   {
    "duration": 47,
    "start_time": "2022-12-08T11:15:52.352Z"
   },
   {
    "duration": 31,
    "start_time": "2022-12-08T11:15:52.403Z"
   },
   {
    "duration": 13,
    "start_time": "2022-12-08T11:15:52.436Z"
   },
   {
    "duration": 39,
    "start_time": "2022-12-08T11:15:52.450Z"
   },
   {
    "duration": 56,
    "start_time": "2022-12-08T11:15:52.491Z"
   },
   {
    "duration": 19,
    "start_time": "2022-12-08T11:15:52.549Z"
   },
   {
    "duration": 30,
    "start_time": "2022-12-08T11:15:52.570Z"
   },
   {
    "duration": 59,
    "start_time": "2022-12-08T11:15:52.601Z"
   },
   {
    "duration": 40,
    "start_time": "2022-12-08T11:15:52.662Z"
   },
   {
    "duration": 30,
    "start_time": "2022-12-08T11:15:52.704Z"
   },
   {
    "duration": 80,
    "start_time": "2022-12-08T11:15:52.736Z"
   },
   {
    "duration": 21,
    "start_time": "2022-12-08T11:15:52.818Z"
   },
   {
    "duration": 34,
    "start_time": "2022-12-08T11:15:52.841Z"
   },
   {
    "duration": 43,
    "start_time": "2022-12-08T11:15:52.877Z"
   },
   {
    "duration": 30,
    "start_time": "2022-12-08T11:15:52.922Z"
   },
   {
    "duration": 939,
    "start_time": "2022-12-08T11:15:52.953Z"
   },
   {
    "duration": 7,
    "start_time": "2022-12-08T11:15:53.894Z"
   },
   {
    "duration": 181,
    "start_time": "2022-12-08T11:15:53.904Z"
   },
   {
    "duration": 31,
    "start_time": "2022-12-08T11:15:54.087Z"
   },
   {
    "duration": 54,
    "start_time": "2022-12-08T11:15:54.121Z"
   },
   {
    "duration": 1090,
    "start_time": "2022-12-08T11:15:54.178Z"
   },
   {
    "duration": 21,
    "start_time": "2022-12-08T11:15:55.270Z"
   },
   {
    "duration": 24,
    "start_time": "2022-12-08T11:15:55.296Z"
   },
   {
    "duration": 61,
    "start_time": "2022-12-08T11:15:55.322Z"
   },
   {
    "duration": 434,
    "start_time": "2022-12-08T11:15:55.391Z"
   },
   {
    "duration": 3,
    "start_time": "2022-12-08T11:15:55.827Z"
   },
   {
    "duration": 19,
    "start_time": "2022-12-08T11:15:55.832Z"
   },
   {
    "duration": 377531,
    "start_time": "2022-12-08T11:15:55.853Z"
   },
   {
    "duration": 3,
    "start_time": "2022-12-08T11:22:13.396Z"
   },
   {
    "duration": 771,
    "start_time": "2022-12-08T11:22:13.401Z"
   },
   {
    "duration": 96,
    "start_time": "2022-12-08T11:22:14.174Z"
   },
   {
    "duration": 3,
    "start_time": "2022-12-08T11:31:59.016Z"
   },
   {
    "duration": 6,
    "start_time": "2022-12-08T11:34:03.342Z"
   },
   {
    "duration": 578,
    "start_time": "2022-12-08T11:35:36.772Z"
   },
   {
    "duration": 475,
    "start_time": "2022-12-08T11:35:54.577Z"
   },
   {
    "duration": 410,
    "start_time": "2022-12-08T11:36:54.824Z"
   },
   {
    "duration": 2862,
    "start_time": "2022-12-08T11:37:13.071Z"
   },
   {
    "duration": 19180,
    "start_time": "2022-12-08T11:38:39.829Z"
   },
   {
    "duration": 1328,
    "start_time": "2022-12-08T11:39:03.941Z"
   },
   {
    "duration": 75,
    "start_time": "2022-12-08T11:39:08.120Z"
   },
   {
    "duration": 1472,
    "start_time": "2022-12-08T11:41:09.081Z"
   },
   {
    "duration": 56,
    "start_time": "2022-12-08T11:41:10.555Z"
   },
   {
    "duration": 16,
    "start_time": "2022-12-08T11:41:10.612Z"
   },
   {
    "duration": 41,
    "start_time": "2022-12-08T11:41:10.630Z"
   },
   {
    "duration": 39,
    "start_time": "2022-12-08T11:41:10.674Z"
   },
   {
    "duration": 50,
    "start_time": "2022-12-08T11:41:10.715Z"
   },
   {
    "duration": 8,
    "start_time": "2022-12-08T11:41:10.767Z"
   },
   {
    "duration": 37,
    "start_time": "2022-12-08T11:41:10.776Z"
   },
   {
    "duration": 22,
    "start_time": "2022-12-08T11:41:10.814Z"
   },
   {
    "duration": 34,
    "start_time": "2022-12-08T11:41:10.838Z"
   },
   {
    "duration": 29,
    "start_time": "2022-12-08T11:41:10.874Z"
   },
   {
    "duration": 43,
    "start_time": "2022-12-08T11:41:10.905Z"
   },
   {
    "duration": 31,
    "start_time": "2022-12-08T11:41:10.950Z"
   },
   {
    "duration": 29,
    "start_time": "2022-12-08T11:41:10.989Z"
   },
   {
    "duration": 31,
    "start_time": "2022-12-08T11:41:11.020Z"
   },
   {
    "duration": 47,
    "start_time": "2022-12-08T11:41:11.053Z"
   },
   {
    "duration": 42,
    "start_time": "2022-12-08T11:41:11.103Z"
   },
   {
    "duration": 9,
    "start_time": "2022-12-08T11:41:11.147Z"
   },
   {
    "duration": 7,
    "start_time": "2022-12-08T11:41:11.157Z"
   },
   {
    "duration": 18,
    "start_time": "2022-12-08T11:41:11.166Z"
   },
   {
    "duration": 10,
    "start_time": "2022-12-08T11:41:11.189Z"
   },
   {
    "duration": 8,
    "start_time": "2022-12-08T11:41:11.200Z"
   },
   {
    "duration": 30,
    "start_time": "2022-12-08T11:41:11.209Z"
   },
   {
    "duration": 13,
    "start_time": "2022-12-08T11:41:11.240Z"
   },
   {
    "duration": 12,
    "start_time": "2022-12-08T11:41:11.255Z"
   },
   {
    "duration": 11,
    "start_time": "2022-12-08T11:41:11.279Z"
   },
   {
    "duration": 904,
    "start_time": "2022-12-08T11:41:11.292Z"
   },
   {
    "duration": 90,
    "start_time": "2022-12-08T11:41:12.198Z"
   },
   {
    "duration": 118,
    "start_time": "2022-12-08T11:41:12.294Z"
   },
   {
    "duration": 6,
    "start_time": "2022-12-08T11:41:12.413Z"
   },
   {
    "duration": 18,
    "start_time": "2022-12-08T11:41:12.420Z"
   },
   {
    "duration": 997,
    "start_time": "2022-12-08T11:41:12.440Z"
   },
   {
    "duration": 14,
    "start_time": "2022-12-08T11:41:13.439Z"
   },
   {
    "duration": 5,
    "start_time": "2022-12-08T11:41:13.455Z"
   },
   {
    "duration": 31,
    "start_time": "2022-12-08T11:41:13.462Z"
   },
   {
    "duration": 427,
    "start_time": "2022-12-08T11:41:13.495Z"
   },
   {
    "duration": 3,
    "start_time": "2022-12-08T11:41:13.924Z"
   },
   {
    "duration": 9,
    "start_time": "2022-12-08T11:41:13.929Z"
   },
   {
    "duration": 7,
    "start_time": "2022-12-08T11:41:13.940Z"
   },
   {
    "duration": 9,
    "start_time": "2022-12-08T11:41:13.949Z"
   },
   {
    "duration": 745,
    "start_time": "2022-12-08T11:41:13.963Z"
   },
   {
    "duration": 82,
    "start_time": "2022-12-08T11:41:14.710Z"
   },
   {
    "duration": 10,
    "start_time": "2022-12-08T11:44:23.335Z"
   },
   {
    "duration": 4,
    "start_time": "2022-12-08T11:44:39.538Z"
   },
   {
    "duration": 378,
    "start_time": "2022-12-08T11:51:15.057Z"
   },
   {
    "duration": 1400,
    "start_time": "2022-12-08T11:52:34.921Z"
   },
   {
    "duration": 42,
    "start_time": "2022-12-08T11:52:36.323Z"
   },
   {
    "duration": 16,
    "start_time": "2022-12-08T11:52:36.367Z"
   },
   {
    "duration": 13,
    "start_time": "2022-12-08T11:52:36.384Z"
   },
   {
    "duration": 14,
    "start_time": "2022-12-08T11:52:36.399Z"
   },
   {
    "duration": 31,
    "start_time": "2022-12-08T11:52:36.415Z"
   },
   {
    "duration": 30,
    "start_time": "2022-12-08T11:52:36.448Z"
   },
   {
    "duration": 13,
    "start_time": "2022-12-08T11:52:36.480Z"
   },
   {
    "duration": 6,
    "start_time": "2022-12-08T11:52:36.495Z"
   },
   {
    "duration": 7,
    "start_time": "2022-12-08T11:52:36.502Z"
   },
   {
    "duration": 12,
    "start_time": "2022-12-08T11:52:36.511Z"
   },
   {
    "duration": 7,
    "start_time": "2022-12-08T11:52:36.525Z"
   },
   {
    "duration": 8,
    "start_time": "2022-12-08T11:52:36.534Z"
   },
   {
    "duration": 34,
    "start_time": "2022-12-08T11:52:36.546Z"
   },
   {
    "duration": 14,
    "start_time": "2022-12-08T11:52:36.583Z"
   },
   {
    "duration": 6,
    "start_time": "2022-12-08T11:52:36.599Z"
   },
   {
    "duration": 27,
    "start_time": "2022-12-08T11:52:36.607Z"
   },
   {
    "duration": 4,
    "start_time": "2022-12-08T11:52:36.636Z"
   },
   {
    "duration": 6,
    "start_time": "2022-12-08T11:52:36.642Z"
   },
   {
    "duration": 30,
    "start_time": "2022-12-08T11:52:36.649Z"
   },
   {
    "duration": 4,
    "start_time": "2022-12-08T11:52:36.681Z"
   },
   {
    "duration": 10,
    "start_time": "2022-12-08T11:52:36.687Z"
   },
   {
    "duration": 37,
    "start_time": "2022-12-08T11:52:36.699Z"
   },
   {
    "duration": 12,
    "start_time": "2022-12-08T11:52:36.738Z"
   },
   {
    "duration": 7,
    "start_time": "2022-12-08T11:52:36.752Z"
   },
   {
    "duration": 20,
    "start_time": "2022-12-08T11:52:36.761Z"
   },
   {
    "duration": 805,
    "start_time": "2022-12-08T11:52:36.783Z"
   },
   {
    "duration": 92,
    "start_time": "2022-12-08T11:52:37.589Z"
   },
   {
    "duration": 97,
    "start_time": "2022-12-08T11:52:37.683Z"
   },
   {
    "duration": 5,
    "start_time": "2022-12-08T11:52:37.782Z"
   },
   {
    "duration": 16,
    "start_time": "2022-12-08T11:52:37.788Z"
   },
   {
    "duration": 1007,
    "start_time": "2022-12-08T11:52:37.807Z"
   },
   {
    "duration": 13,
    "start_time": "2022-12-08T11:52:38.815Z"
   },
   {
    "duration": 5,
    "start_time": "2022-12-08T11:52:38.830Z"
   },
   {
    "duration": 28,
    "start_time": "2022-12-08T11:52:38.837Z"
   },
   {
    "duration": 405,
    "start_time": "2022-12-08T11:52:38.867Z"
   },
   {
    "duration": 3,
    "start_time": "2022-12-08T11:52:39.278Z"
   },
   {
    "duration": 11,
    "start_time": "2022-12-08T11:52:39.283Z"
   },
   {
    "duration": 10,
    "start_time": "2022-12-08T11:52:39.296Z"
   },
   {
    "duration": 8,
    "start_time": "2022-12-08T11:52:39.308Z"
   },
   {
    "duration": 702,
    "start_time": "2022-12-08T11:52:39.321Z"
   },
   {
    "duration": 106,
    "start_time": "2022-12-08T11:52:40.025Z"
   },
   {
    "duration": 452,
    "start_time": "2022-12-08T11:52:40.133Z"
   },
   {
    "duration": 300,
    "start_time": "2022-12-08T11:55:46.750Z"
   },
   {
    "duration": 216,
    "start_time": "2022-12-08T11:56:07.438Z"
   },
   {
    "duration": 369,
    "start_time": "2022-12-08T11:56:28.456Z"
   },
   {
    "duration": 6,
    "start_time": "2022-12-08T11:56:47.727Z"
   },
   {
    "duration": 201,
    "start_time": "2022-12-08T11:57:07.813Z"
   },
   {
    "duration": 401,
    "start_time": "2022-12-08T11:58:00.568Z"
   },
   {
    "duration": 103,
    "start_time": "2022-12-08T12:05:36.299Z"
   },
   {
    "duration": 1000,
    "start_time": "2022-12-08T12:40:54.976Z"
   },
   {
    "duration": 99,
    "start_time": "2022-12-08T12:40:58.959Z"
   },
   {
    "duration": 1934,
    "start_time": "2022-12-08T12:41:08.856Z"
   },
   {
    "duration": 180,
    "start_time": "2022-12-08T12:41:14.688Z"
   },
   {
    "duration": 1084,
    "start_time": "2022-12-08T12:41:23.273Z"
   },
   {
    "duration": 903,
    "start_time": "2022-12-08T12:41:29.977Z"
   },
   {
    "duration": 1068,
    "start_time": "2022-12-08T12:41:35.692Z"
   },
   {
    "duration": 128,
    "start_time": "2022-12-08T12:41:41.792Z"
   },
   {
    "duration": 1146,
    "start_time": "2022-12-08T12:41:47.525Z"
   },
   {
    "duration": 1154,
    "start_time": "2022-12-08T12:41:54.001Z"
   },
   {
    "duration": 131,
    "start_time": "2022-12-08T12:41:57.992Z"
   },
   {
    "duration": 1389,
    "start_time": "2022-12-08T12:56:37.677Z"
   },
   {
    "duration": 45,
    "start_time": "2022-12-08T12:56:39.068Z"
   },
   {
    "duration": 16,
    "start_time": "2022-12-08T12:56:39.115Z"
   },
   {
    "duration": 16,
    "start_time": "2022-12-08T12:56:39.132Z"
   },
   {
    "duration": 17,
    "start_time": "2022-12-08T12:56:39.150Z"
   },
   {
    "duration": 20,
    "start_time": "2022-12-08T12:56:39.168Z"
   },
   {
    "duration": 3,
    "start_time": "2022-12-08T12:56:39.189Z"
   },
   {
    "duration": 12,
    "start_time": "2022-12-08T12:56:39.193Z"
   },
   {
    "duration": 6,
    "start_time": "2022-12-08T12:56:39.207Z"
   },
   {
    "duration": 12,
    "start_time": "2022-12-08T12:56:39.215Z"
   },
   {
    "duration": 7,
    "start_time": "2022-12-08T12:56:39.229Z"
   },
   {
    "duration": 13,
    "start_time": "2022-12-08T12:56:39.238Z"
   },
   {
    "duration": 8,
    "start_time": "2022-12-08T12:56:39.253Z"
   },
   {
    "duration": 15,
    "start_time": "2022-12-08T12:56:39.264Z"
   },
   {
    "duration": 7,
    "start_time": "2022-12-08T12:56:39.280Z"
   },
   {
    "duration": 8,
    "start_time": "2022-12-08T12:56:39.289Z"
   },
   {
    "duration": 23,
    "start_time": "2022-12-08T12:56:39.298Z"
   },
   {
    "duration": 5,
    "start_time": "2022-12-08T12:56:39.323Z"
   },
   {
    "duration": 7,
    "start_time": "2022-12-08T12:56:39.329Z"
   },
   {
    "duration": 13,
    "start_time": "2022-12-08T12:56:39.338Z"
   },
   {
    "duration": 3,
    "start_time": "2022-12-08T12:56:39.352Z"
   },
   {
    "duration": 4,
    "start_time": "2022-12-08T12:56:39.378Z"
   },
   {
    "duration": 39,
    "start_time": "2022-12-08T12:56:39.383Z"
   },
   {
    "duration": 12,
    "start_time": "2022-12-08T12:56:39.424Z"
   },
   {
    "duration": 9,
    "start_time": "2022-12-08T12:56:39.438Z"
   },
   {
    "duration": 7,
    "start_time": "2022-12-08T12:56:39.448Z"
   },
   {
    "duration": 926,
    "start_time": "2022-12-08T12:56:39.456Z"
   },
   {
    "duration": 93,
    "start_time": "2022-12-08T12:56:40.388Z"
   },
   {
    "duration": 26,
    "start_time": "2022-12-08T12:56:40.482Z"
   },
   {
    "duration": 7,
    "start_time": "2022-12-08T12:56:40.510Z"
   },
   {
    "duration": 22,
    "start_time": "2022-12-08T12:56:40.519Z"
   },
   {
    "duration": 1136,
    "start_time": "2022-12-08T12:56:40.543Z"
   },
   {
    "duration": 16,
    "start_time": "2022-12-08T12:56:41.680Z"
   },
   {
    "duration": 43,
    "start_time": "2022-12-08T12:56:41.697Z"
   },
   {
    "duration": 53,
    "start_time": "2022-12-08T12:56:41.743Z"
   },
   {
    "duration": 462,
    "start_time": "2022-12-08T12:56:41.798Z"
   },
   {
    "duration": 3,
    "start_time": "2022-12-08T12:56:42.262Z"
   },
   {
    "duration": 25,
    "start_time": "2022-12-08T12:56:42.267Z"
   },
   {
    "duration": 26,
    "start_time": "2022-12-08T12:56:42.293Z"
   },
   {
    "duration": 45,
    "start_time": "2022-12-08T12:56:42.321Z"
   },
   {
    "duration": 1128,
    "start_time": "2022-12-08T12:56:42.370Z"
   },
   {
    "duration": 115,
    "start_time": "2022-12-08T12:56:43.500Z"
   },
   {
    "duration": 433,
    "start_time": "2022-12-08T12:56:43.617Z"
   },
   {
    "duration": 7312,
    "start_time": "2022-12-08T17:02:33.261Z"
   },
   {
    "duration": 309,
    "start_time": "2022-12-08T17:02:40.657Z"
   },
   {
    "duration": 206,
    "start_time": "2022-12-08T17:02:40.968Z"
   },
   {
    "duration": 189,
    "start_time": "2022-12-08T17:02:41.269Z"
   },
   {
    "duration": 103,
    "start_time": "2022-12-08T17:02:41.463Z"
   },
   {
    "duration": 209,
    "start_time": "2022-12-08T17:02:41.656Z"
   },
   {
    "duration": 91,
    "start_time": "2022-12-08T17:02:41.867Z"
   },
   {
    "duration": 205,
    "start_time": "2022-12-08T17:02:41.962Z"
   },
   {
    "duration": 91,
    "start_time": "2022-12-08T17:02:42.170Z"
   },
   {
    "duration": 200,
    "start_time": "2022-12-08T17:02:42.262Z"
   },
   {
    "duration": 194,
    "start_time": "2022-12-08T17:02:42.463Z"
   },
   {
    "duration": 200,
    "start_time": "2022-12-08T17:02:42.658Z"
   },
   {
    "duration": 300,
    "start_time": "2022-12-08T17:02:42.859Z"
   },
   {
    "duration": 395,
    "start_time": "2022-12-08T17:02:43.164Z"
   },
   {
    "duration": 103,
    "start_time": "2022-12-08T17:02:43.561Z"
   },
   {
    "duration": 389,
    "start_time": "2022-12-08T17:02:43.667Z"
   },
   {
    "duration": 396,
    "start_time": "2022-12-08T17:02:44.058Z"
   },
   {
    "duration": 99,
    "start_time": "2022-12-08T17:02:44.456Z"
   },
   {
    "duration": 99,
    "start_time": "2022-12-08T17:02:44.557Z"
   },
   {
    "duration": 207,
    "start_time": "2022-12-08T17:02:44.658Z"
   },
   {
    "duration": 288,
    "start_time": "2022-12-08T17:02:44.869Z"
   },
   {
    "duration": 224,
    "start_time": "2022-12-08T17:02:45.158Z"
   },
   {
    "duration": 1180,
    "start_time": "2022-12-08T17:02:45.384Z"
   },
   {
    "duration": 0,
    "start_time": "2022-12-08T17:02:46.656Z"
   },
   {
    "duration": 0,
    "start_time": "2022-12-08T17:02:46.657Z"
   },
   {
    "duration": 0,
    "start_time": "2022-12-08T17:02:46.660Z"
   },
   {
    "duration": 0,
    "start_time": "2022-12-08T17:02:46.666Z"
   },
   {
    "duration": 0,
    "start_time": "2022-12-08T17:02:46.668Z"
   },
   {
    "duration": 0,
    "start_time": "2022-12-08T17:02:46.669Z"
   },
   {
    "duration": 1,
    "start_time": "2022-12-08T17:02:46.669Z"
   },
   {
    "duration": 0,
    "start_time": "2022-12-08T17:02:46.670Z"
   },
   {
    "duration": 0,
    "start_time": "2022-12-08T17:02:46.671Z"
   },
   {
    "duration": 0,
    "start_time": "2022-12-08T17:02:46.671Z"
   },
   {
    "duration": 0,
    "start_time": "2022-12-08T17:02:46.672Z"
   },
   {
    "duration": 0,
    "start_time": "2022-12-08T17:02:46.672Z"
   },
   {
    "duration": 0,
    "start_time": "2022-12-08T17:02:46.762Z"
   },
   {
    "duration": 0,
    "start_time": "2022-12-08T17:02:46.767Z"
   },
   {
    "duration": 0,
    "start_time": "2022-12-08T17:02:46.768Z"
   },
   {
    "duration": 0,
    "start_time": "2022-12-08T17:02:46.855Z"
   },
   {
    "duration": 0,
    "start_time": "2022-12-08T17:02:46.856Z"
   },
   {
    "duration": 0,
    "start_time": "2022-12-08T17:02:46.858Z"
   },
   {
    "duration": 0,
    "start_time": "2022-12-08T17:02:46.859Z"
   },
   {
    "duration": 0,
    "start_time": "2022-12-08T17:02:46.860Z"
   },
   {
    "duration": 96,
    "start_time": "2022-12-08T17:03:14.358Z"
   },
   {
    "duration": 207,
    "start_time": "2022-12-08T17:03:14.457Z"
   },
   {
    "duration": 103,
    "start_time": "2022-12-08T17:03:17.455Z"
   },
   {
    "duration": 7,
    "start_time": "2022-12-08T17:03:18.655Z"
   },
   {
    "duration": 80,
    "start_time": "2022-12-08T17:03:19.278Z"
   },
   {
    "duration": 7807,
    "start_time": "2022-12-08T17:03:20.456Z"
   },
   {
    "duration": 10,
    "start_time": "2022-12-08T17:03:28.357Z"
   },
   {
    "duration": 301,
    "start_time": "2022-12-08T17:03:28.369Z"
   },
   {
    "duration": 92,
    "start_time": "2022-12-08T17:03:28.762Z"
   },
   {
    "duration": 204,
    "start_time": "2022-12-08T17:03:28.858Z"
   },
   {
    "duration": 9390,
    "start_time": "2022-12-08T17:03:29.064Z"
   },
   {
    "duration": 199,
    "start_time": "2022-12-08T17:03:38.456Z"
   },
   {
    "duration": 97,
    "start_time": "2022-12-08T17:03:38.659Z"
   },
   {
    "duration": 210,
    "start_time": "2022-12-08T17:03:38.758Z"
   },
   {
    "duration": 4408,
    "start_time": "2022-12-08T17:03:39.057Z"
   },
   {
    "duration": 3,
    "start_time": "2022-12-08T17:03:43.561Z"
   },
   {
    "duration": 100,
    "start_time": "2022-12-08T17:03:43.655Z"
   },
   {
    "duration": 399,
    "start_time": "2022-12-08T17:03:43.757Z"
   },
   {
    "duration": 16,
    "start_time": "2022-12-08T17:03:44.157Z"
   },
   {
    "duration": 11297,
    "start_time": "2022-12-08T17:03:44.175Z"
   },
   {
    "duration": 801,
    "start_time": "2022-12-08T17:03:55.562Z"
   },
   {
    "duration": 15,
    "start_time": "2022-12-08T17:05:46.835Z"
   },
   {
    "duration": 5,
    "start_time": "2022-12-08T17:06:19.054Z"
   },
   {
    "duration": 44,
    "start_time": "2022-12-08T17:06:19.061Z"
   },
   {
    "duration": 14,
    "start_time": "2022-12-08T17:06:19.108Z"
   },
   {
    "duration": 18,
    "start_time": "2022-12-08T17:06:19.124Z"
   },
   {
    "duration": 24,
    "start_time": "2022-12-08T17:06:19.145Z"
   },
   {
    "duration": 25,
    "start_time": "2022-12-08T17:06:19.172Z"
   },
   {
    "duration": 3,
    "start_time": "2022-12-08T17:06:19.200Z"
   },
   {
    "duration": 10,
    "start_time": "2022-12-08T17:06:19.205Z"
   },
   {
    "duration": 8,
    "start_time": "2022-12-08T17:06:19.217Z"
   },
   {
    "duration": 9,
    "start_time": "2022-12-08T17:06:19.227Z"
   },
   {
    "duration": 15,
    "start_time": "2022-12-08T17:06:19.254Z"
   },
   {
    "duration": 11,
    "start_time": "2022-12-08T17:06:19.270Z"
   },
   {
    "duration": 12,
    "start_time": "2022-12-08T17:06:19.283Z"
   },
   {
    "duration": 10,
    "start_time": "2022-12-08T17:06:19.297Z"
   },
   {
    "duration": 10,
    "start_time": "2022-12-08T17:06:19.309Z"
   },
   {
    "duration": 6,
    "start_time": "2022-12-08T17:06:19.321Z"
   },
   {
    "duration": 31,
    "start_time": "2022-12-08T17:06:19.328Z"
   },
   {
    "duration": 3,
    "start_time": "2022-12-08T17:06:19.361Z"
   },
   {
    "duration": 15,
    "start_time": "2022-12-08T17:06:19.366Z"
   },
   {
    "duration": 13,
    "start_time": "2022-12-08T17:06:19.382Z"
   },
   {
    "duration": 3,
    "start_time": "2022-12-08T17:06:19.396Z"
   },
   {
    "duration": 3,
    "start_time": "2022-12-08T17:07:13.547Z"
   },
   {
    "duration": 4,
    "start_time": "2022-12-08T17:07:13.919Z"
   },
   {
    "duration": 3,
    "start_time": "2022-12-08T17:09:28.059Z"
   },
   {
    "duration": 8,
    "start_time": "2022-12-08T17:09:44.769Z"
   },
   {
    "duration": 13,
    "start_time": "2022-12-08T17:09:53.517Z"
   },
   {
    "duration": 4,
    "start_time": "2022-12-08T17:09:55.709Z"
   },
   {
    "duration": 21,
    "start_time": "2022-12-08T17:09:58.407Z"
   },
   {
    "duration": 18,
    "start_time": "2022-12-08T17:10:28.799Z"
   },
   {
    "duration": 3,
    "start_time": "2022-12-08T17:10:32.959Z"
   },
   {
    "duration": 22,
    "start_time": "2022-12-08T17:10:36.349Z"
   },
   {
    "duration": 4,
    "start_time": "2022-12-08T17:10:46.759Z"
   },
   {
    "duration": 14,
    "start_time": "2022-12-08T17:10:47.002Z"
   },
   {
    "duration": 4,
    "start_time": "2022-12-08T17:10:48.021Z"
   },
   {
    "duration": 23,
    "start_time": "2022-12-08T17:10:48.616Z"
   },
   {
    "duration": 10,
    "start_time": "2022-12-08T17:10:58.977Z"
   },
   {
    "duration": 4,
    "start_time": "2022-12-08T17:10:59.400Z"
   },
   {
    "duration": 21,
    "start_time": "2022-12-08T17:11:00.091Z"
   },
   {
    "duration": 5,
    "start_time": "2022-12-08T17:11:04.152Z"
   },
   {
    "duration": 13,
    "start_time": "2022-12-08T17:11:04.366Z"
   },
   {
    "duration": 21,
    "start_time": "2022-12-08T17:11:07.441Z"
   },
   {
    "duration": 14,
    "start_time": "2022-12-08T17:11:08.600Z"
   },
   {
    "duration": 6,
    "start_time": "2022-12-08T17:11:09.259Z"
   },
   {
    "duration": 5,
    "start_time": "2022-12-08T17:11:09.617Z"
   },
   {
    "duration": 868,
    "start_time": "2022-12-08T17:11:10.319Z"
   },
   {
    "duration": 4,
    "start_time": "2022-12-08T17:11:13.839Z"
   },
   {
    "duration": 15,
    "start_time": "2022-12-08T17:11:14.239Z"
   },
   {
    "duration": 5,
    "start_time": "2022-12-08T17:11:14.579Z"
   },
   {
    "duration": 15,
    "start_time": "2022-12-08T17:11:15.292Z"
   },
   {
    "duration": 1133,
    "start_time": "2022-12-08T17:11:15.508Z"
   },
   {
    "duration": 13,
    "start_time": "2022-12-08T17:11:22.058Z"
   },
   {
    "duration": 6,
    "start_time": "2022-12-08T17:11:22.268Z"
   },
   {
    "duration": 9,
    "start_time": "2022-12-08T17:11:22.473Z"
   },
   {
    "duration": 451,
    "start_time": "2022-12-08T17:11:22.893Z"
   },
   {
    "duration": 5999,
    "start_time": "2022-12-08T17:11:29.469Z"
   },
   {
    "duration": 276215,
    "start_time": "2022-12-08T17:11:35.470Z"
   },
   {
    "duration": 4,
    "start_time": "2022-12-08T17:16:24.468Z"
   },
   {
    "duration": 3,
    "start_time": "2022-12-08T17:16:24.699Z"
   },
   {
    "duration": 29902,
    "start_time": "2022-12-08T17:16:24.908Z"
   },
   {
    "duration": 1223,
    "start_time": "2022-12-08T17:17:08.139Z"
   },
   {
    "duration": 120,
    "start_time": "2022-12-08T17:17:10.897Z"
   },
   {
    "duration": 5,
    "start_time": "2022-12-08T17:17:16.558Z"
   },
   {
    "duration": 1630,
    "start_time": "2022-12-08T17:17:22.577Z"
   },
   {
    "duration": 5,
    "start_time": "2022-12-08T17:17:25.668Z"
   },
   {
    "duration": 157,
    "start_time": "2022-12-08T17:17:26.058Z"
   },
   {
    "duration": 16,
    "start_time": "2022-12-08T17:17:39.449Z"
   },
   {
    "duration": 1102,
    "start_time": "2022-12-08T17:17:56.918Z"
   },
   {
    "duration": 104,
    "start_time": "2022-12-08T17:17:58.859Z"
   },
   {
    "duration": 1319,
    "start_time": "2022-12-08T17:18:02.159Z"
   },
   {
    "duration": 129,
    "start_time": "2022-12-08T17:18:03.480Z"
   },
   {
    "duration": 1414,
    "start_time": "2022-12-08T17:18:07.260Z"
   },
   {
    "duration": 130,
    "start_time": "2022-12-08T17:18:08.748Z"
   },
   {
    "duration": 1588,
    "start_time": "2022-12-08T17:18:12.691Z"
   },
   {
    "duration": 150,
    "start_time": "2022-12-08T17:18:14.281Z"
   },
   {
    "duration": 1951,
    "start_time": "2022-12-08T17:18:18.067Z"
   },
   {
    "duration": 186,
    "start_time": "2022-12-08T17:18:20.020Z"
   },
   {
    "duration": 1035,
    "start_time": "2022-12-08T17:18:22.839Z"
   },
   {
    "duration": 105,
    "start_time": "2022-12-08T17:18:23.876Z"
   },
   {
    "duration": 850,
    "start_time": "2022-12-08T17:18:27.029Z"
   },
   {
    "duration": 91,
    "start_time": "2022-12-08T17:18:27.881Z"
   },
   {
    "duration": 569,
    "start_time": "2022-12-08T17:18:39.917Z"
   },
   {
    "duration": 61,
    "start_time": "2022-12-08T17:18:41.365Z"
   },
   {
    "duration": 1324,
    "start_time": "2022-12-08T17:18:46.517Z"
   },
   {
    "duration": 53,
    "start_time": "2022-12-08T17:19:24.869Z"
   },
   {
    "duration": 1203,
    "start_time": "2022-12-08T17:19:28.599Z"
   },
   {
    "duration": 117,
    "start_time": "2022-12-08T17:19:29.804Z"
   },
   {
    "duration": 11,
    "start_time": "2022-12-08T17:19:36.300Z"
   },
   {
    "duration": 1166,
    "start_time": "2022-12-08T17:19:41.899Z"
   },
   {
    "duration": 16,
    "start_time": "2022-12-08T17:19:51.509Z"
   },
   {
    "duration": 21,
    "start_time": "2022-12-08T17:20:16.929Z"
   },
   {
    "duration": 12,
    "start_time": "2022-12-08T17:20:29.349Z"
   },
   {
    "duration": 5,
    "start_time": "2022-12-08T17:20:29.796Z"
   },
   {
    "duration": 5,
    "start_time": "2022-12-08T17:20:30.194Z"
   },
   {
    "duration": 868,
    "start_time": "2022-12-08T17:20:31.296Z"
   },
   {
    "duration": 5,
    "start_time": "2022-12-08T17:20:35.738Z"
   },
   {
    "duration": 13,
    "start_time": "2022-12-08T17:20:47.219Z"
   },
   {
    "duration": 19,
    "start_time": "2022-12-08T17:20:50.796Z"
   },
   {
    "duration": 5,
    "start_time": "2022-12-08T17:20:59.176Z"
   },
   {
    "duration": 15,
    "start_time": "2022-12-08T17:20:59.558Z"
   },
   {
    "duration": 1096,
    "start_time": "2022-12-08T17:21:11.338Z"
   },
   {
    "duration": 14,
    "start_time": "2022-12-08T17:21:27.061Z"
   },
   {
    "duration": 16,
    "start_time": "2022-12-08T17:21:33.406Z"
   },
   {
    "duration": 3,
    "start_time": "2022-12-08T17:21:37.759Z"
   },
   {
    "duration": 11,
    "start_time": "2022-12-08T17:21:37.977Z"
   },
   {
    "duration": 4,
    "start_time": "2022-12-08T17:21:38.168Z"
   },
   {
    "duration": 24,
    "start_time": "2022-12-08T17:21:38.330Z"
   },
   {
    "duration": 15,
    "start_time": "2022-12-08T17:21:38.658Z"
   },
   {
    "duration": 6,
    "start_time": "2022-12-08T17:21:39.030Z"
   },
   {
    "duration": 5,
    "start_time": "2022-12-08T17:21:39.717Z"
   },
   {
    "duration": 967,
    "start_time": "2022-12-08T17:21:40.489Z"
   },
   {
    "duration": 4,
    "start_time": "2022-12-08T17:21:41.768Z"
   },
   {
    "duration": 14,
    "start_time": "2022-12-08T17:21:42.649Z"
   },
   {
    "duration": 5,
    "start_time": "2022-12-08T17:21:42.919Z"
   },
   {
    "duration": 14,
    "start_time": "2022-12-08T17:21:45.648Z"
   },
   {
    "duration": 1043,
    "start_time": "2022-12-08T17:21:45.863Z"
   },
   {
    "duration": 15,
    "start_time": "2022-12-08T17:21:47.969Z"
   },
   {
    "duration": 6,
    "start_time": "2022-12-08T17:21:48.138Z"
   },
   {
    "duration": 10,
    "start_time": "2022-12-08T17:21:49.595Z"
   },
   {
    "duration": 442,
    "start_time": "2022-12-08T17:21:49.759Z"
   },
   {
    "duration": 3,
    "start_time": "2022-12-08T17:21:51.798Z"
   },
   {
    "duration": 1241,
    "start_time": "2022-12-08T17:21:54.155Z"
   },
   {
    "duration": 117,
    "start_time": "2022-12-08T17:21:56.916Z"
   },
   {
    "duration": 1240,
    "start_time": "2022-12-08T17:22:04.139Z"
   },
   {
    "duration": 121,
    "start_time": "2022-12-08T17:22:05.679Z"
   },
   {
    "duration": 10173,
    "start_time": "2022-12-08T17:22:32.157Z"
   },
   {
    "duration": 3,
    "start_time": "2022-12-08T17:22:50.229Z"
   },
   {
    "duration": 2,
    "start_time": "2022-12-08T17:22:50.449Z"
   },
   {
    "duration": 63486,
    "start_time": "2022-12-08T17:22:50.629Z"
   },
   {
    "duration": 1570,
    "start_time": "2022-12-08T17:25:36.519Z"
   },
   {
    "duration": 1127,
    "start_time": "2022-12-08T17:25:49.993Z"
   },
   {
    "duration": 112,
    "start_time": "2022-12-08T17:25:52.450Z"
   },
   {
    "duration": 1091,
    "start_time": "2022-12-08T17:29:13.277Z"
   },
   {
    "duration": 15,
    "start_time": "2022-12-08T17:29:17.116Z"
   },
   {
    "duration": 5,
    "start_time": "2022-12-08T17:29:22.570Z"
   },
   {
    "duration": 12,
    "start_time": "2022-12-08T17:29:23.693Z"
   },
   {
    "duration": 453,
    "start_time": "2022-12-08T17:29:25.048Z"
   },
   {
    "duration": 3,
    "start_time": "2022-12-08T17:29:31.009Z"
   },
   {
    "duration": 1244,
    "start_time": "2022-12-08T17:29:40.469Z"
   },
   {
    "duration": 126,
    "start_time": "2022-12-08T17:29:43.835Z"
   },
   {
    "duration": 4,
    "start_time": "2022-12-08T17:30:03.953Z"
   },
   {
    "duration": 44,
    "start_time": "2022-12-08T17:30:03.960Z"
   },
   {
    "duration": 13,
    "start_time": "2022-12-08T17:30:04.006Z"
   },
   {
    "duration": 27,
    "start_time": "2022-12-08T17:30:04.021Z"
   },
   {
    "duration": 13,
    "start_time": "2022-12-08T17:30:04.051Z"
   },
   {
    "duration": 22,
    "start_time": "2022-12-08T17:30:04.066Z"
   },
   {
    "duration": 4,
    "start_time": "2022-12-08T17:30:04.090Z"
   },
   {
    "duration": 5,
    "start_time": "2022-12-08T17:30:06.593Z"
   },
   {
    "duration": 5,
    "start_time": "2022-12-08T17:30:06.774Z"
   },
   {
    "duration": 5,
    "start_time": "2022-12-08T17:30:06.950Z"
   },
   {
    "duration": 5,
    "start_time": "2022-12-08T17:30:07.298Z"
   },
   {
    "duration": 5,
    "start_time": "2022-12-08T17:30:07.678Z"
   },
   {
    "duration": 6,
    "start_time": "2022-12-08T17:30:08.049Z"
   },
   {
    "duration": 6,
    "start_time": "2022-12-08T17:30:08.242Z"
   },
   {
    "duration": 3,
    "start_time": "2022-12-08T17:30:08.557Z"
   },
   {
    "duration": 19,
    "start_time": "2022-12-08T17:30:09.093Z"
   },
   {
    "duration": 4,
    "start_time": "2022-12-08T17:30:10.197Z"
   },
   {
    "duration": 3,
    "start_time": "2022-12-08T17:30:10.618Z"
   },
   {
    "duration": 16,
    "start_time": "2022-12-08T17:30:12.070Z"
   },
   {
    "duration": 4,
    "start_time": "2022-12-08T17:30:24.009Z"
   },
   {
    "duration": 10,
    "start_time": "2022-12-08T17:30:24.679Z"
   },
   {
    "duration": 4,
    "start_time": "2022-12-08T17:30:25.192Z"
   },
   {
    "duration": 23,
    "start_time": "2022-12-08T17:30:25.479Z"
   },
   {
    "duration": 13,
    "start_time": "2022-12-08T17:30:26.599Z"
   },
   {
    "duration": 6,
    "start_time": "2022-12-08T17:30:27.247Z"
   },
   {
    "duration": 6,
    "start_time": "2022-12-08T17:30:27.677Z"
   },
   {
    "duration": 1019,
    "start_time": "2022-12-08T17:30:28.337Z"
   },
   {
    "duration": 4,
    "start_time": "2022-12-08T17:30:31.318Z"
   },
   {
    "duration": 16,
    "start_time": "2022-12-08T17:30:31.504Z"
   },
   {
    "duration": 6,
    "start_time": "2022-12-08T17:30:32.036Z"
   },
   {
    "duration": 14,
    "start_time": "2022-12-08T17:30:32.318Z"
   },
   {
    "duration": 1236,
    "start_time": "2022-12-08T17:30:32.738Z"
   },
   {
    "duration": 13,
    "start_time": "2022-12-08T17:30:33.977Z"
   },
   {
    "duration": 8,
    "start_time": "2022-12-08T17:30:33.992Z"
   },
   {
    "duration": 26,
    "start_time": "2022-12-08T17:30:34.002Z"
   },
   {
    "duration": 485,
    "start_time": "2022-12-08T17:30:34.909Z"
   },
   {
    "duration": 1289,
    "start_time": "2022-12-08T17:30:38.610Z"
   },
   {
    "duration": 126,
    "start_time": "2022-12-08T17:30:41.497Z"
   },
   {
    "duration": 1244,
    "start_time": "2022-12-08T17:30:49.909Z"
   },
   {
    "duration": 111,
    "start_time": "2022-12-08T17:30:51.155Z"
   },
   {
    "duration": 1414,
    "start_time": "2022-12-08T17:30:53.763Z"
   },
   {
    "duration": 138,
    "start_time": "2022-12-08T17:30:55.179Z"
   },
   {
    "duration": 218996,
    "start_time": "2022-12-08T17:31:02.819Z"
   },
   {
    "duration": 822,
    "start_time": "2022-12-08T17:42:26.705Z"
   },
   {
    "duration": 82,
    "start_time": "2022-12-08T17:42:29.292Z"
   },
   {
    "duration": 18,
    "start_time": "2022-12-08T17:42:45.001Z"
   },
   {
    "duration": 18,
    "start_time": "2022-12-08T17:42:52.905Z"
   },
   {
    "duration": 78,
    "start_time": "2022-12-08T19:37:48.889Z"
   },
   {
    "duration": 4,
    "start_time": "2022-12-08T19:38:02.200Z"
   },
   {
    "duration": 92,
    "start_time": "2022-12-08T19:38:02.206Z"
   },
   {
    "duration": 36,
    "start_time": "2022-12-08T19:38:02.299Z"
   },
   {
    "duration": 47,
    "start_time": "2022-12-08T19:38:02.336Z"
   },
   {
    "duration": 47,
    "start_time": "2022-12-08T19:38:02.385Z"
   },
   {
    "duration": 56,
    "start_time": "2022-12-08T19:38:02.433Z"
   },
   {
    "duration": 31,
    "start_time": "2022-12-08T19:38:02.490Z"
   },
   {
    "duration": 10,
    "start_time": "2022-12-08T19:38:04.617Z"
   },
   {
    "duration": 5,
    "start_time": "2022-12-08T19:38:04.806Z"
   },
   {
    "duration": 4,
    "start_time": "2022-12-08T19:38:04.979Z"
   },
   {
    "duration": 5,
    "start_time": "2022-12-08T19:38:05.169Z"
   },
   {
    "duration": 5,
    "start_time": "2022-12-08T19:38:06.499Z"
   },
   {
    "duration": 4,
    "start_time": "2022-12-08T19:38:07.188Z"
   },
   {
    "duration": 6,
    "start_time": "2022-12-08T19:38:08.539Z"
   },
   {
    "duration": 6,
    "start_time": "2022-12-08T19:38:08.729Z"
   },
   {
    "duration": 3,
    "start_time": "2022-12-08T19:38:09.149Z"
   },
   {
    "duration": 19,
    "start_time": "2022-12-08T19:38:11.059Z"
   },
   {
    "duration": 4,
    "start_time": "2022-12-08T19:38:17.779Z"
   },
   {
    "duration": 2,
    "start_time": "2022-12-08T19:38:18.849Z"
   },
   {
    "duration": 10,
    "start_time": "2022-12-08T19:38:23.650Z"
   },
   {
    "duration": 21,
    "start_time": "2022-12-08T19:38:24.249Z"
   },
   {
    "duration": 20,
    "start_time": "2022-12-08T19:38:26.909Z"
   },
   {
    "duration": 15,
    "start_time": "2022-12-08T19:38:28.377Z"
   },
   {
    "duration": 6,
    "start_time": "2022-12-08T19:38:39.035Z"
   },
   {
    "duration": 24,
    "start_time": "2022-12-08T19:38:47.059Z"
   },
   {
    "duration": 18,
    "start_time": "2022-12-08T19:39:01.445Z"
   },
   {
    "duration": 18,
    "start_time": "2022-12-08T19:39:56.037Z"
   },
   {
    "duration": 7,
    "start_time": "2022-12-08T19:40:11.809Z"
   },
   {
    "duration": 14,
    "start_time": "2022-12-08T19:40:14.489Z"
   },
   {
    "duration": 6,
    "start_time": "2022-12-08T19:40:19.500Z"
   },
   {
    "duration": 17,
    "start_time": "2022-12-08T19:40:20.179Z"
   },
   {
    "duration": 13,
    "start_time": "2022-12-08T19:40:28.187Z"
   },
   {
    "duration": 5,
    "start_time": "2022-12-08T19:40:34.359Z"
   },
   {
    "duration": 18,
    "start_time": "2022-12-08T19:40:36.159Z"
   },
   {
    "duration": 856,
    "start_time": "2022-12-08T19:40:41.899Z"
   },
   {
    "duration": 815,
    "start_time": "2022-12-08T19:41:05.329Z"
   },
   {
    "duration": 4,
    "start_time": "2022-12-08T19:41:17.848Z"
   },
   {
    "duration": 10,
    "start_time": "2022-12-08T19:41:18.908Z"
   },
   {
    "duration": 631,
    "start_time": "2022-12-08T19:41:24.736Z"
   },
   {
    "duration": 649,
    "start_time": "2022-12-08T19:41:32.331Z"
   },
   {
    "duration": 710,
    "start_time": "2022-12-08T19:41:34.587Z"
   },
   {
    "duration": 15,
    "start_time": "2022-12-08T19:41:36.959Z"
   },
   {
    "duration": 81,
    "start_time": "2022-12-08T19:41:41.997Z"
   },
   {
    "duration": 4,
    "start_time": "2022-12-08T19:42:34.048Z"
   },
   {
    "duration": 60,
    "start_time": "2022-12-08T19:42:34.053Z"
   },
   {
    "duration": 14,
    "start_time": "2022-12-08T19:42:34.115Z"
   },
   {
    "duration": 15,
    "start_time": "2022-12-08T19:42:34.130Z"
   },
   {
    "duration": 17,
    "start_time": "2022-12-08T19:42:34.147Z"
   },
   {
    "duration": 22,
    "start_time": "2022-12-08T19:42:34.166Z"
   },
   {
    "duration": 3,
    "start_time": "2022-12-08T19:42:34.189Z"
   },
   {
    "duration": 14,
    "start_time": "2022-12-08T19:42:34.193Z"
   },
   {
    "duration": 10,
    "start_time": "2022-12-08T19:42:34.209Z"
   },
   {
    "duration": 10,
    "start_time": "2022-12-08T19:42:34.220Z"
   },
   {
    "duration": 5,
    "start_time": "2022-12-08T19:42:34.233Z"
   },
   {
    "duration": 4,
    "start_time": "2022-12-08T19:42:34.255Z"
   },
   {
    "duration": 11,
    "start_time": "2022-12-08T19:42:34.261Z"
   },
   {
    "duration": 10,
    "start_time": "2022-12-08T19:42:34.273Z"
   },
   {
    "duration": 10,
    "start_time": "2022-12-08T19:42:34.285Z"
   },
   {
    "duration": 4,
    "start_time": "2022-12-08T19:42:34.296Z"
   },
   {
    "duration": 22,
    "start_time": "2022-12-08T19:42:34.302Z"
   },
   {
    "duration": 5,
    "start_time": "2022-12-08T19:42:34.325Z"
   },
   {
    "duration": 3,
    "start_time": "2022-12-08T19:42:34.355Z"
   },
   {
    "duration": 25,
    "start_time": "2022-12-08T19:42:34.360Z"
   },
   {
    "duration": 4,
    "start_time": "2022-12-08T19:42:34.387Z"
   },
   {
    "duration": 16,
    "start_time": "2022-12-08T19:42:34.393Z"
   },
   {
    "duration": 34,
    "start_time": "2022-12-08T19:42:34.411Z"
   },
   {
    "duration": 0,
    "start_time": "2022-12-08T19:42:34.455Z"
   },
   {
    "duration": 0,
    "start_time": "2022-12-08T19:42:34.457Z"
   },
   {
    "duration": 0,
    "start_time": "2022-12-08T19:42:34.458Z"
   },
   {
    "duration": 0,
    "start_time": "2022-12-08T19:42:34.459Z"
   },
   {
    "duration": 0,
    "start_time": "2022-12-08T19:42:34.460Z"
   },
   {
    "duration": 0,
    "start_time": "2022-12-08T19:42:34.461Z"
   },
   {
    "duration": 0,
    "start_time": "2022-12-08T19:42:34.462Z"
   },
   {
    "duration": 0,
    "start_time": "2022-12-08T19:42:34.463Z"
   },
   {
    "duration": 0,
    "start_time": "2022-12-08T19:42:34.464Z"
   },
   {
    "duration": 0,
    "start_time": "2022-12-08T19:42:34.465Z"
   },
   {
    "duration": 0,
    "start_time": "2022-12-08T19:42:34.466Z"
   },
   {
    "duration": 0,
    "start_time": "2022-12-08T19:42:34.467Z"
   },
   {
    "duration": 0,
    "start_time": "2022-12-08T19:42:34.468Z"
   },
   {
    "duration": 0,
    "start_time": "2022-12-08T19:42:34.469Z"
   },
   {
    "duration": 0,
    "start_time": "2022-12-08T19:42:34.470Z"
   },
   {
    "duration": 0,
    "start_time": "2022-12-08T19:42:34.471Z"
   },
   {
    "duration": 0,
    "start_time": "2022-12-08T19:42:34.472Z"
   },
   {
    "duration": 0,
    "start_time": "2022-12-08T19:42:34.474Z"
   },
   {
    "duration": 0,
    "start_time": "2022-12-08T19:42:34.474Z"
   },
   {
    "duration": 0,
    "start_time": "2022-12-08T19:42:34.475Z"
   },
   {
    "duration": 1276,
    "start_time": "2022-12-08T19:42:48.029Z"
   },
   {
    "duration": 40,
    "start_time": "2022-12-08T19:42:49.307Z"
   },
   {
    "duration": 17,
    "start_time": "2022-12-08T19:42:49.349Z"
   },
   {
    "duration": 12,
    "start_time": "2022-12-08T19:42:49.367Z"
   },
   {
    "duration": 14,
    "start_time": "2022-12-08T19:42:49.381Z"
   },
   {
    "duration": 19,
    "start_time": "2022-12-08T19:42:49.397Z"
   },
   {
    "duration": 3,
    "start_time": "2022-12-08T19:42:49.418Z"
   },
   {
    "duration": 37,
    "start_time": "2022-12-08T19:42:49.422Z"
   },
   {
    "duration": 7,
    "start_time": "2022-12-08T19:42:49.461Z"
   },
   {
    "duration": 8,
    "start_time": "2022-12-08T19:42:49.470Z"
   },
   {
    "duration": 18,
    "start_time": "2022-12-08T19:42:49.480Z"
   },
   {
    "duration": 6,
    "start_time": "2022-12-08T19:42:49.500Z"
   },
   {
    "duration": 7,
    "start_time": "2022-12-08T19:42:49.508Z"
   },
   {
    "duration": 17,
    "start_time": "2022-12-08T19:42:49.518Z"
   },
   {
    "duration": 22,
    "start_time": "2022-12-08T19:42:49.537Z"
   },
   {
    "duration": 6,
    "start_time": "2022-12-08T19:42:49.561Z"
   },
   {
    "duration": 25,
    "start_time": "2022-12-08T19:42:49.568Z"
   },
   {
    "duration": 4,
    "start_time": "2022-12-08T19:42:49.595Z"
   },
   {
    "duration": 9,
    "start_time": "2022-12-08T19:42:49.600Z"
   },
   {
    "duration": 15,
    "start_time": "2022-12-08T19:42:49.610Z"
   },
   {
    "duration": 7,
    "start_time": "2022-12-08T19:42:49.627Z"
   },
   {
    "duration": 23,
    "start_time": "2022-12-08T19:42:49.635Z"
   },
   {
    "duration": 136,
    "start_time": "2022-12-08T19:42:49.659Z"
   },
   {
    "duration": 0,
    "start_time": "2022-12-08T19:42:49.797Z"
   },
   {
    "duration": 0,
    "start_time": "2022-12-08T19:42:49.798Z"
   },
   {
    "duration": 0,
    "start_time": "2022-12-08T19:42:49.800Z"
   },
   {
    "duration": 0,
    "start_time": "2022-12-08T19:42:49.801Z"
   },
   {
    "duration": 0,
    "start_time": "2022-12-08T19:42:49.802Z"
   },
   {
    "duration": 0,
    "start_time": "2022-12-08T19:42:49.803Z"
   },
   {
    "duration": 0,
    "start_time": "2022-12-08T19:42:49.805Z"
   },
   {
    "duration": 0,
    "start_time": "2022-12-08T19:42:49.806Z"
   },
   {
    "duration": 0,
    "start_time": "2022-12-08T19:42:49.807Z"
   },
   {
    "duration": 0,
    "start_time": "2022-12-08T19:42:49.808Z"
   },
   {
    "duration": 0,
    "start_time": "2022-12-08T19:42:49.810Z"
   },
   {
    "duration": 0,
    "start_time": "2022-12-08T19:42:49.811Z"
   },
   {
    "duration": 0,
    "start_time": "2022-12-08T19:42:49.811Z"
   },
   {
    "duration": 0,
    "start_time": "2022-12-08T19:42:49.813Z"
   },
   {
    "duration": 0,
    "start_time": "2022-12-08T19:42:49.814Z"
   },
   {
    "duration": 0,
    "start_time": "2022-12-08T19:42:49.815Z"
   },
   {
    "duration": 0,
    "start_time": "2022-12-08T19:42:49.816Z"
   },
   {
    "duration": 0,
    "start_time": "2022-12-08T19:42:49.855Z"
   },
   {
    "duration": 0,
    "start_time": "2022-12-08T19:42:49.856Z"
   },
   {
    "duration": 0,
    "start_time": "2022-12-08T19:42:49.857Z"
   },
   {
    "duration": 5,
    "start_time": "2022-12-08T19:42:57.020Z"
   },
   {
    "duration": 47,
    "start_time": "2022-12-08T19:42:57.026Z"
   },
   {
    "duration": 12,
    "start_time": "2022-12-08T19:42:57.075Z"
   },
   {
    "duration": 29,
    "start_time": "2022-12-08T19:42:57.089Z"
   },
   {
    "duration": 13,
    "start_time": "2022-12-08T19:42:57.121Z"
   },
   {
    "duration": 26,
    "start_time": "2022-12-08T19:42:57.136Z"
   },
   {
    "duration": 2,
    "start_time": "2022-12-08T19:42:57.163Z"
   },
   {
    "duration": 11,
    "start_time": "2022-12-08T19:42:57.167Z"
   },
   {
    "duration": 10,
    "start_time": "2022-12-08T19:42:57.179Z"
   },
   {
    "duration": 5,
    "start_time": "2022-12-08T19:42:57.190Z"
   },
   {
    "duration": 6,
    "start_time": "2022-12-08T19:42:57.197Z"
   },
   {
    "duration": 7,
    "start_time": "2022-12-08T19:42:57.204Z"
   },
   {
    "duration": 7,
    "start_time": "2022-12-08T19:42:57.212Z"
   },
   {
    "duration": 34,
    "start_time": "2022-12-08T19:42:57.222Z"
   },
   {
    "duration": 7,
    "start_time": "2022-12-08T19:42:57.257Z"
   },
   {
    "duration": 6,
    "start_time": "2022-12-08T19:42:57.265Z"
   },
   {
    "duration": 22,
    "start_time": "2022-12-08T19:42:57.272Z"
   },
   {
    "duration": 5,
    "start_time": "2022-12-08T19:42:57.295Z"
   },
   {
    "duration": 13,
    "start_time": "2022-12-08T19:42:57.301Z"
   },
   {
    "duration": 46,
    "start_time": "2022-12-08T19:42:57.316Z"
   },
   {
    "duration": 22,
    "start_time": "2022-12-08T19:42:57.364Z"
   },
   {
    "duration": 19,
    "start_time": "2022-12-08T19:42:57.388Z"
   },
   {
    "duration": 35,
    "start_time": "2022-12-08T19:42:57.408Z"
   },
   {
    "duration": 0,
    "start_time": "2022-12-08T19:42:57.444Z"
   },
   {
    "duration": 0,
    "start_time": "2022-12-08T19:42:57.446Z"
   },
   {
    "duration": 0,
    "start_time": "2022-12-08T19:42:57.447Z"
   },
   {
    "duration": 0,
    "start_time": "2022-12-08T19:42:57.448Z"
   },
   {
    "duration": 1,
    "start_time": "2022-12-08T19:42:57.449Z"
   },
   {
    "duration": 0,
    "start_time": "2022-12-08T19:42:57.450Z"
   },
   {
    "duration": 0,
    "start_time": "2022-12-08T19:42:57.451Z"
   },
   {
    "duration": 0,
    "start_time": "2022-12-08T19:42:57.452Z"
   },
   {
    "duration": 0,
    "start_time": "2022-12-08T19:42:57.454Z"
   },
   {
    "duration": 1,
    "start_time": "2022-12-08T19:42:57.454Z"
   },
   {
    "duration": 0,
    "start_time": "2022-12-08T19:42:57.455Z"
   },
   {
    "duration": 0,
    "start_time": "2022-12-08T19:42:57.456Z"
   },
   {
    "duration": 0,
    "start_time": "2022-12-08T19:42:57.457Z"
   },
   {
    "duration": 0,
    "start_time": "2022-12-08T19:42:57.458Z"
   },
   {
    "duration": 0,
    "start_time": "2022-12-08T19:42:57.459Z"
   },
   {
    "duration": 0,
    "start_time": "2022-12-08T19:42:57.460Z"
   },
   {
    "duration": 0,
    "start_time": "2022-12-08T19:42:57.461Z"
   },
   {
    "duration": 0,
    "start_time": "2022-12-08T19:42:57.462Z"
   },
   {
    "duration": 0,
    "start_time": "2022-12-08T19:42:57.464Z"
   },
   {
    "duration": 0,
    "start_time": "2022-12-08T19:42:57.465Z"
   },
   {
    "duration": 5,
    "start_time": "2022-12-08T19:43:06.480Z"
   },
   {
    "duration": 43,
    "start_time": "2022-12-08T19:43:06.487Z"
   },
   {
    "duration": 13,
    "start_time": "2022-12-08T19:43:06.531Z"
   },
   {
    "duration": 22,
    "start_time": "2022-12-08T19:43:06.546Z"
   },
   {
    "duration": 30,
    "start_time": "2022-12-08T19:43:06.569Z"
   },
   {
    "duration": 26,
    "start_time": "2022-12-08T19:43:06.601Z"
   },
   {
    "duration": 2,
    "start_time": "2022-12-08T19:43:06.629Z"
   },
   {
    "duration": 37,
    "start_time": "2022-12-08T19:43:06.633Z"
   },
   {
    "duration": 30,
    "start_time": "2022-12-08T19:43:06.673Z"
   },
   {
    "duration": 10,
    "start_time": "2022-12-08T19:43:06.704Z"
   },
   {
    "duration": 25,
    "start_time": "2022-12-08T19:43:06.715Z"
   },
   {
    "duration": 15,
    "start_time": "2022-12-08T19:43:06.742Z"
   },
   {
    "duration": 20,
    "start_time": "2022-12-08T19:43:06.759Z"
   },
   {
    "duration": 35,
    "start_time": "2022-12-08T19:43:06.780Z"
   },
   {
    "duration": 22,
    "start_time": "2022-12-08T19:43:06.816Z"
   },
   {
    "duration": 40,
    "start_time": "2022-12-08T19:43:06.839Z"
   },
   {
    "duration": 44,
    "start_time": "2022-12-08T19:43:06.881Z"
   },
   {
    "duration": 6,
    "start_time": "2022-12-08T19:43:06.927Z"
   },
   {
    "duration": 30,
    "start_time": "2022-12-08T19:43:06.934Z"
   },
   {
    "duration": 23,
    "start_time": "2022-12-08T19:43:06.966Z"
   },
   {
    "duration": 24,
    "start_time": "2022-12-08T19:43:06.991Z"
   },
   {
    "duration": 21,
    "start_time": "2022-12-08T19:43:07.017Z"
   },
   {
    "duration": 50,
    "start_time": "2022-12-08T19:43:07.040Z"
   },
   {
    "duration": 12,
    "start_time": "2022-12-08T19:43:07.094Z"
   },
   {
    "duration": 12,
    "start_time": "2022-12-08T19:43:07.107Z"
   },
   {
    "duration": 21,
    "start_time": "2022-12-08T19:43:07.120Z"
   },
   {
    "duration": 1014,
    "start_time": "2022-12-08T19:43:07.143Z"
   },
   {
    "duration": 95,
    "start_time": "2022-12-08T19:43:08.162Z"
   },
   {
    "duration": 20,
    "start_time": "2022-12-08T19:43:08.258Z"
   },
   {
    "duration": 5,
    "start_time": "2022-12-08T19:43:08.279Z"
   },
   {
    "duration": 17,
    "start_time": "2022-12-08T19:43:08.286Z"
   },
   {
    "duration": 1108,
    "start_time": "2022-12-08T19:43:08.305Z"
   },
   {
    "duration": 14,
    "start_time": "2022-12-08T19:43:09.414Z"
   },
   {
    "duration": 6,
    "start_time": "2022-12-08T19:43:09.429Z"
   },
   {
    "duration": 28,
    "start_time": "2022-12-08T19:43:09.436Z"
   },
   {
    "duration": 453,
    "start_time": "2022-12-08T19:43:09.466Z"
   },
   {
    "duration": 3,
    "start_time": "2022-12-08T19:43:09.921Z"
   },
   {
    "duration": 5,
    "start_time": "2022-12-08T19:43:09.926Z"
   },
   {
    "duration": 5,
    "start_time": "2022-12-08T19:43:09.933Z"
   },
   {
    "duration": 16,
    "start_time": "2022-12-08T19:43:09.939Z"
   },
   {
    "duration": 1248,
    "start_time": "2022-12-08T19:43:09.956Z"
   },
   {
    "duration": 126,
    "start_time": "2022-12-08T19:43:11.206Z"
   },
   {
    "duration": 383,
    "start_time": "2022-12-08T19:43:11.334Z"
   },
   {
    "duration": 1582,
    "start_time": "2022-12-09T06:33:06.757Z"
   },
   {
    "duration": 117,
    "start_time": "2022-12-09T06:33:08.341Z"
   },
   {
    "duration": 23,
    "start_time": "2022-12-09T06:33:08.459Z"
   },
   {
    "duration": 12,
    "start_time": "2022-12-09T06:33:08.484Z"
   },
   {
    "duration": 22,
    "start_time": "2022-12-09T06:33:08.507Z"
   },
   {
    "duration": 20,
    "start_time": "2022-12-09T06:33:08.531Z"
   },
   {
    "duration": 2,
    "start_time": "2022-12-09T06:33:08.554Z"
   },
   {
    "duration": 14,
    "start_time": "2022-12-09T06:33:08.557Z"
   },
   {
    "duration": 8,
    "start_time": "2022-12-09T06:33:08.572Z"
   },
   {
    "duration": 17,
    "start_time": "2022-12-09T06:33:08.582Z"
   },
   {
    "duration": 4,
    "start_time": "2022-12-09T06:33:08.601Z"
   },
   {
    "duration": 13,
    "start_time": "2022-12-09T06:33:08.606Z"
   },
   {
    "duration": 8,
    "start_time": "2022-12-09T06:33:08.621Z"
   },
   {
    "duration": 8,
    "start_time": "2022-12-09T06:33:08.633Z"
   },
   {
    "duration": 10,
    "start_time": "2022-12-09T06:33:08.644Z"
   },
   {
    "duration": 6,
    "start_time": "2022-12-09T06:33:08.655Z"
   },
   {
    "duration": 36,
    "start_time": "2022-12-09T06:33:08.663Z"
   },
   {
    "duration": 5,
    "start_time": "2022-12-09T06:33:08.701Z"
   },
   {
    "duration": 16,
    "start_time": "2022-12-09T06:33:08.708Z"
   },
   {
    "duration": 17,
    "start_time": "2022-12-09T06:33:08.726Z"
   },
   {
    "duration": 3,
    "start_time": "2022-12-09T06:33:08.745Z"
   },
   {
    "duration": 4,
    "start_time": "2022-12-09T06:33:08.750Z"
   },
   {
    "duration": 163,
    "start_time": "2022-12-09T06:33:08.755Z"
   },
   {
    "duration": 0,
    "start_time": "2022-12-09T06:33:08.921Z"
   },
   {
    "duration": 0,
    "start_time": "2022-12-09T06:33:08.922Z"
   },
   {
    "duration": 0,
    "start_time": "2022-12-09T06:33:08.923Z"
   },
   {
    "duration": 0,
    "start_time": "2022-12-09T06:33:08.924Z"
   },
   {
    "duration": 0,
    "start_time": "2022-12-09T06:33:08.925Z"
   },
   {
    "duration": 1,
    "start_time": "2022-12-09T06:33:08.926Z"
   },
   {
    "duration": 0,
    "start_time": "2022-12-09T06:33:08.928Z"
   },
   {
    "duration": 0,
    "start_time": "2022-12-09T06:33:08.929Z"
   },
   {
    "duration": 0,
    "start_time": "2022-12-09T06:33:08.931Z"
   },
   {
    "duration": 0,
    "start_time": "2022-12-09T06:33:08.933Z"
   },
   {
    "duration": 0,
    "start_time": "2022-12-09T06:33:08.934Z"
   },
   {
    "duration": 0,
    "start_time": "2022-12-09T06:33:08.935Z"
   },
   {
    "duration": 0,
    "start_time": "2022-12-09T06:33:08.936Z"
   },
   {
    "duration": 0,
    "start_time": "2022-12-09T06:33:08.937Z"
   },
   {
    "duration": 0,
    "start_time": "2022-12-09T06:33:08.939Z"
   },
   {
    "duration": 0,
    "start_time": "2022-12-09T06:33:08.940Z"
   },
   {
    "duration": 0,
    "start_time": "2022-12-09T06:33:08.942Z"
   },
   {
    "duration": 0,
    "start_time": "2022-12-09T06:33:08.942Z"
   },
   {
    "duration": 0,
    "start_time": "2022-12-09T06:33:08.944Z"
   },
   {
    "duration": 0,
    "start_time": "2022-12-09T06:33:08.946Z"
   },
   {
    "duration": 1221,
    "start_time": "2022-12-09T06:43:52.750Z"
   },
   {
    "duration": 39,
    "start_time": "2022-12-09T06:43:53.973Z"
   },
   {
    "duration": 15,
    "start_time": "2022-12-09T06:43:54.014Z"
   },
   {
    "duration": 11,
    "start_time": "2022-12-09T06:43:54.031Z"
   },
   {
    "duration": 21,
    "start_time": "2022-12-09T06:43:54.043Z"
   },
   {
    "duration": 18,
    "start_time": "2022-12-09T06:43:54.066Z"
   },
   {
    "duration": 12,
    "start_time": "2022-12-09T06:43:54.086Z"
   },
   {
    "duration": 12,
    "start_time": "2022-12-09T06:43:54.099Z"
   },
   {
    "duration": 8,
    "start_time": "2022-12-09T06:43:54.112Z"
   },
   {
    "duration": 4,
    "start_time": "2022-12-09T06:43:54.123Z"
   },
   {
    "duration": 10,
    "start_time": "2022-12-09T06:43:54.129Z"
   },
   {
    "duration": 14,
    "start_time": "2022-12-09T06:43:54.141Z"
   },
   {
    "duration": 11,
    "start_time": "2022-12-09T06:43:54.156Z"
   },
   {
    "duration": 14,
    "start_time": "2022-12-09T06:43:54.169Z"
   },
   {
    "duration": 12,
    "start_time": "2022-12-09T06:43:54.185Z"
   },
   {
    "duration": 6,
    "start_time": "2022-12-09T06:43:54.198Z"
   },
   {
    "duration": 23,
    "start_time": "2022-12-09T06:43:54.205Z"
   },
   {
    "duration": 4,
    "start_time": "2022-12-09T06:43:54.229Z"
   },
   {
    "duration": 8,
    "start_time": "2022-12-09T06:43:54.234Z"
   },
   {
    "duration": 16,
    "start_time": "2022-12-09T06:43:54.243Z"
   },
   {
    "duration": 3,
    "start_time": "2022-12-09T06:43:54.260Z"
   },
   {
    "duration": 9,
    "start_time": "2022-12-09T06:43:54.265Z"
   },
   {
    "duration": 123,
    "start_time": "2022-12-09T06:43:54.276Z"
   },
   {
    "duration": 0,
    "start_time": "2022-12-09T06:43:54.401Z"
   },
   {
    "duration": 0,
    "start_time": "2022-12-09T06:43:54.403Z"
   },
   {
    "duration": 0,
    "start_time": "2022-12-09T06:43:54.404Z"
   },
   {
    "duration": 0,
    "start_time": "2022-12-09T06:43:54.405Z"
   },
   {
    "duration": 0,
    "start_time": "2022-12-09T06:43:54.406Z"
   },
   {
    "duration": 0,
    "start_time": "2022-12-09T06:43:54.407Z"
   },
   {
    "duration": 0,
    "start_time": "2022-12-09T06:43:54.409Z"
   },
   {
    "duration": 0,
    "start_time": "2022-12-09T06:43:54.410Z"
   },
   {
    "duration": 0,
    "start_time": "2022-12-09T06:43:54.411Z"
   },
   {
    "duration": 0,
    "start_time": "2022-12-09T06:43:54.412Z"
   },
   {
    "duration": 0,
    "start_time": "2022-12-09T06:43:54.413Z"
   },
   {
    "duration": 0,
    "start_time": "2022-12-09T06:43:54.414Z"
   },
   {
    "duration": 0,
    "start_time": "2022-12-09T06:43:54.415Z"
   },
   {
    "duration": 0,
    "start_time": "2022-12-09T06:43:54.416Z"
   },
   {
    "duration": 0,
    "start_time": "2022-12-09T06:43:54.417Z"
   },
   {
    "duration": 0,
    "start_time": "2022-12-09T06:43:54.418Z"
   },
   {
    "duration": 0,
    "start_time": "2022-12-09T06:43:54.419Z"
   },
   {
    "duration": 0,
    "start_time": "2022-12-09T06:43:54.420Z"
   },
   {
    "duration": 0,
    "start_time": "2022-12-09T06:43:54.421Z"
   },
   {
    "duration": 0,
    "start_time": "2022-12-09T06:43:54.422Z"
   },
   {
    "duration": 1233,
    "start_time": "2022-12-09T06:45:30.359Z"
   },
   {
    "duration": 40,
    "start_time": "2022-12-09T06:45:31.593Z"
   },
   {
    "duration": 16,
    "start_time": "2022-12-09T06:45:31.637Z"
   },
   {
    "duration": 14,
    "start_time": "2022-12-09T06:45:31.655Z"
   },
   {
    "duration": 14,
    "start_time": "2022-12-09T06:45:31.671Z"
   },
   {
    "duration": 23,
    "start_time": "2022-12-09T06:45:31.686Z"
   },
   {
    "duration": 3,
    "start_time": "2022-12-09T06:45:31.711Z"
   },
   {
    "duration": 11,
    "start_time": "2022-12-09T06:45:31.716Z"
   },
   {
    "duration": 5,
    "start_time": "2022-12-09T06:45:31.730Z"
   },
   {
    "duration": 5,
    "start_time": "2022-12-09T06:45:31.737Z"
   },
   {
    "duration": 10,
    "start_time": "2022-12-09T06:45:31.743Z"
   },
   {
    "duration": 8,
    "start_time": "2022-12-09T06:45:31.754Z"
   },
   {
    "duration": 9,
    "start_time": "2022-12-09T06:45:31.764Z"
   },
   {
    "duration": 26,
    "start_time": "2022-12-09T06:45:31.775Z"
   },
   {
    "duration": 17,
    "start_time": "2022-12-09T06:45:31.810Z"
   },
   {
    "duration": 7,
    "start_time": "2022-12-09T06:45:31.828Z"
   },
   {
    "duration": 21,
    "start_time": "2022-12-09T06:45:31.837Z"
   },
   {
    "duration": 4,
    "start_time": "2022-12-09T06:45:31.859Z"
   },
   {
    "duration": 7,
    "start_time": "2022-12-09T06:45:31.864Z"
   },
   {
    "duration": 39,
    "start_time": "2022-12-09T06:45:31.872Z"
   },
   {
    "duration": 4,
    "start_time": "2022-12-09T06:45:31.913Z"
   },
   {
    "duration": 12,
    "start_time": "2022-12-09T06:45:31.918Z"
   },
   {
    "duration": 117,
    "start_time": "2022-12-09T06:45:31.931Z"
   },
   {
    "duration": 0,
    "start_time": "2022-12-09T06:45:32.050Z"
   },
   {
    "duration": 0,
    "start_time": "2022-12-09T06:45:32.051Z"
   },
   {
    "duration": 0,
    "start_time": "2022-12-09T06:45:32.052Z"
   },
   {
    "duration": 0,
    "start_time": "2022-12-09T06:45:32.054Z"
   },
   {
    "duration": 0,
    "start_time": "2022-12-09T06:45:32.055Z"
   },
   {
    "duration": 0,
    "start_time": "2022-12-09T06:45:32.057Z"
   },
   {
    "duration": 0,
    "start_time": "2022-12-09T06:45:32.058Z"
   },
   {
    "duration": 0,
    "start_time": "2022-12-09T06:45:32.060Z"
   },
   {
    "duration": 0,
    "start_time": "2022-12-09T06:45:32.061Z"
   },
   {
    "duration": 0,
    "start_time": "2022-12-09T06:45:32.062Z"
   },
   {
    "duration": 0,
    "start_time": "2022-12-09T06:45:32.064Z"
   },
   {
    "duration": 0,
    "start_time": "2022-12-09T06:45:32.065Z"
   },
   {
    "duration": 0,
    "start_time": "2022-12-09T06:45:32.067Z"
   },
   {
    "duration": 0,
    "start_time": "2022-12-09T06:45:32.097Z"
   },
   {
    "duration": 0,
    "start_time": "2022-12-09T06:45:32.098Z"
   },
   {
    "duration": 0,
    "start_time": "2022-12-09T06:45:32.099Z"
   },
   {
    "duration": 0,
    "start_time": "2022-12-09T06:45:32.101Z"
   },
   {
    "duration": 0,
    "start_time": "2022-12-09T06:45:32.102Z"
   },
   {
    "duration": 0,
    "start_time": "2022-12-09T06:45:32.104Z"
   },
   {
    "duration": 0,
    "start_time": "2022-12-09T06:45:32.105Z"
   },
   {
    "duration": 1390,
    "start_time": "2022-12-09T07:07:18.762Z"
   },
   {
    "duration": 41,
    "start_time": "2022-12-09T07:07:20.154Z"
   },
   {
    "duration": 16,
    "start_time": "2022-12-09T07:07:20.196Z"
   },
   {
    "duration": 12,
    "start_time": "2022-12-09T07:07:20.214Z"
   },
   {
    "duration": 14,
    "start_time": "2022-12-09T07:07:20.228Z"
   },
   {
    "duration": 19,
    "start_time": "2022-12-09T07:07:20.244Z"
   },
   {
    "duration": 2,
    "start_time": "2022-12-09T07:07:20.264Z"
   },
   {
    "duration": 43,
    "start_time": "2022-12-09T07:07:20.267Z"
   },
   {
    "duration": 7,
    "start_time": "2022-12-09T07:07:20.312Z"
   },
   {
    "duration": 6,
    "start_time": "2022-12-09T07:07:20.321Z"
   },
   {
    "duration": 6,
    "start_time": "2022-12-09T07:07:20.329Z"
   },
   {
    "duration": 5,
    "start_time": "2022-12-09T07:07:20.336Z"
   },
   {
    "duration": 8,
    "start_time": "2022-12-09T07:07:20.343Z"
   },
   {
    "duration": 33,
    "start_time": "2022-12-09T07:07:20.352Z"
   },
   {
    "duration": 13,
    "start_time": "2022-12-09T07:07:20.387Z"
   },
   {
    "duration": 6,
    "start_time": "2022-12-09T07:07:20.402Z"
   },
   {
    "duration": 20,
    "start_time": "2022-12-09T07:07:20.409Z"
   },
   {
    "duration": 4,
    "start_time": "2022-12-09T07:07:20.431Z"
   },
   {
    "duration": 6,
    "start_time": "2022-12-09T07:07:20.436Z"
   },
   {
    "duration": 12,
    "start_time": "2022-12-09T07:07:20.443Z"
   },
   {
    "duration": 5,
    "start_time": "2022-12-09T07:07:20.456Z"
   },
   {
    "duration": 13,
    "start_time": "2022-12-09T07:07:20.462Z"
   },
   {
    "duration": 129,
    "start_time": "2022-12-09T07:07:20.476Z"
   },
   {
    "duration": 0,
    "start_time": "2022-12-09T07:07:20.607Z"
   },
   {
    "duration": 0,
    "start_time": "2022-12-09T07:07:20.608Z"
   },
   {
    "duration": 0,
    "start_time": "2022-12-09T07:07:20.609Z"
   },
   {
    "duration": 0,
    "start_time": "2022-12-09T07:07:20.610Z"
   },
   {
    "duration": 0,
    "start_time": "2022-12-09T07:07:20.611Z"
   },
   {
    "duration": 0,
    "start_time": "2022-12-09T07:07:20.613Z"
   },
   {
    "duration": 0,
    "start_time": "2022-12-09T07:07:20.614Z"
   },
   {
    "duration": 0,
    "start_time": "2022-12-09T07:07:20.615Z"
   },
   {
    "duration": 0,
    "start_time": "2022-12-09T07:07:20.615Z"
   },
   {
    "duration": 0,
    "start_time": "2022-12-09T07:07:20.616Z"
   },
   {
    "duration": 0,
    "start_time": "2022-12-09T07:07:20.617Z"
   },
   {
    "duration": 0,
    "start_time": "2022-12-09T07:07:20.618Z"
   },
   {
    "duration": 0,
    "start_time": "2022-12-09T07:07:20.619Z"
   },
   {
    "duration": 0,
    "start_time": "2022-12-09T07:07:20.620Z"
   },
   {
    "duration": 0,
    "start_time": "2022-12-09T07:07:20.621Z"
   },
   {
    "duration": 0,
    "start_time": "2022-12-09T07:07:20.622Z"
   },
   {
    "duration": 0,
    "start_time": "2022-12-09T07:07:20.622Z"
   },
   {
    "duration": 0,
    "start_time": "2022-12-09T07:07:20.623Z"
   },
   {
    "duration": 0,
    "start_time": "2022-12-09T07:07:20.624Z"
   },
   {
    "duration": 0,
    "start_time": "2022-12-09T07:07:20.625Z"
   },
   {
    "duration": 3,
    "start_time": "2022-12-09T07:08:21.469Z"
   },
   {
    "duration": 5,
    "start_time": "2022-12-09T07:08:21.893Z"
   },
   {
    "duration": 26,
    "start_time": "2022-12-09T07:08:22.241Z"
   },
   {
    "duration": 3,
    "start_time": "2022-12-09T07:09:10.074Z"
   },
   {
    "duration": 3,
    "start_time": "2022-12-09T07:09:10.467Z"
   },
   {
    "duration": 21,
    "start_time": "2022-12-09T07:09:10.898Z"
   },
   {
    "duration": 1316,
    "start_time": "2022-12-09T07:14:34.677Z"
   },
   {
    "duration": 40,
    "start_time": "2022-12-09T07:14:35.995Z"
   },
   {
    "duration": 15,
    "start_time": "2022-12-09T07:14:36.037Z"
   },
   {
    "duration": 12,
    "start_time": "2022-12-09T07:14:36.053Z"
   },
   {
    "duration": 13,
    "start_time": "2022-12-09T07:14:36.067Z"
   },
   {
    "duration": 22,
    "start_time": "2022-12-09T07:14:36.082Z"
   },
   {
    "duration": 3,
    "start_time": "2022-12-09T07:14:36.106Z"
   },
   {
    "duration": 36,
    "start_time": "2022-12-09T07:14:36.110Z"
   },
   {
    "duration": 40,
    "start_time": "2022-12-09T07:14:36.148Z"
   },
   {
    "duration": 33,
    "start_time": "2022-12-09T07:14:36.190Z"
   },
   {
    "duration": 16,
    "start_time": "2022-12-09T07:14:36.224Z"
   },
   {
    "duration": 13,
    "start_time": "2022-12-09T07:14:36.241Z"
   },
   {
    "duration": 19,
    "start_time": "2022-12-09T07:14:36.255Z"
   },
   {
    "duration": 14,
    "start_time": "2022-12-09T07:14:36.277Z"
   },
   {
    "duration": 19,
    "start_time": "2022-12-09T07:14:36.293Z"
   },
   {
    "duration": 18,
    "start_time": "2022-12-09T07:14:36.314Z"
   },
   {
    "duration": 44,
    "start_time": "2022-12-09T07:14:36.334Z"
   },
   {
    "duration": 4,
    "start_time": "2022-12-09T07:14:36.379Z"
   },
   {
    "duration": 21,
    "start_time": "2022-12-09T07:14:36.384Z"
   },
   {
    "duration": 28,
    "start_time": "2022-12-09T07:14:36.407Z"
   },
   {
    "duration": 6,
    "start_time": "2022-12-09T07:14:36.437Z"
   },
   {
    "duration": 10,
    "start_time": "2022-12-09T07:14:36.444Z"
   },
   {
    "duration": 124,
    "start_time": "2022-12-09T07:14:36.456Z"
   },
   {
    "duration": 0,
    "start_time": "2022-12-09T07:14:36.582Z"
   },
   {
    "duration": 0,
    "start_time": "2022-12-09T07:14:36.584Z"
   },
   {
    "duration": 0,
    "start_time": "2022-12-09T07:14:36.585Z"
   },
   {
    "duration": 0,
    "start_time": "2022-12-09T07:14:36.585Z"
   },
   {
    "duration": 0,
    "start_time": "2022-12-09T07:14:36.597Z"
   },
   {
    "duration": 0,
    "start_time": "2022-12-09T07:14:36.598Z"
   },
   {
    "duration": 0,
    "start_time": "2022-12-09T07:14:36.600Z"
   },
   {
    "duration": 0,
    "start_time": "2022-12-09T07:14:36.600Z"
   },
   {
    "duration": 0,
    "start_time": "2022-12-09T07:14:36.601Z"
   },
   {
    "duration": 0,
    "start_time": "2022-12-09T07:14:36.602Z"
   },
   {
    "duration": 0,
    "start_time": "2022-12-09T07:14:36.603Z"
   },
   {
    "duration": 0,
    "start_time": "2022-12-09T07:14:36.604Z"
   },
   {
    "duration": 0,
    "start_time": "2022-12-09T07:14:36.605Z"
   },
   {
    "duration": 0,
    "start_time": "2022-12-09T07:14:36.606Z"
   },
   {
    "duration": 0,
    "start_time": "2022-12-09T07:14:36.607Z"
   },
   {
    "duration": 0,
    "start_time": "2022-12-09T07:14:36.607Z"
   },
   {
    "duration": 0,
    "start_time": "2022-12-09T07:14:36.608Z"
   },
   {
    "duration": 0,
    "start_time": "2022-12-09T07:14:36.609Z"
   },
   {
    "duration": 0,
    "start_time": "2022-12-09T07:14:36.610Z"
   },
   {
    "duration": 0,
    "start_time": "2022-12-09T07:14:36.611Z"
   },
   {
    "duration": 3,
    "start_time": "2022-12-09T07:19:54.593Z"
   },
   {
    "duration": 30,
    "start_time": "2022-12-09T07:19:55.132Z"
   },
   {
    "duration": 12,
    "start_time": "2022-12-09T07:19:58.399Z"
   },
   {
    "duration": 50,
    "start_time": "2022-12-09T07:20:28.269Z"
   },
   {
    "duration": 26,
    "start_time": "2022-12-09T07:20:28.592Z"
   },
   {
    "duration": 52,
    "start_time": "2022-12-09T07:20:59.663Z"
   },
   {
    "duration": 3,
    "start_time": "2022-12-09T07:21:17.240Z"
   },
   {
    "duration": 22,
    "start_time": "2022-12-09T07:21:17.829Z"
   },
   {
    "duration": 3,
    "start_time": "2022-12-09T07:21:28.198Z"
   },
   {
    "duration": 22,
    "start_time": "2022-12-09T07:21:28.868Z"
   },
   {
    "duration": 5530,
    "start_time": "2022-12-09T07:35:40.247Z"
   },
   {
    "duration": 4,
    "start_time": "2022-12-09T07:35:54.291Z"
   },
   {
    "duration": 27,
    "start_time": "2022-12-09T07:35:54.821Z"
   },
   {
    "duration": 1184,
    "start_time": "2022-12-09T07:36:15.593Z"
   },
   {
    "duration": 40,
    "start_time": "2022-12-09T07:36:16.779Z"
   },
   {
    "duration": 15,
    "start_time": "2022-12-09T07:36:16.820Z"
   },
   {
    "duration": 11,
    "start_time": "2022-12-09T07:36:16.837Z"
   },
   {
    "duration": 12,
    "start_time": "2022-12-09T07:36:16.850Z"
   },
   {
    "duration": 18,
    "start_time": "2022-12-09T07:36:16.863Z"
   },
   {
    "duration": 16,
    "start_time": "2022-12-09T07:36:16.882Z"
   },
   {
    "duration": 12,
    "start_time": "2022-12-09T07:36:16.899Z"
   },
   {
    "duration": 4,
    "start_time": "2022-12-09T07:36:16.912Z"
   },
   {
    "duration": 5,
    "start_time": "2022-12-09T07:36:16.918Z"
   },
   {
    "duration": 6,
    "start_time": "2022-12-09T07:36:16.925Z"
   },
   {
    "duration": 6,
    "start_time": "2022-12-09T07:36:16.932Z"
   },
   {
    "duration": 7,
    "start_time": "2022-12-09T07:36:16.939Z"
   },
   {
    "duration": 7,
    "start_time": "2022-12-09T07:36:16.948Z"
   },
   {
    "duration": 6,
    "start_time": "2022-12-09T07:36:16.957Z"
   },
   {
    "duration": 6,
    "start_time": "2022-12-09T07:36:16.964Z"
   },
   {
    "duration": 18,
    "start_time": "2022-12-09T07:36:16.996Z"
   },
   {
    "duration": 4,
    "start_time": "2022-12-09T07:36:17.016Z"
   },
   {
    "duration": 5,
    "start_time": "2022-12-09T07:36:17.021Z"
   },
   {
    "duration": 11,
    "start_time": "2022-12-09T07:36:17.028Z"
   },
   {
    "duration": 7,
    "start_time": "2022-12-09T07:36:17.040Z"
   },
   {
    "duration": 5,
    "start_time": "2022-12-09T07:36:17.049Z"
   },
   {
    "duration": 47,
    "start_time": "2022-12-09T07:36:17.056Z"
   },
   {
    "duration": 12,
    "start_time": "2022-12-09T07:36:17.104Z"
   },
   {
    "duration": 7,
    "start_time": "2022-12-09T07:36:17.118Z"
   },
   {
    "duration": 7,
    "start_time": "2022-12-09T07:36:17.126Z"
   },
   {
    "duration": 799,
    "start_time": "2022-12-09T07:36:17.134Z"
   },
   {
    "duration": 63,
    "start_time": "2022-12-09T07:36:17.936Z"
   },
   {
    "duration": 106,
    "start_time": "2022-12-09T07:36:18.001Z"
   },
   {
    "duration": 5,
    "start_time": "2022-12-09T07:36:18.108Z"
   },
   {
    "duration": 17,
    "start_time": "2022-12-09T07:36:18.114Z"
   },
   {
    "duration": 994,
    "start_time": "2022-12-09T07:36:18.132Z"
   },
   {
    "duration": 15,
    "start_time": "2022-12-09T07:36:19.128Z"
   },
   {
    "duration": 296,
    "start_time": "2022-12-09T07:36:19.145Z"
   },
   {
    "duration": 32,
    "start_time": "2022-12-09T07:36:19.442Z"
   },
   {
    "duration": 406,
    "start_time": "2022-12-09T07:36:19.475Z"
   },
   {
    "duration": 2,
    "start_time": "2022-12-09T07:36:19.883Z"
   },
   {
    "duration": 12,
    "start_time": "2022-12-09T07:36:19.887Z"
   },
   {
    "duration": 7,
    "start_time": "2022-12-09T07:36:19.900Z"
   },
   {
    "duration": 5,
    "start_time": "2022-12-09T07:36:19.908Z"
   },
   {
    "duration": 1121,
    "start_time": "2022-12-09T07:36:19.916Z"
   },
   {
    "duration": 107,
    "start_time": "2022-12-09T07:36:21.039Z"
   },
   {
    "duration": 426,
    "start_time": "2022-12-09T07:36:21.147Z"
   },
   {
    "duration": 9,
    "start_time": "2022-12-09T10:20:32.673Z"
   },
   {
    "duration": 47,
    "start_time": "2022-12-09T10:20:34.365Z"
   },
   {
    "duration": 1674,
    "start_time": "2022-12-09T10:20:39.222Z"
   },
   {
    "duration": 99,
    "start_time": "2022-12-09T10:20:40.899Z"
   },
   {
    "duration": 21,
    "start_time": "2022-12-09T10:20:41.001Z"
   },
   {
    "duration": 14,
    "start_time": "2022-12-09T10:20:41.024Z"
   },
   {
    "duration": 20,
    "start_time": "2022-12-09T10:20:41.040Z"
   },
   {
    "duration": 22,
    "start_time": "2022-12-09T10:20:41.062Z"
   },
   {
    "duration": 3,
    "start_time": "2022-12-09T10:20:41.086Z"
   },
   {
    "duration": 15,
    "start_time": "2022-12-09T10:20:41.091Z"
   },
   {
    "duration": 12,
    "start_time": "2022-12-09T10:20:41.107Z"
   },
   {
    "duration": 10,
    "start_time": "2022-12-09T10:20:41.123Z"
   },
   {
    "duration": 9,
    "start_time": "2022-12-09T10:20:41.154Z"
   },
   {
    "duration": 10,
    "start_time": "2022-12-09T10:20:41.165Z"
   },
   {
    "duration": 10,
    "start_time": "2022-12-09T10:20:41.177Z"
   },
   {
    "duration": 16,
    "start_time": "2022-12-09T10:20:41.189Z"
   },
   {
    "duration": 13,
    "start_time": "2022-12-09T10:20:41.208Z"
   },
   {
    "duration": 8,
    "start_time": "2022-12-09T10:20:41.223Z"
   },
   {
    "duration": 33,
    "start_time": "2022-12-09T10:20:41.254Z"
   },
   {
    "duration": 5,
    "start_time": "2022-12-09T10:20:41.289Z"
   },
   {
    "duration": 10,
    "start_time": "2022-12-09T10:20:41.296Z"
   },
   {
    "duration": 14,
    "start_time": "2022-12-09T10:20:41.310Z"
   },
   {
    "duration": 12,
    "start_time": "2022-12-09T10:20:41.326Z"
   },
   {
    "duration": 5,
    "start_time": "2022-12-09T10:20:41.356Z"
   },
   {
    "duration": 167,
    "start_time": "2022-12-09T10:20:41.363Z"
   },
   {
    "duration": 0,
    "start_time": "2022-12-09T10:20:41.532Z"
   },
   {
    "duration": 0,
    "start_time": "2022-12-09T10:20:41.534Z"
   },
   {
    "duration": 0,
    "start_time": "2022-12-09T10:20:41.536Z"
   },
   {
    "duration": 0,
    "start_time": "2022-12-09T10:20:41.537Z"
   },
   {
    "duration": 0,
    "start_time": "2022-12-09T10:20:41.555Z"
   },
   {
    "duration": 0,
    "start_time": "2022-12-09T10:20:41.557Z"
   },
   {
    "duration": 0,
    "start_time": "2022-12-09T10:20:41.559Z"
   },
   {
    "duration": 0,
    "start_time": "2022-12-09T10:20:41.561Z"
   },
   {
    "duration": 0,
    "start_time": "2022-12-09T10:20:41.563Z"
   },
   {
    "duration": 0,
    "start_time": "2022-12-09T10:20:41.565Z"
   },
   {
    "duration": 0,
    "start_time": "2022-12-09T10:20:41.567Z"
   },
   {
    "duration": 0,
    "start_time": "2022-12-09T10:20:41.569Z"
   },
   {
    "duration": 0,
    "start_time": "2022-12-09T10:20:41.571Z"
   },
   {
    "duration": 0,
    "start_time": "2022-12-09T10:20:41.573Z"
   },
   {
    "duration": 0,
    "start_time": "2022-12-09T10:20:41.574Z"
   },
   {
    "duration": 0,
    "start_time": "2022-12-09T10:20:41.575Z"
   },
   {
    "duration": 0,
    "start_time": "2022-12-09T10:20:41.577Z"
   },
   {
    "duration": 0,
    "start_time": "2022-12-09T10:20:41.578Z"
   },
   {
    "duration": 0,
    "start_time": "2022-12-09T10:20:41.580Z"
   },
   {
    "duration": 0,
    "start_time": "2022-12-09T10:20:41.581Z"
   },
   {
    "duration": 0,
    "start_time": "2022-12-09T10:20:41.583Z"
   },
   {
    "duration": 0,
    "start_time": "2022-12-09T10:20:41.584Z"
   },
   {
    "duration": 1344,
    "start_time": "2022-12-09T10:21:31.012Z"
   },
   {
    "duration": 40,
    "start_time": "2022-12-09T10:21:32.358Z"
   },
   {
    "duration": 16,
    "start_time": "2022-12-09T10:21:32.400Z"
   },
   {
    "duration": 13,
    "start_time": "2022-12-09T10:21:32.418Z"
   },
   {
    "duration": 17,
    "start_time": "2022-12-09T10:21:32.433Z"
   },
   {
    "duration": 22,
    "start_time": "2022-12-09T10:21:32.452Z"
   },
   {
    "duration": 3,
    "start_time": "2022-12-09T10:21:32.475Z"
   },
   {
    "duration": 10,
    "start_time": "2022-12-09T10:21:32.480Z"
   },
   {
    "duration": 5,
    "start_time": "2022-12-09T10:21:32.492Z"
   },
   {
    "duration": 5,
    "start_time": "2022-12-09T10:21:32.499Z"
   },
   {
    "duration": 7,
    "start_time": "2022-12-09T10:21:32.506Z"
   },
   {
    "duration": 43,
    "start_time": "2022-12-09T10:21:32.515Z"
   },
   {
    "duration": 7,
    "start_time": "2022-12-09T10:21:32.560Z"
   },
   {
    "duration": 7,
    "start_time": "2022-12-09T10:21:32.571Z"
   },
   {
    "duration": 8,
    "start_time": "2022-12-09T10:21:32.579Z"
   },
   {
    "duration": 5,
    "start_time": "2022-12-09T10:21:32.588Z"
   },
   {
    "duration": 24,
    "start_time": "2022-12-09T10:21:32.594Z"
   },
   {
    "duration": 4,
    "start_time": "2022-12-09T10:21:32.620Z"
   },
   {
    "duration": 31,
    "start_time": "2022-12-09T10:21:32.625Z"
   },
   {
    "duration": 14,
    "start_time": "2022-12-09T10:21:32.658Z"
   },
   {
    "duration": 3,
    "start_time": "2022-12-09T10:21:32.674Z"
   },
   {
    "duration": 6317,
    "start_time": "2022-12-09T10:21:32.679Z"
   },
   {
    "duration": 5,
    "start_time": "2022-12-09T10:21:38.999Z"
   },
   {
    "duration": 143,
    "start_time": "2022-12-09T10:21:39.006Z"
   },
   {
    "duration": 0,
    "start_time": "2022-12-09T10:21:39.151Z"
   },
   {
    "duration": 0,
    "start_time": "2022-12-09T10:21:39.155Z"
   },
   {
    "duration": 0,
    "start_time": "2022-12-09T10:21:39.156Z"
   },
   {
    "duration": 0,
    "start_time": "2022-12-09T10:21:39.157Z"
   },
   {
    "duration": 0,
    "start_time": "2022-12-09T10:21:39.159Z"
   },
   {
    "duration": 0,
    "start_time": "2022-12-09T10:21:39.160Z"
   },
   {
    "duration": 0,
    "start_time": "2022-12-09T10:21:39.161Z"
   },
   {
    "duration": 0,
    "start_time": "2022-12-09T10:21:39.162Z"
   },
   {
    "duration": 0,
    "start_time": "2022-12-09T10:21:39.164Z"
   },
   {
    "duration": 0,
    "start_time": "2022-12-09T10:21:39.165Z"
   },
   {
    "duration": 0,
    "start_time": "2022-12-09T10:21:39.166Z"
   },
   {
    "duration": 0,
    "start_time": "2022-12-09T10:21:39.168Z"
   },
   {
    "duration": 0,
    "start_time": "2022-12-09T10:21:39.169Z"
   },
   {
    "duration": 0,
    "start_time": "2022-12-09T10:21:39.170Z"
   },
   {
    "duration": 0,
    "start_time": "2022-12-09T10:21:39.171Z"
   },
   {
    "duration": 0,
    "start_time": "2022-12-09T10:21:39.173Z"
   },
   {
    "duration": 0,
    "start_time": "2022-12-09T10:21:39.174Z"
   },
   {
    "duration": 0,
    "start_time": "2022-12-09T10:21:39.176Z"
   },
   {
    "duration": 0,
    "start_time": "2022-12-09T10:21:39.177Z"
   },
   {
    "duration": 0,
    "start_time": "2022-12-09T10:21:39.178Z"
   },
   {
    "duration": 0,
    "start_time": "2022-12-09T10:21:39.179Z"
   },
   {
    "duration": 0,
    "start_time": "2022-12-09T10:21:39.181Z"
   },
   {
    "duration": 1208,
    "start_time": "2022-12-09T10:21:46.651Z"
   },
   {
    "duration": 38,
    "start_time": "2022-12-09T10:21:47.861Z"
   },
   {
    "duration": 18,
    "start_time": "2022-12-09T10:21:47.900Z"
   },
   {
    "duration": 13,
    "start_time": "2022-12-09T10:21:47.919Z"
   },
   {
    "duration": 13,
    "start_time": "2022-12-09T10:21:47.934Z"
   },
   {
    "duration": 19,
    "start_time": "2022-12-09T10:21:47.954Z"
   },
   {
    "duration": 2,
    "start_time": "2022-12-09T10:21:47.975Z"
   },
   {
    "duration": 12,
    "start_time": "2022-12-09T10:21:47.979Z"
   },
   {
    "duration": 5,
    "start_time": "2022-12-09T10:21:47.993Z"
   },
   {
    "duration": 11,
    "start_time": "2022-12-09T10:21:47.999Z"
   },
   {
    "duration": 7,
    "start_time": "2022-12-09T10:21:48.012Z"
   },
   {
    "duration": 35,
    "start_time": "2022-12-09T10:21:48.021Z"
   },
   {
    "duration": 8,
    "start_time": "2022-12-09T10:21:48.057Z"
   },
   {
    "duration": 7,
    "start_time": "2022-12-09T10:21:48.068Z"
   },
   {
    "duration": 10,
    "start_time": "2022-12-09T10:21:48.077Z"
   },
   {
    "duration": 7,
    "start_time": "2022-12-09T10:21:48.089Z"
   },
   {
    "duration": 26,
    "start_time": "2022-12-09T10:21:48.097Z"
   },
   {
    "duration": 4,
    "start_time": "2022-12-09T10:21:48.124Z"
   },
   {
    "duration": 29,
    "start_time": "2022-12-09T10:21:48.129Z"
   },
   {
    "duration": 14,
    "start_time": "2022-12-09T10:21:48.159Z"
   },
   {
    "duration": 3,
    "start_time": "2022-12-09T10:21:48.174Z"
   },
   {
    "duration": 2507,
    "start_time": "2022-12-09T10:21:48.179Z"
   },
   {
    "duration": 3,
    "start_time": "2022-12-09T10:21:50.689Z"
   },
   {
    "duration": 39,
    "start_time": "2022-12-09T10:21:50.694Z"
   },
   {
    "duration": 6,
    "start_time": "2022-12-09T10:21:50.735Z"
   },
   {
    "duration": 30,
    "start_time": "2022-12-09T10:21:50.743Z"
   },
   {
    "duration": 15,
    "start_time": "2022-12-09T10:21:50.775Z"
   },
   {
    "duration": 15,
    "start_time": "2022-12-09T10:21:50.792Z"
   },
   {
    "duration": 11,
    "start_time": "2022-12-09T10:21:50.809Z"
   },
   {
    "duration": 939,
    "start_time": "2022-12-09T10:21:50.822Z"
   },
   {
    "duration": 93,
    "start_time": "2022-12-09T10:21:51.763Z"
   },
   {
    "duration": 20,
    "start_time": "2022-12-09T10:21:51.857Z"
   },
   {
    "duration": 5,
    "start_time": "2022-12-09T10:21:51.880Z"
   },
   {
    "duration": 20,
    "start_time": "2022-12-09T10:21:51.887Z"
   },
   {
    "duration": 1099,
    "start_time": "2022-12-09T10:21:51.908Z"
   },
   {
    "duration": 13,
    "start_time": "2022-12-09T10:21:53.009Z"
   },
   {
    "duration": 5,
    "start_time": "2022-12-09T10:21:53.024Z"
   },
   {
    "duration": 27,
    "start_time": "2022-12-09T10:21:53.031Z"
   },
   {
    "duration": 470,
    "start_time": "2022-12-09T10:21:53.060Z"
   },
   {
    "duration": 3,
    "start_time": "2022-12-09T10:21:53.532Z"
   },
   {
    "duration": 7,
    "start_time": "2022-12-09T10:21:53.539Z"
   },
   {
    "duration": 3,
    "start_time": "2022-12-09T10:21:53.555Z"
   },
   {
    "duration": 6,
    "start_time": "2022-12-09T10:21:53.559Z"
   },
   {
    "duration": 1352,
    "start_time": "2022-12-09T10:21:53.567Z"
   },
   {
    "duration": 136,
    "start_time": "2022-12-09T10:21:54.920Z"
   },
   {
    "duration": 407,
    "start_time": "2022-12-09T10:21:55.057Z"
   },
   {
    "duration": 1219,
    "start_time": "2022-12-09T11:50:36.901Z"
   },
   {
    "duration": 45,
    "start_time": "2022-12-09T11:50:38.122Z"
   },
   {
    "duration": 17,
    "start_time": "2022-12-09T11:50:38.170Z"
   },
   {
    "duration": 13,
    "start_time": "2022-12-09T11:50:38.189Z"
   },
   {
    "duration": 14,
    "start_time": "2022-12-09T11:50:38.205Z"
   },
   {
    "duration": 52,
    "start_time": "2022-12-09T11:50:38.221Z"
   },
   {
    "duration": 3,
    "start_time": "2022-12-09T11:50:38.275Z"
   },
   {
    "duration": 12,
    "start_time": "2022-12-09T11:50:38.279Z"
   },
   {
    "duration": 6,
    "start_time": "2022-12-09T11:50:38.292Z"
   },
   {
    "duration": 5,
    "start_time": "2022-12-09T11:50:38.299Z"
   },
   {
    "duration": 6,
    "start_time": "2022-12-09T11:50:38.306Z"
   },
   {
    "duration": 6,
    "start_time": "2022-12-09T11:50:38.313Z"
   },
   {
    "duration": 38,
    "start_time": "2022-12-09T11:50:38.320Z"
   },
   {
    "duration": 11,
    "start_time": "2022-12-09T11:50:38.362Z"
   },
   {
    "duration": 9,
    "start_time": "2022-12-09T11:50:38.374Z"
   },
   {
    "duration": 5,
    "start_time": "2022-12-09T11:50:38.384Z"
   },
   {
    "duration": 25,
    "start_time": "2022-12-09T11:50:38.391Z"
   },
   {
    "duration": 4,
    "start_time": "2022-12-09T11:50:38.418Z"
   },
   {
    "duration": 5,
    "start_time": "2022-12-09T11:50:38.423Z"
   },
   {
    "duration": 37,
    "start_time": "2022-12-09T11:50:38.430Z"
   },
   {
    "duration": 7,
    "start_time": "2022-12-09T11:50:38.472Z"
   },
   {
    "duration": 2764,
    "start_time": "2022-12-09T11:50:38.481Z"
   },
   {
    "duration": 5,
    "start_time": "2022-12-09T11:50:41.247Z"
   },
   {
    "duration": 39,
    "start_time": "2022-12-09T11:50:41.253Z"
   },
   {
    "duration": 4,
    "start_time": "2022-12-09T11:50:41.293Z"
   },
   {
    "duration": 16,
    "start_time": "2022-12-09T11:50:41.299Z"
   },
   {
    "duration": 14,
    "start_time": "2022-12-09T11:50:41.317Z"
   },
   {
    "duration": 13,
    "start_time": "2022-12-09T11:50:41.332Z"
   },
   {
    "duration": 23,
    "start_time": "2022-12-09T11:50:41.346Z"
   },
   {
    "duration": 1012,
    "start_time": "2022-12-09T11:50:41.370Z"
   },
   {
    "duration": 12,
    "start_time": "2022-12-09T11:50:42.461Z"
   },
   {
    "duration": 114,
    "start_time": "2022-12-09T11:50:42.480Z"
   },
   {
    "duration": 7,
    "start_time": "2022-12-09T11:50:42.596Z"
   },
   {
    "duration": 25,
    "start_time": "2022-12-09T11:50:42.605Z"
   },
   {
    "duration": 1375,
    "start_time": "2022-12-09T11:50:42.632Z"
   },
   {
    "duration": 18,
    "start_time": "2022-12-09T11:50:44.009Z"
   },
   {
    "duration": 6,
    "start_time": "2022-12-09T11:50:44.028Z"
   },
   {
    "duration": 37,
    "start_time": "2022-12-09T11:50:44.036Z"
   },
   {
    "duration": 539,
    "start_time": "2022-12-09T11:50:44.075Z"
   },
   {
    "duration": 4,
    "start_time": "2022-12-09T11:50:44.616Z"
   },
   {
    "duration": 9,
    "start_time": "2022-12-09T11:50:44.626Z"
   },
   {
    "duration": 8,
    "start_time": "2022-12-09T11:50:44.637Z"
   },
   {
    "duration": 33,
    "start_time": "2022-12-09T11:50:44.657Z"
   },
   {
    "duration": 1405,
    "start_time": "2022-12-09T11:50:44.692Z"
   },
   {
    "duration": 128,
    "start_time": "2022-12-09T11:50:46.099Z"
   },
   {
    "duration": 478,
    "start_time": "2022-12-09T11:50:46.228Z"
   },
   {
    "duration": 1394,
    "start_time": "2022-12-09T11:59:01.943Z"
   },
   {
    "duration": 63,
    "start_time": "2022-12-09T11:59:03.340Z"
   },
   {
    "duration": 18,
    "start_time": "2022-12-09T11:59:03.405Z"
   },
   {
    "duration": 41,
    "start_time": "2022-12-09T11:59:03.425Z"
   },
   {
    "duration": 30,
    "start_time": "2022-12-09T11:59:03.477Z"
   },
   {
    "duration": 31,
    "start_time": "2022-12-09T11:59:03.509Z"
   },
   {
    "duration": 2,
    "start_time": "2022-12-09T11:59:03.543Z"
   },
   {
    "duration": 16,
    "start_time": "2022-12-09T11:59:03.547Z"
   },
   {
    "duration": 66,
    "start_time": "2022-12-09T11:59:03.571Z"
   },
   {
    "duration": 0,
    "start_time": "2022-12-09T11:59:03.640Z"
   },
   {
    "duration": 0,
    "start_time": "2022-12-09T11:59:03.642Z"
   },
   {
    "duration": 0,
    "start_time": "2022-12-09T11:59:03.643Z"
   },
   {
    "duration": 0,
    "start_time": "2022-12-09T11:59:03.645Z"
   },
   {
    "duration": 0,
    "start_time": "2022-12-09T11:59:03.647Z"
   },
   {
    "duration": 0,
    "start_time": "2022-12-09T11:59:03.648Z"
   },
   {
    "duration": 0,
    "start_time": "2022-12-09T11:59:03.650Z"
   },
   {
    "duration": 0,
    "start_time": "2022-12-09T11:59:03.651Z"
   },
   {
    "duration": 0,
    "start_time": "2022-12-09T11:59:03.653Z"
   },
   {
    "duration": 0,
    "start_time": "2022-12-09T11:59:03.657Z"
   },
   {
    "duration": 0,
    "start_time": "2022-12-09T11:59:03.659Z"
   },
   {
    "duration": 0,
    "start_time": "2022-12-09T11:59:03.660Z"
   },
   {
    "duration": 0,
    "start_time": "2022-12-09T11:59:03.662Z"
   },
   {
    "duration": 0,
    "start_time": "2022-12-09T11:59:03.663Z"
   },
   {
    "duration": 0,
    "start_time": "2022-12-09T11:59:03.664Z"
   },
   {
    "duration": 0,
    "start_time": "2022-12-09T11:59:03.666Z"
   },
   {
    "duration": 0,
    "start_time": "2022-12-09T11:59:03.667Z"
   },
   {
    "duration": 0,
    "start_time": "2022-12-09T11:59:03.668Z"
   },
   {
    "duration": 0,
    "start_time": "2022-12-09T11:59:03.669Z"
   },
   {
    "duration": 0,
    "start_time": "2022-12-09T11:59:03.671Z"
   },
   {
    "duration": 0,
    "start_time": "2022-12-09T11:59:03.672Z"
   },
   {
    "duration": 0,
    "start_time": "2022-12-09T11:59:03.674Z"
   },
   {
    "duration": 0,
    "start_time": "2022-12-09T11:59:03.675Z"
   },
   {
    "duration": 0,
    "start_time": "2022-12-09T11:59:03.676Z"
   },
   {
    "duration": 0,
    "start_time": "2022-12-09T11:59:03.677Z"
   },
   {
    "duration": 0,
    "start_time": "2022-12-09T11:59:03.679Z"
   },
   {
    "duration": 0,
    "start_time": "2022-12-09T11:59:03.680Z"
   },
   {
    "duration": 0,
    "start_time": "2022-12-09T11:59:03.681Z"
   },
   {
    "duration": 0,
    "start_time": "2022-12-09T11:59:03.683Z"
   },
   {
    "duration": 0,
    "start_time": "2022-12-09T11:59:03.684Z"
   },
   {
    "duration": 0,
    "start_time": "2022-12-09T11:59:03.685Z"
   },
   {
    "duration": 0,
    "start_time": "2022-12-09T11:59:03.687Z"
   },
   {
    "duration": 0,
    "start_time": "2022-12-09T11:59:03.688Z"
   },
   {
    "duration": 0,
    "start_time": "2022-12-09T11:59:03.690Z"
   },
   {
    "duration": 0,
    "start_time": "2022-12-09T11:59:03.692Z"
   },
   {
    "duration": 0,
    "start_time": "2022-12-09T11:59:03.695Z"
   },
   {
    "duration": 0,
    "start_time": "2022-12-09T11:59:03.697Z"
   },
   {
    "duration": 0,
    "start_time": "2022-12-09T11:59:03.699Z"
   },
   {
    "duration": 4,
    "start_time": "2022-12-09T12:00:04.332Z"
   },
   {
    "duration": 131,
    "start_time": "2022-12-09T12:01:50.035Z"
   },
   {
    "duration": 9,
    "start_time": "2022-12-09T12:02:01.995Z"
   },
   {
    "duration": 11,
    "start_time": "2022-12-09T12:02:20.481Z"
   },
   {
    "duration": 4,
    "start_time": "2022-12-09T12:02:31.510Z"
   },
   {
    "duration": 12,
    "start_time": "2022-12-09T12:02:44.483Z"
   },
   {
    "duration": 5,
    "start_time": "2022-12-09T12:02:44.541Z"
   },
   {
    "duration": 7,
    "start_time": "2022-12-09T12:02:46.989Z"
   },
   {
    "duration": 7,
    "start_time": "2022-12-09T12:02:47.387Z"
   },
   {
    "duration": 4,
    "start_time": "2022-12-09T12:02:49.624Z"
   },
   {
    "duration": 6,
    "start_time": "2022-12-09T12:02:53.986Z"
   },
   {
    "duration": 4,
    "start_time": "2022-12-09T12:02:59.987Z"
   },
   {
    "duration": 5,
    "start_time": "2022-12-09T12:03:01.900Z"
   },
   {
    "duration": 8,
    "start_time": "2022-12-09T12:03:03.379Z"
   },
   {
    "duration": 5,
    "start_time": "2022-12-09T12:03:04.805Z"
   },
   {
    "duration": 5,
    "start_time": "2022-12-09T12:03:06.301Z"
   },
   {
    "duration": 5,
    "start_time": "2022-12-09T12:03:08.337Z"
   },
   {
    "duration": 6,
    "start_time": "2022-12-09T12:03:24.550Z"
   },
   {
    "duration": 1733,
    "start_time": "2022-12-09T12:03:32.409Z"
   },
   {
    "duration": 73,
    "start_time": "2022-12-09T12:03:34.144Z"
   },
   {
    "duration": 19,
    "start_time": "2022-12-09T12:03:34.218Z"
   },
   {
    "duration": 21,
    "start_time": "2022-12-09T12:03:34.241Z"
   },
   {
    "duration": 52,
    "start_time": "2022-12-09T12:03:34.264Z"
   },
   {
    "duration": 23,
    "start_time": "2022-12-09T12:03:34.318Z"
   },
   {
    "duration": 5,
    "start_time": "2022-12-09T12:03:34.343Z"
   },
   {
    "duration": 16,
    "start_time": "2022-12-09T12:03:34.350Z"
   },
   {
    "duration": 33,
    "start_time": "2022-12-09T12:03:34.367Z"
   },
   {
    "duration": 8,
    "start_time": "2022-12-09T12:03:34.403Z"
   },
   {
    "duration": 8,
    "start_time": "2022-12-09T12:03:34.412Z"
   },
   {
    "duration": 10,
    "start_time": "2022-12-09T12:03:34.422Z"
   },
   {
    "duration": 15,
    "start_time": "2022-12-09T12:03:34.435Z"
   },
   {
    "duration": 54,
    "start_time": "2022-12-09T12:03:34.452Z"
   },
   {
    "duration": 11,
    "start_time": "2022-12-09T12:03:34.508Z"
   },
   {
    "duration": 17,
    "start_time": "2022-12-09T12:03:34.521Z"
   },
   {
    "duration": 23,
    "start_time": "2022-12-09T12:03:34.540Z"
   },
   {
    "duration": 51,
    "start_time": "2022-12-09T12:03:34.566Z"
   },
   {
    "duration": 29,
    "start_time": "2022-12-09T12:03:34.619Z"
   },
   {
    "duration": 18,
    "start_time": "2022-12-09T12:03:34.650Z"
   },
   {
    "duration": 35,
    "start_time": "2022-12-09T12:03:34.670Z"
   },
   {
    "duration": 26,
    "start_time": "2022-12-09T12:03:34.707Z"
   },
   {
    "duration": 4,
    "start_time": "2022-12-09T12:03:34.736Z"
   },
   {
    "duration": 3293,
    "start_time": "2022-12-09T12:03:34.742Z"
   },
   {
    "duration": 4,
    "start_time": "2022-12-09T12:03:38.037Z"
   },
   {
    "duration": 64,
    "start_time": "2022-12-09T12:03:38.043Z"
   },
   {
    "duration": 4,
    "start_time": "2022-12-09T12:03:38.109Z"
   },
   {
    "duration": 20,
    "start_time": "2022-12-09T12:03:38.117Z"
   },
   {
    "duration": 14,
    "start_time": "2022-12-09T12:03:38.139Z"
   },
   {
    "duration": 46,
    "start_time": "2022-12-09T12:03:38.154Z"
   },
   {
    "duration": 11,
    "start_time": "2022-12-09T12:03:38.202Z"
   },
   {
    "duration": 1247,
    "start_time": "2022-12-09T12:03:38.216Z"
   },
   {
    "duration": 11,
    "start_time": "2022-12-09T12:03:39.470Z"
   },
   {
    "duration": 116,
    "start_time": "2022-12-09T12:03:39.489Z"
   },
   {
    "duration": 7,
    "start_time": "2022-12-09T12:03:39.607Z"
   },
   {
    "duration": 19,
    "start_time": "2022-12-09T12:03:39.616Z"
   },
   {
    "duration": 1431,
    "start_time": "2022-12-09T12:03:39.637Z"
   },
   {
    "duration": 23,
    "start_time": "2022-12-09T12:03:41.070Z"
   },
   {
    "duration": 8,
    "start_time": "2022-12-09T12:03:41.095Z"
   },
   {
    "duration": 17,
    "start_time": "2022-12-09T12:03:41.105Z"
   },
   {
    "duration": 596,
    "start_time": "2022-12-09T12:03:41.124Z"
   },
   {
    "duration": 3,
    "start_time": "2022-12-09T12:03:41.721Z"
   },
   {
    "duration": 6,
    "start_time": "2022-12-09T12:03:41.726Z"
   },
   {
    "duration": 17,
    "start_time": "2022-12-09T12:03:41.733Z"
   },
   {
    "duration": 50,
    "start_time": "2022-12-09T12:03:41.753Z"
   },
   {
    "duration": 1632,
    "start_time": "2022-12-09T12:03:41.805Z"
   },
   {
    "duration": 179,
    "start_time": "2022-12-09T12:03:43.439Z"
   },
   {
    "duration": 585,
    "start_time": "2022-12-09T12:03:43.620Z"
   },
   {
    "duration": 6,
    "start_time": "2022-12-09T12:04:50.191Z"
   },
   {
    "duration": 1334,
    "start_time": "2022-12-09T12:04:54.910Z"
   },
   {
    "duration": 78,
    "start_time": "2022-12-09T12:04:56.246Z"
   },
   {
    "duration": 20,
    "start_time": "2022-12-09T12:04:56.326Z"
   },
   {
    "duration": 39,
    "start_time": "2022-12-09T12:04:56.348Z"
   },
   {
    "duration": 19,
    "start_time": "2022-12-09T12:04:56.396Z"
   },
   {
    "duration": 21,
    "start_time": "2022-12-09T12:04:56.417Z"
   },
   {
    "duration": 2,
    "start_time": "2022-12-09T12:04:56.440Z"
   },
   {
    "duration": 7,
    "start_time": "2022-12-09T12:04:56.444Z"
   },
   {
    "duration": 25,
    "start_time": "2022-12-09T12:04:56.461Z"
   },
   {
    "duration": 12,
    "start_time": "2022-12-09T12:04:56.493Z"
   },
   {
    "duration": 6,
    "start_time": "2022-12-09T12:04:56.507Z"
   },
   {
    "duration": 6,
    "start_time": "2022-12-09T12:04:56.515Z"
   },
   {
    "duration": 7,
    "start_time": "2022-12-09T12:04:56.523Z"
   },
   {
    "duration": 5,
    "start_time": "2022-12-09T12:04:56.534Z"
   },
   {
    "duration": 10,
    "start_time": "2022-12-09T12:04:56.542Z"
   },
   {
    "duration": 50,
    "start_time": "2022-12-09T12:04:56.555Z"
   },
   {
    "duration": 12,
    "start_time": "2022-12-09T12:04:56.606Z"
   },
   {
    "duration": 7,
    "start_time": "2022-12-09T12:04:56.620Z"
   },
   {
    "duration": 25,
    "start_time": "2022-12-09T12:04:56.628Z"
   },
   {
    "duration": 7,
    "start_time": "2022-12-09T12:04:56.659Z"
   },
   {
    "duration": 32,
    "start_time": "2022-12-09T12:04:56.668Z"
   },
   {
    "duration": 21,
    "start_time": "2022-12-09T12:04:56.701Z"
   },
   {
    "duration": 4,
    "start_time": "2022-12-09T12:04:56.723Z"
   },
   {
    "duration": 3062,
    "start_time": "2022-12-09T12:04:56.729Z"
   },
   {
    "duration": 5,
    "start_time": "2022-12-09T12:04:59.794Z"
   },
   {
    "duration": 26,
    "start_time": "2022-12-09T12:04:59.801Z"
   },
   {
    "duration": 4,
    "start_time": "2022-12-09T12:04:59.828Z"
   },
   {
    "duration": 20,
    "start_time": "2022-12-09T12:04:59.834Z"
   },
   {
    "duration": 22,
    "start_time": "2022-12-09T12:04:59.866Z"
   },
   {
    "duration": 15,
    "start_time": "2022-12-09T12:04:59.890Z"
   },
   {
    "duration": 6,
    "start_time": "2022-12-09T12:04:59.907Z"
   },
   {
    "duration": 1269,
    "start_time": "2022-12-09T12:04:59.915Z"
   },
   {
    "duration": 71,
    "start_time": "2022-12-09T12:05:01.191Z"
   },
   {
    "duration": 81,
    "start_time": "2022-12-09T12:05:01.265Z"
   },
   {
    "duration": 60,
    "start_time": "2022-12-09T12:05:01.348Z"
   },
   {
    "duration": 67,
    "start_time": "2022-12-09T12:05:01.410Z"
   },
   {
    "duration": 1449,
    "start_time": "2022-12-09T12:05:01.479Z"
   },
   {
    "duration": 15,
    "start_time": "2022-12-09T12:05:02.930Z"
   },
   {
    "duration": 21,
    "start_time": "2022-12-09T12:05:02.947Z"
   },
   {
    "duration": 79,
    "start_time": "2022-12-09T12:05:02.971Z"
   },
   {
    "duration": 576,
    "start_time": "2022-12-09T12:05:03.054Z"
   },
   {
    "duration": 4,
    "start_time": "2022-12-09T12:05:03.633Z"
   },
   {
    "duration": 21,
    "start_time": "2022-12-09T12:05:03.639Z"
   },
   {
    "duration": 42,
    "start_time": "2022-12-09T12:05:03.662Z"
   },
   {
    "duration": 15,
    "start_time": "2022-12-09T12:05:03.707Z"
   },
   {
    "duration": 1727,
    "start_time": "2022-12-09T12:05:03.724Z"
   },
   {
    "duration": 141,
    "start_time": "2022-12-09T12:05:05.460Z"
   },
   {
    "duration": 517,
    "start_time": "2022-12-09T12:05:05.603Z"
   },
   {
    "duration": 1305,
    "start_time": "2022-12-09T12:06:47.733Z"
   },
   {
    "duration": 55,
    "start_time": "2022-12-09T12:06:49.040Z"
   },
   {
    "duration": 20,
    "start_time": "2022-12-09T12:06:49.098Z"
   },
   {
    "duration": 22,
    "start_time": "2022-12-09T12:06:49.120Z"
   },
   {
    "duration": 27,
    "start_time": "2022-12-09T12:06:49.145Z"
   },
   {
    "duration": 39,
    "start_time": "2022-12-09T12:06:49.174Z"
   },
   {
    "duration": 3,
    "start_time": "2022-12-09T12:06:49.215Z"
   },
   {
    "duration": 22,
    "start_time": "2022-12-09T12:06:49.220Z"
   },
   {
    "duration": 38,
    "start_time": "2022-12-09T12:06:49.244Z"
   },
   {
    "duration": 14,
    "start_time": "2022-12-09T12:06:49.283Z"
   },
   {
    "duration": 22,
    "start_time": "2022-12-09T12:06:49.299Z"
   },
   {
    "duration": 14,
    "start_time": "2022-12-09T12:06:49.323Z"
   },
   {
    "duration": 9,
    "start_time": "2022-12-09T12:06:49.339Z"
   },
   {
    "duration": 26,
    "start_time": "2022-12-09T12:06:49.352Z"
   },
   {
    "duration": 7,
    "start_time": "2022-12-09T12:06:49.380Z"
   },
   {
    "duration": 12,
    "start_time": "2022-12-09T12:06:49.389Z"
   },
   {
    "duration": 13,
    "start_time": "2022-12-09T12:06:49.403Z"
   },
   {
    "duration": 8,
    "start_time": "2022-12-09T12:06:49.418Z"
   },
   {
    "duration": 34,
    "start_time": "2022-12-09T12:06:49.428Z"
   },
   {
    "duration": 7,
    "start_time": "2022-12-09T12:06:49.464Z"
   },
   {
    "duration": 11,
    "start_time": "2022-12-09T12:06:49.475Z"
   },
   {
    "duration": 16,
    "start_time": "2022-12-09T12:06:49.489Z"
   },
   {
    "duration": 4,
    "start_time": "2022-12-09T12:06:49.506Z"
   },
   {
    "duration": 2848,
    "start_time": "2022-12-09T12:06:49.512Z"
   },
   {
    "duration": 6,
    "start_time": "2022-12-09T12:06:52.363Z"
   },
   {
    "duration": 31,
    "start_time": "2022-12-09T12:06:52.371Z"
   },
   {
    "duration": 4,
    "start_time": "2022-12-09T12:06:52.404Z"
   },
   {
    "duration": 20,
    "start_time": "2022-12-09T12:06:52.410Z"
   },
   {
    "duration": 14,
    "start_time": "2022-12-09T12:06:52.433Z"
   },
   {
    "duration": 25,
    "start_time": "2022-12-09T12:06:52.455Z"
   },
   {
    "duration": 7,
    "start_time": "2022-12-09T12:06:52.482Z"
   },
   {
    "duration": 1175,
    "start_time": "2022-12-09T12:06:52.491Z"
   },
   {
    "duration": 12,
    "start_time": "2022-12-09T12:06:53.669Z"
   },
   {
    "duration": 123,
    "start_time": "2022-12-09T12:06:53.683Z"
   },
   {
    "duration": 6,
    "start_time": "2022-12-09T12:06:53.809Z"
   },
   {
    "duration": 27,
    "start_time": "2022-12-09T12:06:53.817Z"
   },
   {
    "duration": 1426,
    "start_time": "2022-12-09T12:06:53.845Z"
   },
   {
    "duration": 16,
    "start_time": "2022-12-09T12:06:55.273Z"
   },
   {
    "duration": 5,
    "start_time": "2022-12-09T12:06:55.291Z"
   },
   {
    "duration": 21,
    "start_time": "2022-12-09T12:06:55.298Z"
   },
   {
    "duration": 554,
    "start_time": "2022-12-09T12:06:55.323Z"
   },
   {
    "duration": 3,
    "start_time": "2022-12-09T12:06:55.879Z"
   },
   {
    "duration": 8,
    "start_time": "2022-12-09T12:06:55.884Z"
   },
   {
    "duration": 5,
    "start_time": "2022-12-09T12:06:55.894Z"
   },
   {
    "duration": 6,
    "start_time": "2022-12-09T12:06:55.901Z"
   },
   {
    "duration": 1512,
    "start_time": "2022-12-09T12:06:55.909Z"
   },
   {
    "duration": 151,
    "start_time": "2022-12-09T12:06:57.422Z"
   },
   {
    "duration": 449,
    "start_time": "2022-12-09T12:06:57.576Z"
   },
   {
    "duration": 5,
    "start_time": "2022-12-09T12:49:25.506Z"
   },
   {
    "duration": 5,
    "start_time": "2022-12-09T12:53:24.043Z"
   },
   {
    "duration": 1295,
    "start_time": "2022-12-09T12:53:30.506Z"
   },
   {
    "duration": 43,
    "start_time": "2022-12-09T12:53:31.803Z"
   },
   {
    "duration": 23,
    "start_time": "2022-12-09T12:53:31.849Z"
   },
   {
    "duration": 21,
    "start_time": "2022-12-09T12:53:31.875Z"
   },
   {
    "duration": 21,
    "start_time": "2022-12-09T12:53:31.898Z"
   },
   {
    "duration": 49,
    "start_time": "2022-12-09T12:53:31.921Z"
   },
   {
    "duration": 3,
    "start_time": "2022-12-09T12:53:31.972Z"
   },
   {
    "duration": 9,
    "start_time": "2022-12-09T12:53:31.977Z"
   },
   {
    "duration": 28,
    "start_time": "2022-12-09T12:53:31.988Z"
   },
   {
    "duration": 10,
    "start_time": "2022-12-09T12:53:32.020Z"
   },
   {
    "duration": 11,
    "start_time": "2022-12-09T12:53:32.032Z"
   },
   {
    "duration": 12,
    "start_time": "2022-12-09T12:53:32.045Z"
   },
   {
    "duration": 8,
    "start_time": "2022-12-09T12:53:32.059Z"
   },
   {
    "duration": 8,
    "start_time": "2022-12-09T12:53:32.069Z"
   },
   {
    "duration": 14,
    "start_time": "2022-12-09T12:53:32.079Z"
   },
   {
    "duration": 16,
    "start_time": "2022-12-09T12:53:32.095Z"
   },
   {
    "duration": 17,
    "start_time": "2022-12-09T12:53:32.113Z"
   },
   {
    "duration": 25,
    "start_time": "2022-12-09T12:53:32.132Z"
   },
   {
    "duration": 27,
    "start_time": "2022-12-09T12:53:32.159Z"
   },
   {
    "duration": 6,
    "start_time": "2022-12-09T12:53:32.188Z"
   },
   {
    "duration": 13,
    "start_time": "2022-12-09T12:53:32.196Z"
   },
   {
    "duration": 44,
    "start_time": "2022-12-09T12:53:32.212Z"
   },
   {
    "duration": 5,
    "start_time": "2022-12-09T12:53:32.259Z"
   },
   {
    "duration": 16,
    "start_time": "2022-12-09T12:53:32.266Z"
   },
   {
    "duration": 41,
    "start_time": "2022-12-09T12:53:32.284Z"
   },
   {
    "duration": 4,
    "start_time": "2022-12-09T12:53:32.327Z"
   },
   {
    "duration": 27,
    "start_time": "2022-12-09T12:53:32.333Z"
   },
   {
    "duration": 13,
    "start_time": "2022-12-09T12:53:32.365Z"
   },
   {
    "duration": 13,
    "start_time": "2022-12-09T12:53:32.380Z"
   },
   {
    "duration": 10,
    "start_time": "2022-12-09T12:53:32.395Z"
   },
   {
    "duration": 1073,
    "start_time": "2022-12-09T12:53:32.407Z"
   },
   {
    "duration": 76,
    "start_time": "2022-12-09T12:53:33.484Z"
   },
   {
    "duration": 109,
    "start_time": "2022-12-09T12:53:33.562Z"
   },
   {
    "duration": 6,
    "start_time": "2022-12-09T12:53:33.673Z"
   },
   {
    "duration": 37,
    "start_time": "2022-12-09T12:53:33.683Z"
   },
   {
    "duration": 1328,
    "start_time": "2022-12-09T12:53:33.724Z"
   },
   {
    "duration": 14,
    "start_time": "2022-12-09T12:53:35.055Z"
   },
   {
    "duration": 8,
    "start_time": "2022-12-09T12:53:35.070Z"
   },
   {
    "duration": 29,
    "start_time": "2022-12-09T12:53:35.080Z"
   },
   {
    "duration": 517,
    "start_time": "2022-12-09T12:53:35.110Z"
   },
   {
    "duration": 4,
    "start_time": "2022-12-09T12:53:35.630Z"
   },
   {
    "duration": 19,
    "start_time": "2022-12-09T12:53:35.636Z"
   },
   {
    "duration": 7,
    "start_time": "2022-12-09T12:53:35.657Z"
   },
   {
    "duration": 10,
    "start_time": "2022-12-09T12:53:35.666Z"
   },
   {
    "duration": 1426,
    "start_time": "2022-12-09T12:53:35.679Z"
   },
   {
    "duration": 138,
    "start_time": "2022-12-09T12:53:37.107Z"
   },
   {
    "duration": 442,
    "start_time": "2022-12-09T12:53:37.247Z"
   },
   {
    "duration": 1409,
    "start_time": "2022-12-09T12:55:13.336Z"
   },
   {
    "duration": 42,
    "start_time": "2022-12-09T12:55:14.748Z"
   },
   {
    "duration": 17,
    "start_time": "2022-12-09T12:55:14.792Z"
   },
   {
    "duration": 13,
    "start_time": "2022-12-09T12:55:14.811Z"
   },
   {
    "duration": 17,
    "start_time": "2022-12-09T12:55:14.826Z"
   },
   {
    "duration": 29,
    "start_time": "2022-12-09T12:55:14.845Z"
   },
   {
    "duration": 3,
    "start_time": "2022-12-09T12:55:14.875Z"
   },
   {
    "duration": 5,
    "start_time": "2022-12-09T12:55:14.880Z"
   },
   {
    "duration": 12,
    "start_time": "2022-12-09T12:55:14.887Z"
   },
   {
    "duration": 6,
    "start_time": "2022-12-09T12:55:14.900Z"
   },
   {
    "duration": 10,
    "start_time": "2022-12-09T12:55:14.907Z"
   },
   {
    "duration": 6,
    "start_time": "2022-12-09T12:55:14.918Z"
   },
   {
    "duration": 30,
    "start_time": "2022-12-09T12:55:14.926Z"
   },
   {
    "duration": 4,
    "start_time": "2022-12-09T12:55:14.961Z"
   },
   {
    "duration": 9,
    "start_time": "2022-12-09T12:55:14.967Z"
   },
   {
    "duration": 8,
    "start_time": "2022-12-09T12:55:14.978Z"
   },
   {
    "duration": 8,
    "start_time": "2022-12-09T12:55:14.988Z"
   },
   {
    "duration": 5,
    "start_time": "2022-12-09T12:55:14.997Z"
   },
   {
    "duration": 56,
    "start_time": "2022-12-09T12:55:15.004Z"
   },
   {
    "duration": 6,
    "start_time": "2022-12-09T12:55:15.061Z"
   },
   {
    "duration": 6,
    "start_time": "2022-12-09T12:55:15.069Z"
   },
   {
    "duration": 67,
    "start_time": "2022-12-09T12:55:15.076Z"
   },
   {
    "duration": 0,
    "start_time": "2022-12-09T12:55:15.146Z"
   },
   {
    "duration": 0,
    "start_time": "2022-12-09T12:55:15.147Z"
   },
   {
    "duration": 0,
    "start_time": "2022-12-09T12:55:15.149Z"
   },
   {
    "duration": 0,
    "start_time": "2022-12-09T12:55:15.151Z"
   },
   {
    "duration": 0,
    "start_time": "2022-12-09T12:55:15.152Z"
   },
   {
    "duration": 0,
    "start_time": "2022-12-09T12:55:15.153Z"
   },
   {
    "duration": 0,
    "start_time": "2022-12-09T12:55:15.155Z"
   },
   {
    "duration": 0,
    "start_time": "2022-12-09T12:55:15.157Z"
   },
   {
    "duration": 0,
    "start_time": "2022-12-09T12:55:15.158Z"
   },
   {
    "duration": 0,
    "start_time": "2022-12-09T12:55:15.159Z"
   },
   {
    "duration": 0,
    "start_time": "2022-12-09T12:55:15.161Z"
   },
   {
    "duration": 0,
    "start_time": "2022-12-09T12:55:15.162Z"
   },
   {
    "duration": 0,
    "start_time": "2022-12-09T12:55:15.163Z"
   },
   {
    "duration": 0,
    "start_time": "2022-12-09T12:55:15.165Z"
   },
   {
    "duration": 0,
    "start_time": "2022-12-09T12:55:15.166Z"
   },
   {
    "duration": 0,
    "start_time": "2022-12-09T12:55:15.168Z"
   },
   {
    "duration": 0,
    "start_time": "2022-12-09T12:55:15.169Z"
   },
   {
    "duration": 0,
    "start_time": "2022-12-09T12:55:15.170Z"
   },
   {
    "duration": 1,
    "start_time": "2022-12-09T12:55:15.171Z"
   },
   {
    "duration": 0,
    "start_time": "2022-12-09T12:55:15.173Z"
   },
   {
    "duration": 0,
    "start_time": "2022-12-09T12:55:15.174Z"
   },
   {
    "duration": 0,
    "start_time": "2022-12-09T12:55:15.176Z"
   },
   {
    "duration": 0,
    "start_time": "2022-12-09T12:55:15.178Z"
   },
   {
    "duration": 0,
    "start_time": "2022-12-09T12:55:15.179Z"
   },
   {
    "duration": 0,
    "start_time": "2022-12-09T12:55:15.180Z"
   },
   {
    "duration": 17,
    "start_time": "2022-12-09T12:55:40.032Z"
   },
   {
    "duration": 4,
    "start_time": "2022-12-09T12:55:47.137Z"
   },
   {
    "duration": 4,
    "start_time": "2022-12-09T12:55:49.437Z"
   },
   {
    "duration": 15,
    "start_time": "2022-12-09T12:55:50.719Z"
   },
   {
    "duration": 4,
    "start_time": "2022-12-09T12:55:51.331Z"
   },
   {
    "duration": 17,
    "start_time": "2022-12-09T12:55:51.865Z"
   },
   {
    "duration": 13,
    "start_time": "2022-12-09T12:55:56.180Z"
   },
   {
    "duration": 19,
    "start_time": "2022-12-09T12:56:04.417Z"
   },
   {
    "duration": 9,
    "start_time": "2022-12-09T12:56:18.321Z"
   },
   {
    "duration": 6,
    "start_time": "2022-12-09T12:56:21.034Z"
   },
   {
    "duration": 1029,
    "start_time": "2022-12-09T12:56:24.827Z"
   },
   {
    "duration": 4,
    "start_time": "2022-12-09T12:56:31.798Z"
   },
   {
    "duration": 13,
    "start_time": "2022-12-09T12:56:33.388Z"
   },
   {
    "duration": 5,
    "start_time": "2022-12-09T12:56:34.066Z"
   },
   {
    "duration": 19,
    "start_time": "2022-12-09T12:56:34.987Z"
   },
   {
    "duration": 1190,
    "start_time": "2022-12-09T12:56:35.677Z"
   },
   {
    "duration": 13,
    "start_time": "2022-12-09T12:56:40.067Z"
   },
   {
    "duration": 5,
    "start_time": "2022-12-09T12:56:41.806Z"
   },
   {
    "duration": 12,
    "start_time": "2022-12-09T12:56:43.385Z"
   },
   {
    "duration": 517,
    "start_time": "2022-12-09T12:56:43.764Z"
   },
   {
    "duration": 3,
    "start_time": "2022-12-09T12:56:45.789Z"
   },
   {
    "duration": 1518,
    "start_time": "2022-12-09T12:56:53.411Z"
   },
   {
    "duration": 130,
    "start_time": "2022-12-09T12:56:57.546Z"
   },
   {
    "duration": 5,
    "start_time": "2022-12-09T13:05:45.754Z"
   },
   {
    "duration": 131,
    "start_time": "2022-12-09T13:06:12.051Z"
   },
   {
    "duration": 5,
    "start_time": "2022-12-09T13:06:49.055Z"
   },
   {
    "duration": 75441,
    "start_time": "2022-12-09T13:06:50.141Z"
   },
   {
    "duration": 6,
    "start_time": "2022-12-09T13:11:02.576Z"
   },
   {
    "duration": 78662,
    "start_time": "2022-12-09T13:11:03.747Z"
   },
   {
    "duration": 6,
    "start_time": "2022-12-09T13:13:29.589Z"
   },
   {
    "duration": 79928,
    "start_time": "2022-12-09T13:13:30.180Z"
   },
   {
    "duration": 1002,
    "start_time": "2022-12-09T13:16:38.478Z"
   },
   {
    "duration": 212,
    "start_time": "2022-12-09T13:16:46.756Z"
   },
   {
    "duration": 233,
    "start_time": "2022-12-09T13:17:35.970Z"
   },
   {
    "duration": 274,
    "start_time": "2022-12-09T13:17:39.303Z"
   },
   {
    "duration": 304,
    "start_time": "2022-12-09T13:17:43.269Z"
   },
   {
    "duration": 337,
    "start_time": "2022-12-09T13:17:47.467Z"
   },
   {
    "duration": 388,
    "start_time": "2022-12-09T13:17:52.575Z"
   },
   {
    "duration": 390,
    "start_time": "2022-12-09T13:17:55.726Z"
   },
   {
    "duration": 458,
    "start_time": "2022-12-09T13:17:59.220Z"
   },
   {
    "duration": 491,
    "start_time": "2022-12-09T13:18:02.626Z"
   },
   {
    "duration": 523,
    "start_time": "2022-12-09T13:18:06.098Z"
   },
   {
    "duration": 543,
    "start_time": "2022-12-09T13:18:09.734Z"
   },
   {
    "duration": 615,
    "start_time": "2022-12-09T13:18:12.779Z"
   },
   {
    "duration": 547,
    "start_time": "2022-12-09T13:18:17.313Z"
   },
   {
    "duration": 538,
    "start_time": "2022-12-09T13:18:21.220Z"
   },
   {
    "duration": 1130,
    "start_time": "2022-12-09T13:18:25.682Z"
   },
   {
    "duration": 1038,
    "start_time": "2022-12-09T13:18:31.319Z"
   },
   {
    "duration": 1066,
    "start_time": "2022-12-09T13:18:35.395Z"
   },
   {
    "duration": 1113,
    "start_time": "2022-12-09T13:18:39.825Z"
   },
   {
    "duration": 1180,
    "start_time": "2022-12-09T13:18:48.382Z"
   },
   {
    "duration": 4,
    "start_time": "2022-12-09T13:19:32.590Z"
   },
   {
    "duration": 29963,
    "start_time": "2022-12-09T13:19:32.961Z"
   },
   {
    "duration": 5,
    "start_time": "2022-12-09T13:46:05.968Z"
   },
   {
    "duration": 32228,
    "start_time": "2022-12-09T13:46:06.400Z"
   },
   {
    "duration": 1015,
    "start_time": "2022-12-09T13:46:47.287Z"
   },
   {
    "duration": 7,
    "start_time": "2022-12-09T13:46:56.004Z"
   },
   {
    "duration": 39701,
    "start_time": "2022-12-09T13:46:56.388Z"
   },
   {
    "duration": 1096,
    "start_time": "2022-12-09T13:47:42.173Z"
   },
   {
    "duration": 108,
    "start_time": "2022-12-09T13:47:47.592Z"
   },
   {
    "duration": 1207,
    "start_time": "2022-12-09T13:48:24.710Z"
   },
   {
    "duration": 46,
    "start_time": "2022-12-09T13:48:25.919Z"
   },
   {
    "duration": 18,
    "start_time": "2022-12-09T13:48:25.967Z"
   },
   {
    "duration": 14,
    "start_time": "2022-12-09T13:48:25.988Z"
   },
   {
    "duration": 27,
    "start_time": "2022-12-09T13:48:26.003Z"
   },
   {
    "duration": 39,
    "start_time": "2022-12-09T13:48:26.031Z"
   },
   {
    "duration": 15,
    "start_time": "2022-12-09T13:48:26.072Z"
   },
   {
    "duration": 23,
    "start_time": "2022-12-09T13:48:26.089Z"
   },
   {
    "duration": 16,
    "start_time": "2022-12-09T13:48:26.114Z"
   },
   {
    "duration": 18,
    "start_time": "2022-12-09T13:48:26.133Z"
   },
   {
    "duration": 32,
    "start_time": "2022-12-09T13:48:26.152Z"
   },
   {
    "duration": 12,
    "start_time": "2022-12-09T13:48:26.186Z"
   },
   {
    "duration": 18,
    "start_time": "2022-12-09T13:48:26.201Z"
   },
   {
    "duration": 9,
    "start_time": "2022-12-09T13:48:26.221Z"
   },
   {
    "duration": 12,
    "start_time": "2022-12-09T13:48:26.231Z"
   },
   {
    "duration": 14,
    "start_time": "2022-12-09T13:48:26.245Z"
   },
   {
    "duration": 33,
    "start_time": "2022-12-09T13:48:26.260Z"
   },
   {
    "duration": 11,
    "start_time": "2022-12-09T13:48:26.294Z"
   },
   {
    "duration": 22,
    "start_time": "2022-12-09T13:48:26.307Z"
   },
   {
    "duration": 5,
    "start_time": "2022-12-09T13:48:26.333Z"
   },
   {
    "duration": 5,
    "start_time": "2022-12-09T13:48:26.340Z"
   },
   {
    "duration": 25,
    "start_time": "2022-12-09T13:48:26.347Z"
   },
   {
    "duration": 9,
    "start_time": "2022-12-09T13:48:26.374Z"
   },
   {
    "duration": 8,
    "start_time": "2022-12-09T13:48:26.385Z"
   },
   {
    "duration": 21,
    "start_time": "2022-12-09T13:48:26.395Z"
   },
   {
    "duration": 3,
    "start_time": "2022-12-09T13:48:26.418Z"
   },
   {
    "duration": 20,
    "start_time": "2022-12-09T13:48:26.423Z"
   },
   {
    "duration": 20,
    "start_time": "2022-12-09T13:48:26.456Z"
   },
   {
    "duration": 7,
    "start_time": "2022-12-09T13:48:26.477Z"
   },
   {
    "duration": 6,
    "start_time": "2022-12-09T13:48:26.486Z"
   },
   {
    "duration": 1065,
    "start_time": "2022-12-09T13:48:26.494Z"
   },
   {
    "duration": 6,
    "start_time": "2022-12-09T13:48:27.561Z"
   },
   {
    "duration": 123,
    "start_time": "2022-12-09T13:48:27.569Z"
   },
   {
    "duration": 5,
    "start_time": "2022-12-09T13:48:27.694Z"
   },
   {
    "duration": 20,
    "start_time": "2022-12-09T13:48:27.700Z"
   },
   {
    "duration": 1261,
    "start_time": "2022-12-09T13:48:27.722Z"
   },
   {
    "duration": 13,
    "start_time": "2022-12-09T13:48:28.984Z"
   },
   {
    "duration": 10,
    "start_time": "2022-12-09T13:48:28.998Z"
   },
   {
    "duration": 17,
    "start_time": "2022-12-09T13:48:29.009Z"
   },
   {
    "duration": 650,
    "start_time": "2022-12-09T13:48:29.028Z"
   },
   {
    "duration": 3,
    "start_time": "2022-12-09T13:48:29.679Z"
   },
   {
    "duration": 6,
    "start_time": "2022-12-09T13:48:29.684Z"
   },
   {
    "duration": 6,
    "start_time": "2022-12-09T13:48:29.691Z"
   },
   {
    "duration": 5,
    "start_time": "2022-12-09T13:48:29.698Z"
   },
   {
    "duration": 10,
    "start_time": "2022-12-09T13:48:29.704Z"
   },
   {
    "duration": 37245,
    "start_time": "2022-12-09T13:48:29.716Z"
   },
   {
    "duration": 1091,
    "start_time": "2022-12-09T13:49:06.963Z"
   },
   {
    "duration": 114,
    "start_time": "2022-12-09T13:49:08.059Z"
   },
   {
    "duration": 413,
    "start_time": "2022-12-09T13:49:08.175Z"
   },
   {
    "duration": 1347,
    "start_time": "2022-12-09T13:50:33.322Z"
   },
   {
    "duration": 44,
    "start_time": "2022-12-09T13:50:34.672Z"
   },
   {
    "duration": 17,
    "start_time": "2022-12-09T13:50:34.718Z"
   },
   {
    "duration": 13,
    "start_time": "2022-12-09T13:50:34.737Z"
   },
   {
    "duration": 30,
    "start_time": "2022-12-09T13:50:34.753Z"
   },
   {
    "duration": 33,
    "start_time": "2022-12-09T13:50:34.785Z"
   },
   {
    "duration": 4,
    "start_time": "2022-12-09T13:50:34.820Z"
   },
   {
    "duration": 19,
    "start_time": "2022-12-09T13:50:34.825Z"
   },
   {
    "duration": 32,
    "start_time": "2022-12-09T13:50:34.846Z"
   },
   {
    "duration": 23,
    "start_time": "2022-12-09T13:50:34.879Z"
   },
   {
    "duration": 17,
    "start_time": "2022-12-09T13:50:34.904Z"
   },
   {
    "duration": 15,
    "start_time": "2022-12-09T13:50:34.923Z"
   },
   {
    "duration": 27,
    "start_time": "2022-12-09T13:50:34.939Z"
   },
   {
    "duration": 9,
    "start_time": "2022-12-09T13:50:34.973Z"
   },
   {
    "duration": 30,
    "start_time": "2022-12-09T13:50:34.983Z"
   },
   {
    "duration": 26,
    "start_time": "2022-12-09T13:50:35.015Z"
   },
   {
    "duration": 28,
    "start_time": "2022-12-09T13:50:35.043Z"
   },
   {
    "duration": 22,
    "start_time": "2022-12-09T13:50:35.073Z"
   },
   {
    "duration": 38,
    "start_time": "2022-12-09T13:50:35.097Z"
   },
   {
    "duration": 11,
    "start_time": "2022-12-09T13:50:35.137Z"
   },
   {
    "duration": 25,
    "start_time": "2022-12-09T13:50:35.149Z"
   },
   {
    "duration": 23,
    "start_time": "2022-12-09T13:50:35.176Z"
   },
   {
    "duration": 3,
    "start_time": "2022-12-09T13:50:35.200Z"
   },
   {
    "duration": 9,
    "start_time": "2022-12-09T13:50:35.205Z"
   },
   {
    "duration": 18,
    "start_time": "2022-12-09T13:50:35.215Z"
   },
   {
    "duration": 3,
    "start_time": "2022-12-09T13:50:35.235Z"
   },
   {
    "duration": 18,
    "start_time": "2022-12-09T13:50:35.240Z"
   },
   {
    "duration": 15,
    "start_time": "2022-12-09T13:50:35.259Z"
   },
   {
    "duration": 7,
    "start_time": "2022-12-09T13:50:35.275Z"
   },
   {
    "duration": 6,
    "start_time": "2022-12-09T13:50:35.284Z"
   },
   {
    "duration": 1069,
    "start_time": "2022-12-09T13:50:35.293Z"
   },
   {
    "duration": 7,
    "start_time": "2022-12-09T13:50:36.364Z"
   },
   {
    "duration": 124,
    "start_time": "2022-12-09T13:50:36.373Z"
   },
   {
    "duration": 6,
    "start_time": "2022-12-09T13:50:36.499Z"
   },
   {
    "duration": 19,
    "start_time": "2022-12-09T13:50:36.507Z"
   },
   {
    "duration": 1293,
    "start_time": "2022-12-09T13:50:36.528Z"
   },
   {
    "duration": 14,
    "start_time": "2022-12-09T13:50:37.823Z"
   },
   {
    "duration": 5,
    "start_time": "2022-12-09T13:50:37.839Z"
   },
   {
    "duration": 29,
    "start_time": "2022-12-09T13:50:37.859Z"
   },
   {
    "duration": 527,
    "start_time": "2022-12-09T13:50:37.890Z"
   },
   {
    "duration": 3,
    "start_time": "2022-12-09T13:50:38.422Z"
   },
   {
    "duration": 13,
    "start_time": "2022-12-09T13:50:38.427Z"
   },
   {
    "duration": 28,
    "start_time": "2022-12-09T13:50:38.441Z"
   },
   {
    "duration": 14,
    "start_time": "2022-12-09T13:50:38.471Z"
   },
   {
    "duration": 20,
    "start_time": "2022-12-09T13:50:38.486Z"
   },
   {
    "duration": 1203,
    "start_time": "2022-12-09T13:50:51.805Z"
   },
   {
    "duration": 42,
    "start_time": "2022-12-09T13:50:53.010Z"
   },
   {
    "duration": 27,
    "start_time": "2022-12-09T13:50:53.054Z"
   },
   {
    "duration": 15,
    "start_time": "2022-12-09T13:50:53.083Z"
   },
   {
    "duration": 15,
    "start_time": "2022-12-09T13:50:53.101Z"
   },
   {
    "duration": 48,
    "start_time": "2022-12-09T13:50:53.117Z"
   },
   {
    "duration": 4,
    "start_time": "2022-12-09T13:50:53.168Z"
   },
   {
    "duration": 4,
    "start_time": "2022-12-09T13:50:53.174Z"
   },
   {
    "duration": 7,
    "start_time": "2022-12-09T13:50:53.180Z"
   },
   {
    "duration": 3,
    "start_time": "2022-12-09T13:50:53.189Z"
   },
   {
    "duration": 10,
    "start_time": "2022-12-09T13:50:53.194Z"
   },
   {
    "duration": 9,
    "start_time": "2022-12-09T13:50:53.206Z"
   },
   {
    "duration": 6,
    "start_time": "2022-12-09T13:50:53.217Z"
   },
   {
    "duration": 40,
    "start_time": "2022-12-09T13:50:53.227Z"
   },
   {
    "duration": 15,
    "start_time": "2022-12-09T13:50:53.269Z"
   },
   {
    "duration": 10,
    "start_time": "2022-12-09T13:50:53.285Z"
   },
   {
    "duration": 8,
    "start_time": "2022-12-09T13:50:53.297Z"
   },
   {
    "duration": 4,
    "start_time": "2022-12-09T13:50:53.307Z"
   },
   {
    "duration": 23,
    "start_time": "2022-12-09T13:50:53.312Z"
   },
   {
    "duration": 20,
    "start_time": "2022-12-09T13:50:53.337Z"
   },
   {
    "duration": 17,
    "start_time": "2022-12-09T13:50:53.359Z"
   },
   {
    "duration": 18,
    "start_time": "2022-12-09T13:50:53.378Z"
   },
   {
    "duration": 3,
    "start_time": "2022-12-09T13:50:53.397Z"
   },
   {
    "duration": 6,
    "start_time": "2022-12-09T13:50:53.402Z"
   },
   {
    "duration": 23,
    "start_time": "2022-12-09T13:50:53.410Z"
   },
   {
    "duration": 4,
    "start_time": "2022-12-09T13:50:53.434Z"
   },
   {
    "duration": 27,
    "start_time": "2022-12-09T13:50:53.439Z"
   },
   {
    "duration": 14,
    "start_time": "2022-12-09T13:50:53.468Z"
   },
   {
    "duration": 7,
    "start_time": "2022-12-09T13:50:53.484Z"
   },
   {
    "duration": 5,
    "start_time": "2022-12-09T13:50:53.493Z"
   },
   {
    "duration": 1155,
    "start_time": "2022-12-09T13:50:53.500Z"
   },
   {
    "duration": 11,
    "start_time": "2022-12-09T13:50:54.663Z"
   },
   {
    "duration": 48,
    "start_time": "2022-12-09T13:50:54.757Z"
   },
   {
    "duration": 7,
    "start_time": "2022-12-09T13:50:54.807Z"
   },
   {
    "duration": 37,
    "start_time": "2022-12-09T13:50:54.816Z"
   },
   {
    "duration": 1379,
    "start_time": "2022-12-09T13:50:54.857Z"
   },
   {
    "duration": 27,
    "start_time": "2022-12-09T13:50:56.238Z"
   },
   {
    "duration": 6,
    "start_time": "2022-12-09T13:50:56.266Z"
   },
   {
    "duration": 16,
    "start_time": "2022-12-09T13:50:56.274Z"
   },
   {
    "duration": 545,
    "start_time": "2022-12-09T13:50:56.292Z"
   },
   {
    "duration": 4,
    "start_time": "2022-12-09T13:50:56.840Z"
   },
   {
    "duration": 24,
    "start_time": "2022-12-09T13:50:56.845Z"
   },
   {
    "duration": 7,
    "start_time": "2022-12-09T13:50:56.870Z"
   },
   {
    "duration": 6,
    "start_time": "2022-12-09T13:50:56.878Z"
   },
   {
    "duration": 8,
    "start_time": "2022-12-09T13:50:56.885Z"
   },
   {
    "duration": 8,
    "start_time": "2022-12-09T13:50:56.895Z"
   },
   {
    "duration": 1198,
    "start_time": "2022-12-09T13:50:56.905Z"
   },
   {
    "duration": 115,
    "start_time": "2022-12-09T13:50:58.105Z"
   },
   {
    "duration": 422,
    "start_time": "2022-12-09T13:50:58.221Z"
   },
   {
    "duration": 1377,
    "start_time": "2022-12-09T13:51:25.933Z"
   },
   {
    "duration": 41,
    "start_time": "2022-12-09T13:51:27.312Z"
   },
   {
    "duration": 19,
    "start_time": "2022-12-09T13:51:27.355Z"
   },
   {
    "duration": 15,
    "start_time": "2022-12-09T13:51:27.376Z"
   },
   {
    "duration": 15,
    "start_time": "2022-12-09T13:51:27.393Z"
   },
   {
    "duration": 21,
    "start_time": "2022-12-09T13:51:27.410Z"
   },
   {
    "duration": 34,
    "start_time": "2022-12-09T13:51:27.432Z"
   },
   {
    "duration": 13,
    "start_time": "2022-12-09T13:51:27.468Z"
   },
   {
    "duration": 8,
    "start_time": "2022-12-09T13:51:27.483Z"
   },
   {
    "duration": 12,
    "start_time": "2022-12-09T13:51:27.493Z"
   },
   {
    "duration": 9,
    "start_time": "2022-12-09T13:51:27.506Z"
   },
   {
    "duration": 6,
    "start_time": "2022-12-09T13:51:27.516Z"
   },
   {
    "duration": 6,
    "start_time": "2022-12-09T13:51:27.524Z"
   },
   {
    "duration": 4,
    "start_time": "2022-12-09T13:51:27.533Z"
   },
   {
    "duration": 7,
    "start_time": "2022-12-09T13:51:27.539Z"
   },
   {
    "duration": 26,
    "start_time": "2022-12-09T13:51:27.547Z"
   },
   {
    "duration": 9,
    "start_time": "2022-12-09T13:51:27.575Z"
   },
   {
    "duration": 6,
    "start_time": "2022-12-09T13:51:27.585Z"
   },
   {
    "duration": 23,
    "start_time": "2022-12-09T13:51:27.593Z"
   },
   {
    "duration": 5,
    "start_time": "2022-12-09T13:51:27.618Z"
   },
   {
    "duration": 6,
    "start_time": "2022-12-09T13:51:27.625Z"
   },
   {
    "duration": 41,
    "start_time": "2022-12-09T13:51:27.633Z"
   },
   {
    "duration": 4,
    "start_time": "2022-12-09T13:51:27.677Z"
   },
   {
    "duration": 18,
    "start_time": "2022-12-09T13:51:27.683Z"
   },
   {
    "duration": 27,
    "start_time": "2022-12-09T13:51:27.704Z"
   },
   {
    "duration": 5,
    "start_time": "2022-12-09T13:51:27.732Z"
   },
   {
    "duration": 27,
    "start_time": "2022-12-09T13:51:27.738Z"
   },
   {
    "duration": 15,
    "start_time": "2022-12-09T13:51:27.766Z"
   },
   {
    "duration": 10,
    "start_time": "2022-12-09T13:51:27.782Z"
   },
   {
    "duration": 6,
    "start_time": "2022-12-09T13:51:27.794Z"
   },
   {
    "duration": 1064,
    "start_time": "2022-12-09T13:51:27.801Z"
   },
   {
    "duration": 7,
    "start_time": "2022-12-09T13:51:28.867Z"
   },
   {
    "duration": 112,
    "start_time": "2022-12-09T13:51:28.875Z"
   },
   {
    "duration": 5,
    "start_time": "2022-12-09T13:51:28.989Z"
   },
   {
    "duration": 22,
    "start_time": "2022-12-09T13:51:28.995Z"
   },
   {
    "duration": 1260,
    "start_time": "2022-12-09T13:51:29.019Z"
   },
   {
    "duration": 13,
    "start_time": "2022-12-09T13:51:30.281Z"
   },
   {
    "duration": 5,
    "start_time": "2022-12-09T13:51:30.297Z"
   },
   {
    "duration": 61,
    "start_time": "2022-12-09T13:51:30.304Z"
   },
   {
    "duration": 562,
    "start_time": "2022-12-09T13:51:30.368Z"
   },
   {
    "duration": 3,
    "start_time": "2022-12-09T13:51:30.934Z"
   },
   {
    "duration": 35,
    "start_time": "2022-12-09T13:51:30.938Z"
   },
   {
    "duration": 19,
    "start_time": "2022-12-09T13:51:30.975Z"
   },
   {
    "duration": 12,
    "start_time": "2022-12-09T13:51:30.996Z"
   },
   {
    "duration": 12,
    "start_time": "2022-12-09T13:51:31.010Z"
   },
   {
    "duration": 15,
    "start_time": "2022-12-09T13:51:31.023Z"
   },
   {
    "duration": 1129,
    "start_time": "2022-12-09T13:51:31.040Z"
   },
   {
    "duration": 106,
    "start_time": "2022-12-09T13:51:32.171Z"
   },
   {
    "duration": 421,
    "start_time": "2022-12-09T13:51:32.278Z"
   },
   {
    "duration": 5,
    "start_time": "2022-12-09T13:53:39.584Z"
   },
   {
    "duration": 148166,
    "start_time": "2022-12-09T13:53:43.389Z"
   },
   {
    "duration": 880,
    "start_time": "2022-12-09T13:56:53.413Z"
   },
   {
    "duration": 83,
    "start_time": "2022-12-09T13:56:58.805Z"
   },
   {
    "duration": 1192,
    "start_time": "2022-12-09T13:57:30.434Z"
   },
   {
    "duration": 126,
    "start_time": "2022-12-09T13:57:34.394Z"
   },
   {
    "duration": 4,
    "start_time": "2022-12-09T13:57:59.178Z"
   },
   {
    "duration": 125821,
    "start_time": "2022-12-09T13:57:59.619Z"
   },
   {
    "duration": 1549,
    "start_time": "2022-12-09T14:00:13.597Z"
   },
   {
    "duration": 133,
    "start_time": "2022-12-09T14:00:18.800Z"
   },
   {
    "duration": 5,
    "start_time": "2022-12-09T14:03:10.287Z"
   },
   {
    "duration": 133,
    "start_time": "2022-12-09T14:03:11.453Z"
   },
   {
    "duration": 6,
    "start_time": "2022-12-09T14:03:27.504Z"
   },
   {
    "duration": 97518,
    "start_time": "2022-12-09T14:03:28.051Z"
   },
   {
    "duration": 5,
    "start_time": "2022-12-09T14:07:27.804Z"
   },
   {
    "duration": 82793,
    "start_time": "2022-12-09T14:07:28.219Z"
   },
   {
    "duration": 5,
    "start_time": "2022-12-09T14:21:59.788Z"
   },
   {
    "duration": 13329,
    "start_time": "2022-12-09T14:22:00.078Z"
   },
   {
    "duration": 6,
    "start_time": "2022-12-09T14:22:19.905Z"
   },
   {
    "duration": 379595,
    "start_time": "2022-12-09T14:22:20.368Z"
   },
   {
    "duration": 1819,
    "start_time": "2022-12-09T14:29:23.678Z"
   },
   {
    "duration": 161,
    "start_time": "2022-12-09T14:29:30.716Z"
   },
   {
    "duration": 1907,
    "start_time": "2022-12-09T14:32:22.009Z"
   },
   {
    "duration": 168,
    "start_time": "2022-12-09T14:32:31.999Z"
   },
   {
    "duration": 1306,
    "start_time": "2022-12-09T14:33:04.365Z"
   },
   {
    "duration": 116,
    "start_time": "2022-12-09T14:33:09.867Z"
   },
   {
    "duration": 66,
    "start_time": "2022-12-09T14:34:18.146Z"
   },
   {
    "duration": 1290,
    "start_time": "2022-12-09T14:34:31.553Z"
   },
   {
    "duration": 51,
    "start_time": "2022-12-09T14:34:32.845Z"
   },
   {
    "duration": 18,
    "start_time": "2022-12-09T14:34:32.897Z"
   },
   {
    "duration": 13,
    "start_time": "2022-12-09T14:34:32.917Z"
   },
   {
    "duration": 43,
    "start_time": "2022-12-09T14:34:32.932Z"
   },
   {
    "duration": 39,
    "start_time": "2022-12-09T14:34:32.978Z"
   },
   {
    "duration": 3,
    "start_time": "2022-12-09T14:34:33.019Z"
   },
   {
    "duration": 26,
    "start_time": "2022-12-09T14:34:33.023Z"
   },
   {
    "duration": 24,
    "start_time": "2022-12-09T14:34:33.051Z"
   },
   {
    "duration": 6,
    "start_time": "2022-12-09T14:34:33.078Z"
   },
   {
    "duration": 31,
    "start_time": "2022-12-09T14:34:33.085Z"
   },
   {
    "duration": 26,
    "start_time": "2022-12-09T14:34:33.117Z"
   },
   {
    "duration": 41,
    "start_time": "2022-12-09T14:34:33.144Z"
   },
   {
    "duration": 29,
    "start_time": "2022-12-09T14:34:33.187Z"
   },
   {
    "duration": 7,
    "start_time": "2022-12-09T14:34:33.218Z"
   },
   {
    "duration": 9,
    "start_time": "2022-12-09T14:34:33.226Z"
   },
   {
    "duration": 10,
    "start_time": "2022-12-09T14:34:33.237Z"
   },
   {
    "duration": 5,
    "start_time": "2022-12-09T14:34:33.249Z"
   },
   {
    "duration": 32,
    "start_time": "2022-12-09T14:34:33.267Z"
   },
   {
    "duration": 5,
    "start_time": "2022-12-09T14:34:33.301Z"
   },
   {
    "duration": 16,
    "start_time": "2022-12-09T14:34:33.307Z"
   },
   {
    "duration": 55,
    "start_time": "2022-12-09T14:34:33.325Z"
   },
   {
    "duration": 0,
    "start_time": "2022-12-09T14:34:33.384Z"
   },
   {
    "duration": 0,
    "start_time": "2022-12-09T14:34:33.386Z"
   },
   {
    "duration": 0,
    "start_time": "2022-12-09T14:34:33.387Z"
   },
   {
    "duration": 0,
    "start_time": "2022-12-09T14:34:33.389Z"
   },
   {
    "duration": 0,
    "start_time": "2022-12-09T14:34:33.390Z"
   },
   {
    "duration": 0,
    "start_time": "2022-12-09T14:34:33.391Z"
   },
   {
    "duration": 0,
    "start_time": "2022-12-09T14:34:33.393Z"
   },
   {
    "duration": 0,
    "start_time": "2022-12-09T14:34:33.394Z"
   },
   {
    "duration": 0,
    "start_time": "2022-12-09T14:34:33.395Z"
   },
   {
    "duration": 0,
    "start_time": "2022-12-09T14:34:33.396Z"
   },
   {
    "duration": 0,
    "start_time": "2022-12-09T14:34:33.397Z"
   },
   {
    "duration": 0,
    "start_time": "2022-12-09T14:34:33.398Z"
   },
   {
    "duration": 0,
    "start_time": "2022-12-09T14:34:33.399Z"
   },
   {
    "duration": 0,
    "start_time": "2022-12-09T14:34:33.401Z"
   },
   {
    "duration": 0,
    "start_time": "2022-12-09T14:34:33.402Z"
   },
   {
    "duration": 0,
    "start_time": "2022-12-09T14:34:33.403Z"
   },
   {
    "duration": 0,
    "start_time": "2022-12-09T14:34:33.404Z"
   },
   {
    "duration": 0,
    "start_time": "2022-12-09T14:34:33.405Z"
   },
   {
    "duration": 0,
    "start_time": "2022-12-09T14:34:33.407Z"
   },
   {
    "duration": 0,
    "start_time": "2022-12-09T14:34:33.408Z"
   },
   {
    "duration": 0,
    "start_time": "2022-12-09T14:34:33.408Z"
   },
   {
    "duration": 0,
    "start_time": "2022-12-09T14:34:33.410Z"
   },
   {
    "duration": 0,
    "start_time": "2022-12-09T14:34:33.411Z"
   },
   {
    "duration": 0,
    "start_time": "2022-12-09T14:34:33.412Z"
   },
   {
    "duration": 0,
    "start_time": "2022-12-09T14:34:33.413Z"
   },
   {
    "duration": 0,
    "start_time": "2022-12-09T14:34:33.414Z"
   },
   {
    "duration": 0,
    "start_time": "2022-12-09T14:34:33.415Z"
   },
   {
    "duration": 16,
    "start_time": "2022-12-09T14:34:48.902Z"
   },
   {
    "duration": 1316,
    "start_time": "2022-12-09T14:34:53.969Z"
   },
   {
    "duration": 41,
    "start_time": "2022-12-09T14:34:55.287Z"
   },
   {
    "duration": 18,
    "start_time": "2022-12-09T14:34:55.330Z"
   },
   {
    "duration": 33,
    "start_time": "2022-12-09T14:34:55.350Z"
   },
   {
    "duration": 17,
    "start_time": "2022-12-09T14:34:55.385Z"
   },
   {
    "duration": 22,
    "start_time": "2022-12-09T14:34:55.404Z"
   },
   {
    "duration": 6,
    "start_time": "2022-12-09T14:34:55.428Z"
   },
   {
    "duration": 6,
    "start_time": "2022-12-09T14:34:55.436Z"
   },
   {
    "duration": 10,
    "start_time": "2022-12-09T14:34:55.443Z"
   },
   {
    "duration": 22,
    "start_time": "2022-12-09T14:34:55.454Z"
   },
   {
    "duration": 13,
    "start_time": "2022-12-09T14:34:55.478Z"
   },
   {
    "duration": 6,
    "start_time": "2022-12-09T14:34:55.492Z"
   },
   {
    "duration": 9,
    "start_time": "2022-12-09T14:34:55.499Z"
   },
   {
    "duration": 5,
    "start_time": "2022-12-09T14:34:55.511Z"
   },
   {
    "duration": 10,
    "start_time": "2022-12-09T14:34:55.518Z"
   },
   {
    "duration": 13,
    "start_time": "2022-12-09T14:34:55.529Z"
   },
   {
    "duration": 27,
    "start_time": "2022-12-09T14:34:55.544Z"
   },
   {
    "duration": 6,
    "start_time": "2022-12-09T14:34:55.573Z"
   },
   {
    "duration": 35,
    "start_time": "2022-12-09T14:34:55.581Z"
   },
   {
    "duration": 4,
    "start_time": "2022-12-09T14:34:55.618Z"
   },
   {
    "duration": 6,
    "start_time": "2022-12-09T14:34:55.624Z"
   },
   {
    "duration": 17,
    "start_time": "2022-12-09T14:34:55.632Z"
   },
   {
    "duration": 4,
    "start_time": "2022-12-09T14:34:55.650Z"
   },
   {
    "duration": 9,
    "start_time": "2022-12-09T14:34:55.666Z"
   },
   {
    "duration": 22,
    "start_time": "2022-12-09T14:34:55.677Z"
   },
   {
    "duration": 3,
    "start_time": "2022-12-09T14:34:55.701Z"
   },
   {
    "duration": 27,
    "start_time": "2022-12-09T14:34:55.706Z"
   },
   {
    "duration": 13,
    "start_time": "2022-12-09T14:34:55.734Z"
   },
   {
    "duration": 32,
    "start_time": "2022-12-09T14:34:55.748Z"
   },
   {
    "duration": 10,
    "start_time": "2022-12-09T14:34:55.782Z"
   },
   {
    "duration": 1085,
    "start_time": "2022-12-09T14:34:55.794Z"
   },
   {
    "duration": 21,
    "start_time": "2022-12-09T14:34:56.956Z"
   },
   {
    "duration": 107,
    "start_time": "2022-12-09T14:34:56.978Z"
   },
   {
    "duration": 5,
    "start_time": "2022-12-09T14:34:57.087Z"
   },
   {
    "duration": 19,
    "start_time": "2022-12-09T14:34:57.093Z"
   },
   {
    "duration": 1303,
    "start_time": "2022-12-09T14:34:57.114Z"
   },
   {
    "duration": 15,
    "start_time": "2022-12-09T14:34:58.418Z"
   },
   {
    "duration": 4,
    "start_time": "2022-12-09T14:34:58.435Z"
   },
   {
    "duration": 23,
    "start_time": "2022-12-09T14:34:58.455Z"
   },
   {
    "duration": 533,
    "start_time": "2022-12-09T14:34:58.479Z"
   },
   {
    "duration": 3,
    "start_time": "2022-12-09T14:34:59.016Z"
   },
   {
    "duration": 8,
    "start_time": "2022-12-09T14:34:59.020Z"
   },
   {
    "duration": 7,
    "start_time": "2022-12-09T14:34:59.029Z"
   },
   {
    "duration": 6,
    "start_time": "2022-12-09T14:34:59.038Z"
   },
   {
    "duration": 26,
    "start_time": "2022-12-09T14:34:59.046Z"
   },
   {
    "duration": 349694,
    "start_time": "2022-12-09T14:34:59.074Z"
   },
   {
    "duration": 1326,
    "start_time": "2022-12-09T14:40:48.770Z"
   },
   {
    "duration": 128,
    "start_time": "2022-12-09T14:40:50.098Z"
   },
   {
    "duration": 441,
    "start_time": "2022-12-09T14:40:50.228Z"
   },
   {
    "duration": 1321,
    "start_time": "2022-12-09T14:41:44.483Z"
   },
   {
    "duration": 117,
    "start_time": "2022-12-09T14:41:48.541Z"
   },
   {
    "duration": 2,
    "start_time": "2022-12-09T14:42:30.761Z"
   },
   {
    "duration": 1224,
    "start_time": "2022-12-09T14:43:38.075Z"
   },
   {
    "duration": 40,
    "start_time": "2022-12-09T14:43:39.301Z"
   },
   {
    "duration": 24,
    "start_time": "2022-12-09T14:43:39.343Z"
   },
   {
    "duration": 14,
    "start_time": "2022-12-09T14:43:39.369Z"
   },
   {
    "duration": 22,
    "start_time": "2022-12-09T14:43:39.384Z"
   },
   {
    "duration": 22,
    "start_time": "2022-12-09T14:43:39.409Z"
   },
   {
    "duration": 2,
    "start_time": "2022-12-09T14:43:39.433Z"
   },
   {
    "duration": 28,
    "start_time": "2022-12-09T14:43:39.437Z"
   },
   {
    "duration": 4,
    "start_time": "2022-12-09T14:43:39.470Z"
   },
   {
    "duration": 11,
    "start_time": "2022-12-09T14:43:39.477Z"
   },
   {
    "duration": 7,
    "start_time": "2022-12-09T14:43:39.490Z"
   },
   {
    "duration": 10,
    "start_time": "2022-12-09T14:43:39.498Z"
   },
   {
    "duration": 10,
    "start_time": "2022-12-09T14:43:39.510Z"
   },
   {
    "duration": 13,
    "start_time": "2022-12-09T14:43:39.522Z"
   },
   {
    "duration": 13,
    "start_time": "2022-12-09T14:43:39.536Z"
   },
   {
    "duration": 25,
    "start_time": "2022-12-09T14:43:39.551Z"
   },
   {
    "duration": 13,
    "start_time": "2022-12-09T14:43:39.578Z"
   },
   {
    "duration": 6,
    "start_time": "2022-12-09T14:43:39.593Z"
   },
   {
    "duration": 24,
    "start_time": "2022-12-09T14:43:39.600Z"
   },
   {
    "duration": 4,
    "start_time": "2022-12-09T14:43:39.626Z"
   },
   {
    "duration": 6,
    "start_time": "2022-12-09T14:43:39.632Z"
   },
   {
    "duration": 30,
    "start_time": "2022-12-09T14:43:39.639Z"
   },
   {
    "duration": 4,
    "start_time": "2022-12-09T14:43:39.671Z"
   },
   {
    "duration": 9,
    "start_time": "2022-12-09T14:43:39.677Z"
   },
   {
    "duration": 23,
    "start_time": "2022-12-09T14:43:39.688Z"
   },
   {
    "duration": 3,
    "start_time": "2022-12-09T14:43:39.713Z"
   },
   {
    "duration": 21,
    "start_time": "2022-12-09T14:43:39.718Z"
   },
   {
    "duration": 25,
    "start_time": "2022-12-09T14:43:39.742Z"
   },
   {
    "duration": 10,
    "start_time": "2022-12-09T14:43:39.769Z"
   },
   {
    "duration": 7,
    "start_time": "2022-12-09T14:43:39.781Z"
   },
   {
    "duration": 1089,
    "start_time": "2022-12-09T14:43:39.790Z"
   },
   {
    "duration": 76,
    "start_time": "2022-12-09T14:43:40.881Z"
   },
   {
    "duration": 129,
    "start_time": "2022-12-09T14:43:40.960Z"
   },
   {
    "duration": 5,
    "start_time": "2022-12-09T14:43:41.090Z"
   },
   {
    "duration": 22,
    "start_time": "2022-12-09T14:43:41.096Z"
   },
   {
    "duration": 1291,
    "start_time": "2022-12-09T14:43:41.119Z"
   },
   {
    "duration": 13,
    "start_time": "2022-12-09T14:43:42.412Z"
   },
   {
    "duration": 4,
    "start_time": "2022-12-09T14:43:42.427Z"
   },
   {
    "duration": 38,
    "start_time": "2022-12-09T14:43:42.433Z"
   },
   {
    "duration": 536,
    "start_time": "2022-12-09T14:43:42.472Z"
   },
   {
    "duration": 3,
    "start_time": "2022-12-09T14:43:43.010Z"
   },
   {
    "duration": 6,
    "start_time": "2022-12-09T14:43:43.014Z"
   },
   {
    "duration": 5,
    "start_time": "2022-12-09T14:43:43.022Z"
   },
   {
    "duration": 6,
    "start_time": "2022-12-09T14:43:43.029Z"
   },
   {
    "duration": 24,
    "start_time": "2022-12-09T14:43:43.037Z"
   },
   {
    "duration": 3,
    "start_time": "2022-12-09T14:43:43.062Z"
   },
   {
    "duration": 1235,
    "start_time": "2022-12-09T14:43:43.067Z"
   },
   {
    "duration": 126,
    "start_time": "2022-12-09T14:43:44.304Z"
   },
   {
    "duration": 491,
    "start_time": "2022-12-09T14:43:44.432Z"
   },
   {
    "duration": 2373,
    "start_time": "2022-12-09T14:53:33.340Z"
   },
   {
    "duration": 43,
    "start_time": "2022-12-09T14:53:35.715Z"
   },
   {
    "duration": 18,
    "start_time": "2022-12-09T14:53:35.760Z"
   },
   {
    "duration": 13,
    "start_time": "2022-12-09T14:53:35.780Z"
   },
   {
    "duration": 17,
    "start_time": "2022-12-09T14:53:35.794Z"
   },
   {
    "duration": 45,
    "start_time": "2022-12-09T14:53:35.812Z"
   },
   {
    "duration": 3,
    "start_time": "2022-12-09T14:53:35.859Z"
   },
   {
    "duration": 4,
    "start_time": "2022-12-09T14:53:35.864Z"
   },
   {
    "duration": 7,
    "start_time": "2022-12-09T14:53:35.870Z"
   },
   {
    "duration": 4,
    "start_time": "2022-12-09T14:53:35.880Z"
   },
   {
    "duration": 6,
    "start_time": "2022-12-09T14:53:35.886Z"
   },
   {
    "duration": 5,
    "start_time": "2022-12-09T14:53:35.893Z"
   },
   {
    "duration": 6,
    "start_time": "2022-12-09T14:53:35.900Z"
   },
   {
    "duration": 5,
    "start_time": "2022-12-09T14:53:35.956Z"
   },
   {
    "duration": 6,
    "start_time": "2022-12-09T14:53:35.963Z"
   },
   {
    "duration": 19,
    "start_time": "2022-12-09T14:53:35.971Z"
   },
   {
    "duration": 9,
    "start_time": "2022-12-09T14:53:35.992Z"
   },
   {
    "duration": 6,
    "start_time": "2022-12-09T14:53:36.003Z"
   },
   {
    "duration": 23,
    "start_time": "2022-12-09T14:53:36.010Z"
   },
   {
    "duration": 21,
    "start_time": "2022-12-09T14:53:36.035Z"
   },
   {
    "duration": 6,
    "start_time": "2022-12-09T14:53:36.058Z"
   },
   {
    "duration": 19,
    "start_time": "2022-12-09T14:53:36.065Z"
   },
   {
    "duration": 3,
    "start_time": "2022-12-09T14:53:36.086Z"
   },
   {
    "duration": 8,
    "start_time": "2022-12-09T14:53:36.091Z"
   },
   {
    "duration": 23,
    "start_time": "2022-12-09T14:53:36.100Z"
   },
   {
    "duration": 4,
    "start_time": "2022-12-09T14:53:36.125Z"
   },
   {
    "duration": 36,
    "start_time": "2022-12-09T14:53:36.131Z"
   },
   {
    "duration": 13,
    "start_time": "2022-12-09T14:53:36.172Z"
   },
   {
    "duration": 8,
    "start_time": "2022-12-09T14:53:36.188Z"
   },
   {
    "duration": 7,
    "start_time": "2022-12-09T14:53:36.197Z"
   },
   {
    "duration": 1055,
    "start_time": "2022-12-09T14:53:36.205Z"
   },
   {
    "duration": 92,
    "start_time": "2022-12-09T14:53:37.264Z"
   },
   {
    "duration": 20,
    "start_time": "2022-12-09T14:53:37.358Z"
   },
   {
    "duration": 5,
    "start_time": "2022-12-09T14:53:37.380Z"
   },
   {
    "duration": 24,
    "start_time": "2022-12-09T14:53:37.387Z"
   },
   {
    "duration": 1299,
    "start_time": "2022-12-09T14:53:37.413Z"
   },
   {
    "duration": 13,
    "start_time": "2022-12-09T14:53:38.714Z"
   },
   {
    "duration": 5,
    "start_time": "2022-12-09T14:53:38.728Z"
   },
   {
    "duration": 33,
    "start_time": "2022-12-09T14:53:38.735Z"
   },
   {
    "duration": 519,
    "start_time": "2022-12-09T14:53:38.771Z"
   },
   {
    "duration": 3,
    "start_time": "2022-12-09T14:53:39.292Z"
   },
   {
    "duration": 8,
    "start_time": "2022-12-09T14:53:39.296Z"
   },
   {
    "duration": 6,
    "start_time": "2022-12-09T14:53:39.305Z"
   },
   {
    "duration": 5,
    "start_time": "2022-12-09T14:53:39.313Z"
   },
   {
    "duration": 7,
    "start_time": "2022-12-09T14:53:39.320Z"
   },
   {
    "duration": 6,
    "start_time": "2022-12-09T14:53:39.329Z"
   },
   {
    "duration": 1168,
    "start_time": "2022-12-09T14:53:39.337Z"
   },
   {
    "duration": 117,
    "start_time": "2022-12-09T14:53:40.507Z"
   },
   {
    "duration": 411,
    "start_time": "2022-12-09T14:53:40.626Z"
   },
   {
    "duration": 333498,
    "start_time": "2022-12-09T14:54:12.427Z"
   },
   {
    "duration": 1096,
    "start_time": "2022-12-09T15:00:10.941Z"
   },
   {
    "duration": 122,
    "start_time": "2022-12-09T15:00:16.055Z"
   },
   {
    "duration": 1316,
    "start_time": "2022-12-09T15:00:30.905Z"
   },
   {
    "duration": 132,
    "start_time": "2022-12-09T15:00:34.631Z"
   },
   {
    "duration": 1654,
    "start_time": "2022-12-09T17:42:01.074Z"
   },
   {
    "duration": 91,
    "start_time": "2022-12-09T17:42:02.730Z"
   },
   {
    "duration": 19,
    "start_time": "2022-12-09T17:42:02.823Z"
   },
   {
    "duration": 14,
    "start_time": "2022-12-09T17:42:02.844Z"
   },
   {
    "duration": 23,
    "start_time": "2022-12-09T17:42:02.860Z"
   },
   {
    "duration": 24,
    "start_time": "2022-12-09T17:42:02.885Z"
   },
   {
    "duration": 2,
    "start_time": "2022-12-09T17:42:02.911Z"
   },
   {
    "duration": 15,
    "start_time": "2022-12-09T17:42:02.915Z"
   },
   {
    "duration": 13,
    "start_time": "2022-12-09T17:42:02.932Z"
   },
   {
    "duration": 10,
    "start_time": "2022-12-09T17:42:02.948Z"
   },
   {
    "duration": 19,
    "start_time": "2022-12-09T17:42:02.960Z"
   },
   {
    "duration": 5,
    "start_time": "2022-12-09T17:42:02.981Z"
   },
   {
    "duration": 10,
    "start_time": "2022-12-09T17:42:02.987Z"
   },
   {
    "duration": 8,
    "start_time": "2022-12-09T17:42:02.998Z"
   },
   {
    "duration": 10,
    "start_time": "2022-12-09T17:42:03.007Z"
   },
   {
    "duration": 10,
    "start_time": "2022-12-09T17:42:03.019Z"
   },
   {
    "duration": 17,
    "start_time": "2022-12-09T17:42:03.031Z"
   },
   {
    "duration": 8,
    "start_time": "2022-12-09T17:42:03.050Z"
   },
   {
    "duration": 38,
    "start_time": "2022-12-09T17:42:03.078Z"
   },
   {
    "duration": 5,
    "start_time": "2022-12-09T17:42:03.118Z"
   },
   {
    "duration": 8,
    "start_time": "2022-12-09T17:42:03.125Z"
   },
   {
    "duration": 23,
    "start_time": "2022-12-09T17:42:03.135Z"
   },
   {
    "duration": 6,
    "start_time": "2022-12-09T17:42:03.160Z"
   },
   {
    "duration": 4,
    "start_time": "2022-12-09T17:42:03.178Z"
   },
   {
    "duration": 157,
    "start_time": "2022-12-09T17:42:03.184Z"
   },
   {
    "duration": 0,
    "start_time": "2022-12-09T17:42:03.344Z"
   },
   {
    "duration": 1,
    "start_time": "2022-12-09T17:42:03.345Z"
   },
   {
    "duration": 0,
    "start_time": "2022-12-09T17:42:03.347Z"
   },
   {
    "duration": 0,
    "start_time": "2022-12-09T17:42:03.349Z"
   },
   {
    "duration": 0,
    "start_time": "2022-12-09T17:42:03.350Z"
   },
   {
    "duration": 0,
    "start_time": "2022-12-09T17:42:03.352Z"
   },
   {
    "duration": 0,
    "start_time": "2022-12-09T17:42:03.353Z"
   },
   {
    "duration": 0,
    "start_time": "2022-12-09T17:42:03.354Z"
   },
   {
    "duration": 0,
    "start_time": "2022-12-09T17:42:03.355Z"
   },
   {
    "duration": 0,
    "start_time": "2022-12-09T17:42:03.377Z"
   },
   {
    "duration": 0,
    "start_time": "2022-12-09T17:42:03.379Z"
   },
   {
    "duration": 0,
    "start_time": "2022-12-09T17:42:03.380Z"
   },
   {
    "duration": 0,
    "start_time": "2022-12-09T17:42:03.382Z"
   },
   {
    "duration": 0,
    "start_time": "2022-12-09T17:42:03.383Z"
   },
   {
    "duration": 0,
    "start_time": "2022-12-09T17:42:03.384Z"
   },
   {
    "duration": 0,
    "start_time": "2022-12-09T17:42:03.386Z"
   },
   {
    "duration": 0,
    "start_time": "2022-12-09T17:42:03.387Z"
   },
   {
    "duration": 0,
    "start_time": "2022-12-09T17:42:03.389Z"
   },
   {
    "duration": 1,
    "start_time": "2022-12-09T17:42:03.390Z"
   },
   {
    "duration": 0,
    "start_time": "2022-12-09T17:42:03.392Z"
   },
   {
    "duration": 0,
    "start_time": "2022-12-09T17:42:03.394Z"
   },
   {
    "duration": 0,
    "start_time": "2022-12-09T17:42:03.395Z"
   },
   {
    "duration": 0,
    "start_time": "2022-12-09T17:42:03.396Z"
   },
   {
    "duration": 0,
    "start_time": "2022-12-09T17:42:03.398Z"
   },
   {
    "duration": 0,
    "start_time": "2022-12-09T17:42:03.399Z"
   },
   {
    "duration": 6913,
    "start_time": "2022-12-09T17:42:18.547Z"
   },
   {
    "duration": 4,
    "start_time": "2022-12-09T17:42:36.779Z"
   },
   {
    "duration": 1286,
    "start_time": "2022-12-09T17:42:40.426Z"
   },
   {
    "duration": 41,
    "start_time": "2022-12-09T17:42:41.714Z"
   },
   {
    "duration": 18,
    "start_time": "2022-12-09T17:42:41.757Z"
   },
   {
    "duration": 60,
    "start_time": "2022-12-09T17:42:41.777Z"
   },
   {
    "duration": 49,
    "start_time": "2022-12-09T17:42:41.840Z"
   },
   {
    "duration": 36,
    "start_time": "2022-12-09T17:42:41.891Z"
   },
   {
    "duration": 28,
    "start_time": "2022-12-09T17:42:41.929Z"
   },
   {
    "duration": 50,
    "start_time": "2022-12-09T17:42:41.958Z"
   },
   {
    "duration": 33,
    "start_time": "2022-12-09T17:42:42.010Z"
   },
   {
    "duration": 34,
    "start_time": "2022-12-09T17:42:42.045Z"
   },
   {
    "duration": 29,
    "start_time": "2022-12-09T17:42:42.081Z"
   },
   {
    "duration": 37,
    "start_time": "2022-12-09T17:42:42.113Z"
   },
   {
    "duration": 31,
    "start_time": "2022-12-09T17:42:42.152Z"
   },
   {
    "duration": 26,
    "start_time": "2022-12-09T17:42:42.186Z"
   },
   {
    "duration": 22,
    "start_time": "2022-12-09T17:42:42.214Z"
   },
   {
    "duration": 25,
    "start_time": "2022-12-09T17:42:42.238Z"
   },
   {
    "duration": 38,
    "start_time": "2022-12-09T17:42:42.266Z"
   },
   {
    "duration": 14,
    "start_time": "2022-12-09T17:42:42.306Z"
   },
   {
    "duration": 52,
    "start_time": "2022-12-09T17:42:42.322Z"
   },
   {
    "duration": 5,
    "start_time": "2022-12-09T17:42:42.376Z"
   },
   {
    "duration": 29,
    "start_time": "2022-12-09T17:42:42.383Z"
   },
   {
    "duration": 71,
    "start_time": "2022-12-09T17:42:42.414Z"
   },
   {
    "duration": 17,
    "start_time": "2022-12-09T17:42:42.487Z"
   },
   {
    "duration": 57,
    "start_time": "2022-12-09T17:42:42.506Z"
   },
   {
    "duration": 35,
    "start_time": "2022-12-09T17:42:42.565Z"
   },
   {
    "duration": 50,
    "start_time": "2022-12-09T17:42:42.602Z"
   },
   {
    "duration": 19,
    "start_time": "2022-12-09T17:42:42.654Z"
   },
   {
    "duration": 39,
    "start_time": "2022-12-09T17:42:42.676Z"
   },
   {
    "duration": 34,
    "start_time": "2022-12-09T17:42:42.717Z"
   },
   {
    "duration": 39,
    "start_time": "2022-12-09T17:42:42.753Z"
   },
   {
    "duration": 29,
    "start_time": "2022-12-09T17:42:42.795Z"
   },
   {
    "duration": 1064,
    "start_time": "2022-12-09T17:42:42.826Z"
   },
   {
    "duration": 92,
    "start_time": "2022-12-09T17:42:43.892Z"
   },
   {
    "duration": 147,
    "start_time": "2022-12-09T17:42:43.986Z"
   },
   {
    "duration": 21,
    "start_time": "2022-12-09T17:42:44.135Z"
   },
   {
    "duration": 78,
    "start_time": "2022-12-09T17:42:44.157Z"
   },
   {
    "duration": 1337,
    "start_time": "2022-12-09T17:42:44.238Z"
   },
   {
    "duration": 15,
    "start_time": "2022-12-09T17:42:45.579Z"
   },
   {
    "duration": 7,
    "start_time": "2022-12-09T17:42:45.596Z"
   },
   {
    "duration": 22,
    "start_time": "2022-12-09T17:42:45.605Z"
   },
   {
    "duration": 563,
    "start_time": "2022-12-09T17:42:45.631Z"
   },
   {
    "duration": 3,
    "start_time": "2022-12-09T17:42:46.196Z"
   },
   {
    "duration": 12,
    "start_time": "2022-12-09T17:42:46.201Z"
   },
   {
    "duration": 5,
    "start_time": "2022-12-09T17:42:46.215Z"
   },
   {
    "duration": 7,
    "start_time": "2022-12-09T17:42:46.221Z"
   },
   {
    "duration": 14,
    "start_time": "2022-12-09T17:42:46.229Z"
   },
   {
    "duration": 10,
    "start_time": "2022-12-09T17:42:46.245Z"
   },
   {
    "duration": 344930,
    "start_time": "2022-12-09T17:42:46.257Z"
   },
   {
    "duration": 1251,
    "start_time": "2022-12-09T17:48:31.188Z"
   },
   {
    "duration": 136,
    "start_time": "2022-12-09T17:48:32.441Z"
   },
   {
    "duration": 427,
    "start_time": "2022-12-09T17:48:32.580Z"
   },
   {
    "duration": 129,
    "start_time": "2022-12-09T17:49:33.356Z"
   },
   {
    "duration": 5,
    "start_time": "2022-12-09T17:52:27.575Z"
   },
   {
    "duration": 5,
    "start_time": "2022-12-09T17:53:53.891Z"
   },
   {
    "duration": 553,
    "start_time": "2022-12-09T17:55:05.736Z"
   },
   {
    "duration": 530,
    "start_time": "2022-12-09T17:56:16.836Z"
   },
   {
    "duration": 5,
    "start_time": "2022-12-09T17:58:29.181Z"
   },
   {
    "duration": 119,
    "start_time": "2022-12-09T17:58:40.791Z"
   },
   {
    "duration": 7,
    "start_time": "2022-12-09T17:59:18.409Z"
   },
   {
    "duration": 15,
    "start_time": "2022-12-09T17:59:18.705Z"
   },
   {
    "duration": 6,
    "start_time": "2022-12-09T18:00:06.983Z"
   },
   {
    "duration": 17,
    "start_time": "2022-12-09T18:00:07.378Z"
   },
   {
    "duration": 10,
    "start_time": "2022-12-09T18:01:03.831Z"
   },
   {
    "duration": 4,
    "start_time": "2022-12-09T18:01:08.934Z"
   },
   {
    "duration": 5,
    "start_time": "2022-12-09T18:02:33.464Z"
   },
   {
    "duration": 14,
    "start_time": "2022-12-09T18:02:34.105Z"
   },
   {
    "duration": 5,
    "start_time": "2022-12-09T18:05:03.564Z"
   },
   {
    "duration": 14,
    "start_time": "2022-12-09T18:05:04.030Z"
   },
   {
    "duration": 6,
    "start_time": "2022-12-09T18:05:52.532Z"
   },
   {
    "duration": 15,
    "start_time": "2022-12-09T18:05:52.915Z"
   },
   {
    "duration": 6,
    "start_time": "2022-12-09T18:06:48.107Z"
   },
   {
    "duration": 871233,
    "start_time": "2022-12-09T18:06:49.553Z"
   },
   {
    "duration": 7,
    "start_time": "2022-12-09T19:28:50.890Z"
   },
   {
    "duration": 1202254,
    "start_time": "2022-12-09T19:28:51.176Z"
   },
   {
    "duration": 13,
    "start_time": "2022-12-09T19:49:19.898Z"
   },
   {
    "duration": 894508,
    "start_time": "2022-12-09T19:49:20.660Z"
   },
   {
    "duration": 3718,
    "start_time": "2022-12-09T20:17:02.133Z"
   },
   {
    "duration": 3541,
    "start_time": "2022-12-09T20:18:37.063Z"
   },
   {
    "duration": 3628,
    "start_time": "2022-12-09T20:19:00.267Z"
   },
   {
    "duration": 34,
    "start_time": "2022-12-09T20:20:11.528Z"
   },
   {
    "duration": 1525,
    "start_time": "2022-12-09T20:24:52.343Z"
   },
   {
    "duration": 138,
    "start_time": "2022-12-09T20:24:56.912Z"
   },
   {
    "duration": 20,
    "start_time": "2022-12-09T20:26:17.897Z"
   },
   {
    "duration": 34,
    "start_time": "2022-12-09T20:26:21.005Z"
   },
   {
    "duration": 17,
    "start_time": "2022-12-09T20:26:30.395Z"
   },
   {
    "duration": 985,
    "start_time": "2022-12-09T20:26:30.783Z"
   },
   {
    "duration": 18,
    "start_time": "2022-12-09T20:26:54.597Z"
   },
   {
    "duration": 55326,
    "start_time": "2022-12-09T20:26:55.147Z"
   },
   {
    "duration": 1223,
    "start_time": "2022-12-09T20:29:08.912Z"
   },
   {
    "duration": 117,
    "start_time": "2022-12-09T20:29:20.019Z"
   },
   {
    "duration": 1397,
    "start_time": "2022-12-09T20:32:01.077Z"
   },
   {
    "duration": 62,
    "start_time": "2022-12-09T20:32:02.476Z"
   },
   {
    "duration": 19,
    "start_time": "2022-12-09T20:32:02.540Z"
   },
   {
    "duration": 15,
    "start_time": "2022-12-09T20:32:02.561Z"
   },
   {
    "duration": 42,
    "start_time": "2022-12-09T20:32:02.583Z"
   },
   {
    "duration": 21,
    "start_time": "2022-12-09T20:32:02.628Z"
   },
   {
    "duration": 3,
    "start_time": "2022-12-09T20:32:02.651Z"
   },
   {
    "duration": 11,
    "start_time": "2022-12-09T20:32:02.656Z"
   },
   {
    "duration": 29,
    "start_time": "2022-12-09T20:32:02.669Z"
   },
   {
    "duration": 17,
    "start_time": "2022-12-09T20:32:02.704Z"
   },
   {
    "duration": 6,
    "start_time": "2022-12-09T20:32:02.723Z"
   },
   {
    "duration": 7,
    "start_time": "2022-12-09T20:32:02.731Z"
   },
   {
    "duration": 10,
    "start_time": "2022-12-09T20:32:02.740Z"
   },
   {
    "duration": 5,
    "start_time": "2022-12-09T20:32:02.753Z"
   },
   {
    "duration": 7,
    "start_time": "2022-12-09T20:32:02.760Z"
   },
   {
    "duration": 19,
    "start_time": "2022-12-09T20:32:02.768Z"
   },
   {
    "duration": 35,
    "start_time": "2022-12-09T20:32:02.788Z"
   },
   {
    "duration": 5,
    "start_time": "2022-12-09T20:32:02.824Z"
   },
   {
    "duration": 23,
    "start_time": "2022-12-09T20:32:02.831Z"
   },
   {
    "duration": 4,
    "start_time": "2022-12-09T20:32:02.856Z"
   },
   {
    "duration": 5,
    "start_time": "2022-12-09T20:32:02.862Z"
   },
   {
    "duration": 58,
    "start_time": "2022-12-09T20:32:02.869Z"
   },
   {
    "duration": 4,
    "start_time": "2022-12-09T20:32:02.929Z"
   },
   {
    "duration": 8,
    "start_time": "2022-12-09T20:32:02.935Z"
   },
   {
    "duration": 8,
    "start_time": "2022-12-09T20:32:02.944Z"
   },
   {
    "duration": 19,
    "start_time": "2022-12-09T20:32:02.953Z"
   },
   {
    "duration": 11,
    "start_time": "2022-12-09T20:32:02.974Z"
   },
   {
    "duration": 42,
    "start_time": "2022-12-09T20:32:02.987Z"
   },
   {
    "duration": 13,
    "start_time": "2022-12-09T20:32:03.031Z"
   },
   {
    "duration": 7,
    "start_time": "2022-12-09T20:32:03.046Z"
   },
   {
    "duration": 5,
    "start_time": "2022-12-09T20:32:03.055Z"
   },
   {
    "duration": 1321,
    "start_time": "2022-12-09T20:32:03.062Z"
   },
   {
    "duration": 18,
    "start_time": "2022-12-09T20:32:04.385Z"
   },
   {
    "duration": 34,
    "start_time": "2022-12-09T20:32:04.405Z"
   },
   {
    "duration": 8,
    "start_time": "2022-12-09T20:32:04.441Z"
   },
   {
    "duration": 40,
    "start_time": "2022-12-09T20:32:04.450Z"
   },
   {
    "duration": 1418,
    "start_time": "2022-12-09T20:32:04.492Z"
   },
   {
    "duration": 29,
    "start_time": "2022-12-09T20:32:05.916Z"
   },
   {
    "duration": 10,
    "start_time": "2022-12-09T20:32:05.947Z"
   },
   {
    "duration": 32,
    "start_time": "2022-12-09T20:32:05.959Z"
   },
   {
    "duration": 574,
    "start_time": "2022-12-09T20:32:05.996Z"
   },
   {
    "duration": 9,
    "start_time": "2022-12-09T20:32:06.583Z"
   },
   {
    "duration": 29,
    "start_time": "2022-12-09T20:32:06.594Z"
   },
   {
    "duration": 7,
    "start_time": "2022-12-09T20:32:06.625Z"
   },
   {
    "duration": 5,
    "start_time": "2022-12-09T20:32:06.635Z"
   },
   {
    "duration": 9,
    "start_time": "2022-12-09T20:32:06.642Z"
   },
   {
    "duration": 59,
    "start_time": "2022-12-09T20:32:06.654Z"
   },
   {
    "duration": 1224,
    "start_time": "2022-12-09T20:32:06.715Z"
   },
   {
    "duration": 118,
    "start_time": "2022-12-09T20:32:07.941Z"
   },
   {
    "duration": 570,
    "start_time": "2022-12-09T20:32:08.061Z"
   },
   {
    "duration": 1317,
    "start_time": "2022-12-09T20:32:53.074Z"
   },
   {
    "duration": 45,
    "start_time": "2022-12-09T20:32:54.400Z"
   },
   {
    "duration": 18,
    "start_time": "2022-12-09T20:32:54.448Z"
   },
   {
    "duration": 24,
    "start_time": "2022-12-09T20:32:54.468Z"
   },
   {
    "duration": 18,
    "start_time": "2022-12-09T20:32:54.507Z"
   },
   {
    "duration": 21,
    "start_time": "2022-12-09T20:32:54.527Z"
   },
   {
    "duration": 3,
    "start_time": "2022-12-09T20:32:54.550Z"
   },
   {
    "duration": 5,
    "start_time": "2022-12-09T20:32:54.555Z"
   },
   {
    "duration": 8,
    "start_time": "2022-12-09T20:32:54.561Z"
   },
   {
    "duration": 32,
    "start_time": "2022-12-09T20:32:54.571Z"
   },
   {
    "duration": 7,
    "start_time": "2022-12-09T20:32:54.610Z"
   },
   {
    "duration": 5,
    "start_time": "2022-12-09T20:32:54.619Z"
   },
   {
    "duration": 6,
    "start_time": "2022-12-09T20:32:54.627Z"
   },
   {
    "duration": 4,
    "start_time": "2022-12-09T20:32:54.634Z"
   },
   {
    "duration": 9,
    "start_time": "2022-12-09T20:32:54.640Z"
   },
   {
    "duration": 13,
    "start_time": "2022-12-09T20:32:54.651Z"
   },
   {
    "duration": 16,
    "start_time": "2022-12-09T20:32:54.665Z"
   },
   {
    "duration": 30,
    "start_time": "2022-12-09T20:32:54.682Z"
   },
   {
    "duration": 23,
    "start_time": "2022-12-09T20:32:54.714Z"
   },
   {
    "duration": 4,
    "start_time": "2022-12-09T20:32:54.739Z"
   },
   {
    "duration": 5,
    "start_time": "2022-12-09T20:32:54.745Z"
   },
   {
    "duration": 20,
    "start_time": "2022-12-09T20:32:54.752Z"
   },
   {
    "duration": 6,
    "start_time": "2022-12-09T20:32:54.773Z"
   },
   {
    "duration": 29,
    "start_time": "2022-12-09T20:32:54.783Z"
   },
   {
    "duration": 10,
    "start_time": "2022-12-09T20:32:54.813Z"
   },
   {
    "duration": 17,
    "start_time": "2022-12-09T20:32:54.825Z"
   },
   {
    "duration": 4,
    "start_time": "2022-12-09T20:32:54.844Z"
   },
   {
    "duration": 19,
    "start_time": "2022-12-09T20:32:54.850Z"
   },
   {
    "duration": 15,
    "start_time": "2022-12-09T20:32:54.870Z"
   },
   {
    "duration": 34,
    "start_time": "2022-12-09T20:32:54.886Z"
   },
   {
    "duration": 6,
    "start_time": "2022-12-09T20:32:54.922Z"
   },
   {
    "duration": 1175,
    "start_time": "2022-12-09T20:32:54.930Z"
   },
   {
    "duration": 70,
    "start_time": "2022-12-09T20:32:56.112Z"
   },
   {
    "duration": 43,
    "start_time": "2022-12-09T20:32:56.183Z"
   },
   {
    "duration": 6,
    "start_time": "2022-12-09T20:32:56.228Z"
   },
   {
    "duration": 26,
    "start_time": "2022-12-09T20:32:56.236Z"
   },
   {
    "duration": 1354,
    "start_time": "2022-12-09T20:32:56.263Z"
   },
   {
    "duration": 14,
    "start_time": "2022-12-09T20:32:57.619Z"
   },
   {
    "duration": 5,
    "start_time": "2022-12-09T20:32:57.635Z"
   },
   {
    "duration": 13,
    "start_time": "2022-12-09T20:32:57.644Z"
   },
   {
    "duration": 597,
    "start_time": "2022-12-09T20:32:57.658Z"
   },
   {
    "duration": 5,
    "start_time": "2022-12-09T20:32:58.257Z"
   },
   {
    "duration": 29,
    "start_time": "2022-12-09T20:32:58.266Z"
   },
   {
    "duration": 26,
    "start_time": "2022-12-09T20:32:58.297Z"
   },
   {
    "duration": 13,
    "start_time": "2022-12-09T20:32:58.327Z"
   },
   {
    "duration": 19,
    "start_time": "2022-12-09T20:32:58.342Z"
   },
   {
    "duration": 44,
    "start_time": "2022-12-09T20:32:58.363Z"
   },
   {
    "duration": 1253,
    "start_time": "2022-12-09T20:32:58.410Z"
   },
   {
    "duration": 119,
    "start_time": "2022-12-09T20:32:59.665Z"
   },
   {
    "duration": 480,
    "start_time": "2022-12-09T20:32:59.786Z"
   },
   {
    "duration": 1423,
    "start_time": "2022-12-09T20:33:10.309Z"
   },
   {
    "duration": 53,
    "start_time": "2022-12-09T20:33:11.735Z"
   },
   {
    "duration": 28,
    "start_time": "2022-12-09T20:33:11.792Z"
   },
   {
    "duration": 29,
    "start_time": "2022-12-09T20:33:11.822Z"
   },
   {
    "duration": 22,
    "start_time": "2022-12-09T20:33:11.854Z"
   },
   {
    "duration": 29,
    "start_time": "2022-12-09T20:33:11.883Z"
   },
   {
    "duration": 18,
    "start_time": "2022-12-09T20:33:11.914Z"
   },
   {
    "duration": 6,
    "start_time": "2022-12-09T20:33:11.934Z"
   },
   {
    "duration": 10,
    "start_time": "2022-12-09T20:33:11.941Z"
   },
   {
    "duration": 7,
    "start_time": "2022-12-09T20:33:11.953Z"
   },
   {
    "duration": 11,
    "start_time": "2022-12-09T20:33:11.961Z"
   },
   {
    "duration": 35,
    "start_time": "2022-12-09T20:33:11.981Z"
   },
   {
    "duration": 12,
    "start_time": "2022-12-09T20:33:12.018Z"
   },
   {
    "duration": 4,
    "start_time": "2022-12-09T20:33:12.035Z"
   },
   {
    "duration": 11,
    "start_time": "2022-12-09T20:33:12.042Z"
   },
   {
    "duration": 13,
    "start_time": "2022-12-09T20:33:12.055Z"
   },
   {
    "duration": 14,
    "start_time": "2022-12-09T20:33:12.070Z"
   },
   {
    "duration": 37,
    "start_time": "2022-12-09T20:33:12.086Z"
   },
   {
    "duration": 24,
    "start_time": "2022-12-09T20:33:12.125Z"
   },
   {
    "duration": 5,
    "start_time": "2022-12-09T20:33:12.151Z"
   },
   {
    "duration": 5,
    "start_time": "2022-12-09T20:33:12.158Z"
   },
   {
    "duration": 32,
    "start_time": "2022-12-09T20:33:12.164Z"
   },
   {
    "duration": 18,
    "start_time": "2022-12-09T20:33:12.201Z"
   },
   {
    "duration": 8,
    "start_time": "2022-12-09T20:33:12.221Z"
   },
   {
    "duration": 6,
    "start_time": "2022-12-09T20:33:12.231Z"
   },
   {
    "duration": 19,
    "start_time": "2022-12-09T20:33:12.239Z"
   },
   {
    "duration": 4,
    "start_time": "2022-12-09T20:33:12.260Z"
   },
   {
    "duration": 35,
    "start_time": "2022-12-09T20:33:12.265Z"
   },
   {
    "duration": 33,
    "start_time": "2022-12-09T20:33:12.307Z"
   },
   {
    "duration": 15,
    "start_time": "2022-12-09T20:33:12.342Z"
   },
   {
    "duration": 8,
    "start_time": "2022-12-09T20:33:12.359Z"
   },
   {
    "duration": 1233,
    "start_time": "2022-12-09T20:33:12.369Z"
   },
   {
    "duration": 14,
    "start_time": "2022-12-09T20:33:13.610Z"
   },
   {
    "duration": 106,
    "start_time": "2022-12-09T20:33:13.626Z"
   },
   {
    "duration": 6,
    "start_time": "2022-12-09T20:33:13.734Z"
   },
   {
    "duration": 18,
    "start_time": "2022-12-09T20:33:13.742Z"
   },
   {
    "duration": 1410,
    "start_time": "2022-12-09T20:33:13.762Z"
   },
   {
    "duration": 28,
    "start_time": "2022-12-09T20:33:15.174Z"
   },
   {
    "duration": 22,
    "start_time": "2022-12-09T20:33:15.209Z"
   },
   {
    "duration": 20,
    "start_time": "2022-12-09T20:33:15.233Z"
   },
   {
    "duration": 577,
    "start_time": "2022-12-09T20:33:15.257Z"
   },
   {
    "duration": 3,
    "start_time": "2022-12-09T20:33:15.837Z"
   },
   {
    "duration": 12,
    "start_time": "2022-12-09T20:33:15.842Z"
   },
   {
    "duration": 16,
    "start_time": "2022-12-09T20:33:15.856Z"
   },
   {
    "duration": 53,
    "start_time": "2022-12-09T20:33:15.874Z"
   },
   {
    "duration": 14,
    "start_time": "2022-12-09T20:33:15.929Z"
   },
   {
    "duration": 21,
    "start_time": "2022-12-09T20:33:15.946Z"
   },
   {
    "duration": 1262,
    "start_time": "2022-12-09T20:33:15.969Z"
   },
   {
    "duration": 115,
    "start_time": "2022-12-09T20:33:17.233Z"
   },
   {
    "duration": 515,
    "start_time": "2022-12-09T20:33:17.351Z"
   },
   {
    "duration": 1371,
    "start_time": "2022-12-09T20:33:29.608Z"
   },
   {
    "duration": 59,
    "start_time": "2022-12-09T20:33:30.981Z"
   },
   {
    "duration": 24,
    "start_time": "2022-12-09T20:33:31.043Z"
   },
   {
    "duration": 27,
    "start_time": "2022-12-09T20:33:31.069Z"
   },
   {
    "duration": 39,
    "start_time": "2022-12-09T20:33:31.099Z"
   },
   {
    "duration": 25,
    "start_time": "2022-12-09T20:33:31.140Z"
   },
   {
    "duration": 44,
    "start_time": "2022-12-09T20:33:31.167Z"
   },
   {
    "duration": 15,
    "start_time": "2022-12-09T20:33:31.213Z"
   },
   {
    "duration": 10,
    "start_time": "2022-12-09T20:33:31.229Z"
   },
   {
    "duration": 9,
    "start_time": "2022-12-09T20:33:31.241Z"
   },
   {
    "duration": 10,
    "start_time": "2022-12-09T20:33:31.252Z"
   },
   {
    "duration": 8,
    "start_time": "2022-12-09T20:33:31.264Z"
   },
   {
    "duration": 46,
    "start_time": "2022-12-09T20:33:31.274Z"
   },
   {
    "duration": 14,
    "start_time": "2022-12-09T20:33:31.325Z"
   },
   {
    "duration": 12,
    "start_time": "2022-12-09T20:33:31.342Z"
   },
   {
    "duration": 27,
    "start_time": "2022-12-09T20:33:31.356Z"
   },
   {
    "duration": 40,
    "start_time": "2022-12-09T20:33:31.385Z"
   },
   {
    "duration": 7,
    "start_time": "2022-12-09T20:33:31.427Z"
   },
   {
    "duration": 25,
    "start_time": "2022-12-09T20:33:31.435Z"
   },
   {
    "duration": 5,
    "start_time": "2022-12-09T20:33:31.463Z"
   },
   {
    "duration": 10,
    "start_time": "2022-12-09T20:33:31.469Z"
   },
   {
    "duration": 53,
    "start_time": "2022-12-09T20:33:31.488Z"
   },
   {
    "duration": 4,
    "start_time": "2022-12-09T20:33:31.544Z"
   },
   {
    "duration": 18,
    "start_time": "2022-12-09T20:33:31.549Z"
   },
   {
    "duration": 5,
    "start_time": "2022-12-09T20:33:31.570Z"
   },
   {
    "duration": 54,
    "start_time": "2022-12-09T20:33:31.577Z"
   },
   {
    "duration": 4,
    "start_time": "2022-12-09T20:33:31.634Z"
   },
   {
    "duration": 20,
    "start_time": "2022-12-09T20:33:31.640Z"
   },
   {
    "duration": 13,
    "start_time": "2022-12-09T20:33:31.661Z"
   },
   {
    "duration": 38,
    "start_time": "2022-12-09T20:33:31.676Z"
   },
   {
    "duration": 13,
    "start_time": "2022-12-09T20:33:31.717Z"
   },
   {
    "duration": 1150,
    "start_time": "2022-12-09T20:33:31.732Z"
   },
   {
    "duration": 8,
    "start_time": "2022-12-09T20:33:32.890Z"
   },
   {
    "duration": 134,
    "start_time": "2022-12-09T20:33:32.899Z"
   },
   {
    "duration": 6,
    "start_time": "2022-12-09T20:33:33.035Z"
   },
   {
    "duration": 30,
    "start_time": "2022-12-09T20:33:33.044Z"
   },
   {
    "duration": 1357,
    "start_time": "2022-12-09T20:33:33.076Z"
   },
   {
    "duration": 14,
    "start_time": "2022-12-09T20:33:34.435Z"
   },
   {
    "duration": 6,
    "start_time": "2022-12-09T20:33:34.453Z"
   },
   {
    "duration": 42,
    "start_time": "2022-12-09T20:33:34.460Z"
   },
   {
    "duration": 561,
    "start_time": "2022-12-09T20:33:34.507Z"
   },
   {
    "duration": 9,
    "start_time": "2022-12-09T20:33:35.070Z"
   },
   {
    "duration": 2,
    "start_time": "2022-12-09T20:33:35.081Z"
   },
   {
    "duration": 31,
    "start_time": "2022-12-09T20:33:35.085Z"
   },
   {
    "duration": 5,
    "start_time": "2022-12-09T20:33:35.118Z"
   },
   {
    "duration": 8,
    "start_time": "2022-12-09T20:33:35.125Z"
   },
   {
    "duration": 9,
    "start_time": "2022-12-09T20:33:35.134Z"
   },
   {
    "duration": 1202,
    "start_time": "2022-12-09T20:33:35.145Z"
   },
   {
    "duration": 146,
    "start_time": "2022-12-09T20:33:36.349Z"
   },
   {
    "duration": 453,
    "start_time": "2022-12-09T20:33:36.496Z"
   },
   {
    "duration": 1470,
    "start_time": "2022-12-09T20:34:08.605Z"
   },
   {
    "duration": 65,
    "start_time": "2022-12-09T20:34:10.077Z"
   },
   {
    "duration": 19,
    "start_time": "2022-12-09T20:34:10.144Z"
   },
   {
    "duration": 34,
    "start_time": "2022-12-09T20:34:10.165Z"
   },
   {
    "duration": 33,
    "start_time": "2022-12-09T20:34:10.207Z"
   },
   {
    "duration": 32,
    "start_time": "2022-12-09T20:34:10.243Z"
   },
   {
    "duration": 8,
    "start_time": "2022-12-09T20:34:10.277Z"
   },
   {
    "duration": 32,
    "start_time": "2022-12-09T20:34:10.288Z"
   },
   {
    "duration": 6,
    "start_time": "2022-12-09T20:34:10.322Z"
   },
   {
    "duration": 9,
    "start_time": "2022-12-09T20:34:10.330Z"
   },
   {
    "duration": 6,
    "start_time": "2022-12-09T20:34:10.341Z"
   },
   {
    "duration": 8,
    "start_time": "2022-12-09T20:34:10.349Z"
   },
   {
    "duration": 6,
    "start_time": "2022-12-09T20:34:10.359Z"
   },
   {
    "duration": 17,
    "start_time": "2022-12-09T20:34:10.368Z"
   },
   {
    "duration": 39,
    "start_time": "2022-12-09T20:34:10.386Z"
   },
   {
    "duration": 10,
    "start_time": "2022-12-09T20:34:10.427Z"
   },
   {
    "duration": 7,
    "start_time": "2022-12-09T20:34:10.439Z"
   },
   {
    "duration": 9,
    "start_time": "2022-12-09T20:34:10.448Z"
   },
   {
    "duration": 40,
    "start_time": "2022-12-09T20:34:10.459Z"
   },
   {
    "duration": 5,
    "start_time": "2022-12-09T20:34:10.501Z"
   },
   {
    "duration": 16,
    "start_time": "2022-12-09T20:34:10.508Z"
   },
   {
    "duration": 30,
    "start_time": "2022-12-09T20:34:10.526Z"
   },
   {
    "duration": 8,
    "start_time": "2022-12-09T20:34:10.559Z"
   },
   {
    "duration": 13,
    "start_time": "2022-12-09T20:34:10.568Z"
   },
   {
    "duration": 30,
    "start_time": "2022-12-09T20:34:10.588Z"
   },
   {
    "duration": 18,
    "start_time": "2022-12-09T20:34:10.620Z"
   },
   {
    "duration": 7,
    "start_time": "2022-12-09T20:34:10.640Z"
   },
   {
    "duration": 25,
    "start_time": "2022-12-09T20:34:10.650Z"
   },
   {
    "duration": 22,
    "start_time": "2022-12-09T20:34:10.677Z"
   },
   {
    "duration": 31,
    "start_time": "2022-12-09T20:34:10.702Z"
   },
   {
    "duration": 8,
    "start_time": "2022-12-09T20:34:10.736Z"
   },
   {
    "duration": 1149,
    "start_time": "2022-12-09T20:34:10.746Z"
   },
   {
    "duration": 8,
    "start_time": "2022-12-09T20:34:11.898Z"
   },
   {
    "duration": 129,
    "start_time": "2022-12-09T20:34:11.908Z"
   },
   {
    "duration": 6,
    "start_time": "2022-12-09T20:34:12.039Z"
   },
   {
    "duration": 50,
    "start_time": "2022-12-09T20:34:12.047Z"
   },
   {
    "duration": 1420,
    "start_time": "2022-12-09T20:34:12.098Z"
   },
   {
    "duration": 21,
    "start_time": "2022-12-09T20:34:13.520Z"
   },
   {
    "duration": 6,
    "start_time": "2022-12-09T20:34:13.543Z"
   },
   {
    "duration": 42,
    "start_time": "2022-12-09T20:34:13.552Z"
   },
   {
    "duration": 591,
    "start_time": "2022-12-09T20:34:13.599Z"
   },
   {
    "duration": 8,
    "start_time": "2022-12-09T20:34:14.192Z"
   },
   {
    "duration": 27,
    "start_time": "2022-12-09T20:34:14.202Z"
   },
   {
    "duration": 19,
    "start_time": "2022-12-09T20:34:14.231Z"
   },
   {
    "duration": 11,
    "start_time": "2022-12-09T20:34:14.252Z"
   },
   {
    "duration": 18,
    "start_time": "2022-12-09T20:34:14.265Z"
   },
   {
    "duration": 54,
    "start_time": "2022-12-09T20:34:14.285Z"
   },
   {
    "duration": 1229,
    "start_time": "2022-12-09T20:34:14.341Z"
   },
   {
    "duration": 119,
    "start_time": "2022-12-09T20:34:15.577Z"
   },
   {
    "duration": 531,
    "start_time": "2022-12-09T20:34:15.702Z"
   },
   {
    "duration": 1398,
    "start_time": "2022-12-09T20:39:29.896Z"
   },
   {
    "duration": 52,
    "start_time": "2022-12-09T20:39:31.305Z"
   },
   {
    "duration": 24,
    "start_time": "2022-12-09T20:39:31.360Z"
   },
   {
    "duration": 23,
    "start_time": "2022-12-09T20:39:31.387Z"
   },
   {
    "duration": 16,
    "start_time": "2022-12-09T20:39:31.417Z"
   },
   {
    "duration": 21,
    "start_time": "2022-12-09T20:39:31.435Z"
   },
   {
    "duration": 3,
    "start_time": "2022-12-09T20:39:31.458Z"
   },
   {
    "duration": 30,
    "start_time": "2022-12-09T20:39:31.463Z"
   },
   {
    "duration": 23,
    "start_time": "2022-12-09T20:39:31.499Z"
   },
   {
    "duration": 9,
    "start_time": "2022-12-09T20:39:31.526Z"
   },
   {
    "duration": 17,
    "start_time": "2022-12-09T20:39:31.537Z"
   },
   {
    "duration": 20,
    "start_time": "2022-12-09T20:39:31.556Z"
   },
   {
    "duration": 38,
    "start_time": "2022-12-09T20:39:31.581Z"
   },
   {
    "duration": 6,
    "start_time": "2022-12-09T20:39:31.621Z"
   },
   {
    "duration": 6,
    "start_time": "2022-12-09T20:39:31.629Z"
   },
   {
    "duration": 12,
    "start_time": "2022-12-09T20:39:31.637Z"
   },
   {
    "duration": 8,
    "start_time": "2022-12-09T20:39:31.651Z"
   },
   {
    "duration": 7,
    "start_time": "2022-12-09T20:39:31.661Z"
   },
   {
    "duration": 47,
    "start_time": "2022-12-09T20:39:31.670Z"
   },
   {
    "duration": 5,
    "start_time": "2022-12-09T20:39:31.720Z"
   },
   {
    "duration": 4,
    "start_time": "2022-12-09T20:39:31.727Z"
   },
   {
    "duration": 19,
    "start_time": "2022-12-09T20:39:31.733Z"
   },
   {
    "duration": 4,
    "start_time": "2022-12-09T20:39:31.754Z"
   },
   {
    "duration": 8,
    "start_time": "2022-12-09T20:39:31.760Z"
   },
   {
    "duration": 35,
    "start_time": "2022-12-09T20:39:31.779Z"
   },
   {
    "duration": 18,
    "start_time": "2022-12-09T20:39:31.816Z"
   },
   {
    "duration": 4,
    "start_time": "2022-12-09T20:39:31.835Z"
   },
   {
    "duration": 21,
    "start_time": "2022-12-09T20:39:31.844Z"
   },
   {
    "duration": 26,
    "start_time": "2022-12-09T20:39:31.867Z"
   },
   {
    "duration": 41,
    "start_time": "2022-12-09T20:39:31.894Z"
   },
   {
    "duration": 12,
    "start_time": "2022-12-09T20:39:31.937Z"
   },
   {
    "duration": 1150,
    "start_time": "2022-12-09T20:39:31.951Z"
   },
   {
    "duration": 84,
    "start_time": "2022-12-09T20:39:33.107Z"
   },
   {
    "duration": 41,
    "start_time": "2022-12-09T20:39:33.194Z"
   },
   {
    "duration": 7,
    "start_time": "2022-12-09T20:39:33.237Z"
   },
   {
    "duration": 18,
    "start_time": "2022-12-09T20:39:33.246Z"
   },
   {
    "duration": 1423,
    "start_time": "2022-12-09T20:39:33.265Z"
   },
   {
    "duration": 20,
    "start_time": "2022-12-09T20:39:34.697Z"
   },
   {
    "duration": 7,
    "start_time": "2022-12-09T20:39:34.719Z"
   },
   {
    "duration": 23,
    "start_time": "2022-12-09T20:39:34.727Z"
   },
   {
    "duration": 568,
    "start_time": "2022-12-09T20:39:34.752Z"
   },
   {
    "duration": 4,
    "start_time": "2022-12-09T20:39:35.322Z"
   },
   {
    "duration": 5,
    "start_time": "2022-12-09T20:39:35.328Z"
   },
   {
    "duration": 5,
    "start_time": "2022-12-09T20:39:35.335Z"
   },
   {
    "duration": 5,
    "start_time": "2022-12-09T20:39:35.342Z"
   },
   {
    "duration": 13,
    "start_time": "2022-12-09T20:39:35.349Z"
   },
   {
    "duration": 26,
    "start_time": "2022-12-09T20:39:35.386Z"
   },
   {
    "duration": 1247,
    "start_time": "2022-12-09T20:39:35.414Z"
   },
   {
    "duration": 125,
    "start_time": "2022-12-09T20:39:36.663Z"
   },
   {
    "duration": 475,
    "start_time": "2022-12-09T20:39:36.800Z"
   },
   {
    "duration": 1366,
    "start_time": "2022-12-09T20:41:03.723Z"
   },
   {
    "duration": 51,
    "start_time": "2022-12-09T20:41:05.092Z"
   },
   {
    "duration": 20,
    "start_time": "2022-12-09T20:41:05.145Z"
   },
   {
    "duration": 21,
    "start_time": "2022-12-09T20:41:05.167Z"
   },
   {
    "duration": 47,
    "start_time": "2022-12-09T20:41:05.193Z"
   },
   {
    "duration": 26,
    "start_time": "2022-12-09T20:41:05.242Z"
   },
   {
    "duration": 6,
    "start_time": "2022-12-09T20:41:05.269Z"
   },
   {
    "duration": 78,
    "start_time": "2022-12-09T20:41:05.277Z"
   },
   {
    "duration": 0,
    "start_time": "2022-12-09T20:41:05.359Z"
   },
   {
    "duration": 0,
    "start_time": "2022-12-09T20:41:05.360Z"
   },
   {
    "duration": 0,
    "start_time": "2022-12-09T20:41:05.362Z"
   },
   {
    "duration": 0,
    "start_time": "2022-12-09T20:41:05.363Z"
   },
   {
    "duration": 0,
    "start_time": "2022-12-09T20:41:05.364Z"
   },
   {
    "duration": 0,
    "start_time": "2022-12-09T20:41:05.365Z"
   },
   {
    "duration": 0,
    "start_time": "2022-12-09T20:41:05.367Z"
   },
   {
    "duration": 0,
    "start_time": "2022-12-09T20:41:05.368Z"
   },
   {
    "duration": 0,
    "start_time": "2022-12-09T20:41:05.370Z"
   },
   {
    "duration": 0,
    "start_time": "2022-12-09T20:41:05.371Z"
   },
   {
    "duration": 0,
    "start_time": "2022-12-09T20:41:05.372Z"
   },
   {
    "duration": 0,
    "start_time": "2022-12-09T20:41:05.373Z"
   },
   {
    "duration": 0,
    "start_time": "2022-12-09T20:41:05.374Z"
   },
   {
    "duration": 0,
    "start_time": "2022-12-09T20:41:05.375Z"
   },
   {
    "duration": 0,
    "start_time": "2022-12-09T20:41:05.376Z"
   },
   {
    "duration": 0,
    "start_time": "2022-12-09T20:41:05.377Z"
   },
   {
    "duration": 0,
    "start_time": "2022-12-09T20:41:05.378Z"
   },
   {
    "duration": 0,
    "start_time": "2022-12-09T20:41:05.378Z"
   },
   {
    "duration": 0,
    "start_time": "2022-12-09T20:41:05.379Z"
   },
   {
    "duration": 0,
    "start_time": "2022-12-09T20:41:05.380Z"
   },
   {
    "duration": 0,
    "start_time": "2022-12-09T20:41:05.386Z"
   },
   {
    "duration": 0,
    "start_time": "2022-12-09T20:41:05.390Z"
   },
   {
    "duration": 0,
    "start_time": "2022-12-09T20:41:05.402Z"
   },
   {
    "duration": 0,
    "start_time": "2022-12-09T20:41:05.403Z"
   },
   {
    "duration": 0,
    "start_time": "2022-12-09T20:41:05.404Z"
   },
   {
    "duration": 0,
    "start_time": "2022-12-09T20:41:05.405Z"
   },
   {
    "duration": 0,
    "start_time": "2022-12-09T20:41:05.410Z"
   },
   {
    "duration": 0,
    "start_time": "2022-12-09T20:41:05.411Z"
   },
   {
    "duration": 0,
    "start_time": "2022-12-09T20:41:05.412Z"
   },
   {
    "duration": 0,
    "start_time": "2022-12-09T20:41:05.412Z"
   },
   {
    "duration": 0,
    "start_time": "2022-12-09T20:41:05.413Z"
   },
   {
    "duration": 0,
    "start_time": "2022-12-09T20:41:05.414Z"
   },
   {
    "duration": 0,
    "start_time": "2022-12-09T20:41:05.414Z"
   },
   {
    "duration": 0,
    "start_time": "2022-12-09T20:41:05.420Z"
   },
   {
    "duration": 0,
    "start_time": "2022-12-09T20:41:05.421Z"
   },
   {
    "duration": 0,
    "start_time": "2022-12-09T20:41:05.423Z"
   },
   {
    "duration": 0,
    "start_time": "2022-12-09T20:41:05.424Z"
   },
   {
    "duration": 0,
    "start_time": "2022-12-09T20:41:05.425Z"
   },
   {
    "duration": 0,
    "start_time": "2022-12-09T20:41:05.427Z"
   },
   {
    "duration": 0,
    "start_time": "2022-12-09T20:41:05.429Z"
   },
   {
    "duration": 0,
    "start_time": "2022-12-09T20:41:05.430Z"
   },
   {
    "duration": 0,
    "start_time": "2022-12-09T20:41:05.431Z"
   },
   {
    "duration": 0,
    "start_time": "2022-12-09T20:41:05.432Z"
   },
   {
    "duration": 0,
    "start_time": "2022-12-09T20:41:05.433Z"
   },
   {
    "duration": 1415,
    "start_time": "2022-12-09T20:41:25.514Z"
   },
   {
    "duration": 44,
    "start_time": "2022-12-09T20:41:26.931Z"
   },
   {
    "duration": 27,
    "start_time": "2022-12-09T20:41:26.977Z"
   },
   {
    "duration": 30,
    "start_time": "2022-12-09T20:41:27.006Z"
   },
   {
    "duration": 17,
    "start_time": "2022-12-09T20:41:27.038Z"
   },
   {
    "duration": 52,
    "start_time": "2022-12-09T20:41:27.057Z"
   },
   {
    "duration": 6,
    "start_time": "2022-12-09T20:41:27.113Z"
   },
   {
    "duration": 8,
    "start_time": "2022-12-09T20:41:27.121Z"
   },
   {
    "duration": 9,
    "start_time": "2022-12-09T20:41:27.132Z"
   },
   {
    "duration": 6,
    "start_time": "2022-12-09T20:41:27.143Z"
   },
   {
    "duration": 7,
    "start_time": "2022-12-09T20:41:27.151Z"
   },
   {
    "duration": 8,
    "start_time": "2022-12-09T20:41:27.160Z"
   },
   {
    "duration": 21,
    "start_time": "2022-12-09T20:41:27.169Z"
   },
   {
    "duration": 26,
    "start_time": "2022-12-09T20:41:27.194Z"
   },
   {
    "duration": 7,
    "start_time": "2022-12-09T20:41:27.223Z"
   },
   {
    "duration": 10,
    "start_time": "2022-12-09T20:41:27.231Z"
   },
   {
    "duration": 9,
    "start_time": "2022-12-09T20:41:27.242Z"
   },
   {
    "duration": 4,
    "start_time": "2022-12-09T20:41:27.252Z"
   },
   {
    "duration": 58,
    "start_time": "2022-12-09T20:41:27.257Z"
   },
   {
    "duration": 6,
    "start_time": "2022-12-09T20:41:27.318Z"
   },
   {
    "duration": 8,
    "start_time": "2022-12-09T20:41:27.326Z"
   },
   {
    "duration": 24,
    "start_time": "2022-12-09T20:41:27.335Z"
   },
   {
    "duration": 4,
    "start_time": "2022-12-09T20:41:27.360Z"
   },
   {
    "duration": 7,
    "start_time": "2022-12-09T20:41:27.366Z"
   },
   {
    "duration": 39,
    "start_time": "2022-12-09T20:41:27.375Z"
   },
   {
    "duration": 26,
    "start_time": "2022-12-09T20:41:27.416Z"
   },
   {
    "duration": 4,
    "start_time": "2022-12-09T20:41:27.444Z"
   },
   {
    "duration": 19,
    "start_time": "2022-12-09T20:41:27.450Z"
   },
   {
    "duration": 16,
    "start_time": "2022-12-09T20:41:27.472Z"
   },
   {
    "duration": 8,
    "start_time": "2022-12-09T20:41:27.489Z"
   },
   {
    "duration": 22,
    "start_time": "2022-12-09T20:41:27.499Z"
   },
   {
    "duration": 1278,
    "start_time": "2022-12-09T20:41:27.524Z"
   },
   {
    "duration": 75,
    "start_time": "2022-12-09T20:41:28.805Z"
   },
   {
    "duration": 58,
    "start_time": "2022-12-09T20:41:28.882Z"
   },
   {
    "duration": 6,
    "start_time": "2022-12-09T20:41:28.978Z"
   },
   {
    "duration": 52,
    "start_time": "2022-12-09T20:41:28.986Z"
   },
   {
    "duration": 1415,
    "start_time": "2022-12-09T20:41:29.041Z"
   },
   {
    "duration": 37,
    "start_time": "2022-12-09T20:41:30.458Z"
   },
   {
    "duration": 15,
    "start_time": "2022-12-09T20:41:30.502Z"
   },
   {
    "duration": 49,
    "start_time": "2022-12-09T20:41:30.519Z"
   },
   {
    "duration": 593,
    "start_time": "2022-12-09T20:41:30.573Z"
   },
   {
    "duration": 3,
    "start_time": "2022-12-09T20:41:31.168Z"
   },
   {
    "duration": 44,
    "start_time": "2022-12-09T20:41:31.172Z"
   },
   {
    "duration": 6,
    "start_time": "2022-12-09T20:41:31.218Z"
   },
   {
    "duration": 18,
    "start_time": "2022-12-09T20:41:31.226Z"
   },
   {
    "duration": 8,
    "start_time": "2022-12-09T20:41:31.246Z"
   },
   {
    "duration": 17,
    "start_time": "2022-12-09T20:41:31.256Z"
   },
   {
    "duration": 1231,
    "start_time": "2022-12-09T20:41:31.275Z"
   },
   {
    "duration": 118,
    "start_time": "2022-12-09T20:41:32.508Z"
   },
   {
    "duration": 486,
    "start_time": "2022-12-09T20:41:32.628Z"
   },
   {
    "duration": 46591,
    "start_time": "2022-12-09T20:42:36.735Z"
   },
   {
    "duration": 1150,
    "start_time": "2022-12-09T20:43:42.046Z"
   },
   {
    "duration": 125,
    "start_time": "2022-12-09T20:43:48.684Z"
   },
   {
    "duration": 5,
    "start_time": "2022-12-09T20:44:51.565Z"
   },
   {
    "duration": 1392,
    "start_time": "2022-12-09T20:44:59.555Z"
   },
   {
    "duration": 64,
    "start_time": "2022-12-09T20:45:00.949Z"
   },
   {
    "duration": 33,
    "start_time": "2022-12-09T20:45:01.017Z"
   },
   {
    "duration": 20,
    "start_time": "2022-12-09T20:45:01.052Z"
   },
   {
    "duration": 49,
    "start_time": "2022-12-09T20:45:01.075Z"
   },
   {
    "duration": 61,
    "start_time": "2022-12-09T20:45:01.127Z"
   },
   {
    "duration": 12,
    "start_time": "2022-12-09T20:45:01.197Z"
   },
   {
    "duration": 12,
    "start_time": "2022-12-09T20:45:01.216Z"
   },
   {
    "duration": 13,
    "start_time": "2022-12-09T20:45:01.230Z"
   },
   {
    "duration": 14,
    "start_time": "2022-12-09T20:45:01.245Z"
   },
   {
    "duration": 32,
    "start_time": "2022-12-09T20:45:01.262Z"
   },
   {
    "duration": 27,
    "start_time": "2022-12-09T20:45:01.300Z"
   },
   {
    "duration": 15,
    "start_time": "2022-12-09T20:45:01.329Z"
   },
   {
    "duration": 6,
    "start_time": "2022-12-09T20:45:01.348Z"
   },
   {
    "duration": 16,
    "start_time": "2022-12-09T20:45:01.356Z"
   },
   {
    "duration": 55,
    "start_time": "2022-12-09T20:45:01.374Z"
   },
   {
    "duration": 16,
    "start_time": "2022-12-09T20:45:01.431Z"
   },
   {
    "duration": 8,
    "start_time": "2022-12-09T20:45:01.449Z"
   },
   {
    "duration": 42,
    "start_time": "2022-12-09T20:45:01.458Z"
   },
   {
    "duration": 28,
    "start_time": "2022-12-09T20:45:01.501Z"
   },
   {
    "duration": 16,
    "start_time": "2022-12-09T20:45:01.531Z"
   },
   {
    "duration": 33,
    "start_time": "2022-12-09T20:45:01.549Z"
   },
   {
    "duration": 66,
    "start_time": "2022-12-09T20:45:01.586Z"
   },
   {
    "duration": 28,
    "start_time": "2022-12-09T20:45:01.654Z"
   },
   {
    "duration": 48,
    "start_time": "2022-12-09T20:45:01.684Z"
   },
   {
    "duration": 69,
    "start_time": "2022-12-09T20:45:01.733Z"
   },
   {
    "duration": 23,
    "start_time": "2022-12-09T20:45:01.806Z"
   },
   {
    "duration": 25,
    "start_time": "2022-12-09T20:45:01.831Z"
   },
   {
    "duration": 15,
    "start_time": "2022-12-09T20:45:01.858Z"
   },
   {
    "duration": 48,
    "start_time": "2022-12-09T20:45:01.875Z"
   },
   {
    "duration": 8,
    "start_time": "2022-12-09T20:45:01.926Z"
   },
   {
    "duration": 1264,
    "start_time": "2022-12-09T20:45:01.936Z"
   },
   {
    "duration": 8,
    "start_time": "2022-12-09T20:45:03.202Z"
   },
   {
    "duration": 65,
    "start_time": "2022-12-09T20:45:03.278Z"
   },
   {
    "duration": 26,
    "start_time": "2022-12-09T20:45:03.346Z"
   },
   {
    "duration": 61,
    "start_time": "2022-12-09T20:45:03.374Z"
   },
   {
    "duration": 1588,
    "start_time": "2022-12-09T20:45:03.437Z"
   },
   {
    "duration": 15,
    "start_time": "2022-12-09T20:45:05.027Z"
   },
   {
    "duration": 23,
    "start_time": "2022-12-09T20:45:05.044Z"
   },
   {
    "duration": 73,
    "start_time": "2022-12-09T20:45:05.069Z"
   },
   {
    "duration": 607,
    "start_time": "2022-12-09T20:45:05.146Z"
   },
   {
    "duration": 3,
    "start_time": "2022-12-09T20:45:05.754Z"
   },
   {
    "duration": 25,
    "start_time": "2022-12-09T20:45:05.759Z"
   },
   {
    "duration": 22,
    "start_time": "2022-12-09T20:45:05.796Z"
   },
   {
    "duration": 5,
    "start_time": "2022-12-09T20:45:05.820Z"
   },
   {
    "duration": 22,
    "start_time": "2022-12-09T20:45:05.827Z"
   },
   {
    "duration": 5116,
    "start_time": "2022-12-09T20:45:05.851Z"
   },
   {
    "duration": 0,
    "start_time": "2022-12-09T20:45:10.971Z"
   },
   {
    "duration": 0,
    "start_time": "2022-12-09T20:45:10.973Z"
   },
   {
    "duration": 0,
    "start_time": "2022-12-09T20:45:10.980Z"
   },
   {
    "duration": 6,
    "start_time": "2022-12-09T20:45:14.707Z"
   },
   {
    "duration": 1292,
    "start_time": "2022-12-09T20:45:15.535Z"
   },
   {
    "duration": 124,
    "start_time": "2022-12-09T20:45:22.352Z"
   },
   {
    "duration": 1412,
    "start_time": "2022-12-09T20:45:27.559Z"
   },
   {
    "duration": 59,
    "start_time": "2022-12-09T20:45:28.973Z"
   },
   {
    "duration": 18,
    "start_time": "2022-12-09T20:45:29.034Z"
   },
   {
    "duration": 13,
    "start_time": "2022-12-09T20:45:29.054Z"
   },
   {
    "duration": 19,
    "start_time": "2022-12-09T20:45:29.070Z"
   },
   {
    "duration": 38,
    "start_time": "2022-12-09T20:45:29.095Z"
   },
   {
    "duration": 3,
    "start_time": "2022-12-09T20:45:29.134Z"
   },
   {
    "duration": 8,
    "start_time": "2022-12-09T20:45:29.139Z"
   },
   {
    "duration": 10,
    "start_time": "2022-12-09T20:45:29.148Z"
   },
   {
    "duration": 4,
    "start_time": "2022-12-09T20:45:29.160Z"
   },
   {
    "duration": 8,
    "start_time": "2022-12-09T20:45:29.166Z"
   },
   {
    "duration": 42,
    "start_time": "2022-12-09T20:45:29.176Z"
   },
   {
    "duration": 8,
    "start_time": "2022-12-09T20:45:29.220Z"
   },
   {
    "duration": 8,
    "start_time": "2022-12-09T20:45:29.231Z"
   },
   {
    "duration": 21,
    "start_time": "2022-12-09T20:45:29.241Z"
   },
   {
    "duration": 51,
    "start_time": "2022-12-09T20:45:29.264Z"
   },
   {
    "duration": 21,
    "start_time": "2022-12-09T20:45:29.317Z"
   },
   {
    "duration": 7,
    "start_time": "2022-12-09T20:45:29.341Z"
   },
   {
    "duration": 48,
    "start_time": "2022-12-09T20:45:29.350Z"
   },
   {
    "duration": 10,
    "start_time": "2022-12-09T20:45:29.400Z"
   },
   {
    "duration": 11,
    "start_time": "2022-12-09T20:45:29.412Z"
   },
   {
    "duration": 29,
    "start_time": "2022-12-09T20:45:29.425Z"
   },
   {
    "duration": 6,
    "start_time": "2022-12-09T20:45:29.455Z"
   },
   {
    "duration": 8,
    "start_time": "2022-12-09T20:45:29.464Z"
   },
   {
    "duration": 43,
    "start_time": "2022-12-09T20:45:29.474Z"
   },
   {
    "duration": 29,
    "start_time": "2022-12-09T20:45:29.519Z"
   },
   {
    "duration": 3,
    "start_time": "2022-12-09T20:45:29.550Z"
   },
   {
    "duration": 31,
    "start_time": "2022-12-09T20:45:29.555Z"
   },
   {
    "duration": 34,
    "start_time": "2022-12-09T20:45:29.588Z"
   },
   {
    "duration": 17,
    "start_time": "2022-12-09T20:45:29.625Z"
   },
   {
    "duration": 9,
    "start_time": "2022-12-09T20:45:29.644Z"
   },
   {
    "duration": 1238,
    "start_time": "2022-12-09T20:45:29.655Z"
   },
   {
    "duration": 12,
    "start_time": "2022-12-09T20:45:30.898Z"
   },
   {
    "duration": 88,
    "start_time": "2022-12-09T20:45:30.919Z"
   },
   {
    "duration": 33,
    "start_time": "2022-12-09T20:45:31.009Z"
   },
   {
    "duration": 45,
    "start_time": "2022-12-09T20:45:31.045Z"
   },
   {
    "duration": 1330,
    "start_time": "2022-12-09T20:45:31.092Z"
   },
   {
    "duration": 14,
    "start_time": "2022-12-09T20:45:32.424Z"
   },
   {
    "duration": 17,
    "start_time": "2022-12-09T20:45:32.440Z"
   },
   {
    "duration": 79,
    "start_time": "2022-12-09T20:45:32.459Z"
   },
   {
    "duration": 529,
    "start_time": "2022-12-09T20:45:32.542Z"
   },
   {
    "duration": 21,
    "start_time": "2022-12-09T20:45:33.077Z"
   },
   {
    "duration": 24,
    "start_time": "2022-12-09T20:45:33.105Z"
   },
   {
    "duration": 17,
    "start_time": "2022-12-09T20:45:33.130Z"
   },
   {
    "duration": 16,
    "start_time": "2022-12-09T20:45:33.149Z"
   },
   {
    "duration": 50,
    "start_time": "2022-12-09T20:45:33.167Z"
   },
   {
    "duration": 8,
    "start_time": "2022-12-09T20:45:33.219Z"
   },
   {
    "duration": 1194,
    "start_time": "2022-12-09T20:45:33.229Z"
   },
   {
    "duration": 119,
    "start_time": "2022-12-09T20:45:34.427Z"
   },
   {
    "duration": 472,
    "start_time": "2022-12-09T20:45:34.549Z"
   },
   {
    "duration": 1229,
    "start_time": "2022-12-09T20:49:55.645Z"
   },
   {
    "duration": 40,
    "start_time": "2022-12-09T20:49:56.877Z"
   },
   {
    "duration": 17,
    "start_time": "2022-12-09T20:49:56.919Z"
   },
   {
    "duration": 12,
    "start_time": "2022-12-09T20:49:56.938Z"
   },
   {
    "duration": 17,
    "start_time": "2022-12-09T20:49:56.952Z"
   },
   {
    "duration": 23,
    "start_time": "2022-12-09T20:49:56.970Z"
   },
   {
    "duration": 2,
    "start_time": "2022-12-09T20:49:56.994Z"
   },
   {
    "duration": 9,
    "start_time": "2022-12-09T20:49:56.998Z"
   },
   {
    "duration": 7,
    "start_time": "2022-12-09T20:49:57.008Z"
   },
   {
    "duration": 5,
    "start_time": "2022-12-09T20:49:57.016Z"
   },
   {
    "duration": 8,
    "start_time": "2022-12-09T20:49:57.022Z"
   },
   {
    "duration": 6,
    "start_time": "2022-12-09T20:49:57.031Z"
   },
   {
    "duration": 7,
    "start_time": "2022-12-09T20:49:57.038Z"
   },
   {
    "duration": 3,
    "start_time": "2022-12-09T20:49:57.048Z"
   },
   {
    "duration": 26,
    "start_time": "2022-12-09T20:49:57.053Z"
   },
   {
    "duration": 4,
    "start_time": "2022-12-09T20:49:57.081Z"
   },
   {
    "duration": 7,
    "start_time": "2022-12-09T20:49:57.087Z"
   },
   {
    "duration": 11,
    "start_time": "2022-12-09T20:49:57.096Z"
   },
   {
    "duration": 5,
    "start_time": "2022-12-09T20:49:57.109Z"
   },
   {
    "duration": 22,
    "start_time": "2022-12-09T20:49:57.115Z"
   },
   {
    "duration": 4,
    "start_time": "2022-12-09T20:49:57.139Z"
   },
   {
    "duration": 35,
    "start_time": "2022-12-09T20:49:57.144Z"
   },
   {
    "duration": 18,
    "start_time": "2022-12-09T20:49:57.181Z"
   },
   {
    "duration": 3,
    "start_time": "2022-12-09T20:49:57.201Z"
   },
   {
    "duration": 9,
    "start_time": "2022-12-09T20:49:57.206Z"
   },
   {
    "duration": 6,
    "start_time": "2022-12-09T20:49:57.216Z"
   },
   {
    "duration": 18,
    "start_time": "2022-12-09T20:49:57.223Z"
   },
   {
    "duration": 4,
    "start_time": "2022-12-09T20:49:57.242Z"
   },
   {
    "duration": 15,
    "start_time": "2022-12-09T20:49:57.278Z"
   },
   {
    "duration": 14,
    "start_time": "2022-12-09T20:49:57.295Z"
   },
   {
    "duration": 9,
    "start_time": "2022-12-09T20:49:57.310Z"
   },
   {
    "duration": 6,
    "start_time": "2022-12-09T20:49:57.321Z"
   },
   {
    "duration": 1051,
    "start_time": "2022-12-09T20:49:57.328Z"
   },
   {
    "duration": 5,
    "start_time": "2022-12-09T20:49:58.381Z"
   },
   {
    "duration": 109,
    "start_time": "2022-12-09T20:49:58.387Z"
   },
   {
    "duration": 5,
    "start_time": "2022-12-09T20:49:58.497Z"
   },
   {
    "duration": 19,
    "start_time": "2022-12-09T20:49:58.504Z"
   },
   {
    "duration": 1198,
    "start_time": "2022-12-09T20:49:58.525Z"
   },
   {
    "duration": 14,
    "start_time": "2022-12-09T20:49:59.725Z"
   },
   {
    "duration": 5,
    "start_time": "2022-12-09T20:49:59.740Z"
   },
   {
    "duration": 30,
    "start_time": "2022-12-09T20:49:59.749Z"
   },
   {
    "duration": 499,
    "start_time": "2022-12-09T20:49:59.781Z"
   },
   {
    "duration": 3,
    "start_time": "2022-12-09T20:50:00.282Z"
   },
   {
    "duration": 19,
    "start_time": "2022-12-09T20:50:00.286Z"
   },
   {
    "duration": 17,
    "start_time": "2022-12-09T20:50:00.307Z"
   },
   {
    "duration": 28,
    "start_time": "2022-12-09T20:50:00.326Z"
   },
   {
    "duration": 11,
    "start_time": "2022-12-09T20:50:00.356Z"
   },
   {
    "duration": 8,
    "start_time": "2022-12-09T20:50:00.369Z"
   },
   {
    "duration": 1128,
    "start_time": "2022-12-09T20:50:00.379Z"
   },
   {
    "duration": 112,
    "start_time": "2022-12-09T20:50:01.509Z"
   },
   {
    "duration": 431,
    "start_time": "2022-12-09T20:50:01.623Z"
   },
   {
    "duration": 5,
    "start_time": "2022-12-09T20:53:30.062Z"
   },
   {
    "duration": 167443,
    "start_time": "2022-12-09T20:53:30.797Z"
   },
   {
    "duration": 1100,
    "start_time": "2022-12-09T20:59:44.029Z"
   },
   {
    "duration": 106,
    "start_time": "2022-12-09T20:59:50.717Z"
   },
   {
    "duration": 5,
    "start_time": "2022-12-09T21:02:04.100Z"
   },
   {
    "duration": 76232,
    "start_time": "2022-12-09T21:02:04.836Z"
   },
   {
    "duration": 1154,
    "start_time": "2022-12-09T21:03:36.029Z"
   },
   {
    "duration": 129,
    "start_time": "2022-12-09T21:03:40.199Z"
   },
   {
    "duration": 5,
    "start_time": "2022-12-09T21:04:16.320Z"
   },
   {
    "duration": 83720,
    "start_time": "2022-12-09T21:04:16.730Z"
   },
   {
    "duration": 1135,
    "start_time": "2022-12-09T21:07:43.632Z"
   },
   {
    "duration": 112,
    "start_time": "2022-12-09T21:07:47.479Z"
   },
   {
    "duration": 5,
    "start_time": "2022-12-09T21:08:32.295Z"
   },
   {
    "duration": 33279,
    "start_time": "2022-12-09T21:08:33.652Z"
   },
   {
    "duration": 5,
    "start_time": "2022-12-09T21:09:28.739Z"
   },
   {
    "duration": 102242,
    "start_time": "2022-12-09T21:09:29.410Z"
   },
   {
    "duration": 5,
    "start_time": "2022-12-09T21:11:42.192Z"
   },
   {
    "duration": 63703,
    "start_time": "2022-12-09T21:11:42.695Z"
   },
   {
    "duration": 5,
    "start_time": "2022-12-09T21:13:19.434Z"
   },
   {
    "duration": 17987,
    "start_time": "2022-12-09T21:13:19.938Z"
   },
   {
    "duration": 1074,
    "start_time": "2022-12-09T21:13:48.993Z"
   },
   {
    "duration": 103,
    "start_time": "2022-12-09T21:13:53.933Z"
   },
   {
    "duration": 47,
    "start_time": "2022-12-09T21:14:42.502Z"
   },
   {
    "duration": 1008,
    "start_time": "2022-12-09T21:14:46.778Z"
   },
   {
    "duration": 1002,
    "start_time": "2022-12-09T21:14:51.979Z"
   },
   {
    "duration": 957,
    "start_time": "2022-12-09T21:14:57.059Z"
   },
   {
    "duration": 994,
    "start_time": "2022-12-09T21:15:01.236Z"
   },
   {
    "duration": 947,
    "start_time": "2022-12-09T21:15:06.508Z"
   },
   {
    "duration": 1081,
    "start_time": "2022-12-09T21:15:10.245Z"
   },
   {
    "duration": 755,
    "start_time": "2022-12-09T21:15:15.549Z"
   },
   {
    "duration": 1016,
    "start_time": "2022-12-09T21:15:21.166Z"
   },
   {
    "duration": 5,
    "start_time": "2022-12-09T21:16:11.956Z"
   },
   {
    "duration": 37263,
    "start_time": "2022-12-09T21:16:12.603Z"
   },
   {
    "duration": 6,
    "start_time": "2022-12-09T21:17:19.034Z"
   },
   {
    "duration": 5,
    "start_time": "2022-12-09T21:18:14.760Z"
   },
   {
    "duration": 108705,
    "start_time": "2022-12-09T21:18:15.304Z"
   },
   {
    "duration": 5,
    "start_time": "2022-12-09T21:25:05.435Z"
   },
   {
    "duration": 47091,
    "start_time": "2022-12-09T21:25:05.739Z"
   },
   {
    "duration": 867,
    "start_time": "2022-12-09T21:26:07.905Z"
   },
   {
    "duration": 81,
    "start_time": "2022-12-09T21:26:13.433Z"
   },
   {
    "duration": 6,
    "start_time": "2022-12-09T21:27:08.312Z"
   },
   {
    "duration": 20070,
    "start_time": "2022-12-09T21:27:08.719Z"
   },
   {
    "duration": 1233,
    "start_time": "2022-12-09T21:28:43.875Z"
   },
   {
    "duration": 42,
    "start_time": "2022-12-09T21:28:45.110Z"
   },
   {
    "duration": 18,
    "start_time": "2022-12-09T21:28:45.154Z"
   },
   {
    "duration": 13,
    "start_time": "2022-12-09T21:28:45.173Z"
   },
   {
    "duration": 13,
    "start_time": "2022-12-09T21:28:45.188Z"
   },
   {
    "duration": 25,
    "start_time": "2022-12-09T21:28:45.202Z"
   },
   {
    "duration": 3,
    "start_time": "2022-12-09T21:28:45.229Z"
   },
   {
    "duration": 5,
    "start_time": "2022-12-09T21:28:45.233Z"
   },
   {
    "duration": 42,
    "start_time": "2022-12-09T21:28:45.239Z"
   },
   {
    "duration": 4,
    "start_time": "2022-12-09T21:28:45.283Z"
   },
   {
    "duration": 7,
    "start_time": "2022-12-09T21:28:45.289Z"
   },
   {
    "duration": 5,
    "start_time": "2022-12-09T21:28:45.298Z"
   },
   {
    "duration": 5,
    "start_time": "2022-12-09T21:28:45.304Z"
   },
   {
    "duration": 5,
    "start_time": "2022-12-09T21:28:45.311Z"
   },
   {
    "duration": 6,
    "start_time": "2022-12-09T21:28:45.318Z"
   },
   {
    "duration": 7,
    "start_time": "2022-12-09T21:28:45.325Z"
   },
   {
    "duration": 49,
    "start_time": "2022-12-09T21:28:45.334Z"
   },
   {
    "duration": 8,
    "start_time": "2022-12-09T21:28:45.385Z"
   },
   {
    "duration": 4,
    "start_time": "2022-12-09T21:28:45.395Z"
   },
   {
    "duration": 21,
    "start_time": "2022-12-09T21:28:45.401Z"
   },
   {
    "duration": 4,
    "start_time": "2022-12-09T21:28:45.424Z"
   },
   {
    "duration": 6,
    "start_time": "2022-12-09T21:28:45.430Z"
   },
   {
    "duration": 43,
    "start_time": "2022-12-09T21:28:45.438Z"
   },
   {
    "duration": 3,
    "start_time": "2022-12-09T21:28:45.482Z"
   },
   {
    "duration": 5,
    "start_time": "2022-12-09T21:28:45.486Z"
   },
   {
    "duration": 7,
    "start_time": "2022-12-09T21:28:45.492Z"
   },
   {
    "duration": 19,
    "start_time": "2022-12-09T21:28:45.500Z"
   },
   {
    "duration": 3,
    "start_time": "2022-12-09T21:28:45.521Z"
   },
   {
    "duration": 21,
    "start_time": "2022-12-09T21:28:45.526Z"
   },
   {
    "duration": 39,
    "start_time": "2022-12-09T21:28:45.548Z"
   },
   {
    "duration": 13,
    "start_time": "2022-12-09T21:28:45.589Z"
   },
   {
    "duration": 8,
    "start_time": "2022-12-09T21:28:45.603Z"
   },
   {
    "duration": 1064,
    "start_time": "2022-12-09T21:28:45.613Z"
   },
   {
    "duration": 96,
    "start_time": "2022-12-09T21:28:46.682Z"
   },
   {
    "duration": 24,
    "start_time": "2022-12-09T21:28:46.780Z"
   },
   {
    "duration": 6,
    "start_time": "2022-12-09T21:28:46.806Z"
   },
   {
    "duration": 20,
    "start_time": "2022-12-09T21:28:46.814Z"
   },
   {
    "duration": 1218,
    "start_time": "2022-12-09T21:28:46.836Z"
   },
   {
    "duration": 21,
    "start_time": "2022-12-09T21:28:48.056Z"
   },
   {
    "duration": 5,
    "start_time": "2022-12-09T21:28:48.079Z"
   },
   {
    "duration": 24,
    "start_time": "2022-12-09T21:28:48.088Z"
   },
   {
    "duration": 540,
    "start_time": "2022-12-09T21:28:48.114Z"
   },
   {
    "duration": 3,
    "start_time": "2022-12-09T21:28:48.657Z"
   },
   {
    "duration": 15,
    "start_time": "2022-12-09T21:28:48.662Z"
   },
   {
    "duration": 3,
    "start_time": "2022-12-09T21:28:48.679Z"
   },
   {
    "duration": 6,
    "start_time": "2022-12-09T21:28:48.684Z"
   },
   {
    "duration": 6,
    "start_time": "2022-12-09T21:28:48.692Z"
   },
   {
    "duration": 19912,
    "start_time": "2022-12-09T21:28:48.699Z"
   },
   {
    "duration": 840,
    "start_time": "2022-12-09T21:29:08.612Z"
   },
   {
    "duration": 95,
    "start_time": "2022-12-09T21:29:09.454Z"
   },
   {
    "duration": 442,
    "start_time": "2022-12-09T21:29:09.551Z"
   },
   {
    "duration": 1260,
    "start_time": "2022-12-09T21:29:45.776Z"
   },
   {
    "duration": 54,
    "start_time": "2022-12-09T21:29:47.038Z"
   },
   {
    "duration": 18,
    "start_time": "2022-12-09T21:29:47.094Z"
   },
   {
    "duration": 13,
    "start_time": "2022-12-09T21:29:47.114Z"
   },
   {
    "duration": 22,
    "start_time": "2022-12-09T21:29:47.128Z"
   },
   {
    "duration": 37,
    "start_time": "2022-12-09T21:29:47.152Z"
   },
   {
    "duration": 5,
    "start_time": "2022-12-09T21:29:47.191Z"
   },
   {
    "duration": 10,
    "start_time": "2022-12-09T21:29:47.197Z"
   },
   {
    "duration": 16,
    "start_time": "2022-12-09T21:29:47.209Z"
   },
   {
    "duration": 8,
    "start_time": "2022-12-09T21:29:47.228Z"
   },
   {
    "duration": 15,
    "start_time": "2022-12-09T21:29:47.238Z"
   },
   {
    "duration": 9,
    "start_time": "2022-12-09T21:29:47.255Z"
   },
   {
    "duration": 18,
    "start_time": "2022-12-09T21:29:47.265Z"
   },
   {
    "duration": 26,
    "start_time": "2022-12-09T21:29:47.284Z"
   },
   {
    "duration": 15,
    "start_time": "2022-12-09T21:29:47.312Z"
   },
   {
    "duration": 30,
    "start_time": "2022-12-09T21:29:47.328Z"
   },
   {
    "duration": 18,
    "start_time": "2022-12-09T21:29:47.360Z"
   },
   {
    "duration": 25,
    "start_time": "2022-12-09T21:29:47.381Z"
   },
   {
    "duration": 12,
    "start_time": "2022-12-09T21:29:47.408Z"
   },
   {
    "duration": 39,
    "start_time": "2022-12-09T21:29:47.422Z"
   },
   {
    "duration": 5,
    "start_time": "2022-12-09T21:29:47.462Z"
   },
   {
    "duration": 18,
    "start_time": "2022-12-09T21:29:47.469Z"
   },
   {
    "duration": 35,
    "start_time": "2022-12-09T21:29:47.489Z"
   },
   {
    "duration": 7,
    "start_time": "2022-12-09T21:29:47.525Z"
   },
   {
    "duration": 6,
    "start_time": "2022-12-09T21:29:47.534Z"
   },
   {
    "duration": 17,
    "start_time": "2022-12-09T21:29:47.541Z"
   },
   {
    "duration": 42,
    "start_time": "2022-12-09T21:29:47.560Z"
   },
   {
    "duration": 4,
    "start_time": "2022-12-09T21:29:47.606Z"
   },
   {
    "duration": 18,
    "start_time": "2022-12-09T21:29:47.612Z"
   },
   {
    "duration": 12,
    "start_time": "2022-12-09T21:29:47.632Z"
   },
   {
    "duration": 12,
    "start_time": "2022-12-09T21:29:47.646Z"
   },
   {
    "duration": 7,
    "start_time": "2022-12-09T21:29:47.660Z"
   },
   {
    "duration": 1021,
    "start_time": "2022-12-09T21:29:47.677Z"
   },
   {
    "duration": 84,
    "start_time": "2022-12-09T21:29:48.701Z"
   },
   {
    "duration": 115,
    "start_time": "2022-12-09T21:29:48.793Z"
   },
   {
    "duration": 5,
    "start_time": "2022-12-09T21:29:48.910Z"
   },
   {
    "duration": 18,
    "start_time": "2022-12-09T21:29:48.917Z"
   },
   {
    "duration": 1290,
    "start_time": "2022-12-09T21:29:48.936Z"
   },
   {
    "duration": 13,
    "start_time": "2022-12-09T21:29:50.228Z"
   },
   {
    "duration": 4,
    "start_time": "2022-12-09T21:29:50.243Z"
   },
   {
    "duration": 40,
    "start_time": "2022-12-09T21:29:50.249Z"
   },
   {
    "duration": 522,
    "start_time": "2022-12-09T21:29:50.291Z"
   },
   {
    "duration": 3,
    "start_time": "2022-12-09T21:29:50.814Z"
   },
   {
    "duration": 7,
    "start_time": "2022-12-09T21:29:50.819Z"
   },
   {
    "duration": 6,
    "start_time": "2022-12-09T21:29:50.828Z"
   },
   {
    "duration": 7,
    "start_time": "2022-12-09T21:29:50.836Z"
   },
   {
    "duration": 5,
    "start_time": "2022-12-09T21:29:50.845Z"
   },
   {
    "duration": 7,
    "start_time": "2022-12-09T21:29:50.852Z"
   },
   {
    "duration": 863,
    "start_time": "2022-12-09T21:29:50.860Z"
   },
   {
    "duration": 88,
    "start_time": "2022-12-09T21:29:51.725Z"
   },
   {
    "duration": 420,
    "start_time": "2022-12-09T21:29:51.814Z"
   },
   {
    "duration": 127,
    "start_time": "2022-12-09T21:33:50.537Z"
   },
   {
    "duration": 621,
    "start_time": "2022-12-09T21:34:30.797Z"
   },
   {
    "duration": 80,
    "start_time": "2022-12-09T21:34:35.349Z"
   },
   {
    "duration": 798,
    "start_time": "2022-12-09T21:34:52.032Z"
   },
   {
    "duration": 87,
    "start_time": "2022-12-09T21:34:56.272Z"
   },
   {
    "duration": 1349,
    "start_time": "2022-12-09T21:35:25.407Z"
   },
   {
    "duration": 42,
    "start_time": "2022-12-09T21:35:26.759Z"
   },
   {
    "duration": 20,
    "start_time": "2022-12-09T21:35:26.804Z"
   },
   {
    "duration": 15,
    "start_time": "2022-12-09T21:35:26.825Z"
   },
   {
    "duration": 35,
    "start_time": "2022-12-09T21:35:26.844Z"
   },
   {
    "duration": 30,
    "start_time": "2022-12-09T21:35:26.882Z"
   },
   {
    "duration": 7,
    "start_time": "2022-12-09T21:35:26.915Z"
   },
   {
    "duration": 9,
    "start_time": "2022-12-09T21:35:26.924Z"
   },
   {
    "duration": 13,
    "start_time": "2022-12-09T21:35:26.935Z"
   },
   {
    "duration": 5,
    "start_time": "2022-12-09T21:35:26.950Z"
   },
   {
    "duration": 23,
    "start_time": "2022-12-09T21:35:26.957Z"
   },
   {
    "duration": 12,
    "start_time": "2022-12-09T21:35:26.982Z"
   },
   {
    "duration": 9,
    "start_time": "2022-12-09T21:35:26.997Z"
   },
   {
    "duration": 8,
    "start_time": "2022-12-09T21:35:27.009Z"
   },
   {
    "duration": 6,
    "start_time": "2022-12-09T21:35:27.019Z"
   },
   {
    "duration": 14,
    "start_time": "2022-12-09T21:35:27.026Z"
   },
   {
    "duration": 9,
    "start_time": "2022-12-09T21:35:27.042Z"
   },
   {
    "duration": 29,
    "start_time": "2022-12-09T21:35:27.052Z"
   },
   {
    "duration": 7,
    "start_time": "2022-12-09T21:35:27.083Z"
   },
   {
    "duration": 28,
    "start_time": "2022-12-09T21:35:27.092Z"
   },
   {
    "duration": 5,
    "start_time": "2022-12-09T21:35:27.122Z"
   },
   {
    "duration": 7,
    "start_time": "2022-12-09T21:35:27.128Z"
   },
   {
    "duration": 43,
    "start_time": "2022-12-09T21:35:27.137Z"
   },
   {
    "duration": 3,
    "start_time": "2022-12-09T21:35:27.182Z"
   },
   {
    "duration": 7,
    "start_time": "2022-12-09T21:35:27.187Z"
   },
   {
    "duration": 6,
    "start_time": "2022-12-09T21:35:27.196Z"
   },
   {
    "duration": 27,
    "start_time": "2022-12-09T21:35:27.204Z"
   },
   {
    "duration": 5,
    "start_time": "2022-12-09T21:35:27.233Z"
   },
   {
    "duration": 38,
    "start_time": "2022-12-09T21:35:27.240Z"
   },
   {
    "duration": 14,
    "start_time": "2022-12-09T21:35:27.280Z"
   },
   {
    "duration": 11,
    "start_time": "2022-12-09T21:35:27.297Z"
   },
   {
    "duration": 19,
    "start_time": "2022-12-09T21:35:27.310Z"
   },
   {
    "duration": 1151,
    "start_time": "2022-12-09T21:35:27.331Z"
   },
   {
    "duration": 7,
    "start_time": "2022-12-09T21:35:28.484Z"
   },
   {
    "duration": 32,
    "start_time": "2022-12-09T21:35:28.579Z"
   },
   {
    "duration": 10,
    "start_time": "2022-12-09T21:35:28.613Z"
   },
   {
    "duration": 20,
    "start_time": "2022-12-09T21:35:28.624Z"
   },
   {
    "duration": 1274,
    "start_time": "2022-12-09T21:35:28.646Z"
   },
   {
    "duration": 15,
    "start_time": "2022-12-09T21:35:29.922Z"
   },
   {
    "duration": 7,
    "start_time": "2022-12-09T21:35:29.938Z"
   },
   {
    "duration": 34,
    "start_time": "2022-12-09T21:35:29.948Z"
   },
   {
    "duration": 516,
    "start_time": "2022-12-09T21:35:29.984Z"
   },
   {
    "duration": 4,
    "start_time": "2022-12-09T21:35:30.502Z"
   },
   {
    "duration": 19,
    "start_time": "2022-12-09T21:35:30.508Z"
   },
   {
    "duration": 23,
    "start_time": "2022-12-09T21:35:30.529Z"
   },
   {
    "duration": 20,
    "start_time": "2022-12-09T21:35:30.554Z"
   },
   {
    "duration": 26,
    "start_time": "2022-12-09T21:35:30.576Z"
   },
   {
    "duration": 45,
    "start_time": "2022-12-09T21:35:30.604Z"
   },
   {
    "duration": 899,
    "start_time": "2022-12-09T21:35:30.651Z"
   },
   {
    "duration": 96,
    "start_time": "2022-12-09T21:35:31.552Z"
   },
   {
    "duration": 436,
    "start_time": "2022-12-09T21:35:31.650Z"
   },
   {
    "duration": 7,
    "start_time": "2022-12-09T21:49:53.883Z"
   },
   {
    "duration": 35613,
    "start_time": "2022-12-09T21:49:54.127Z"
   },
   {
    "duration": 1325,
    "start_time": "2022-12-09T21:51:07.694Z"
   },
   {
    "duration": 44,
    "start_time": "2022-12-09T21:51:09.022Z"
   },
   {
    "duration": 22,
    "start_time": "2022-12-09T21:51:09.068Z"
   },
   {
    "duration": 36,
    "start_time": "2022-12-09T21:51:09.092Z"
   },
   {
    "duration": 37,
    "start_time": "2022-12-09T21:51:09.131Z"
   },
   {
    "duration": 32,
    "start_time": "2022-12-09T21:51:09.170Z"
   },
   {
    "duration": 16,
    "start_time": "2022-12-09T21:51:09.205Z"
   },
   {
    "duration": 19,
    "start_time": "2022-12-09T21:51:09.223Z"
   },
   {
    "duration": 20,
    "start_time": "2022-12-09T21:51:09.245Z"
   },
   {
    "duration": 30,
    "start_time": "2022-12-09T21:51:09.267Z"
   },
   {
    "duration": 12,
    "start_time": "2022-12-09T21:51:09.300Z"
   },
   {
    "duration": 15,
    "start_time": "2022-12-09T21:51:09.314Z"
   },
   {
    "duration": 10,
    "start_time": "2022-12-09T21:51:09.332Z"
   },
   {
    "duration": 23,
    "start_time": "2022-12-09T21:51:09.345Z"
   },
   {
    "duration": 34,
    "start_time": "2022-12-09T21:51:09.370Z"
   },
   {
    "duration": 19,
    "start_time": "2022-12-09T21:51:09.406Z"
   },
   {
    "duration": 36,
    "start_time": "2022-12-09T21:51:09.427Z"
   },
   {
    "duration": 36,
    "start_time": "2022-12-09T21:51:09.465Z"
   },
   {
    "duration": 13,
    "start_time": "2022-12-09T21:51:09.504Z"
   },
   {
    "duration": 41,
    "start_time": "2022-12-09T21:51:09.519Z"
   },
   {
    "duration": 5,
    "start_time": "2022-12-09T21:51:09.562Z"
   },
   {
    "duration": 43,
    "start_time": "2022-12-09T21:51:09.569Z"
   },
   {
    "duration": 32,
    "start_time": "2022-12-09T21:51:09.614Z"
   },
   {
    "duration": 20,
    "start_time": "2022-12-09T21:51:09.649Z"
   },
   {
    "duration": 38,
    "start_time": "2022-12-09T21:51:09.671Z"
   },
   {
    "duration": 21,
    "start_time": "2022-12-09T21:51:09.711Z"
   },
   {
    "duration": 53,
    "start_time": "2022-12-09T21:51:09.734Z"
   },
   {
    "duration": 16,
    "start_time": "2022-12-09T21:51:09.793Z"
   },
   {
    "duration": 31,
    "start_time": "2022-12-09T21:51:09.811Z"
   },
   {
    "duration": 21,
    "start_time": "2022-12-09T21:51:09.845Z"
   },
   {
    "duration": 29,
    "start_time": "2022-12-09T21:51:09.868Z"
   },
   {
    "duration": 18,
    "start_time": "2022-12-09T21:51:09.899Z"
   },
   {
    "duration": 1174,
    "start_time": "2022-12-09T21:51:09.919Z"
   },
   {
    "duration": 85,
    "start_time": "2022-12-09T21:51:11.097Z"
   },
   {
    "duration": 29,
    "start_time": "2022-12-09T21:51:11.184Z"
   },
   {
    "duration": 10,
    "start_time": "2022-12-09T21:51:11.215Z"
   },
   {
    "duration": 22,
    "start_time": "2022-12-09T21:51:11.226Z"
   },
   {
    "duration": 1344,
    "start_time": "2022-12-09T21:51:11.250Z"
   },
   {
    "duration": 14,
    "start_time": "2022-12-09T21:51:12.595Z"
   },
   {
    "duration": 6,
    "start_time": "2022-12-09T21:51:12.611Z"
   },
   {
    "duration": 20,
    "start_time": "2022-12-09T21:51:12.620Z"
   },
   {
    "duration": 541,
    "start_time": "2022-12-09T21:51:12.642Z"
   },
   {
    "duration": 5,
    "start_time": "2022-12-09T21:51:13.185Z"
   },
   {
    "duration": 2,
    "start_time": "2022-12-09T21:51:13.192Z"
   },
   {
    "duration": 7,
    "start_time": "2022-12-09T21:51:13.196Z"
   },
   {
    "duration": 6,
    "start_time": "2022-12-09T21:51:13.204Z"
   },
   {
    "duration": 6,
    "start_time": "2022-12-09T21:51:13.212Z"
   },
   {
    "duration": 11,
    "start_time": "2022-12-09T21:51:13.220Z"
   },
   {
    "duration": 897,
    "start_time": "2022-12-09T21:51:13.233Z"
   },
   {
    "duration": 96,
    "start_time": "2022-12-09T21:51:14.132Z"
   },
   {
    "duration": 449,
    "start_time": "2022-12-09T21:51:14.231Z"
   },
   {
    "duration": 3260,
    "start_time": "2022-12-09T22:20:05.144Z"
   },
   {
    "duration": 91,
    "start_time": "2022-12-09T22:20:08.406Z"
   },
   {
    "duration": 20,
    "start_time": "2022-12-09T22:20:08.499Z"
   },
   {
    "duration": 14,
    "start_time": "2022-12-09T22:20:08.521Z"
   },
   {
    "duration": 19,
    "start_time": "2022-12-09T22:20:08.539Z"
   },
   {
    "duration": 22,
    "start_time": "2022-12-09T22:20:08.560Z"
   },
   {
    "duration": 2,
    "start_time": "2022-12-09T22:20:08.584Z"
   },
   {
    "duration": 8,
    "start_time": "2022-12-09T22:20:08.588Z"
   },
   {
    "duration": 12,
    "start_time": "2022-12-09T22:20:08.597Z"
   },
   {
    "duration": 8,
    "start_time": "2022-12-09T22:20:08.610Z"
   },
   {
    "duration": 26,
    "start_time": "2022-12-09T22:20:08.620Z"
   },
   {
    "duration": 19,
    "start_time": "2022-12-09T22:20:08.649Z"
   },
   {
    "duration": 7,
    "start_time": "2022-12-09T22:20:08.670Z"
   },
   {
    "duration": 7,
    "start_time": "2022-12-09T22:20:08.680Z"
   },
   {
    "duration": 12,
    "start_time": "2022-12-09T22:20:08.689Z"
   },
   {
    "duration": 6,
    "start_time": "2022-12-09T22:20:08.703Z"
   },
   {
    "duration": 11,
    "start_time": "2022-12-09T22:20:08.711Z"
   },
   {
    "duration": 19,
    "start_time": "2022-12-09T22:20:08.723Z"
   },
   {
    "duration": 12,
    "start_time": "2022-12-09T22:20:08.745Z"
   },
   {
    "duration": 37,
    "start_time": "2022-12-09T22:20:08.760Z"
   },
   {
    "duration": 4,
    "start_time": "2022-12-09T22:20:08.799Z"
   },
   {
    "duration": 6,
    "start_time": "2022-12-09T22:20:08.804Z"
   },
   {
    "duration": 19,
    "start_time": "2022-12-09T22:20:08.812Z"
   },
   {
    "duration": 4,
    "start_time": "2022-12-09T22:20:08.833Z"
   },
   {
    "duration": 20,
    "start_time": "2022-12-09T22:20:08.839Z"
   },
   {
    "duration": 9,
    "start_time": "2022-12-09T22:20:08.861Z"
   },
   {
    "duration": 151,
    "start_time": "2022-12-09T22:20:08.872Z"
   },
   {
    "duration": 0,
    "start_time": "2022-12-09T22:20:09.025Z"
   },
   {
    "duration": 0,
    "start_time": "2022-12-09T22:20:09.026Z"
   },
   {
    "duration": 0,
    "start_time": "2022-12-09T22:20:09.028Z"
   },
   {
    "duration": 0,
    "start_time": "2022-12-09T22:20:09.036Z"
   },
   {
    "duration": 0,
    "start_time": "2022-12-09T22:20:09.037Z"
   },
   {
    "duration": 0,
    "start_time": "2022-12-09T22:20:09.039Z"
   },
   {
    "duration": 0,
    "start_time": "2022-12-09T22:20:09.041Z"
   },
   {
    "duration": 0,
    "start_time": "2022-12-09T22:20:09.046Z"
   },
   {
    "duration": 0,
    "start_time": "2022-12-09T22:20:09.047Z"
   },
   {
    "duration": 0,
    "start_time": "2022-12-09T22:20:09.049Z"
   },
   {
    "duration": 0,
    "start_time": "2022-12-09T22:20:09.051Z"
   },
   {
    "duration": 0,
    "start_time": "2022-12-09T22:20:09.053Z"
   },
   {
    "duration": 0,
    "start_time": "2022-12-09T22:20:09.055Z"
   },
   {
    "duration": 0,
    "start_time": "2022-12-09T22:20:09.061Z"
   },
   {
    "duration": 0,
    "start_time": "2022-12-09T22:20:09.063Z"
   },
   {
    "duration": 0,
    "start_time": "2022-12-09T22:20:09.065Z"
   },
   {
    "duration": 0,
    "start_time": "2022-12-09T22:20:09.066Z"
   },
   {
    "duration": 0,
    "start_time": "2022-12-09T22:20:09.067Z"
   },
   {
    "duration": 0,
    "start_time": "2022-12-09T22:20:09.068Z"
   },
   {
    "duration": 0,
    "start_time": "2022-12-09T22:20:09.070Z"
   },
   {
    "duration": 0,
    "start_time": "2022-12-09T22:20:09.071Z"
   },
   {
    "duration": 0,
    "start_time": "2022-12-09T22:20:09.072Z"
   },
   {
    "duration": 0,
    "start_time": "2022-12-09T22:20:09.073Z"
   },
   {
    "duration": 0,
    "start_time": "2022-12-09T22:20:09.075Z"
   },
   {
    "duration": 3,
    "start_time": "2022-12-09T22:20:58.862Z"
   },
   {
    "duration": 16,
    "start_time": "2022-12-09T22:20:59.672Z"
   },
   {
    "duration": 3,
    "start_time": "2022-12-09T22:21:01.883Z"
   },
   {
    "duration": 33,
    "start_time": "2022-12-09T22:21:01.888Z"
   },
   {
    "duration": 0,
    "start_time": "2022-12-09T22:21:01.923Z"
   },
   {
    "duration": 0,
    "start_time": "2022-12-09T22:21:01.924Z"
   },
   {
    "duration": 0,
    "start_time": "2022-12-09T22:21:01.925Z"
   },
   {
    "duration": 0,
    "start_time": "2022-12-09T22:21:01.926Z"
   },
   {
    "duration": 0,
    "start_time": "2022-12-09T22:21:01.927Z"
   },
   {
    "duration": 0,
    "start_time": "2022-12-09T22:21:01.929Z"
   },
   {
    "duration": 0,
    "start_time": "2022-12-09T22:21:01.929Z"
   },
   {
    "duration": 0,
    "start_time": "2022-12-09T22:21:01.930Z"
   },
   {
    "duration": 0,
    "start_time": "2022-12-09T22:21:01.931Z"
   },
   {
    "duration": 0,
    "start_time": "2022-12-09T22:21:01.932Z"
   },
   {
    "duration": 0,
    "start_time": "2022-12-09T22:21:01.933Z"
   },
   {
    "duration": 0,
    "start_time": "2022-12-09T22:21:01.935Z"
   },
   {
    "duration": 0,
    "start_time": "2022-12-09T22:21:01.936Z"
   },
   {
    "duration": 0,
    "start_time": "2022-12-09T22:21:01.937Z"
   },
   {
    "duration": 0,
    "start_time": "2022-12-09T22:21:01.938Z"
   },
   {
    "duration": 0,
    "start_time": "2022-12-09T22:21:01.939Z"
   },
   {
    "duration": 0,
    "start_time": "2022-12-09T22:21:01.940Z"
   },
   {
    "duration": 0,
    "start_time": "2022-12-09T22:21:01.941Z"
   },
   {
    "duration": 0,
    "start_time": "2022-12-09T22:21:01.942Z"
   },
   {
    "duration": 0,
    "start_time": "2022-12-09T22:21:01.943Z"
   },
   {
    "duration": 0,
    "start_time": "2022-12-09T22:21:01.945Z"
   },
   {
    "duration": 0,
    "start_time": "2022-12-09T22:21:01.946Z"
   },
   {
    "duration": 4,
    "start_time": "2022-12-09T22:21:18.842Z"
   },
   {
    "duration": 16,
    "start_time": "2022-12-09T22:21:19.482Z"
   },
   {
    "duration": 15,
    "start_time": "2022-12-09T22:21:20.254Z"
   },
   {
    "duration": 9,
    "start_time": "2022-12-09T22:21:20.632Z"
   },
   {
    "duration": 6,
    "start_time": "2022-12-09T22:21:21.140Z"
   },
   {
    "duration": 1073,
    "start_time": "2022-12-09T22:21:21.868Z"
   },
   {
    "duration": 93,
    "start_time": "2022-12-09T22:21:22.944Z"
   },
   {
    "duration": 32,
    "start_time": "2022-12-09T22:21:23.039Z"
   },
   {
    "duration": 5,
    "start_time": "2022-12-09T22:21:23.073Z"
   },
   {
    "duration": 17,
    "start_time": "2022-12-09T22:21:23.299Z"
   },
   {
    "duration": 1189,
    "start_time": "2022-12-09T22:21:23.502Z"
   },
   {
    "duration": 12,
    "start_time": "2022-12-09T22:21:24.693Z"
   },
   {
    "duration": 5,
    "start_time": "2022-12-09T22:21:24.706Z"
   },
   {
    "duration": 24,
    "start_time": "2022-12-09T22:21:24.714Z"
   },
   {
    "duration": 480,
    "start_time": "2022-12-09T22:21:24.740Z"
   },
   {
    "duration": 3,
    "start_time": "2022-12-09T22:21:26.542Z"
   },
   {
    "duration": 2,
    "start_time": "2022-12-09T22:21:27.019Z"
   },
   {
    "duration": 3,
    "start_time": "2022-12-09T22:21:27.222Z"
   },
   {
    "duration": 2,
    "start_time": "2022-12-09T22:21:29.322Z"
   },
   {
    "duration": 7,
    "start_time": "2022-12-09T22:21:30.592Z"
   },
   {
    "duration": 2,
    "start_time": "2022-12-09T22:21:31.202Z"
   },
   {
    "duration": 831,
    "start_time": "2022-12-09T22:21:31.741Z"
   },
   {
    "duration": 87,
    "start_time": "2022-12-09T22:21:32.802Z"
   },
   {
    "duration": 5,
    "start_time": "2022-12-09T22:21:40.432Z"
   },
   {
    "duration": 2,
    "start_time": "2022-12-09T22:21:40.724Z"
   },
   {
    "duration": 737,
    "start_time": "2022-12-09T22:21:41.112Z"
   },
   {
    "duration": 80,
    "start_time": "2022-12-09T22:21:42.711Z"
   },
   {
    "duration": 25925,
    "start_time": "2022-12-09T22:21:54.852Z"
   },
   {
    "duration": 759,
    "start_time": "2022-12-09T22:22:48.480Z"
   },
   {
    "duration": 5,
    "start_time": "2022-12-09T22:23:51.049Z"
   },
   {
    "duration": 5,
    "start_time": "2022-12-09T22:24:33.582Z"
   },
   {
    "duration": 307,
    "start_time": "2022-12-09T22:24:33.792Z"
   },
   {
    "duration": 6,
    "start_time": "2022-12-09T22:24:41.352Z"
   },
   {
    "duration": 12942,
    "start_time": "2022-12-09T22:24:43.032Z"
   },
   {
    "duration": 10,
    "start_time": "2022-12-09T22:25:06.062Z"
   },
   {
    "duration": 131,
    "start_time": "2022-12-09T22:25:10.862Z"
   },
   {
    "duration": 125,
    "start_time": "2022-12-09T22:25:15.103Z"
   },
   {
    "duration": 130,
    "start_time": "2022-12-09T22:26:00.253Z"
   },
   {
    "duration": 135,
    "start_time": "2022-12-09T22:26:02.263Z"
   },
   {
    "duration": 209,
    "start_time": "2022-12-09T22:26:09.532Z"
   },
   {
    "duration": 4,
    "start_time": "2022-12-09T22:26:14.702Z"
   },
   {
    "duration": 6,
    "start_time": "2022-12-09T22:26:37.470Z"
   },
   {
    "duration": 311,
    "start_time": "2022-12-09T22:26:37.862Z"
   },
   {
    "duration": 5,
    "start_time": "2022-12-09T22:26:54.382Z"
   },
   {
    "duration": 15117,
    "start_time": "2022-12-09T22:26:54.712Z"
   },
   {
    "duration": 138,
    "start_time": "2022-12-09T22:27:09.831Z"
   },
   {
    "duration": 7,
    "start_time": "2022-12-09T22:27:24.953Z"
   },
   {
    "duration": 24069,
    "start_time": "2022-12-09T22:27:25.352Z"
   },
   {
    "duration": 139,
    "start_time": "2022-12-09T22:27:49.423Z"
   },
   {
    "duration": 974,
    "start_time": "2022-12-09T22:27:59.252Z"
   },
   {
    "duration": 101,
    "start_time": "2022-12-09T22:28:00.602Z"
   },
   {
    "duration": 8,
    "start_time": "2022-12-09T22:28:43.010Z"
   },
   {
    "duration": 25403,
    "start_time": "2022-12-09T22:28:43.692Z"
   },
   {
    "duration": 129,
    "start_time": "2022-12-09T22:29:09.097Z"
   },
   {
    "duration": 124,
    "start_time": "2022-12-09T22:29:20.840Z"
   },
   {
    "duration": 4,
    "start_time": "2022-12-09T22:29:38.262Z"
   },
   {
    "duration": 8,
    "start_time": "2022-12-09T22:29:52.840Z"
   },
   {
    "duration": 582,
    "start_time": "2022-12-09T22:29:53.182Z"
   },
   {
    "duration": 0,
    "start_time": "2022-12-09T22:29:53.766Z"
   },
   {
    "duration": 6,
    "start_time": "2022-12-09T22:29:58.110Z"
   },
   {
    "duration": 9,
    "start_time": "2022-12-09T22:30:24.031Z"
   },
   {
    "duration": 25692,
    "start_time": "2022-12-09T22:30:24.042Z"
   },
   {
    "duration": 130,
    "start_time": "2022-12-09T22:30:49.736Z"
   },
   {
    "duration": 5,
    "start_time": "2022-12-09T22:31:05.603Z"
   },
   {
    "duration": 18,
    "start_time": "2022-12-09T22:31:17.964Z"
   },
   {
    "duration": 6,
    "start_time": "2022-12-09T22:32:01.943Z"
   },
   {
    "duration": 25316,
    "start_time": "2022-12-09T22:32:02.493Z"
   },
   {
    "duration": 124,
    "start_time": "2022-12-09T22:32:27.811Z"
   },
   {
    "duration": 17,
    "start_time": "2022-12-09T22:33:41.791Z"
   },
   {
    "duration": 4,
    "start_time": "2022-12-09T22:33:47.533Z"
   },
   {
    "duration": 2,
    "start_time": "2022-12-09T22:33:47.883Z"
   },
   {
    "duration": 4,
    "start_time": "2022-12-09T22:33:48.063Z"
   },
   {
    "duration": 16,
    "start_time": "2022-12-09T22:33:48.233Z"
   },
   {
    "duration": 4,
    "start_time": "2022-12-09T22:33:49.103Z"
   },
   {
    "duration": 16,
    "start_time": "2022-12-09T22:33:49.693Z"
   },
   {
    "duration": 14,
    "start_time": "2022-12-09T22:33:51.513Z"
   },
   {
    "duration": 8,
    "start_time": "2022-12-09T22:33:51.863Z"
   },
   {
    "duration": 5,
    "start_time": "2022-12-09T22:33:54.833Z"
   },
   {
    "duration": 14,
    "start_time": "2022-12-09T22:33:55.103Z"
   },
   {
    "duration": 6,
    "start_time": "2022-12-09T22:33:55.483Z"
   },
   {
    "duration": 802,
    "start_time": "2022-12-09T22:34:00.683Z"
   },
   {
    "duration": 79,
    "start_time": "2022-12-09T22:34:04.623Z"
   },
   {
    "duration": 15,
    "start_time": "2022-12-09T22:34:20.914Z"
   },
   {
    "duration": 16,
    "start_time": "2022-12-09T22:34:24.171Z"
   },
   {
    "duration": 16,
    "start_time": "2022-12-09T22:34:26.461Z"
   },
   {
    "duration": 17,
    "start_time": "2022-12-09T22:34:30.474Z"
   },
   {
    "duration": 3,
    "start_time": "2022-12-09T22:34:33.634Z"
   },
   {
    "duration": 2,
    "start_time": "2022-12-09T22:34:34.823Z"
   },
   {
    "duration": 4,
    "start_time": "2022-12-09T22:34:35.141Z"
   },
   {
    "duration": 15,
    "start_time": "2022-12-09T22:34:36.113Z"
   },
   {
    "duration": 4,
    "start_time": "2022-12-09T22:34:36.993Z"
   },
   {
    "duration": 15,
    "start_time": "2022-12-09T22:34:37.553Z"
   },
   {
    "duration": 13,
    "start_time": "2022-12-09T22:34:39.103Z"
   },
   {
    "duration": 7,
    "start_time": "2022-12-09T22:34:39.462Z"
   },
   {
    "duration": 6,
    "start_time": "2022-12-09T22:34:40.604Z"
   },
   {
    "duration": 4,
    "start_time": "2022-12-09T22:34:46.283Z"
   },
   {
    "duration": 14,
    "start_time": "2022-12-09T22:34:47.053Z"
   },
   {
    "duration": 758,
    "start_time": "2022-12-09T22:34:55.423Z"
   },
   {
    "duration": 22,
    "start_time": "2022-12-09T22:35:09.461Z"
   },
   {
    "duration": 14,
    "start_time": "2022-12-09T22:35:14.320Z"
   },
   {
    "duration": 3,
    "start_time": "2022-12-09T22:35:18.391Z"
   },
   {
    "duration": 2,
    "start_time": "2022-12-09T22:35:18.701Z"
   },
   {
    "duration": 4,
    "start_time": "2022-12-09T22:35:18.869Z"
   },
   {
    "duration": 19,
    "start_time": "2022-12-09T22:35:19.012Z"
   },
   {
    "duration": 3,
    "start_time": "2022-12-09T22:35:19.349Z"
   },
   {
    "duration": 16,
    "start_time": "2022-12-09T22:35:19.521Z"
   },
   {
    "duration": 15,
    "start_time": "2022-12-09T22:35:19.871Z"
   },
   {
    "duration": 7,
    "start_time": "2022-12-09T22:35:20.240Z"
   },
   {
    "duration": 6,
    "start_time": "2022-12-09T22:35:20.761Z"
   },
   {
    "duration": 4,
    "start_time": "2022-12-09T22:35:23.471Z"
   },
   {
    "duration": 13,
    "start_time": "2022-12-09T22:35:23.671Z"
   },
   {
    "duration": 815,
    "start_time": "2022-12-09T22:35:27.630Z"
   },
   {
    "duration": 77,
    "start_time": "2022-12-09T22:35:29.841Z"
   },
   {
    "duration": 17,
    "start_time": "2022-12-09T22:35:39.181Z"
   },
   {
    "duration": 3,
    "start_time": "2022-12-09T22:35:40.067Z"
   },
   {
    "duration": 2,
    "start_time": "2022-12-09T22:35:41.630Z"
   },
   {
    "duration": 4,
    "start_time": "2022-12-09T22:35:41.761Z"
   },
   {
    "duration": 16,
    "start_time": "2022-12-09T22:35:41.921Z"
   },
   {
    "duration": 4,
    "start_time": "2022-12-09T22:35:42.259Z"
   },
   {
    "duration": 22,
    "start_time": "2022-12-09T22:35:42.401Z"
   },
   {
    "duration": 15,
    "start_time": "2022-12-09T22:35:43.071Z"
   },
   {
    "duration": 6,
    "start_time": "2022-12-09T22:35:44.732Z"
   },
   {
    "duration": 6,
    "start_time": "2022-12-09T22:35:45.022Z"
   },
   {
    "duration": 4,
    "start_time": "2022-12-09T22:35:51.375Z"
   },
   {
    "duration": 13,
    "start_time": "2022-12-09T22:35:51.581Z"
   },
   {
    "duration": 5,
    "start_time": "2022-12-09T22:35:52.201Z"
   },
   {
    "duration": 767,
    "start_time": "2022-12-09T22:35:58.514Z"
   },
   {
    "duration": 79,
    "start_time": "2022-12-09T22:36:03.738Z"
   },
   {
    "duration": 6,
    "start_time": "2022-12-09T22:36:27.589Z"
   },
   {
    "duration": 25779,
    "start_time": "2022-12-09T22:36:27.809Z"
   },
   {
    "duration": 122,
    "start_time": "2022-12-09T22:36:53.590Z"
   },
   {
    "duration": 16,
    "start_time": "2022-12-09T22:43:24.879Z"
   },
   {
    "duration": 3,
    "start_time": "2022-12-09T22:43:25.510Z"
   },
   {
    "duration": 2,
    "start_time": "2022-12-09T22:43:25.892Z"
   },
   {
    "duration": 4,
    "start_time": "2022-12-09T22:43:26.119Z"
   },
   {
    "duration": 14,
    "start_time": "2022-12-09T22:43:26.291Z"
   },
   {
    "duration": 5,
    "start_time": "2022-12-09T22:43:26.649Z"
   },
   {
    "duration": 21,
    "start_time": "2022-12-09T22:43:26.831Z"
   },
   {
    "duration": 13,
    "start_time": "2022-12-09T22:43:27.161Z"
   },
   {
    "duration": 7,
    "start_time": "2022-12-09T22:43:27.661Z"
   },
   {
    "duration": 7,
    "start_time": "2022-12-09T22:43:28.021Z"
   },
   {
    "duration": 4,
    "start_time": "2022-12-09T22:43:37.831Z"
   },
   {
    "duration": 21,
    "start_time": "2022-12-09T22:43:38.029Z"
   },
   {
    "duration": 820,
    "start_time": "2022-12-09T22:43:43.822Z"
   },
   {
    "duration": 95,
    "start_time": "2022-12-09T22:43:48.369Z"
   },
   {
    "duration": 6,
    "start_time": "2022-12-09T22:44:00.394Z"
   },
   {
    "duration": 978,
    "start_time": "2022-12-09T22:44:01.482Z"
   },
   {
    "duration": 4,
    "start_time": "2022-12-09T22:44:05.522Z"
   },
   {
    "duration": 14,
    "start_time": "2022-12-09T22:44:05.661Z"
   },
   {
    "duration": 5,
    "start_time": "2022-12-09T22:44:05.850Z"
   },
   {
    "duration": 18,
    "start_time": "2022-12-09T22:44:06.050Z"
   },
   {
    "duration": 1286,
    "start_time": "2022-12-09T22:44:07.079Z"
   },
   {
    "duration": 14,
    "start_time": "2022-12-09T22:44:08.367Z"
   },
   {
    "duration": 9,
    "start_time": "2022-12-09T22:44:08.383Z"
   },
   {
    "duration": 25,
    "start_time": "2022-12-09T22:44:08.394Z"
   },
   {
    "duration": 481,
    "start_time": "2022-12-09T22:44:08.421Z"
   },
   {
    "duration": 824,
    "start_time": "2022-12-09T22:44:19.941Z"
   },
   {
    "duration": 76,
    "start_time": "2022-12-09T22:44:23.912Z"
   },
   {
    "duration": 16,
    "start_time": "2022-12-09T22:44:40.369Z"
   },
   {
    "duration": 3,
    "start_time": "2022-12-09T22:44:41.061Z"
   },
   {
    "duration": 3,
    "start_time": "2022-12-09T22:44:42.028Z"
   },
   {
    "duration": 4,
    "start_time": "2022-12-09T22:44:42.215Z"
   },
   {
    "duration": 18,
    "start_time": "2022-12-09T22:44:42.412Z"
   },
   {
    "duration": 4,
    "start_time": "2022-12-09T22:44:43.018Z"
   },
   {
    "duration": 15,
    "start_time": "2022-12-09T22:44:43.721Z"
   },
   {
    "duration": 13,
    "start_time": "2022-12-09T22:44:46.251Z"
   },
   {
    "duration": 4,
    "start_time": "2022-12-09T22:44:48.291Z"
   },
   {
    "duration": 14,
    "start_time": "2022-12-09T22:44:48.519Z"
   },
   {
    "duration": 803,
    "start_time": "2022-12-09T22:44:52.532Z"
   },
   {
    "duration": 78,
    "start_time": "2022-12-09T22:44:54.551Z"
   },
   {
    "duration": 17,
    "start_time": "2022-12-09T22:45:01.239Z"
   },
   {
    "duration": 3,
    "start_time": "2022-12-09T22:45:01.910Z"
   },
   {
    "duration": 2,
    "start_time": "2022-12-09T22:45:02.869Z"
   },
   {
    "duration": 4,
    "start_time": "2022-12-09T22:45:03.061Z"
   },
   {
    "duration": 16,
    "start_time": "2022-12-09T22:45:03.371Z"
   },
   {
    "duration": 4,
    "start_time": "2022-12-09T22:45:03.821Z"
   },
   {
    "duration": 17,
    "start_time": "2022-12-09T22:45:04.021Z"
   },
   {
    "duration": 12,
    "start_time": "2022-12-09T22:45:05.159Z"
   },
   {
    "duration": 7,
    "start_time": "2022-12-09T22:45:05.691Z"
   },
   {
    "duration": 6,
    "start_time": "2022-12-09T22:45:06.080Z"
   },
   {
    "duration": 4,
    "start_time": "2022-12-09T22:45:08.161Z"
   },
   {
    "duration": 15,
    "start_time": "2022-12-09T22:45:08.341Z"
   },
   {
    "duration": 826,
    "start_time": "2022-12-09T22:45:11.129Z"
   },
   {
    "duration": 80,
    "start_time": "2022-12-09T22:45:13.441Z"
   },
   {
    "duration": 16,
    "start_time": "2022-12-09T22:45:23.022Z"
   },
   {
    "duration": 752,
    "start_time": "2022-12-09T22:45:33.639Z"
   },
   {
    "duration": 83,
    "start_time": "2022-12-09T22:45:35.639Z"
   },
   {
    "duration": 15,
    "start_time": "2022-12-09T22:45:54.954Z"
   },
   {
    "duration": 4,
    "start_time": "2022-12-09T22:45:55.701Z"
   },
   {
    "duration": 2,
    "start_time": "2022-12-09T22:45:57.729Z"
   },
   {
    "duration": 4,
    "start_time": "2022-12-09T22:45:57.978Z"
   },
   {
    "duration": 20,
    "start_time": "2022-12-09T22:45:58.281Z"
   },
   {
    "duration": 15,
    "start_time": "2022-12-09T22:46:14.251Z"
   },
   {
    "duration": 3,
    "start_time": "2022-12-09T22:46:15.009Z"
   },
   {
    "duration": 2,
    "start_time": "2022-12-09T22:46:15.402Z"
   },
   {
    "duration": 4,
    "start_time": "2022-12-09T22:46:15.671Z"
   },
   {
    "duration": 13,
    "start_time": "2022-12-09T22:46:15.881Z"
   },
   {
    "duration": 4,
    "start_time": "2022-12-09T22:46:19.941Z"
   },
   {
    "duration": 15,
    "start_time": "2022-12-09T22:46:20.181Z"
   },
   {
    "duration": 14,
    "start_time": "2022-12-09T22:46:20.931Z"
   },
   {
    "duration": 6,
    "start_time": "2022-12-09T22:46:21.861Z"
   },
   {
    "duration": 6,
    "start_time": "2022-12-09T22:46:22.269Z"
   },
   {
    "duration": 4,
    "start_time": "2022-12-09T22:46:24.862Z"
   },
   {
    "duration": 14,
    "start_time": "2022-12-09T22:46:25.061Z"
   },
   {
    "duration": 5,
    "start_time": "2022-12-09T22:46:25.244Z"
   },
   {
    "duration": 726,
    "start_time": "2022-12-09T22:46:34.291Z"
   },
   {
    "duration": 13,
    "start_time": "2022-12-09T22:46:41.365Z"
   },
   {
    "duration": 6,
    "start_time": "2022-12-09T22:46:42.161Z"
   },
   {
    "duration": 35,
    "start_time": "2022-12-09T22:46:43.181Z"
   },
   {
    "duration": 20,
    "start_time": "2022-12-09T22:46:52.733Z"
   },
   {
    "duration": 34,
    "start_time": "2022-12-09T22:46:55.950Z"
   },
   {
    "duration": 14,
    "start_time": "2022-12-09T22:47:13.060Z"
   },
   {
    "duration": 3,
    "start_time": "2022-12-09T22:47:13.782Z"
   },
   {
    "duration": 2,
    "start_time": "2022-12-09T22:47:14.130Z"
   },
   {
    "duration": 3,
    "start_time": "2022-12-09T22:47:14.531Z"
   },
   {
    "duration": 14,
    "start_time": "2022-12-09T22:47:14.842Z"
   },
   {
    "duration": 4,
    "start_time": "2022-12-09T22:47:15.618Z"
   },
   {
    "duration": 15,
    "start_time": "2022-12-09T22:47:15.850Z"
   },
   {
    "duration": 14,
    "start_time": "2022-12-09T22:47:20.431Z"
   },
   {
    "duration": 15,
    "start_time": "2022-12-09T22:47:24.061Z"
   },
   {
    "duration": 4,
    "start_time": "2022-12-09T22:47:24.929Z"
   },
   {
    "duration": 2,
    "start_time": "2022-12-09T22:47:27.611Z"
   },
   {
    "duration": 3,
    "start_time": "2022-12-09T22:47:44.113Z"
   },
   {
    "duration": 13,
    "start_time": "2022-12-09T22:47:44.311Z"
   },
   {
    "duration": 3,
    "start_time": "2022-12-09T22:47:44.731Z"
   },
   {
    "duration": 20,
    "start_time": "2022-12-09T22:47:44.931Z"
   },
   {
    "duration": 14,
    "start_time": "2022-12-09T22:47:45.891Z"
   },
   {
    "duration": 15,
    "start_time": "2022-12-09T22:47:48.290Z"
   },
   {
    "duration": 3,
    "start_time": "2022-12-09T22:47:49.012Z"
   },
   {
    "duration": 2,
    "start_time": "2022-12-09T22:47:50.753Z"
   },
   {
    "duration": 4,
    "start_time": "2022-12-09T22:47:51.702Z"
   },
   {
    "duration": 4,
    "start_time": "2022-12-09T22:47:58.281Z"
   },
   {
    "duration": 14,
    "start_time": "2022-12-09T22:47:58.541Z"
   },
   {
    "duration": 5,
    "start_time": "2022-12-09T22:47:59.392Z"
   },
   {
    "duration": 22,
    "start_time": "2022-12-09T22:47:59.709Z"
   },
   {
    "duration": 21,
    "start_time": "2022-12-09T22:48:07.441Z"
   },
   {
    "duration": 24,
    "start_time": "2022-12-09T22:48:20.584Z"
   },
   {
    "duration": 23,
    "start_time": "2022-12-09T22:48:24.241Z"
   },
   {
    "duration": 3,
    "start_time": "2022-12-09T22:48:35.081Z"
   },
   {
    "duration": 17,
    "start_time": "2022-12-09T22:48:36.021Z"
   },
   {
    "duration": 18,
    "start_time": "2022-12-09T22:48:37.931Z"
   },
   {
    "duration": 4,
    "start_time": "2022-12-09T22:49:03.469Z"
   },
   {
    "duration": 33,
    "start_time": "2022-12-09T22:49:03.921Z"
   },
   {
    "duration": 4,
    "start_time": "2022-12-09T22:49:08.559Z"
   },
   {
    "duration": 30,
    "start_time": "2022-12-09T22:49:08.731Z"
   },
   {
    "duration": 4,
    "start_time": "2022-12-09T22:49:18.141Z"
   },
   {
    "duration": 28,
    "start_time": "2022-12-09T22:49:18.381Z"
   },
   {
    "duration": 4,
    "start_time": "2022-12-09T22:49:51.778Z"
   },
   {
    "duration": 30,
    "start_time": "2022-12-09T22:49:52.061Z"
   },
   {
    "duration": 4,
    "start_time": "2022-12-09T22:49:55.241Z"
   },
   {
    "duration": 26,
    "start_time": "2022-12-09T22:49:55.451Z"
   },
   {
    "duration": 4,
    "start_time": "2022-12-09T22:49:57.648Z"
   },
   {
    "duration": 36,
    "start_time": "2022-12-09T22:49:57.819Z"
   },
   {
    "duration": 4,
    "start_time": "2022-12-09T22:50:04.899Z"
   },
   {
    "duration": 30,
    "start_time": "2022-12-09T22:50:05.119Z"
   },
   {
    "duration": 3,
    "start_time": "2022-12-09T22:50:28.537Z"
   },
   {
    "duration": 16,
    "start_time": "2022-12-09T22:50:28.780Z"
   },
   {
    "duration": 5,
    "start_time": "2022-12-09T22:50:44.251Z"
   },
   {
    "duration": 12,
    "start_time": "2022-12-09T22:50:44.682Z"
   },
   {
    "duration": 14,
    "start_time": "2022-12-09T22:50:45.341Z"
   },
   {
    "duration": 7,
    "start_time": "2022-12-09T22:50:46.869Z"
   },
   {
    "duration": 6,
    "start_time": "2022-12-09T22:50:47.212Z"
   },
   {
    "duration": 4,
    "start_time": "2022-12-09T22:50:49.353Z"
   },
   {
    "duration": 15,
    "start_time": "2022-12-09T22:50:49.498Z"
   },
   {
    "duration": 6,
    "start_time": "2022-12-09T22:50:49.680Z"
   },
   {
    "duration": 20,
    "start_time": "2022-12-09T22:50:49.881Z"
   },
   {
    "duration": 761,
    "start_time": "2022-12-09T22:50:54.189Z"
   },
   {
    "duration": 82,
    "start_time": "2022-12-09T22:50:56.191Z"
   },
   {
    "duration": 19,
    "start_time": "2022-12-09T22:51:09.069Z"
   },
   {
    "duration": 15,
    "start_time": "2022-12-09T22:51:34.121Z"
   },
   {
    "duration": 3,
    "start_time": "2022-12-09T22:51:35.011Z"
   },
   {
    "duration": 2,
    "start_time": "2022-12-09T22:51:35.449Z"
   },
   {
    "duration": 4,
    "start_time": "2022-12-09T22:51:35.671Z"
   },
   {
    "duration": 31,
    "start_time": "2022-12-09T22:51:35.882Z"
   },
   {
    "duration": 3,
    "start_time": "2022-12-09T22:51:36.294Z"
   },
   {
    "duration": 3,
    "start_time": "2022-12-09T22:51:39.841Z"
   },
   {
    "duration": 15,
    "start_time": "2022-12-09T22:51:39.970Z"
   },
   {
    "duration": 4,
    "start_time": "2022-12-09T22:51:42.861Z"
   },
   {
    "duration": 16,
    "start_time": "2022-12-09T22:51:43.081Z"
   },
   {
    "duration": 14,
    "start_time": "2022-12-09T22:51:43.571Z"
   },
   {
    "duration": 7,
    "start_time": "2022-12-09T22:51:44.073Z"
   },
   {
    "duration": 4,
    "start_time": "2022-12-09T22:51:47.151Z"
   },
   {
    "duration": 16,
    "start_time": "2022-12-09T22:51:47.321Z"
   },
   {
    "duration": 5,
    "start_time": "2022-12-09T22:51:47.461Z"
   },
   {
    "duration": 783,
    "start_time": "2022-12-09T22:51:52.172Z"
   },
   {
    "duration": 46,
    "start_time": "2022-12-09T22:51:54.061Z"
   },
   {
    "duration": 18,
    "start_time": "2022-12-09T22:52:01.821Z"
   },
   {
    "duration": 812,
    "start_time": "2022-12-09T22:52:06.491Z"
   },
   {
    "duration": 83,
    "start_time": "2022-12-09T22:52:08.289Z"
   },
   {
    "duration": 14,
    "start_time": "2022-12-09T22:52:14.661Z"
   },
   {
    "duration": 3,
    "start_time": "2022-12-09T22:52:15.309Z"
   },
   {
    "duration": 2,
    "start_time": "2022-12-09T22:52:16.051Z"
   },
   {
    "duration": 4,
    "start_time": "2022-12-09T22:52:16.241Z"
   },
   {
    "duration": 15,
    "start_time": "2022-12-09T22:52:16.432Z"
   },
   {
    "duration": 4,
    "start_time": "2022-12-09T22:52:18.141Z"
   },
   {
    "duration": 15,
    "start_time": "2022-12-09T22:52:18.469Z"
   },
   {
    "duration": 14,
    "start_time": "2022-12-09T22:52:19.991Z"
   },
   {
    "duration": 4,
    "start_time": "2022-12-09T22:52:24.691Z"
   },
   {
    "duration": 19,
    "start_time": "2022-12-09T22:52:26.649Z"
   },
   {
    "duration": 895,
    "start_time": "2022-12-09T22:52:34.812Z"
   },
   {
    "duration": 82,
    "start_time": "2022-12-09T22:52:36.499Z"
   },
   {
    "duration": 15,
    "start_time": "2022-12-09T22:52:45.329Z"
   },
   {
    "duration": 16,
    "start_time": "2022-12-09T22:52:53.359Z"
   },
   {
    "duration": 15,
    "start_time": "2022-12-09T22:52:54.859Z"
   },
   {
    "duration": 20,
    "start_time": "2022-12-09T22:53:08.721Z"
   },
   {
    "duration": 773,
    "start_time": "2022-12-09T22:53:25.142Z"
   },
   {
    "duration": 92,
    "start_time": "2022-12-09T22:53:26.713Z"
   },
   {
    "duration": 16,
    "start_time": "2022-12-09T22:53:31.181Z"
   },
   {
    "duration": 3,
    "start_time": "2022-12-09T22:53:31.821Z"
   },
   {
    "duration": 3,
    "start_time": "2022-12-09T22:53:32.392Z"
   },
   {
    "duration": 4,
    "start_time": "2022-12-09T22:53:32.561Z"
   },
   {
    "duration": 14,
    "start_time": "2022-12-09T22:53:32.739Z"
   },
   {
    "duration": 3,
    "start_time": "2022-12-09T22:53:33.201Z"
   },
   {
    "duration": 15,
    "start_time": "2022-12-09T22:53:33.521Z"
   },
   {
    "duration": 12,
    "start_time": "2022-12-09T22:53:34.971Z"
   },
   {
    "duration": 6,
    "start_time": "2022-12-09T22:53:35.291Z"
   },
   {
    "duration": 4,
    "start_time": "2022-12-09T22:53:37.972Z"
   },
   {
    "duration": 14,
    "start_time": "2022-12-09T22:53:38.178Z"
   },
   {
    "duration": 799,
    "start_time": "2022-12-09T22:53:41.692Z"
   },
   {
    "duration": 83,
    "start_time": "2022-12-09T22:53:43.169Z"
   },
   {
    "duration": 16,
    "start_time": "2022-12-09T22:53:47.419Z"
   },
   {
    "duration": 16,
    "start_time": "2022-12-09T22:53:54.042Z"
   },
   {
    "duration": 18,
    "start_time": "2022-12-09T22:54:15.881Z"
   },
   {
    "duration": 1227,
    "start_time": "2022-12-09T22:54:16.097Z"
   },
   {
    "duration": 21,
    "start_time": "2022-12-09T22:54:17.325Z"
   },
   {
    "duration": 29,
    "start_time": "2022-12-09T22:54:17.348Z"
   },
   {
    "duration": 30,
    "start_time": "2022-12-09T22:54:17.378Z"
   },
   {
    "duration": 452,
    "start_time": "2022-12-09T22:54:17.537Z"
   },
   {
    "duration": 4102,
    "start_time": "2022-12-10T05:08:17.077Z"
   },
   {
    "duration": 248,
    "start_time": "2022-12-10T05:08:21.182Z"
   },
   {
    "duration": 24,
    "start_time": "2022-12-10T05:08:21.432Z"
   },
   {
    "duration": 21,
    "start_time": "2022-12-10T05:08:21.459Z"
   },
   {
    "duration": 23,
    "start_time": "2022-12-10T05:08:21.483Z"
   },
   {
    "duration": 43,
    "start_time": "2022-12-10T05:08:21.517Z"
   },
   {
    "duration": 3,
    "start_time": "2022-12-10T05:08:21.562Z"
   },
   {
    "duration": 11,
    "start_time": "2022-12-10T05:08:21.568Z"
   },
   {
    "duration": 15,
    "start_time": "2022-12-10T05:08:21.581Z"
   },
   {
    "duration": 29,
    "start_time": "2022-12-10T05:08:21.598Z"
   },
   {
    "duration": 17,
    "start_time": "2022-12-10T05:08:21.631Z"
   },
   {
    "duration": 9,
    "start_time": "2022-12-10T05:08:21.650Z"
   },
   {
    "duration": 7,
    "start_time": "2022-12-10T05:08:21.662Z"
   },
   {
    "duration": 7,
    "start_time": "2022-12-10T05:08:21.674Z"
   },
   {
    "duration": 9,
    "start_time": "2022-12-10T05:08:21.683Z"
   },
   {
    "duration": 25,
    "start_time": "2022-12-10T05:08:21.694Z"
   },
   {
    "duration": 30,
    "start_time": "2022-12-10T05:08:21.721Z"
   },
   {
    "duration": 10,
    "start_time": "2022-12-10T05:08:21.754Z"
   },
   {
    "duration": 6,
    "start_time": "2022-12-10T05:08:21.766Z"
   },
   {
    "duration": 32,
    "start_time": "2022-12-10T05:08:21.774Z"
   },
   {
    "duration": 14,
    "start_time": "2022-12-10T05:08:21.808Z"
   },
   {
    "duration": 24,
    "start_time": "2022-12-10T05:08:21.828Z"
   },
   {
    "duration": 25,
    "start_time": "2022-12-10T05:08:21.854Z"
   },
   {
    "duration": 7,
    "start_time": "2022-12-10T05:08:21.881Z"
   },
   {
    "duration": 10,
    "start_time": "2022-12-10T05:08:21.891Z"
   },
   {
    "duration": 13,
    "start_time": "2022-12-10T05:08:21.904Z"
   },
   {
    "duration": 50,
    "start_time": "2022-12-10T05:08:21.919Z"
   },
   {
    "duration": 4,
    "start_time": "2022-12-10T05:08:21.972Z"
   },
   {
    "duration": 28,
    "start_time": "2022-12-10T05:08:21.979Z"
   },
   {
    "duration": 22,
    "start_time": "2022-12-10T05:08:22.009Z"
   },
   {
    "duration": 14,
    "start_time": "2022-12-10T05:08:22.044Z"
   },
   {
    "duration": 10,
    "start_time": "2022-12-10T05:08:22.060Z"
   },
   {
    "duration": 1451,
    "start_time": "2022-12-10T05:08:22.072Z"
   },
   {
    "duration": 24,
    "start_time": "2022-12-10T05:08:23.525Z"
   },
   {
    "duration": 77,
    "start_time": "2022-12-10T05:08:23.551Z"
   },
   {
    "duration": 11,
    "start_time": "2022-12-10T05:08:23.631Z"
   },
   {
    "duration": 25,
    "start_time": "2022-12-10T05:08:23.645Z"
   },
   {
    "duration": 1471,
    "start_time": "2022-12-10T05:08:23.672Z"
   },
   {
    "duration": 16,
    "start_time": "2022-12-10T05:08:25.146Z"
   },
   {
    "duration": 5,
    "start_time": "2022-12-10T05:08:25.164Z"
   },
   {
    "duration": 43,
    "start_time": "2022-12-10T05:08:25.173Z"
   },
   {
    "duration": 660,
    "start_time": "2022-12-10T05:08:25.218Z"
   },
   {
    "duration": 7,
    "start_time": "2022-12-10T05:08:25.880Z"
   },
   {
    "duration": 10,
    "start_time": "2022-12-10T05:08:25.890Z"
   },
   {
    "duration": 18,
    "start_time": "2022-12-10T05:08:25.902Z"
   },
   {
    "duration": 22,
    "start_time": "2022-12-10T05:08:25.926Z"
   },
   {
    "duration": 9,
    "start_time": "2022-12-10T05:08:25.950Z"
   },
   {
    "duration": 10,
    "start_time": "2022-12-10T05:08:25.962Z"
   },
   {
    "duration": 1096,
    "start_time": "2022-12-10T05:08:25.974Z"
   },
   {
    "duration": 95,
    "start_time": "2022-12-10T05:08:27.073Z"
   },
   {
    "duration": 587,
    "start_time": "2022-12-10T05:08:27.171Z"
   },
   {
    "duration": 159,
    "start_time": "2022-12-10T05:09:25.657Z"
   },
   {
    "duration": 643,
    "start_time": "2022-12-10T05:09:51.655Z"
   },
   {
    "duration": 116,
    "start_time": "2022-12-10T05:10:02.874Z"
   },
   {
    "duration": 621,
    "start_time": "2022-12-10T05:10:06.607Z"
   },
   {
    "duration": 78,
    "start_time": "2022-12-10T05:10:09.434Z"
   },
   {
    "duration": 645,
    "start_time": "2022-12-10T05:10:14.688Z"
   },
   {
    "duration": 82,
    "start_time": "2022-12-10T05:10:16.067Z"
   },
   {
    "duration": 1023,
    "start_time": "2022-12-10T05:10:29.046Z"
   },
   {
    "duration": 87,
    "start_time": "2022-12-10T05:10:31.008Z"
   },
   {
    "duration": 1066,
    "start_time": "2022-12-10T05:10:35.637Z"
   },
   {
    "duration": 9,
    "start_time": "2022-12-10T05:11:04.568Z"
   },
   {
    "duration": 15,
    "start_time": "2022-12-10T05:11:15.466Z"
   },
   {
    "duration": 5,
    "start_time": "2022-12-10T05:11:20.318Z"
   },
   {
    "duration": 57,
    "start_time": "2022-12-10T05:11:20.326Z"
   },
   {
    "duration": 4,
    "start_time": "2022-12-10T05:11:20.879Z"
   },
   {
    "duration": 22,
    "start_time": "2022-12-10T05:11:21.258Z"
   },
   {
    "duration": 4,
    "start_time": "2022-12-10T05:11:26.507Z"
   },
   {
    "duration": 29,
    "start_time": "2022-12-10T05:11:27.457Z"
   },
   {
    "duration": 5,
    "start_time": "2022-12-10T05:11:39.222Z"
   },
   {
    "duration": 21,
    "start_time": "2022-12-10T05:11:39.537Z"
   },
   {
    "duration": 4,
    "start_time": "2022-12-10T05:11:45.476Z"
   },
   {
    "duration": 18,
    "start_time": "2022-12-10T05:11:45.677Z"
   },
   {
    "duration": 16,
    "start_time": "2022-12-10T05:11:46.267Z"
   },
   {
    "duration": 7,
    "start_time": "2022-12-10T05:11:46.897Z"
   },
   {
    "duration": 7,
    "start_time": "2022-12-10T05:11:47.654Z"
   },
   {
    "duration": 945,
    "start_time": "2022-12-10T05:11:51.097Z"
   },
   {
    "duration": 10,
    "start_time": "2022-12-10T05:11:54.619Z"
   },
   {
    "duration": 16,
    "start_time": "2022-12-10T05:11:54.834Z"
   },
   {
    "duration": 6,
    "start_time": "2022-12-10T05:11:57.677Z"
   },
   {
    "duration": 25,
    "start_time": "2022-12-10T05:11:57.932Z"
   },
   {
    "duration": 958,
    "start_time": "2022-12-10T05:12:02.507Z"
   },
   {
    "duration": 106,
    "start_time": "2022-12-10T05:12:04.755Z"
   },
   {
    "duration": 28,
    "start_time": "2022-12-10T05:12:25.408Z"
   },
   {
    "duration": 33,
    "start_time": "2022-12-10T05:12:32.007Z"
   },
   {
    "duration": 4,
    "start_time": "2022-12-10T05:12:52.478Z"
   },
   {
    "duration": 5,
    "start_time": "2022-12-10T05:12:53.087Z"
   },
   {
    "duration": 9,
    "start_time": "2022-12-10T05:12:53.438Z"
   },
   {
    "duration": 9,
    "start_time": "2022-12-10T05:12:53.634Z"
   },
   {
    "duration": 3,
    "start_time": "2022-12-10T05:12:53.998Z"
   },
   {
    "duration": 24,
    "start_time": "2022-12-10T05:12:54.586Z"
   },
   {
    "duration": 8,
    "start_time": "2022-12-10T05:12:55.407Z"
   },
   {
    "duration": 3,
    "start_time": "2022-12-10T05:12:55.767Z"
   },
   {
    "duration": 22,
    "start_time": "2022-12-10T05:12:57.408Z"
   },
   {
    "duration": 5,
    "start_time": "2022-12-10T05:12:59.598Z"
   },
   {
    "duration": 3,
    "start_time": "2022-12-10T05:12:59.947Z"
   },
   {
    "duration": 9,
    "start_time": "2022-12-10T05:13:00.131Z"
   },
   {
    "duration": 24,
    "start_time": "2022-12-10T05:13:00.270Z"
   },
   {
    "duration": 6,
    "start_time": "2022-12-10T05:13:00.658Z"
   },
   {
    "duration": 24,
    "start_time": "2022-12-10T05:13:00.839Z"
   },
   {
    "duration": 18,
    "start_time": "2022-12-10T05:13:01.347Z"
   },
   {
    "duration": 8,
    "start_time": "2022-12-10T05:13:05.247Z"
   },
   {
    "duration": 23,
    "start_time": "2022-12-10T05:13:05.395Z"
   },
   {
    "duration": 565,
    "start_time": "2022-12-10T05:13:10.538Z"
   },
   {
    "duration": 953,
    "start_time": "2022-12-10T05:13:15.673Z"
   },
   {
    "duration": 26,
    "start_time": "2022-12-10T05:13:42.548Z"
   },
   {
    "duration": 851,
    "start_time": "2022-12-10T05:13:45.887Z"
   },
   {
    "duration": 89,
    "start_time": "2022-12-10T05:13:48.145Z"
   },
   {
    "duration": 806,
    "start_time": "2022-12-10T05:13:57.454Z"
   },
   {
    "duration": 81,
    "start_time": "2022-12-10T05:13:58.262Z"
   },
   {
    "duration": 1047,
    "start_time": "2022-12-10T05:14:01.240Z"
   },
   {
    "duration": 90,
    "start_time": "2022-12-10T05:14:02.289Z"
   },
   {
    "duration": 1940,
    "start_time": "2022-12-10T05:14:05.958Z"
   },
   {
    "duration": 161,
    "start_time": "2022-12-10T05:14:07.901Z"
   },
   {
    "duration": 151,
    "start_time": "2022-12-10T05:14:10.389Z"
   },
   {
    "duration": 1466,
    "start_time": "2022-12-10T05:14:12.733Z"
   },
   {
    "duration": 176,
    "start_time": "2022-12-10T05:14:14.202Z"
   },
   {
    "duration": 339,
    "start_time": "2022-12-10T05:15:58.347Z"
   },
   {
    "duration": 8,
    "start_time": "2022-12-10T05:16:09.496Z"
   },
   {
    "duration": 7,
    "start_time": "2022-12-10T05:16:16.898Z"
   },
   {
    "duration": 66,
    "start_time": "2022-12-10T05:16:16.908Z"
   },
   {
    "duration": 14,
    "start_time": "2022-12-10T05:16:16.975Z"
   },
   {
    "duration": 21,
    "start_time": "2022-12-10T05:16:16.991Z"
   },
   {
    "duration": 27,
    "start_time": "2022-12-10T05:16:17.019Z"
   },
   {
    "duration": 23,
    "start_time": "2022-12-10T05:16:17.048Z"
   },
   {
    "duration": 2,
    "start_time": "2022-12-10T05:16:17.073Z"
   },
   {
    "duration": 10,
    "start_time": "2022-12-10T05:16:17.077Z"
   },
   {
    "duration": 8,
    "start_time": "2022-12-10T05:16:17.089Z"
   },
   {
    "duration": 6,
    "start_time": "2022-12-10T05:16:17.099Z"
   },
   {
    "duration": 20,
    "start_time": "2022-12-10T05:16:17.107Z"
   },
   {
    "duration": 7,
    "start_time": "2022-12-10T05:16:20.247Z"
   },
   {
    "duration": 5,
    "start_time": "2022-12-10T05:16:23.667Z"
   },
   {
    "duration": 6,
    "start_time": "2022-12-10T05:16:24.028Z"
   },
   {
    "duration": 9,
    "start_time": "2022-12-10T05:16:24.368Z"
   },
   {
    "duration": 9,
    "start_time": "2022-12-10T05:16:24.558Z"
   },
   {
    "duration": 3,
    "start_time": "2022-12-10T05:16:24.938Z"
   },
   {
    "duration": 17,
    "start_time": "2022-12-10T05:16:25.530Z"
   },
   {
    "duration": 8,
    "start_time": "2022-12-10T05:16:26.618Z"
   },
   {
    "duration": 5,
    "start_time": "2022-12-10T05:16:27.022Z"
   },
   {
    "duration": 17,
    "start_time": "2022-12-10T05:16:28.125Z"
   },
   {
    "duration": 3,
    "start_time": "2022-12-10T05:16:29.467Z"
   },
   {
    "duration": 3,
    "start_time": "2022-12-10T05:16:30.007Z"
   },
   {
    "duration": 5,
    "start_time": "2022-12-10T05:16:30.246Z"
   },
   {
    "duration": 15,
    "start_time": "2022-12-10T05:16:30.477Z"
   },
   {
    "duration": 4,
    "start_time": "2022-12-10T05:16:31.026Z"
   },
   {
    "duration": 24,
    "start_time": "2022-12-10T05:16:31.606Z"
   },
   {
    "duration": 20,
    "start_time": "2022-12-10T05:16:33.633Z"
   },
   {
    "duration": 4,
    "start_time": "2022-12-10T05:16:39.597Z"
   },
   {
    "duration": 13,
    "start_time": "2022-12-10T05:16:39.797Z"
   },
   {
    "duration": 6,
    "start_time": "2022-12-10T05:16:42.028Z"
   },
   {
    "duration": 19,
    "start_time": "2022-12-10T05:16:42.224Z"
   },
   {
    "duration": 19,
    "start_time": "2022-12-10T05:16:50.087Z"
   },
   {
    "duration": 7,
    "start_time": "2022-12-10T05:17:15.446Z"
   },
   {
    "duration": 64,
    "start_time": "2022-12-10T05:17:15.456Z"
   },
   {
    "duration": 13,
    "start_time": "2022-12-10T05:17:15.526Z"
   },
   {
    "duration": 16,
    "start_time": "2022-12-10T05:17:15.540Z"
   },
   {
    "duration": 12,
    "start_time": "2022-12-10T05:17:15.558Z"
   },
   {
    "duration": 20,
    "start_time": "2022-12-10T05:17:15.572Z"
   },
   {
    "duration": 3,
    "start_time": "2022-12-10T05:17:15.593Z"
   },
   {
    "duration": 3,
    "start_time": "2022-12-10T05:17:15.618Z"
   },
   {
    "duration": 7,
    "start_time": "2022-12-10T05:17:15.622Z"
   },
   {
    "duration": 6,
    "start_time": "2022-12-10T05:17:15.632Z"
   },
   {
    "duration": 8,
    "start_time": "2022-12-10T05:17:15.640Z"
   },
   {
    "duration": 6,
    "start_time": "2022-12-10T05:17:22.758Z"
   },
   {
    "duration": 5,
    "start_time": "2022-12-10T05:17:23.258Z"
   },
   {
    "duration": 7,
    "start_time": "2022-12-10T05:17:23.338Z"
   },
   {
    "duration": 8,
    "start_time": "2022-12-10T05:17:23.431Z"
   },
   {
    "duration": 6,
    "start_time": "2022-12-10T05:17:23.587Z"
   },
   {
    "duration": 6,
    "start_time": "2022-12-10T05:17:23.757Z"
   },
   {
    "duration": 7,
    "start_time": "2022-12-10T05:17:23.931Z"
   },
   {
    "duration": 9,
    "start_time": "2022-12-10T05:17:24.007Z"
   },
   {
    "duration": 4,
    "start_time": "2022-12-10T05:17:24.177Z"
   },
   {
    "duration": 18,
    "start_time": "2022-12-10T05:17:24.430Z"
   },
   {
    "duration": 6,
    "start_time": "2022-12-10T05:17:24.756Z"
   },
   {
    "duration": 10,
    "start_time": "2022-12-10T05:17:24.931Z"
   },
   {
    "duration": 15,
    "start_time": "2022-12-10T05:17:26.231Z"
   },
   {
    "duration": 3,
    "start_time": "2022-12-10T05:17:27.275Z"
   },
   {
    "duration": 3,
    "start_time": "2022-12-10T05:17:27.707Z"
   },
   {
    "duration": 8,
    "start_time": "2022-12-10T05:17:27.888Z"
   },
   {
    "duration": 18,
    "start_time": "2022-12-10T05:17:28.121Z"
   },
   {
    "duration": 4,
    "start_time": "2022-12-10T05:17:28.585Z"
   },
   {
    "duration": 25,
    "start_time": "2022-12-10T05:17:28.778Z"
   },
   {
    "duration": 14,
    "start_time": "2022-12-10T05:17:29.226Z"
   },
   {
    "duration": 11,
    "start_time": "2022-12-10T05:17:29.707Z"
   },
   {
    "duration": 7,
    "start_time": "2022-12-10T05:17:30.227Z"
   },
   {
    "duration": 26,
    "start_time": "2022-12-10T05:17:31.397Z"
   },
   {
    "duration": 7,
    "start_time": "2022-12-10T05:17:43.257Z"
   },
   {
    "duration": 7,
    "start_time": "2022-12-10T05:18:37.787Z"
   },
   {
    "duration": 6,
    "start_time": "2022-12-10T05:18:55.037Z"
   },
   {
    "duration": 5,
    "start_time": "2022-12-10T05:18:55.408Z"
   },
   {
    "duration": 16,
    "start_time": "2022-12-10T05:19:08.508Z"
   },
   {
    "duration": 6,
    "start_time": "2022-12-10T05:19:09.206Z"
   },
   {
    "duration": 74,
    "start_time": "2022-12-10T05:19:15.042Z"
   },
   {
    "duration": 7,
    "start_time": "2022-12-10T05:19:15.237Z"
   },
   {
    "duration": 9,
    "start_time": "2022-12-10T05:19:20.397Z"
   },
   {
    "duration": 6,
    "start_time": "2022-12-10T05:19:20.928Z"
   },
   {
    "duration": 361,
    "start_time": "2022-12-10T05:19:43.467Z"
   },
   {
    "duration": 0,
    "start_time": "2022-12-10T05:19:43.832Z"
   },
   {
    "duration": 323,
    "start_time": "2022-12-10T05:19:46.094Z"
   },
   {
    "duration": 0,
    "start_time": "2022-12-10T05:19:46.423Z"
   },
   {
    "duration": 10,
    "start_time": "2022-12-10T05:19:53.521Z"
   },
   {
    "duration": 6,
    "start_time": "2022-12-10T05:19:53.707Z"
   },
   {
    "duration": 83,
    "start_time": "2022-12-10T05:19:58.197Z"
   },
   {
    "duration": 80,
    "start_time": "2022-12-10T05:19:58.898Z"
   },
   {
    "duration": 10,
    "start_time": "2022-12-10T05:20:04.938Z"
   },
   {
    "duration": 5,
    "start_time": "2022-12-10T05:20:05.348Z"
   },
   {
    "duration": 438,
    "start_time": "2022-12-10T05:20:07.957Z"
   },
   {
    "duration": 0,
    "start_time": "2022-12-10T05:20:08.397Z"
   },
   {
    "duration": 6,
    "start_time": "2022-12-10T05:20:17.478Z"
   },
   {
    "duration": 5,
    "start_time": "2022-12-10T05:20:17.688Z"
   },
   {
    "duration": 7,
    "start_time": "2022-12-10T05:20:21.737Z"
   },
   {
    "duration": 6,
    "start_time": "2022-12-10T05:20:21.867Z"
   },
   {
    "duration": 15,
    "start_time": "2022-12-10T05:20:40.117Z"
   },
   {
    "duration": 7,
    "start_time": "2022-12-10T05:20:48.247Z"
   },
   {
    "duration": 1321,
    "start_time": "2022-12-10T05:20:50.577Z"
   },
   {
    "duration": 15,
    "start_time": "2022-12-10T05:20:57.076Z"
   },
   {
    "duration": 89,
    "start_time": "2022-12-10T05:21:01.595Z"
   },
   {
    "duration": 14,
    "start_time": "2022-12-10T05:21:12.297Z"
   },
   {
    "duration": 19,
    "start_time": "2022-12-10T05:21:14.338Z"
   },
   {
    "duration": 13,
    "start_time": "2022-12-10T05:21:18.339Z"
   },
   {
    "duration": 5,
    "start_time": "2022-12-10T05:21:22.547Z"
   },
   {
    "duration": 6,
    "start_time": "2022-12-10T05:21:28.930Z"
   },
   {
    "duration": 16,
    "start_time": "2022-12-10T05:21:31.007Z"
   },
   {
    "duration": 6,
    "start_time": "2022-12-10T05:21:32.378Z"
   },
   {
    "duration": 5,
    "start_time": "2022-12-10T05:21:35.157Z"
   },
   {
    "duration": 5,
    "start_time": "2022-12-10T05:21:37.930Z"
   },
   {
    "duration": 5,
    "start_time": "2022-12-10T05:21:46.057Z"
   },
   {
    "duration": 6,
    "start_time": "2022-12-10T05:21:54.158Z"
   },
   {
    "duration": 22,
    "start_time": "2022-12-10T05:21:55.807Z"
   },
   {
    "duration": 6,
    "start_time": "2022-12-10T05:22:16.377Z"
   },
   {
    "duration": 348,
    "start_time": "2022-12-10T05:22:23.307Z"
   },
   {
    "duration": 5,
    "start_time": "2022-12-10T05:22:23.730Z"
   },
   {
    "duration": 306,
    "start_time": "2022-12-10T05:22:27.148Z"
   },
   {
    "duration": 5,
    "start_time": "2022-12-10T05:22:27.777Z"
   },
   {
    "duration": 3,
    "start_time": "2022-12-10T05:22:35.438Z"
   },
   {
    "duration": 35,
    "start_time": "2022-12-10T05:22:35.667Z"
   },
   {
    "duration": 7,
    "start_time": "2022-12-10T05:22:37.507Z"
   },
   {
    "duration": 1237,
    "start_time": "2022-12-10T05:22:37.987Z"
   },
   {
    "duration": 0,
    "start_time": "2022-12-10T05:22:39.230Z"
   },
   {
    "duration": 0,
    "start_time": "2022-12-10T05:22:39.231Z"
   },
   {
    "duration": 0,
    "start_time": "2022-12-10T05:22:39.236Z"
   },
   {
    "duration": 0,
    "start_time": "2022-12-10T05:22:39.237Z"
   },
   {
    "duration": 0,
    "start_time": "2022-12-10T05:22:39.239Z"
   },
   {
    "duration": 0,
    "start_time": "2022-12-10T05:22:39.240Z"
   },
   {
    "duration": 3,
    "start_time": "2022-12-10T05:22:39.287Z"
   },
   {
    "duration": 17,
    "start_time": "2022-12-10T05:22:39.547Z"
   },
   {
    "duration": 5,
    "start_time": "2022-12-10T05:22:40.698Z"
   },
   {
    "duration": 3,
    "start_time": "2022-12-10T05:22:40.867Z"
   },
   {
    "duration": 15,
    "start_time": "2022-12-10T05:22:41.730Z"
   },
   {
    "duration": 4,
    "start_time": "2022-12-10T05:22:42.807Z"
   },
   {
    "duration": 3,
    "start_time": "2022-12-10T05:22:42.967Z"
   },
   {
    "duration": 3,
    "start_time": "2022-12-10T05:22:43.048Z"
   },
   {
    "duration": 15,
    "start_time": "2022-12-10T05:22:43.127Z"
   },
   {
    "duration": 4,
    "start_time": "2022-12-10T05:22:43.307Z"
   },
   {
    "duration": 17,
    "start_time": "2022-12-10T05:22:43.386Z"
   },
   {
    "duration": 13,
    "start_time": "2022-12-10T05:22:43.687Z"
   },
   {
    "duration": 7,
    "start_time": "2022-12-10T05:22:44.127Z"
   },
   {
    "duration": 8,
    "start_time": "2022-12-10T05:22:44.566Z"
   },
   {
    "duration": 1025,
    "start_time": "2022-12-10T05:22:50.398Z"
   },
   {
    "duration": 4,
    "start_time": "2022-12-10T05:22:55.657Z"
   },
   {
    "duration": 12,
    "start_time": "2022-12-10T05:22:55.857Z"
   },
   {
    "duration": 5,
    "start_time": "2022-12-10T05:22:56.047Z"
   },
   {
    "duration": 17,
    "start_time": "2022-12-10T05:22:56.247Z"
   },
   {
    "duration": 1200,
    "start_time": "2022-12-10T05:22:56.695Z"
   },
   {
    "duration": 806,
    "start_time": "2022-12-10T05:23:03.538Z"
   },
   {
    "duration": 86,
    "start_time": "2022-12-10T05:23:06.307Z"
   },
   {
    "duration": 1735,
    "start_time": "2022-12-10T05:23:12.228Z"
   },
   {
    "duration": 168,
    "start_time": "2022-12-10T05:23:13.966Z"
   },
   {
    "duration": 1440,
    "start_time": "2022-12-10T05:23:17.638Z"
   },
   {
    "duration": 257,
    "start_time": "2022-12-10T05:23:19.114Z"
   },
   {
    "duration": 1583,
    "start_time": "2022-12-10T05:23:21.505Z"
   },
   {
    "duration": 155,
    "start_time": "2022-12-10T05:23:23.090Z"
   },
   {
    "duration": 1605,
    "start_time": "2022-12-10T05:23:24.705Z"
   },
   {
    "duration": 168,
    "start_time": "2022-12-10T05:23:26.312Z"
   },
   {
    "duration": 1818,
    "start_time": "2022-12-10T05:23:28.905Z"
   },
   {
    "duration": 157,
    "start_time": "2022-12-10T05:23:30.725Z"
   },
   {
    "duration": 1585,
    "start_time": "2022-12-10T05:23:33.275Z"
   },
   {
    "duration": 157,
    "start_time": "2022-12-10T05:23:34.862Z"
   },
   {
    "duration": 1536,
    "start_time": "2022-12-10T05:23:39.335Z"
   },
   {
    "duration": 152,
    "start_time": "2022-12-10T05:23:40.874Z"
   },
   {
    "duration": 1237,
    "start_time": "2022-12-10T05:23:56.247Z"
   },
   {
    "duration": 4,
    "start_time": "2022-12-10T05:25:01.227Z"
   },
   {
    "duration": 1476,
    "start_time": "2022-12-10T05:25:01.422Z"
   },
   {
    "duration": 5,
    "start_time": "2022-12-10T05:25:07.886Z"
   },
   {
    "duration": 53,
    "start_time": "2022-12-10T05:25:07.894Z"
   },
   {
    "duration": 14,
    "start_time": "2022-12-10T05:25:07.949Z"
   },
   {
    "duration": 14,
    "start_time": "2022-12-10T05:25:07.965Z"
   },
   {
    "duration": 12,
    "start_time": "2022-12-10T05:25:07.981Z"
   },
   {
    "duration": 35,
    "start_time": "2022-12-10T05:25:07.995Z"
   },
   {
    "duration": 3,
    "start_time": "2022-12-10T05:25:08.032Z"
   },
   {
    "duration": 6,
    "start_time": "2022-12-10T05:25:08.037Z"
   },
   {
    "duration": 7,
    "start_time": "2022-12-10T05:25:08.044Z"
   },
   {
    "duration": 4,
    "start_time": "2022-12-10T05:25:08.053Z"
   },
   {
    "duration": 7,
    "start_time": "2022-12-10T05:25:08.058Z"
   },
   {
    "duration": 10,
    "start_time": "2022-12-10T05:25:08.066Z"
   },
   {
    "duration": 5,
    "start_time": "2022-12-10T05:25:09.787Z"
   },
   {
    "duration": 4,
    "start_time": "2022-12-10T05:25:10.038Z"
   },
   {
    "duration": 8,
    "start_time": "2022-12-10T05:25:10.318Z"
   },
   {
    "duration": 5,
    "start_time": "2022-12-10T05:25:21.257Z"
   },
   {
    "duration": 5,
    "start_time": "2022-12-10T05:25:22.277Z"
   },
   {
    "duration": 9,
    "start_time": "2022-12-10T05:25:23.007Z"
   },
   {
    "duration": 7,
    "start_time": "2022-12-10T05:25:23.657Z"
   },
   {
    "duration": 2,
    "start_time": "2022-12-10T05:25:24.338Z"
   },
   {
    "duration": 18,
    "start_time": "2022-12-10T05:25:25.134Z"
   },
   {
    "duration": 5,
    "start_time": "2022-12-10T05:25:25.907Z"
   },
   {
    "duration": 3,
    "start_time": "2022-12-10T05:25:26.257Z"
   },
   {
    "duration": 15,
    "start_time": "2022-12-10T05:25:27.235Z"
   },
   {
    "duration": 3,
    "start_time": "2022-12-10T05:25:28.585Z"
   },
   {
    "duration": 2,
    "start_time": "2022-12-10T05:25:29.277Z"
   },
   {
    "duration": 5,
    "start_time": "2022-12-10T05:25:29.755Z"
   },
   {
    "duration": 22,
    "start_time": "2022-12-10T05:25:30.060Z"
   },
   {
    "duration": 4,
    "start_time": "2022-12-10T05:25:30.836Z"
   },
   {
    "duration": 23,
    "start_time": "2022-12-10T05:25:31.429Z"
   },
   {
    "duration": 18,
    "start_time": "2022-12-10T05:25:32.678Z"
   },
   {
    "duration": 6,
    "start_time": "2022-12-10T05:25:34.977Z"
   },
   {
    "duration": 6,
    "start_time": "2022-12-10T05:25:35.305Z"
   },
   {
    "duration": 6,
    "start_time": "2022-12-10T05:25:38.642Z"
   },
   {
    "duration": 13,
    "start_time": "2022-12-10T05:25:38.824Z"
   },
   {
    "duration": 7,
    "start_time": "2022-12-10T05:25:38.962Z"
   },
   {
    "duration": 17,
    "start_time": "2022-12-10T05:25:41.037Z"
   },
   {
    "duration": 849,
    "start_time": "2022-12-10T05:25:45.437Z"
   },
   {
    "duration": 79,
    "start_time": "2022-12-10T05:25:47.187Z"
   },
   {
    "duration": 12,
    "start_time": "2022-12-10T05:29:02.516Z"
   },
   {
    "duration": 27,
    "start_time": "2022-12-10T05:29:02.737Z"
   },
   {
    "duration": 4,
    "start_time": "2022-12-10T05:29:15.457Z"
   },
   {
    "duration": 14,
    "start_time": "2022-12-10T05:29:15.638Z"
   },
   {
    "duration": 5,
    "start_time": "2022-12-10T05:29:20.878Z"
   },
   {
    "duration": 66,
    "start_time": "2022-12-10T05:29:20.885Z"
   },
   {
    "duration": 20,
    "start_time": "2022-12-10T05:29:20.954Z"
   },
   {
    "duration": 15,
    "start_time": "2022-12-10T05:29:20.976Z"
   },
   {
    "duration": 29,
    "start_time": "2022-12-10T05:29:20.994Z"
   },
   {
    "duration": 23,
    "start_time": "2022-12-10T05:29:21.024Z"
   },
   {
    "duration": 4,
    "start_time": "2022-12-10T05:29:21.049Z"
   },
   {
    "duration": 4,
    "start_time": "2022-12-10T05:29:21.055Z"
   },
   {
    "duration": 7,
    "start_time": "2022-12-10T05:29:21.061Z"
   },
   {
    "duration": 3,
    "start_time": "2022-12-10T05:29:21.070Z"
   },
   {
    "duration": 7,
    "start_time": "2022-12-10T05:29:21.075Z"
   },
   {
    "duration": 36,
    "start_time": "2022-12-10T05:29:21.085Z"
   },
   {
    "duration": 19,
    "start_time": "2022-12-10T05:29:21.122Z"
   },
   {
    "duration": 7,
    "start_time": "2022-12-10T05:29:21.145Z"
   },
   {
    "duration": 6,
    "start_time": "2022-12-10T05:29:21.155Z"
   },
   {
    "duration": 10,
    "start_time": "2022-12-10T05:29:21.163Z"
   },
   {
    "duration": 14,
    "start_time": "2022-12-10T05:29:21.175Z"
   },
   {
    "duration": 31,
    "start_time": "2022-12-10T05:29:21.191Z"
   },
   {
    "duration": 9,
    "start_time": "2022-12-10T05:29:21.228Z"
   },
   {
    "duration": 20,
    "start_time": "2022-12-10T05:29:21.238Z"
   },
   {
    "duration": 5,
    "start_time": "2022-12-10T05:29:21.260Z"
   },
   {
    "duration": 5,
    "start_time": "2022-12-10T05:29:21.266Z"
   },
   {
    "duration": 22,
    "start_time": "2022-12-10T05:29:21.273Z"
   },
   {
    "duration": 25,
    "start_time": "2022-12-10T05:29:21.297Z"
   },
   {
    "duration": 19,
    "start_time": "2022-12-10T05:29:21.324Z"
   },
   {
    "duration": 5,
    "start_time": "2022-12-10T05:29:21.346Z"
   },
   {
    "duration": 26,
    "start_time": "2022-12-10T05:29:21.353Z"
   },
   {
    "duration": 5,
    "start_time": "2022-12-10T05:29:21.382Z"
   },
   {
    "duration": 34,
    "start_time": "2022-12-10T05:29:21.389Z"
   },
   {
    "duration": 13,
    "start_time": "2022-12-10T05:29:21.897Z"
   },
   {
    "duration": 6,
    "start_time": "2022-12-10T05:29:25.338Z"
   },
   {
    "duration": 6,
    "start_time": "2022-12-10T05:29:31.268Z"
   },
   {
    "duration": 992,
    "start_time": "2022-12-10T05:29:33.438Z"
   },
   {
    "duration": 4,
    "start_time": "2022-12-10T05:29:42.687Z"
   },
   {
    "duration": 18,
    "start_time": "2022-12-10T05:29:42.987Z"
   },
   {
    "duration": 16,
    "start_time": "2022-12-10T05:29:50.686Z"
   },
   {
    "duration": 7,
    "start_time": "2022-12-10T05:29:56.187Z"
   },
   {
    "duration": 4,
    "start_time": "2022-12-10T05:30:09.798Z"
   },
   {
    "duration": 3,
    "start_time": "2022-12-10T05:30:10.488Z"
   },
   {
    "duration": 12,
    "start_time": "2022-12-10T05:30:10.867Z"
   },
   {
    "duration": 6,
    "start_time": "2022-12-10T05:30:11.778Z"
   },
   {
    "duration": 870,
    "start_time": "2022-12-10T05:30:18.907Z"
   },
   {
    "duration": 83,
    "start_time": "2022-12-10T05:30:21.046Z"
   },
   {
    "duration": 5,
    "start_time": "2022-12-10T05:30:55.577Z"
   },
   {
    "duration": 2,
    "start_time": "2022-12-10T05:30:55.827Z"
   },
   {
    "duration": 95,
    "start_time": "2022-12-10T05:30:56.107Z"
   },
   {
    "duration": 6,
    "start_time": "2022-12-10T05:31:05.628Z"
   },
   {
    "duration": 22355,
    "start_time": "2022-12-10T05:31:09.677Z"
   },
   {
    "duration": 5,
    "start_time": "2022-12-10T05:32:19.876Z"
   },
   {
    "duration": 3,
    "start_time": "2022-12-10T05:32:21.047Z"
   },
   {
    "duration": 646699,
    "start_time": "2022-12-10T05:32:23.158Z"
   },
   {
    "duration": 75,
    "start_time": "2022-12-10T05:43:20.654Z"
   },
   {
    "duration": 7,
    "start_time": "2022-12-10T05:43:24.684Z"
   },
   {
    "duration": 13,
    "start_time": "2022-12-10T05:43:25.130Z"
   },
   {
    "duration": 11,
    "start_time": "2022-12-10T05:43:28.923Z"
   },
   {
    "duration": 5,
    "start_time": "2022-12-10T05:43:29.094Z"
   },
   {
    "duration": 516588,
    "start_time": "2022-12-10T05:43:29.475Z"
   },
   {
    "duration": 855,
    "start_time": "2022-12-10T06:07:53.394Z"
   },
   {
    "duration": 88,
    "start_time": "2022-12-10T06:07:55.955Z"
   },
   {
    "duration": 22,
    "start_time": "2022-12-10T06:08:10.235Z"
   },
   {
    "duration": 4,
    "start_time": "2022-12-10T06:08:11.735Z"
   },
   {
    "duration": 2,
    "start_time": "2022-12-10T06:08:12.385Z"
   },
   {
    "duration": 5,
    "start_time": "2022-12-10T06:08:12.564Z"
   },
   {
    "duration": 20,
    "start_time": "2022-12-10T06:08:12.744Z"
   },
   {
    "duration": 5,
    "start_time": "2022-12-10T06:08:13.084Z"
   },
   {
    "duration": 25,
    "start_time": "2022-12-10T06:08:13.254Z"
   },
   {
    "duration": 17,
    "start_time": "2022-12-10T06:08:13.844Z"
   },
   {
    "duration": 6,
    "start_time": "2022-12-10T06:08:13.992Z"
   },
   {
    "duration": 9,
    "start_time": "2022-12-10T06:08:14.182Z"
   },
   {
    "duration": 982,
    "start_time": "2022-12-10T06:08:15.054Z"
   },
   {
    "duration": 5,
    "start_time": "2022-12-10T06:08:17.354Z"
   },
   {
    "duration": 18,
    "start_time": "2022-12-10T06:08:17.532Z"
   },
   {
    "duration": 6,
    "start_time": "2022-12-10T06:08:17.774Z"
   },
   {
    "duration": 27,
    "start_time": "2022-12-10T06:08:18.105Z"
   },
   {
    "duration": 1223,
    "start_time": "2022-12-10T06:08:18.364Z"
   },
   {
    "duration": 24,
    "start_time": "2022-12-10T06:08:19.590Z"
   },
   {
    "duration": 9,
    "start_time": "2022-12-10T06:08:19.616Z"
   },
   {
    "duration": 12,
    "start_time": "2022-12-10T06:08:19.695Z"
   },
   {
    "duration": 486,
    "start_time": "2022-12-10T06:08:19.874Z"
   },
   {
    "duration": 7,
    "start_time": "2022-12-10T06:08:21.225Z"
   },
   {
    "duration": 3,
    "start_time": "2022-12-10T06:08:21.494Z"
   },
   {
    "duration": 3,
    "start_time": "2022-12-10T06:08:21.886Z"
   },
   {
    "duration": 3,
    "start_time": "2022-12-10T06:08:22.854Z"
   },
   {
    "duration": 3,
    "start_time": "2022-12-10T06:08:24.332Z"
   },
   {
    "duration": 6,
    "start_time": "2022-12-10T06:08:24.576Z"
   },
   {
    "duration": 4,
    "start_time": "2022-12-10T06:08:29.945Z"
   },
   {
    "duration": 888,
    "start_time": "2022-12-10T06:08:33.050Z"
   },
   {
    "duration": 93,
    "start_time": "2022-12-10T06:08:34.100Z"
   },
   {
    "duration": 25,
    "start_time": "2022-12-10T06:09:24.582Z"
   },
   {
    "duration": 3,
    "start_time": "2022-12-10T06:09:25.945Z"
   },
   {
    "duration": 3,
    "start_time": "2022-12-10T06:09:26.529Z"
   },
   {
    "duration": 5,
    "start_time": "2022-12-10T06:09:26.615Z"
   },
   {
    "duration": 16,
    "start_time": "2022-12-10T06:09:26.694Z"
   },
   {
    "duration": 5,
    "start_time": "2022-12-10T06:09:26.853Z"
   },
   {
    "duration": 24,
    "start_time": "2022-12-10T06:09:26.945Z"
   },
   {
    "duration": 21,
    "start_time": "2022-12-10T06:09:27.104Z"
   },
   {
    "duration": 6,
    "start_time": "2022-12-10T06:09:27.272Z"
   },
   {
    "duration": 7,
    "start_time": "2022-12-10T06:09:27.452Z"
   },
   {
    "duration": 969,
    "start_time": "2022-12-10T06:09:27.784Z"
   },
   {
    "duration": 13,
    "start_time": "2022-12-10T06:09:28.814Z"
   },
   {
    "duration": 126,
    "start_time": "2022-12-10T06:09:28.835Z"
   },
   {
    "duration": 6,
    "start_time": "2022-12-10T06:09:28.964Z"
   },
   {
    "duration": 22,
    "start_time": "2022-12-10T06:09:28.972Z"
   },
   {
    "duration": 1241,
    "start_time": "2022-12-10T06:09:28.996Z"
   },
   {
    "duration": 19,
    "start_time": "2022-12-10T06:09:30.244Z"
   },
   {
    "duration": 14,
    "start_time": "2022-12-10T06:09:30.266Z"
   },
   {
    "duration": 63,
    "start_time": "2022-12-10T06:09:30.282Z"
   },
   {
    "duration": 622,
    "start_time": "2022-12-10T06:09:30.349Z"
   },
   {
    "duration": 4,
    "start_time": "2022-12-10T06:09:30.972Z"
   },
   {
    "duration": 20,
    "start_time": "2022-12-10T06:09:30.978Z"
   },
   {
    "duration": 38,
    "start_time": "2022-12-10T06:09:31.000Z"
   },
   {
    "duration": 13,
    "start_time": "2022-12-10T06:09:31.040Z"
   },
   {
    "duration": 16,
    "start_time": "2022-12-10T06:09:31.055Z"
   },
   {
    "duration": 13,
    "start_time": "2022-12-10T06:09:31.073Z"
   },
   {
    "duration": 13,
    "start_time": "2022-12-10T06:09:31.089Z"
   },
   {
    "duration": 823,
    "start_time": "2022-12-10T06:09:31.104Z"
   },
   {
    "duration": 95,
    "start_time": "2022-12-10T06:09:31.934Z"
   },
   {
    "duration": 850,
    "start_time": "2022-12-10T06:09:39.584Z"
   },
   {
    "duration": 87,
    "start_time": "2022-12-10T06:09:41.632Z"
   },
   {
    "duration": 1733,
    "start_time": "2022-12-10T06:09:46.554Z"
   },
   {
    "duration": 1654,
    "start_time": "2022-12-10T06:09:50.294Z"
   },
   {
    "duration": 1588,
    "start_time": "2022-12-10T06:09:53.191Z"
   },
   {
    "duration": 1515,
    "start_time": "2022-12-10T06:09:57.484Z"
   },
   {
    "duration": 1523,
    "start_time": "2022-12-10T06:10:00.686Z"
   },
   {
    "duration": 1377,
    "start_time": "2022-12-10T06:10:06.815Z"
   },
   {
    "duration": 973,
    "start_time": "2022-12-10T06:10:12.704Z"
   },
   {
    "duration": 831,
    "start_time": "2022-12-10T06:10:22.165Z"
   },
   {
    "duration": 4,
    "start_time": "2022-12-10T06:12:46.230Z"
   },
   {
    "duration": 2,
    "start_time": "2022-12-10T06:12:46.594Z"
   },
   {
    "duration": 5,
    "start_time": "2022-12-10T06:12:46.754Z"
   },
   {
    "duration": 22,
    "start_time": "2022-12-10T06:12:47.253Z"
   },
   {
    "duration": 7,
    "start_time": "2022-12-10T06:12:47.415Z"
   },
   {
    "duration": 29,
    "start_time": "2022-12-10T06:12:47.553Z"
   },
   {
    "duration": 13,
    "start_time": "2022-12-10T06:12:47.668Z"
   },
   {
    "duration": 9,
    "start_time": "2022-12-10T06:12:47.828Z"
   },
   {
    "duration": 6,
    "start_time": "2022-12-10T06:12:47.993Z"
   },
   {
    "duration": 1009,
    "start_time": "2022-12-10T06:12:48.334Z"
   },
   {
    "duration": 76,
    "start_time": "2022-12-10T06:12:49.346Z"
   },
   {
    "duration": 76,
    "start_time": "2022-12-10T06:12:49.424Z"
   },
   {
    "duration": 39,
    "start_time": "2022-12-10T06:12:49.503Z"
   },
   {
    "duration": 37,
    "start_time": "2022-12-10T06:12:49.543Z"
   },
   {
    "duration": 0,
    "start_time": "2022-12-10T06:12:49.582Z"
   },
   {
    "duration": 0,
    "start_time": "2022-12-10T06:12:49.583Z"
   },
   {
    "duration": 0,
    "start_time": "2022-12-10T06:12:49.585Z"
   },
   {
    "duration": 0,
    "start_time": "2022-12-10T06:12:49.586Z"
   },
   {
    "duration": 0,
    "start_time": "2022-12-10T06:12:49.588Z"
   },
   {
    "duration": 0,
    "start_time": "2022-12-10T06:12:49.590Z"
   },
   {
    "duration": 3,
    "start_time": "2022-12-10T06:12:49.654Z"
   },
   {
    "duration": 2,
    "start_time": "2022-12-10T06:12:49.742Z"
   },
   {
    "duration": 3,
    "start_time": "2022-12-10T06:12:50.084Z"
   },
   {
    "duration": 3,
    "start_time": "2022-12-10T06:12:50.884Z"
   },
   {
    "duration": 5,
    "start_time": "2022-12-10T06:12:51.082Z"
   },
   {
    "duration": 8,
    "start_time": "2022-12-10T06:12:51.319Z"
   },
   {
    "duration": 806,
    "start_time": "2022-12-10T06:12:51.873Z"
   },
   {
    "duration": 82,
    "start_time": "2022-12-10T06:12:53.375Z"
   },
   {
    "duration": 3312,
    "start_time": "2022-12-10T06:13:10.997Z"
   },
   {
    "duration": 45,
    "start_time": "2022-12-10T06:13:14.311Z"
   },
   {
    "duration": 19,
    "start_time": "2022-12-10T06:13:14.358Z"
   },
   {
    "duration": 47,
    "start_time": "2022-12-10T06:13:14.379Z"
   },
   {
    "duration": 59,
    "start_time": "2022-12-10T06:13:14.429Z"
   },
   {
    "duration": 74,
    "start_time": "2022-12-10T06:13:14.490Z"
   },
   {
    "duration": 10,
    "start_time": "2022-12-10T06:13:14.567Z"
   },
   {
    "duration": 60,
    "start_time": "2022-12-10T06:13:14.580Z"
   },
   {
    "duration": 27,
    "start_time": "2022-12-10T06:13:14.642Z"
   },
   {
    "duration": 58,
    "start_time": "2022-12-10T06:13:14.671Z"
   },
   {
    "duration": 32,
    "start_time": "2022-12-10T06:13:14.737Z"
   },
   {
    "duration": 26,
    "start_time": "2022-12-10T06:13:14.771Z"
   },
   {
    "duration": 29,
    "start_time": "2022-12-10T06:13:14.799Z"
   },
   {
    "duration": 33,
    "start_time": "2022-12-10T06:13:14.831Z"
   },
   {
    "duration": 38,
    "start_time": "2022-12-10T06:13:14.866Z"
   },
   {
    "duration": 47,
    "start_time": "2022-12-10T06:13:14.906Z"
   },
   {
    "duration": 30,
    "start_time": "2022-12-10T06:13:14.955Z"
   },
   {
    "duration": 66,
    "start_time": "2022-12-10T06:13:14.987Z"
   },
   {
    "duration": 35,
    "start_time": "2022-12-10T06:13:15.055Z"
   },
   {
    "duration": 59,
    "start_time": "2022-12-10T06:13:15.092Z"
   },
   {
    "duration": 16,
    "start_time": "2022-12-10T06:13:15.153Z"
   },
   {
    "duration": 75,
    "start_time": "2022-12-10T06:13:15.171Z"
   },
   {
    "duration": 74,
    "start_time": "2022-12-10T06:13:15.248Z"
   },
   {
    "duration": 86,
    "start_time": "2022-12-10T06:13:15.328Z"
   },
   {
    "duration": 51,
    "start_time": "2022-12-10T06:13:15.416Z"
   },
   {
    "duration": 86,
    "start_time": "2022-12-10T06:13:15.469Z"
   },
   {
    "duration": 194,
    "start_time": "2022-12-10T06:13:15.557Z"
   },
   {
    "duration": 0,
    "start_time": "2022-12-10T06:13:15.753Z"
   },
   {
    "duration": 0,
    "start_time": "2022-12-10T06:13:15.754Z"
   },
   {
    "duration": 0,
    "start_time": "2022-12-10T06:13:15.755Z"
   },
   {
    "duration": 0,
    "start_time": "2022-12-10T06:13:15.756Z"
   },
   {
    "duration": 1,
    "start_time": "2022-12-10T06:13:15.757Z"
   },
   {
    "duration": 0,
    "start_time": "2022-12-10T06:13:15.759Z"
   },
   {
    "duration": 0,
    "start_time": "2022-12-10T06:13:15.760Z"
   },
   {
    "duration": 0,
    "start_time": "2022-12-10T06:13:15.761Z"
   },
   {
    "duration": 0,
    "start_time": "2022-12-10T06:13:15.762Z"
   },
   {
    "duration": 0,
    "start_time": "2022-12-10T06:13:15.763Z"
   },
   {
    "duration": 0,
    "start_time": "2022-12-10T06:13:15.764Z"
   },
   {
    "duration": 0,
    "start_time": "2022-12-10T06:13:15.766Z"
   },
   {
    "duration": 0,
    "start_time": "2022-12-10T06:13:15.767Z"
   },
   {
    "duration": 0,
    "start_time": "2022-12-10T06:13:15.768Z"
   },
   {
    "duration": 0,
    "start_time": "2022-12-10T06:13:15.769Z"
   },
   {
    "duration": 0,
    "start_time": "2022-12-10T06:13:15.770Z"
   },
   {
    "duration": 0,
    "start_time": "2022-12-10T06:13:15.771Z"
   },
   {
    "duration": 0,
    "start_time": "2022-12-10T06:13:15.773Z"
   },
   {
    "duration": 1,
    "start_time": "2022-12-10T06:13:15.774Z"
   },
   {
    "duration": 0,
    "start_time": "2022-12-10T06:13:15.776Z"
   },
   {
    "duration": 0,
    "start_time": "2022-12-10T06:13:15.819Z"
   },
   {
    "duration": 0,
    "start_time": "2022-12-10T06:13:15.820Z"
   },
   {
    "duration": 0,
    "start_time": "2022-12-10T06:13:15.821Z"
   },
   {
    "duration": 0,
    "start_time": "2022-12-10T06:13:15.822Z"
   },
   {
    "duration": 0,
    "start_time": "2022-12-10T06:13:15.823Z"
   },
   {
    "duration": 3,
    "start_time": "2022-12-10T06:13:28.204Z"
   },
   {
    "duration": 4,
    "start_time": "2022-12-10T06:13:29.575Z"
   },
   {
    "duration": 5,
    "start_time": "2022-12-10T06:13:29.646Z"
   },
   {
    "duration": 21,
    "start_time": "2022-12-10T06:13:29.733Z"
   },
   {
    "duration": 5,
    "start_time": "2022-12-10T06:13:29.880Z"
   },
   {
    "duration": 15,
    "start_time": "2022-12-10T06:13:29.974Z"
   },
   {
    "duration": 16,
    "start_time": "2022-12-10T06:13:30.145Z"
   },
   {
    "duration": 13,
    "start_time": "2022-12-10T06:13:30.306Z"
   },
   {
    "duration": 13,
    "start_time": "2022-12-10T06:13:30.493Z"
   },
   {
    "duration": 1105,
    "start_time": "2022-12-10T06:13:30.815Z"
   },
   {
    "duration": 7,
    "start_time": "2022-12-10T06:13:31.923Z"
   },
   {
    "duration": 124,
    "start_time": "2022-12-10T06:13:31.932Z"
   },
   {
    "duration": 10,
    "start_time": "2022-12-10T06:13:32.059Z"
   },
   {
    "duration": 25,
    "start_time": "2022-12-10T06:13:32.071Z"
   },
   {
    "duration": 1231,
    "start_time": "2022-12-10T06:13:32.099Z"
   },
   {
    "duration": 16,
    "start_time": "2022-12-10T06:13:33.332Z"
   },
   {
    "duration": 10,
    "start_time": "2022-12-10T06:13:33.350Z"
   },
   {
    "duration": 17,
    "start_time": "2022-12-10T06:13:33.363Z"
   },
   {
    "duration": 539,
    "start_time": "2022-12-10T06:13:33.385Z"
   },
   {
    "duration": 5,
    "start_time": "2022-12-10T06:13:33.932Z"
   },
   {
    "duration": 8,
    "start_time": "2022-12-10T06:13:33.939Z"
   },
   {
    "duration": 9,
    "start_time": "2022-12-10T06:13:33.949Z"
   },
   {
    "duration": 8,
    "start_time": "2022-12-10T06:13:33.961Z"
   },
   {
    "duration": 15,
    "start_time": "2022-12-10T06:13:33.972Z"
   },
   {
    "duration": 7,
    "start_time": "2022-12-10T06:13:34.148Z"
   },
   {
    "duration": 3,
    "start_time": "2022-12-10T06:13:34.344Z"
   },
   {
    "duration": 797,
    "start_time": "2022-12-10T06:13:34.984Z"
   },
   {
    "duration": 104,
    "start_time": "2022-12-10T06:13:36.675Z"
   },
   {
    "duration": 5,
    "start_time": "2022-12-10T06:13:47.673Z"
   },
   {
    "duration": 61,
    "start_time": "2022-12-10T06:13:47.681Z"
   },
   {
    "duration": 14,
    "start_time": "2022-12-10T06:13:47.744Z"
   },
   {
    "duration": 20,
    "start_time": "2022-12-10T06:13:47.761Z"
   },
   {
    "duration": 42,
    "start_time": "2022-12-10T06:13:47.784Z"
   },
   {
    "duration": 29,
    "start_time": "2022-12-10T06:13:47.833Z"
   },
   {
    "duration": 6,
    "start_time": "2022-12-10T06:13:47.864Z"
   },
   {
    "duration": 9,
    "start_time": "2022-12-10T06:13:47.873Z"
   },
   {
    "duration": 37,
    "start_time": "2022-12-10T06:13:47.885Z"
   },
   {
    "duration": 20,
    "start_time": "2022-12-10T06:13:47.924Z"
   },
   {
    "duration": 6,
    "start_time": "2022-12-10T06:13:47.947Z"
   },
   {
    "duration": 11,
    "start_time": "2022-12-10T06:13:47.956Z"
   },
   {
    "duration": 15,
    "start_time": "2022-12-10T06:13:47.970Z"
   },
   {
    "duration": 8,
    "start_time": "2022-12-10T06:13:48.018Z"
   },
   {
    "duration": 20,
    "start_time": "2022-12-10T06:13:48.030Z"
   },
   {
    "duration": 10,
    "start_time": "2022-12-10T06:13:48.052Z"
   },
   {
    "duration": 8,
    "start_time": "2022-12-10T06:13:48.064Z"
   },
   {
    "duration": 18,
    "start_time": "2022-12-10T06:13:48.074Z"
   },
   {
    "duration": 51,
    "start_time": "2022-12-10T06:13:48.094Z"
   },
   {
    "duration": 39,
    "start_time": "2022-12-10T06:13:48.147Z"
   },
   {
    "duration": 5,
    "start_time": "2022-12-10T06:13:48.189Z"
   },
   {
    "duration": 11,
    "start_time": "2022-12-10T06:13:48.197Z"
   },
   {
    "duration": 44,
    "start_time": "2022-12-10T06:13:48.210Z"
   },
   {
    "duration": 4,
    "start_time": "2022-12-10T06:13:48.256Z"
   },
   {
    "duration": 13,
    "start_time": "2022-12-10T06:13:48.262Z"
   },
   {
    "duration": 17,
    "start_time": "2022-12-10T06:13:48.278Z"
   },
   {
    "duration": 52,
    "start_time": "2022-12-10T06:13:48.297Z"
   },
   {
    "duration": 4,
    "start_time": "2022-12-10T06:13:48.351Z"
   },
   {
    "duration": 30,
    "start_time": "2022-12-10T06:13:48.358Z"
   },
   {
    "duration": 14,
    "start_time": "2022-12-10T06:13:48.390Z"
   },
   {
    "duration": 9,
    "start_time": "2022-12-10T06:13:48.405Z"
   },
   {
    "duration": 31,
    "start_time": "2022-12-10T06:13:48.417Z"
   },
   {
    "duration": 1184,
    "start_time": "2022-12-10T06:13:48.450Z"
   },
   {
    "duration": 77,
    "start_time": "2022-12-10T06:13:49.639Z"
   },
   {
    "duration": 37,
    "start_time": "2022-12-10T06:13:49.722Z"
   },
   {
    "duration": 7,
    "start_time": "2022-12-10T06:13:49.762Z"
   },
   {
    "duration": 28,
    "start_time": "2022-12-10T06:13:49.772Z"
   },
   {
    "duration": 1517,
    "start_time": "2022-12-10T06:13:49.802Z"
   },
   {
    "duration": 19,
    "start_time": "2022-12-10T06:13:51.324Z"
   },
   {
    "duration": 7,
    "start_time": "2022-12-10T06:13:51.345Z"
   },
   {
    "duration": 18,
    "start_time": "2022-12-10T06:13:51.357Z"
   },
   {
    "duration": 524,
    "start_time": "2022-12-10T06:13:51.377Z"
   },
   {
    "duration": 5,
    "start_time": "2022-12-10T06:13:51.903Z"
   },
   {
    "duration": 47,
    "start_time": "2022-12-10T06:13:51.918Z"
   },
   {
    "duration": 14,
    "start_time": "2022-12-10T06:13:51.967Z"
   },
   {
    "duration": 20,
    "start_time": "2022-12-10T06:13:51.983Z"
   },
   {
    "duration": 41,
    "start_time": "2022-12-10T06:13:52.005Z"
   },
   {
    "duration": 11,
    "start_time": "2022-12-10T06:13:52.048Z"
   },
   {
    "duration": 21,
    "start_time": "2022-12-10T06:13:52.061Z"
   },
   {
    "duration": 1111,
    "start_time": "2022-12-10T06:13:52.085Z"
   },
   {
    "duration": 130,
    "start_time": "2022-12-10T06:13:53.199Z"
   },
   {
    "duration": 630,
    "start_time": "2022-12-10T06:13:53.340Z"
   },
   {
    "duration": 1256,
    "start_time": "2022-12-10T06:15:22.554Z"
   },
   {
    "duration": 136,
    "start_time": "2022-12-10T06:15:25.427Z"
   },
   {
    "duration": 16,
    "start_time": "2022-12-10T06:17:19.654Z"
   },
   {
    "duration": 14,
    "start_time": "2022-12-10T06:18:22.316Z"
   },
   {
    "duration": 1505,
    "start_time": "2022-12-10T06:18:31.404Z"
   },
   {
    "duration": 1087,
    "start_time": "2022-12-10T06:18:40.916Z"
   },
   {
    "duration": 1229,
    "start_time": "2022-12-10T06:18:44.126Z"
   },
   {
    "duration": 6823,
    "start_time": "2022-12-10T06:18:52.952Z"
   },
   {
    "duration": 26,
    "start_time": "2022-12-10T06:19:03.426Z"
   },
   {
    "duration": 2913,
    "start_time": "2022-12-10T06:19:20.474Z"
   },
   {
    "duration": 32,
    "start_time": "2022-12-10T06:19:27.621Z"
   },
   {
    "duration": 1131,
    "start_time": "2022-12-10T06:19:36.864Z"
   },
   {
    "duration": 25,
    "start_time": "2022-12-10T06:19:37.997Z"
   },
   {
    "duration": 1059,
    "start_time": "2022-12-10T06:19:50.664Z"
   },
   {
    "duration": 2260,
    "start_time": "2022-12-10T06:19:56.434Z"
   },
   {
    "duration": 20,
    "start_time": "2022-12-10T06:20:02.434Z"
   },
   {
    "duration": 1458,
    "start_time": "2022-12-10T06:20:06.670Z"
   },
   {
    "duration": 6893,
    "start_time": "2022-12-10T06:20:13.601Z"
   },
   {
    "duration": 46,
    "start_time": "2022-12-10T06:20:20.498Z"
   },
   {
    "duration": 7045,
    "start_time": "2022-12-10T06:20:48.104Z"
   },
   {
    "duration": 19,
    "start_time": "2022-12-10T06:20:55.152Z"
   },
   {
    "duration": 1231,
    "start_time": "2022-12-10T06:21:28.987Z"
   },
   {
    "duration": 42,
    "start_time": "2022-12-10T06:21:30.226Z"
   },
   {
    "duration": 18,
    "start_time": "2022-12-10T06:21:30.269Z"
   },
   {
    "duration": 69,
    "start_time": "2022-12-10T06:21:30.289Z"
   },
   {
    "duration": 38,
    "start_time": "2022-12-10T06:21:30.361Z"
   },
   {
    "duration": 58,
    "start_time": "2022-12-10T06:21:30.402Z"
   },
   {
    "duration": 20,
    "start_time": "2022-12-10T06:21:30.462Z"
   },
   {
    "duration": 52,
    "start_time": "2022-12-10T06:21:30.485Z"
   },
   {
    "duration": 35,
    "start_time": "2022-12-10T06:21:30.539Z"
   },
   {
    "duration": 29,
    "start_time": "2022-12-10T06:21:30.576Z"
   },
   {
    "duration": 38,
    "start_time": "2022-12-10T06:21:30.608Z"
   },
   {
    "duration": 25,
    "start_time": "2022-12-10T06:21:30.648Z"
   },
   {
    "duration": 22,
    "start_time": "2022-12-10T06:21:30.675Z"
   },
   {
    "duration": 29,
    "start_time": "2022-12-10T06:21:30.701Z"
   },
   {
    "duration": 23,
    "start_time": "2022-12-10T06:21:30.737Z"
   },
   {
    "duration": 20,
    "start_time": "2022-12-10T06:21:30.762Z"
   },
   {
    "duration": 20,
    "start_time": "2022-12-10T06:21:30.784Z"
   },
   {
    "duration": 25,
    "start_time": "2022-12-10T06:21:30.806Z"
   },
   {
    "duration": 9,
    "start_time": "2022-12-10T06:21:30.833Z"
   },
   {
    "duration": 31,
    "start_time": "2022-12-10T06:21:30.843Z"
   },
   {
    "duration": 5,
    "start_time": "2022-12-10T06:21:30.876Z"
   },
   {
    "duration": 12,
    "start_time": "2022-12-10T06:21:30.883Z"
   },
   {
    "duration": 37,
    "start_time": "2022-12-10T06:21:30.896Z"
   },
   {
    "duration": 18,
    "start_time": "2022-12-10T06:21:30.936Z"
   },
   {
    "duration": 30,
    "start_time": "2022-12-10T06:21:30.956Z"
   },
   {
    "duration": 13,
    "start_time": "2022-12-10T06:21:30.987Z"
   },
   {
    "duration": 41,
    "start_time": "2022-12-10T06:21:31.002Z"
   },
   {
    "duration": 4,
    "start_time": "2022-12-10T06:21:31.045Z"
   },
   {
    "duration": 26,
    "start_time": "2022-12-10T06:21:31.051Z"
   },
   {
    "duration": 13,
    "start_time": "2022-12-10T06:21:31.079Z"
   },
   {
    "duration": 16,
    "start_time": "2022-12-10T06:21:31.094Z"
   },
   {
    "duration": 18,
    "start_time": "2022-12-10T06:21:31.112Z"
   },
   {
    "duration": 2708,
    "start_time": "2022-12-10T06:21:31.132Z"
   },
   {
    "duration": 162,
    "start_time": "2022-12-10T06:21:41.008Z"
   },
   {
    "duration": 24,
    "start_time": "2022-12-10T06:21:45.070Z"
   },
   {
    "duration": 27,
    "start_time": "2022-12-10T06:22:04.430Z"
   },
   {
    "duration": 11,
    "start_time": "2022-12-10T06:22:09.567Z"
   },
   {
    "duration": 5009,
    "start_time": "2022-12-10T06:22:16.677Z"
   },
   {
    "duration": 118,
    "start_time": "2022-12-10T06:22:23.189Z"
   },
   {
    "duration": 15,
    "start_time": "2022-12-10T06:22:27.688Z"
   },
   {
    "duration": 19,
    "start_time": "2022-12-10T06:22:56.140Z"
   },
   {
    "duration": 38,
    "start_time": "2022-12-10T06:23:00.699Z"
   },
   {
    "duration": 33,
    "start_time": "2022-12-10T06:23:01.028Z"
   },
   {
    "duration": 13,
    "start_time": "2022-12-10T06:23:34.549Z"
   },
   {
    "duration": 12,
    "start_time": "2022-12-10T06:24:21.939Z"
   },
   {
    "duration": 3096,
    "start_time": "2022-12-10T06:24:27.879Z"
   },
   {
    "duration": 86,
    "start_time": "2022-12-10T06:24:32.089Z"
   },
   {
    "duration": 3043,
    "start_time": "2022-12-10T06:24:35.791Z"
   },
   {
    "duration": 96,
    "start_time": "2022-12-10T06:24:38.836Z"
   },
   {
    "duration": 5,
    "start_time": "2022-12-10T06:26:28.579Z"
   },
   {
    "duration": 3,
    "start_time": "2022-12-10T06:26:32.190Z"
   },
   {
    "duration": 6,
    "start_time": "2022-12-10T06:26:32.339Z"
   },
   {
    "duration": 19,
    "start_time": "2022-12-10T06:26:32.539Z"
   },
   {
    "duration": 5,
    "start_time": "2022-12-10T06:26:32.899Z"
   },
   {
    "duration": 25,
    "start_time": "2022-12-10T06:26:33.099Z"
   },
   {
    "duration": 16,
    "start_time": "2022-12-10T06:26:33.638Z"
   },
   {
    "duration": 42,
    "start_time": "2022-12-10T06:26:33.869Z"
   },
   {
    "duration": 8,
    "start_time": "2022-12-10T06:26:34.269Z"
   },
   {
    "duration": 9,
    "start_time": "2022-12-10T06:26:34.688Z"
   },
   {
    "duration": 43,
    "start_time": "2022-12-10T06:26:39.669Z"
   },
   {
    "duration": 10,
    "start_time": "2022-12-10T06:26:40.099Z"
   },
   {
    "duration": 3469,
    "start_time": "2022-12-10T06:26:46.930Z"
   },
   {
    "duration": 105,
    "start_time": "2022-12-10T06:26:50.401Z"
   },
   {
    "duration": 3508,
    "start_time": "2022-12-10T06:26:56.229Z"
   },
   {
    "duration": 88,
    "start_time": "2022-12-10T06:26:59.739Z"
   },
   {
    "duration": 6,
    "start_time": "2022-12-10T06:27:29.182Z"
   },
   {
    "duration": 54,
    "start_time": "2022-12-10T06:27:29.190Z"
   },
   {
    "duration": 14,
    "start_time": "2022-12-10T06:27:29.246Z"
   },
   {
    "duration": 16,
    "start_time": "2022-12-10T06:27:29.262Z"
   },
   {
    "duration": 16,
    "start_time": "2022-12-10T06:27:29.280Z"
   },
   {
    "duration": 35,
    "start_time": "2022-12-10T06:27:29.298Z"
   },
   {
    "duration": 6,
    "start_time": "2022-12-10T06:27:29.335Z"
   },
   {
    "duration": 5,
    "start_time": "2022-12-10T06:27:29.343Z"
   },
   {
    "duration": 8,
    "start_time": "2022-12-10T06:27:29.350Z"
   },
   {
    "duration": 4,
    "start_time": "2022-12-10T06:27:29.359Z"
   },
   {
    "duration": 7,
    "start_time": "2022-12-10T06:27:29.364Z"
   },
   {
    "duration": 47,
    "start_time": "2022-12-10T06:27:29.372Z"
   },
   {
    "duration": 10,
    "start_time": "2022-12-10T06:27:29.421Z"
   },
   {
    "duration": 18,
    "start_time": "2022-12-10T06:27:29.435Z"
   },
   {
    "duration": 6,
    "start_time": "2022-12-10T06:27:29.455Z"
   },
   {
    "duration": 12,
    "start_time": "2022-12-10T06:27:29.462Z"
   },
   {
    "duration": 9,
    "start_time": "2022-12-10T06:27:29.476Z"
   },
   {
    "duration": 8,
    "start_time": "2022-12-10T06:27:29.487Z"
   },
   {
    "duration": 4,
    "start_time": "2022-12-10T06:27:29.497Z"
   },
   {
    "duration": 32,
    "start_time": "2022-12-10T06:27:29.503Z"
   },
   {
    "duration": 7,
    "start_time": "2022-12-10T06:27:29.541Z"
   },
   {
    "duration": 7,
    "start_time": "2022-12-10T06:27:29.549Z"
   },
   {
    "duration": 18,
    "start_time": "2022-12-10T06:27:29.558Z"
   },
   {
    "duration": 2,
    "start_time": "2022-12-10T06:27:29.578Z"
   },
   {
    "duration": 9,
    "start_time": "2022-12-10T06:27:29.582Z"
   },
   {
    "duration": 26,
    "start_time": "2022-12-10T06:27:29.593Z"
   },
   {
    "duration": 27,
    "start_time": "2022-12-10T06:27:29.622Z"
   },
   {
    "duration": 6,
    "start_time": "2022-12-10T06:27:29.650Z"
   },
   {
    "duration": 19,
    "start_time": "2022-12-10T06:27:29.658Z"
   },
   {
    "duration": 16,
    "start_time": "2022-12-10T06:27:29.679Z"
   },
   {
    "duration": 54,
    "start_time": "2022-12-10T06:27:29.697Z"
   },
   {
    "duration": 8,
    "start_time": "2022-12-10T06:27:29.754Z"
   },
   {
    "duration": 9,
    "start_time": "2022-12-10T06:27:29.764Z"
   },
   {
    "duration": 3050,
    "start_time": "2022-12-10T06:27:29.775Z"
   },
   {
    "duration": 87,
    "start_time": "2022-12-10T06:27:32.829Z"
   },
   {
    "duration": 44,
    "start_time": "2022-12-10T06:27:32.918Z"
   },
   {
    "duration": 6,
    "start_time": "2022-12-10T06:27:32.964Z"
   },
   {
    "duration": 26,
    "start_time": "2022-12-10T06:27:32.972Z"
   },
   {
    "duration": 5175,
    "start_time": "2022-12-10T06:27:33.000Z"
   },
   {
    "duration": 14,
    "start_time": "2022-12-10T06:27:38.177Z"
   },
   {
    "duration": 22,
    "start_time": "2022-12-10T06:27:38.195Z"
   },
   {
    "duration": 16,
    "start_time": "2022-12-10T06:27:38.226Z"
   },
   {
    "duration": 759,
    "start_time": "2022-12-10T06:27:38.244Z"
   },
   {
    "duration": 9,
    "start_time": "2022-12-10T06:27:39.005Z"
   },
   {
    "duration": 8,
    "start_time": "2022-12-10T06:27:39.019Z"
   },
   {
    "duration": 12,
    "start_time": "2022-12-10T06:27:39.029Z"
   },
   {
    "duration": 6,
    "start_time": "2022-12-10T06:27:39.043Z"
   },
   {
    "duration": 10,
    "start_time": "2022-12-10T06:27:39.051Z"
   },
   {
    "duration": 10,
    "start_time": "2022-12-10T06:27:39.062Z"
   },
   {
    "duration": 3445,
    "start_time": "2022-12-10T06:27:39.073Z"
   },
   {
    "duration": 82,
    "start_time": "2022-12-10T06:27:42.522Z"
   },
   {
    "duration": 482,
    "start_time": "2022-12-10T06:27:42.606Z"
   },
   {
    "duration": 4,
    "start_time": "2022-12-10T06:33:24.110Z"
   },
   {
    "duration": 20,
    "start_time": "2022-12-10T06:33:24.542Z"
   },
   {
    "duration": 4,
    "start_time": "2022-12-10T06:33:25.340Z"
   },
   {
    "duration": 32,
    "start_time": "2022-12-10T06:33:25.511Z"
   },
   {
    "duration": 15,
    "start_time": "2022-12-10T06:33:26.259Z"
   },
   {
    "duration": 40,
    "start_time": "2022-12-10T06:33:26.538Z"
   },
   {
    "duration": 6,
    "start_time": "2022-12-10T06:33:27.259Z"
   },
   {
    "duration": 7,
    "start_time": "2022-12-10T06:33:27.940Z"
   },
   {
    "duration": 4318,
    "start_time": "2022-12-10T06:33:33.099Z"
   },
   {
    "duration": 24,
    "start_time": "2022-12-10T06:33:44.369Z"
   },
   {
    "duration": 22,
    "start_time": "2022-12-10T06:34:02.778Z"
   },
   {
    "duration": 4,
    "start_time": "2022-12-10T06:34:03.496Z"
   },
   {
    "duration": 3,
    "start_time": "2022-12-10T06:34:03.850Z"
   },
   {
    "duration": 5,
    "start_time": "2022-12-10T06:34:04.039Z"
   },
   {
    "duration": 23,
    "start_time": "2022-12-10T06:34:04.260Z"
   },
   {
    "duration": 8,
    "start_time": "2022-12-10T06:34:04.950Z"
   },
   {
    "duration": 18,
    "start_time": "2022-12-10T06:34:08.132Z"
   },
   {
    "duration": 14,
    "start_time": "2022-12-10T06:34:08.669Z"
   },
   {
    "duration": 9,
    "start_time": "2022-12-10T06:34:13.560Z"
   },
   {
    "duration": 11,
    "start_time": "2022-12-10T06:34:13.920Z"
   },
   {
    "duration": 4214,
    "start_time": "2022-12-10T06:34:14.810Z"
   },
   {
    "duration": 4,
    "start_time": "2022-12-10T06:34:34.069Z"
   },
   {
    "duration": 21,
    "start_time": "2022-12-10T06:34:34.280Z"
   },
   {
    "duration": 4,
    "start_time": "2022-12-10T06:34:36.711Z"
   },
   {
    "duration": 22,
    "start_time": "2022-12-10T06:34:37.641Z"
   },
   {
    "duration": 6,
    "start_time": "2022-12-10T06:35:43.933Z"
   },
   {
    "duration": 5,
    "start_time": "2022-12-10T06:35:55.101Z"
   },
   {
    "duration": 6,
    "start_time": "2022-12-10T06:36:12.240Z"
   },
   {
    "duration": 22,
    "start_time": "2022-12-10T06:36:14.937Z"
   },
   {
    "duration": 6,
    "start_time": "2022-12-10T06:36:15.402Z"
   },
   {
    "duration": 5,
    "start_time": "2022-12-10T06:36:15.772Z"
   },
   {
    "duration": 2905,
    "start_time": "2022-12-10T06:36:17.038Z"
   },
   {
    "duration": 4,
    "start_time": "2022-12-10T06:36:22.191Z"
   },
   {
    "duration": 13,
    "start_time": "2022-12-10T06:36:22.391Z"
   },
   {
    "duration": 8,
    "start_time": "2022-12-10T06:36:22.534Z"
   },
   {
    "duration": 17,
    "start_time": "2022-12-10T06:36:23.272Z"
   },
   {
    "duration": 4966,
    "start_time": "2022-12-10T06:36:23.449Z"
   },
   {
    "duration": 17,
    "start_time": "2022-12-10T06:36:28.417Z"
   },
   {
    "duration": 18,
    "start_time": "2022-12-10T06:36:28.436Z"
   },
   {
    "duration": 18,
    "start_time": "2022-12-10T06:36:28.457Z"
   },
   {
    "duration": 726,
    "start_time": "2022-12-10T06:36:28.479Z"
   },
   {
    "duration": 3299,
    "start_time": "2022-12-10T06:36:32.502Z"
   },
   {
    "duration": 86,
    "start_time": "2022-12-10T06:36:37.492Z"
   },
   {
    "duration": 17,
    "start_time": "2022-12-10T06:36:53.861Z"
   },
   {
    "duration": 4539,
    "start_time": "2022-12-10T06:37:12.982Z"
   },
   {
    "duration": 17,
    "start_time": "2022-12-10T06:37:17.529Z"
   },
   {
    "duration": 22,
    "start_time": "2022-12-10T06:37:34.842Z"
   },
   {
    "duration": 18,
    "start_time": "2022-12-10T06:37:47.442Z"
   },
   {
    "duration": 26,
    "start_time": "2022-12-10T06:37:56.653Z"
   },
   {
    "duration": 25,
    "start_time": "2022-12-10T06:38:00.173Z"
   },
   {
    "duration": 8,
    "start_time": "2022-12-10T06:38:03.441Z"
   },
   {
    "duration": 18,
    "start_time": "2022-12-10T06:38:11.582Z"
   },
   {
    "duration": 8,
    "start_time": "2022-12-10T06:38:15.291Z"
   },
   {
    "duration": 5,
    "start_time": "2022-12-10T06:38:20.956Z"
   },
   {
    "duration": 47,
    "start_time": "2022-12-10T06:38:20.963Z"
   },
   {
    "duration": 22,
    "start_time": "2022-12-10T06:38:21.011Z"
   },
   {
    "duration": 14,
    "start_time": "2022-12-10T06:38:21.035Z"
   },
   {
    "duration": 12,
    "start_time": "2022-12-10T06:38:21.051Z"
   },
   {
    "duration": 22,
    "start_time": "2022-12-10T06:38:21.065Z"
   },
   {
    "duration": 5,
    "start_time": "2022-12-10T06:38:21.123Z"
   },
   {
    "duration": 4,
    "start_time": "2022-12-10T06:38:21.130Z"
   },
   {
    "duration": 8,
    "start_time": "2022-12-10T06:38:21.136Z"
   },
   {
    "duration": 4,
    "start_time": "2022-12-10T06:38:21.146Z"
   },
   {
    "duration": 7,
    "start_time": "2022-12-10T06:38:21.152Z"
   },
   {
    "duration": 5,
    "start_time": "2022-12-10T06:38:21.160Z"
   },
   {
    "duration": 4,
    "start_time": "2022-12-10T06:38:21.167Z"
   },
   {
    "duration": 6,
    "start_time": "2022-12-10T06:38:21.175Z"
   },
   {
    "duration": 33,
    "start_time": "2022-12-10T06:38:21.182Z"
   },
   {
    "duration": 13,
    "start_time": "2022-12-10T06:38:21.221Z"
   },
   {
    "duration": 11,
    "start_time": "2022-12-10T06:38:21.236Z"
   },
   {
    "duration": 18,
    "start_time": "2022-12-10T06:38:21.249Z"
   },
   {
    "duration": 4,
    "start_time": "2022-12-10T06:38:21.269Z"
   },
   {
    "duration": 20,
    "start_time": "2022-12-10T06:38:21.274Z"
   },
   {
    "duration": 26,
    "start_time": "2022-12-10T06:38:21.295Z"
   },
   {
    "duration": 16,
    "start_time": "2022-12-10T06:38:21.324Z"
   },
   {
    "duration": 19,
    "start_time": "2022-12-10T06:38:21.342Z"
   },
   {
    "duration": 4,
    "start_time": "2022-12-10T06:38:21.364Z"
   },
   {
    "duration": 18,
    "start_time": "2022-12-10T06:38:21.369Z"
   },
   {
    "duration": 5,
    "start_time": "2022-12-10T06:38:21.389Z"
   },
   {
    "duration": 19,
    "start_time": "2022-12-10T06:38:21.395Z"
   },
   {
    "duration": 6,
    "start_time": "2022-12-10T06:38:21.418Z"
   },
   {
    "duration": 19,
    "start_time": "2022-12-10T06:38:21.430Z"
   },
   {
    "duration": 4,
    "start_time": "2022-12-10T06:38:21.451Z"
   },
   {
    "duration": 7,
    "start_time": "2022-12-10T06:38:21.457Z"
   },
   {
    "duration": 5,
    "start_time": "2022-12-10T06:38:21.465Z"
   },
   {
    "duration": 4,
    "start_time": "2022-12-10T06:38:26.593Z"
   },
   {
    "duration": 29,
    "start_time": "2022-12-10T06:38:26.902Z"
   },
   {
    "duration": 24,
    "start_time": "2022-12-10T06:38:41.683Z"
   },
   {
    "duration": 16,
    "start_time": "2022-12-10T06:38:44.919Z"
   },
   {
    "duration": 5,
    "start_time": "2022-12-10T06:39:01.674Z"
   },
   {
    "duration": 60,
    "start_time": "2022-12-10T06:39:01.681Z"
   },
   {
    "duration": 16,
    "start_time": "2022-12-10T06:39:01.743Z"
   },
   {
    "duration": 19,
    "start_time": "2022-12-10T06:39:01.761Z"
   },
   {
    "duration": 20,
    "start_time": "2022-12-10T06:39:01.783Z"
   },
   {
    "duration": 35,
    "start_time": "2022-12-10T06:39:01.805Z"
   },
   {
    "duration": 3,
    "start_time": "2022-12-10T06:39:01.843Z"
   },
   {
    "duration": 21,
    "start_time": "2022-12-10T06:39:01.848Z"
   },
   {
    "duration": 17,
    "start_time": "2022-12-10T06:39:01.872Z"
   },
   {
    "duration": 7,
    "start_time": "2022-12-10T06:39:01.891Z"
   },
   {
    "duration": 38,
    "start_time": "2022-12-10T06:39:01.900Z"
   },
   {
    "duration": 16,
    "start_time": "2022-12-10T06:39:01.940Z"
   },
   {
    "duration": 17,
    "start_time": "2022-12-10T06:39:01.958Z"
   },
   {
    "duration": 7,
    "start_time": "2022-12-10T06:39:01.977Z"
   },
   {
    "duration": 6,
    "start_time": "2022-12-10T06:39:01.986Z"
   },
   {
    "duration": 11,
    "start_time": "2022-12-10T06:39:01.993Z"
   },
   {
    "duration": 27,
    "start_time": "2022-12-10T06:39:02.006Z"
   },
   {
    "duration": 15,
    "start_time": "2022-12-10T06:39:02.035Z"
   },
   {
    "duration": 14,
    "start_time": "2022-12-10T06:39:02.052Z"
   },
   {
    "duration": 32,
    "start_time": "2022-12-10T06:39:02.068Z"
   },
   {
    "duration": 4,
    "start_time": "2022-12-10T06:39:02.102Z"
   },
   {
    "duration": 24,
    "start_time": "2022-12-10T06:39:02.108Z"
   },
   {
    "duration": 20,
    "start_time": "2022-12-10T06:39:02.134Z"
   },
   {
    "duration": 4,
    "start_time": "2022-12-10T06:39:02.155Z"
   },
   {
    "duration": 14,
    "start_time": "2022-12-10T06:39:02.161Z"
   },
   {
    "duration": 13,
    "start_time": "2022-12-10T06:39:02.178Z"
   },
   {
    "duration": 24,
    "start_time": "2022-12-10T06:39:02.193Z"
   },
   {
    "duration": 9,
    "start_time": "2022-12-10T06:39:02.219Z"
   },
   {
    "duration": 20,
    "start_time": "2022-12-10T06:39:02.230Z"
   },
   {
    "duration": 18,
    "start_time": "2022-12-10T06:39:05.533Z"
   },
   {
    "duration": 6,
    "start_time": "2022-12-10T06:39:12.993Z"
   },
   {
    "duration": 5,
    "start_time": "2022-12-10T06:39:38.826Z"
   },
   {
    "duration": 5,
    "start_time": "2022-12-10T06:39:40.094Z"
   },
   {
    "duration": 6,
    "start_time": "2022-12-10T06:39:40.413Z"
   },
   {
    "duration": 5,
    "start_time": "2022-12-10T06:39:40.628Z"
   },
   {
    "duration": 14,
    "start_time": "2022-12-10T06:39:40.983Z"
   },
   {
    "duration": 7,
    "start_time": "2022-12-10T06:39:41.351Z"
   },
   {
    "duration": 6,
    "start_time": "2022-12-10T06:39:41.772Z"
   },
   {
    "duration": 2713,
    "start_time": "2022-12-10T06:39:46.230Z"
   },
   {
    "duration": 4,
    "start_time": "2022-12-10T06:39:49.845Z"
   },
   {
    "duration": 9,
    "start_time": "2022-12-10T06:39:50.854Z"
   },
   {
    "duration": 3065,
    "start_time": "2022-12-10T06:39:55.903Z"
   },
   {
    "duration": 101,
    "start_time": "2022-12-10T06:40:00.417Z"
   },
   {
    "duration": 5,
    "start_time": "2022-12-10T06:40:21.736Z"
   },
   {
    "duration": 46,
    "start_time": "2022-12-10T06:40:21.743Z"
   },
   {
    "duration": 13,
    "start_time": "2022-12-10T06:40:21.790Z"
   },
   {
    "duration": 24,
    "start_time": "2022-12-10T06:40:21.805Z"
   },
   {
    "duration": 13,
    "start_time": "2022-12-10T06:40:21.832Z"
   },
   {
    "duration": 23,
    "start_time": "2022-12-10T06:40:21.846Z"
   },
   {
    "duration": 3,
    "start_time": "2022-12-10T06:40:21.870Z"
   },
   {
    "duration": 8,
    "start_time": "2022-12-10T06:40:21.874Z"
   },
   {
    "duration": 6,
    "start_time": "2022-12-10T06:40:21.884Z"
   },
   {
    "duration": 4,
    "start_time": "2022-12-10T06:40:21.892Z"
   },
   {
    "duration": 18,
    "start_time": "2022-12-10T06:40:21.897Z"
   },
   {
    "duration": 20,
    "start_time": "2022-12-10T06:40:21.917Z"
   },
   {
    "duration": 6,
    "start_time": "2022-12-10T06:40:21.939Z"
   },
   {
    "duration": 6,
    "start_time": "2022-12-10T06:40:21.950Z"
   },
   {
    "duration": 5,
    "start_time": "2022-12-10T06:40:21.958Z"
   },
   {
    "duration": 7,
    "start_time": "2022-12-10T06:40:21.965Z"
   },
   {
    "duration": 12,
    "start_time": "2022-12-10T06:40:21.973Z"
   },
   {
    "duration": 33,
    "start_time": "2022-12-10T06:40:21.987Z"
   },
   {
    "duration": 10,
    "start_time": "2022-12-10T06:40:22.022Z"
   },
   {
    "duration": 21,
    "start_time": "2022-12-10T06:40:22.034Z"
   },
   {
    "duration": 4,
    "start_time": "2022-12-10T06:40:22.057Z"
   },
   {
    "duration": 9,
    "start_time": "2022-12-10T06:40:22.063Z"
   },
   {
    "duration": 21,
    "start_time": "2022-12-10T06:40:22.074Z"
   },
   {
    "duration": 3,
    "start_time": "2022-12-10T06:40:22.097Z"
   },
   {
    "duration": 25,
    "start_time": "2022-12-10T06:40:22.102Z"
   },
   {
    "duration": 6,
    "start_time": "2022-12-10T06:40:22.129Z"
   },
   {
    "duration": 19,
    "start_time": "2022-12-10T06:40:22.137Z"
   },
   {
    "duration": 4,
    "start_time": "2022-12-10T06:40:22.158Z"
   },
   {
    "duration": 18,
    "start_time": "2022-12-10T06:40:22.163Z"
   },
   {
    "duration": 33,
    "start_time": "2022-12-10T06:40:22.183Z"
   },
   {
    "duration": 9,
    "start_time": "2022-12-10T06:40:22.225Z"
   },
   {
    "duration": 9,
    "start_time": "2022-12-10T06:40:22.236Z"
   },
   {
    "duration": 2781,
    "start_time": "2022-12-10T06:40:22.247Z"
   },
   {
    "duration": 83,
    "start_time": "2022-12-10T06:40:25.030Z"
   },
   {
    "duration": 128,
    "start_time": "2022-12-10T06:40:25.116Z"
   },
   {
    "duration": 0,
    "start_time": "2022-12-10T06:40:25.246Z"
   },
   {
    "duration": 0,
    "start_time": "2022-12-10T06:40:25.248Z"
   },
   {
    "duration": 0,
    "start_time": "2022-12-10T06:40:25.249Z"
   },
   {
    "duration": 0,
    "start_time": "2022-12-10T06:40:25.250Z"
   },
   {
    "duration": 0,
    "start_time": "2022-12-10T06:40:25.251Z"
   },
   {
    "duration": 0,
    "start_time": "2022-12-10T06:40:25.252Z"
   },
   {
    "duration": 0,
    "start_time": "2022-12-10T06:40:25.254Z"
   },
   {
    "duration": 0,
    "start_time": "2022-12-10T06:40:25.255Z"
   },
   {
    "duration": 0,
    "start_time": "2022-12-10T06:40:25.256Z"
   },
   {
    "duration": 0,
    "start_time": "2022-12-10T06:40:25.258Z"
   },
   {
    "duration": 0,
    "start_time": "2022-12-10T06:40:25.260Z"
   },
   {
    "duration": 0,
    "start_time": "2022-12-10T06:40:25.261Z"
   },
   {
    "duration": 0,
    "start_time": "2022-12-10T06:40:25.263Z"
   },
   {
    "duration": 0,
    "start_time": "2022-12-10T06:40:25.265Z"
   },
   {
    "duration": 0,
    "start_time": "2022-12-10T06:40:25.267Z"
   },
   {
    "duration": 0,
    "start_time": "2022-12-10T06:40:25.268Z"
   },
   {
    "duration": 12,
    "start_time": "2022-12-10T06:40:31.913Z"
   },
   {
    "duration": 46,
    "start_time": "2022-12-10T06:40:31.928Z"
   },
   {
    "duration": 13,
    "start_time": "2022-12-10T06:40:31.976Z"
   },
   {
    "duration": 15,
    "start_time": "2022-12-10T06:40:31.991Z"
   },
   {
    "duration": 20,
    "start_time": "2022-12-10T06:40:32.014Z"
   },
   {
    "duration": 24,
    "start_time": "2022-12-10T06:40:32.040Z"
   },
   {
    "duration": 2,
    "start_time": "2022-12-10T06:40:32.067Z"
   },
   {
    "duration": 9,
    "start_time": "2022-12-10T06:40:32.071Z"
   },
   {
    "duration": 18,
    "start_time": "2022-12-10T06:40:32.081Z"
   },
   {
    "duration": 10,
    "start_time": "2022-12-10T06:40:32.101Z"
   },
   {
    "duration": 23,
    "start_time": "2022-12-10T06:40:32.113Z"
   },
   {
    "duration": 6,
    "start_time": "2022-12-10T06:40:32.138Z"
   },
   {
    "duration": 5,
    "start_time": "2022-12-10T06:40:32.145Z"
   },
   {
    "duration": 6,
    "start_time": "2022-12-10T06:40:32.153Z"
   },
   {
    "duration": 5,
    "start_time": "2022-12-10T06:40:32.160Z"
   },
   {
    "duration": 7,
    "start_time": "2022-12-10T06:40:32.166Z"
   },
   {
    "duration": 8,
    "start_time": "2022-12-10T06:40:32.175Z"
   },
   {
    "duration": 8,
    "start_time": "2022-12-10T06:40:32.185Z"
   },
   {
    "duration": 22,
    "start_time": "2022-12-10T06:40:32.195Z"
   },
   {
    "duration": 24,
    "start_time": "2022-12-10T06:40:32.219Z"
   },
   {
    "duration": 4,
    "start_time": "2022-12-10T06:40:32.246Z"
   },
   {
    "duration": 6,
    "start_time": "2022-12-10T06:40:32.252Z"
   },
   {
    "duration": 16,
    "start_time": "2022-12-10T06:40:32.259Z"
   },
   {
    "duration": 4,
    "start_time": "2022-12-10T06:40:32.276Z"
   },
   {
    "duration": 8,
    "start_time": "2022-12-10T06:40:32.281Z"
   },
   {
    "duration": 5,
    "start_time": "2022-12-10T06:40:32.291Z"
   },
   {
    "duration": 19,
    "start_time": "2022-12-10T06:40:32.313Z"
   },
   {
    "duration": 6,
    "start_time": "2022-12-10T06:40:32.333Z"
   },
   {
    "duration": 18,
    "start_time": "2022-12-10T06:40:32.341Z"
   },
   {
    "duration": 13,
    "start_time": "2022-12-10T06:40:32.361Z"
   },
   {
    "duration": 7,
    "start_time": "2022-12-10T06:40:32.376Z"
   },
   {
    "duration": 10,
    "start_time": "2022-12-10T06:40:32.412Z"
   },
   {
    "duration": 2713,
    "start_time": "2022-12-10T06:40:32.424Z"
   },
   {
    "duration": 11,
    "start_time": "2022-12-10T06:40:35.215Z"
   },
   {
    "duration": 117,
    "start_time": "2022-12-10T06:40:35.232Z"
   },
   {
    "duration": 7,
    "start_time": "2022-12-10T06:40:35.351Z"
   },
   {
    "duration": 24,
    "start_time": "2022-12-10T06:40:35.361Z"
   },
   {
    "duration": 4494,
    "start_time": "2022-12-10T06:40:35.387Z"
   },
   {
    "duration": 13,
    "start_time": "2022-12-10T06:40:39.883Z"
   },
   {
    "duration": 20,
    "start_time": "2022-12-10T06:40:39.898Z"
   },
   {
    "duration": 23,
    "start_time": "2022-12-10T06:40:39.923Z"
   },
   {
    "duration": 793,
    "start_time": "2022-12-10T06:40:39.948Z"
   },
   {
    "duration": 3,
    "start_time": "2022-12-10T06:40:40.743Z"
   },
   {
    "duration": 7,
    "start_time": "2022-12-10T06:40:40.748Z"
   },
   {
    "duration": 7,
    "start_time": "2022-12-10T06:40:40.757Z"
   },
   {
    "duration": 6,
    "start_time": "2022-12-10T06:40:40.765Z"
   },
   {
    "duration": 7,
    "start_time": "2022-12-10T06:40:40.773Z"
   },
   {
    "duration": 10,
    "start_time": "2022-12-10T06:40:40.781Z"
   },
   {
    "duration": 3126,
    "start_time": "2022-12-10T06:40:40.793Z"
   },
   {
    "duration": 88,
    "start_time": "2022-12-10T06:40:43.921Z"
   },
   {
    "duration": 418,
    "start_time": "2022-12-10T06:40:44.013Z"
   },
   {
    "duration": 2735,
    "start_time": "2022-12-10T06:41:28.484Z"
   },
   {
    "duration": 2743,
    "start_time": "2022-12-10T06:41:34.374Z"
   },
   {
    "duration": 6,
    "start_time": "2022-12-10T06:42:01.666Z"
   },
   {
    "duration": 53,
    "start_time": "2022-12-10T06:42:01.675Z"
   },
   {
    "duration": 22,
    "start_time": "2022-12-10T06:42:01.733Z"
   },
   {
    "duration": 21,
    "start_time": "2022-12-10T06:42:01.758Z"
   },
   {
    "duration": 25,
    "start_time": "2022-12-10T06:42:01.782Z"
   },
   {
    "duration": 121,
    "start_time": "2022-12-10T06:42:01.818Z"
   },
   {
    "duration": 2,
    "start_time": "2022-12-10T06:42:01.942Z"
   },
   {
    "duration": 10,
    "start_time": "2022-12-10T06:42:01.947Z"
   },
   {
    "duration": 11,
    "start_time": "2022-12-10T06:42:01.960Z"
   },
   {
    "duration": 10,
    "start_time": "2022-12-10T06:42:01.973Z"
   },
   {
    "duration": 8,
    "start_time": "2022-12-10T06:42:01.986Z"
   },
   {
    "duration": 20,
    "start_time": "2022-12-10T06:42:01.997Z"
   },
   {
    "duration": 11,
    "start_time": "2022-12-10T06:42:02.019Z"
   },
   {
    "duration": 12,
    "start_time": "2022-12-10T06:42:02.037Z"
   },
   {
    "duration": 9,
    "start_time": "2022-12-10T06:42:02.052Z"
   },
   {
    "duration": 9,
    "start_time": "2022-12-10T06:42:02.063Z"
   },
   {
    "duration": 20,
    "start_time": "2022-12-10T06:42:02.075Z"
   },
   {
    "duration": 19,
    "start_time": "2022-12-10T06:42:02.097Z"
   },
   {
    "duration": 18,
    "start_time": "2022-12-10T06:42:02.122Z"
   },
   {
    "duration": 28,
    "start_time": "2022-12-10T06:42:02.142Z"
   },
   {
    "duration": 5,
    "start_time": "2022-12-10T06:42:02.172Z"
   },
   {
    "duration": 6,
    "start_time": "2022-12-10T06:42:02.179Z"
   },
   {
    "duration": 17,
    "start_time": "2022-12-10T06:42:02.483Z"
   },
   {
    "duration": 4,
    "start_time": "2022-12-10T06:42:03.181Z"
   },
   {
    "duration": 3,
    "start_time": "2022-12-10T06:42:03.576Z"
   },
   {
    "duration": 4,
    "start_time": "2022-12-10T06:42:04.153Z"
   },
   {
    "duration": 23,
    "start_time": "2022-12-10T06:42:04.395Z"
   },
   {
    "duration": 5,
    "start_time": "2022-12-10T06:42:04.965Z"
   },
   {
    "duration": 22,
    "start_time": "2022-12-10T06:42:05.176Z"
   },
   {
    "duration": 13,
    "start_time": "2022-12-10T06:42:05.594Z"
   },
   {
    "duration": 5,
    "start_time": "2022-12-10T06:42:06.005Z"
   },
   {
    "duration": 12,
    "start_time": "2022-12-10T06:42:06.513Z"
   },
   {
    "duration": 2741,
    "start_time": "2022-12-10T06:42:07.827Z"
   },
   {
    "duration": 2859,
    "start_time": "2022-12-10T06:42:12.254Z"
   },
   {
    "duration": 4,
    "start_time": "2022-12-10T06:42:16.765Z"
   },
   {
    "duration": 11,
    "start_time": "2022-12-10T06:42:16.846Z"
   },
   {
    "duration": 9,
    "start_time": "2022-12-10T06:42:16.925Z"
   },
   {
    "duration": 19,
    "start_time": "2022-12-10T06:42:17.029Z"
   },
   {
    "duration": 4894,
    "start_time": "2022-12-10T06:42:17.095Z"
   },
   {
    "duration": 12,
    "start_time": "2022-12-10T06:42:21.992Z"
   },
   {
    "duration": 16,
    "start_time": "2022-12-10T06:42:22.005Z"
   },
   {
    "duration": 18,
    "start_time": "2022-12-10T06:42:22.028Z"
   },
   {
    "duration": 711,
    "start_time": "2022-12-10T06:42:22.048Z"
   },
   {
    "duration": 4,
    "start_time": "2022-12-10T06:42:22.760Z"
   },
   {
    "duration": 10,
    "start_time": "2022-12-10T06:42:22.766Z"
   },
   {
    "duration": 10,
    "start_time": "2022-12-10T06:42:22.778Z"
   },
   {
    "duration": 5,
    "start_time": "2022-12-10T06:42:22.790Z"
   },
   {
    "duration": 8,
    "start_time": "2022-12-10T06:42:22.798Z"
   },
   {
    "duration": 24,
    "start_time": "2022-12-10T06:42:22.813Z"
   },
   {
    "duration": 3212,
    "start_time": "2022-12-10T06:42:22.839Z"
   },
   {
    "duration": 80,
    "start_time": "2022-12-10T06:42:27.166Z"
   },
   {
    "duration": 4,
    "start_time": "2022-12-10T06:43:34.536Z"
   },
   {
    "duration": 4,
    "start_time": "2022-12-10T06:43:39.155Z"
   },
   {
    "duration": 4,
    "start_time": "2022-12-10T06:43:54.940Z"
   },
   {
    "duration": 20,
    "start_time": "2022-12-10T06:44:48.654Z"
   },
   {
    "duration": 21,
    "start_time": "2022-12-10T06:45:07.765Z"
   },
   {
    "duration": 4,
    "start_time": "2022-12-10T06:45:12.077Z"
   },
   {
    "duration": 3,
    "start_time": "2022-12-10T06:45:13.157Z"
   },
   {
    "duration": 3,
    "start_time": "2022-12-10T06:52:58.059Z"
   },
   {
    "duration": 3,
    "start_time": "2022-12-10T06:52:59.378Z"
   },
   {
    "duration": 8,
    "start_time": "2022-12-10T06:52:59.910Z"
   },
   {
    "duration": 3,
    "start_time": "2022-12-10T06:53:00.749Z"
   },
   {
    "duration": 15,
    "start_time": "2022-12-10T06:53:01.586Z"
   },
   {
    "duration": 6,
    "start_time": "2022-12-10T06:53:02.309Z"
   },
   {
    "duration": 17,
    "start_time": "2022-12-10T06:53:02.468Z"
   },
   {
    "duration": 14,
    "start_time": "2022-12-10T06:53:03.048Z"
   },
   {
    "duration": 6,
    "start_time": "2022-12-10T06:53:03.830Z"
   },
   {
    "duration": 6,
    "start_time": "2022-12-10T06:53:04.299Z"
   },
   {
    "duration": 2959,
    "start_time": "2022-12-10T06:53:05.268Z"
   },
   {
    "duration": 4,
    "start_time": "2022-12-10T06:53:09.899Z"
   },
   {
    "duration": 19,
    "start_time": "2022-12-10T06:53:17.959Z"
   },
   {
    "duration": 7,
    "start_time": "2022-12-10T06:53:18.173Z"
   },
   {
    "duration": 14,
    "start_time": "2022-12-10T06:53:18.528Z"
   },
   {
    "duration": 752,
    "start_time": "2022-12-10T06:53:18.599Z"
   },
   {
    "duration": 3,
    "start_time": "2022-12-10T06:53:19.353Z"
   },
   {
    "duration": 3,
    "start_time": "2022-12-10T06:53:20.098Z"
   },
   {
    "duration": 7,
    "start_time": "2022-12-10T06:53:20.104Z"
   },
   {
    "duration": 2,
    "start_time": "2022-12-10T06:53:20.639Z"
   },
   {
    "duration": 8,
    "start_time": "2022-12-10T06:53:21.625Z"
   },
   {
    "duration": 2,
    "start_time": "2022-12-10T06:53:21.799Z"
   },
   {
    "duration": 3178,
    "start_time": "2022-12-10T06:53:22.299Z"
   },
   {
    "duration": 5,
    "start_time": "2022-12-10T06:53:32.441Z"
   },
   {
    "duration": 48,
    "start_time": "2022-12-10T06:53:32.448Z"
   },
   {
    "duration": 13,
    "start_time": "2022-12-10T06:53:32.498Z"
   },
   {
    "duration": 35,
    "start_time": "2022-12-10T06:53:32.516Z"
   },
   {
    "duration": 16,
    "start_time": "2022-12-10T06:53:32.553Z"
   },
   {
    "duration": 22,
    "start_time": "2022-12-10T06:53:32.571Z"
   },
   {
    "duration": 2,
    "start_time": "2022-12-10T06:53:32.595Z"
   },
   {
    "duration": 6,
    "start_time": "2022-12-10T06:53:32.599Z"
   },
   {
    "duration": 13,
    "start_time": "2022-12-10T06:53:32.607Z"
   },
   {
    "duration": 12,
    "start_time": "2022-12-10T06:53:32.622Z"
   },
   {
    "duration": 26,
    "start_time": "2022-12-10T06:53:32.637Z"
   },
   {
    "duration": 6,
    "start_time": "2022-12-10T06:53:32.665Z"
   },
   {
    "duration": 9,
    "start_time": "2022-12-10T06:53:32.673Z"
   },
   {
    "duration": 8,
    "start_time": "2022-12-10T06:53:32.685Z"
   },
   {
    "duration": 5,
    "start_time": "2022-12-10T06:53:32.695Z"
   },
   {
    "duration": 9,
    "start_time": "2022-12-10T06:53:32.701Z"
   },
   {
    "duration": 25,
    "start_time": "2022-12-10T06:53:32.713Z"
   },
   {
    "duration": 11,
    "start_time": "2022-12-10T06:53:32.741Z"
   },
   {
    "duration": 6,
    "start_time": "2022-12-10T06:53:32.754Z"
   },
   {
    "duration": 21,
    "start_time": "2022-12-10T06:53:32.762Z"
   },
   {
    "duration": 4,
    "start_time": "2022-12-10T06:53:32.784Z"
   },
   {
    "duration": 6,
    "start_time": "2022-12-10T06:53:32.790Z"
   },
   {
    "duration": 38,
    "start_time": "2022-12-10T06:53:32.798Z"
   },
   {
    "duration": 6,
    "start_time": "2022-12-10T06:53:32.838Z"
   },
   {
    "duration": 4,
    "start_time": "2022-12-10T06:53:32.846Z"
   },
   {
    "duration": 9,
    "start_time": "2022-12-10T06:53:32.852Z"
   },
   {
    "duration": 12,
    "start_time": "2022-12-10T06:53:32.863Z"
   },
   {
    "duration": 18,
    "start_time": "2022-12-10T06:53:32.876Z"
   },
   {
    "duration": 3,
    "start_time": "2022-12-10T06:53:32.896Z"
   },
   {
    "duration": 28,
    "start_time": "2022-12-10T06:53:32.917Z"
   },
   {
    "duration": 15,
    "start_time": "2022-12-10T06:53:32.947Z"
   },
   {
    "duration": 9,
    "start_time": "2022-12-10T06:53:32.964Z"
   },
   {
    "duration": 5,
    "start_time": "2022-12-10T06:53:32.975Z"
   },
   {
    "duration": 2933,
    "start_time": "2022-12-10T06:53:32.982Z"
   },
   {
    "duration": 9,
    "start_time": "2022-12-10T06:53:35.916Z"
   },
   {
    "duration": 117,
    "start_time": "2022-12-10T06:53:35.927Z"
   },
   {
    "duration": 5,
    "start_time": "2022-12-10T06:53:36.045Z"
   },
   {
    "duration": 31,
    "start_time": "2022-12-10T06:53:36.053Z"
   },
   {
    "duration": 4718,
    "start_time": "2022-12-10T06:53:36.087Z"
   },
   {
    "duration": 21,
    "start_time": "2022-12-10T06:53:40.807Z"
   },
   {
    "duration": 9,
    "start_time": "2022-12-10T06:53:40.833Z"
   },
   {
    "duration": 17,
    "start_time": "2022-12-10T06:53:40.844Z"
   },
   {
    "duration": 718,
    "start_time": "2022-12-10T06:53:40.863Z"
   },
   {
    "duration": 4,
    "start_time": "2022-12-10T06:53:41.583Z"
   },
   {
    "duration": 7,
    "start_time": "2022-12-10T06:53:41.589Z"
   },
   {
    "duration": 18,
    "start_time": "2022-12-10T06:53:41.598Z"
   },
   {
    "duration": 9,
    "start_time": "2022-12-10T06:53:41.624Z"
   },
   {
    "duration": 20,
    "start_time": "2022-12-10T06:53:41.634Z"
   },
   {
    "duration": 26,
    "start_time": "2022-12-10T06:53:41.655Z"
   },
   {
    "duration": 3347,
    "start_time": "2022-12-10T06:53:41.683Z"
   },
   {
    "duration": 93,
    "start_time": "2022-12-10T06:53:45.031Z"
   },
   {
    "duration": 449,
    "start_time": "2022-12-10T06:53:45.131Z"
   },
   {
    "duration": 1212,
    "start_time": "2022-12-10T06:54:00.439Z"
   },
   {
    "duration": 41,
    "start_time": "2022-12-10T06:54:01.654Z"
   },
   {
    "duration": 25,
    "start_time": "2022-12-10T06:54:01.697Z"
   },
   {
    "duration": 31,
    "start_time": "2022-12-10T06:54:01.724Z"
   },
   {
    "duration": 22,
    "start_time": "2022-12-10T06:54:01.758Z"
   },
   {
    "duration": 39,
    "start_time": "2022-12-10T06:54:01.782Z"
   },
   {
    "duration": 5,
    "start_time": "2022-12-10T06:54:01.827Z"
   },
   {
    "duration": 8,
    "start_time": "2022-12-10T06:54:01.834Z"
   },
   {
    "duration": 11,
    "start_time": "2022-12-10T06:54:01.844Z"
   },
   {
    "duration": 6,
    "start_time": "2022-12-10T06:54:01.858Z"
   },
   {
    "duration": 8,
    "start_time": "2022-12-10T06:54:01.867Z"
   },
   {
    "duration": 11,
    "start_time": "2022-12-10T06:54:01.877Z"
   },
   {
    "duration": 26,
    "start_time": "2022-12-10T06:54:01.890Z"
   },
   {
    "duration": 8,
    "start_time": "2022-12-10T06:54:01.921Z"
   },
   {
    "duration": 13,
    "start_time": "2022-12-10T06:54:01.931Z"
   },
   {
    "duration": 11,
    "start_time": "2022-12-10T06:54:01.946Z"
   },
   {
    "duration": 12,
    "start_time": "2022-12-10T06:54:01.959Z"
   },
   {
    "duration": 17,
    "start_time": "2022-12-10T06:54:01.973Z"
   },
   {
    "duration": 11,
    "start_time": "2022-12-10T06:54:01.991Z"
   },
   {
    "duration": 32,
    "start_time": "2022-12-10T06:54:02.004Z"
   },
   {
    "duration": 5,
    "start_time": "2022-12-10T06:54:02.038Z"
   },
   {
    "duration": 6,
    "start_time": "2022-12-10T06:54:02.045Z"
   },
   {
    "duration": 17,
    "start_time": "2022-12-10T06:54:02.053Z"
   },
   {
    "duration": 5,
    "start_time": "2022-12-10T06:54:02.072Z"
   },
   {
    "duration": 11,
    "start_time": "2022-12-10T06:54:02.079Z"
   },
   {
    "duration": 26,
    "start_time": "2022-12-10T06:54:02.092Z"
   },
   {
    "duration": 7,
    "start_time": "2022-12-10T06:54:02.124Z"
   },
   {
    "duration": 18,
    "start_time": "2022-12-10T06:54:02.134Z"
   },
   {
    "duration": 3,
    "start_time": "2022-12-10T06:54:02.154Z"
   },
   {
    "duration": 20,
    "start_time": "2022-12-10T06:54:02.159Z"
   },
   {
    "duration": 14,
    "start_time": "2022-12-10T06:54:02.180Z"
   },
   {
    "duration": 37,
    "start_time": "2022-12-10T06:54:02.196Z"
   },
   {
    "duration": 8,
    "start_time": "2022-12-10T06:54:02.234Z"
   },
   {
    "duration": 3084,
    "start_time": "2022-12-10T06:54:02.243Z"
   },
   {
    "duration": 81,
    "start_time": "2022-12-10T06:54:05.334Z"
   },
   {
    "duration": 41,
    "start_time": "2022-12-10T06:54:05.421Z"
   },
   {
    "duration": 7,
    "start_time": "2022-12-10T06:54:05.464Z"
   },
   {
    "duration": 38,
    "start_time": "2022-12-10T06:54:05.473Z"
   },
   {
    "duration": 4643,
    "start_time": "2022-12-10T06:54:05.521Z"
   },
   {
    "duration": 12,
    "start_time": "2022-12-10T06:54:10.166Z"
   },
   {
    "duration": 6,
    "start_time": "2022-12-10T06:54:10.182Z"
   },
   {
    "duration": 75,
    "start_time": "2022-12-10T06:54:10.190Z"
   },
   {
    "duration": 741,
    "start_time": "2022-12-10T06:54:10.267Z"
   },
   {
    "duration": 8,
    "start_time": "2022-12-10T06:54:11.013Z"
   },
   {
    "duration": 12,
    "start_time": "2022-12-10T06:54:11.022Z"
   },
   {
    "duration": 6,
    "start_time": "2022-12-10T06:54:11.036Z"
   },
   {
    "duration": 6,
    "start_time": "2022-12-10T06:54:11.044Z"
   },
   {
    "duration": 6,
    "start_time": "2022-12-10T06:54:11.052Z"
   },
   {
    "duration": 8,
    "start_time": "2022-12-10T06:54:11.060Z"
   },
   {
    "duration": 3263,
    "start_time": "2022-12-10T06:54:11.069Z"
   },
   {
    "duration": 85,
    "start_time": "2022-12-10T06:54:14.334Z"
   },
   {
    "duration": 485,
    "start_time": "2022-12-10T06:54:14.420Z"
   },
   {
    "duration": 33,
    "start_time": "2022-12-10T06:59:56.157Z"
   },
   {
    "duration": 1286,
    "start_time": "2022-12-10T07:06:23.579Z"
   },
   {
    "duration": 45,
    "start_time": "2022-12-10T07:06:24.867Z"
   },
   {
    "duration": 20,
    "start_time": "2022-12-10T07:06:24.919Z"
   },
   {
    "duration": 14,
    "start_time": "2022-12-10T07:06:24.942Z"
   },
   {
    "duration": 15,
    "start_time": "2022-12-10T07:06:24.959Z"
   },
   {
    "duration": 42,
    "start_time": "2022-12-10T07:06:24.975Z"
   },
   {
    "duration": 6,
    "start_time": "2022-12-10T07:06:25.026Z"
   },
   {
    "duration": 9,
    "start_time": "2022-12-10T07:06:25.033Z"
   },
   {
    "duration": 11,
    "start_time": "2022-12-10T07:06:25.043Z"
   },
   {
    "duration": 5,
    "start_time": "2022-12-10T07:06:25.055Z"
   },
   {
    "duration": 8,
    "start_time": "2022-12-10T07:06:25.062Z"
   },
   {
    "duration": 6,
    "start_time": "2022-12-10T07:06:25.072Z"
   },
   {
    "duration": 6,
    "start_time": "2022-12-10T07:06:25.080Z"
   },
   {
    "duration": 6,
    "start_time": "2022-12-10T07:06:25.089Z"
   },
   {
    "duration": 16,
    "start_time": "2022-12-10T07:06:25.097Z"
   },
   {
    "duration": 23,
    "start_time": "2022-12-10T07:06:25.115Z"
   },
   {
    "duration": 10,
    "start_time": "2022-12-10T07:06:25.140Z"
   },
   {
    "duration": 9,
    "start_time": "2022-12-10T07:06:25.151Z"
   },
   {
    "duration": 7,
    "start_time": "2022-12-10T07:06:25.162Z"
   },
   {
    "duration": 20,
    "start_time": "2022-12-10T07:06:25.171Z"
   },
   {
    "duration": 4,
    "start_time": "2022-12-10T07:06:25.193Z"
   },
   {
    "duration": 6,
    "start_time": "2022-12-10T07:06:25.199Z"
   },
   {
    "duration": 31,
    "start_time": "2022-12-10T07:06:25.206Z"
   },
   {
    "duration": 4,
    "start_time": "2022-12-10T07:06:25.238Z"
   },
   {
    "duration": 4,
    "start_time": "2022-12-10T07:06:25.243Z"
   },
   {
    "duration": 11,
    "start_time": "2022-12-10T07:06:25.249Z"
   },
   {
    "duration": 7,
    "start_time": "2022-12-10T07:06:25.261Z"
   },
   {
    "duration": 21,
    "start_time": "2022-12-10T07:06:25.270Z"
   },
   {
    "duration": 4,
    "start_time": "2022-12-10T07:06:25.293Z"
   },
   {
    "duration": 33,
    "start_time": "2022-12-10T07:06:25.299Z"
   },
   {
    "duration": 14,
    "start_time": "2022-12-10T07:06:25.334Z"
   },
   {
    "duration": 7,
    "start_time": "2022-12-10T07:06:25.350Z"
   },
   {
    "duration": 6,
    "start_time": "2022-12-10T07:06:25.359Z"
   },
   {
    "duration": 2855,
    "start_time": "2022-12-10T07:06:25.366Z"
   },
   {
    "duration": 8,
    "start_time": "2022-12-10T07:06:28.223Z"
   },
   {
    "duration": 108,
    "start_time": "2022-12-10T07:06:28.236Z"
   },
   {
    "duration": 6,
    "start_time": "2022-12-10T07:06:28.346Z"
   },
   {
    "duration": 21,
    "start_time": "2022-12-10T07:06:28.354Z"
   },
   {
    "duration": 4803,
    "start_time": "2022-12-10T07:06:28.377Z"
   },
   {
    "duration": 12,
    "start_time": "2022-12-10T07:06:33.182Z"
   },
   {
    "duration": 20,
    "start_time": "2022-12-10T07:06:33.198Z"
   },
   {
    "duration": 28,
    "start_time": "2022-12-10T07:06:33.220Z"
   },
   {
    "duration": 704,
    "start_time": "2022-12-10T07:06:33.250Z"
   },
   {
    "duration": 3,
    "start_time": "2022-12-10T07:06:33.956Z"
   },
   {
    "duration": 5,
    "start_time": "2022-12-10T07:06:33.961Z"
   },
   {
    "duration": 5,
    "start_time": "2022-12-10T07:06:33.968Z"
   },
   {
    "duration": 4,
    "start_time": "2022-12-10T07:06:33.974Z"
   },
   {
    "duration": 6,
    "start_time": "2022-12-10T07:06:33.980Z"
   },
   {
    "duration": 10,
    "start_time": "2022-12-10T07:06:33.987Z"
   },
   {
    "duration": 3360,
    "start_time": "2022-12-10T07:06:33.999Z"
   },
   {
    "duration": 92,
    "start_time": "2022-12-10T07:06:37.360Z"
   },
   {
    "duration": 481,
    "start_time": "2022-12-10T07:06:37.454Z"
   },
   {
    "duration": 1285,
    "start_time": "2022-12-10T07:07:35.088Z"
   },
   {
    "duration": 51,
    "start_time": "2022-12-10T07:07:36.376Z"
   },
   {
    "duration": 19,
    "start_time": "2022-12-10T07:07:36.429Z"
   },
   {
    "duration": 15,
    "start_time": "2022-12-10T07:07:36.450Z"
   },
   {
    "duration": 14,
    "start_time": "2022-12-10T07:07:36.469Z"
   },
   {
    "duration": 42,
    "start_time": "2022-12-10T07:07:36.485Z"
   },
   {
    "duration": 4,
    "start_time": "2022-12-10T07:07:36.531Z"
   },
   {
    "duration": 7,
    "start_time": "2022-12-10T07:07:36.537Z"
   },
   {
    "duration": 11,
    "start_time": "2022-12-10T07:07:36.546Z"
   },
   {
    "duration": 6,
    "start_time": "2022-12-10T07:07:36.559Z"
   },
   {
    "duration": 16,
    "start_time": "2022-12-10T07:07:36.567Z"
   },
   {
    "duration": 9,
    "start_time": "2022-12-10T07:07:36.584Z"
   },
   {
    "duration": 7,
    "start_time": "2022-12-10T07:07:36.595Z"
   },
   {
    "duration": 10,
    "start_time": "2022-12-10T07:07:36.619Z"
   },
   {
    "duration": 10,
    "start_time": "2022-12-10T07:07:36.631Z"
   },
   {
    "duration": 10,
    "start_time": "2022-12-10T07:07:36.644Z"
   },
   {
    "duration": 14,
    "start_time": "2022-12-10T07:07:36.656Z"
   },
   {
    "duration": 14,
    "start_time": "2022-12-10T07:07:36.672Z"
   },
   {
    "duration": 5,
    "start_time": "2022-12-10T07:07:36.688Z"
   },
   {
    "duration": 37,
    "start_time": "2022-12-10T07:07:36.695Z"
   },
   {
    "duration": 6,
    "start_time": "2022-12-10T07:07:36.734Z"
   },
   {
    "duration": 8,
    "start_time": "2022-12-10T07:07:36.743Z"
   },
   {
    "duration": 19,
    "start_time": "2022-12-10T07:07:36.753Z"
   },
   {
    "duration": 6,
    "start_time": "2022-12-10T07:07:36.774Z"
   },
   {
    "duration": 7,
    "start_time": "2022-12-10T07:07:36.781Z"
   },
   {
    "duration": 9,
    "start_time": "2022-12-10T07:07:36.790Z"
   },
   {
    "duration": 13,
    "start_time": "2022-12-10T07:07:36.815Z"
   },
   {
    "duration": 25,
    "start_time": "2022-12-10T07:07:36.830Z"
   },
   {
    "duration": 4,
    "start_time": "2022-12-10T07:07:36.857Z"
   },
   {
    "duration": 21,
    "start_time": "2022-12-10T07:07:36.863Z"
   },
   {
    "duration": 28,
    "start_time": "2022-12-10T07:07:36.886Z"
   },
   {
    "duration": 15,
    "start_time": "2022-12-10T07:07:36.922Z"
   },
   {
    "duration": 9,
    "start_time": "2022-12-10T07:07:36.939Z"
   },
   {
    "duration": 2776,
    "start_time": "2022-12-10T07:07:36.950Z"
   },
   {
    "duration": 4,
    "start_time": "2022-12-10T07:07:39.732Z"
   },
   {
    "duration": 114,
    "start_time": "2022-12-10T07:07:39.737Z"
   },
   {
    "duration": 6,
    "start_time": "2022-12-10T07:07:39.853Z"
   },
   {
    "duration": 17,
    "start_time": "2022-12-10T07:07:39.861Z"
   },
   {
    "duration": 4628,
    "start_time": "2022-12-10T07:07:39.880Z"
   },
   {
    "duration": 21,
    "start_time": "2022-12-10T07:07:44.513Z"
   },
   {
    "duration": 5,
    "start_time": "2022-12-10T07:07:44.538Z"
   },
   {
    "duration": 14,
    "start_time": "2022-12-10T07:07:44.545Z"
   },
   {
    "duration": 734,
    "start_time": "2022-12-10T07:07:44.561Z"
   },
   {
    "duration": 3,
    "start_time": "2022-12-10T07:07:45.297Z"
   },
   {
    "duration": 13,
    "start_time": "2022-12-10T07:07:45.301Z"
   },
   {
    "duration": 14,
    "start_time": "2022-12-10T07:07:45.320Z"
   },
   {
    "duration": 7,
    "start_time": "2022-12-10T07:07:45.336Z"
   },
   {
    "duration": 6,
    "start_time": "2022-12-10T07:07:45.345Z"
   },
   {
    "duration": 11,
    "start_time": "2022-12-10T07:07:45.353Z"
   },
   {
    "duration": 3163,
    "start_time": "2022-12-10T07:07:45.365Z"
   },
   {
    "duration": 88,
    "start_time": "2022-12-10T07:07:48.530Z"
   },
   {
    "duration": 452,
    "start_time": "2022-12-10T07:07:48.620Z"
   },
   {
    "duration": 1363,
    "start_time": "2022-12-10T08:53:15.952Z"
   },
   {
    "duration": 94,
    "start_time": "2022-12-10T08:53:17.317Z"
   },
   {
    "duration": 16,
    "start_time": "2022-12-10T08:53:17.413Z"
   },
   {
    "duration": 11,
    "start_time": "2022-12-10T08:53:17.431Z"
   },
   {
    "duration": 14,
    "start_time": "2022-12-10T08:53:17.444Z"
   },
   {
    "duration": 19,
    "start_time": "2022-12-10T08:53:17.459Z"
   },
   {
    "duration": 2,
    "start_time": "2022-12-10T08:53:17.480Z"
   },
   {
    "duration": 14,
    "start_time": "2022-12-10T08:53:17.484Z"
   },
   {
    "duration": 6,
    "start_time": "2022-12-10T08:53:17.500Z"
   },
   {
    "duration": 4,
    "start_time": "2022-12-10T08:53:17.507Z"
   },
   {
    "duration": 7,
    "start_time": "2022-12-10T08:53:17.512Z"
   },
   {
    "duration": 7,
    "start_time": "2022-12-10T08:53:17.521Z"
   },
   {
    "duration": 6,
    "start_time": "2022-12-10T08:53:17.529Z"
   },
   {
    "duration": 6,
    "start_time": "2022-12-10T08:53:17.538Z"
   },
   {
    "duration": 6,
    "start_time": "2022-12-10T08:53:17.545Z"
   },
   {
    "duration": 7,
    "start_time": "2022-12-10T08:53:17.552Z"
   },
   {
    "duration": 7,
    "start_time": "2022-12-10T08:53:17.560Z"
   },
   {
    "duration": 33,
    "start_time": "2022-12-10T08:53:17.569Z"
   },
   {
    "duration": 5,
    "start_time": "2022-12-10T08:53:17.603Z"
   },
   {
    "duration": 18,
    "start_time": "2022-12-10T08:53:17.610Z"
   },
   {
    "duration": 4,
    "start_time": "2022-12-10T08:53:17.629Z"
   },
   {
    "duration": 4,
    "start_time": "2022-12-10T08:53:17.635Z"
   },
   {
    "duration": 17,
    "start_time": "2022-12-10T08:53:17.641Z"
   },
   {
    "duration": 3,
    "start_time": "2022-12-10T08:53:17.659Z"
   },
   {
    "duration": 5,
    "start_time": "2022-12-10T08:53:17.663Z"
   },
   {
    "duration": 28,
    "start_time": "2022-12-10T08:53:17.670Z"
   },
   {
    "duration": 5,
    "start_time": "2022-12-10T08:53:17.699Z"
   },
   {
    "duration": 15,
    "start_time": "2022-12-10T08:53:17.706Z"
   },
   {
    "duration": 3,
    "start_time": "2022-12-10T08:53:17.723Z"
   },
   {
    "duration": 15,
    "start_time": "2022-12-10T08:53:17.727Z"
   },
   {
    "duration": 12,
    "start_time": "2022-12-10T08:53:17.743Z"
   },
   {
    "duration": 8,
    "start_time": "2022-12-10T08:53:17.756Z"
   },
   {
    "duration": 5,
    "start_time": "2022-12-10T08:53:17.766Z"
   },
   {
    "duration": 805,
    "start_time": "2022-12-10T08:53:17.797Z"
   },
   {
    "duration": 93,
    "start_time": "2022-12-10T08:53:18.605Z"
   },
   {
    "duration": 15,
    "start_time": "2022-12-10T08:53:18.700Z"
   },
   {
    "duration": 5,
    "start_time": "2022-12-10T08:53:18.716Z"
   },
   {
    "duration": 18,
    "start_time": "2022-12-10T08:53:18.722Z"
   },
   {
    "duration": 957,
    "start_time": "2022-12-10T08:53:18.741Z"
   },
   {
    "duration": 11,
    "start_time": "2022-12-10T08:53:19.700Z"
   },
   {
    "duration": 30,
    "start_time": "2022-12-10T08:53:19.714Z"
   },
   {
    "duration": 51,
    "start_time": "2022-12-10T08:53:19.745Z"
   },
   {
    "duration": 427,
    "start_time": "2022-12-10T08:53:19.798Z"
   },
   {
    "duration": 3,
    "start_time": "2022-12-10T08:53:20.226Z"
   },
   {
    "duration": 20,
    "start_time": "2022-12-10T08:53:20.230Z"
   },
   {
    "duration": 13,
    "start_time": "2022-12-10T08:53:20.251Z"
   },
   {
    "duration": 21,
    "start_time": "2022-12-10T08:53:20.266Z"
   },
   {
    "duration": 16,
    "start_time": "2022-12-10T08:53:20.289Z"
   },
   {
    "duration": 33,
    "start_time": "2022-12-10T08:53:20.307Z"
   },
   {
    "duration": 671,
    "start_time": "2022-12-10T08:53:20.342Z"
   },
   {
    "duration": 83,
    "start_time": "2022-12-10T08:53:21.014Z"
   },
   {
    "duration": 427,
    "start_time": "2022-12-10T08:53:21.099Z"
   },
   {
    "duration": 7,
    "start_time": "2022-12-10T09:03:29.121Z"
   },
   {
    "duration": 5,
    "start_time": "2022-12-10T09:06:50.980Z"
   },
   {
    "duration": 134,
    "start_time": "2022-12-10T09:06:55.761Z"
   },
   {
    "duration": 5,
    "start_time": "2022-12-10T09:12:13.819Z"
   },
   {
    "duration": 5,
    "start_time": "2022-12-10T09:12:51.489Z"
   },
   {
    "duration": 24795,
    "start_time": "2022-12-10T09:12:52.610Z"
   },
   {
    "duration": 1437,
    "start_time": "2022-12-11T09:51:22.596Z"
   },
   {
    "duration": 92,
    "start_time": "2022-12-11T09:51:24.035Z"
   },
   {
    "duration": 21,
    "start_time": "2022-12-11T09:51:24.129Z"
   },
   {
    "duration": 15,
    "start_time": "2022-12-11T09:51:24.152Z"
   },
   {
    "duration": 15,
    "start_time": "2022-12-11T09:51:24.170Z"
   },
   {
    "duration": 35,
    "start_time": "2022-12-11T09:51:24.187Z"
   },
   {
    "duration": 2,
    "start_time": "2022-12-11T09:51:24.224Z"
   },
   {
    "duration": 5,
    "start_time": "2022-12-11T09:51:24.228Z"
   },
   {
    "duration": 7,
    "start_time": "2022-12-11T09:51:24.234Z"
   },
   {
    "duration": 5,
    "start_time": "2022-12-11T09:51:24.242Z"
   },
   {
    "duration": 6,
    "start_time": "2022-12-11T09:51:24.248Z"
   },
   {
    "duration": 5,
    "start_time": "2022-12-11T09:51:24.255Z"
   },
   {
    "duration": 6,
    "start_time": "2022-12-11T09:51:24.261Z"
   },
   {
    "duration": 4,
    "start_time": "2022-12-11T09:51:24.270Z"
   },
   {
    "duration": 11,
    "start_time": "2022-12-11T09:51:24.275Z"
   },
   {
    "duration": 8,
    "start_time": "2022-12-11T09:51:24.287Z"
   },
   {
    "duration": 6,
    "start_time": "2022-12-11T09:51:24.321Z"
   },
   {
    "duration": 7,
    "start_time": "2022-12-11T09:51:24.329Z"
   },
   {
    "duration": 5,
    "start_time": "2022-12-11T09:51:24.337Z"
   },
   {
    "duration": 17,
    "start_time": "2022-12-11T09:51:24.343Z"
   },
   {
    "duration": 4,
    "start_time": "2022-12-11T09:51:24.361Z"
   },
   {
    "duration": 5,
    "start_time": "2022-12-11T09:51:24.366Z"
   },
   {
    "duration": 15,
    "start_time": "2022-12-11T09:51:24.373Z"
   },
   {
    "duration": 31,
    "start_time": "2022-12-11T09:51:24.390Z"
   },
   {
    "duration": 4,
    "start_time": "2022-12-11T09:51:24.423Z"
   },
   {
    "duration": 13,
    "start_time": "2022-12-11T09:51:24.429Z"
   },
   {
    "duration": 13,
    "start_time": "2022-12-11T09:51:24.444Z"
   },
   {
    "duration": 22,
    "start_time": "2022-12-11T09:51:24.458Z"
   },
   {
    "duration": 4,
    "start_time": "2022-12-11T09:51:24.482Z"
   },
   {
    "duration": 20,
    "start_time": "2022-12-11T09:51:24.488Z"
   },
   {
    "duration": 16,
    "start_time": "2022-12-11T09:51:24.510Z"
   },
   {
    "duration": 10,
    "start_time": "2022-12-11T09:51:24.528Z"
   },
   {
    "duration": 5,
    "start_time": "2022-12-11T09:51:24.540Z"
   },
   {
    "duration": 879,
    "start_time": "2022-12-11T09:51:24.547Z"
   },
   {
    "duration": 9,
    "start_time": "2022-12-11T09:51:25.428Z"
   },
   {
    "duration": 40,
    "start_time": "2022-12-11T09:51:25.521Z"
   },
   {
    "duration": 23,
    "start_time": "2022-12-11T09:51:25.563Z"
   },
   {
    "duration": 40,
    "start_time": "2022-12-11T09:51:25.587Z"
   },
   {
    "duration": 928,
    "start_time": "2022-12-11T09:51:25.629Z"
   },
   {
    "duration": 11,
    "start_time": "2022-12-11T09:51:26.559Z"
   },
   {
    "duration": 5,
    "start_time": "2022-12-11T09:51:26.574Z"
   },
   {
    "duration": 15,
    "start_time": "2022-12-11T09:51:26.580Z"
   },
   {
    "duration": 402,
    "start_time": "2022-12-11T09:51:26.597Z"
   },
   {
    "duration": 3,
    "start_time": "2022-12-11T09:51:27.000Z"
   },
   {
    "duration": 12,
    "start_time": "2022-12-11T09:51:27.004Z"
   },
   {
    "duration": 5,
    "start_time": "2022-12-11T09:51:27.018Z"
   },
   {
    "duration": 7,
    "start_time": "2022-12-11T09:51:27.025Z"
   },
   {
    "duration": 16,
    "start_time": "2022-12-11T09:51:27.034Z"
   },
   {
    "duration": 24472,
    "start_time": "2022-12-11T09:51:27.052Z"
   },
   {
    "duration": 659,
    "start_time": "2022-12-11T09:51:51.526Z"
   },
   {
    "duration": 80,
    "start_time": "2022-12-11T09:51:52.186Z"
   },
   {
    "duration": 447,
    "start_time": "2022-12-11T09:51:52.267Z"
   },
   {
    "duration": 761,
    "start_time": "2022-12-11T09:52:55.165Z"
   },
   {
    "duration": 86,
    "start_time": "2022-12-11T09:53:00.021Z"
   },
   {
    "duration": 49,
    "start_time": "2022-12-11T09:54:02.060Z"
   },
   {
    "duration": 6,
    "start_time": "2022-12-11T09:56:48.357Z"
   },
   {
    "duration": 96378,
    "start_time": "2022-12-11T09:56:48.878Z"
   },
   {
    "duration": 5,
    "start_time": "2022-12-11T09:58:57.715Z"
   },
   {
    "duration": 94223,
    "start_time": "2022-12-11T09:58:58.052Z"
   },
   {
    "duration": 4,
    "start_time": "2022-12-11T10:18:14.939Z"
   },
   {
    "duration": 112,
    "start_time": "2022-12-11T10:18:32.918Z"
   },
   {
    "duration": 8,
    "start_time": "2022-12-11T10:18:38.679Z"
   },
   {
    "duration": 11,
    "start_time": "2022-12-11T10:18:45.416Z"
   },
   {
    "duration": 4,
    "start_time": "2022-12-11T10:20:10.833Z"
   },
   {
    "duration": 9,
    "start_time": "2022-12-11T10:22:41.416Z"
   },
   {
    "duration": 11,
    "start_time": "2022-12-11T10:22:57.953Z"
   },
   {
    "duration": 9,
    "start_time": "2022-12-11T10:23:33.174Z"
   },
   {
    "duration": 4,
    "start_time": "2022-12-11T10:23:38.520Z"
   },
   {
    "duration": 6,
    "start_time": "2022-12-11T10:23:42.487Z"
   },
   {
    "duration": 3,
    "start_time": "2022-12-11T10:23:42.687Z"
   },
   {
    "duration": 3,
    "start_time": "2022-12-11T10:23:51.728Z"
   },
   {
    "duration": 3,
    "start_time": "2022-12-11T10:23:52.160Z"
   },
   {
    "duration": 3,
    "start_time": "2022-12-11T10:23:52.535Z"
   },
   {
    "duration": 4,
    "start_time": "2022-12-11T10:23:54.783Z"
   },
   {
    "duration": 5,
    "start_time": "2022-12-11T10:23:56.689Z"
   },
   {
    "duration": 4,
    "start_time": "2022-12-11T10:23:58.688Z"
   },
   {
    "duration": 3,
    "start_time": "2022-12-11T10:24:10.410Z"
   },
   {
    "duration": 4,
    "start_time": "2022-12-11T10:24:10.777Z"
   },
   {
    "duration": 3,
    "start_time": "2022-12-11T10:24:12.585Z"
   },
   {
    "duration": 3,
    "start_time": "2022-12-11T10:24:12.817Z"
   },
   {
    "duration": 4,
    "start_time": "2022-12-11T10:30:11.544Z"
   },
   {
    "duration": 3,
    "start_time": "2022-12-11T10:30:15.688Z"
   },
   {
    "duration": 4,
    "start_time": "2022-12-11T10:30:18.608Z"
   },
   {
    "duration": 2,
    "start_time": "2022-12-11T10:30:28.945Z"
   },
   {
    "duration": 1293,
    "start_time": "2022-12-11T10:38:07.211Z"
   },
   {
    "duration": 39,
    "start_time": "2022-12-11T10:38:08.506Z"
   },
   {
    "duration": 15,
    "start_time": "2022-12-11T10:38:08.547Z"
   },
   {
    "duration": 12,
    "start_time": "2022-12-11T10:38:08.564Z"
   },
   {
    "duration": 22,
    "start_time": "2022-12-11T10:38:08.578Z"
   },
   {
    "duration": 20,
    "start_time": "2022-12-11T10:38:08.602Z"
   },
   {
    "duration": 2,
    "start_time": "2022-12-11T10:38:08.623Z"
   },
   {
    "duration": 5,
    "start_time": "2022-12-11T10:38:08.626Z"
   },
   {
    "duration": 8,
    "start_time": "2022-12-11T10:38:08.633Z"
   },
   {
    "duration": 13,
    "start_time": "2022-12-11T10:38:08.642Z"
   },
   {
    "duration": 5,
    "start_time": "2022-12-11T10:38:08.656Z"
   },
   {
    "duration": 12,
    "start_time": "2022-12-11T10:38:08.662Z"
   },
   {
    "duration": 4,
    "start_time": "2022-12-11T10:38:08.675Z"
   },
   {
    "duration": 7,
    "start_time": "2022-12-11T10:38:08.682Z"
   },
   {
    "duration": 8,
    "start_time": "2022-12-11T10:38:08.690Z"
   },
   {
    "duration": 5,
    "start_time": "2022-12-11T10:38:08.699Z"
   },
   {
    "duration": 5,
    "start_time": "2022-12-11T10:38:08.720Z"
   },
   {
    "duration": 8,
    "start_time": "2022-12-11T10:38:08.726Z"
   },
   {
    "duration": 8,
    "start_time": "2022-12-11T10:38:08.735Z"
   },
   {
    "duration": 5,
    "start_time": "2022-12-11T10:38:08.744Z"
   },
   {
    "duration": 16,
    "start_time": "2022-12-11T10:38:08.750Z"
   },
   {
    "duration": 3,
    "start_time": "2022-12-11T10:38:08.768Z"
   },
   {
    "duration": 5,
    "start_time": "2022-12-11T10:38:08.772Z"
   },
   {
    "duration": 14,
    "start_time": "2022-12-11T10:38:08.779Z"
   },
   {
    "duration": 28,
    "start_time": "2022-12-11T10:38:08.794Z"
   },
   {
    "duration": 7,
    "start_time": "2022-12-11T10:38:08.824Z"
   },
   {
    "duration": 9,
    "start_time": "2022-12-11T10:38:08.833Z"
   },
   {
    "duration": 4,
    "start_time": "2022-12-11T10:38:08.843Z"
   },
   {
    "duration": 17,
    "start_time": "2022-12-11T10:38:08.849Z"
   },
   {
    "duration": 3,
    "start_time": "2022-12-11T10:38:08.867Z"
   },
   {
    "duration": 15,
    "start_time": "2022-12-11T10:38:08.872Z"
   },
   {
    "duration": 12,
    "start_time": "2022-12-11T10:38:08.889Z"
   },
   {
    "duration": 23,
    "start_time": "2022-12-11T10:38:08.902Z"
   },
   {
    "duration": 6,
    "start_time": "2022-12-11T10:38:08.927Z"
   },
   {
    "duration": 795,
    "start_time": "2022-12-11T10:38:08.935Z"
   },
   {
    "duration": 90,
    "start_time": "2022-12-11T10:38:09.732Z"
   },
   {
    "duration": 117,
    "start_time": "2022-12-11T10:38:09.824Z"
   },
   {
    "duration": 5,
    "start_time": "2022-12-11T10:38:09.942Z"
   },
   {
    "duration": 25,
    "start_time": "2022-12-11T10:38:09.949Z"
   },
   {
    "duration": 948,
    "start_time": "2022-12-11T10:38:09.976Z"
   },
   {
    "duration": 11,
    "start_time": "2022-12-11T10:38:10.927Z"
   },
   {
    "duration": 16,
    "start_time": "2022-12-11T10:38:10.939Z"
   },
   {
    "duration": 22,
    "start_time": "2022-12-11T10:38:10.956Z"
   },
   {
    "duration": 405,
    "start_time": "2022-12-11T10:38:10.980Z"
   },
   {
    "duration": 2,
    "start_time": "2022-12-11T10:38:11.387Z"
   },
   {
    "duration": 7,
    "start_time": "2022-12-11T10:38:11.391Z"
   },
   {
    "duration": 14,
    "start_time": "2022-12-11T10:38:11.400Z"
   },
   {
    "duration": 6,
    "start_time": "2022-12-11T10:38:11.416Z"
   },
   {
    "duration": 6,
    "start_time": "2022-12-11T10:38:11.424Z"
   },
   {
    "duration": 94536,
    "start_time": "2022-12-11T10:38:11.432Z"
   },
   {
    "duration": 728,
    "start_time": "2022-12-11T10:39:45.969Z"
   },
   {
    "duration": 84,
    "start_time": "2022-12-11T10:39:46.699Z"
   },
   {
    "duration": 465,
    "start_time": "2022-12-11T10:39:46.785Z"
   },
   {
    "duration": 4,
    "start_time": "2022-12-11T10:39:47.252Z"
   },
   {
    "duration": 1516,
    "start_time": "2022-12-12T10:52:35.674Z"
   },
   {
    "duration": 164,
    "start_time": "2022-12-12T10:52:37.192Z"
   },
   {
    "duration": 18,
    "start_time": "2022-12-12T10:52:37.358Z"
   },
   {
    "duration": 15,
    "start_time": "2022-12-12T10:52:37.378Z"
   },
   {
    "duration": 19,
    "start_time": "2022-12-12T10:52:37.399Z"
   },
   {
    "duration": 21,
    "start_time": "2022-12-12T10:52:37.419Z"
   },
   {
    "duration": 2,
    "start_time": "2022-12-12T10:52:37.442Z"
   },
   {
    "duration": 8,
    "start_time": "2022-12-12T10:52:37.446Z"
   },
   {
    "duration": 9,
    "start_time": "2022-12-12T10:52:37.455Z"
   },
   {
    "duration": 2,
    "start_time": "2022-12-12T10:52:37.479Z"
   },
   {
    "duration": 8,
    "start_time": "2022-12-12T10:52:37.482Z"
   },
   {
    "duration": 8,
    "start_time": "2022-12-12T10:52:37.492Z"
   },
   {
    "duration": 6,
    "start_time": "2022-12-12T10:52:37.501Z"
   },
   {
    "duration": 7,
    "start_time": "2022-12-12T10:52:37.508Z"
   },
   {
    "duration": 7,
    "start_time": "2022-12-12T10:52:37.517Z"
   },
   {
    "duration": 8,
    "start_time": "2022-12-12T10:52:37.525Z"
   },
   {
    "duration": 10,
    "start_time": "2022-12-12T10:52:37.535Z"
   },
   {
    "duration": 32,
    "start_time": "2022-12-12T10:52:37.547Z"
   },
   {
    "duration": 8,
    "start_time": "2022-12-12T10:52:37.581Z"
   },
   {
    "duration": 18,
    "start_time": "2022-12-12T10:52:37.591Z"
   },
   {
    "duration": 4,
    "start_time": "2022-12-12T10:52:37.611Z"
   },
   {
    "duration": 5,
    "start_time": "2022-12-12T10:52:37.616Z"
   },
   {
    "duration": 17,
    "start_time": "2022-12-12T10:52:37.623Z"
   },
   {
    "duration": 3,
    "start_time": "2022-12-12T10:52:37.641Z"
   },
   {
    "duration": 4,
    "start_time": "2022-12-12T10:52:37.646Z"
   },
   {
    "duration": 4,
    "start_time": "2022-12-12T10:52:37.679Z"
   },
   {
    "duration": 19,
    "start_time": "2022-12-12T10:52:37.685Z"
   },
   {
    "duration": 51,
    "start_time": "2022-12-12T10:52:37.708Z"
   },
   {
    "duration": 70,
    "start_time": "2022-12-12T10:52:37.761Z"
   },
   {
    "duration": 51,
    "start_time": "2022-12-12T10:52:37.833Z"
   },
   {
    "duration": 52,
    "start_time": "2022-12-12T10:52:37.885Z"
   },
   {
    "duration": 28,
    "start_time": "2022-12-12T10:52:37.939Z"
   },
   {
    "duration": 31,
    "start_time": "2022-12-12T10:52:37.969Z"
   },
   {
    "duration": 883,
    "start_time": "2022-12-12T10:52:38.001Z"
   },
   {
    "duration": 92,
    "start_time": "2022-12-12T10:52:38.886Z"
   },
   {
    "duration": 110,
    "start_time": "2022-12-12T10:52:38.980Z"
   },
   {
    "duration": 8,
    "start_time": "2022-12-12T10:52:39.093Z"
   },
   {
    "duration": 55,
    "start_time": "2022-12-12T10:52:39.102Z"
   },
   {
    "duration": 1016,
    "start_time": "2022-12-12T10:52:39.158Z"
   },
   {
    "duration": 11,
    "start_time": "2022-12-12T10:52:40.178Z"
   },
   {
    "duration": 29,
    "start_time": "2022-12-12T10:52:40.190Z"
   },
   {
    "duration": 57,
    "start_time": "2022-12-12T10:52:40.221Z"
   },
   {
    "duration": 459,
    "start_time": "2022-12-12T10:52:40.280Z"
   },
   {
    "duration": 3,
    "start_time": "2022-12-12T10:52:40.741Z"
   },
   {
    "duration": 27,
    "start_time": "2022-12-12T10:52:40.745Z"
   },
   {
    "duration": 33,
    "start_time": "2022-12-12T10:52:40.774Z"
   },
   {
    "duration": 47,
    "start_time": "2022-12-12T10:52:40.808Z"
   },
   {
    "duration": 23,
    "start_time": "2022-12-12T10:52:40.857Z"
   },
   {
    "duration": 47,
    "start_time": "2022-12-12T10:52:40.881Z"
   },
   {
    "duration": 777,
    "start_time": "2022-12-12T10:52:40.930Z"
   },
   {
    "duration": 85,
    "start_time": "2022-12-12T10:52:41.708Z"
   },
   {
    "duration": 464,
    "start_time": "2022-12-12T10:52:41.795Z"
   },
   {
    "duration": 94502,
    "start_time": "2022-12-12T10:53:07.007Z"
   },
   {
    "duration": 739,
    "start_time": "2022-12-12T10:55:00.241Z"
   },
   {
    "duration": 81,
    "start_time": "2022-12-12T10:55:16.748Z"
   },
   {
    "duration": 822,
    "start_time": "2022-12-12T10:55:27.037Z"
   },
   {
    "duration": 625,
    "start_time": "2022-12-12T10:55:38.914Z"
   },
   {
    "duration": 79,
    "start_time": "2022-12-12T10:55:45.751Z"
   },
   {
    "duration": 9,
    "start_time": "2023-07-24T08:26:28.793Z"
   }
  ],
  "kernelspec": {
   "display_name": "Python 3 (ipykernel)",
   "language": "python",
   "name": "python3"
  },
  "language_info": {
   "codemirror_mode": {
    "name": "ipython",
    "version": 3
   },
   "file_extension": ".py",
   "mimetype": "text/x-python",
   "name": "python",
   "nbconvert_exporter": "python",
   "pygments_lexer": "ipython3",
   "version": "3.9.12"
  },
  "toc": {
   "base_numbering": 1,
   "nav_menu": {},
   "number_sections": true,
   "sideBar": true,
   "skip_h1_title": true,
   "title_cell": "Содержание",
   "title_sidebar": "Contents",
   "toc_cell": true,
   "toc_position": {
    "height": "calc(100% - 180px)",
    "left": "10px",
    "top": "150px",
    "width": "165px"
   },
   "toc_section_display": true,
   "toc_window_display": true
  }
 },
 "nbformat": 4,
 "nbformat_minor": 2
}
